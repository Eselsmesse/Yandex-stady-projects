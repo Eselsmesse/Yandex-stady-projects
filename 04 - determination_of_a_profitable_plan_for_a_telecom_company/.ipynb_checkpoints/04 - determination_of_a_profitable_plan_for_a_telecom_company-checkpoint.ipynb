{
 "cells": [
  {
   "cell_type": "markdown",
   "id": "c2478357",
   "metadata": {},
   "source": [
    "# Определение прибыльного тарифного плана для оператора связи\n",
    "\n",
    "Вы аналитик компании «Мегалайн» — федерального оператора сотовой связи. Клиентам предлагают два тарифных плана: «Смарт» и «Ультра». Чтобы скорректировать рекламный бюджет, коммерческий департамент хочет понять, какой тариф приносит больше денег.\n",
    "Вам предстоит сделать предварительный анализ тарифов на небольшой выборке клиентов. В вашем распоряжении данные 500 пользователей «Мегалайна»: кто они, откуда, каким тарифом пользуются, сколько звонков и сообщений каждый отправил за 2018 год. Нужно проанализировать поведение клиентов и сделать вывод — какой тариф лучше.\n"
   ]
  },
  {
   "cell_type": "markdown",
   "id": "8ac0932e",
   "metadata": {},
   "source": [
    "## Подготовка данных"
   ]
  },
  {
   "cell_type": "code",
   "execution_count": 74,
   "id": "63a38619",
   "metadata": {},
   "outputs": [],
   "source": [
    "# импорт библиотек\n",
    "import pandas as pd\n",
    "import numpy as np\n",
    "import math\n",
    "from scipy import stats as st\n",
    "import matplotlib.pyplot as plt\n",
    "import datetime\n",
    "import seaborn as sns"
   ]
  },
  {
   "cell_type": "code",
   "execution_count": 75,
   "id": "8ed8e778",
   "metadata": {},
   "outputs": [],
   "source": [
    "# считывание данных\n",
    "try:\n",
    "    users_data = pd.read_csv('users.csv', sep=\",\")\n",
    "    internet_data = pd.read_csv('internet.csv', sep=\",\")\n",
    "    messages_data = pd.read_csv('messages.csv', sep=\",\")\n",
    "    calls_data = pd.read_csv('calls.csv', sep=\",\")\n",
    "    tariffs_data = pd.read_csv('tariffs.csv', sep=\",\")\n",
    "except:\n",
    "    users_data = pd.read_csv('/datasets/users.csv', sep=\",\")\n",
    "    internet_data = pd.read_csv('/datasets/internet.csv', sep=\",\")\n",
    "    messages_data = pd.read_csv('/datasets/messages.csv', sep=\",\")\n",
    "    calls_data = pd.read_csv('/datasets/calls.csv', sep=\",\")\n",
    "    tariffs_data = pd.read_csv('/datasets/tariffs.csv', sep=\",\")"
   ]
  },
  {
   "cell_type": "code",
   "execution_count": 76,
   "id": "732fb069",
   "metadata": {},
   "outputs": [],
   "source": [
    "# функция для первичного анализа данных\n",
    "def data_info(data):\n",
    "    print('ОБЩАЯ ИНФОРМАЦИЯ', sep='\\n')\n",
    "    print(data.info()) \n",
    "    print('ПРОПУСКИ В ДАННЫХ', '', data.isna().sum(), '', sep='\\n')\n",
    "    print('ПЕРВЫЕ 5 ЗАПИСЕЙ', sep='\\n')\n",
    "    display(data.head(5))\n",
    "    "
   ]
  },
  {
   "cell_type": "code",
   "execution_count": 77,
   "id": "cb35605d",
   "metadata": {
    "scrolled": true
   },
   "outputs": [
    {
     "name": "stdout",
     "output_type": "stream",
     "text": [
      "ОБЩАЯ ИНФОРМАЦИЯ\n",
      "<class 'pandas.core.frame.DataFrame'>\n",
      "RangeIndex: 500 entries, 0 to 499\n",
      "Data columns (total 8 columns):\n",
      " #   Column      Non-Null Count  Dtype \n",
      "---  ------      --------------  ----- \n",
      " 0   user_id     500 non-null    int64 \n",
      " 1   age         500 non-null    int64 \n",
      " 2   churn_date  38 non-null     object\n",
      " 3   city        500 non-null    object\n",
      " 4   first_name  500 non-null    object\n",
      " 5   last_name   500 non-null    object\n",
      " 6   reg_date    500 non-null    object\n",
      " 7   tariff      500 non-null    object\n",
      "dtypes: int64(2), object(6)\n",
      "memory usage: 31.4+ KB\n",
      "None\n",
      "ПРОПУСКИ В ДАННЫХ\n",
      "\n",
      "user_id         0\n",
      "age             0\n",
      "churn_date    462\n",
      "city            0\n",
      "first_name      0\n",
      "last_name       0\n",
      "reg_date        0\n",
      "tariff          0\n",
      "dtype: int64\n",
      "\n",
      "ПЕРВЫЕ 5 ЗАПИСЕЙ\n"
     ]
    },
    {
     "data": {
      "text/html": [
       "<div>\n",
       "<style scoped>\n",
       "    .dataframe tbody tr th:only-of-type {\n",
       "        vertical-align: middle;\n",
       "    }\n",
       "\n",
       "    .dataframe tbody tr th {\n",
       "        vertical-align: top;\n",
       "    }\n",
       "\n",
       "    .dataframe thead th {\n",
       "        text-align: right;\n",
       "    }\n",
       "</style>\n",
       "<table border=\"1\" class=\"dataframe\">\n",
       "  <thead>\n",
       "    <tr style=\"text-align: right;\">\n",
       "      <th></th>\n",
       "      <th>user_id</th>\n",
       "      <th>age</th>\n",
       "      <th>churn_date</th>\n",
       "      <th>city</th>\n",
       "      <th>first_name</th>\n",
       "      <th>last_name</th>\n",
       "      <th>reg_date</th>\n",
       "      <th>tariff</th>\n",
       "    </tr>\n",
       "  </thead>\n",
       "  <tbody>\n",
       "    <tr>\n",
       "      <th>0</th>\n",
       "      <td>1000</td>\n",
       "      <td>52</td>\n",
       "      <td>NaN</td>\n",
       "      <td>Краснодар</td>\n",
       "      <td>Рафаил</td>\n",
       "      <td>Верещагин</td>\n",
       "      <td>2018-05-25</td>\n",
       "      <td>ultra</td>\n",
       "    </tr>\n",
       "    <tr>\n",
       "      <th>1</th>\n",
       "      <td>1001</td>\n",
       "      <td>41</td>\n",
       "      <td>NaN</td>\n",
       "      <td>Москва</td>\n",
       "      <td>Иван</td>\n",
       "      <td>Ежов</td>\n",
       "      <td>2018-11-01</td>\n",
       "      <td>smart</td>\n",
       "    </tr>\n",
       "    <tr>\n",
       "      <th>2</th>\n",
       "      <td>1002</td>\n",
       "      <td>59</td>\n",
       "      <td>NaN</td>\n",
       "      <td>Стерлитамак</td>\n",
       "      <td>Евгений</td>\n",
       "      <td>Абрамович</td>\n",
       "      <td>2018-06-17</td>\n",
       "      <td>smart</td>\n",
       "    </tr>\n",
       "    <tr>\n",
       "      <th>3</th>\n",
       "      <td>1003</td>\n",
       "      <td>23</td>\n",
       "      <td>NaN</td>\n",
       "      <td>Москва</td>\n",
       "      <td>Белла</td>\n",
       "      <td>Белякова</td>\n",
       "      <td>2018-08-17</td>\n",
       "      <td>ultra</td>\n",
       "    </tr>\n",
       "    <tr>\n",
       "      <th>4</th>\n",
       "      <td>1004</td>\n",
       "      <td>68</td>\n",
       "      <td>NaN</td>\n",
       "      <td>Новокузнецк</td>\n",
       "      <td>Татьяна</td>\n",
       "      <td>Авдеенко</td>\n",
       "      <td>2018-05-14</td>\n",
       "      <td>ultra</td>\n",
       "    </tr>\n",
       "  </tbody>\n",
       "</table>\n",
       "</div>"
      ],
      "text/plain": [
       "   user_id  age churn_date         city first_name  last_name    reg_date  \\\n",
       "0     1000   52        NaN    Краснодар     Рафаил  Верещагин  2018-05-25   \n",
       "1     1001   41        NaN       Москва       Иван       Ежов  2018-11-01   \n",
       "2     1002   59        NaN  Стерлитамак    Евгений  Абрамович  2018-06-17   \n",
       "3     1003   23        NaN       Москва      Белла   Белякова  2018-08-17   \n",
       "4     1004   68        NaN  Новокузнецк    Татьяна   Авдеенко  2018-05-14   \n",
       "\n",
       "  tariff  \n",
       "0  ultra  \n",
       "1  smart  \n",
       "2  smart  \n",
       "3  ultra  \n",
       "4  ultra  "
      ]
     },
     "metadata": {},
     "output_type": "display_data"
    }
   ],
   "source": [
    "# информация по датасету users_data\n",
    "data_info(users_data)"
   ]
  },
  {
   "cell_type": "code",
   "execution_count": 78,
   "id": "660c3522",
   "metadata": {
    "scrolled": true
   },
   "outputs": [
    {
     "name": "stdout",
     "output_type": "stream",
     "text": [
      "ОБЩАЯ ИНФОРМАЦИЯ\n",
      "<class 'pandas.core.frame.DataFrame'>\n",
      "RangeIndex: 149396 entries, 0 to 149395\n",
      "Data columns (total 5 columns):\n",
      " #   Column        Non-Null Count   Dtype  \n",
      "---  ------        --------------   -----  \n",
      " 0   Unnamed: 0    149396 non-null  int64  \n",
      " 1   id            149396 non-null  object \n",
      " 2   mb_used       149396 non-null  float64\n",
      " 3   session_date  149396 non-null  object \n",
      " 4   user_id       149396 non-null  int64  \n",
      "dtypes: float64(1), int64(2), object(2)\n",
      "memory usage: 5.7+ MB\n",
      "None\n",
      "ПРОПУСКИ В ДАННЫХ\n",
      "\n",
      "Unnamed: 0      0\n",
      "id              0\n",
      "mb_used         0\n",
      "session_date    0\n",
      "user_id         0\n",
      "dtype: int64\n",
      "\n",
      "ПЕРВЫЕ 5 ЗАПИСЕЙ\n"
     ]
    },
    {
     "data": {
      "text/html": [
       "<div>\n",
       "<style scoped>\n",
       "    .dataframe tbody tr th:only-of-type {\n",
       "        vertical-align: middle;\n",
       "    }\n",
       "\n",
       "    .dataframe tbody tr th {\n",
       "        vertical-align: top;\n",
       "    }\n",
       "\n",
       "    .dataframe thead th {\n",
       "        text-align: right;\n",
       "    }\n",
       "</style>\n",
       "<table border=\"1\" class=\"dataframe\">\n",
       "  <thead>\n",
       "    <tr style=\"text-align: right;\">\n",
       "      <th></th>\n",
       "      <th>Unnamed: 0</th>\n",
       "      <th>id</th>\n",
       "      <th>mb_used</th>\n",
       "      <th>session_date</th>\n",
       "      <th>user_id</th>\n",
       "    </tr>\n",
       "  </thead>\n",
       "  <tbody>\n",
       "    <tr>\n",
       "      <th>0</th>\n",
       "      <td>0</td>\n",
       "      <td>1000_0</td>\n",
       "      <td>112.95</td>\n",
       "      <td>2018-11-25</td>\n",
       "      <td>1000</td>\n",
       "    </tr>\n",
       "    <tr>\n",
       "      <th>1</th>\n",
       "      <td>1</td>\n",
       "      <td>1000_1</td>\n",
       "      <td>1052.81</td>\n",
       "      <td>2018-09-07</td>\n",
       "      <td>1000</td>\n",
       "    </tr>\n",
       "    <tr>\n",
       "      <th>2</th>\n",
       "      <td>2</td>\n",
       "      <td>1000_2</td>\n",
       "      <td>1197.26</td>\n",
       "      <td>2018-06-25</td>\n",
       "      <td>1000</td>\n",
       "    </tr>\n",
       "    <tr>\n",
       "      <th>3</th>\n",
       "      <td>3</td>\n",
       "      <td>1000_3</td>\n",
       "      <td>550.27</td>\n",
       "      <td>2018-08-22</td>\n",
       "      <td>1000</td>\n",
       "    </tr>\n",
       "    <tr>\n",
       "      <th>4</th>\n",
       "      <td>4</td>\n",
       "      <td>1000_4</td>\n",
       "      <td>302.56</td>\n",
       "      <td>2018-09-24</td>\n",
       "      <td>1000</td>\n",
       "    </tr>\n",
       "  </tbody>\n",
       "</table>\n",
       "</div>"
      ],
      "text/plain": [
       "   Unnamed: 0      id  mb_used session_date  user_id\n",
       "0           0  1000_0   112.95   2018-11-25     1000\n",
       "1           1  1000_1  1052.81   2018-09-07     1000\n",
       "2           2  1000_2  1197.26   2018-06-25     1000\n",
       "3           3  1000_3   550.27   2018-08-22     1000\n",
       "4           4  1000_4   302.56   2018-09-24     1000"
      ]
     },
     "metadata": {},
     "output_type": "display_data"
    }
   ],
   "source": [
    "# информация по датасету internet_data\n",
    "data_info(internet_data)"
   ]
  },
  {
   "cell_type": "code",
   "execution_count": 79,
   "id": "08437b24",
   "metadata": {
    "scrolled": true
   },
   "outputs": [
    {
     "name": "stdout",
     "output_type": "stream",
     "text": [
      "ОБЩАЯ ИНФОРМАЦИЯ\n",
      "<class 'pandas.core.frame.DataFrame'>\n",
      "RangeIndex: 123036 entries, 0 to 123035\n",
      "Data columns (total 3 columns):\n",
      " #   Column        Non-Null Count   Dtype \n",
      "---  ------        --------------   ----- \n",
      " 0   id            123036 non-null  object\n",
      " 1   message_date  123036 non-null  object\n",
      " 2   user_id       123036 non-null  int64 \n",
      "dtypes: int64(1), object(2)\n",
      "memory usage: 2.8+ MB\n",
      "None\n",
      "ПРОПУСКИ В ДАННЫХ\n",
      "\n",
      "id              0\n",
      "message_date    0\n",
      "user_id         0\n",
      "dtype: int64\n",
      "\n",
      "ПЕРВЫЕ 5 ЗАПИСЕЙ\n"
     ]
    },
    {
     "data": {
      "text/html": [
       "<div>\n",
       "<style scoped>\n",
       "    .dataframe tbody tr th:only-of-type {\n",
       "        vertical-align: middle;\n",
       "    }\n",
       "\n",
       "    .dataframe tbody tr th {\n",
       "        vertical-align: top;\n",
       "    }\n",
       "\n",
       "    .dataframe thead th {\n",
       "        text-align: right;\n",
       "    }\n",
       "</style>\n",
       "<table border=\"1\" class=\"dataframe\">\n",
       "  <thead>\n",
       "    <tr style=\"text-align: right;\">\n",
       "      <th></th>\n",
       "      <th>id</th>\n",
       "      <th>message_date</th>\n",
       "      <th>user_id</th>\n",
       "    </tr>\n",
       "  </thead>\n",
       "  <tbody>\n",
       "    <tr>\n",
       "      <th>0</th>\n",
       "      <td>1000_0</td>\n",
       "      <td>2018-06-27</td>\n",
       "      <td>1000</td>\n",
       "    </tr>\n",
       "    <tr>\n",
       "      <th>1</th>\n",
       "      <td>1000_1</td>\n",
       "      <td>2018-10-08</td>\n",
       "      <td>1000</td>\n",
       "    </tr>\n",
       "    <tr>\n",
       "      <th>2</th>\n",
       "      <td>1000_2</td>\n",
       "      <td>2018-08-04</td>\n",
       "      <td>1000</td>\n",
       "    </tr>\n",
       "    <tr>\n",
       "      <th>3</th>\n",
       "      <td>1000_3</td>\n",
       "      <td>2018-06-16</td>\n",
       "      <td>1000</td>\n",
       "    </tr>\n",
       "    <tr>\n",
       "      <th>4</th>\n",
       "      <td>1000_4</td>\n",
       "      <td>2018-12-05</td>\n",
       "      <td>1000</td>\n",
       "    </tr>\n",
       "  </tbody>\n",
       "</table>\n",
       "</div>"
      ],
      "text/plain": [
       "       id message_date  user_id\n",
       "0  1000_0   2018-06-27     1000\n",
       "1  1000_1   2018-10-08     1000\n",
       "2  1000_2   2018-08-04     1000\n",
       "3  1000_3   2018-06-16     1000\n",
       "4  1000_4   2018-12-05     1000"
      ]
     },
     "metadata": {},
     "output_type": "display_data"
    }
   ],
   "source": [
    "# информация по датасету messages_data\n",
    "data_info(messages_data)"
   ]
  },
  {
   "cell_type": "code",
   "execution_count": 80,
   "id": "b4f7f999",
   "metadata": {
    "scrolled": true
   },
   "outputs": [
    {
     "name": "stdout",
     "output_type": "stream",
     "text": [
      "ОБЩАЯ ИНФОРМАЦИЯ\n",
      "<class 'pandas.core.frame.DataFrame'>\n",
      "RangeIndex: 202607 entries, 0 to 202606\n",
      "Data columns (total 4 columns):\n",
      " #   Column     Non-Null Count   Dtype  \n",
      "---  ------     --------------   -----  \n",
      " 0   id         202607 non-null  object \n",
      " 1   call_date  202607 non-null  object \n",
      " 2   duration   202607 non-null  float64\n",
      " 3   user_id    202607 non-null  int64  \n",
      "dtypes: float64(1), int64(1), object(2)\n",
      "memory usage: 6.2+ MB\n",
      "None\n",
      "ПРОПУСКИ В ДАННЫХ\n",
      "\n",
      "id           0\n",
      "call_date    0\n",
      "duration     0\n",
      "user_id      0\n",
      "dtype: int64\n",
      "\n",
      "ПЕРВЫЕ 5 ЗАПИСЕЙ\n"
     ]
    },
    {
     "data": {
      "text/html": [
       "<div>\n",
       "<style scoped>\n",
       "    .dataframe tbody tr th:only-of-type {\n",
       "        vertical-align: middle;\n",
       "    }\n",
       "\n",
       "    .dataframe tbody tr th {\n",
       "        vertical-align: top;\n",
       "    }\n",
       "\n",
       "    .dataframe thead th {\n",
       "        text-align: right;\n",
       "    }\n",
       "</style>\n",
       "<table border=\"1\" class=\"dataframe\">\n",
       "  <thead>\n",
       "    <tr style=\"text-align: right;\">\n",
       "      <th></th>\n",
       "      <th>id</th>\n",
       "      <th>call_date</th>\n",
       "      <th>duration</th>\n",
       "      <th>user_id</th>\n",
       "    </tr>\n",
       "  </thead>\n",
       "  <tbody>\n",
       "    <tr>\n",
       "      <th>0</th>\n",
       "      <td>1000_0</td>\n",
       "      <td>2018-07-25</td>\n",
       "      <td>0.00</td>\n",
       "      <td>1000</td>\n",
       "    </tr>\n",
       "    <tr>\n",
       "      <th>1</th>\n",
       "      <td>1000_1</td>\n",
       "      <td>2018-08-17</td>\n",
       "      <td>0.00</td>\n",
       "      <td>1000</td>\n",
       "    </tr>\n",
       "    <tr>\n",
       "      <th>2</th>\n",
       "      <td>1000_2</td>\n",
       "      <td>2018-06-11</td>\n",
       "      <td>2.85</td>\n",
       "      <td>1000</td>\n",
       "    </tr>\n",
       "    <tr>\n",
       "      <th>3</th>\n",
       "      <td>1000_3</td>\n",
       "      <td>2018-09-21</td>\n",
       "      <td>13.80</td>\n",
       "      <td>1000</td>\n",
       "    </tr>\n",
       "    <tr>\n",
       "      <th>4</th>\n",
       "      <td>1000_4</td>\n",
       "      <td>2018-12-15</td>\n",
       "      <td>5.18</td>\n",
       "      <td>1000</td>\n",
       "    </tr>\n",
       "  </tbody>\n",
       "</table>\n",
       "</div>"
      ],
      "text/plain": [
       "       id   call_date  duration  user_id\n",
       "0  1000_0  2018-07-25      0.00     1000\n",
       "1  1000_1  2018-08-17      0.00     1000\n",
       "2  1000_2  2018-06-11      2.85     1000\n",
       "3  1000_3  2018-09-21     13.80     1000\n",
       "4  1000_4  2018-12-15      5.18     1000"
      ]
     },
     "metadata": {},
     "output_type": "display_data"
    }
   ],
   "source": [
    "# информация по датасету calls_data\n",
    "data_info(calls_data)"
   ]
  },
  {
   "cell_type": "code",
   "execution_count": 81,
   "id": "571b5651",
   "metadata": {
    "scrolled": false
   },
   "outputs": [
    {
     "name": "stdout",
     "output_type": "stream",
     "text": [
      "ОБЩАЯ ИНФОРМАЦИЯ\n",
      "<class 'pandas.core.frame.DataFrame'>\n",
      "RangeIndex: 2 entries, 0 to 1\n",
      "Data columns (total 8 columns):\n",
      " #   Column                 Non-Null Count  Dtype \n",
      "---  ------                 --------------  ----- \n",
      " 0   messages_included      2 non-null      int64 \n",
      " 1   mb_per_month_included  2 non-null      int64 \n",
      " 2   minutes_included       2 non-null      int64 \n",
      " 3   rub_monthly_fee        2 non-null      int64 \n",
      " 4   rub_per_gb             2 non-null      int64 \n",
      " 5   rub_per_message        2 non-null      int64 \n",
      " 6   rub_per_minute         2 non-null      int64 \n",
      " 7   tariff_name            2 non-null      object\n",
      "dtypes: int64(7), object(1)\n",
      "memory usage: 256.0+ bytes\n",
      "None\n",
      "ПРОПУСКИ В ДАННЫХ\n",
      "\n",
      "messages_included        0\n",
      "mb_per_month_included    0\n",
      "minutes_included         0\n",
      "rub_monthly_fee          0\n",
      "rub_per_gb               0\n",
      "rub_per_message          0\n",
      "rub_per_minute           0\n",
      "tariff_name              0\n",
      "dtype: int64\n",
      "\n",
      "ПЕРВЫЕ 5 ЗАПИСЕЙ\n"
     ]
    },
    {
     "data": {
      "text/html": [
       "<div>\n",
       "<style scoped>\n",
       "    .dataframe tbody tr th:only-of-type {\n",
       "        vertical-align: middle;\n",
       "    }\n",
       "\n",
       "    .dataframe tbody tr th {\n",
       "        vertical-align: top;\n",
       "    }\n",
       "\n",
       "    .dataframe thead th {\n",
       "        text-align: right;\n",
       "    }\n",
       "</style>\n",
       "<table border=\"1\" class=\"dataframe\">\n",
       "  <thead>\n",
       "    <tr style=\"text-align: right;\">\n",
       "      <th></th>\n",
       "      <th>messages_included</th>\n",
       "      <th>mb_per_month_included</th>\n",
       "      <th>minutes_included</th>\n",
       "      <th>rub_monthly_fee</th>\n",
       "      <th>rub_per_gb</th>\n",
       "      <th>rub_per_message</th>\n",
       "      <th>rub_per_minute</th>\n",
       "      <th>tariff_name</th>\n",
       "    </tr>\n",
       "  </thead>\n",
       "  <tbody>\n",
       "    <tr>\n",
       "      <th>0</th>\n",
       "      <td>50</td>\n",
       "      <td>15360</td>\n",
       "      <td>500</td>\n",
       "      <td>550</td>\n",
       "      <td>200</td>\n",
       "      <td>3</td>\n",
       "      <td>3</td>\n",
       "      <td>smart</td>\n",
       "    </tr>\n",
       "    <tr>\n",
       "      <th>1</th>\n",
       "      <td>1000</td>\n",
       "      <td>30720</td>\n",
       "      <td>3000</td>\n",
       "      <td>1950</td>\n",
       "      <td>150</td>\n",
       "      <td>1</td>\n",
       "      <td>1</td>\n",
       "      <td>ultra</td>\n",
       "    </tr>\n",
       "  </tbody>\n",
       "</table>\n",
       "</div>"
      ],
      "text/plain": [
       "   messages_included  mb_per_month_included  minutes_included  \\\n",
       "0                 50                  15360               500   \n",
       "1               1000                  30720              3000   \n",
       "\n",
       "   rub_monthly_fee  rub_per_gb  rub_per_message  rub_per_minute tariff_name  \n",
       "0              550         200                3               3       smart  \n",
       "1             1950         150                1               1       ultra  "
      ]
     },
     "metadata": {},
     "output_type": "display_data"
    }
   ],
   "source": [
    "# информация по датасету tariffs_data\n",
    "data_info(tariffs_data)"
   ]
  },
  {
   "cell_type": "markdown",
   "id": "ca7a0259",
   "metadata": {},
   "source": [
    "Данные не имеют пропусков, кроме колонки churn_date, которая отвечает за дату прекращения тарифа.\n",
    "\n",
    "Предварительный просмотр показал следующие проблемы:\n",
    "1. Убрать лишний столбец Unnamed 0 из internet_data;\n",
    "2. Поменять формат данных в колонках отвечающих за время с object на datetime в колонках ['churn_date', 'reg_date', 'session_date', 'message_date', 'call_date']\n",
    "3. Добавить стоимость тарифа в tariffs_data."
   ]
  },
  {
   "cell_type": "markdown",
   "id": "eb80e1fe",
   "metadata": {},
   "source": [
    "## Предподготовка данных\n",
    "\n",
    "Приведите данные к нужным типам;\n",
    "\n",
    "Найдите и исправьте ошибки в данных, если они есть.\n",
    "Поясните, какие ошибки вы нашли и как их исправили. \n",
    "В данных вы найдёте звонки с нулевой продолжительностью. Это не ошибка: нулями обозначены пропущенные звонки, поэтому их не нужно удалять.\n",
    "\n",
    "Посчитайте для каждого пользователя:\n",
    "количество сделанных звонков и израсходованных минут разговора по месяцам;\n",
    "\n",
    "количество отправленных сообщений по месяцам;\n",
    "\n",
    "объем израсходованного интернет-трафика по месяцам;"
   ]
  },
  {
   "cell_type": "code",
   "execution_count": 82,
   "id": "64ed1436",
   "metadata": {},
   "outputs": [],
   "source": [
    "# убираем лишний столбец 'Unnamed: 0'\n",
    "internet_data = internet_data.drop('Unnamed: 0', axis=1)"
   ]
  },
  {
   "cell_type": "code",
   "execution_count": 83,
   "id": "eb9692f8",
   "metadata": {},
   "outputs": [],
   "source": [
    "#меняем тип данных в колонках времени\n",
    "users_data['churn_date'] = pd.to_datetime(users_data['churn_date'], format='%Y-%m-%d', errors='ignore')\n",
    "users_data['reg_date'] = pd.to_datetime(users_data['reg_date'], format='%Y-%m-%d', errors='ignore')\n",
    "internet_data['session_date'] = pd.to_datetime(internet_data['session_date'], format='%Y-%m-%d', errors='ignore')\n",
    "messages_data['message_date'] = pd.to_datetime(messages_data['message_date'], format='%Y-%m-%d', errors='ignore')\n",
    "calls_data['call_date'] = pd.to_datetime(calls_data['call_date'], format='%Y-%m-%d', errors='ignore')"
   ]
  },
  {
   "cell_type": "code",
   "execution_count": 84,
   "id": "008d4881",
   "metadata": {},
   "outputs": [],
   "source": [
    "# переименовываем колонку тарифа для дальнейшей комфортной работы\n",
    "tariffs_data = tariffs_data.rename(columns={'tariff_name' : 'tariff'})\n",
    "# добавляем колонку с ценой тарифа\n",
    "tariffs_data['tariff_price'] = tariffs_data['tariff']\n",
    "tariffs_data['tariff_price'] = tariffs_data['tariff_price'].replace({'ultra': 1950, 'smart': 550})"
   ]
  },
  {
   "cell_type": "code",
   "execution_count": 85,
   "id": "a987ff28",
   "metadata": {},
   "outputs": [],
   "source": [
    "# небольшая подготовительная работа с internet_data. \n",
    "# Мёрджим пользовательские данные и данные по тарифам, чтобы в последствии было проще считать\n",
    "\n",
    "internet_data = internet_data.merge(users_data).drop(columns=['age', 'churn_date', 'first_name', 'last_name', 'reg_date'], axis=0)\n",
    "\n",
    "internet_data = internet_data.merge(tariffs_data, on='tariff', validate='m:1')\n",
    "internet_data['tariff_price'] = internet_data['tariff'].replace({'ultra': 1950, 'smart': 550})"
   ]
  },
  {
   "cell_type": "markdown",
   "id": "8b3464e5",
   "metadata": {},
   "source": [
    "### Вывод\n",
    "\n",
    "Привели данные в \"рабочий вид\": изменили формат времени в каждом датасете, удалили лишние столбцы и переименовали название тарифов на их стоимость, для комфортной дальнейшей работы"
   ]
  },
  {
   "cell_type": "markdown",
   "id": "764371db",
   "metadata": {},
   "source": [
    "## Анализ данных"
   ]
  },
  {
   "cell_type": "markdown",
   "id": "026ef300",
   "metadata": {},
   "source": [
    "*Посчитайте для каждого пользователя:*\n",
    "*количество сделанных звонков и израсходованных минут разговора по месяцам;*\n",
    "\n",
    "*количество отправленных сообщений по месяцам;*\n",
    "\n",
    "*объем израсходованного интернет-трафика по месяцам;*\n"
   ]
  },
  {
   "cell_type": "code",
   "execution_count": 86,
   "id": "4817a6c2",
   "metadata": {},
   "outputs": [],
   "source": [
    "# округлили значения длины и поменил тип с float на int\n",
    "calls_data['duration'] = np.ceil(calls_data['duration']).astype('int')"
   ]
  },
  {
   "cell_type": "code",
   "execution_count": 87,
   "id": "10f44edd",
   "metadata": {},
   "outputs": [],
   "source": [
    "# выделяем месяц из call_date, messages_data, internet_data\n",
    "calls_data['month'] = calls_data['call_date'].dt.month\n",
    "messages_data['month'] = messages_data['message_date'].dt.month\n",
    "internet_data['month'] = internet_data['session_date'].dt.month"
   ]
  },
  {
   "cell_type": "code",
   "execution_count": 88,
   "id": "bdbe290f",
   "metadata": {
    "scrolled": true
   },
   "outputs": [
    {
     "data": {
      "text/html": [
       "<div>\n",
       "<style scoped>\n",
       "    .dataframe tbody tr th:only-of-type {\n",
       "        vertical-align: middle;\n",
       "    }\n",
       "\n",
       "    .dataframe tbody tr th {\n",
       "        vertical-align: top;\n",
       "    }\n",
       "\n",
       "    .dataframe thead tr th {\n",
       "        text-align: left;\n",
       "    }\n",
       "\n",
       "    .dataframe thead tr:last-of-type th {\n",
       "        text-align: right;\n",
       "    }\n",
       "</style>\n",
       "<table border=\"1\" class=\"dataframe\">\n",
       "  <thead>\n",
       "    <tr>\n",
       "      <th></th>\n",
       "      <th></th>\n",
       "      <th>count</th>\n",
       "      <th>sum</th>\n",
       "    </tr>\n",
       "    <tr>\n",
       "      <th></th>\n",
       "      <th></th>\n",
       "      <th>duration</th>\n",
       "      <th>duration</th>\n",
       "    </tr>\n",
       "    <tr>\n",
       "      <th>user_id</th>\n",
       "      <th>month</th>\n",
       "      <th></th>\n",
       "      <th></th>\n",
       "    </tr>\n",
       "  </thead>\n",
       "  <tbody>\n",
       "    <tr>\n",
       "      <th rowspan=\"5\" valign=\"top\">1000</th>\n",
       "      <th>5</th>\n",
       "      <td>22</td>\n",
       "      <td>159</td>\n",
       "    </tr>\n",
       "    <tr>\n",
       "      <th>6</th>\n",
       "      <td>43</td>\n",
       "      <td>172</td>\n",
       "    </tr>\n",
       "    <tr>\n",
       "      <th>7</th>\n",
       "      <td>47</td>\n",
       "      <td>340</td>\n",
       "    </tr>\n",
       "    <tr>\n",
       "      <th>8</th>\n",
       "      <td>52</td>\n",
       "      <td>408</td>\n",
       "    </tr>\n",
       "    <tr>\n",
       "      <th>9</th>\n",
       "      <td>58</td>\n",
       "      <td>466</td>\n",
       "    </tr>\n",
       "    <tr>\n",
       "      <th>...</th>\n",
       "      <th>...</th>\n",
       "      <td>...</td>\n",
       "      <td>...</td>\n",
       "    </tr>\n",
       "    <tr>\n",
       "      <th>1498</th>\n",
       "      <th>10</th>\n",
       "      <td>41</td>\n",
       "      <td>247</td>\n",
       "    </tr>\n",
       "    <tr>\n",
       "      <th rowspan=\"4\" valign=\"top\">1499</th>\n",
       "      <th>9</th>\n",
       "      <td>9</td>\n",
       "      <td>70</td>\n",
       "    </tr>\n",
       "    <tr>\n",
       "      <th>10</th>\n",
       "      <td>68</td>\n",
       "      <td>449</td>\n",
       "    </tr>\n",
       "    <tr>\n",
       "      <th>11</th>\n",
       "      <td>74</td>\n",
       "      <td>612</td>\n",
       "    </tr>\n",
       "    <tr>\n",
       "      <th>12</th>\n",
       "      <td>69</td>\n",
       "      <td>492</td>\n",
       "    </tr>\n",
       "  </tbody>\n",
       "</table>\n",
       "<p>3174 rows × 2 columns</p>\n",
       "</div>"
      ],
      "text/plain": [
       "                 count      sum\n",
       "              duration duration\n",
       "user_id month                  \n",
       "1000    5           22      159\n",
       "        6           43      172\n",
       "        7           47      340\n",
       "        8           52      408\n",
       "        9           58      466\n",
       "...                ...      ...\n",
       "1498    10          41      247\n",
       "1499    9            9       70\n",
       "        10          68      449\n",
       "        11          74      612\n",
       "        12          69      492\n",
       "\n",
       "[3174 rows x 2 columns]"
      ]
     },
     "execution_count": 88,
     "metadata": {},
     "output_type": "execute_result"
    }
   ],
   "source": [
    "# количество звонков каждого пользователя по месяцам и продолжительность разговоров\n",
    "calls_data_grouped_v1 = calls_data.pivot_table(index=['user_id', 'month'], values='duration', aggfunc=['count', 'sum'])\n",
    "calls_data_grouped_v1"
   ]
  },
  {
   "cell_type": "code",
   "execution_count": 89,
   "id": "78e4170b",
   "metadata": {
    "scrolled": true
   },
   "outputs": [
    {
     "data": {
      "text/html": [
       "<div>\n",
       "<style scoped>\n",
       "    .dataframe tbody tr th:only-of-type {\n",
       "        vertical-align: middle;\n",
       "    }\n",
       "\n",
       "    .dataframe tbody tr th {\n",
       "        vertical-align: top;\n",
       "    }\n",
       "\n",
       "    .dataframe thead tr th {\n",
       "        text-align: left;\n",
       "    }\n",
       "\n",
       "    .dataframe thead tr:last-of-type th {\n",
       "        text-align: right;\n",
       "    }\n",
       "</style>\n",
       "<table border=\"1\" class=\"dataframe\">\n",
       "  <thead>\n",
       "    <tr>\n",
       "      <th></th>\n",
       "      <th></th>\n",
       "      <th>count</th>\n",
       "    </tr>\n",
       "    <tr>\n",
       "      <th></th>\n",
       "      <th></th>\n",
       "      <th>id</th>\n",
       "    </tr>\n",
       "    <tr>\n",
       "      <th>user_id</th>\n",
       "      <th>month</th>\n",
       "      <th></th>\n",
       "    </tr>\n",
       "  </thead>\n",
       "  <tbody>\n",
       "    <tr>\n",
       "      <th rowspan=\"5\" valign=\"top\">1000</th>\n",
       "      <th>5</th>\n",
       "      <td>22</td>\n",
       "    </tr>\n",
       "    <tr>\n",
       "      <th>6</th>\n",
       "      <td>60</td>\n",
       "    </tr>\n",
       "    <tr>\n",
       "      <th>7</th>\n",
       "      <td>75</td>\n",
       "    </tr>\n",
       "    <tr>\n",
       "      <th>8</th>\n",
       "      <td>81</td>\n",
       "    </tr>\n",
       "    <tr>\n",
       "      <th>9</th>\n",
       "      <td>57</td>\n",
       "    </tr>\n",
       "    <tr>\n",
       "      <th>...</th>\n",
       "      <th>...</th>\n",
       "      <td>...</td>\n",
       "    </tr>\n",
       "    <tr>\n",
       "      <th>1498</th>\n",
       "      <th>10</th>\n",
       "      <td>42</td>\n",
       "    </tr>\n",
       "    <tr>\n",
       "      <th rowspan=\"4\" valign=\"top\">1499</th>\n",
       "      <th>9</th>\n",
       "      <td>11</td>\n",
       "    </tr>\n",
       "    <tr>\n",
       "      <th>10</th>\n",
       "      <td>48</td>\n",
       "    </tr>\n",
       "    <tr>\n",
       "      <th>11</th>\n",
       "      <td>59</td>\n",
       "    </tr>\n",
       "    <tr>\n",
       "      <th>12</th>\n",
       "      <td>66</td>\n",
       "    </tr>\n",
       "  </tbody>\n",
       "</table>\n",
       "<p>2717 rows × 1 columns</p>\n",
       "</div>"
      ],
      "text/plain": [
       "              count\n",
       "                 id\n",
       "user_id month      \n",
       "1000    5        22\n",
       "        6        60\n",
       "        7        75\n",
       "        8        81\n",
       "        9        57\n",
       "...             ...\n",
       "1498    10       42\n",
       "1499    9        11\n",
       "        10       48\n",
       "        11       59\n",
       "        12       66\n",
       "\n",
       "[2717 rows x 1 columns]"
      ]
     },
     "execution_count": 89,
     "metadata": {},
     "output_type": "execute_result"
    }
   ],
   "source": [
    "# количество отправленых смс по месяцам\n",
    "messages_data_grouped_v1 = messages_data.pivot_table(index=['user_id', 'month'], values='id', aggfunc=['count'])\n",
    "messages_data_grouped_v1"
   ]
  },
  {
   "cell_type": "code",
   "execution_count": 90,
   "id": "8b5f0a12",
   "metadata": {
    "scrolled": true
   },
   "outputs": [
    {
     "data": {
      "text/html": [
       "<div>\n",
       "<style scoped>\n",
       "    .dataframe tbody tr th:only-of-type {\n",
       "        vertical-align: middle;\n",
       "    }\n",
       "\n",
       "    .dataframe tbody tr th {\n",
       "        vertical-align: top;\n",
       "    }\n",
       "\n",
       "    .dataframe thead th {\n",
       "        text-align: right;\n",
       "    }\n",
       "</style>\n",
       "<table border=\"1\" class=\"dataframe\">\n",
       "  <thead>\n",
       "    <tr style=\"text-align: right;\">\n",
       "      <th></th>\n",
       "      <th>id</th>\n",
       "      <th>mb_used</th>\n",
       "      <th>session_date</th>\n",
       "      <th>user_id</th>\n",
       "      <th>city</th>\n",
       "      <th>tariff</th>\n",
       "      <th>messages_included</th>\n",
       "      <th>mb_per_month_included</th>\n",
       "      <th>minutes_included</th>\n",
       "      <th>rub_monthly_fee</th>\n",
       "      <th>rub_per_gb</th>\n",
       "      <th>rub_per_message</th>\n",
       "      <th>rub_per_minute</th>\n",
       "      <th>tariff_price</th>\n",
       "      <th>month</th>\n",
       "    </tr>\n",
       "  </thead>\n",
       "  <tbody>\n",
       "    <tr>\n",
       "      <th>0</th>\n",
       "      <td>1000_0</td>\n",
       "      <td>112.95</td>\n",
       "      <td>2018-11-25</td>\n",
       "      <td>1000</td>\n",
       "      <td>Краснодар</td>\n",
       "      <td>ultra</td>\n",
       "      <td>1000</td>\n",
       "      <td>30720</td>\n",
       "      <td>3000</td>\n",
       "      <td>1950</td>\n",
       "      <td>150</td>\n",
       "      <td>1</td>\n",
       "      <td>1</td>\n",
       "      <td>1950</td>\n",
       "      <td>11</td>\n",
       "    </tr>\n",
       "    <tr>\n",
       "      <th>1</th>\n",
       "      <td>1000_1</td>\n",
       "      <td>1052.81</td>\n",
       "      <td>2018-09-07</td>\n",
       "      <td>1000</td>\n",
       "      <td>Краснодар</td>\n",
       "      <td>ultra</td>\n",
       "      <td>1000</td>\n",
       "      <td>30720</td>\n",
       "      <td>3000</td>\n",
       "      <td>1950</td>\n",
       "      <td>150</td>\n",
       "      <td>1</td>\n",
       "      <td>1</td>\n",
       "      <td>1950</td>\n",
       "      <td>9</td>\n",
       "    </tr>\n",
       "    <tr>\n",
       "      <th>2</th>\n",
       "      <td>1000_2</td>\n",
       "      <td>1197.26</td>\n",
       "      <td>2018-06-25</td>\n",
       "      <td>1000</td>\n",
       "      <td>Краснодар</td>\n",
       "      <td>ultra</td>\n",
       "      <td>1000</td>\n",
       "      <td>30720</td>\n",
       "      <td>3000</td>\n",
       "      <td>1950</td>\n",
       "      <td>150</td>\n",
       "      <td>1</td>\n",
       "      <td>1</td>\n",
       "      <td>1950</td>\n",
       "      <td>6</td>\n",
       "    </tr>\n",
       "    <tr>\n",
       "      <th>3</th>\n",
       "      <td>1000_3</td>\n",
       "      <td>550.27</td>\n",
       "      <td>2018-08-22</td>\n",
       "      <td>1000</td>\n",
       "      <td>Краснодар</td>\n",
       "      <td>ultra</td>\n",
       "      <td>1000</td>\n",
       "      <td>30720</td>\n",
       "      <td>3000</td>\n",
       "      <td>1950</td>\n",
       "      <td>150</td>\n",
       "      <td>1</td>\n",
       "      <td>1</td>\n",
       "      <td>1950</td>\n",
       "      <td>8</td>\n",
       "    </tr>\n",
       "    <tr>\n",
       "      <th>4</th>\n",
       "      <td>1000_4</td>\n",
       "      <td>302.56</td>\n",
       "      <td>2018-09-24</td>\n",
       "      <td>1000</td>\n",
       "      <td>Краснодар</td>\n",
       "      <td>ultra</td>\n",
       "      <td>1000</td>\n",
       "      <td>30720</td>\n",
       "      <td>3000</td>\n",
       "      <td>1950</td>\n",
       "      <td>150</td>\n",
       "      <td>1</td>\n",
       "      <td>1</td>\n",
       "      <td>1950</td>\n",
       "      <td>9</td>\n",
       "    </tr>\n",
       "    <tr>\n",
       "      <th>...</th>\n",
       "      <td>...</td>\n",
       "      <td>...</td>\n",
       "      <td>...</td>\n",
       "      <td>...</td>\n",
       "      <td>...</td>\n",
       "      <td>...</td>\n",
       "      <td>...</td>\n",
       "      <td>...</td>\n",
       "      <td>...</td>\n",
       "      <td>...</td>\n",
       "      <td>...</td>\n",
       "      <td>...</td>\n",
       "      <td>...</td>\n",
       "      <td>...</td>\n",
       "      <td>...</td>\n",
       "    </tr>\n",
       "    <tr>\n",
       "      <th>149391</th>\n",
       "      <td>1499_152</td>\n",
       "      <td>318.90</td>\n",
       "      <td>2018-10-03</td>\n",
       "      <td>1499</td>\n",
       "      <td>Пермь</td>\n",
       "      <td>smart</td>\n",
       "      <td>50</td>\n",
       "      <td>15360</td>\n",
       "      <td>500</td>\n",
       "      <td>550</td>\n",
       "      <td>200</td>\n",
       "      <td>3</td>\n",
       "      <td>3</td>\n",
       "      <td>550</td>\n",
       "      <td>10</td>\n",
       "    </tr>\n",
       "    <tr>\n",
       "      <th>149392</th>\n",
       "      <td>1499_153</td>\n",
       "      <td>490.13</td>\n",
       "      <td>2018-12-14</td>\n",
       "      <td>1499</td>\n",
       "      <td>Пермь</td>\n",
       "      <td>smart</td>\n",
       "      <td>50</td>\n",
       "      <td>15360</td>\n",
       "      <td>500</td>\n",
       "      <td>550</td>\n",
       "      <td>200</td>\n",
       "      <td>3</td>\n",
       "      <td>3</td>\n",
       "      <td>550</td>\n",
       "      <td>12</td>\n",
       "    </tr>\n",
       "    <tr>\n",
       "      <th>149393</th>\n",
       "      <td>1499_154</td>\n",
       "      <td>0.00</td>\n",
       "      <td>2018-10-27</td>\n",
       "      <td>1499</td>\n",
       "      <td>Пермь</td>\n",
       "      <td>smart</td>\n",
       "      <td>50</td>\n",
       "      <td>15360</td>\n",
       "      <td>500</td>\n",
       "      <td>550</td>\n",
       "      <td>200</td>\n",
       "      <td>3</td>\n",
       "      <td>3</td>\n",
       "      <td>550</td>\n",
       "      <td>10</td>\n",
       "    </tr>\n",
       "    <tr>\n",
       "      <th>149394</th>\n",
       "      <td>1499_155</td>\n",
       "      <td>1246.32</td>\n",
       "      <td>2018-11-26</td>\n",
       "      <td>1499</td>\n",
       "      <td>Пермь</td>\n",
       "      <td>smart</td>\n",
       "      <td>50</td>\n",
       "      <td>15360</td>\n",
       "      <td>500</td>\n",
       "      <td>550</td>\n",
       "      <td>200</td>\n",
       "      <td>3</td>\n",
       "      <td>3</td>\n",
       "      <td>550</td>\n",
       "      <td>11</td>\n",
       "    </tr>\n",
       "    <tr>\n",
       "      <th>149395</th>\n",
       "      <td>1499_156</td>\n",
       "      <td>544.37</td>\n",
       "      <td>2018-10-26</td>\n",
       "      <td>1499</td>\n",
       "      <td>Пермь</td>\n",
       "      <td>smart</td>\n",
       "      <td>50</td>\n",
       "      <td>15360</td>\n",
       "      <td>500</td>\n",
       "      <td>550</td>\n",
       "      <td>200</td>\n",
       "      <td>3</td>\n",
       "      <td>3</td>\n",
       "      <td>550</td>\n",
       "      <td>10</td>\n",
       "    </tr>\n",
       "  </tbody>\n",
       "</table>\n",
       "<p>149396 rows × 15 columns</p>\n",
       "</div>"
      ],
      "text/plain": [
       "              id  mb_used session_date  user_id       city tariff  \\\n",
       "0         1000_0   112.95   2018-11-25     1000  Краснодар  ultra   \n",
       "1         1000_1  1052.81   2018-09-07     1000  Краснодар  ultra   \n",
       "2         1000_2  1197.26   2018-06-25     1000  Краснодар  ultra   \n",
       "3         1000_3   550.27   2018-08-22     1000  Краснодар  ultra   \n",
       "4         1000_4   302.56   2018-09-24     1000  Краснодар  ultra   \n",
       "...          ...      ...          ...      ...        ...    ...   \n",
       "149391  1499_152   318.90   2018-10-03     1499      Пермь  smart   \n",
       "149392  1499_153   490.13   2018-12-14     1499      Пермь  smart   \n",
       "149393  1499_154     0.00   2018-10-27     1499      Пермь  smart   \n",
       "149394  1499_155  1246.32   2018-11-26     1499      Пермь  smart   \n",
       "149395  1499_156   544.37   2018-10-26     1499      Пермь  smart   \n",
       "\n",
       "        messages_included  mb_per_month_included  minutes_included  \\\n",
       "0                    1000                  30720              3000   \n",
       "1                    1000                  30720              3000   \n",
       "2                    1000                  30720              3000   \n",
       "3                    1000                  30720              3000   \n",
       "4                    1000                  30720              3000   \n",
       "...                   ...                    ...               ...   \n",
       "149391                 50                  15360               500   \n",
       "149392                 50                  15360               500   \n",
       "149393                 50                  15360               500   \n",
       "149394                 50                  15360               500   \n",
       "149395                 50                  15360               500   \n",
       "\n",
       "        rub_monthly_fee  rub_per_gb  rub_per_message  rub_per_minute  \\\n",
       "0                  1950         150                1               1   \n",
       "1                  1950         150                1               1   \n",
       "2                  1950         150                1               1   \n",
       "3                  1950         150                1               1   \n",
       "4                  1950         150                1               1   \n",
       "...                 ...         ...              ...             ...   \n",
       "149391              550         200                3               3   \n",
       "149392              550         200                3               3   \n",
       "149393              550         200                3               3   \n",
       "149394              550         200                3               3   \n",
       "149395              550         200                3               3   \n",
       "\n",
       "        tariff_price  month  \n",
       "0               1950     11  \n",
       "1               1950      9  \n",
       "2               1950      6  \n",
       "3               1950      8  \n",
       "4               1950      9  \n",
       "...              ...    ...  \n",
       "149391           550     10  \n",
       "149392           550     12  \n",
       "149393           550     10  \n",
       "149394           550     11  \n",
       "149395           550     10  \n",
       "\n",
       "[149396 rows x 15 columns]"
      ]
     },
     "execution_count": 90,
     "metadata": {},
     "output_type": "execute_result"
    }
   ],
   "source": [
    "internet_data"
   ]
  },
  {
   "cell_type": "code",
   "execution_count": 91,
   "id": "feb7ee84",
   "metadata": {
    "scrolled": true
   },
   "outputs": [
    {
     "data": {
      "text/html": [
       "<div>\n",
       "<style scoped>\n",
       "    .dataframe tbody tr th:only-of-type {\n",
       "        vertical-align: middle;\n",
       "    }\n",
       "\n",
       "    .dataframe tbody tr th {\n",
       "        vertical-align: top;\n",
       "    }\n",
       "\n",
       "    .dataframe thead th {\n",
       "        text-align: right;\n",
       "    }\n",
       "</style>\n",
       "<table border=\"1\" class=\"dataframe\">\n",
       "  <thead>\n",
       "    <tr style=\"text-align: right;\">\n",
       "      <th></th>\n",
       "      <th></th>\n",
       "      <th>mb_per_month_included</th>\n",
       "      <th>mb_used</th>\n",
       "      <th>messages_included</th>\n",
       "      <th>minutes_included</th>\n",
       "      <th>rub_monthly_fee</th>\n",
       "      <th>rub_per_gb</th>\n",
       "      <th>rub_per_message</th>\n",
       "      <th>rub_per_minute</th>\n",
       "      <th>tariff_price</th>\n",
       "    </tr>\n",
       "    <tr>\n",
       "      <th>user_id</th>\n",
       "      <th>month</th>\n",
       "      <th></th>\n",
       "      <th></th>\n",
       "      <th></th>\n",
       "      <th></th>\n",
       "      <th></th>\n",
       "      <th></th>\n",
       "      <th></th>\n",
       "      <th></th>\n",
       "      <th></th>\n",
       "    </tr>\n",
       "  </thead>\n",
       "  <tbody>\n",
       "    <tr>\n",
       "      <th rowspan=\"5\" valign=\"top\">1000</th>\n",
       "      <th>5</th>\n",
       "      <td>30720</td>\n",
       "      <td>3072.0</td>\n",
       "      <td>1000</td>\n",
       "      <td>3000</td>\n",
       "      <td>1950</td>\n",
       "      <td>150</td>\n",
       "      <td>1</td>\n",
       "      <td>1</td>\n",
       "      <td>1950</td>\n",
       "    </tr>\n",
       "    <tr>\n",
       "      <th>6</th>\n",
       "      <td>30720</td>\n",
       "      <td>23552.0</td>\n",
       "      <td>1000</td>\n",
       "      <td>3000</td>\n",
       "      <td>1950</td>\n",
       "      <td>150</td>\n",
       "      <td>1</td>\n",
       "      <td>1</td>\n",
       "      <td>1950</td>\n",
       "    </tr>\n",
       "    <tr>\n",
       "      <th>7</th>\n",
       "      <td>30720</td>\n",
       "      <td>14336.0</td>\n",
       "      <td>1000</td>\n",
       "      <td>3000</td>\n",
       "      <td>1950</td>\n",
       "      <td>150</td>\n",
       "      <td>1</td>\n",
       "      <td>1</td>\n",
       "      <td>1950</td>\n",
       "    </tr>\n",
       "    <tr>\n",
       "      <th>8</th>\n",
       "      <td>30720</td>\n",
       "      <td>14336.0</td>\n",
       "      <td>1000</td>\n",
       "      <td>3000</td>\n",
       "      <td>1950</td>\n",
       "      <td>150</td>\n",
       "      <td>1</td>\n",
       "      <td>1</td>\n",
       "      <td>1950</td>\n",
       "    </tr>\n",
       "    <tr>\n",
       "      <th>9</th>\n",
       "      <td>30720</td>\n",
       "      <td>15360.0</td>\n",
       "      <td>1000</td>\n",
       "      <td>3000</td>\n",
       "      <td>1950</td>\n",
       "      <td>150</td>\n",
       "      <td>1</td>\n",
       "      <td>1</td>\n",
       "      <td>1950</td>\n",
       "    </tr>\n",
       "    <tr>\n",
       "      <th>...</th>\n",
       "      <th>...</th>\n",
       "      <td>...</td>\n",
       "      <td>...</td>\n",
       "      <td>...</td>\n",
       "      <td>...</td>\n",
       "      <td>...</td>\n",
       "      <td>...</td>\n",
       "      <td>...</td>\n",
       "      <td>...</td>\n",
       "      <td>...</td>\n",
       "    </tr>\n",
       "    <tr>\n",
       "      <th>1498</th>\n",
       "      <th>10</th>\n",
       "      <td>15360</td>\n",
       "      <td>21504.0</td>\n",
       "      <td>50</td>\n",
       "      <td>500</td>\n",
       "      <td>550</td>\n",
       "      <td>200</td>\n",
       "      <td>3</td>\n",
       "      <td>3</td>\n",
       "      <td>550</td>\n",
       "    </tr>\n",
       "    <tr>\n",
       "      <th rowspan=\"4\" valign=\"top\">1499</th>\n",
       "      <th>9</th>\n",
       "      <td>15360</td>\n",
       "      <td>2048.0</td>\n",
       "      <td>50</td>\n",
       "      <td>500</td>\n",
       "      <td>550</td>\n",
       "      <td>200</td>\n",
       "      <td>3</td>\n",
       "      <td>3</td>\n",
       "      <td>550</td>\n",
       "    </tr>\n",
       "    <tr>\n",
       "      <th>10</th>\n",
       "      <td>15360</td>\n",
       "      <td>18432.0</td>\n",
       "      <td>50</td>\n",
       "      <td>500</td>\n",
       "      <td>550</td>\n",
       "      <td>200</td>\n",
       "      <td>3</td>\n",
       "      <td>3</td>\n",
       "      <td>550</td>\n",
       "    </tr>\n",
       "    <tr>\n",
       "      <th>11</th>\n",
       "      <td>15360</td>\n",
       "      <td>18432.0</td>\n",
       "      <td>50</td>\n",
       "      <td>500</td>\n",
       "      <td>550</td>\n",
       "      <td>200</td>\n",
       "      <td>3</td>\n",
       "      <td>3</td>\n",
       "      <td>550</td>\n",
       "    </tr>\n",
       "    <tr>\n",
       "      <th>12</th>\n",
       "      <td>15360</td>\n",
       "      <td>13312.0</td>\n",
       "      <td>50</td>\n",
       "      <td>500</td>\n",
       "      <td>550</td>\n",
       "      <td>200</td>\n",
       "      <td>3</td>\n",
       "      <td>3</td>\n",
       "      <td>550</td>\n",
       "    </tr>\n",
       "  </tbody>\n",
       "</table>\n",
       "<p>3203 rows × 9 columns</p>\n",
       "</div>"
      ],
      "text/plain": [
       "               mb_per_month_included  mb_used  messages_included  \\\n",
       "user_id month                                                      \n",
       "1000    5                      30720   3072.0               1000   \n",
       "        6                      30720  23552.0               1000   \n",
       "        7                      30720  14336.0               1000   \n",
       "        8                      30720  14336.0               1000   \n",
       "        9                      30720  15360.0               1000   \n",
       "...                              ...      ...                ...   \n",
       "1498    10                     15360  21504.0                 50   \n",
       "1499    9                      15360   2048.0                 50   \n",
       "        10                     15360  18432.0                 50   \n",
       "        11                     15360  18432.0                 50   \n",
       "        12                     15360  13312.0                 50   \n",
       "\n",
       "               minutes_included  rub_monthly_fee  rub_per_gb  rub_per_message  \\\n",
       "user_id month                                                                   \n",
       "1000    5                  3000             1950         150                1   \n",
       "        6                  3000             1950         150                1   \n",
       "        7                  3000             1950         150                1   \n",
       "        8                  3000             1950         150                1   \n",
       "        9                  3000             1950         150                1   \n",
       "...                         ...              ...         ...              ...   \n",
       "1498    10                  500              550         200                3   \n",
       "1499    9                   500              550         200                3   \n",
       "        10                  500              550         200                3   \n",
       "        11                  500              550         200                3   \n",
       "        12                  500              550         200                3   \n",
       "\n",
       "               rub_per_minute  tariff_price  \n",
       "user_id month                                \n",
       "1000    5                   1          1950  \n",
       "        6                   1          1950  \n",
       "        7                   1          1950  \n",
       "        8                   1          1950  \n",
       "        9                   1          1950  \n",
       "...                       ...           ...  \n",
       "1498    10                  3           550  \n",
       "1499    9                   3           550  \n",
       "        10                  3           550  \n",
       "        11                  3           550  \n",
       "        12                  3           550  \n",
       "\n",
       "[3203 rows x 9 columns]"
      ]
     },
     "execution_count": 91,
     "metadata": {},
     "output_type": "execute_result"
    }
   ],
   "source": [
    "# сводная таблица израсходанного трафика каждым пользователем по месяцам\n",
    "internet_data_grouped_v1 = (internet_data.pivot_table(index=['user_id', 'month'], \n",
    "                                                      values=['mb_used', 'city', 'tariff',\n",
    "                                                               'messages_included', 'mb_per_month_included', \n",
    "                                                               'minutes_included', 'rub_monthly_fee', 'rub_per_gb', \n",
    "                                                               'rub_per_message', 'rub_per_minute', 'tariff_price'], \n",
    "                                                      aggfunc={'mb_used':'sum', \n",
    "                                                               'messages_included':'median',\n",
    "                                                              'mb_per_month_included':'median', \n",
    "                                                               'minutes_included':'median', \n",
    "                                                               'rub_monthly_fee':'median', \n",
    "                                                               'rub_per_gb':'median', \n",
    "                                                               'rub_per_message':'median', \n",
    "                                                               'rub_per_minute':'median', \n",
    "                                                               'tariff_price':'median'\n",
    "                                                              }))\n",
    "# считаем количество потраченных мегабайт в месяц\n",
    "internet_data_grouped_v1['mb_used'] = np.ceil(internet_data_grouped_v1['mb_used'] / 1024) * 1024\n",
    "internet_data_grouped_v1"
   ]
  },
  {
   "cell_type": "code",
   "execution_count": 92,
   "id": "a3886b4f",
   "metadata": {},
   "outputs": [
    {
     "data": {
      "text/plain": [
       "(3203, 9)"
      ]
     },
     "execution_count": 92,
     "metadata": {},
     "output_type": "execute_result"
    }
   ],
   "source": [
    "# данные до объединения\n",
    "internet_data_grouped_v1.shape"
   ]
  },
  {
   "cell_type": "code",
   "execution_count": 93,
   "id": "4d70b203",
   "metadata": {},
   "outputs": [
    {
     "name": "stderr",
     "output_type": "stream",
     "text": [
      "C:\\ProgramData\\Anaconda3\\lib\\site-packages\\pandas\\core\\reshape\\merge.py:648: UserWarning: merging between different levels can give an unintended result (1 levels on the left,2 on the right)\n",
      "  warnings.warn(msg, UserWarning)\n"
     ]
    }
   ],
   "source": [
    "# собираем все данные в одну таблицу + данные по тарифу\n",
    "aggregate_income = internet_data_grouped_v1.merge(calls_data_grouped_v1[[(  'sum', 'duration')]], on=['user_id', 'month'], how='outer', validate=('m:m'))"
   ]
  },
  {
   "cell_type": "code",
   "execution_count": 94,
   "id": "fb41972a",
   "metadata": {},
   "outputs": [],
   "source": [
    "# добавляем данные расхода смс\n",
    "aggregate_income = aggregate_income.merge(messages_data_grouped_v1[[('count', 'id')]], on=['user_id', 'month'], how='outer',  validate=('m:m'))"
   ]
  },
  {
   "cell_type": "code",
   "execution_count": 95,
   "id": "d19bb3c3",
   "metadata": {},
   "outputs": [
    {
     "data": {
      "text/plain": [
       "(3214, 11)"
      ]
     },
     "execution_count": 95,
     "metadata": {},
     "output_type": "execute_result"
    }
   ],
   "source": [
    "# данные после объединения\n",
    "aggregate_income.shape"
   ]
  },
  {
   "cell_type": "code",
   "execution_count": 96,
   "id": "48e6a492",
   "metadata": {},
   "outputs": [],
   "source": [
    "# переименовваем столбцы для комфортного использования\n",
    "aggregate_income = aggregate_income.rename(columns={('sum', 'duration'):'calls_duration', ('count', 'id'):'message_count'})"
   ]
  },
  {
   "cell_type": "code",
   "execution_count": 97,
   "id": "86728bbf",
   "metadata": {},
   "outputs": [],
   "source": [
    "# считаем все превышения сверх тарифа\n",
    "aggregate_income['internet_income'] = aggregate_income['mb_per_month_included'] - aggregate_income['mb_used']\n",
    "aggregate_income['calls_income'] = aggregate_income['minutes_included'] - aggregate_income['calls_duration']\n",
    "aggregate_income['message_income'] = aggregate_income['messages_included'] - aggregate_income['message_count']"
   ]
  },
  {
   "cell_type": "code",
   "execution_count": 98,
   "id": "237fe3fb",
   "metadata": {},
   "outputs": [],
   "source": [
    "# считаем полученную прибыль по каждому параметру\n",
    "aggregate_income['internet_income'] = (abs(aggregate_income.query('internet_income < 0')['internet_income'] / 1024) * aggregate_income['rub_per_gb']).fillna(0)\n",
    "aggregate_income['calls_income'] = (abs(aggregate_income.query('calls_income < 0')['calls_income']) * aggregate_income['rub_per_minute']).fillna(0)\n",
    "aggregate_income['message_income'] = (abs(aggregate_income.query('message_income < 0')['message_income']) * aggregate_income['rub_per_message']).fillna(0)"
   ]
  },
  {
   "cell_type": "code",
   "execution_count": 99,
   "id": "1179e842",
   "metadata": {},
   "outputs": [],
   "source": [
    "# считаем суммарную прибыль\n",
    "aggregate_income['total_income'] = (aggregate_income['internet_income'] + \n",
    "                                    aggregate_income['calls_income'] + \n",
    "                                    aggregate_income['message_income'] +\n",
    "                                   aggregate_income['tariff_price'])"
   ]
  },
  {
   "cell_type": "code",
   "execution_count": 100,
   "id": "c7c94a6b",
   "metadata": {},
   "outputs": [
    {
     "data": {
      "text/plain": [
       "mb_per_month_included     11\n",
       "mb_used                   11\n",
       "messages_included         11\n",
       "minutes_included          11\n",
       "rub_monthly_fee           11\n",
       "rub_per_gb                11\n",
       "rub_per_message           11\n",
       "rub_per_minute            11\n",
       "tariff_price              11\n",
       "calls_duration            40\n",
       "message_count            497\n",
       "internet_income            0\n",
       "calls_income               0\n",
       "message_income             0\n",
       "total_income              11\n",
       "dtype: int64"
      ]
     },
     "execution_count": 100,
     "metadata": {},
     "output_type": "execute_result"
    }
   ],
   "source": [
    "# зная особенность данных и то что не в каждый месяч клиенты пользуются какими либо услугами связи\n",
    "aggregate_income.isna().sum()"
   ]
  },
  {
   "cell_type": "code",
   "execution_count": 101,
   "id": "afb824c2",
   "metadata": {},
   "outputs": [],
   "source": [
    "# у нас идёт огромная потеря данных в колонки 'message_count' т.к. \n",
    "# смс отправляются редко и мы можем принять отсутствующие значения за 0\n",
    "aggregate_income['message_count'] = aggregate_income['message_count'].fillna(0)\n"
   ]
  },
  {
   "cell_type": "code",
   "execution_count": 102,
   "id": "f4a1e1ec",
   "metadata": {
    "scrolled": true
   },
   "outputs": [
    {
     "data": {
      "text/plain": [
       "mb_per_month_included    11\n",
       "mb_used                  11\n",
       "messages_included        11\n",
       "minutes_included         11\n",
       "rub_monthly_fee          11\n",
       "rub_per_gb               11\n",
       "rub_per_message          11\n",
       "rub_per_minute           11\n",
       "tariff_price             11\n",
       "calls_duration           40\n",
       "message_count             0\n",
       "internet_income           0\n",
       "calls_income              0\n",
       "message_income            0\n",
       "total_income             11\n",
       "dtype: int64"
      ]
     },
     "execution_count": 102,
     "metadata": {},
     "output_type": "execute_result"
    }
   ],
   "source": [
    "#проверка\n",
    "aggregate_income.isna().sum()"
   ]
  },
  {
   "cell_type": "code",
   "execution_count": 103,
   "id": "a1a9229d",
   "metadata": {},
   "outputs": [],
   "source": [
    "# мы можем позволить себе убрать пустые данные т.к. \n",
    "# они составляют менее 1% от общего числа данных (удалили 40 записей из 3203)\n",
    "aggregate_income = aggregate_income.dropna(axis=0)"
   ]
  },
  {
   "cell_type": "code",
   "execution_count": 104,
   "id": "5f7ad602",
   "metadata": {},
   "outputs": [
    {
     "data": {
      "text/html": [
       "<div>\n",
       "<style scoped>\n",
       "    .dataframe tbody tr th:only-of-type {\n",
       "        vertical-align: middle;\n",
       "    }\n",
       "\n",
       "    .dataframe tbody tr th {\n",
       "        vertical-align: top;\n",
       "    }\n",
       "\n",
       "    .dataframe thead th {\n",
       "        text-align: right;\n",
       "    }\n",
       "</style>\n",
       "<table border=\"1\" class=\"dataframe\">\n",
       "  <thead>\n",
       "    <tr style=\"text-align: right;\">\n",
       "      <th></th>\n",
       "      <th></th>\n",
       "      <th>mb_per_month_included</th>\n",
       "      <th>mb_used</th>\n",
       "      <th>messages_included</th>\n",
       "      <th>minutes_included</th>\n",
       "      <th>rub_monthly_fee</th>\n",
       "      <th>rub_per_gb</th>\n",
       "      <th>rub_per_message</th>\n",
       "      <th>rub_per_minute</th>\n",
       "      <th>tariff_price</th>\n",
       "      <th>calls_duration</th>\n",
       "      <th>message_count</th>\n",
       "      <th>internet_income</th>\n",
       "      <th>calls_income</th>\n",
       "      <th>message_income</th>\n",
       "      <th>total_income</th>\n",
       "    </tr>\n",
       "    <tr>\n",
       "      <th>user_id</th>\n",
       "      <th>month</th>\n",
       "      <th></th>\n",
       "      <th></th>\n",
       "      <th></th>\n",
       "      <th></th>\n",
       "      <th></th>\n",
       "      <th></th>\n",
       "      <th></th>\n",
       "      <th></th>\n",
       "      <th></th>\n",
       "      <th></th>\n",
       "      <th></th>\n",
       "      <th></th>\n",
       "      <th></th>\n",
       "      <th></th>\n",
       "      <th></th>\n",
       "    </tr>\n",
       "  </thead>\n",
       "  <tbody>\n",
       "    <tr>\n",
       "      <th rowspan=\"5\" valign=\"top\">1000</th>\n",
       "      <th>5</th>\n",
       "      <td>30720.0</td>\n",
       "      <td>3072.0</td>\n",
       "      <td>1000.0</td>\n",
       "      <td>3000.0</td>\n",
       "      <td>1950.0</td>\n",
       "      <td>150.0</td>\n",
       "      <td>1.0</td>\n",
       "      <td>1.0</td>\n",
       "      <td>1950.0</td>\n",
       "      <td>159.0</td>\n",
       "      <td>22.0</td>\n",
       "      <td>0.0</td>\n",
       "      <td>0.0</td>\n",
       "      <td>0.0</td>\n",
       "      <td>1950.0</td>\n",
       "    </tr>\n",
       "    <tr>\n",
       "      <th>6</th>\n",
       "      <td>30720.0</td>\n",
       "      <td>23552.0</td>\n",
       "      <td>1000.0</td>\n",
       "      <td>3000.0</td>\n",
       "      <td>1950.0</td>\n",
       "      <td>150.0</td>\n",
       "      <td>1.0</td>\n",
       "      <td>1.0</td>\n",
       "      <td>1950.0</td>\n",
       "      <td>172.0</td>\n",
       "      <td>60.0</td>\n",
       "      <td>0.0</td>\n",
       "      <td>0.0</td>\n",
       "      <td>0.0</td>\n",
       "      <td>1950.0</td>\n",
       "    </tr>\n",
       "    <tr>\n",
       "      <th>7</th>\n",
       "      <td>30720.0</td>\n",
       "      <td>14336.0</td>\n",
       "      <td>1000.0</td>\n",
       "      <td>3000.0</td>\n",
       "      <td>1950.0</td>\n",
       "      <td>150.0</td>\n",
       "      <td>1.0</td>\n",
       "      <td>1.0</td>\n",
       "      <td>1950.0</td>\n",
       "      <td>340.0</td>\n",
       "      <td>75.0</td>\n",
       "      <td>0.0</td>\n",
       "      <td>0.0</td>\n",
       "      <td>0.0</td>\n",
       "      <td>1950.0</td>\n",
       "    </tr>\n",
       "    <tr>\n",
       "      <th>8</th>\n",
       "      <td>30720.0</td>\n",
       "      <td>14336.0</td>\n",
       "      <td>1000.0</td>\n",
       "      <td>3000.0</td>\n",
       "      <td>1950.0</td>\n",
       "      <td>150.0</td>\n",
       "      <td>1.0</td>\n",
       "      <td>1.0</td>\n",
       "      <td>1950.0</td>\n",
       "      <td>408.0</td>\n",
       "      <td>81.0</td>\n",
       "      <td>0.0</td>\n",
       "      <td>0.0</td>\n",
       "      <td>0.0</td>\n",
       "      <td>1950.0</td>\n",
       "    </tr>\n",
       "    <tr>\n",
       "      <th>9</th>\n",
       "      <td>30720.0</td>\n",
       "      <td>15360.0</td>\n",
       "      <td>1000.0</td>\n",
       "      <td>3000.0</td>\n",
       "      <td>1950.0</td>\n",
       "      <td>150.0</td>\n",
       "      <td>1.0</td>\n",
       "      <td>1.0</td>\n",
       "      <td>1950.0</td>\n",
       "      <td>466.0</td>\n",
       "      <td>57.0</td>\n",
       "      <td>0.0</td>\n",
       "      <td>0.0</td>\n",
       "      <td>0.0</td>\n",
       "      <td>1950.0</td>\n",
       "    </tr>\n",
       "    <tr>\n",
       "      <th>...</th>\n",
       "      <th>...</th>\n",
       "      <td>...</td>\n",
       "      <td>...</td>\n",
       "      <td>...</td>\n",
       "      <td>...</td>\n",
       "      <td>...</td>\n",
       "      <td>...</td>\n",
       "      <td>...</td>\n",
       "      <td>...</td>\n",
       "      <td>...</td>\n",
       "      <td>...</td>\n",
       "      <td>...</td>\n",
       "      <td>...</td>\n",
       "      <td>...</td>\n",
       "      <td>...</td>\n",
       "      <td>...</td>\n",
       "    </tr>\n",
       "    <tr>\n",
       "      <th>1498</th>\n",
       "      <th>10</th>\n",
       "      <td>15360.0</td>\n",
       "      <td>21504.0</td>\n",
       "      <td>50.0</td>\n",
       "      <td>500.0</td>\n",
       "      <td>550.0</td>\n",
       "      <td>200.0</td>\n",
       "      <td>3.0</td>\n",
       "      <td>3.0</td>\n",
       "      <td>550.0</td>\n",
       "      <td>247.0</td>\n",
       "      <td>42.0</td>\n",
       "      <td>1200.0</td>\n",
       "      <td>0.0</td>\n",
       "      <td>0.0</td>\n",
       "      <td>1750.0</td>\n",
       "    </tr>\n",
       "    <tr>\n",
       "      <th rowspan=\"4\" valign=\"top\">1499</th>\n",
       "      <th>9</th>\n",
       "      <td>15360.0</td>\n",
       "      <td>2048.0</td>\n",
       "      <td>50.0</td>\n",
       "      <td>500.0</td>\n",
       "      <td>550.0</td>\n",
       "      <td>200.0</td>\n",
       "      <td>3.0</td>\n",
       "      <td>3.0</td>\n",
       "      <td>550.0</td>\n",
       "      <td>70.0</td>\n",
       "      <td>11.0</td>\n",
       "      <td>0.0</td>\n",
       "      <td>0.0</td>\n",
       "      <td>0.0</td>\n",
       "      <td>550.0</td>\n",
       "    </tr>\n",
       "    <tr>\n",
       "      <th>10</th>\n",
       "      <td>15360.0</td>\n",
       "      <td>18432.0</td>\n",
       "      <td>50.0</td>\n",
       "      <td>500.0</td>\n",
       "      <td>550.0</td>\n",
       "      <td>200.0</td>\n",
       "      <td>3.0</td>\n",
       "      <td>3.0</td>\n",
       "      <td>550.0</td>\n",
       "      <td>449.0</td>\n",
       "      <td>48.0</td>\n",
       "      <td>600.0</td>\n",
       "      <td>0.0</td>\n",
       "      <td>0.0</td>\n",
       "      <td>1150.0</td>\n",
       "    </tr>\n",
       "    <tr>\n",
       "      <th>11</th>\n",
       "      <td>15360.0</td>\n",
       "      <td>18432.0</td>\n",
       "      <td>50.0</td>\n",
       "      <td>500.0</td>\n",
       "      <td>550.0</td>\n",
       "      <td>200.0</td>\n",
       "      <td>3.0</td>\n",
       "      <td>3.0</td>\n",
       "      <td>550.0</td>\n",
       "      <td>612.0</td>\n",
       "      <td>59.0</td>\n",
       "      <td>600.0</td>\n",
       "      <td>336.0</td>\n",
       "      <td>27.0</td>\n",
       "      <td>1513.0</td>\n",
       "    </tr>\n",
       "    <tr>\n",
       "      <th>12</th>\n",
       "      <td>15360.0</td>\n",
       "      <td>13312.0</td>\n",
       "      <td>50.0</td>\n",
       "      <td>500.0</td>\n",
       "      <td>550.0</td>\n",
       "      <td>200.0</td>\n",
       "      <td>3.0</td>\n",
       "      <td>3.0</td>\n",
       "      <td>550.0</td>\n",
       "      <td>492.0</td>\n",
       "      <td>66.0</td>\n",
       "      <td>0.0</td>\n",
       "      <td>0.0</td>\n",
       "      <td>48.0</td>\n",
       "      <td>598.0</td>\n",
       "    </tr>\n",
       "  </tbody>\n",
       "</table>\n",
       "<p>3163 rows × 15 columns</p>\n",
       "</div>"
      ],
      "text/plain": [
       "               mb_per_month_included  mb_used  messages_included  \\\n",
       "user_id month                                                      \n",
       "1000    5                    30720.0   3072.0             1000.0   \n",
       "        6                    30720.0  23552.0             1000.0   \n",
       "        7                    30720.0  14336.0             1000.0   \n",
       "        8                    30720.0  14336.0             1000.0   \n",
       "        9                    30720.0  15360.0             1000.0   \n",
       "...                              ...      ...                ...   \n",
       "1498    10                   15360.0  21504.0               50.0   \n",
       "1499    9                    15360.0   2048.0               50.0   \n",
       "        10                   15360.0  18432.0               50.0   \n",
       "        11                   15360.0  18432.0               50.0   \n",
       "        12                   15360.0  13312.0               50.0   \n",
       "\n",
       "               minutes_included  rub_monthly_fee  rub_per_gb  rub_per_message  \\\n",
       "user_id month                                                                   \n",
       "1000    5                3000.0           1950.0       150.0              1.0   \n",
       "        6                3000.0           1950.0       150.0              1.0   \n",
       "        7                3000.0           1950.0       150.0              1.0   \n",
       "        8                3000.0           1950.0       150.0              1.0   \n",
       "        9                3000.0           1950.0       150.0              1.0   \n",
       "...                         ...              ...         ...              ...   \n",
       "1498    10                500.0            550.0       200.0              3.0   \n",
       "1499    9                 500.0            550.0       200.0              3.0   \n",
       "        10                500.0            550.0       200.0              3.0   \n",
       "        11                500.0            550.0       200.0              3.0   \n",
       "        12                500.0            550.0       200.0              3.0   \n",
       "\n",
       "               rub_per_minute  tariff_price  calls_duration  message_count  \\\n",
       "user_id month                                                                \n",
       "1000    5                 1.0        1950.0           159.0           22.0   \n",
       "        6                 1.0        1950.0           172.0           60.0   \n",
       "        7                 1.0        1950.0           340.0           75.0   \n",
       "        8                 1.0        1950.0           408.0           81.0   \n",
       "        9                 1.0        1950.0           466.0           57.0   \n",
       "...                       ...           ...             ...            ...   \n",
       "1498    10                3.0         550.0           247.0           42.0   \n",
       "1499    9                 3.0         550.0            70.0           11.0   \n",
       "        10                3.0         550.0           449.0           48.0   \n",
       "        11                3.0         550.0           612.0           59.0   \n",
       "        12                3.0         550.0           492.0           66.0   \n",
       "\n",
       "               internet_income  calls_income  message_income  total_income  \n",
       "user_id month                                                               \n",
       "1000    5                  0.0           0.0             0.0        1950.0  \n",
       "        6                  0.0           0.0             0.0        1950.0  \n",
       "        7                  0.0           0.0             0.0        1950.0  \n",
       "        8                  0.0           0.0             0.0        1950.0  \n",
       "        9                  0.0           0.0             0.0        1950.0  \n",
       "...                        ...           ...             ...           ...  \n",
       "1498    10              1200.0           0.0             0.0        1750.0  \n",
       "1499    9                  0.0           0.0             0.0         550.0  \n",
       "        10               600.0           0.0             0.0        1150.0  \n",
       "        11               600.0         336.0            27.0        1513.0  \n",
       "        12                 0.0           0.0            48.0         598.0  \n",
       "\n",
       "[3163 rows x 15 columns]"
      ]
     },
     "execution_count": 104,
     "metadata": {},
     "output_type": "execute_result"
    }
   ],
   "source": [
    "# итоговая таблица\n",
    "aggregate_income"
   ]
  },
  {
   "cell_type": "markdown",
   "id": "0225b57f",
   "metadata": {},
   "source": [
    "## Описание поведение клиентов оператора\n",
    "\n",
    "*Опишите поведение клиентов оператора, исходя из выборки. Сколько минут разговора, сколько сообщений и какой объём интернет-трафика требуется пользователям каждого тарифа в месяц? Посчитайте среднее количество, дисперсию и стандартное отклонение. Постройте гистограммы. Опишите распределения.*"
   ]
  },
  {
   "cell_type": "markdown",
   "id": "8ad5a231",
   "metadata": {},
   "source": [
    "### Анализ Calls"
   ]
  },
  {
   "cell_type": "code",
   "execution_count": 105,
   "id": "56ba0a4a",
   "metadata": {},
   "outputs": [],
   "source": [
    "calls_data_smart = aggregate_income.query('tariff_price == 550.0')[['calls_duration']] # данные по тарифу smart\n",
    "calls_data_ultra = aggregate_income.query('tariff_price == 1950.0')[['calls_duration']] # данные по тарифу ultra"
   ]
  },
  {
   "cell_type": "code",
   "execution_count": 106,
   "id": "fbfe35ce",
   "metadata": {},
   "outputs": [
    {
     "data": {
      "text/html": [
       "<div>\n",
       "<style scoped>\n",
       "    .dataframe tbody tr th:only-of-type {\n",
       "        vertical-align: middle;\n",
       "    }\n",
       "\n",
       "    .dataframe tbody tr th {\n",
       "        vertical-align: top;\n",
       "    }\n",
       "\n",
       "    .dataframe thead th {\n",
       "        text-align: right;\n",
       "    }\n",
       "</style>\n",
       "<table border=\"1\" class=\"dataframe\">\n",
       "  <thead>\n",
       "    <tr style=\"text-align: right;\">\n",
       "      <th></th>\n",
       "      <th>calls_duration</th>\n",
       "    </tr>\n",
       "  </thead>\n",
       "  <tbody>\n",
       "    <tr>\n",
       "      <th>count</th>\n",
       "      <td>2222.000000</td>\n",
       "    </tr>\n",
       "    <tr>\n",
       "      <th>mean</th>\n",
       "      <td>419.229073</td>\n",
       "    </tr>\n",
       "    <tr>\n",
       "      <th>std</th>\n",
       "      <td>189.206167</td>\n",
       "    </tr>\n",
       "    <tr>\n",
       "      <th>min</th>\n",
       "      <td>0.000000</td>\n",
       "    </tr>\n",
       "    <tr>\n",
       "      <th>25%</th>\n",
       "      <td>285.000000</td>\n",
       "    </tr>\n",
       "    <tr>\n",
       "      <th>50%</th>\n",
       "      <td>423.000000</td>\n",
       "    </tr>\n",
       "    <tr>\n",
       "      <th>75%</th>\n",
       "      <td>545.750000</td>\n",
       "    </tr>\n",
       "    <tr>\n",
       "      <th>max</th>\n",
       "      <td>1435.000000</td>\n",
       "    </tr>\n",
       "  </tbody>\n",
       "</table>\n",
       "</div>"
      ],
      "text/plain": [
       "       calls_duration\n",
       "count     2222.000000\n",
       "mean       419.229073\n",
       "std        189.206167\n",
       "min          0.000000\n",
       "25%        285.000000\n",
       "50%        423.000000\n",
       "75%        545.750000\n",
       "max       1435.000000"
      ]
     },
     "execution_count": 106,
     "metadata": {},
     "output_type": "execute_result"
    }
   ],
   "source": [
    "# описание данных звонков тарифа смарт\n",
    "calls_data_smart.describe()"
   ]
  },
  {
   "cell_type": "code",
   "execution_count": 107,
   "id": "c23d7ab7",
   "metadata": {
    "scrolled": false
   },
   "outputs": [
    {
     "data": {
      "text/html": [
       "<div>\n",
       "<style scoped>\n",
       "    .dataframe tbody tr th:only-of-type {\n",
       "        vertical-align: middle;\n",
       "    }\n",
       "\n",
       "    .dataframe tbody tr th {\n",
       "        vertical-align: top;\n",
       "    }\n",
       "\n",
       "    .dataframe thead th {\n",
       "        text-align: right;\n",
       "    }\n",
       "</style>\n",
       "<table border=\"1\" class=\"dataframe\">\n",
       "  <thead>\n",
       "    <tr style=\"text-align: right;\">\n",
       "      <th></th>\n",
       "      <th>calls_duration</th>\n",
       "    </tr>\n",
       "  </thead>\n",
       "  <tbody>\n",
       "    <tr>\n",
       "      <th>count</th>\n",
       "      <td>941.000000</td>\n",
       "    </tr>\n",
       "    <tr>\n",
       "      <th>mean</th>\n",
       "      <td>548.890542</td>\n",
       "    </tr>\n",
       "    <tr>\n",
       "      <th>std</th>\n",
       "      <td>306.619353</td>\n",
       "    </tr>\n",
       "    <tr>\n",
       "      <th>min</th>\n",
       "      <td>0.000000</td>\n",
       "    </tr>\n",
       "    <tr>\n",
       "      <th>25%</th>\n",
       "      <td>315.000000</td>\n",
       "    </tr>\n",
       "    <tr>\n",
       "      <th>50%</th>\n",
       "      <td>531.000000</td>\n",
       "    </tr>\n",
       "    <tr>\n",
       "      <th>75%</th>\n",
       "      <td>760.000000</td>\n",
       "    </tr>\n",
       "    <tr>\n",
       "      <th>max</th>\n",
       "      <td>1673.000000</td>\n",
       "    </tr>\n",
       "  </tbody>\n",
       "</table>\n",
       "</div>"
      ],
      "text/plain": [
       "       calls_duration\n",
       "count      941.000000\n",
       "mean       548.890542\n",
       "std        306.619353\n",
       "min          0.000000\n",
       "25%        315.000000\n",
       "50%        531.000000\n",
       "75%        760.000000\n",
       "max       1673.000000"
      ]
     },
     "execution_count": 107,
     "metadata": {},
     "output_type": "execute_result"
    }
   ],
   "source": [
    "# описание данных звонков тарифа ультра\n",
    "calls_data_ultra.describe()"
   ]
  },
  {
   "cell_type": "code",
   "execution_count": 108,
   "id": "d11606fc",
   "metadata": {},
   "outputs": [
    {
     "name": "stdout",
     "output_type": "stream",
     "text": [
      "Дисперсия звонков  клиентов тарифа smart: 35798.973616339645\n",
      "Дисперсия звонков  клиентов тарифа ultra: 94015.42736789733\n"
     ]
    }
   ],
   "source": [
    "# считаем дисперсию для звонков по тарифам\n",
    "var_calls_smart = np.var(calls_data_smart['calls_duration'], ddof=1)\n",
    "print(f\"Дисперсия звонков  клиентов тарифа smart: {var_calls_smart}\")\n",
    "\n",
    "var_calls_ultra = np.var(calls_data_ultra['calls_duration'], ddof=1, dtype=None)\n",
    "print(f\"Дисперсия звонков  клиентов тарифа ultra: {var_calls_ultra}\")"
   ]
  },
  {
   "cell_type": "code",
   "execution_count": 109,
   "id": "5c25ca71",
   "metadata": {},
   "outputs": [
    {
     "name": "stdout",
     "output_type": "stream",
     "text": [
      "Стандартное отклонение звонков  клиентов тарифа smart: 189.2061669617025\n",
      "Стандартное отклонение звонков  клиентов тарифа ultra: 306.61935256584394\n"
     ]
    }
   ],
   "source": [
    "# считаем стандартное отклонение для звонков по тарифам\n",
    "std_smart_deviation_calls = np.sqrt(var_calls_smart)\n",
    "print(f\"Стандартное отклонение звонков  клиентов тарифа smart: {std_smart_deviation_calls}\")\n",
    "\n",
    "std_ultra_deviation_calls = np.sqrt(var_calls_ultra)\n",
    "print(f\"Стандартное отклонение звонков  клиентов тарифа ultra: {std_ultra_deviation_calls}\")"
   ]
  },
  {
   "cell_type": "code",
   "execution_count": 110,
   "id": "d652112c",
   "metadata": {},
   "outputs": [
    {
     "name": "stdout",
     "output_type": "stream",
     "text": [
      "Данные по звонкам для тарифа smart находятся в диапозоне от -148.39 до 986.85\n",
      "Данные по звонкам для тарифа ultra находятся в диапозоне от -370.97 до 1468.75\n"
     ]
    }
   ],
   "source": [
    "# применяем правило трёх сигм для определения диапозона\n",
    "adv_calls_smart_min = round(calls_data_smart['calls_duration'].mean() - 3*std_smart_deviation_calls, 2)\n",
    "adv_calls_smart_max = round(3*std_smart_deviation_calls + calls_data_smart['calls_duration'].mean(), 2)\n",
    "\n",
    "print(f'Данные по звонкам для тарифа smart находятся в диапозоне от {adv_calls_smart_min} до {adv_calls_smart_max}')\n",
    "\n",
    "\n",
    "adv_calls_ultra_min = round(calls_data_ultra['calls_duration'].mean() - 3*std_ultra_deviation_calls, 2)\n",
    "adv_calls_ultra_max = round(3*std_ultra_deviation_calls + calls_data_ultra['calls_duration'].mean(), 2)\n",
    "\n",
    "print(f'Данные по звонкам для тарифа ultra находятся в диапозоне от {adv_calls_ultra_min} до {adv_calls_ultra_max}')"
   ]
  },
  {
   "cell_type": "code",
   "execution_count": 111,
   "id": "e0165664",
   "metadata": {},
   "outputs": [
    {
     "name": "stderr",
     "output_type": "stream",
     "text": [
      "C:\\ProgramData\\Anaconda3\\lib\\site-packages\\seaborn\\distributions.py:2557: FutureWarning: `distplot` is a deprecated function and will be removed in a future version. Please adapt your code to use either `displot` (a figure-level function with similar flexibility) or `histplot` (an axes-level function for histograms).\n",
      "  warnings.warn(msg, FutureWarning)\n",
      "C:\\ProgramData\\Anaconda3\\lib\\site-packages\\seaborn\\distributions.py:2557: FutureWarning: `distplot` is a deprecated function and will be removed in a future version. Please adapt your code to use either `displot` (a figure-level function with similar flexibility) or `histplot` (an axes-level function for histograms).\n",
      "  warnings.warn(msg, FutureWarning)\n"
     ]
    },
    {
     "data": {
      "image/png": "[encoded data removed]",
      "text/plain": [
       "<Figure size 1080x432 with 2 Axes>"
      ]
     },
     "metadata": {
      "needs_background": "light"
     },
     "output_type": "display_data"
    }
   ],
   "source": [
    "# строим графики для визуальной оценки данных\n",
    "fig = plt.figure(figsize=(15, 6))\n",
    "\n",
    "ax1 = plt.subplot(1, 2, 1)\n",
    "ax1 = sns.distplot(calls_data_smart['calls_duration'],  \n",
    "                   kde=True,\n",
    "                   hist_kws={'edgecolor':'black'},\n",
    "                   bins=30, \n",
    "                   color = 'orange')            \n",
    "ax1.set(xlabel ='минуты', ylabel = 'Клиенты', title ='Среднние затраты на звонки в месяц тарифа Smart')\n",
    "\n",
    "\n",
    "ax2 = plt.subplot(1, 2, 2)\n",
    "ax2 = sns.distplot(calls_data_ultra['calls_duration'],\n",
    "                   kde=True,\n",
    "                   bins=30,\n",
    "                   hist_kws={'edgecolor':'black'},\n",
    "                   color = 'blue')\n",
    "ax2.set(xlabel ='минуты', ylabel = 'Клиенты', title ='Среднние затраты на звонки в месяц тарифа Ultra')\n",
    "plt.show()"
   ]
  },
  {
   "cell_type": "markdown",
   "id": "e8639659",
   "metadata": {},
   "source": [
    "### Вывод по calls"
   ]
  },
  {
   "cell_type": "markdown",
   "id": "03627d49",
   "metadata": {},
   "source": [
    "*Обе гистограммы имеют нормальное распределение, а их средняя и медианы координально не отличаются друг от друга*\n",
    "\n",
    "<font color='red'>smart</font>:\n",
    "\n",
    "медиана: 423  средняя: 419.2\n",
    " \n",
    "<font color='red'>ultra</font>:\n",
    "\n",
    "медиана: 531  средняя: 548.9"
   ]
  },
  {
   "cell_type": "markdown",
   "id": "982de76e",
   "metadata": {},
   "source": [
    "### Анализ messages"
   ]
  },
  {
   "cell_type": "code",
   "execution_count": 112,
   "id": "ba39ee44",
   "metadata": {},
   "outputs": [],
   "source": [
    "messages_data_smart = aggregate_income.query('tariff_price == 550.0')[['message_count']] # данные по тарифу smart\n",
    "messages_data_ultra = aggregate_income.query('tariff_price == 1950.0')[['message_count']] # данные по тарифу ultra"
   ]
  },
  {
   "cell_type": "code",
   "execution_count": 113,
   "id": "06bd8026",
   "metadata": {},
   "outputs": [
    {
     "data": {
      "text/html": [
       "<div>\n",
       "<style scoped>\n",
       "    .dataframe tbody tr th:only-of-type {\n",
       "        vertical-align: middle;\n",
       "    }\n",
       "\n",
       "    .dataframe tbody tr th {\n",
       "        vertical-align: top;\n",
       "    }\n",
       "\n",
       "    .dataframe thead th {\n",
       "        text-align: right;\n",
       "    }\n",
       "</style>\n",
       "<table border=\"1\" class=\"dataframe\">\n",
       "  <thead>\n",
       "    <tr style=\"text-align: right;\">\n",
       "      <th></th>\n",
       "      <th>message_count</th>\n",
       "    </tr>\n",
       "  </thead>\n",
       "  <tbody>\n",
       "    <tr>\n",
       "      <th>count</th>\n",
       "      <td>2222.000000</td>\n",
       "    </tr>\n",
       "    <tr>\n",
       "      <th>mean</th>\n",
       "      <td>33.410891</td>\n",
       "    </tr>\n",
       "    <tr>\n",
       "      <th>std</th>\n",
       "      <td>28.257434</td>\n",
       "    </tr>\n",
       "    <tr>\n",
       "      <th>min</th>\n",
       "      <td>0.000000</td>\n",
       "    </tr>\n",
       "    <tr>\n",
       "      <th>25%</th>\n",
       "      <td>10.000000</td>\n",
       "    </tr>\n",
       "    <tr>\n",
       "      <th>50%</th>\n",
       "      <td>28.000000</td>\n",
       "    </tr>\n",
       "    <tr>\n",
       "      <th>75%</th>\n",
       "      <td>51.000000</td>\n",
       "    </tr>\n",
       "    <tr>\n",
       "      <th>max</th>\n",
       "      <td>143.000000</td>\n",
       "    </tr>\n",
       "  </tbody>\n",
       "</table>\n",
       "</div>"
      ],
      "text/plain": [
       "       message_count\n",
       "count    2222.000000\n",
       "mean       33.410891\n",
       "std        28.257434\n",
       "min         0.000000\n",
       "25%        10.000000\n",
       "50%        28.000000\n",
       "75%        51.000000\n",
       "max       143.000000"
      ]
     },
     "execution_count": 113,
     "metadata": {},
     "output_type": "execute_result"
    }
   ],
   "source": [
    "# описание данных звонков тарифа смарт\n",
    "messages_data_smart.describe()"
   ]
  },
  {
   "cell_type": "code",
   "execution_count": 114,
   "id": "8dc27687",
   "metadata": {
    "scrolled": false
   },
   "outputs": [
    {
     "data": {
      "text/html": [
       "<div>\n",
       "<style scoped>\n",
       "    .dataframe tbody tr th:only-of-type {\n",
       "        vertical-align: middle;\n",
       "    }\n",
       "\n",
       "    .dataframe tbody tr th {\n",
       "        vertical-align: top;\n",
       "    }\n",
       "\n",
       "    .dataframe thead th {\n",
       "        text-align: right;\n",
       "    }\n",
       "</style>\n",
       "<table border=\"1\" class=\"dataframe\">\n",
       "  <thead>\n",
       "    <tr style=\"text-align: right;\">\n",
       "      <th></th>\n",
       "      <th>message_count</th>\n",
       "    </tr>\n",
       "  </thead>\n",
       "  <tbody>\n",
       "    <tr>\n",
       "      <th>count</th>\n",
       "      <td>941.000000</td>\n",
       "    </tr>\n",
       "    <tr>\n",
       "      <th>mean</th>\n",
       "      <td>49.260361</td>\n",
       "    </tr>\n",
       "    <tr>\n",
       "      <th>std</th>\n",
       "      <td>47.066174</td>\n",
       "    </tr>\n",
       "    <tr>\n",
       "      <th>min</th>\n",
       "      <td>0.000000</td>\n",
       "    </tr>\n",
       "    <tr>\n",
       "      <th>25%</th>\n",
       "      <td>5.000000</td>\n",
       "    </tr>\n",
       "    <tr>\n",
       "      <th>50%</th>\n",
       "      <td>40.000000</td>\n",
       "    </tr>\n",
       "    <tr>\n",
       "      <th>75%</th>\n",
       "      <td>79.000000</td>\n",
       "    </tr>\n",
       "    <tr>\n",
       "      <th>max</th>\n",
       "      <td>224.000000</td>\n",
       "    </tr>\n",
       "  </tbody>\n",
       "</table>\n",
       "</div>"
      ],
      "text/plain": [
       "       message_count\n",
       "count     941.000000\n",
       "mean       49.260361\n",
       "std        47.066174\n",
       "min         0.000000\n",
       "25%         5.000000\n",
       "50%        40.000000\n",
       "75%        79.000000\n",
       "max       224.000000"
      ]
     },
     "execution_count": 114,
     "metadata": {},
     "output_type": "execute_result"
    }
   ],
   "source": [
    "# описание данных звонков тарифа ультра\n",
    "messages_data_ultra.describe()"
   ]
  },
  {
   "cell_type": "code",
   "execution_count": 115,
   "id": "ff843c8d",
   "metadata": {},
   "outputs": [
    {
     "name": "stdout",
     "output_type": "stream",
     "text": [
      "Дисперсия сообщений  клиентов тарифа smart: 798.4826008264934\n",
      "Дисперсия сообщений  клиентов тарифа ultra: 2215.224693060807\n"
     ]
    }
   ],
   "source": [
    "# считаем дисперсию для сообщений по тарифам\n",
    "var_messages_smart = np.var(messages_data_smart['message_count'], ddof=1)\n",
    "print(f\"Дисперсия сообщений  клиентов тарифа smart: {var_messages_smart}\")\n",
    "\n",
    "var_messages_ultra = np.var(messages_data_ultra['message_count'], ddof=1, dtype=None)\n",
    "print(f\"Дисперсия сообщений  клиентов тарифа ultra: {var_messages_ultra}\")"
   ]
  },
  {
   "cell_type": "code",
   "execution_count": 116,
   "id": "82eb8502",
   "metadata": {},
   "outputs": [
    {
     "name": "stdout",
     "output_type": "stream",
     "text": [
      "Стандартное отклонение звонков  клиентов тарифа smart: 28.25743443461372\n",
      "Стандартное отклонение звонков  клиентов тарифа ultra: 47.06617355448398\n"
     ]
    }
   ],
   "source": [
    "# считаем стандартное отклонение для сообщений по тарифам\n",
    "std_smart_deviation_messages = np.sqrt(var_messages_smart)\n",
    "print(f\"Стандартное отклонение звонков  клиентов тарифа smart: {std_smart_deviation_messages}\")\n",
    "\n",
    "std_ultra_deviation_messages = np.sqrt(var_messages_ultra)\n",
    "print(f\"Стандартное отклонение звонков  клиентов тарифа ultra: {std_ultra_deviation_messages}\")"
   ]
  },
  {
   "cell_type": "code",
   "execution_count": 117,
   "id": "02c5c9a7",
   "metadata": {},
   "outputs": [
    {
     "name": "stdout",
     "output_type": "stream",
     "text": [
      "Данные по звонкам для тарифа smart находятся в диапозоне от -51.36 до 118.18\n",
      "Данные по звонкам для тарифа ultra находятся в диапозоне от -91.94 до 190.46\n"
     ]
    }
   ],
   "source": [
    "# применяем правило трёх сигм для определения диапозона\n",
    "adv_messages_smart_min = round(messages_data_smart['message_count'].mean() - 3*std_smart_deviation_messages, 2)\n",
    "adv_messages_smart_max = round(3*std_smart_deviation_messages + messages_data_smart['message_count'].mean(), 2)\n",
    "\n",
    "print(f'Данные по звонкам для тарифа smart находятся в диапозоне от {adv_messages_smart_min} до {adv_messages_smart_max}')\n",
    "\n",
    "\n",
    "adv_messages_ultra_min = round(messages_data_ultra['message_count'].mean() - 3*std_ultra_deviation_messages, 2)\n",
    "adv_messages_ultra_max = round(3*std_ultra_deviation_messages + messages_data_ultra['message_count'].mean(), 2)\n",
    "\n",
    "print(f'Данные по звонкам для тарифа ultra находятся в диапозоне от {adv_messages_ultra_min} до {adv_messages_ultra_max}')"
   ]
  },
  {
   "cell_type": "code",
   "execution_count": 118,
   "id": "10af1f7f",
   "metadata": {},
   "outputs": [
    {
     "name": "stderr",
     "output_type": "stream",
     "text": [
      "C:\\ProgramData\\Anaconda3\\lib\\site-packages\\seaborn\\distributions.py:2557: FutureWarning: `distplot` is a deprecated function and will be removed in a future version. Please adapt your code to use either `displot` (a figure-level function with similar flexibility) or `histplot` (an axes-level function for histograms).\n",
      "  warnings.warn(msg, FutureWarning)\n",
      "C:\\ProgramData\\Anaconda3\\lib\\site-packages\\seaborn\\distributions.py:2557: FutureWarning: `distplot` is a deprecated function and will be removed in a future version. Please adapt your code to use either `displot` (a figure-level function with similar flexibility) or `histplot` (an axes-level function for histograms).\n",
      "  warnings.warn(msg, FutureWarning)\n"
     ]
    },
    {
     "data": {
      "image/png": "[encoded data removed]",
      "text/plain": [
       "<Figure size 1080x432 with 2 Axes>"
      ]
     },
     "metadata": {
      "needs_background": "light"
     },
     "output_type": "display_data"
    }
   ],
   "source": [
    "# строим графики для визуальной оценки данных\n",
    "fig = plt.figure(figsize=(15, 6))\n",
    "\n",
    "ax1 = plt.subplot(1, 2, 1)\n",
    "ax1 = sns.distplot(messages_data_smart['message_count'],  \n",
    "                   kde=True,\n",
    "                   hist_kws={'edgecolor':'black'},\n",
    "                   bins=30, \n",
    "                   color = 'orange')            \n",
    "ax1.set(xlabel ='смс', ylabel = 'Клиенты', title ='Среднние затраты на смс в месяц тарифа Smart')\n",
    "\n",
    "\n",
    "ax2 = plt.subplot(1, 2, 2)\n",
    "ax2 = sns.distplot(messages_data_smart['message_count'],\n",
    "                   kde=True,\n",
    "                   bins=30,\n",
    "                   hist_kws={'edgecolor':'black'},\n",
    "                   color = 'blue')\n",
    "ax2.set(xlabel ='смс', ylabel = 'Клиенты', title ='Среднние затраты на смс в месяц тарифа Ultra')\n",
    "plt.show()"
   ]
  },
  {
   "cell_type": "markdown",
   "id": "75fb022a",
   "metadata": {},
   "source": [
    "### Вывод по Messages\n",
    "\n",
    "*обе гистограммы имеют четкое распределение со скосом вправо. Данные в полном порядке, об этом говоит минимальная разница в среднем и медиане*\n",
    "\n",
    "<font color='red'>smart</font>:\n",
    "\n",
    "медиана: 28  средняя: 33.4\n",
    " \n",
    "<font color='red'>ultra</font>:\n",
    "\n",
    "медиана: 40  средняя: 49"
   ]
  },
  {
   "cell_type": "markdown",
   "id": "0e327ec5",
   "metadata": {},
   "source": [
    "### Анализ internet"
   ]
  },
  {
   "cell_type": "code",
   "execution_count": 119,
   "id": "2d5e12ce",
   "metadata": {},
   "outputs": [],
   "source": [
    "# округляем до гигабайт\n",
    "internet_data_smart = aggregate_income.query('tariff_price == 550.0')[['mb_used']] / 1024 # данные по тарифу smart\n",
    "internet_data_ultra = aggregate_income.query('tariff_price == 1950.0')[['mb_used']] / 1024 # данные по тарифу ultra"
   ]
  },
  {
   "cell_type": "code",
   "execution_count": 120,
   "id": "056d9552",
   "metadata": {},
   "outputs": [
    {
     "data": {
      "text/html": [
       "<div>\n",
       "<style scoped>\n",
       "    .dataframe tbody tr th:only-of-type {\n",
       "        vertical-align: middle;\n",
       "    }\n",
       "\n",
       "    .dataframe tbody tr th {\n",
       "        vertical-align: top;\n",
       "    }\n",
       "\n",
       "    .dataframe thead th {\n",
       "        text-align: right;\n",
       "    }\n",
       "</style>\n",
       "<table border=\"1\" class=\"dataframe\">\n",
       "  <thead>\n",
       "    <tr style=\"text-align: right;\">\n",
       "      <th></th>\n",
       "      <th>mb_used</th>\n",
       "    </tr>\n",
       "  </thead>\n",
       "  <tbody>\n",
       "    <tr>\n",
       "      <th>count</th>\n",
       "      <td>2222.000000</td>\n",
       "    </tr>\n",
       "    <tr>\n",
       "      <th>mean</th>\n",
       "      <td>16.337084</td>\n",
       "    </tr>\n",
       "    <tr>\n",
       "      <th>std</th>\n",
       "      <td>5.743447</td>\n",
       "    </tr>\n",
       "    <tr>\n",
       "      <th>min</th>\n",
       "      <td>0.000000</td>\n",
       "    </tr>\n",
       "    <tr>\n",
       "      <th>25%</th>\n",
       "      <td>13.000000</td>\n",
       "    </tr>\n",
       "    <tr>\n",
       "      <th>50%</th>\n",
       "      <td>17.000000</td>\n",
       "    </tr>\n",
       "    <tr>\n",
       "      <th>75%</th>\n",
       "      <td>20.000000</td>\n",
       "    </tr>\n",
       "    <tr>\n",
       "      <th>max</th>\n",
       "      <td>38.000000</td>\n",
       "    </tr>\n",
       "  </tbody>\n",
       "</table>\n",
       "</div>"
      ],
      "text/plain": [
       "           mb_used\n",
       "count  2222.000000\n",
       "mean     16.337084\n",
       "std       5.743447\n",
       "min       0.000000\n",
       "25%      13.000000\n",
       "50%      17.000000\n",
       "75%      20.000000\n",
       "max      38.000000"
      ]
     },
     "execution_count": 120,
     "metadata": {},
     "output_type": "execute_result"
    }
   ],
   "source": [
    "# описание данных трафика тарифа смарт\n",
    "internet_data_smart.describe()"
   ]
  },
  {
   "cell_type": "code",
   "execution_count": 121,
   "id": "244f8d54",
   "metadata": {
    "scrolled": false
   },
   "outputs": [
    {
     "data": {
      "text/html": [
       "<div>\n",
       "<style scoped>\n",
       "    .dataframe tbody tr th:only-of-type {\n",
       "        vertical-align: middle;\n",
       "    }\n",
       "\n",
       "    .dataframe tbody tr th {\n",
       "        vertical-align: top;\n",
       "    }\n",
       "\n",
       "    .dataframe thead th {\n",
       "        text-align: right;\n",
       "    }\n",
       "</style>\n",
       "<table border=\"1\" class=\"dataframe\">\n",
       "  <thead>\n",
       "    <tr style=\"text-align: right;\">\n",
       "      <th></th>\n",
       "      <th>mb_used</th>\n",
       "    </tr>\n",
       "  </thead>\n",
       "  <tbody>\n",
       "    <tr>\n",
       "      <th>count</th>\n",
       "      <td>941.000000</td>\n",
       "    </tr>\n",
       "    <tr>\n",
       "      <th>mean</th>\n",
       "      <td>19.695005</td>\n",
       "    </tr>\n",
       "    <tr>\n",
       "      <th>std</th>\n",
       "      <td>9.735407</td>\n",
       "    </tr>\n",
       "    <tr>\n",
       "      <th>min</th>\n",
       "      <td>0.000000</td>\n",
       "    </tr>\n",
       "    <tr>\n",
       "      <th>25%</th>\n",
       "      <td>12.000000</td>\n",
       "    </tr>\n",
       "    <tr>\n",
       "      <th>50%</th>\n",
       "      <td>19.000000</td>\n",
       "    </tr>\n",
       "    <tr>\n",
       "      <th>75%</th>\n",
       "      <td>27.000000</td>\n",
       "    </tr>\n",
       "    <tr>\n",
       "      <th>max</th>\n",
       "      <td>49.000000</td>\n",
       "    </tr>\n",
       "  </tbody>\n",
       "</table>\n",
       "</div>"
      ],
      "text/plain": [
       "          mb_used\n",
       "count  941.000000\n",
       "mean    19.695005\n",
       "std      9.735407\n",
       "min      0.000000\n",
       "25%     12.000000\n",
       "50%     19.000000\n",
       "75%     27.000000\n",
       "max     49.000000"
      ]
     },
     "execution_count": 121,
     "metadata": {},
     "output_type": "execute_result"
    }
   ],
   "source": [
    "# описание данных трафика тарифа ультра\n",
    "internet_data_ultra.describe()"
   ]
  },
  {
   "cell_type": "code",
   "execution_count": 122,
   "id": "835835da",
   "metadata": {},
   "outputs": [
    {
     "name": "stdout",
     "output_type": "stream",
     "text": [
      "Дисперсия трафика клиентов тарифа smart: 32.987178884480116\n",
      "Дисперсия трафика клиентов тарифа ultra: 94.77815587763136\n"
     ]
    }
   ],
   "source": [
    "# считаем дисперсию для трафика по тарифам\n",
    "var_internet_smart = np.var(internet_data_smart['mb_used'], ddof=1)\n",
    "print(f\"Дисперсия трафика клиентов тарифа smart: {var_internet_smart}\")\n",
    "\n",
    "var_internet_ultra = np.var(internet_data_ultra['mb_used'], ddof=1, dtype=None)\n",
    "print(f\"Дисперсия трафика клиентов тарифа ultra: {var_internet_ultra}\")"
   ]
  },
  {
   "cell_type": "code",
   "execution_count": 123,
   "id": "d26b6ed7",
   "metadata": {},
   "outputs": [
    {
     "name": "stdout",
     "output_type": "stream",
     "text": [
      "Стандартное отклонение трафика клиентов тарифа smart: 5.743446603258371\n",
      "Стандартное отклонение трафика клиентов тарифа ultra: 9.73540732982608\n"
     ]
    }
   ],
   "source": [
    "# считаем стандартное отклонение для трафика по тарифам\n",
    "std_smart_deviation_internet = np.sqrt(var_internet_smart)\n",
    "print(f\"Стандартное отклонение трафика клиентов тарифа smart: {std_smart_deviation_internet}\")\n",
    "\n",
    "std_ultra_deviation_internet = np.sqrt(var_internet_ultra)\n",
    "print(f\"Стандартное отклонение трафика клиентов тарифа ultra: {std_ultra_deviation_internet}\")"
   ]
  },
  {
   "cell_type": "code",
   "execution_count": 124,
   "id": "dba95a4a",
   "metadata": {},
   "outputs": [
    {
     "name": "stdout",
     "output_type": "stream",
     "text": [
      "Данные по трафику для тарифа smart находятся в диапозоне от -0.89 до 33.57\n",
      "Данные по трафику для тарифа ultra находятся в диапозоне от -9.51 до 48.9\n"
     ]
    }
   ],
   "source": [
    "# применяем правило трёх сигм для определения диапозона\n",
    "adv_internet_smart_min = round(internet_data_smart['mb_used'].mean() - 3*std_smart_deviation_internet, 2)\n",
    "adv_internet_smart_max = round(3*std_smart_deviation_internet + internet_data_smart['mb_used'].mean(), 2)\n",
    "\n",
    "print(f'Данные по трафику для тарифа smart находятся в диапозоне от {adv_internet_smart_min} до {adv_internet_smart_max}')\n",
    "\n",
    "\n",
    "adv_internet_ultra_min = round(internet_data_ultra['mb_used'].mean() - 3*std_ultra_deviation_internet, 2)\n",
    "adv_internet_ultra_max = round(3*std_ultra_deviation_internet + internet_data_ultra['mb_used'].mean(), 2)\n",
    "\n",
    "print(f'Данные по трафику для тарифа ultra находятся в диапозоне от {adv_internet_ultra_min} до {adv_internet_ultra_max}')"
   ]
  },
  {
   "cell_type": "code",
   "execution_count": 125,
   "id": "58ff28e3",
   "metadata": {
    "scrolled": false
   },
   "outputs": [
    {
     "name": "stderr",
     "output_type": "stream",
     "text": [
      "C:\\ProgramData\\Anaconda3\\lib\\site-packages\\seaborn\\distributions.py:2557: FutureWarning: `distplot` is a deprecated function and will be removed in a future version. Please adapt your code to use either `displot` (a figure-level function with similar flexibility) or `histplot` (an axes-level function for histograms).\n",
      "  warnings.warn(msg, FutureWarning)\n",
      "C:\\ProgramData\\Anaconda3\\lib\\site-packages\\seaborn\\distributions.py:2557: FutureWarning: `distplot` is a deprecated function and will be removed in a future version. Please adapt your code to use either `displot` (a figure-level function with similar flexibility) or `histplot` (an axes-level function for histograms).\n",
      "  warnings.warn(msg, FutureWarning)\n"
     ]
    },
    {
     "data": {
      "image/png": "[encoded data removed]",
      "text/plain": [
       "<Figure size 1080x432 with 2 Axes>"
      ]
     },
     "metadata": {
      "needs_background": "light"
     },
     "output_type": "display_data"
    }
   ],
   "source": [
    "# строим графики для визуальной оценки данных\n",
    "fig = plt.figure(figsize=(15, 6))\n",
    "\n",
    "ax1 = plt.subplot(1, 2, 1)\n",
    "ax1 = sns.distplot(internet_data_smart['mb_used'],  \n",
    "                   kde=True,\n",
    "                   hist_kws={'edgecolor':'black'},\n",
    "                   bins=50, \n",
    "                   color = 'orange')            \n",
    "ax1.set(xlabel ='смс', ylabel = 'Клиенты', title ='Среднние затраты трафика в месяц тарифа Smart')\n",
    "\n",
    "\n",
    "ax2 = plt.subplot(1, 2, 2)\n",
    "ax2 = sns.distplot(internet_data_ultra['mb_used'],\n",
    "                   kde=True,\n",
    "                   bins=50,\n",
    "                   hist_kws={'edgecolor':'black'},\n",
    "                   color = 'blue')\n",
    "ax2.set(xlabel ='смс', ylabel = 'Клиенты', title ='Среднние затраты трафика в месяц тарифа Ultra')\n",
    "plt.show()"
   ]
  },
  {
   "cell_type": "markdown",
   "id": "a9749625",
   "metadata": {},
   "source": [
    "### Выводы по internet\n",
    "\n",
    "*обе гистограммы имеют нормальное распределение. Данные в полном порядке, об этом говоит минимальная разница в среднем и медиане*\n",
    "\n",
    "<font color='red'>smart</font>:\n",
    "\n",
    "медиана: 17  средняя: 16.3\n",
    " \n",
    "<font color='red'>ultra</font>:\n",
    "\n",
    "медиана: 19  средняя: 19.7"
   ]
  },
  {
   "cell_type": "code",
   "execution_count": 126,
   "id": "2fce48b7",
   "metadata": {},
   "outputs": [],
   "source": [
    "smart_total_income = (aggregate_income.query('tariff_price == 550.0')['total_income']) # smart\n",
    "ultra_total_income = (aggregate_income.query('tariff_price == 1950.0')['total_income']) # ultra"
   ]
  },
  {
   "cell_type": "code",
   "execution_count": 127,
   "id": "dea50af0",
   "metadata": {},
   "outputs": [
    {
     "data": {
      "text/plain": [
       "1291.2245724572458"
      ]
     },
     "execution_count": 127,
     "metadata": {},
     "output_type": "execute_result"
    }
   ],
   "source": [
    "# средняя выручка клиента тарифа smart\n",
    "smart_total_income.mean()"
   ]
  },
  {
   "cell_type": "code",
   "execution_count": 128,
   "id": "2f4218a5",
   "metadata": {},
   "outputs": [
    {
     "data": {
      "text/plain": [
       "2072.2635494155156"
      ]
     },
     "execution_count": 128,
     "metadata": {},
     "output_type": "execute_result"
    }
   ],
   "source": [
    "# средняя выручка клиента тарифа ultra\n",
    "ultra_total_income.mean()"
   ]
  },
  {
   "cell_type": "markdown",
   "id": "d4d5e519",
   "metadata": {},
   "source": [
    "### Общий вывод"
   ]
  },
  {
   "cell_type": "markdown",
   "id": "99a73678",
   "metadata": {},
   "source": [
    "*Проанализировав данные и сравнив итоговую стоимость каждой составляющей тарифного плана можно увидеть, что нисмотря на то что пользователи покупают тариф под свои нужды, можно заметить что пользователи тарифа смарт переплачивают сверх тарифа в 74.6% случаях, в своб очередь как пользователи тарифа ультра всего в 13.6%.*\n",
    "\n",
    "*Общий итог который следует из этого всего, что в случае, если компания решит проводить рекламную компанию того или иного тарифа ей стоит выбрать для этого именно Smart, т.к. количество пользователей использующих тариф Smart в 2,5 раза больше, 351 пользователь против 149 тарифа ultra, так ещё и две трети клиентов smart переплачивают за предоставляемые услуги, что безусловно идёт на руку компании.*\n",
    "\n",
    "*Но также стоит заметить что средняя выручка с одного клиента тарифа ultra примерно на 700р больше чем у тарифа smart. Я не знаю какие затраты несёт профайдер за предоставляемые \"беспратные\" лимиты и не могу сравнить истинную прибыль того или иного тарифа, оставлю это решение за директорами*"
   ]
  },
  {
   "cell_type": "markdown",
   "id": "afd362f3",
   "metadata": {},
   "source": [
    "## Проверка гипотез\n",
    "\n",
    "1. средняя выручка пользователей тарифов «Ультра» и «Смарт» различаются;\n",
    "\n",
    "2. средняя выручка пользователей из Москвы отличается от выручки пользователей из других регионов.\n",
    "\n",
    "Пороговое значение alpha задайте самостоятельно.\n",
    "\n",
    "Поясните:\n",
    "\n",
    "как вы формулировали нулевую и альтернативную гипотезы;\n",
    "\n",
    "какой критерий использовали для проверки гипотез и почему.\n"
   ]
  },
  {
   "cell_type": "markdown",
   "id": "476dcc6f",
   "metadata": {},
   "source": [
    "### 1 гипотеза: Cредняя выручка пользователей тарифов «Ультра» и «Смарт» различаются;\n",
    "\n",
    "Исходя из текста задания нам интересно узнать КАК ИМЕННО отличается выручка у двух тарифов, в большую или меньшую сторону - не имеет значения, потому применяе двустороннюю гипотезу для двух ГС\n",
    "\n",
    "Следовательно:\n",
    "\n",
    "Задаём нулевую гипотезу H0 - доход тарифов Smart и Ultra не различаются;\n",
    "\n",
    "Альтернативную гипотезу гипотезу H1 - доход тарифов Smart и Ultra различаются."
   ]
  },
  {
   "cell_type": "code",
   "execution_count": 129,
   "id": "164582f8",
   "metadata": {},
   "outputs": [],
   "source": [
    "alpha = .01\n",
    "# задаём критический уровень теоритической значимости, \n",
    "# если p-value будет превышать это значения значит теорию можно будет отвергнуть"
   ]
  },
  {
   "cell_type": "code",
   "execution_count": 130,
   "id": "2b621b88",
   "metadata": {},
   "outputs": [],
   "source": [
    "smart_income = (aggregate_income.query('tariff_price == 550.0')['total_income']) # smart\n",
    "ultra_income = (aggregate_income.query('tariff_price == 1950.0')['total_income']) # ultra"
   ]
  },
  {
   "cell_type": "code",
   "execution_count": 131,
   "id": "c25fc175",
   "metadata": {
    "scrolled": true
   },
   "outputs": [
    {
     "name": "stdout",
     "output_type": "stream",
     "text": [
      "p-значение:  3.24470859092255e-154\n",
      "Отвергаем нулевую гипотезу\n"
     ]
    }
   ],
   "source": [
    "results_test = st.ttest_ind(smart_income,\n",
    "                         ultra_income\n",
    ")\n",
    "\n",
    "print('p-значение: ', results_test.pvalue)\n",
    "\n",
    "if results_test.pvalue < alpha:\n",
    "    print(\"Отвергаем нулевую гипотезу\")\n",
    "else:\n",
    "    print(\"Не получилось отвергнуть нулевую гипотезу\") "
   ]
  },
  {
   "cell_type": "markdown",
   "id": "2b1092cd",
   "metadata": {},
   "source": [
    "*Получилась слишком мизерная вероятнось подтверждения гипотезы, поэтому мы ее отвергаем*"
   ]
  },
  {
   "cell_type": "markdown",
   "id": "d9f1b2e8",
   "metadata": {},
   "source": [
    "### 2 гипотеза: средняя выручка пользователей из Москвы отличается от выручки пользователей из других регионов\n",
    "\n",
    "В этой гипотезе так нас интересует отличие в целом, значит снова применяем двустороннюю гипотезу\n",
    "\n",
    "Нулевая гипотеза H0 - средняя выручка в Москве приблизительно равна выручки в других регионах;\n",
    "\n",
    "Альтернативная гипотеза H1 - средняя выручка в Москве отличается от выручки в других регионах;"
   ]
  },
  {
   "cell_type": "code",
   "execution_count": 132,
   "id": "bc96de92",
   "metadata": {},
   "outputs": [],
   "source": [
    "# подготовим данные\n",
    "city_aggregate_income = aggregate_income.reset_index().merge(users_data[['user_id', 'city']], on='user_id', validate='m:1')"
   ]
  },
  {
   "cell_type": "code",
   "execution_count": 133,
   "id": "4bbf6b5a",
   "metadata": {},
   "outputs": [],
   "source": [
    "# выделяем датасеты в переменные для работы со статистической значимостью\n",
    "Moscow_income = city_aggregate_income.query('city == \"Москва\"')['total_income']\n",
    "Other_area_income = city_aggregate_income.query('city != \"Москва\"')['total_income']"
   ]
  },
  {
   "cell_type": "code",
   "execution_count": 134,
   "id": "e59c7521",
   "metadata": {},
   "outputs": [
    {
     "name": "stdout",
     "output_type": "stream",
     "text": [
      "p-значение:  0.44090823896943043\n",
      "Не получилось отвергнуть нулевую гипотезу\n"
     ]
    }
   ],
   "source": [
    "# проверяем двустороннюю гипотезу на выборках\n",
    "results_test_2 = st.ttest_ind(Moscow_income,\n",
    "                         Other_area_income\n",
    ")\n",
    "\n",
    "print('p-значение: ', results_test_2.pvalue)\n",
    "\n",
    "if results_test_2.pvalue < alpha:\n",
    "    print(\"Отвергаем нулевую гипотезу\")\n",
    "else:\n",
    "    print(\"Не получилось отвергнуть нулевую гипотезу\") "
   ]
  },
  {
   "cell_type": "markdown",
   "id": "39627f92",
   "metadata": {},
   "source": [
    "*Вероятность подтверждения гипотезы 44,1%, что не даёт с уверенностью заявить о том что затраты жителей Москвы координально отличаются от затрат по другим регионам*"
   ]
  },
  {
   "cell_type": "markdown",
   "id": "d4607aba",
   "metadata": {},
   "source": [
    "## Общий вывод"
   ]
  },
  {
   "cell_type": "markdown",
   "id": "8c2270e1",
   "metadata": {},
   "source": [
    "### Предобработка данных\n",
    "\n",
    "Большая часть данных была в отличном состоянии, отсутствовали дубликаты и пропуски там где их быть не должно. Основной частью предобработки стало:\n",
    "\n",
    "1. Убран лишний столбец Unnamed 0 из internet_data;\n",
    "2. Поменяли формат данных в колонках отвечающих за время с object на datetime в колонках ['churn_date', 'reg_date', 'session_date', 'message_date', 'call_date']\n",
    "3. Добавить стоимость тарифа в tariffs_data.\n"
   ]
  },
  {
   "cell_type": "markdown",
   "id": "a3b7c101",
   "metadata": {},
   "source": [
    "### Анализ данных\n",
    "\n",
    "*В среднем количество затреченных ресурсов: минут на звонок, трафика и СМС у пользователей обоих тарифов примерно одинаковое, но основным нюансом является тот факт что в погоне за \"экономией\" пользователи тарифа Smart переплачивают гораздо чаще, в свою очередь как пользователи тарифа Ultra редко превышают выделенные их тарифу лимиты, что позволяет компании экономить на трафике здесь и получать большую прибыль в тарифе Smart*"
   ]
  },
  {
   "cell_type": "markdown",
   "id": "fa107163",
   "metadata": {},
   "source": [
    "### Проверка гипотез\n",
    "\n"
   ]
  },
  {
   "cell_type": "markdown",
   "id": "fd3cc731",
   "metadata": {},
   "source": [
    "1 Гипотеза\n",
    "\n",
    "*Нам не удалось принять нулевую гипотезу о том, что прибыль с тарифов Smart и Ultra не различаются и это закономерность, такой вывод можно сделать взглянув на данные потребление. Они практически идентичны, но учитывая то что пользователи Smart гораздо чаще превышают лимиты следовательно и выручка с них идёт больше, что и подтверждает нашу альтернативную теорию о различности дохода*\n",
    "\n",
    "2 Гипотеза\n",
    "\n",
    "*Зная что потребление среди всех пользователей вне зависимости от тарифа распределено примерно одинаков мы делаем соответствующие выводы о том, что Москва не приносит больше денег чем другие регионы и подтверждаем это сравнением двух генеральных совокупностей*"
   ]
  }
 ],
 "metadata": {
  "ExecuteTimeLog": [
   {
    "duration": 1169,
    "start_time": "2022-03-10T13:06:04.627Z"
   },
   {
    "duration": 390,
    "start_time": "2022-03-10T13:06:05.798Z"
   },
   {
    "duration": 4,
    "start_time": "2022-03-10T13:06:06.190Z"
   },
   {
    "duration": 24,
    "start_time": "2022-03-10T13:06:06.196Z"
   },
   {
    "duration": 52,
    "start_time": "2022-03-10T13:06:06.222Z"
   },
   {
    "duration": 35,
    "start_time": "2022-03-10T13:06:06.276Z"
   },
   {
    "duration": 60,
    "start_time": "2022-03-10T13:06:06.313Z"
   },
   {
    "duration": 12,
    "start_time": "2022-03-10T13:06:06.375Z"
   },
   {
    "duration": 13,
    "start_time": "2022-03-10T13:06:06.390Z"
   },
   {
    "duration": 105,
    "start_time": "2022-03-10T13:06:06.406Z"
   },
   {
    "duration": 5,
    "start_time": "2022-03-10T13:06:06.513Z"
   },
   {
    "duration": 7,
    "start_time": "2022-03-10T13:06:06.520Z"
   },
   {
    "duration": 69,
    "start_time": "2022-03-10T13:06:06.529Z"
   },
   {
    "duration": 64,
    "start_time": "2022-03-10T13:06:06.600Z"
   },
   {
    "duration": 36,
    "start_time": "2022-03-10T13:06:06.666Z"
   },
   {
    "duration": 4,
    "start_time": "2022-03-10T13:06:06.704Z"
   },
   {
    "duration": 50,
    "start_time": "2022-03-10T13:06:06.710Z"
   },
   {
    "duration": 110,
    "start_time": "2022-03-10T13:06:06.762Z"
   },
   {
    "duration": 46,
    "start_time": "2022-03-10T13:06:06.874Z"
   },
   {
    "duration": 75,
    "start_time": "2022-03-10T13:06:06.922Z"
   },
   {
    "duration": 35,
    "start_time": "2022-03-10T13:06:06.999Z"
   },
   {
    "duration": 50,
    "start_time": "2022-03-10T13:06:07.036Z"
   },
   {
    "duration": 51,
    "start_time": "2022-03-10T13:06:07.088Z"
   },
   {
    "duration": 24,
    "start_time": "2022-03-10T13:06:07.141Z"
   },
   {
    "duration": 50,
    "start_time": "2022-03-10T13:06:07.167Z"
   },
   {
    "duration": 9,
    "start_time": "2022-03-10T13:06:07.219Z"
   },
   {
    "duration": 33,
    "start_time": "2022-03-10T13:06:07.234Z"
   },
   {
    "duration": 25,
    "start_time": "2022-03-10T13:06:07.270Z"
   },
   {
    "duration": 64,
    "start_time": "2022-03-10T13:06:07.297Z"
   },
   {
    "duration": 18,
    "start_time": "2022-03-10T13:06:07.363Z"
   },
   {
    "duration": 18,
    "start_time": "2022-03-10T13:06:07.383Z"
   },
   {
    "duration": 68,
    "start_time": "2022-03-10T13:06:07.403Z"
   },
   {
    "duration": 17,
    "start_time": "2022-03-10T13:06:07.474Z"
   },
   {
    "duration": 21,
    "start_time": "2022-03-10T13:06:07.493Z"
   },
   {
    "duration": 26,
    "start_time": "2022-03-10T13:06:07.516Z"
   },
   {
    "duration": 15,
    "start_time": "2022-03-10T13:06:07.545Z"
   },
   {
    "duration": 40,
    "start_time": "2022-03-10T13:06:07.562Z"
   },
   {
    "duration": 4,
    "start_time": "2022-03-10T13:06:07.604Z"
   },
   {
    "duration": 24,
    "start_time": "2022-03-10T13:06:07.610Z"
   },
   {
    "duration": 27,
    "start_time": "2022-03-10T13:06:07.636Z"
   },
   {
    "duration": 91,
    "start_time": "2022-03-10T13:06:07.665Z"
   },
   {
    "duration": 8,
    "start_time": "2022-03-10T13:06:07.758Z"
   },
   {
    "duration": 20,
    "start_time": "2022-03-10T13:06:07.767Z"
   },
   {
    "duration": 21,
    "start_time": "2022-03-10T13:06:07.789Z"
   },
   {
    "duration": 19,
    "start_time": "2022-03-10T13:06:07.812Z"
   },
   {
    "duration": 18,
    "start_time": "2022-03-10T13:06:07.832Z"
   },
   {
    "duration": 24,
    "start_time": "2022-03-10T13:06:07.852Z"
   },
   {
    "duration": 20,
    "start_time": "2022-03-10T13:06:07.878Z"
   },
   {
    "duration": 546,
    "start_time": "2022-03-10T13:06:07.900Z"
   },
   {
    "duration": 78,
    "start_time": "2022-03-10T13:06:08.448Z"
   },
   {
    "duration": 11,
    "start_time": "2022-03-10T13:06:08.528Z"
   },
   {
    "duration": 35,
    "start_time": "2022-03-10T13:06:08.541Z"
   },
   {
    "duration": 26,
    "start_time": "2022-03-10T13:06:08.578Z"
   },
   {
    "duration": 34,
    "start_time": "2022-03-10T13:06:08.606Z"
   },
   {
    "duration": 10,
    "start_time": "2022-03-10T13:06:08.642Z"
   },
   {
    "duration": 581,
    "start_time": "2022-03-10T13:06:08.653Z"
   },
   {
    "duration": 82,
    "start_time": "2022-03-10T13:06:09.236Z"
   },
   {
    "duration": 7,
    "start_time": "2022-03-10T13:06:09.320Z"
   },
   {
    "duration": 31,
    "start_time": "2022-03-10T13:06:09.329Z"
   },
   {
    "duration": 56,
    "start_time": "2022-03-10T13:06:09.362Z"
   },
   {
    "duration": 17,
    "start_time": "2022-03-10T13:06:09.420Z"
   },
   {
    "duration": 26,
    "start_time": "2022-03-10T13:06:09.439Z"
   },
   {
    "duration": 19,
    "start_time": "2022-03-10T13:06:09.466Z"
   },
   {
    "duration": 14,
    "start_time": "2022-03-10T13:06:09.487Z"
   },
   {
    "duration": 690,
    "start_time": "2022-03-10T13:06:09.503Z"
   },
   {
    "duration": 12,
    "start_time": "2022-03-10T13:06:10.195Z"
   },
   {
    "duration": 45,
    "start_time": "2022-03-10T13:06:10.209Z"
   },
   {
    "duration": 15,
    "start_time": "2022-03-10T13:06:10.257Z"
   },
   {
    "duration": 37,
    "start_time": "2022-03-10T13:06:10.274Z"
   },
   {
    "duration": 37,
    "start_time": "2022-03-10T13:06:10.313Z"
   },
   {
    "duration": 15,
    "start_time": "2022-03-10T13:06:10.352Z"
   },
   {
    "duration": 32,
    "start_time": "2022-03-10T13:06:10.369Z"
   },
   {
    "duration": 31,
    "start_time": "2022-03-10T13:06:10.403Z"
   },
   {
    "duration": 33,
    "start_time": "2022-03-10T13:06:10.436Z"
   },
   {
    "duration": 30,
    "start_time": "2022-03-10T13:06:10.470Z"
   },
   {
    "duration": 12,
    "start_time": "2022-03-10T13:26:40.186Z"
   },
   {
    "duration": 196,
    "start_time": "2022-03-10T13:27:24.220Z"
   },
   {
    "duration": 227,
    "start_time": "2022-03-10T13:27:38.112Z"
   },
   {
    "duration": 205,
    "start_time": "2022-03-10T13:28:50.228Z"
   },
   {
    "duration": 204,
    "start_time": "2022-03-10T13:29:06.090Z"
   },
   {
    "duration": 225,
    "start_time": "2022-03-10T13:29:16.398Z"
   },
   {
    "duration": 511,
    "start_time": "2022-03-10T13:29:30.070Z"
   },
   {
    "duration": 226,
    "start_time": "2022-03-10T13:29:35.038Z"
   },
   {
    "duration": 219,
    "start_time": "2022-03-10T13:30:49.717Z"
   },
   {
    "duration": 11,
    "start_time": "2022-03-10T13:31:34.119Z"
   },
   {
    "duration": 4,
    "start_time": "2022-03-10T13:53:05.654Z"
   },
   {
    "duration": 1080,
    "start_time": "2022-03-11T22:10:08.913Z"
   },
   {
    "duration": 394,
    "start_time": "2022-03-11T22:10:09.995Z"
   },
   {
    "duration": 3,
    "start_time": "2022-03-11T22:10:10.391Z"
   },
   {
    "duration": 21,
    "start_time": "2022-03-11T22:10:11.210Z"
   },
   {
    "duration": 37,
    "start_time": "2022-03-11T22:10:12.159Z"
   },
   {
    "duration": 32,
    "start_time": "2022-03-11T22:10:12.664Z"
   },
   {
    "duration": 43,
    "start_time": "2022-03-11T22:10:12.850Z"
   },
   {
    "duration": 17,
    "start_time": "2022-03-11T22:10:13.048Z"
   },
   {
    "duration": 11,
    "start_time": "2022-03-11T22:10:25.191Z"
   },
   {
    "duration": 78,
    "start_time": "2022-03-11T22:10:27.313Z"
   },
   {
    "duration": 6,
    "start_time": "2022-03-11T22:10:27.648Z"
   },
   {
    "duration": 6,
    "start_time": "2022-03-11T22:12:20.437Z"
   },
   {
    "duration": 51,
    "start_time": "2022-03-11T22:12:25.924Z"
   },
   {
    "duration": 61,
    "start_time": "2022-03-11T22:12:26.084Z"
   },
   {
    "duration": 36,
    "start_time": "2022-03-11T22:12:31.218Z"
   },
   {
    "duration": 6,
    "start_time": "2022-03-11T22:12:52.983Z"
   },
   {
    "duration": 4,
    "start_time": "2022-03-11T22:13:01.265Z"
   },
   {
    "duration": 5,
    "start_time": "2022-03-11T22:13:02.934Z"
   },
   {
    "duration": 5,
    "start_time": "2022-03-11T22:13:38.530Z"
   },
   {
    "duration": 35,
    "start_time": "2022-03-11T22:14:14.313Z"
   },
   {
    "duration": 21,
    "start_time": "2022-03-11T22:14:33.349Z"
   },
   {
    "duration": 23,
    "start_time": "2022-03-11T22:15:49.980Z"
   },
   {
    "duration": 23,
    "start_time": "2022-03-11T22:16:45.860Z"
   },
   {
    "duration": 26,
    "start_time": "2022-03-11T22:19:21.410Z"
   },
   {
    "duration": 26,
    "start_time": "2022-03-11T22:23:09.767Z"
   },
   {
    "duration": 14,
    "start_time": "2022-03-11T22:33:50.669Z"
   },
   {
    "duration": 5,
    "start_time": "2022-03-11T22:35:07.876Z"
   },
   {
    "duration": 13,
    "start_time": "2022-03-11T22:35:12.887Z"
   },
   {
    "duration": 4,
    "start_time": "2022-03-11T22:36:24.850Z"
   },
   {
    "duration": 14,
    "start_time": "2022-03-11T22:36:30.649Z"
   },
   {
    "duration": 4,
    "start_time": "2022-03-11T22:36:57.444Z"
   },
   {
    "duration": 65,
    "start_time": "2022-03-11T22:37:14.998Z"
   },
   {
    "duration": 10,
    "start_time": "2022-03-11T22:37:18.104Z"
   },
   {
    "duration": 61,
    "start_time": "2022-03-11T22:37:29.291Z"
   },
   {
    "duration": 285,
    "start_time": "2022-03-11T22:37:32.844Z"
   },
   {
    "duration": 195,
    "start_time": "2022-03-11T22:38:14.419Z"
   },
   {
    "duration": 199,
    "start_time": "2022-03-11T22:38:18.360Z"
   },
   {
    "duration": 222,
    "start_time": "2022-03-11T22:38:21.945Z"
   },
   {
    "duration": 68,
    "start_time": "2022-03-11T22:38:38.866Z"
   },
   {
    "duration": 223,
    "start_time": "2022-03-11T22:38:42.244Z"
   },
   {
    "duration": 17,
    "start_time": "2022-03-11T22:38:52.973Z"
   },
   {
    "duration": 11,
    "start_time": "2022-03-11T22:38:58.334Z"
   },
   {
    "duration": 21,
    "start_time": "2022-03-11T22:39:18.855Z"
   },
   {
    "duration": 15,
    "start_time": "2022-03-11T22:39:20.133Z"
   },
   {
    "duration": 13,
    "start_time": "2022-03-11T22:40:58.246Z"
   },
   {
    "duration": 192,
    "start_time": "2022-03-11T22:41:03.923Z"
   },
   {
    "duration": 183,
    "start_time": "2022-03-11T22:41:06.054Z"
   },
   {
    "duration": 193,
    "start_time": "2022-03-11T22:41:15.572Z"
   },
   {
    "duration": 5,
    "start_time": "2022-03-11T22:41:22.372Z"
   },
   {
    "duration": 22,
    "start_time": "2022-03-11T22:42:05.219Z"
   },
   {
    "duration": 17,
    "start_time": "2022-03-11T22:42:08.680Z"
   },
   {
    "duration": 3,
    "start_time": "2022-03-11T22:42:51.500Z"
   },
   {
    "duration": 16,
    "start_time": "2022-03-11T22:42:55.597Z"
   },
   {
    "duration": 201,
    "start_time": "2022-03-11T22:45:25.824Z"
   },
   {
    "duration": 9,
    "start_time": "2022-03-11T22:45:30.322Z"
   },
   {
    "duration": 16,
    "start_time": "2022-03-11T22:45:48.162Z"
   },
   {
    "duration": 4,
    "start_time": "2022-03-11T22:47:00.646Z"
   },
   {
    "duration": 211,
    "start_time": "2022-03-11T22:47:37.095Z"
   },
   {
    "duration": 195,
    "start_time": "2022-03-11T22:48:52.864Z"
   },
   {
    "duration": 16,
    "start_time": "2022-03-11T22:49:19.765Z"
   },
   {
    "duration": 193,
    "start_time": "2022-03-11T22:50:05.970Z"
   },
   {
    "duration": 201,
    "start_time": "2022-03-11T22:50:15.341Z"
   },
   {
    "duration": 16,
    "start_time": "2022-03-11T22:50:28.448Z"
   },
   {
    "duration": 229,
    "start_time": "2022-03-11T22:52:23.003Z"
   },
   {
    "duration": 177,
    "start_time": "2022-03-11T22:53:11.107Z"
   },
   {
    "duration": 191,
    "start_time": "2022-03-11T22:53:16.450Z"
   },
   {
    "duration": 11,
    "start_time": "2022-03-11T22:53:20.365Z"
   },
   {
    "duration": 10,
    "start_time": "2022-03-11T22:53:39.739Z"
   },
   {
    "duration": 15,
    "start_time": "2022-03-11T22:53:43.415Z"
   },
   {
    "duration": 56,
    "start_time": "2022-03-11T22:57:33.416Z"
   },
   {
    "duration": 1155,
    "start_time": "2022-03-11T22:57:40.982Z"
   },
   {
    "duration": 390,
    "start_time": "2022-03-11T22:57:42.139Z"
   },
   {
    "duration": 5,
    "start_time": "2022-03-11T22:57:42.531Z"
   },
   {
    "duration": 22,
    "start_time": "2022-03-11T22:57:42.538Z"
   },
   {
    "duration": 36,
    "start_time": "2022-03-11T22:57:42.562Z"
   },
   {
    "duration": 32,
    "start_time": "2022-03-11T22:57:42.600Z"
   },
   {
    "duration": 45,
    "start_time": "2022-03-11T22:57:42.659Z"
   },
   {
    "duration": 14,
    "start_time": "2022-03-11T22:57:42.706Z"
   },
   {
    "duration": 38,
    "start_time": "2022-03-11T22:57:42.722Z"
   },
   {
    "duration": 74,
    "start_time": "2022-03-11T22:57:42.762Z"
   },
   {
    "duration": 5,
    "start_time": "2022-03-11T22:57:42.838Z"
   },
   {
    "duration": 18,
    "start_time": "2022-03-11T22:57:42.845Z"
   },
   {
    "duration": 49,
    "start_time": "2022-03-11T22:57:42.864Z"
   },
   {
    "duration": 79,
    "start_time": "2022-03-11T22:57:42.914Z"
   },
   {
    "duration": 33,
    "start_time": "2022-03-11T22:57:42.995Z"
   },
   {
    "duration": 5,
    "start_time": "2022-03-11T22:57:43.030Z"
   },
   {
    "duration": 23,
    "start_time": "2022-03-11T22:57:43.036Z"
   },
   {
    "duration": 30,
    "start_time": "2022-03-11T22:57:43.060Z"
   },
   {
    "duration": 20,
    "start_time": "2022-03-11T22:57:43.092Z"
   },
   {
    "duration": 17,
    "start_time": "2022-03-11T22:57:43.114Z"
   },
   {
    "duration": 298,
    "start_time": "2022-03-11T22:57:43.133Z"
   },
   {
    "duration": -211370,
    "start_time": "2022-03-11T23:01:14.805Z"
   },
   {
    "duration": -211373,
    "start_time": "2022-03-11T23:01:14.809Z"
   },
   {
    "duration": -211376,
    "start_time": "2022-03-11T23:01:14.813Z"
   },
   {
    "duration": -211379,
    "start_time": "2022-03-11T23:01:14.817Z"
   },
   {
    "duration": -211381,
    "start_time": "2022-03-11T23:01:14.820Z"
   },
   {
    "duration": -211384,
    "start_time": "2022-03-11T23:01:14.824Z"
   },
   {
    "duration": -211386,
    "start_time": "2022-03-11T23:01:14.827Z"
   },
   {
    "duration": -211388,
    "start_time": "2022-03-11T23:01:14.830Z"
   },
   {
    "duration": -211390,
    "start_time": "2022-03-11T23:01:14.833Z"
   },
   {
    "duration": -211393,
    "start_time": "2022-03-11T23:01:14.837Z"
   },
   {
    "duration": -211396,
    "start_time": "2022-03-11T23:01:14.840Z"
   },
   {
    "duration": -211398,
    "start_time": "2022-03-11T23:01:14.843Z"
   },
   {
    "duration": -211418,
    "start_time": "2022-03-11T23:01:14.864Z"
   },
   {
    "duration": -211423,
    "start_time": "2022-03-11T23:01:14.870Z"
   },
   {
    "duration": -211426,
    "start_time": "2022-03-11T23:01:14.874Z"
   },
   {
    "duration": -211429,
    "start_time": "2022-03-11T23:01:14.878Z"
   },
   {
    "duration": -211433,
    "start_time": "2022-03-11T23:01:14.883Z"
   },
   {
    "duration": -211436,
    "start_time": "2022-03-11T23:01:14.887Z"
   },
   {
    "duration": -211438,
    "start_time": "2022-03-11T23:01:14.890Z"
   },
   {
    "duration": -211440,
    "start_time": "2022-03-11T23:01:14.893Z"
   },
   {
    "duration": -211443,
    "start_time": "2022-03-11T23:01:14.897Z"
   },
   {
    "duration": -211446,
    "start_time": "2022-03-11T23:01:14.901Z"
   },
   {
    "duration": -211448,
    "start_time": "2022-03-11T23:01:14.904Z"
   },
   {
    "duration": -211452,
    "start_time": "2022-03-11T23:01:14.908Z"
   },
   {
    "duration": -211454,
    "start_time": "2022-03-11T23:01:14.911Z"
   },
   {
    "duration": -211457,
    "start_time": "2022-03-11T23:01:14.915Z"
   },
   {
    "duration": -211460,
    "start_time": "2022-03-11T23:01:14.919Z"
   },
   {
    "duration": -211475,
    "start_time": "2022-03-11T23:01:14.935Z"
   },
   {
    "duration": -211477,
    "start_time": "2022-03-11T23:01:14.938Z"
   },
   {
    "duration": -211479,
    "start_time": "2022-03-11T23:01:14.941Z"
   },
   {
    "duration": -211481,
    "start_time": "2022-03-11T23:01:14.944Z"
   },
   {
    "duration": -211484,
    "start_time": "2022-03-11T23:01:14.948Z"
   },
   {
    "duration": -211493,
    "start_time": "2022-03-11T23:01:14.957Z"
   },
   {
    "duration": -211496,
    "start_time": "2022-03-11T23:01:14.961Z"
   },
   {
    "duration": -211498,
    "start_time": "2022-03-11T23:01:14.964Z"
   },
   {
    "duration": -211506,
    "start_time": "2022-03-11T23:01:14.973Z"
   },
   {
    "duration": -211508,
    "start_time": "2022-03-11T23:01:14.977Z"
   },
   {
    "duration": -211512,
    "start_time": "2022-03-11T23:01:14.981Z"
   },
   {
    "duration": -211521,
    "start_time": "2022-03-11T23:01:14.991Z"
   },
   {
    "duration": -211523,
    "start_time": "2022-03-11T23:01:14.994Z"
   },
   {
    "duration": -211525,
    "start_time": "2022-03-11T23:01:14.997Z"
   },
   {
    "duration": -211534,
    "start_time": "2022-03-11T23:01:15.007Z"
   },
   {
    "duration": -211536,
    "start_time": "2022-03-11T23:01:15.010Z"
   },
   {
    "duration": -211538,
    "start_time": "2022-03-11T23:01:15.013Z"
   },
   {
    "duration": -211541,
    "start_time": "2022-03-11T23:01:15.017Z"
   },
   {
    "duration": 14,
    "start_time": "2022-03-11T22:58:13.655Z"
   },
   {
    "duration": 6,
    "start_time": "2022-03-11T22:59:17.416Z"
   },
   {
    "duration": 4,
    "start_time": "2022-03-11T23:00:21.438Z"
   },
   {
    "duration": 3,
    "start_time": "2022-03-11T23:00:44.696Z"
   },
   {
    "duration": 210,
    "start_time": "2022-03-11T23:02:29.891Z"
   },
   {
    "duration": 2,
    "start_time": "2022-03-11T23:04:28.156Z"
   },
   {
    "duration": 3,
    "start_time": "2022-03-11T23:04:34.230Z"
   },
   {
    "duration": 5,
    "start_time": "2022-03-11T23:04:38.024Z"
   },
   {
    "duration": 10,
    "start_time": "2022-03-11T23:04:55.255Z"
   },
   {
    "duration": 203,
    "start_time": "2022-03-11T23:05:09.364Z"
   },
   {
    "duration": 196,
    "start_time": "2022-03-11T23:06:47.248Z"
   },
   {
    "duration": 4,
    "start_time": "2022-03-11T23:06:55.590Z"
   },
   {
    "duration": 208,
    "start_time": "2022-03-11T23:06:58.388Z"
   },
   {
    "duration": 5,
    "start_time": "2022-03-11T23:07:22.232Z"
   },
   {
    "duration": 178,
    "start_time": "2022-03-11T23:07:33.016Z"
   },
   {
    "duration": 200,
    "start_time": "2022-03-11T23:07:36.195Z"
   },
   {
    "duration": 8,
    "start_time": "2022-03-11T23:07:44.900Z"
   },
   {
    "duration": 5,
    "start_time": "2022-03-11T23:08:00.500Z"
   },
   {
    "duration": 74,
    "start_time": "2022-03-11T23:10:35.486Z"
   },
   {
    "duration": 206,
    "start_time": "2022-03-11T23:10:39.606Z"
   },
   {
    "duration": 194,
    "start_time": "2022-03-11T23:10:57.333Z"
   },
   {
    "duration": 5,
    "start_time": "2022-03-11T23:11:13.213Z"
   },
   {
    "duration": 200,
    "start_time": "2022-03-11T23:11:27.697Z"
   },
   {
    "duration": 206,
    "start_time": "2022-03-11T23:13:39.158Z"
   },
   {
    "duration": 220,
    "start_time": "2022-03-11T23:13:50.852Z"
   },
   {
    "duration": 225,
    "start_time": "2022-03-11T23:14:39.865Z"
   },
   {
    "duration": 193,
    "start_time": "2022-03-11T23:14:44.050Z"
   },
   {
    "duration": 7,
    "start_time": "2022-03-11T23:15:04.447Z"
   },
   {
    "duration": 9,
    "start_time": "2022-03-11T23:15:14.232Z"
   },
   {
    "duration": 4,
    "start_time": "2022-03-11T23:17:21.801Z"
   },
   {
    "duration": 10,
    "start_time": "2022-03-11T23:17:23.813Z"
   },
   {
    "duration": 192,
    "start_time": "2022-03-11T23:17:46.410Z"
   },
   {
    "duration": 184,
    "start_time": "2022-03-11T23:20:47.535Z"
   },
   {
    "duration": 186,
    "start_time": "2022-03-11T23:25:39.200Z"
   },
   {
    "duration": 190,
    "start_time": "2022-03-11T23:25:49.290Z"
   },
   {
    "duration": 5,
    "start_time": "2022-03-11T23:26:08.067Z"
   },
   {
    "duration": 201,
    "start_time": "2022-03-11T23:26:35.764Z"
   },
   {
    "duration": 202,
    "start_time": "2022-03-11T23:26:40.676Z"
   },
   {
    "duration": 5,
    "start_time": "2022-03-11T23:26:47.543Z"
   },
   {
    "duration": 16,
    "start_time": "2022-03-11T23:27:25.685Z"
   },
   {
    "duration": 195,
    "start_time": "2022-03-11T23:27:45.878Z"
   },
   {
    "duration": 5,
    "start_time": "2022-03-11T23:28:17.856Z"
   },
   {
    "duration": 10,
    "start_time": "2022-03-11T23:28:19.884Z"
   },
   {
    "duration": 5,
    "start_time": "2022-03-11T23:28:46.141Z"
   },
   {
    "duration": 12,
    "start_time": "2022-03-11T23:28:47.644Z"
   },
   {
    "duration": 201,
    "start_time": "2022-03-11T23:29:59.089Z"
   },
   {
    "duration": 7,
    "start_time": "2022-03-11T23:30:05.019Z"
   },
   {
    "duration": 5,
    "start_time": "2022-03-11T23:32:38.395Z"
   },
   {
    "duration": 6,
    "start_time": "2022-03-11T23:32:41.842Z"
   },
   {
    "duration": 5,
    "start_time": "2022-03-11T23:32:49.615Z"
   },
   {
    "duration": 5,
    "start_time": "2022-03-11T23:32:52.873Z"
   },
   {
    "duration": 200,
    "start_time": "2022-03-11T23:34:18.329Z"
   },
   {
    "duration": 198,
    "start_time": "2022-03-11T23:34:33.033Z"
   },
   {
    "duration": 204,
    "start_time": "2022-03-11T23:34:42.635Z"
   },
   {
    "duration": 29,
    "start_time": "2022-03-11T23:50:55.901Z"
   },
   {
    "duration": 8,
    "start_time": "2022-03-11T23:52:02.470Z"
   },
   {
    "duration": 16,
    "start_time": "2022-03-11T23:52:12.855Z"
   },
   {
    "duration": 65,
    "start_time": "2022-03-11T23:52:32.853Z"
   },
   {
    "duration": 12,
    "start_time": "2022-03-11T23:52:40.741Z"
   },
   {
    "duration": 11,
    "start_time": "2022-03-11T23:52:59.256Z"
   },
   {
    "duration": 8,
    "start_time": "2022-03-11T23:52:59.538Z"
   },
   {
    "duration": 179,
    "start_time": "2022-03-11T23:55:20.222Z"
   },
   {
    "duration": 200,
    "start_time": "2022-03-11T23:55:26.922Z"
   },
   {
    "duration": 175,
    "start_time": "2022-03-11T23:55:32.796Z"
   },
   {
    "duration": 195,
    "start_time": "2022-03-11T23:55:36.159Z"
   },
   {
    "duration": 80,
    "start_time": "2022-03-11T23:56:37.179Z"
   },
   {
    "duration": 14,
    "start_time": "2022-03-11T23:56:40.731Z"
   },
   {
    "duration": 193,
    "start_time": "2022-03-11T23:57:04.660Z"
   },
   {
    "duration": 196,
    "start_time": "2022-03-11T23:57:10.710Z"
   },
   {
    "duration": 38,
    "start_time": "2022-03-11T23:57:16.840Z"
   },
   {
    "duration": 13,
    "start_time": "2022-03-11T23:57:23.403Z"
   },
   {
    "duration": 112,
    "start_time": "2022-03-11T23:58:57.802Z"
   },
   {
    "duration": 181,
    "start_time": "2022-03-11T23:59:16.041Z"
   },
   {
    "duration": 1172,
    "start_time": "2022-03-11T23:59:25.163Z"
   },
   {
    "duration": 399,
    "start_time": "2022-03-11T23:59:26.337Z"
   },
   {
    "duration": 3,
    "start_time": "2022-03-11T23:59:26.738Z"
   },
   {
    "duration": 22,
    "start_time": "2022-03-11T23:59:26.743Z"
   },
   {
    "duration": 35,
    "start_time": "2022-03-11T23:59:26.767Z"
   },
   {
    "duration": 29,
    "start_time": "2022-03-11T23:59:26.804Z"
   },
   {
    "duration": 62,
    "start_time": "2022-03-11T23:59:26.835Z"
   },
   {
    "duration": 13,
    "start_time": "2022-03-11T23:59:26.899Z"
   },
   {
    "duration": 411,
    "start_time": "2022-03-11T23:59:26.914Z"
   },
   {
    "duration": -210962,
    "start_time": "2022-03-12T00:02:58.291Z"
   },
   {
    "duration": -210965,
    "start_time": "2022-03-12T00:02:58.295Z"
   },
   {
    "duration": -210990,
    "start_time": "2022-03-12T00:02:58.321Z"
   },
   {
    "duration": -210997,
    "start_time": "2022-03-12T00:02:58.329Z"
   },
   {
    "duration": -211001,
    "start_time": "2022-03-12T00:02:58.334Z"
   },
   {
    "duration": -211005,
    "start_time": "2022-03-12T00:02:58.339Z"
   },
   {
    "duration": -211009,
    "start_time": "2022-03-12T00:02:58.344Z"
   },
   {
    "duration": -211014,
    "start_time": "2022-03-12T00:02:58.349Z"
   },
   {
    "duration": -211017,
    "start_time": "2022-03-12T00:02:58.353Z"
   },
   {
    "duration": -211021,
    "start_time": "2022-03-12T00:02:58.358Z"
   },
   {
    "duration": -211026,
    "start_time": "2022-03-12T00:02:58.364Z"
   },
   {
    "duration": -211030,
    "start_time": "2022-03-12T00:02:58.369Z"
   },
   {
    "duration": -211033,
    "start_time": "2022-03-12T00:02:58.373Z"
   },
   {
    "duration": -211037,
    "start_time": "2022-03-12T00:02:58.378Z"
   },
   {
    "duration": -211040,
    "start_time": "2022-03-12T00:02:58.382Z"
   },
   {
    "duration": -211043,
    "start_time": "2022-03-12T00:02:58.386Z"
   },
   {
    "duration": -211046,
    "start_time": "2022-03-12T00:02:58.390Z"
   },
   {
    "duration": -211050,
    "start_time": "2022-03-12T00:02:58.395Z"
   },
   {
    "duration": -211053,
    "start_time": "2022-03-12T00:02:58.399Z"
   },
   {
    "duration": -211057,
    "start_time": "2022-03-12T00:02:58.404Z"
   },
   {
    "duration": -211060,
    "start_time": "2022-03-12T00:02:58.408Z"
   },
   {
    "duration": -211064,
    "start_time": "2022-03-12T00:02:58.412Z"
   },
   {
    "duration": -211067,
    "start_time": "2022-03-12T00:02:58.416Z"
   },
   {
    "duration": -211080,
    "start_time": "2022-03-12T00:02:58.430Z"
   },
   {
    "duration": -211083,
    "start_time": "2022-03-12T00:02:58.434Z"
   },
   {
    "duration": -211087,
    "start_time": "2022-03-12T00:02:58.439Z"
   },
   {
    "duration": -211091,
    "start_time": "2022-03-12T00:02:58.444Z"
   },
   {
    "duration": -211094,
    "start_time": "2022-03-12T00:02:58.448Z"
   },
   {
    "duration": -211097,
    "start_time": "2022-03-12T00:02:58.452Z"
   },
   {
    "duration": -211100,
    "start_time": "2022-03-12T00:02:58.456Z"
   },
   {
    "duration": -211104,
    "start_time": "2022-03-12T00:02:58.461Z"
   },
   {
    "duration": -211107,
    "start_time": "2022-03-12T00:02:58.465Z"
   },
   {
    "duration": -211110,
    "start_time": "2022-03-12T00:02:58.469Z"
   },
   {
    "duration": -211113,
    "start_time": "2022-03-12T00:02:58.473Z"
   },
   {
    "duration": -211116,
    "start_time": "2022-03-12T00:02:58.477Z"
   },
   {
    "duration": -211119,
    "start_time": "2022-03-12T00:02:58.481Z"
   },
   {
    "duration": -211122,
    "start_time": "2022-03-12T00:02:58.485Z"
   },
   {
    "duration": -211125,
    "start_time": "2022-03-12T00:02:58.489Z"
   },
   {
    "duration": -211128,
    "start_time": "2022-03-12T00:02:58.493Z"
   },
   {
    "duration": -211132,
    "start_time": "2022-03-12T00:02:58.498Z"
   },
   {
    "duration": -211135,
    "start_time": "2022-03-12T00:02:58.502Z"
   },
   {
    "duration": -211138,
    "start_time": "2022-03-12T00:02:58.506Z"
   },
   {
    "duration": -211141,
    "start_time": "2022-03-12T00:02:58.510Z"
   },
   {
    "duration": -211144,
    "start_time": "2022-03-12T00:02:58.514Z"
   },
   {
    "duration": -211148,
    "start_time": "2022-03-12T00:02:58.519Z"
   },
   {
    "duration": -211152,
    "start_time": "2022-03-12T00:02:58.524Z"
   },
   {
    "duration": -211156,
    "start_time": "2022-03-12T00:02:58.528Z"
   },
   {
    "duration": -211168,
    "start_time": "2022-03-12T00:02:58.542Z"
   },
   {
    "duration": -211172,
    "start_time": "2022-03-12T00:02:58.546Z"
   },
   {
    "duration": -211174,
    "start_time": "2022-03-12T00:02:58.550Z"
   },
   {
    "duration": -211178,
    "start_time": "2022-03-12T00:02:58.554Z"
   },
   {
    "duration": -211181,
    "start_time": "2022-03-12T00:02:58.558Z"
   },
   {
    "duration": -211183,
    "start_time": "2022-03-12T00:02:58.562Z"
   },
   {
    "duration": -211187,
    "start_time": "2022-03-12T00:02:58.566Z"
   },
   {
    "duration": -211190,
    "start_time": "2022-03-12T00:02:58.570Z"
   },
   {
    "duration": -211194,
    "start_time": "2022-03-12T00:02:58.575Z"
   },
   {
    "duration": -211197,
    "start_time": "2022-03-12T00:02:58.579Z"
   },
   {
    "duration": -211201,
    "start_time": "2022-03-12T00:02:58.584Z"
   },
   {
    "duration": -211204,
    "start_time": "2022-03-12T00:02:58.588Z"
   },
   {
    "duration": -211207,
    "start_time": "2022-03-12T00:02:58.592Z"
   },
   {
    "duration": -211215,
    "start_time": "2022-03-12T00:02:58.601Z"
   },
   {
    "duration": 334,
    "start_time": "2022-03-11T23:59:45.701Z"
   },
   {
    "duration": 92,
    "start_time": "2022-03-12T00:00:02.097Z"
   },
   {
    "duration": 16,
    "start_time": "2022-03-12T00:00:08.346Z"
   },
   {
    "duration": 1141,
    "start_time": "2022-03-12T00:00:26.456Z"
   },
   {
    "duration": 377,
    "start_time": "2022-03-12T00:00:27.599Z"
   },
   {
    "duration": 5,
    "start_time": "2022-03-12T00:00:27.978Z"
   },
   {
    "duration": 29,
    "start_time": "2022-03-12T00:00:27.985Z"
   },
   {
    "duration": 44,
    "start_time": "2022-03-12T00:00:28.016Z"
   },
   {
    "duration": 30,
    "start_time": "2022-03-12T00:00:28.062Z"
   },
   {
    "duration": 66,
    "start_time": "2022-03-12T00:00:28.094Z"
   },
   {
    "duration": 14,
    "start_time": "2022-03-12T00:00:28.163Z"
   },
   {
    "duration": 114,
    "start_time": "2022-03-12T00:00:28.180Z"
   },
   {
    "duration": 279,
    "start_time": "2022-03-12T00:00:28.296Z"
   },
   {
    "duration": -211071,
    "start_time": "2022-03-12T00:03:59.650Z"
   },
   {
    "duration": -211072,
    "start_time": "2022-03-12T00:03:59.653Z"
   },
   {
    "duration": -211076,
    "start_time": "2022-03-12T00:03:59.658Z"
   },
   {
    "duration": -211078,
    "start_time": "2022-03-12T00:03:59.662Z"
   },
   {
    "duration": -211083,
    "start_time": "2022-03-12T00:03:59.668Z"
   },
   {
    "duration": -211087,
    "start_time": "2022-03-12T00:03:59.674Z"
   },
   {
    "duration": -211091,
    "start_time": "2022-03-12T00:03:59.679Z"
   },
   {
    "duration": -211095,
    "start_time": "2022-03-12T00:03:59.685Z"
   },
   {
    "duration": -211098,
    "start_time": "2022-03-12T00:03:59.689Z"
   },
   {
    "duration": -211118,
    "start_time": "2022-03-12T00:03:59.710Z"
   },
   {
    "duration": -211121,
    "start_time": "2022-03-12T00:03:59.715Z"
   },
   {
    "duration": -211126,
    "start_time": "2022-03-12T00:03:59.721Z"
   },
   {
    "duration": -211132,
    "start_time": "2022-03-12T00:03:59.728Z"
   },
   {
    "duration": -211135,
    "start_time": "2022-03-12T00:03:59.733Z"
   },
   {
    "duration": -211140,
    "start_time": "2022-03-12T00:03:59.739Z"
   },
   {
    "duration": -211143,
    "start_time": "2022-03-12T00:03:59.744Z"
   },
   {
    "duration": -211148,
    "start_time": "2022-03-12T00:03:59.750Z"
   },
   {
    "duration": -211152,
    "start_time": "2022-03-12T00:03:59.756Z"
   },
   {
    "duration": -211156,
    "start_time": "2022-03-12T00:03:59.761Z"
   },
   {
    "duration": -211162,
    "start_time": "2022-03-12T00:03:59.768Z"
   },
   {
    "duration": -211167,
    "start_time": "2022-03-12T00:03:59.775Z"
   },
   {
    "duration": -211173,
    "start_time": "2022-03-12T00:03:59.783Z"
   },
   {
    "duration": -211179,
    "start_time": "2022-03-12T00:03:59.789Z"
   },
   {
    "duration": -211184,
    "start_time": "2022-03-12T00:03:59.795Z"
   },
   {
    "duration": -211190,
    "start_time": "2022-03-12T00:03:59.802Z"
   },
   {
    "duration": -211194,
    "start_time": "2022-03-12T00:03:59.807Z"
   },
   {
    "duration": -211205,
    "start_time": "2022-03-12T00:03:59.819Z"
   },
   {
    "duration": -211208,
    "start_time": "2022-03-12T00:03:59.823Z"
   },
   {
    "duration": -211168,
    "start_time": "2022-03-12T00:03:59.827Z"
   },
   {
    "duration": -211175,
    "start_time": "2022-03-12T00:03:59.835Z"
   },
   {
    "duration": -211179,
    "start_time": "2022-03-12T00:03:59.840Z"
   },
   {
    "duration": -211183,
    "start_time": "2022-03-12T00:03:59.845Z"
   },
   {
    "duration": -211187,
    "start_time": "2022-03-12T00:03:59.851Z"
   },
   {
    "duration": -211191,
    "start_time": "2022-03-12T00:03:59.856Z"
   },
   {
    "duration": -211194,
    "start_time": "2022-03-12T00:03:59.860Z"
   },
   {
    "duration": -211199,
    "start_time": "2022-03-12T00:03:59.866Z"
   },
   {
    "duration": -211202,
    "start_time": "2022-03-12T00:03:59.870Z"
   },
   {
    "duration": -211208,
    "start_time": "2022-03-12T00:03:59.877Z"
   },
   {
    "duration": -211212,
    "start_time": "2022-03-12T00:03:59.882Z"
   },
   {
    "duration": -211217,
    "start_time": "2022-03-12T00:03:59.888Z"
   },
   {
    "duration": -211221,
    "start_time": "2022-03-12T00:03:59.893Z"
   },
   {
    "duration": -211229,
    "start_time": "2022-03-12T00:03:59.903Z"
   },
   {
    "duration": -211233,
    "start_time": "2022-03-12T00:03:59.908Z"
   },
   {
    "duration": -211238,
    "start_time": "2022-03-12T00:03:59.913Z"
   },
   {
    "duration": -211241,
    "start_time": "2022-03-12T00:03:59.918Z"
   },
   {
    "duration": -211250,
    "start_time": "2022-03-12T00:03:59.928Z"
   },
   {
    "duration": -211254,
    "start_time": "2022-03-12T00:03:59.933Z"
   },
   {
    "duration": -211258,
    "start_time": "2022-03-12T00:03:59.938Z"
   },
   {
    "duration": -211261,
    "start_time": "2022-03-12T00:03:59.942Z"
   },
   {
    "duration": -211265,
    "start_time": "2022-03-12T00:03:59.947Z"
   },
   {
    "duration": -211268,
    "start_time": "2022-03-12T00:03:59.951Z"
   },
   {
    "duration": -211272,
    "start_time": "2022-03-12T00:03:59.956Z"
   },
   {
    "duration": -211276,
    "start_time": "2022-03-12T00:03:59.961Z"
   },
   {
    "duration": -211279,
    "start_time": "2022-03-12T00:03:59.965Z"
   },
   {
    "duration": -211282,
    "start_time": "2022-03-12T00:03:59.970Z"
   },
   {
    "duration": -211290,
    "start_time": "2022-03-12T00:03:59.979Z"
   },
   {
    "duration": -211293,
    "start_time": "2022-03-12T00:03:59.983Z"
   },
   {
    "duration": -211296,
    "start_time": "2022-03-12T00:03:59.987Z"
   },
   {
    "duration": -211299,
    "start_time": "2022-03-12T00:03:59.991Z"
   },
   {
    "duration": -211302,
    "start_time": "2022-03-12T00:03:59.995Z"
   },
   {
    "duration": -211305,
    "start_time": "2022-03-12T00:03:59.999Z"
   },
   {
    "duration": -211308,
    "start_time": "2022-03-12T00:04:00.003Z"
   },
   {
    "duration": 212,
    "start_time": "2022-03-12T00:01:03.558Z"
   },
   {
    "duration": 4,
    "start_time": "2022-03-12T00:01:28.782Z"
   },
   {
    "duration": 213,
    "start_time": "2022-03-12T00:02:07.577Z"
   },
   {
    "duration": 16,
    "start_time": "2022-03-12T00:02:19.853Z"
   },
   {
    "duration": 9,
    "start_time": "2022-03-12T00:02:32.581Z"
   },
   {
    "duration": 1156,
    "start_time": "2022-03-12T00:03:52.226Z"
   },
   {
    "duration": 370,
    "start_time": "2022-03-12T00:03:53.384Z"
   },
   {
    "duration": 4,
    "start_time": "2022-03-12T00:03:53.756Z"
   },
   {
    "duration": 22,
    "start_time": "2022-03-12T00:03:53.763Z"
   },
   {
    "duration": 36,
    "start_time": "2022-03-12T00:03:53.787Z"
   },
   {
    "duration": 46,
    "start_time": "2022-03-12T00:03:53.825Z"
   },
   {
    "duration": 41,
    "start_time": "2022-03-12T00:03:53.873Z"
   },
   {
    "duration": 13,
    "start_time": "2022-03-12T00:03:53.917Z"
   },
   {
    "duration": 36,
    "start_time": "2022-03-12T00:03:53.932Z"
   },
   {
    "duration": 89,
    "start_time": "2022-03-12T00:03:53.970Z"
   },
   {
    "duration": 6,
    "start_time": "2022-03-12T00:03:54.061Z"
   },
   {
    "duration": 152,
    "start_time": "2022-03-12T00:03:54.069Z"
   },
   {
    "duration": 5,
    "start_time": "2022-03-12T00:03:54.222Z"
   },
   {
    "duration": 65,
    "start_time": "2022-03-12T00:03:54.228Z"
   },
   {
    "duration": 54,
    "start_time": "2022-03-12T00:03:54.295Z"
   },
   {
    "duration": 34,
    "start_time": "2022-03-12T00:03:54.359Z"
   },
   {
    "duration": 6,
    "start_time": "2022-03-12T00:03:54.394Z"
   },
   {
    "duration": 6,
    "start_time": "2022-03-12T00:03:54.401Z"
   },
   {
    "duration": 271,
    "start_time": "2022-03-12T00:03:54.408Z"
   },
   {
    "duration": -211016,
    "start_time": "2022-03-12T00:07:25.699Z"
   },
   {
    "duration": -211020,
    "start_time": "2022-03-12T00:07:25.703Z"
   },
   {
    "duration": -211024,
    "start_time": "2022-03-12T00:07:25.708Z"
   },
   {
    "duration": -211029,
    "start_time": "2022-03-12T00:07:25.714Z"
   },
   {
    "duration": -211032,
    "start_time": "2022-03-12T00:07:25.718Z"
   },
   {
    "duration": -211036,
    "start_time": "2022-03-12T00:07:25.723Z"
   },
   {
    "duration": -211060,
    "start_time": "2022-03-12T00:07:25.748Z"
   },
   {
    "duration": -211065,
    "start_time": "2022-03-12T00:07:25.754Z"
   },
   {
    "duration": -211069,
    "start_time": "2022-03-12T00:07:25.759Z"
   },
   {
    "duration": -211072,
    "start_time": "2022-03-12T00:07:25.763Z"
   },
   {
    "duration": -211076,
    "start_time": "2022-03-12T00:07:25.769Z"
   },
   {
    "duration": -211082,
    "start_time": "2022-03-12T00:07:25.775Z"
   },
   {
    "duration": -211087,
    "start_time": "2022-03-12T00:07:25.781Z"
   },
   {
    "duration": -211092,
    "start_time": "2022-03-12T00:07:25.787Z"
   },
   {
    "duration": -211097,
    "start_time": "2022-03-12T00:07:25.793Z"
   },
   {
    "duration": -211103,
    "start_time": "2022-03-12T00:07:25.800Z"
   },
   {
    "duration": -211108,
    "start_time": "2022-03-12T00:07:25.806Z"
   },
   {
    "duration": -211117,
    "start_time": "2022-03-12T00:07:25.816Z"
   },
   {
    "duration": -211122,
    "start_time": "2022-03-12T00:07:25.822Z"
   },
   {
    "duration": -211131,
    "start_time": "2022-03-12T00:07:25.832Z"
   },
   {
    "duration": -211134,
    "start_time": "2022-03-12T00:07:25.836Z"
   },
   {
    "duration": -211137,
    "start_time": "2022-03-12T00:07:25.840Z"
   },
   {
    "duration": -211149,
    "start_time": "2022-03-12T00:07:25.853Z"
   },
   {
    "duration": -211154,
    "start_time": "2022-03-12T00:07:25.858Z"
   },
   {
    "duration": -211157,
    "start_time": "2022-03-12T00:07:25.862Z"
   },
   {
    "duration": -211160,
    "start_time": "2022-03-12T00:07:25.866Z"
   },
   {
    "duration": -211163,
    "start_time": "2022-03-12T00:07:25.870Z"
   },
   {
    "duration": -211173,
    "start_time": "2022-03-12T00:07:25.881Z"
   },
   {
    "duration": -211176,
    "start_time": "2022-03-12T00:07:25.885Z"
   },
   {
    "duration": -211183,
    "start_time": "2022-03-12T00:07:25.893Z"
   },
   {
    "duration": -211188,
    "start_time": "2022-03-12T00:07:25.899Z"
   },
   {
    "duration": -211194,
    "start_time": "2022-03-12T00:07:25.906Z"
   },
   {
    "duration": -211200,
    "start_time": "2022-03-12T00:07:25.913Z"
   },
   {
    "duration": -211206,
    "start_time": "2022-03-12T00:07:25.920Z"
   },
   {
    "duration": -211213,
    "start_time": "2022-03-12T00:07:25.927Z"
   },
   {
    "duration": -211218,
    "start_time": "2022-03-12T00:07:25.933Z"
   },
   {
    "duration": -211222,
    "start_time": "2022-03-12T00:07:25.938Z"
   },
   {
    "duration": -211260,
    "start_time": "2022-03-12T00:07:25.977Z"
   },
   {
    "duration": -211223,
    "start_time": "2022-03-12T00:07:25.982Z"
   },
   {
    "duration": -211229,
    "start_time": "2022-03-12T00:07:25.989Z"
   },
   {
    "duration": -211236,
    "start_time": "2022-03-12T00:07:25.997Z"
   },
   {
    "duration": -211241,
    "start_time": "2022-03-12T00:07:26.003Z"
   },
   {
    "duration": -211248,
    "start_time": "2022-03-12T00:07:26.010Z"
   },
   {
    "duration": -211255,
    "start_time": "2022-03-12T00:07:26.018Z"
   },
   {
    "duration": -211260,
    "start_time": "2022-03-12T00:07:26.024Z"
   },
   {
    "duration": -211266,
    "start_time": "2022-03-12T00:07:26.031Z"
   },
   {
    "duration": -211270,
    "start_time": "2022-03-12T00:07:26.036Z"
   },
   {
    "duration": -211279,
    "start_time": "2022-03-12T00:07:26.046Z"
   },
   {
    "duration": -211282,
    "start_time": "2022-03-12T00:07:26.050Z"
   },
   {
    "duration": -211285,
    "start_time": "2022-03-12T00:07:26.054Z"
   },
   {
    "duration": -211288,
    "start_time": "2022-03-12T00:07:26.058Z"
   },
   {
    "duration": 210,
    "start_time": "2022-03-12T00:05:56.544Z"
   },
   {
    "duration": 31,
    "start_time": "2022-03-12T00:06:08.788Z"
   },
   {
    "duration": 4,
    "start_time": "2022-03-12T00:06:32.180Z"
   },
   {
    "duration": 1091,
    "start_time": "2022-03-12T00:06:48.297Z"
   },
   {
    "duration": 381,
    "start_time": "2022-03-12T00:06:49.390Z"
   },
   {
    "duration": 3,
    "start_time": "2022-03-12T00:06:49.773Z"
   },
   {
    "duration": 30,
    "start_time": "2022-03-12T00:06:49.778Z"
   },
   {
    "duration": 35,
    "start_time": "2022-03-12T00:06:49.810Z"
   },
   {
    "duration": 38,
    "start_time": "2022-03-12T00:06:49.846Z"
   },
   {
    "duration": 41,
    "start_time": "2022-03-12T00:06:49.885Z"
   },
   {
    "duration": 37,
    "start_time": "2022-03-12T00:06:49.928Z"
   },
   {
    "duration": 8,
    "start_time": "2022-03-12T00:06:49.967Z"
   },
   {
    "duration": 96,
    "start_time": "2022-03-12T00:06:49.977Z"
   },
   {
    "duration": 6,
    "start_time": "2022-03-12T00:06:50.074Z"
   },
   {
    "duration": 144,
    "start_time": "2022-03-12T00:06:50.081Z"
   },
   {
    "duration": 4,
    "start_time": "2022-03-12T00:06:50.227Z"
   },
   {
    "duration": 62,
    "start_time": "2022-03-12T00:06:50.233Z"
   },
   {
    "duration": 49,
    "start_time": "2022-03-12T00:06:50.296Z"
   },
   {
    "duration": 41,
    "start_time": "2022-03-12T00:06:50.347Z"
   },
   {
    "duration": 4,
    "start_time": "2022-03-12T00:06:50.389Z"
   },
   {
    "duration": 65,
    "start_time": "2022-03-12T00:06:50.395Z"
   },
   {
    "duration": 21,
    "start_time": "2022-03-12T00:06:50.462Z"
   },
   {
    "duration": 19,
    "start_time": "2022-03-12T00:06:50.485Z"
   },
   {
    "duration": 4,
    "start_time": "2022-03-12T00:06:50.506Z"
   },
   {
    "duration": 263,
    "start_time": "2022-03-12T00:06:50.512Z"
   },
   {
    "duration": -210984,
    "start_time": "2022-03-12T00:10:21.762Z"
   },
   {
    "duration": -210989,
    "start_time": "2022-03-12T00:10:21.768Z"
   },
   {
    "duration": -210996,
    "start_time": "2022-03-12T00:10:21.776Z"
   },
   {
    "duration": -210999,
    "start_time": "2022-03-12T00:10:21.780Z"
   },
   {
    "duration": -211000,
    "start_time": "2022-03-12T00:10:21.782Z"
   },
   {
    "duration": -211003,
    "start_time": "2022-03-12T00:10:21.786Z"
   },
   {
    "duration": -211006,
    "start_time": "2022-03-12T00:10:21.790Z"
   },
   {
    "duration": -211009,
    "start_time": "2022-03-12T00:10:21.794Z"
   },
   {
    "duration": -211013,
    "start_time": "2022-03-12T00:10:21.799Z"
   },
   {
    "duration": -211018,
    "start_time": "2022-03-12T00:10:21.805Z"
   },
   {
    "duration": -211021,
    "start_time": "2022-03-12T00:10:21.809Z"
   },
   {
    "duration": -211026,
    "start_time": "2022-03-12T00:10:21.815Z"
   },
   {
    "duration": -211031,
    "start_time": "2022-03-12T00:10:21.821Z"
   },
   {
    "duration": -211035,
    "start_time": "2022-03-12T00:10:21.826Z"
   },
   {
    "duration": -211038,
    "start_time": "2022-03-12T00:10:21.830Z"
   },
   {
    "duration": -211042,
    "start_time": "2022-03-12T00:10:21.835Z"
   },
   {
    "duration": -211044,
    "start_time": "2022-03-12T00:10:21.838Z"
   },
   {
    "duration": -211047,
    "start_time": "2022-03-12T00:10:21.842Z"
   },
   {
    "duration": -211051,
    "start_time": "2022-03-12T00:10:21.847Z"
   },
   {
    "duration": -211061,
    "start_time": "2022-03-12T00:10:21.858Z"
   },
   {
    "duration": -211064,
    "start_time": "2022-03-12T00:10:21.862Z"
   },
   {
    "duration": -211067,
    "start_time": "2022-03-12T00:10:21.866Z"
   },
   {
    "duration": -211070,
    "start_time": "2022-03-12T00:10:21.870Z"
   },
   {
    "duration": -211075,
    "start_time": "2022-03-12T00:10:21.876Z"
   },
   {
    "duration": -211079,
    "start_time": "2022-03-12T00:10:21.881Z"
   },
   {
    "duration": -211085,
    "start_time": "2022-03-12T00:10:21.888Z"
   },
   {
    "duration": -211089,
    "start_time": "2022-03-12T00:10:21.893Z"
   },
   {
    "duration": -211092,
    "start_time": "2022-03-12T00:10:21.897Z"
   },
   {
    "duration": -211095,
    "start_time": "2022-03-12T00:10:21.901Z"
   },
   {
    "duration": -211099,
    "start_time": "2022-03-12T00:10:21.905Z"
   },
   {
    "duration": -211101,
    "start_time": "2022-03-12T00:10:21.908Z"
   },
   {
    "duration": -211105,
    "start_time": "2022-03-12T00:10:21.913Z"
   },
   {
    "duration": -211108,
    "start_time": "2022-03-12T00:10:21.917Z"
   },
   {
    "duration": -211111,
    "start_time": "2022-03-12T00:10:21.921Z"
   },
   {
    "duration": -211117,
    "start_time": "2022-03-12T00:10:21.928Z"
   },
   {
    "duration": -211121,
    "start_time": "2022-03-12T00:10:21.933Z"
   },
   {
    "duration": -211125,
    "start_time": "2022-03-12T00:10:21.938Z"
   },
   {
    "duration": -211131,
    "start_time": "2022-03-12T00:10:21.945Z"
   },
   {
    "duration": -211091,
    "start_time": "2022-03-12T00:10:21.949Z"
   },
   {
    "duration": -211094,
    "start_time": "2022-03-12T00:10:21.954Z"
   },
   {
    "duration": -211104,
    "start_time": "2022-03-12T00:10:21.964Z"
   },
   {
    "duration": -211108,
    "start_time": "2022-03-12T00:10:21.969Z"
   },
   {
    "duration": -211111,
    "start_time": "2022-03-12T00:10:21.973Z"
   },
   {
    "duration": -211117,
    "start_time": "2022-03-12T00:10:21.980Z"
   },
   {
    "duration": -211120,
    "start_time": "2022-03-12T00:10:21.984Z"
   },
   {
    "duration": -211124,
    "start_time": "2022-03-12T00:10:21.989Z"
   },
   {
    "duration": -211128,
    "start_time": "2022-03-12T00:10:21.994Z"
   },
   {
    "duration": 211,
    "start_time": "2022-03-12T00:11:01.823Z"
   },
   {
    "duration": 4815,
    "start_time": "2022-03-12T00:11:47.770Z"
   },
   {
    "duration": 228,
    "start_time": "2022-03-12T00:12:36.713Z"
   },
   {
    "duration": 181,
    "start_time": "2022-03-12T00:13:23.034Z"
   }
  ],
  "kernelspec": {
   "display_name": "Python 3",
   "language": "python",
   "name": "python3"
  },
  "language_info": {
   "codemirror_mode": {
    "name": "ipython",
    "version": 3
   },
   "file_extension": ".py",
   "mimetype": "text/x-python",
   "name": "python",
   "nbconvert_exporter": "python",
   "pygments_lexer": "ipython3",
   "version": "3.8.8"
  },
  "toc": {
   "base_numbering": 1,
   "nav_menu": {},
   "number_sections": true,
   "sideBar": true,
   "skip_h1_title": true,
   "title_cell": "Table of Contents",
   "title_sidebar": "Contents",
   "toc_cell": false,
   "toc_position": {
    "height": "calc(100% - 180px)",
    "left": "10px",
    "top": "150px",
    "width": "248.6px"
   },
   "toc_section_display": true,
   "toc_window_display": true
  }
 },
 "nbformat": 4,
 "nbformat_minor": 5
}
