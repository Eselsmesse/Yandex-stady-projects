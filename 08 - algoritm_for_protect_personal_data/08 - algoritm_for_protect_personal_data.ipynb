{
 "cells": [
  {
   "cell_type": "markdown",
   "metadata": {
    "toc": true
   },
   "source": [
    "<h1>Содержание<span class=\"tocSkip\"></span></h1>\n",
    "<div class=\"toc\"><ul class=\"toc-item\"><li><span><a href=\"#Загрузка-данных\" data-toc-modified-id=\"Загрузка-данных-1\"><span class=\"toc-item-num\">1&nbsp;&nbsp;</span>Загрузка данных</a></span></li><li><span><a href=\"#Признаки-умножают-на-обратимую-матрицу.-Изменится-ли-качество-линейной-регрессии?\" data-toc-modified-id=\"Признаки-умножают-на-обратимую-матрицу.-Изменится-ли-качество-линейной-регрессии?-2\"><span class=\"toc-item-num\">2&nbsp;&nbsp;</span>Признаки умножают на обратимую матрицу. Изменится ли качество линейной регрессии?</a></span></li><li><span><a href=\"#Алгоритм-преобразования\" data-toc-modified-id=\"Алгоритм-преобразования-3\"><span class=\"toc-item-num\">3&nbsp;&nbsp;</span>Алгоритм преобразования</a></span></li><li><span><a href=\"#Проверка-алгоритма\" data-toc-modified-id=\"Проверка-алгоритма-4\"><span class=\"toc-item-num\">4&nbsp;&nbsp;</span>Проверка алгоритма</a></span><ul class=\"toc-item\"><li><span><a href=\"#Вывод\" data-toc-modified-id=\"Вывод-4.1\"><span class=\"toc-item-num\">4.1&nbsp;&nbsp;</span>Вывод</a></span></li></ul></li></ul></div>"
   ]
  },
  {
   "cell_type": "markdown",
   "metadata": {},
   "source": [
    "# Защита персональных данных клиентов"
   ]
  },
  {
   "cell_type": "markdown",
   "metadata": {},
   "source": [
    "Вам нужно защитить данные клиентов страховой компании «Хоть потоп». Разработайте такой метод преобразования данных, чтобы по ним было сложно восстановить персональную информацию. Обоснуйте корректность его работы.\n",
    "\n",
    "Нужно защитить данные, чтобы при преобразовании качество моделей машинного обучения не ухудшилось. Подбирать наилучшую модель не требуется."
   ]
  },
  {
   "cell_type": "code",
   "execution_count": 1,
   "metadata": {},
   "outputs": [],
   "source": [
    "import pandas as pd\n",
    "import numpy as np\n",
    "import random\n",
    "from sklearn.linear_model import LinearRegression\n",
    "from sklearn.metrics import r2_score\n",
    "from sklearn.model_selection import train_test_split\n",
    "\n",
    "state = np.random.RandomState(12345) # закрепляем весь рандом в проекте"
   ]
  },
  {
   "cell_type": "markdown",
   "metadata": {},
   "source": [
    "## Загрузка данных"
   ]
  },
  {
   "cell_type": "code",
   "execution_count": 11,
   "metadata": {},
   "outputs": [],
   "source": [
    "try:\n",
    "    data = pd.read_csv('insurance.csv')\n",
    "except:\n",
    "    data = pd.read_csv('/datasets/insurance.csv')                       "
   ]
  },
  {
   "cell_type": "code",
   "execution_count": 14,
   "metadata": {},
   "outputs": [
    {
     "name": "stdout",
     "output_type": "stream",
     "text": [
      "ОБЩАЯ ИНФОРМАЦИЯ\n",
      "<class 'pandas.core.frame.DataFrame'>\n",
      "RangeIndex: 5000 entries, 0 to 4999\n",
      "Data columns (total 5 columns):\n",
      " #   Column             Non-Null Count  Dtype  \n",
      "---  ------             --------------  -----  \n",
      " 0   Пол                5000 non-null   int64  \n",
      " 1   Возраст            5000 non-null   float64\n",
      " 2   Зарплата           5000 non-null   float64\n",
      " 3   Члены семьи        5000 non-null   int64  \n",
      " 4   Страховые выплаты  5000 non-null   int64  \n",
      "dtypes: float64(2), int64(3)\n",
      "memory usage: 195.4 KB\n",
      "None\n",
      "ПРОПУСКИ В ДАННЫХ\n",
      "\n",
      "Пол                  0\n",
      "Возраст              0\n",
      "Зарплата             0\n",
      "Члены семьи          0\n",
      "Страховые выплаты    0\n",
      "dtype: int64\n",
      "\n",
      "ПОЛНЫЕ ДУБЛИКАТЫ В ДАННЫХ\n",
      "\n",
      "153\n",
      "\n",
      "ПЕРВЫЕ 5 ЗАПИСЕЙ\n"
     ]
    },
    {
     "data": {
      "text/html": [
       "<div>\n",
       "<style scoped>\n",
       "    .dataframe tbody tr th:only-of-type {\n",
       "        vertical-align: middle;\n",
       "    }\n",
       "\n",
       "    .dataframe tbody tr th {\n",
       "        vertical-align: top;\n",
       "    }\n",
       "\n",
       "    .dataframe thead th {\n",
       "        text-align: right;\n",
       "    }\n",
       "</style>\n",
       "<table border=\"1\" class=\"dataframe\">\n",
       "  <thead>\n",
       "    <tr style=\"text-align: right;\">\n",
       "      <th></th>\n",
       "      <th>Пол</th>\n",
       "      <th>Возраст</th>\n",
       "      <th>Зарплата</th>\n",
       "      <th>Члены семьи</th>\n",
       "      <th>Страховые выплаты</th>\n",
       "    </tr>\n",
       "  </thead>\n",
       "  <tbody>\n",
       "    <tr>\n",
       "      <th>0</th>\n",
       "      <td>1</td>\n",
       "      <td>41.0</td>\n",
       "      <td>49600.0</td>\n",
       "      <td>1</td>\n",
       "      <td>0</td>\n",
       "    </tr>\n",
       "    <tr>\n",
       "      <th>1</th>\n",
       "      <td>0</td>\n",
       "      <td>46.0</td>\n",
       "      <td>38000.0</td>\n",
       "      <td>1</td>\n",
       "      <td>1</td>\n",
       "    </tr>\n",
       "    <tr>\n",
       "      <th>2</th>\n",
       "      <td>0</td>\n",
       "      <td>29.0</td>\n",
       "      <td>21000.0</td>\n",
       "      <td>0</td>\n",
       "      <td>0</td>\n",
       "    </tr>\n",
       "    <tr>\n",
       "      <th>3</th>\n",
       "      <td>0</td>\n",
       "      <td>21.0</td>\n",
       "      <td>41700.0</td>\n",
       "      <td>2</td>\n",
       "      <td>0</td>\n",
       "    </tr>\n",
       "    <tr>\n",
       "      <th>4</th>\n",
       "      <td>1</td>\n",
       "      <td>28.0</td>\n",
       "      <td>26100.0</td>\n",
       "      <td>0</td>\n",
       "      <td>0</td>\n",
       "    </tr>\n",
       "  </tbody>\n",
       "</table>\n",
       "</div>"
      ],
      "text/plain": [
       "   Пол  Возраст  Зарплата  Члены семьи  Страховые выплаты\n",
       "0    1     41.0   49600.0            1                  0\n",
       "1    0     46.0   38000.0            1                  1\n",
       "2    0     29.0   21000.0            0                  0\n",
       "3    0     21.0   41700.0            2                  0\n",
       "4    1     28.0   26100.0            0                  0"
      ]
     },
     "metadata": {},
     "output_type": "display_data"
    },
    {
     "name": "stdout",
     "output_type": "stream",
     "text": [
      "Общая статистика:\n"
     ]
    },
    {
     "data": {
      "text/html": [
       "<div>\n",
       "<style scoped>\n",
       "    .dataframe tbody tr th:only-of-type {\n",
       "        vertical-align: middle;\n",
       "    }\n",
       "\n",
       "    .dataframe tbody tr th {\n",
       "        vertical-align: top;\n",
       "    }\n",
       "\n",
       "    .dataframe thead th {\n",
       "        text-align: right;\n",
       "    }\n",
       "</style>\n",
       "<table border=\"1\" class=\"dataframe\">\n",
       "  <thead>\n",
       "    <tr style=\"text-align: right;\">\n",
       "      <th></th>\n",
       "      <th>Пол</th>\n",
       "      <th>Возраст</th>\n",
       "      <th>Зарплата</th>\n",
       "      <th>Члены семьи</th>\n",
       "      <th>Страховые выплаты</th>\n",
       "    </tr>\n",
       "  </thead>\n",
       "  <tbody>\n",
       "    <tr>\n",
       "      <th>count</th>\n",
       "      <td>5000.000000</td>\n",
       "      <td>5000.000000</td>\n",
       "      <td>5000.000000</td>\n",
       "      <td>5000.000000</td>\n",
       "      <td>5000.000000</td>\n",
       "    </tr>\n",
       "    <tr>\n",
       "      <th>mean</th>\n",
       "      <td>0.499000</td>\n",
       "      <td>30.952800</td>\n",
       "      <td>39916.360000</td>\n",
       "      <td>1.194200</td>\n",
       "      <td>0.148000</td>\n",
       "    </tr>\n",
       "    <tr>\n",
       "      <th>std</th>\n",
       "      <td>0.500049</td>\n",
       "      <td>8.440807</td>\n",
       "      <td>9900.083569</td>\n",
       "      <td>1.091387</td>\n",
       "      <td>0.463183</td>\n",
       "    </tr>\n",
       "    <tr>\n",
       "      <th>min</th>\n",
       "      <td>0.000000</td>\n",
       "      <td>18.000000</td>\n",
       "      <td>5300.000000</td>\n",
       "      <td>0.000000</td>\n",
       "      <td>0.000000</td>\n",
       "    </tr>\n",
       "    <tr>\n",
       "      <th>25%</th>\n",
       "      <td>0.000000</td>\n",
       "      <td>24.000000</td>\n",
       "      <td>33300.000000</td>\n",
       "      <td>0.000000</td>\n",
       "      <td>0.000000</td>\n",
       "    </tr>\n",
       "    <tr>\n",
       "      <th>50%</th>\n",
       "      <td>0.000000</td>\n",
       "      <td>30.000000</td>\n",
       "      <td>40200.000000</td>\n",
       "      <td>1.000000</td>\n",
       "      <td>0.000000</td>\n",
       "    </tr>\n",
       "    <tr>\n",
       "      <th>75%</th>\n",
       "      <td>1.000000</td>\n",
       "      <td>37.000000</td>\n",
       "      <td>46600.000000</td>\n",
       "      <td>2.000000</td>\n",
       "      <td>0.000000</td>\n",
       "    </tr>\n",
       "    <tr>\n",
       "      <th>max</th>\n",
       "      <td>1.000000</td>\n",
       "      <td>65.000000</td>\n",
       "      <td>79000.000000</td>\n",
       "      <td>6.000000</td>\n",
       "      <td>5.000000</td>\n",
       "    </tr>\n",
       "  </tbody>\n",
       "</table>\n",
       "</div>"
      ],
      "text/plain": [
       "               Пол      Возраст      Зарплата  Члены семьи  Страховые выплаты\n",
       "count  5000.000000  5000.000000   5000.000000  5000.000000        5000.000000\n",
       "mean      0.499000    30.952800  39916.360000     1.194200           0.148000\n",
       "std       0.500049     8.440807   9900.083569     1.091387           0.463183\n",
       "min       0.000000    18.000000   5300.000000     0.000000           0.000000\n",
       "25%       0.000000    24.000000  33300.000000     0.000000           0.000000\n",
       "50%       0.000000    30.000000  40200.000000     1.000000           0.000000\n",
       "75%       1.000000    37.000000  46600.000000     2.000000           0.000000\n",
       "max       1.000000    65.000000  79000.000000     6.000000           5.000000"
      ]
     },
     "metadata": {},
     "output_type": "display_data"
    }
   ],
   "source": [
    "def data_info(data):\n",
    "    print('ОБЩАЯ ИНФОРМАЦИЯ', sep='\\n')\n",
    "    print(data.info()) \n",
    "    print('ПРОПУСКИ В ДАННЫХ', '', data.isna().sum(), '', sep='\\n')\n",
    "    print('ПОЛНЫЕ ДУБЛИКАТЫ В ДАННЫХ', '', data.duplicated().sum(), '', sep='\\n')\n",
    "    print('ПЕРВЫЕ 5 ЗАПИСЕЙ', sep='\\n')\n",
    "    display(data.head(5))\n",
    "    print('Общая статистика:')\n",
    "    display(data.describe())\n",
    "    \n",
    "data_info(data)"
   ]
  },
  {
   "cell_type": "markdown",
   "metadata": {},
   "source": [
    "## Признаки умножают на обратимую матрицу. Изменится ли качество линейной регрессии?"
   ]
  },
  {
   "cell_type": "markdown",
   "metadata": {},
   "source": [
    "В этом задании вы можете записывать формулы в *Jupyter Notebook.*\n",
    "\n",
    "Чтобы записать формулу внутри текста, окружите её символами доллара \\\\$; если снаружи —  двойными символами \\\\$\\\\$. Эти формулы записываются на языке вёрстки *LaTeX.* \n",
    "\n",
    "Для примера мы записали формулы линейной регрессии. Можете их скопировать и отредактировать, чтобы решить задачу.\n",
    "\n",
    "Работать в *LaTeX* необязательно."
   ]
  },
  {
   "cell_type": "markdown",
   "metadata": {},
   "source": [
    "Обозначения:\n",
    "\n",
    "- $X$ — матрица признаков (нулевой столбец состоит из единиц)\n",
    "\n",
    "- $y$ — вектор целевого признака\n",
    "\n",
    "- $P$ — матрица, на которую умножаются признаки\n",
    "\n",
    "- $w$ — вектор весов линейной регрессии (нулевой элемент равен сдвигу)"
   ]
  },
  {
   "cell_type": "markdown",
   "metadata": {},
   "source": [
    "Предсказания:\n",
    "\n",
    "$$\n",
    "a = Xw\n",
    "$$\n",
    "\n",
    "Задача обучения:\n",
    "\n",
    "$$\n",
    "w = \\arg\\min_w MSE(Xw, y)\n",
    "$$\n",
    "\n",
    "Формула обучения:\n",
    "\n",
    "$$\n",
    "w = (X^T X)^{-1} X^T y\n",
    "$$"
   ]
  },
  {
   "cell_type": "code",
   "execution_count": 15,
   "metadata": {},
   "outputs": [],
   "source": [
    "# Выделим признаки и целевой признак\n",
    "X = data.drop('Страховые выплаты', axis=1) # матрица признаков\n",
    "y = data['Страховые выплаты'] # вектор целевого признака"
   ]
  },
  {
   "cell_type": "markdown",
   "metadata": {},
   "source": [
    "*Первым делом посчитаем линейную регрессию в её изначальном виде чтобы было с чем сравнивать, а после будем проводить преобразования*"
   ]
  },
  {
   "cell_type": "code",
   "execution_count": 16,
   "metadata": {},
   "outputs": [],
   "source": [
    "class LinearRegression:\n",
    "    def fit(self, X_train, y_train):\n",
    "        '''\n",
    "        Input --> martrix: признаки - X и целевой признак - y\n",
    "        Process: w - отвечает за формулу обучения и исполняет вышеописанную формулу\n",
    "        self.w, self.w0 - параметры линейной регрессии\n",
    "        '''\n",
    "        \n",
    "        X = np.concatenate((np.ones((X_train.shape[0], 1)), X_train), axis=1)\n",
    "        y = y_train\n",
    "        w = np.linalg.inv(X.T.dot(X)).dot(X.T).dot(y) \n",
    "        self.w = w[1:]\n",
    "        self.w0 = w[0]\n",
    "        \n",
    "    def predict(self, X_test):\n",
    "        '''\n",
    "        Input --> martix: X_test - матрица признаков\n",
    "        Process: функция использует формулу обучения линейной регрессии $a=Xw+w0$\n",
    "        Output --> array: вектор предсказанных значений\n",
    "        \n",
    "        '''\n",
    "        return X_test.dot(self.w) + self.w0"
   ]
  },
  {
   "cell_type": "code",
   "execution_count": 17,
   "metadata": {
    "scrolled": false
   },
   "outputs": [
    {
     "name": "stdout",
     "output_type": "stream",
     "text": [
      "r2_score равен:0.4249455028666801\n"
     ]
    }
   ],
   "source": [
    "model = LinearRegression()\n",
    "model.fit(X, y)\n",
    "predictions = model.predict(X)\n",
    "print(f'r2_score равен:{r2_score(y, predictions)}')"
   ]
  },
  {
   "cell_type": "markdown",
   "metadata": {},
   "source": [
    "***Теперь исследуем процесс умножения матрицы признаков на обратимую матрицу***"
   ]
  },
  {
   "cell_type": "markdown",
   "metadata": {},
   "source": [
    "Обозначения:\n",
    "\n",
    "- $X$ — матрица признаков (нулевой столбец состоит из единиц)\n",
    "\n",
    "- $y$ — вектор целевого признака\n",
    "\n",
    "- $P$ — матрица, на которую умножаются признаки\n",
    "\n",
    "- $w$ — вектор весов линейной регрессии (нулевой элемент равен сдвигу)"
   ]
  },
  {
   "cell_type": "markdown",
   "metadata": {},
   "source": [
    "**Ответ:** Не изменится."
   ]
  },
  {
   "cell_type": "markdown",
   "metadata": {},
   "source": [
    "**Обоснование:** "
   ]
  },
  {
   "cell_type": "markdown",
   "metadata": {},
   "source": [
    "Умножение матрицы на обратимую матрицу:\n",
    "\n",
    "$$\n",
    "Xm = XP \n",
    "$$\n",
    "\n",
    "Предсказания:\n",
    "$$\n",
    "am = Xm * w\n",
    "$$\n",
    "\n",
    "Формула обучения:\n",
    "\n",
    "$$\n",
    "wm = (Xm^T Xm)^{-1} Xm^T y\n",
    "$$\n",
    "\n",
    "преобразования:\n",
    "\n",
    "$$\n",
    "wm = (Xm^T Xm)^{-1} Xm^T y =  \n",
    "$$\n",
    "$$\n",
    "((XP)^T XP)^{-1} (XP)^T y =  \n",
    "$$\n",
    "$$\n",
    "(X^TXP)^{-1} (P^T)^{-1} X^TP^T y => (P^T)^{-1} P^T = E => \n",
    "$$\n",
    "$$\n",
    "P^{-1}(X^TX) X^T y = \n",
    "$$\n",
    "$$\n",
    "P^{-1} w\n",
    "$$\n",
    "\n",
    "Итог:\n",
    "$$\n",
    "wm = P^{-1} w\n",
    "$$\n",
    "Условие:\n",
    "$$\n",
    "am = Xm wm\n",
    "$$\n",
    "Подстановка:\n",
    "$$\n",
    "am = XP P^{-1} w = \n",
    "$$\n",
    "$$\n",
    "XE w = X w\n",
    "$$\n",
    "\n",
    "\n",
    "Итог подстановки:\n",
    "$$\n",
    "am = a\n",
    "$$"
   ]
  },
  {
   "cell_type": "markdown",
   "metadata": {},
   "source": [
    "## Алгоритм преобразования"
   ]
  },
  {
   "cell_type": "markdown",
   "metadata": {},
   "source": [
    "**Алгоритм преобразования:**\n",
    "1. Генерация случайной матрицы 4x4\n",
    "2. Вычисление обратной матрицы 4x4\n",
    "3. Умножение признаков на данную матрицу \n",
    "\n",
    "**Алгоритм проверки корректности полученных матриц:**\n",
    "\n",
    "4. Восстановление признаков по данной матрице \n",
    "5. Проверка одинаковости оригинальной и восстановленной матриц"
   ]
  },
  {
   "cell_type": "code",
   "execution_count": 20,
   "metadata": {},
   "outputs": [
    {
     "name": "stdout",
     "output_type": "stream",
     "text": [
      "(5000, 4)\n"
     ]
    },
    {
     "data": {
      "text/plain": [
       "array([[ -21.69986051,   -8.41892989, -128.2745335 ,   -7.51756325],\n",
       "       [ -14.95827583,  127.64280256,   19.04730585,   -3.53227538],\n",
       "       [-153.09048668,   84.70149036, -114.39598349,  -19.57143544],\n",
       "       ...,\n",
       "       [  27.59924007,   97.03109854,   28.12783471, -198.70804586],\n",
       "       [ -66.18057597,  -47.43198007,  120.99963914, -144.97953007],\n",
       "       [  34.98938662,  139.98243349,   70.57019912,   77.26398153]])"
      ]
     },
     "execution_count": 20,
     "metadata": {},
     "output_type": "execute_result"
    }
   ],
   "source": [
    "# Создадим массив данных размером M x N\n",
    "primal_matrix = np.random.normal(1,100, size=(5000, 4))\n",
    "print(primal_matrix.shape)\n",
    "primal_matrix"
   ]
  },
  {
   "cell_type": "code",
   "execution_count": 24,
   "metadata": {},
   "outputs": [],
   "source": [
    "def rnd_matrix(n):\n",
    "    random_matrix = np.random.normal(size=(n, n))\n",
    "    try:\n",
    "        np.linalg.inv(random_matrix) # выполняется операция создания обратной матрицы\n",
    "    except LinAlgError: # если возникает ошибка, т.е. обратной матрицы не существует, выполняется еще одна попытка\n",
    "        rnd_matrix(n)\n",
    "    return random_matrix"
   ]
  },
  {
   "cell_type": "code",
   "execution_count": 26,
   "metadata": {},
   "outputs": [
    {
     "data": {
      "text/plain": [
       "array([[-0.64076666, -0.74886588,  0.38583256,  0.09987712],\n",
       "       [ 1.10084007,  0.83961274,  2.2527335 ,  1.34601667],\n",
       "       [-1.36909495, -0.01321899, -0.05771433, -0.9321204 ],\n",
       "       [ 0.1133841 , -0.20128134,  1.58677193, -0.8801263 ]])"
      ]
     },
     "execution_count": 26,
     "metadata": {},
     "output_type": "execute_result"
    }
   ],
   "source": [
    "# Генерация случайной матрицы N x N\n",
    "generate_matrix = rnd_matrix(primal_matrix.shape[1])\n",
    "generate_matrix"
   ]
  },
  {
   "cell_type": "code",
   "execution_count": 27,
   "metadata": {},
   "outputs": [
    {
     "data": {
      "text/plain": [
       "array([[ 1.00000000e+00, -2.77555756e-17,  1.11022302e-16,\n",
       "        -8.32667268e-17],\n",
       "       [-1.04083409e-16,  1.00000000e+00, -1.11022302e-16,\n",
       "         0.00000000e+00],\n",
       "       [ 0.00000000e+00,  5.55111512e-17,  1.00000000e+00,\n",
       "         0.00000000e+00],\n",
       "       [ 5.55111512e-17, -5.55111512e-17,  5.55111512e-17,\n",
       "         1.00000000e+00]])"
      ]
     },
     "execution_count": 27,
     "metadata": {},
     "output_type": "execute_result"
    }
   ],
   "source": [
    "# Вычисление обратной матрицы 4x4\n",
    "inverse_matrix = generate_matrix @ np.linalg.inv(generate_matrix)\n",
    "inverse_matrix"
   ]
  },
  {
   "cell_type": "code",
   "execution_count": 28,
   "metadata": {
    "scrolled": true
   },
   "outputs": [
    {
     "data": {
      "text/plain": [
       "array([[ 179.40429579,   12.39044897,  -31.86349724,  112.68437437],\n",
       "       [ 123.62100272,  118.83146071,  275.06960964,  155.66981617],\n",
       "       [ 345.73794925,  191.2122565 ,  107.28947377,  222.57554438],\n",
       "       ...,\n",
       "       [  28.09104035,  100.42481668,  -87.69383638,  282.03165666],\n",
       "       [-191.90708539,   37.31806138, -369.41909385,  -55.6400959 ],\n",
       "       [  43.82144339,   74.8440128 ,  447.37056711,   58.13134394]])"
      ]
     },
     "execution_count": 28,
     "metadata": {},
     "output_type": "execute_result"
    }
   ],
   "source": [
    "# умножаем оригинальную матрицу на ключ\n",
    "new_matrix = primal_matrix @ generate_matrix\n",
    "new_matrix"
   ]
  },
  {
   "cell_type": "markdown",
   "metadata": {},
   "source": [
    "**Теперь данные сильно отличаются от тех что были ранее**"
   ]
  },
  {
   "cell_type": "code",
   "execution_count": 29,
   "metadata": {
    "scrolled": true
   },
   "outputs": [
    {
     "data": {
      "text/plain": [
       "array([[ -21.69986051,   -8.41892989, -128.2745335 ,   -7.51756325],\n",
       "       [ -14.95827583,  127.64280256,   19.04730585,   -3.53227538],\n",
       "       [-153.09048668,   84.70149036, -114.39598349,  -19.57143544],\n",
       "       ...,\n",
       "       [  27.59924007,   97.03109854,   28.12783471, -198.70804586],\n",
       "       [ -66.18057597,  -47.43198007,  120.99963914, -144.97953007],\n",
       "       [  34.98938662,  139.98243349,   70.57019912,   77.26398153]])"
      ]
     },
     "execution_count": 29,
     "metadata": {},
     "output_type": "execute_result"
    }
   ],
   "source": [
    "# восстановление первоначальной матрицы\n",
    "returned_matrix = new_matrix @ np.linalg.inv(generate_matrix)\n",
    "returned_matrix"
   ]
  },
  {
   "cell_type": "code",
   "execution_count": 30,
   "metadata": {},
   "outputs": [
    {
     "data": {
      "text/plain": [
       "True"
      ]
     },
     "execution_count": 30,
     "metadata": {},
     "output_type": "execute_result"
    }
   ],
   "source": [
    "# проверка на одинаковость получившихся матриц\n",
    "np.allclose(returned_matrix, primal_matrix)"
   ]
  },
  {
   "cell_type": "markdown",
   "metadata": {},
   "source": [
    "**Вывод**\n",
    "\n",
    "Алгоритм преобразования работает без нарекательств в соответствии с расчётами"
   ]
  },
  {
   "cell_type": "markdown",
   "metadata": {},
   "source": [
    "## Проверка алгоритма"
   ]
  },
  {
   "cell_type": "code",
   "execution_count": 31,
   "metadata": {},
   "outputs": [],
   "source": [
    "# разбиваем датасет на выборки\n",
    "X_train, X_test, y_train, y_test = train_test_split(X, y, test_size=0.4)"
   ]
  },
  {
   "cell_type": "code",
   "execution_count": 32,
   "metadata": {},
   "outputs": [
    {
     "name": "stdout",
     "output_type": "stream",
     "text": [
      "(3000, 4)\n",
      "(2000, 4)\n",
      "(3000,)\n",
      "(2000,)\n"
     ]
    }
   ],
   "source": [
    "# проверка размерности\n",
    "print(X_train.shape)\n",
    "print(X_test.shape)\n",
    "print(y_train.shape)\n",
    "print(y_test.shape)"
   ]
  },
  {
   "cell_type": "code",
   "execution_count": 33,
   "metadata": {},
   "outputs": [],
   "source": [
    "# экземпляр моделей линейной регрессии для зашифрованных и не зашифрованных выборок\n",
    "model_1, model_2 = LinearRegression(), LinearRegression()"
   ]
  },
  {
   "cell_type": "code",
   "execution_count": 34,
   "metadata": {},
   "outputs": [
    {
     "data": {
      "text/html": [
       "<div>\n",
       "<style scoped>\n",
       "    .dataframe tbody tr th:only-of-type {\n",
       "        vertical-align: middle;\n",
       "    }\n",
       "\n",
       "    .dataframe tbody tr th {\n",
       "        vertical-align: top;\n",
       "    }\n",
       "\n",
       "    .dataframe thead th {\n",
       "        text-align: right;\n",
       "    }\n",
       "</style>\n",
       "<table border=\"1\" class=\"dataframe\">\n",
       "  <thead>\n",
       "    <tr style=\"text-align: right;\">\n",
       "      <th></th>\n",
       "      <th>0</th>\n",
       "      <th>1</th>\n",
       "      <th>2</th>\n",
       "      <th>3</th>\n",
       "    </tr>\n",
       "  </thead>\n",
       "  <tbody>\n",
       "    <tr>\n",
       "      <th>49</th>\n",
       "      <td>-50077.938279</td>\n",
       "      <td>-460.507056</td>\n",
       "      <td>-2047.681322</td>\n",
       "      <td>-34078.798131</td>\n",
       "    </tr>\n",
       "    <tr>\n",
       "      <th>2516</th>\n",
       "      <td>-51705.327074</td>\n",
       "      <td>-464.816543</td>\n",
       "      <td>-2083.813482</td>\n",
       "      <td>-35179.378498</td>\n",
       "    </tr>\n",
       "    <tr>\n",
       "      <th>1231</th>\n",
       "      <td>-45296.660817</td>\n",
       "      <td>-423.441853</td>\n",
       "      <td>-1861.861399</td>\n",
       "      <td>-30833.357419</td>\n",
       "    </tr>\n",
       "    <tr>\n",
       "      <th>1544</th>\n",
       "      <td>-39676.119176</td>\n",
       "      <td>-362.561591</td>\n",
       "      <td>-1615.810582</td>\n",
       "      <td>-26998.721176</td>\n",
       "    </tr>\n",
       "    <tr>\n",
       "      <th>3633</th>\n",
       "      <td>-71571.281471</td>\n",
       "      <td>-666.913514</td>\n",
       "      <td>-2950.491841</td>\n",
       "      <td>-48709.416301</td>\n",
       "    </tr>\n",
       "    <tr>\n",
       "      <th>...</th>\n",
       "      <td>...</td>\n",
       "      <td>...</td>\n",
       "      <td>...</td>\n",
       "      <td>...</td>\n",
       "    </tr>\n",
       "    <tr>\n",
       "      <th>4449</th>\n",
       "      <td>-38845.508796</td>\n",
       "      <td>-347.621269</td>\n",
       "      <td>-1562.108319</td>\n",
       "      <td>-26426.354785</td>\n",
       "    </tr>\n",
       "    <tr>\n",
       "      <th>2640</th>\n",
       "      <td>-57596.605416</td>\n",
       "      <td>-524.523330</td>\n",
       "      <td>-2341.531030</td>\n",
       "      <td>-39189.674118</td>\n",
       "    </tr>\n",
       "    <tr>\n",
       "      <th>1461</th>\n",
       "      <td>-49383.136553</td>\n",
       "      <td>-446.049019</td>\n",
       "      <td>-1997.497759</td>\n",
       "      <td>-33598.297763</td>\n",
       "    </tr>\n",
       "    <tr>\n",
       "      <th>2385</th>\n",
       "      <td>-44730.302018</td>\n",
       "      <td>-402.984970</td>\n",
       "      <td>-1804.187718</td>\n",
       "      <td>-30432.660578</td>\n",
       "    </tr>\n",
       "    <tr>\n",
       "      <th>1189</th>\n",
       "      <td>-54459.042120</td>\n",
       "      <td>-502.807815</td>\n",
       "      <td>-2232.367191</td>\n",
       "      <td>-37061.583396</td>\n",
       "    </tr>\n",
       "  </tbody>\n",
       "</table>\n",
       "<p>3000 rows × 4 columns</p>\n",
       "</div>"
      ],
      "text/plain": [
       "                 0           1            2             3\n",
       "49   -50077.938279 -460.507056 -2047.681322 -34078.798131\n",
       "2516 -51705.327074 -464.816543 -2083.813482 -35179.378498\n",
       "1231 -45296.660817 -423.441853 -1861.861399 -30833.357419\n",
       "1544 -39676.119176 -362.561591 -1615.810582 -26998.721176\n",
       "3633 -71571.281471 -666.913514 -2950.491841 -48709.416301\n",
       "...            ...         ...          ...           ...\n",
       "4449 -38845.508796 -347.621269 -1562.108319 -26426.354785\n",
       "2640 -57596.605416 -524.523330 -2341.531030 -39189.674118\n",
       "1461 -49383.136553 -446.049019 -1997.497759 -33598.297763\n",
       "2385 -44730.302018 -402.984970 -1804.187718 -30432.660578\n",
       "1189 -54459.042120 -502.807815 -2232.367191 -37061.583396\n",
       "\n",
       "[3000 rows x 4 columns]"
      ]
     },
     "execution_count": 34,
     "metadata": {},
     "output_type": "execute_result"
    }
   ],
   "source": [
    "# процесс шифрования\n",
    "crypto_X_train = X_train @ generate_matrix\n",
    "crypto_X_test = X_test @ generate_matrix\n",
    "crypto_X_train"
   ]
  },
  {
   "cell_type": "markdown",
   "metadata": {},
   "source": [
    "Данные разительно отличаются от изначальных"
   ]
  },
  {
   "cell_type": "code",
   "execution_count": 35,
   "metadata": {},
   "outputs": [],
   "source": [
    "# обучение и предсказания моделей\n",
    "model_1.fit(X_train, y_train)\n",
    "model_2.fit(crypto_X_train, y_train)\n",
    "predicted_original = model_1.predict(X_test)\n",
    "predicted_crypto = model_2.predict(crypto_X_test)"
   ]
  },
  {
   "cell_type": "code",
   "execution_count": 36,
   "metadata": {
    "scrolled": true
   },
   "outputs": [
    {
     "data": {
      "text/html": [
       "<div>\n",
       "<style scoped>\n",
       "    .dataframe tbody tr th:only-of-type {\n",
       "        vertical-align: middle;\n",
       "    }\n",
       "\n",
       "    .dataframe tbody tr th {\n",
       "        vertical-align: top;\n",
       "    }\n",
       "\n",
       "    .dataframe thead th {\n",
       "        text-align: right;\n",
       "    }\n",
       "</style>\n",
       "<table border=\"1\" class=\"dataframe\">\n",
       "  <thead>\n",
       "    <tr style=\"text-align: right;\">\n",
       "      <th></th>\n",
       "      <th>R2 for original</th>\n",
       "      <th>R2 for crypto</th>\n",
       "    </tr>\n",
       "  </thead>\n",
       "  <tbody>\n",
       "    <tr>\n",
       "      <th>Result</th>\n",
       "      <td>0.424358</td>\n",
       "      <td>0.424358</td>\n",
       "    </tr>\n",
       "  </tbody>\n",
       "</table>\n",
       "</div>"
      ],
      "text/plain": [
       "        R2 for original  R2 for crypto\n",
       "Result         0.424358       0.424358"
      ]
     },
     "execution_count": 36,
     "metadata": {},
     "output_type": "execute_result"
    }
   ],
   "source": [
    "# результаты\n",
    "pd.DataFrame({'R2 for original': [r2_score(y_test, predicted_original)], \n",
    "              'R2 for crypto': [r2_score(y_test, predicted_crypto)]}, index=['Result'])"
   ]
  },
  {
   "cell_type": "markdown",
   "metadata": {},
   "source": [
    "### Вывод \n",
    "\n",
    "* В ходе работы данные были проверены - датасет в предобработке не нуждался.\n",
    "\n",
    "* Были сделаны расчёты по обоснованию алгоритма шифрования данных и подтверждены соответствующими расчётами.\n",
    "\n",
    "* Датасет был разбит на тренировочный и тестовый.\n",
    "\n",
    "* Обучены модели на зашифрованных и незашифрованных данных.\n",
    "\n",
    "* Результаты R2_score практически не отличались друг от друга"
   ]
  }
 ],
 "metadata": {
  "ExecuteTimeLog": [
   {
    "duration": 1193,
    "start_time": "2022-05-14T18:00:39.919Z"
   },
   {
    "duration": 51,
    "start_time": "2022-05-14T18:00:41.114Z"
   },
   {
    "duration": 15,
    "start_time": "2022-05-14T18:00:41.167Z"
   },
   {
    "duration": 13,
    "start_time": "2022-05-14T18:00:41.184Z"
   },
   {
    "duration": 4,
    "start_time": "2022-05-14T18:00:41.198Z"
   },
   {
    "duration": 9,
    "start_time": "2022-05-14T18:00:41.204Z"
   },
   {
    "duration": 101,
    "start_time": "2022-05-14T18:00:41.214Z"
   },
   {
    "duration": 93,
    "start_time": "2022-05-14T18:00:41.317Z"
   },
   {
    "duration": 7,
    "start_time": "2022-05-14T18:00:41.411Z"
   },
   {
    "duration": 10,
    "start_time": "2022-05-14T18:00:41.420Z"
   },
   {
    "duration": 77,
    "start_time": "2022-05-14T18:00:41.432Z"
   },
   {
    "duration": 8,
    "start_time": "2022-05-14T18:00:41.511Z"
   },
   {
    "duration": 88,
    "start_time": "2022-05-14T18:00:41.521Z"
   },
   {
    "duration": 7,
    "start_time": "2022-05-14T18:00:41.611Z"
   },
   {
    "duration": 5,
    "start_time": "2022-05-14T18:00:41.620Z"
   },
   {
    "duration": 84,
    "start_time": "2022-05-14T18:00:41.627Z"
   },
   {
    "duration": 17,
    "start_time": "2022-05-14T18:00:41.713Z"
   },
   {
    "duration": 6,
    "start_time": "2022-05-14T18:00:41.732Z"
   },
   {
    "duration": 74,
    "start_time": "2022-05-14T18:00:41.740Z"
   },
   {
    "duration": 644,
    "start_time": "2022-05-14T18:00:53.710Z"
   }
  ],
  "kernelspec": {
   "display_name": "Python 3",
   "language": "python",
   "name": "python3"
  },
  "language_info": {
   "codemirror_mode": {
    "name": "ipython",
    "version": 3
   },
   "file_extension": ".py",
   "mimetype": "text/x-python",
   "name": "python",
   "nbconvert_exporter": "python",
   "pygments_lexer": "ipython3",
   "version": "3.8.8"
  },
  "toc": {
   "base_numbering": 1,
   "nav_menu": {},
   "number_sections": true,
   "sideBar": true,
   "skip_h1_title": true,
   "title_cell": "Содержание",
   "title_sidebar": "Contents",
   "toc_cell": true,
   "toc_position": {
    "height": "calc(100% - 180px)",
    "left": "10px",
    "top": "150px",
    "width": "170.069px"
   },
   "toc_section_display": true,
   "toc_window_display": true
  }
 },
 "nbformat": 4,
 "nbformat_minor": 2
}
