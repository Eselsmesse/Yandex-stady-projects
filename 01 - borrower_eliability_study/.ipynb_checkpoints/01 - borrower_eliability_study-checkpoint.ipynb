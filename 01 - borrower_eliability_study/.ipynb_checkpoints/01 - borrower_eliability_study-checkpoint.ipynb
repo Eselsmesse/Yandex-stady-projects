{
 "cells": [
  {
   "cell_type": "markdown",
   "metadata": {},
   "source": [
    "# Исследование надёжности заёмщиков\n",
    "\n",
    "Заказчик — кредитный отдел банка. Нужно разобраться, влияет ли семейное положение и количество детей клиента на факт погашения кредита в срок. Входные данные от банка — статистика о платёжеспособности клиентов.\n",
    "\n",
    "Результаты исследования будут учтены при построении модели **кредитного скоринга** — специальной системы, которая оценивает способность потенциального заёмщика вернуть кредит банку."
   ]
  },
  {
   "cell_type": "markdown",
   "metadata": {},
   "source": [
    "## Подготовка данных"
   ]
  },
  {
   "cell_type": "code",
   "execution_count": 84,
   "metadata": {
    "scrolled": false
   },
   "outputs": [
    {
     "name": "stdout",
     "output_type": "stream",
     "text": [
      "<class 'pandas.core.frame.DataFrame'>\n",
      "RangeIndex: 21525 entries, 0 to 21524\n",
      "Data columns (total 12 columns):\n",
      " #   Column            Non-Null Count  Dtype  \n",
      "---  ------            --------------  -----  \n",
      " 0   children          21525 non-null  int64  \n",
      " 1   days_employed     19351 non-null  float64\n",
      " 2   dob_years         21525 non-null  int64  \n",
      " 3   education         21525 non-null  object \n",
      " 4   education_id      21525 non-null  int64  \n",
      " 5   family_status     21525 non-null  object \n",
      " 6   family_status_id  21525 non-null  int64  \n",
      " 7   gender            21525 non-null  object \n",
      " 8   income_type       21525 non-null  object \n",
      " 9   debt              21525 non-null  int64  \n",
      " 10  total_income      19351 non-null  float64\n",
      " 11  purpose           21525 non-null  object \n",
      "dtypes: float64(2), int64(5), object(5)\n",
      "memory usage: 2.0+ MB\n"
     ]
    }
   ],
   "source": [
    "import pandas as pd\n",
    "import numpy as np\n",
    "\n",
    "data = pd.read_csv('data.csv')\n",
    "\n",
    "\n",
    "data.info() #общая информация о таблице"
   ]
  },
  {
   "cell_type": "code",
   "execution_count": 85,
   "metadata": {},
   "outputs": [
    {
     "data": {
      "text/html": [
       "<div>\n",
       "<style scoped>\n",
       "    .dataframe tbody tr th:only-of-type {\n",
       "        vertical-align: middle;\n",
       "    }\n",
       "\n",
       "    .dataframe tbody tr th {\n",
       "        vertical-align: top;\n",
       "    }\n",
       "\n",
       "    .dataframe thead th {\n",
       "        text-align: right;\n",
       "    }\n",
       "</style>\n",
       "<table border=\"1\" class=\"dataframe\">\n",
       "  <thead>\n",
       "    <tr style=\"text-align: right;\">\n",
       "      <th></th>\n",
       "      <th>children</th>\n",
       "      <th>days_employed</th>\n",
       "      <th>dob_years</th>\n",
       "      <th>education</th>\n",
       "      <th>education_id</th>\n",
       "      <th>family_status</th>\n",
       "      <th>family_status_id</th>\n",
       "      <th>gender</th>\n",
       "      <th>income_type</th>\n",
       "      <th>debt</th>\n",
       "      <th>total_income</th>\n",
       "      <th>purpose</th>\n",
       "    </tr>\n",
       "  </thead>\n",
       "  <tbody>\n",
       "    <tr>\n",
       "      <th>0</th>\n",
       "      <td>1</td>\n",
       "      <td>-8437.673028</td>\n",
       "      <td>42</td>\n",
       "      <td>высшее</td>\n",
       "      <td>0</td>\n",
       "      <td>женат / замужем</td>\n",
       "      <td>0</td>\n",
       "      <td>F</td>\n",
       "      <td>сотрудник</td>\n",
       "      <td>0</td>\n",
       "      <td>253875.639453</td>\n",
       "      <td>покупка жилья</td>\n",
       "    </tr>\n",
       "    <tr>\n",
       "      <th>1</th>\n",
       "      <td>1</td>\n",
       "      <td>-4024.803754</td>\n",
       "      <td>36</td>\n",
       "      <td>среднее</td>\n",
       "      <td>1</td>\n",
       "      <td>женат / замужем</td>\n",
       "      <td>0</td>\n",
       "      <td>F</td>\n",
       "      <td>сотрудник</td>\n",
       "      <td>0</td>\n",
       "      <td>112080.014102</td>\n",
       "      <td>приобретение автомобиля</td>\n",
       "    </tr>\n",
       "    <tr>\n",
       "      <th>2</th>\n",
       "      <td>0</td>\n",
       "      <td>-5623.422610</td>\n",
       "      <td>33</td>\n",
       "      <td>Среднее</td>\n",
       "      <td>1</td>\n",
       "      <td>женат / замужем</td>\n",
       "      <td>0</td>\n",
       "      <td>M</td>\n",
       "      <td>сотрудник</td>\n",
       "      <td>0</td>\n",
       "      <td>145885.952297</td>\n",
       "      <td>покупка жилья</td>\n",
       "    </tr>\n",
       "    <tr>\n",
       "      <th>3</th>\n",
       "      <td>3</td>\n",
       "      <td>-4124.747207</td>\n",
       "      <td>32</td>\n",
       "      <td>среднее</td>\n",
       "      <td>1</td>\n",
       "      <td>женат / замужем</td>\n",
       "      <td>0</td>\n",
       "      <td>M</td>\n",
       "      <td>сотрудник</td>\n",
       "      <td>0</td>\n",
       "      <td>267628.550329</td>\n",
       "      <td>дополнительное образование</td>\n",
       "    </tr>\n",
       "    <tr>\n",
       "      <th>4</th>\n",
       "      <td>0</td>\n",
       "      <td>340266.072047</td>\n",
       "      <td>53</td>\n",
       "      <td>среднее</td>\n",
       "      <td>1</td>\n",
       "      <td>гражданский брак</td>\n",
       "      <td>1</td>\n",
       "      <td>F</td>\n",
       "      <td>пенсионер</td>\n",
       "      <td>0</td>\n",
       "      <td>158616.077870</td>\n",
       "      <td>сыграть свадьбу</td>\n",
       "    </tr>\n",
       "  </tbody>\n",
       "</table>\n",
       "</div>"
      ],
      "text/plain": [
       "   children  days_employed  dob_years education  education_id  \\\n",
       "0         1   -8437.673028         42    высшее             0   \n",
       "1         1   -4024.803754         36   среднее             1   \n",
       "2         0   -5623.422610         33   Среднее             1   \n",
       "3         3   -4124.747207         32   среднее             1   \n",
       "4         0  340266.072047         53   среднее             1   \n",
       "\n",
       "      family_status  family_status_id gender income_type  debt   total_income  \\\n",
       "0   женат / замужем                 0      F   сотрудник     0  253875.639453   \n",
       "1   женат / замужем                 0      F   сотрудник     0  112080.014102   \n",
       "2   женат / замужем                 0      M   сотрудник     0  145885.952297   \n",
       "3   женат / замужем                 0      M   сотрудник     0  267628.550329   \n",
       "4  гражданский брак                 1      F   пенсионер     0  158616.077870   \n",
       "\n",
       "                      purpose  \n",
       "0               покупка жилья  \n",
       "1     приобретение автомобиля  \n",
       "2               покупка жилья  \n",
       "3  дополнительное образование  \n",
       "4             сыграть свадьбу  "
      ]
     },
     "execution_count": 85,
     "metadata": {},
     "output_type": "execute_result"
    }
   ],
   "source": [
    "data.head(5)"
   ]
  },
  {
   "cell_type": "code",
   "execution_count": 86,
   "metadata": {},
   "outputs": [
    {
     "data": {
      "text/plain": [
       "женат / замужем          12380\n",
       "гражданский брак          4177\n",
       "Не женат / не замужем     2813\n",
       "в разводе                 1195\n",
       "вдовец / вдова             960\n",
       "Name: family_status, dtype: int64"
      ]
     },
     "execution_count": 86,
     "metadata": {},
     "output_type": "execute_result"
    }
   ],
   "source": [
    "data['family_status'].value_counts()"
   ]
  },
  {
   "cell_type": "code",
   "execution_count": 87,
   "metadata": {},
   "outputs": [
    {
     "data": {
      "text/plain": [
       "0    12380\n",
       "1     4177\n",
       "4     2813\n",
       "3     1195\n",
       "2      960\n",
       "Name: family_status_id, dtype: int64"
      ]
     },
     "execution_count": 87,
     "metadata": {},
     "output_type": "execute_result"
    }
   ],
   "source": [
    "data['family_status_id'].value_counts()"
   ]
  },
  {
   "cell_type": "markdown",
   "metadata": {},
   "source": [
    "Все виды семейного статуса соответствуют своему type_id"
   ]
  },
  {
   "cell_type": "code",
   "execution_count": 88,
   "metadata": {
    "scrolled": true
   },
   "outputs": [
    {
     "data": {
      "text/html": [
       "<div>\n",
       "<style scoped>\n",
       "    .dataframe tbody tr th:only-of-type {\n",
       "        vertical-align: middle;\n",
       "    }\n",
       "\n",
       "    .dataframe tbody tr th {\n",
       "        vertical-align: top;\n",
       "    }\n",
       "\n",
       "    .dataframe thead th {\n",
       "        text-align: right;\n",
       "    }\n",
       "</style>\n",
       "<table border=\"1\" class=\"dataframe\">\n",
       "  <thead>\n",
       "    <tr style=\"text-align: right;\">\n",
       "      <th></th>\n",
       "      <th>children</th>\n",
       "      <th>days_employed</th>\n",
       "      <th>dob_years</th>\n",
       "      <th>education</th>\n",
       "      <th>education_id</th>\n",
       "      <th>family_status</th>\n",
       "      <th>family_status_id</th>\n",
       "      <th>gender</th>\n",
       "      <th>income_type</th>\n",
       "      <th>debt</th>\n",
       "      <th>total_income</th>\n",
       "      <th>purpose</th>\n",
       "    </tr>\n",
       "  </thead>\n",
       "  <tbody>\n",
       "    <tr>\n",
       "      <th>16335</th>\n",
       "      <td>1</td>\n",
       "      <td>-18388.949901</td>\n",
       "      <td>61</td>\n",
       "      <td>среднее</td>\n",
       "      <td>1</td>\n",
       "      <td>женат / замужем</td>\n",
       "      <td>0</td>\n",
       "      <td>F</td>\n",
       "      <td>сотрудник</td>\n",
       "      <td>0</td>\n",
       "      <td>186178.934089</td>\n",
       "      <td>операции с недвижимостью</td>\n",
       "    </tr>\n",
       "    <tr>\n",
       "      <th>4299</th>\n",
       "      <td>0</td>\n",
       "      <td>-17615.563266</td>\n",
       "      <td>61</td>\n",
       "      <td>среднее</td>\n",
       "      <td>1</td>\n",
       "      <td>женат / замужем</td>\n",
       "      <td>0</td>\n",
       "      <td>F</td>\n",
       "      <td>компаньон</td>\n",
       "      <td>0</td>\n",
       "      <td>122560.741753</td>\n",
       "      <td>покупка жилья</td>\n",
       "    </tr>\n",
       "    <tr>\n",
       "      <th>7329</th>\n",
       "      <td>0</td>\n",
       "      <td>-16593.472817</td>\n",
       "      <td>60</td>\n",
       "      <td>высшее</td>\n",
       "      <td>0</td>\n",
       "      <td>женат / замужем</td>\n",
       "      <td>0</td>\n",
       "      <td>F</td>\n",
       "      <td>сотрудник</td>\n",
       "      <td>0</td>\n",
       "      <td>124697.846781</td>\n",
       "      <td>заняться высшим образованием</td>\n",
       "    </tr>\n",
       "    <tr>\n",
       "      <th>17838</th>\n",
       "      <td>0</td>\n",
       "      <td>-16264.699501</td>\n",
       "      <td>59</td>\n",
       "      <td>среднее</td>\n",
       "      <td>1</td>\n",
       "      <td>женат / замужем</td>\n",
       "      <td>0</td>\n",
       "      <td>F</td>\n",
       "      <td>сотрудник</td>\n",
       "      <td>0</td>\n",
       "      <td>51238.967133</td>\n",
       "      <td>на покупку автомобиля</td>\n",
       "    </tr>\n",
       "    <tr>\n",
       "      <th>16825</th>\n",
       "      <td>0</td>\n",
       "      <td>-16119.687737</td>\n",
       "      <td>64</td>\n",
       "      <td>среднее</td>\n",
       "      <td>1</td>\n",
       "      <td>женат / замужем</td>\n",
       "      <td>0</td>\n",
       "      <td>F</td>\n",
       "      <td>сотрудник</td>\n",
       "      <td>0</td>\n",
       "      <td>91527.685995</td>\n",
       "      <td>покупка жилой недвижимости</td>\n",
       "    </tr>\n",
       "    <tr>\n",
       "      <th>...</th>\n",
       "      <td>...</td>\n",
       "      <td>...</td>\n",
       "      <td>...</td>\n",
       "      <td>...</td>\n",
       "      <td>...</td>\n",
       "      <td>...</td>\n",
       "      <td>...</td>\n",
       "      <td>...</td>\n",
       "      <td>...</td>\n",
       "      <td>...</td>\n",
       "      <td>...</td>\n",
       "      <td>...</td>\n",
       "    </tr>\n",
       "    <tr>\n",
       "      <th>21489</th>\n",
       "      <td>2</td>\n",
       "      <td>NaN</td>\n",
       "      <td>47</td>\n",
       "      <td>Среднее</td>\n",
       "      <td>1</td>\n",
       "      <td>женат / замужем</td>\n",
       "      <td>0</td>\n",
       "      <td>M</td>\n",
       "      <td>компаньон</td>\n",
       "      <td>0</td>\n",
       "      <td>NaN</td>\n",
       "      <td>сделка с автомобилем</td>\n",
       "    </tr>\n",
       "    <tr>\n",
       "      <th>21495</th>\n",
       "      <td>1</td>\n",
       "      <td>NaN</td>\n",
       "      <td>50</td>\n",
       "      <td>среднее</td>\n",
       "      <td>1</td>\n",
       "      <td>гражданский брак</td>\n",
       "      <td>1</td>\n",
       "      <td>F</td>\n",
       "      <td>сотрудник</td>\n",
       "      <td>0</td>\n",
       "      <td>NaN</td>\n",
       "      <td>свадьба</td>\n",
       "    </tr>\n",
       "    <tr>\n",
       "      <th>21497</th>\n",
       "      <td>0</td>\n",
       "      <td>NaN</td>\n",
       "      <td>48</td>\n",
       "      <td>ВЫСШЕЕ</td>\n",
       "      <td>0</td>\n",
       "      <td>женат / замужем</td>\n",
       "      <td>0</td>\n",
       "      <td>F</td>\n",
       "      <td>компаньон</td>\n",
       "      <td>0</td>\n",
       "      <td>NaN</td>\n",
       "      <td>строительство недвижимости</td>\n",
       "    </tr>\n",
       "    <tr>\n",
       "      <th>21502</th>\n",
       "      <td>1</td>\n",
       "      <td>NaN</td>\n",
       "      <td>42</td>\n",
       "      <td>среднее</td>\n",
       "      <td>1</td>\n",
       "      <td>женат / замужем</td>\n",
       "      <td>0</td>\n",
       "      <td>F</td>\n",
       "      <td>сотрудник</td>\n",
       "      <td>0</td>\n",
       "      <td>NaN</td>\n",
       "      <td>строительство жилой недвижимости</td>\n",
       "    </tr>\n",
       "    <tr>\n",
       "      <th>21510</th>\n",
       "      <td>2</td>\n",
       "      <td>NaN</td>\n",
       "      <td>28</td>\n",
       "      <td>среднее</td>\n",
       "      <td>1</td>\n",
       "      <td>женат / замужем</td>\n",
       "      <td>0</td>\n",
       "      <td>F</td>\n",
       "      <td>сотрудник</td>\n",
       "      <td>0</td>\n",
       "      <td>NaN</td>\n",
       "      <td>приобретение автомобиля</td>\n",
       "    </tr>\n",
       "  </tbody>\n",
       "</table>\n",
       "<p>21525 rows × 12 columns</p>\n",
       "</div>"
      ],
      "text/plain": [
       "       children  days_employed  dob_years education  education_id  \\\n",
       "16335         1  -18388.949901         61   среднее             1   \n",
       "4299          0  -17615.563266         61   среднее             1   \n",
       "7329          0  -16593.472817         60    высшее             0   \n",
       "17838         0  -16264.699501         59   среднее             1   \n",
       "16825         0  -16119.687737         64   среднее             1   \n",
       "...         ...            ...        ...       ...           ...   \n",
       "21489         2            NaN         47   Среднее             1   \n",
       "21495         1            NaN         50   среднее             1   \n",
       "21497         0            NaN         48    ВЫСШЕЕ             0   \n",
       "21502         1            NaN         42   среднее             1   \n",
       "21510         2            NaN         28   среднее             1   \n",
       "\n",
       "          family_status  family_status_id gender income_type  debt  \\\n",
       "16335   женат / замужем                 0      F   сотрудник     0   \n",
       "4299    женат / замужем                 0      F   компаньон     0   \n",
       "7329    женат / замужем                 0      F   сотрудник     0   \n",
       "17838   женат / замужем                 0      F   сотрудник     0   \n",
       "16825   женат / замужем                 0      F   сотрудник     0   \n",
       "...                 ...               ...    ...         ...   ...   \n",
       "21489   женат / замужем                 0      M   компаньон     0   \n",
       "21495  гражданский брак                 1      F   сотрудник     0   \n",
       "21497   женат / замужем                 0      F   компаньон     0   \n",
       "21502   женат / замужем                 0      F   сотрудник     0   \n",
       "21510   женат / замужем                 0      F   сотрудник     0   \n",
       "\n",
       "        total_income                           purpose  \n",
       "16335  186178.934089          операции с недвижимостью  \n",
       "4299   122560.741753                     покупка жилья  \n",
       "7329   124697.846781      заняться высшим образованием  \n",
       "17838   51238.967133             на покупку автомобиля  \n",
       "16825   91527.685995        покупка жилой недвижимости  \n",
       "...              ...                               ...  \n",
       "21489            NaN              сделка с автомобилем  \n",
       "21495            NaN                           свадьба  \n",
       "21497            NaN        строительство недвижимости  \n",
       "21502            NaN  строительство жилой недвижимости  \n",
       "21510            NaN           приобретение автомобиля  \n",
       "\n",
       "[21525 rows x 12 columns]"
      ]
     },
     "execution_count": 88,
     "metadata": {},
     "output_type": "execute_result"
    }
   ],
   "source": [
    "data.sort_values(by='days_employed', ascending=True) #визуально оцениваем данные о количестве отработанных дней"
   ]
  },
  {
   "cell_type": "markdown",
   "metadata": {},
   "source": [
    "**Вывод**"
   ]
  },
  {
   "cell_type": "markdown",
   "metadata": {},
   "source": [
    "Заметки:\n",
    "1) В столбец days_employed очень проблемный выгружены данные с отрицательным значениям в днях, природа ошибки не понятна, так как имеются значения  со знаками плюс и минус. Так же в столбце имеются имеются нереалистичные 6-ти значные. Имеются прпущенные значения обозначающие что человек является безработным\n",
    "\n",
    "2) Значения в сталбцах family_status и family_status_id соответствуют друг другу.\n",
    "3) Столбец education необходимо привести к общему виду (low case)\n",
    "4) Стобец dob_years (возраст клиента) имеет нулевые значения что так же не является отражением реальности"
   ]
  },
  {
   "cell_type": "markdown",
   "metadata": {},
   "source": [
    "## Предобработка данных"
   ]
  },
  {
   "cell_type": "markdown",
   "metadata": {},
   "source": [
    "### Обработка пропусков"
   ]
  },
  {
   "cell_type": "markdown",
   "metadata": {},
   "source": [
    "С помощью применения связки методов isnull().any(axis=1) можем получить уникальную таблицу со всеми строками содержащими пропуски.\n",
    "\n",
    "Логика работы следующая: создаём логическую серию и использовать ее для индексации нашего датафрейма:"
   ]
  },
  {
   "cell_type": "code",
   "execution_count": 89,
   "metadata": {
    "scrolled": false
   },
   "outputs": [
    {
     "data": {
      "text/html": [
       "<div>\n",
       "<style scoped>\n",
       "    .dataframe tbody tr th:only-of-type {\n",
       "        vertical-align: middle;\n",
       "    }\n",
       "\n",
       "    .dataframe tbody tr th {\n",
       "        vertical-align: top;\n",
       "    }\n",
       "\n",
       "    .dataframe thead th {\n",
       "        text-align: right;\n",
       "    }\n",
       "</style>\n",
       "<table border=\"1\" class=\"dataframe\">\n",
       "  <thead>\n",
       "    <tr style=\"text-align: right;\">\n",
       "      <th></th>\n",
       "      <th>children</th>\n",
       "      <th>days_employed</th>\n",
       "      <th>dob_years</th>\n",
       "      <th>education</th>\n",
       "      <th>education_id</th>\n",
       "      <th>family_status</th>\n",
       "      <th>family_status_id</th>\n",
       "      <th>gender</th>\n",
       "      <th>income_type</th>\n",
       "      <th>debt</th>\n",
       "      <th>total_income</th>\n",
       "      <th>purpose</th>\n",
       "    </tr>\n",
       "  </thead>\n",
       "  <tbody>\n",
       "    <tr>\n",
       "      <th>12</th>\n",
       "      <td>0</td>\n",
       "      <td>NaN</td>\n",
       "      <td>65</td>\n",
       "      <td>среднее</td>\n",
       "      <td>1</td>\n",
       "      <td>гражданский брак</td>\n",
       "      <td>1</td>\n",
       "      <td>M</td>\n",
       "      <td>пенсионер</td>\n",
       "      <td>0</td>\n",
       "      <td>NaN</td>\n",
       "      <td>сыграть свадьбу</td>\n",
       "    </tr>\n",
       "    <tr>\n",
       "      <th>26</th>\n",
       "      <td>0</td>\n",
       "      <td>NaN</td>\n",
       "      <td>41</td>\n",
       "      <td>среднее</td>\n",
       "      <td>1</td>\n",
       "      <td>женат / замужем</td>\n",
       "      <td>0</td>\n",
       "      <td>M</td>\n",
       "      <td>госслужащий</td>\n",
       "      <td>0</td>\n",
       "      <td>NaN</td>\n",
       "      <td>образование</td>\n",
       "    </tr>\n",
       "    <tr>\n",
       "      <th>29</th>\n",
       "      <td>0</td>\n",
       "      <td>NaN</td>\n",
       "      <td>63</td>\n",
       "      <td>среднее</td>\n",
       "      <td>1</td>\n",
       "      <td>Не женат / не замужем</td>\n",
       "      <td>4</td>\n",
       "      <td>F</td>\n",
       "      <td>пенсионер</td>\n",
       "      <td>0</td>\n",
       "      <td>NaN</td>\n",
       "      <td>строительство жилой недвижимости</td>\n",
       "    </tr>\n",
       "    <tr>\n",
       "      <th>41</th>\n",
       "      <td>0</td>\n",
       "      <td>NaN</td>\n",
       "      <td>50</td>\n",
       "      <td>среднее</td>\n",
       "      <td>1</td>\n",
       "      <td>женат / замужем</td>\n",
       "      <td>0</td>\n",
       "      <td>F</td>\n",
       "      <td>госслужащий</td>\n",
       "      <td>0</td>\n",
       "      <td>NaN</td>\n",
       "      <td>сделка с подержанным автомобилем</td>\n",
       "    </tr>\n",
       "    <tr>\n",
       "      <th>55</th>\n",
       "      <td>0</td>\n",
       "      <td>NaN</td>\n",
       "      <td>54</td>\n",
       "      <td>среднее</td>\n",
       "      <td>1</td>\n",
       "      <td>гражданский брак</td>\n",
       "      <td>1</td>\n",
       "      <td>F</td>\n",
       "      <td>пенсионер</td>\n",
       "      <td>1</td>\n",
       "      <td>NaN</td>\n",
       "      <td>сыграть свадьбу</td>\n",
       "    </tr>\n",
       "    <tr>\n",
       "      <th>...</th>\n",
       "      <td>...</td>\n",
       "      <td>...</td>\n",
       "      <td>...</td>\n",
       "      <td>...</td>\n",
       "      <td>...</td>\n",
       "      <td>...</td>\n",
       "      <td>...</td>\n",
       "      <td>...</td>\n",
       "      <td>...</td>\n",
       "      <td>...</td>\n",
       "      <td>...</td>\n",
       "      <td>...</td>\n",
       "    </tr>\n",
       "    <tr>\n",
       "      <th>21489</th>\n",
       "      <td>2</td>\n",
       "      <td>NaN</td>\n",
       "      <td>47</td>\n",
       "      <td>Среднее</td>\n",
       "      <td>1</td>\n",
       "      <td>женат / замужем</td>\n",
       "      <td>0</td>\n",
       "      <td>M</td>\n",
       "      <td>компаньон</td>\n",
       "      <td>0</td>\n",
       "      <td>NaN</td>\n",
       "      <td>сделка с автомобилем</td>\n",
       "    </tr>\n",
       "    <tr>\n",
       "      <th>21495</th>\n",
       "      <td>1</td>\n",
       "      <td>NaN</td>\n",
       "      <td>50</td>\n",
       "      <td>среднее</td>\n",
       "      <td>1</td>\n",
       "      <td>гражданский брак</td>\n",
       "      <td>1</td>\n",
       "      <td>F</td>\n",
       "      <td>сотрудник</td>\n",
       "      <td>0</td>\n",
       "      <td>NaN</td>\n",
       "      <td>свадьба</td>\n",
       "    </tr>\n",
       "    <tr>\n",
       "      <th>21497</th>\n",
       "      <td>0</td>\n",
       "      <td>NaN</td>\n",
       "      <td>48</td>\n",
       "      <td>ВЫСШЕЕ</td>\n",
       "      <td>0</td>\n",
       "      <td>женат / замужем</td>\n",
       "      <td>0</td>\n",
       "      <td>F</td>\n",
       "      <td>компаньон</td>\n",
       "      <td>0</td>\n",
       "      <td>NaN</td>\n",
       "      <td>строительство недвижимости</td>\n",
       "    </tr>\n",
       "    <tr>\n",
       "      <th>21502</th>\n",
       "      <td>1</td>\n",
       "      <td>NaN</td>\n",
       "      <td>42</td>\n",
       "      <td>среднее</td>\n",
       "      <td>1</td>\n",
       "      <td>женат / замужем</td>\n",
       "      <td>0</td>\n",
       "      <td>F</td>\n",
       "      <td>сотрудник</td>\n",
       "      <td>0</td>\n",
       "      <td>NaN</td>\n",
       "      <td>строительство жилой недвижимости</td>\n",
       "    </tr>\n",
       "    <tr>\n",
       "      <th>21510</th>\n",
       "      <td>2</td>\n",
       "      <td>NaN</td>\n",
       "      <td>28</td>\n",
       "      <td>среднее</td>\n",
       "      <td>1</td>\n",
       "      <td>женат / замужем</td>\n",
       "      <td>0</td>\n",
       "      <td>F</td>\n",
       "      <td>сотрудник</td>\n",
       "      <td>0</td>\n",
       "      <td>NaN</td>\n",
       "      <td>приобретение автомобиля</td>\n",
       "    </tr>\n",
       "  </tbody>\n",
       "</table>\n",
       "<p>2174 rows × 12 columns</p>\n",
       "</div>"
      ],
      "text/plain": [
       "       children  days_employed  dob_years education  education_id  \\\n",
       "12            0            NaN         65   среднее             1   \n",
       "26            0            NaN         41   среднее             1   \n",
       "29            0            NaN         63   среднее             1   \n",
       "41            0            NaN         50   среднее             1   \n",
       "55            0            NaN         54   среднее             1   \n",
       "...         ...            ...        ...       ...           ...   \n",
       "21489         2            NaN         47   Среднее             1   \n",
       "21495         1            NaN         50   среднее             1   \n",
       "21497         0            NaN         48    ВЫСШЕЕ             0   \n",
       "21502         1            NaN         42   среднее             1   \n",
       "21510         2            NaN         28   среднее             1   \n",
       "\n",
       "               family_status  family_status_id gender  income_type  debt  \\\n",
       "12          гражданский брак                 1      M    пенсионер     0   \n",
       "26           женат / замужем                 0      M  госслужащий     0   \n",
       "29     Не женат / не замужем                 4      F    пенсионер     0   \n",
       "41           женат / замужем                 0      F  госслужащий     0   \n",
       "55          гражданский брак                 1      F    пенсионер     1   \n",
       "...                      ...               ...    ...          ...   ...   \n",
       "21489        женат / замужем                 0      M    компаньон     0   \n",
       "21495       гражданский брак                 1      F    сотрудник     0   \n",
       "21497        женат / замужем                 0      F    компаньон     0   \n",
       "21502        женат / замужем                 0      F    сотрудник     0   \n",
       "21510        женат / замужем                 0      F    сотрудник     0   \n",
       "\n",
       "       total_income                           purpose  \n",
       "12              NaN                   сыграть свадьбу  \n",
       "26              NaN                       образование  \n",
       "29              NaN  строительство жилой недвижимости  \n",
       "41              NaN  сделка с подержанным автомобилем  \n",
       "55              NaN                   сыграть свадьбу  \n",
       "...             ...                               ...  \n",
       "21489           NaN              сделка с автомобилем  \n",
       "21495           NaN                           свадьба  \n",
       "21497           NaN        строительство недвижимости  \n",
       "21502           NaN  строительство жилой недвижимости  \n",
       "21510           NaN           приобретение автомобиля  \n",
       "\n",
       "[2174 rows x 12 columns]"
      ]
     },
     "execution_count": 89,
     "metadata": {},
     "output_type": "execute_result"
    }
   ],
   "source": [
    "data[data.isnull().any(axis=1)] # отображение всех строчек содержащих NaN"
   ]
  },
  {
   "cell_type": "markdown",
   "metadata": {},
   "source": [
    "### Работа с NaN"
   ]
  },
  {
   "cell_type": "markdown",
   "metadata": {},
   "source": [
    "Заменим значения NaN в колонках days_employed и total_income на 0, т.к. отсутствие значений говорит нам о нулевом рабочем стаже заёмщика, а соответственно и о нулевом доходе. Количество отсутствующих записей совпадают\n",
    "\n",
    "В дальнейшем значения нулевые значения в total_income будут заменены на медиану для каждой категории граждан, которые будут выделены позже"
   ]
  },
  {
   "cell_type": "code",
   "execution_count": 90,
   "metadata": {},
   "outputs": [
    {
     "data": {
      "text/plain": [
       "2174"
      ]
     },
     "execution_count": 90,
     "metadata": {},
     "output_type": "execute_result"
    }
   ],
   "source": [
    "data['days_employed'].isnull().sum() # проверяем соответствие количество \n",
    "                                     # данных в обеих колонках, чтобы убедиться во взаимосвязи"
   ]
  },
  {
   "cell_type": "code",
   "execution_count": 91,
   "metadata": {},
   "outputs": [
    {
     "data": {
      "text/plain": [
       "2174"
      ]
     },
     "execution_count": 91,
     "metadata": {},
     "output_type": "execute_result"
    }
   ],
   "source": [
    "data['total_income'].isnull().sum()"
   ]
  },
  {
   "cell_type": "code",
   "execution_count": 92,
   "metadata": {},
   "outputs": [],
   "source": [
    "data['days_employed'] = data['days_employed'].fillna(0) # заменяем NaN на 0"
   ]
  },
  {
   "cell_type": "code",
   "execution_count": 93,
   "metadata": {
    "scrolled": true
   },
   "outputs": [
    {
     "data": {
      "text/html": [
       "<div>\n",
       "<style scoped>\n",
       "    .dataframe tbody tr th:only-of-type {\n",
       "        vertical-align: middle;\n",
       "    }\n",
       "\n",
       "    .dataframe tbody tr th {\n",
       "        vertical-align: top;\n",
       "    }\n",
       "\n",
       "    .dataframe thead th {\n",
       "        text-align: right;\n",
       "    }\n",
       "</style>\n",
       "<table border=\"1\" class=\"dataframe\">\n",
       "  <thead>\n",
       "    <tr style=\"text-align: right;\">\n",
       "      <th></th>\n",
       "      <th>children</th>\n",
       "      <th>days_employed</th>\n",
       "      <th>dob_years</th>\n",
       "      <th>education</th>\n",
       "      <th>education_id</th>\n",
       "      <th>family_status</th>\n",
       "      <th>family_status_id</th>\n",
       "      <th>gender</th>\n",
       "      <th>income_type</th>\n",
       "      <th>debt</th>\n",
       "      <th>total_income</th>\n",
       "      <th>purpose</th>\n",
       "    </tr>\n",
       "  </thead>\n",
       "  <tbody>\n",
       "    <tr>\n",
       "      <th>12403</th>\n",
       "      <td>3</td>\n",
       "      <td>0.0</td>\n",
       "      <td>0</td>\n",
       "      <td>среднее</td>\n",
       "      <td>1</td>\n",
       "      <td>женат / замужем</td>\n",
       "      <td>0</td>\n",
       "      <td>M</td>\n",
       "      <td>сотрудник</td>\n",
       "      <td>0</td>\n",
       "      <td>NaN</td>\n",
       "      <td>операции с коммерческой недвижимостью</td>\n",
       "    </tr>\n",
       "    <tr>\n",
       "      <th>6670</th>\n",
       "      <td>0</td>\n",
       "      <td>0.0</td>\n",
       "      <td>0</td>\n",
       "      <td>Высшее</td>\n",
       "      <td>0</td>\n",
       "      <td>в разводе</td>\n",
       "      <td>3</td>\n",
       "      <td>F</td>\n",
       "      <td>пенсионер</td>\n",
       "      <td>0</td>\n",
       "      <td>NaN</td>\n",
       "      <td>покупка жилой недвижимости</td>\n",
       "    </tr>\n",
       "    <tr>\n",
       "      <th>2284</th>\n",
       "      <td>0</td>\n",
       "      <td>0.0</td>\n",
       "      <td>0</td>\n",
       "      <td>среднее</td>\n",
       "      <td>1</td>\n",
       "      <td>вдовец / вдова</td>\n",
       "      <td>2</td>\n",
       "      <td>F</td>\n",
       "      <td>пенсионер</td>\n",
       "      <td>0</td>\n",
       "      <td>NaN</td>\n",
       "      <td>недвижимость</td>\n",
       "    </tr>\n",
       "    <tr>\n",
       "      <th>6411</th>\n",
       "      <td>0</td>\n",
       "      <td>0.0</td>\n",
       "      <td>0</td>\n",
       "      <td>высшее</td>\n",
       "      <td>0</td>\n",
       "      <td>гражданский брак</td>\n",
       "      <td>1</td>\n",
       "      <td>F</td>\n",
       "      <td>пенсионер</td>\n",
       "      <td>0</td>\n",
       "      <td>NaN</td>\n",
       "      <td>свадьба</td>\n",
       "    </tr>\n",
       "    <tr>\n",
       "      <th>19829</th>\n",
       "      <td>0</td>\n",
       "      <td>0.0</td>\n",
       "      <td>0</td>\n",
       "      <td>среднее</td>\n",
       "      <td>1</td>\n",
       "      <td>женат / замужем</td>\n",
       "      <td>0</td>\n",
       "      <td>F</td>\n",
       "      <td>сотрудник</td>\n",
       "      <td>0</td>\n",
       "      <td>NaN</td>\n",
       "      <td>жилье</td>\n",
       "    </tr>\n",
       "    <tr>\n",
       "      <th>...</th>\n",
       "      <td>...</td>\n",
       "      <td>...</td>\n",
       "      <td>...</td>\n",
       "      <td>...</td>\n",
       "      <td>...</td>\n",
       "      <td>...</td>\n",
       "      <td>...</td>\n",
       "      <td>...</td>\n",
       "      <td>...</td>\n",
       "      <td>...</td>\n",
       "      <td>...</td>\n",
       "      <td>...</td>\n",
       "    </tr>\n",
       "    <tr>\n",
       "      <th>8456</th>\n",
       "      <td>0</td>\n",
       "      <td>0.0</td>\n",
       "      <td>71</td>\n",
       "      <td>среднее</td>\n",
       "      <td>1</td>\n",
       "      <td>женат / замужем</td>\n",
       "      <td>0</td>\n",
       "      <td>M</td>\n",
       "      <td>пенсионер</td>\n",
       "      <td>0</td>\n",
       "      <td>NaN</td>\n",
       "      <td>операции с коммерческой недвижимостью</td>\n",
       "    </tr>\n",
       "    <tr>\n",
       "      <th>11548</th>\n",
       "      <td>0</td>\n",
       "      <td>0.0</td>\n",
       "      <td>71</td>\n",
       "      <td>среднее</td>\n",
       "      <td>1</td>\n",
       "      <td>женат / замужем</td>\n",
       "      <td>0</td>\n",
       "      <td>M</td>\n",
       "      <td>пенсионер</td>\n",
       "      <td>0</td>\n",
       "      <td>NaN</td>\n",
       "      <td>покупка жилой недвижимости</td>\n",
       "    </tr>\n",
       "    <tr>\n",
       "      <th>13864</th>\n",
       "      <td>0</td>\n",
       "      <td>0.0</td>\n",
       "      <td>72</td>\n",
       "      <td>среднее</td>\n",
       "      <td>1</td>\n",
       "      <td>женат / замужем</td>\n",
       "      <td>0</td>\n",
       "      <td>F</td>\n",
       "      <td>компаньон</td>\n",
       "      <td>0</td>\n",
       "      <td>NaN</td>\n",
       "      <td>сделка с автомобилем</td>\n",
       "    </tr>\n",
       "    <tr>\n",
       "      <th>10563</th>\n",
       "      <td>0</td>\n",
       "      <td>0.0</td>\n",
       "      <td>72</td>\n",
       "      <td>Среднее</td>\n",
       "      <td>1</td>\n",
       "      <td>Не женат / не замужем</td>\n",
       "      <td>4</td>\n",
       "      <td>F</td>\n",
       "      <td>пенсионер</td>\n",
       "      <td>1</td>\n",
       "      <td>NaN</td>\n",
       "      <td>приобретение автомобиля</td>\n",
       "    </tr>\n",
       "    <tr>\n",
       "      <th>18664</th>\n",
       "      <td>1</td>\n",
       "      <td>0.0</td>\n",
       "      <td>73</td>\n",
       "      <td>среднее</td>\n",
       "      <td>1</td>\n",
       "      <td>женат / замужем</td>\n",
       "      <td>0</td>\n",
       "      <td>F</td>\n",
       "      <td>пенсионер</td>\n",
       "      <td>0</td>\n",
       "      <td>NaN</td>\n",
       "      <td>дополнительное образование</td>\n",
       "    </tr>\n",
       "  </tbody>\n",
       "</table>\n",
       "<p>2174 rows × 12 columns</p>\n",
       "</div>"
      ],
      "text/plain": [
       "       children  days_employed  dob_years education  education_id  \\\n",
       "12403         3            0.0          0   среднее             1   \n",
       "6670          0            0.0          0    Высшее             0   \n",
       "2284          0            0.0          0   среднее             1   \n",
       "6411          0            0.0          0    высшее             0   \n",
       "19829         0            0.0          0   среднее             1   \n",
       "...         ...            ...        ...       ...           ...   \n",
       "8456          0            0.0         71   среднее             1   \n",
       "11548         0            0.0         71   среднее             1   \n",
       "13864         0            0.0         72   среднее             1   \n",
       "10563         0            0.0         72   Среднее             1   \n",
       "18664         1            0.0         73   среднее             1   \n",
       "\n",
       "               family_status  family_status_id gender income_type  debt  \\\n",
       "12403        женат / замужем                 0      M   сотрудник     0   \n",
       "6670               в разводе                 3      F   пенсионер     0   \n",
       "2284          вдовец / вдова                 2      F   пенсионер     0   \n",
       "6411        гражданский брак                 1      F   пенсионер     0   \n",
       "19829        женат / замужем                 0      F   сотрудник     0   \n",
       "...                      ...               ...    ...         ...   ...   \n",
       "8456         женат / замужем                 0      M   пенсионер     0   \n",
       "11548        женат / замужем                 0      M   пенсионер     0   \n",
       "13864        женат / замужем                 0      F   компаньон     0   \n",
       "10563  Не женат / не замужем                 4      F   пенсионер     1   \n",
       "18664        женат / замужем                 0      F   пенсионер     0   \n",
       "\n",
       "       total_income                                purpose  \n",
       "12403           NaN  операции с коммерческой недвижимостью  \n",
       "6670            NaN             покупка жилой недвижимости  \n",
       "2284            NaN                           недвижимость  \n",
       "6411            NaN                                свадьба  \n",
       "19829           NaN                                  жилье  \n",
       "...             ...                                    ...  \n",
       "8456            NaN  операции с коммерческой недвижимостью  \n",
       "11548           NaN             покупка жилой недвижимости  \n",
       "13864           NaN                   сделка с автомобилем  \n",
       "10563           NaN                приобретение автомобиля  \n",
       "18664           NaN             дополнительное образование  \n",
       "\n",
       "[2174 rows x 12 columns]"
      ]
     },
     "execution_count": 93,
     "metadata": {},
     "output_type": "execute_result"
    }
   ],
   "source": [
    "data[data.isnull().any(axis=1)].sort_values('dob_years', ascending=True) #проверяем -> ждём пустую таюлицу"
   ]
  },
  {
   "cell_type": "markdown",
   "metadata": {},
   "source": [
    "Для большей правдивости данных заполним пустые значения в колонке total_income медианой для каждой из возрастных групп граждан"
   ]
  },
  {
   "cell_type": "code",
   "execution_count": 94,
   "metadata": {},
   "outputs": [],
   "source": [
    "total_income_median = data.loc[: , ['education_id', 'income_type', 'total_income']] # выделил необходимые столбцы\n",
    "age_groups = [[0, 20], [21, 25] ,[26, 30], [31, 35], [36, 40], [41, 45], \n",
    "              [46, 50], [51, 55], [56, 60], [61, 65], [66, 70], [71, 74]] # подготовил возрастные категории"
   ]
  },
  {
   "cell_type": "code",
   "execution_count": 95,
   "metadata": {},
   "outputs": [
    {
     "data": {
      "text/plain": [
       "education_id\n",
       "0    207142.515219\n",
       "1    153715.643971\n",
       "2    181534.022774\n",
       "3    132155.513626\n",
       "4    174750.155792\n",
       "Name: total_income, dtype: float64"
      ]
     },
     "execution_count": 95,
     "metadata": {},
     "output_type": "execute_result"
    }
   ],
   "source": [
    "total_income_median.groupby('education_id')['total_income'].mean()"
   ]
  },
  {
   "cell_type": "code",
   "execution_count": 97,
   "metadata": {},
   "outputs": [
    {
     "data": {
      "text/html": [
       "<div>\n",
       "<style scoped>\n",
       "    .dataframe tbody tr th:only-of-type {\n",
       "        vertical-align: middle;\n",
       "    }\n",
       "\n",
       "    .dataframe tbody tr th {\n",
       "        vertical-align: top;\n",
       "    }\n",
       "\n",
       "    .dataframe thead th {\n",
       "        text-align: right;\n",
       "    }\n",
       "</style>\n",
       "<table border=\"1\" class=\"dataframe\">\n",
       "  <thead>\n",
       "    <tr style=\"text-align: right;\">\n",
       "      <th></th>\n",
       "      <th>education</th>\n",
       "      <th>высшее</th>\n",
       "      <th>начальное</th>\n",
       "      <th>неоконченное высшее</th>\n",
       "      <th>среднее</th>\n",
       "      <th>ученая степень</th>\n",
       "    </tr>\n",
       "    <tr>\n",
       "      <th>income_type</th>\n",
       "      <th>gender</th>\n",
       "      <th></th>\n",
       "      <th></th>\n",
       "      <th></th>\n",
       "      <th></th>\n",
       "      <th></th>\n",
       "    </tr>\n",
       "  </thead>\n",
       "  <tbody>\n",
       "    <tr>\n",
       "      <th rowspan=\"2\" valign=\"top\">безработный</th>\n",
       "      <th>F</th>\n",
       "      <td>202722.511368</td>\n",
       "      <td>NaN</td>\n",
       "      <td>NaN</td>\n",
       "      <td>NaN</td>\n",
       "      <td>NaN</td>\n",
       "    </tr>\n",
       "    <tr>\n",
       "      <th>M</th>\n",
       "      <td>NaN</td>\n",
       "      <td>NaN</td>\n",
       "      <td>NaN</td>\n",
       "      <td>59956.991984</td>\n",
       "      <td>NaN</td>\n",
       "    </tr>\n",
       "    <tr>\n",
       "      <th>в декрете</th>\n",
       "      <th>F</th>\n",
       "      <td>NaN</td>\n",
       "      <td>NaN</td>\n",
       "      <td>NaN</td>\n",
       "      <td>53829.130729</td>\n",
       "      <td>NaN</td>\n",
       "    </tr>\n",
       "    <tr>\n",
       "      <th rowspan=\"2\" valign=\"top\">госслужащий</th>\n",
       "      <th>F</th>\n",
       "      <td>157841.438279</td>\n",
       "      <td>89618.962330</td>\n",
       "      <td>136599.129610</td>\n",
       "      <td>125831.806597</td>\n",
       "      <td>111392.231107</td>\n",
       "    </tr>\n",
       "    <tr>\n",
       "      <th>M</th>\n",
       "      <td>214706.640963</td>\n",
       "      <td>190966.659534</td>\n",
       "      <td>177320.628254</td>\n",
       "      <td>169651.956756</td>\n",
       "      <td>NaN</td>\n",
       "    </tr>\n",
       "    <tr>\n",
       "      <th rowspan=\"3\" valign=\"top\">компаньон</th>\n",
       "      <th>F</th>\n",
       "      <td>189893.464621</td>\n",
       "      <td>134012.003567</td>\n",
       "      <td>170471.622782</td>\n",
       "      <td>144881.784198</td>\n",
       "      <td>NaN</td>\n",
       "    </tr>\n",
       "    <tr>\n",
       "      <th>M</th>\n",
       "      <td>233064.883613</td>\n",
       "      <td>150100.960964</td>\n",
       "      <td>191291.929274</td>\n",
       "      <td>181889.020944</td>\n",
       "      <td>NaN</td>\n",
       "    </tr>\n",
       "    <tr>\n",
       "      <th>XNA</th>\n",
       "      <td>NaN</td>\n",
       "      <td>NaN</td>\n",
       "      <td>203905.157261</td>\n",
       "      <td>NaN</td>\n",
       "      <td>NaN</td>\n",
       "    </tr>\n",
       "    <tr>\n",
       "      <th rowspan=\"2\" valign=\"top\">пенсионер</th>\n",
       "      <th>F</th>\n",
       "      <td>142404.278858</td>\n",
       "      <td>101180.566458</td>\n",
       "      <td>116592.976550</td>\n",
       "      <td>112790.975121</td>\n",
       "      <td>255425.196556</td>\n",
       "    </tr>\n",
       "    <tr>\n",
       "      <th>M</th>\n",
       "      <td>157457.331331</td>\n",
       "      <td>113124.202781</td>\n",
       "      <td>124667.471301</td>\n",
       "      <td>126097.196750</td>\n",
       "      <td>98752.495442</td>\n",
       "    </tr>\n",
       "    <tr>\n",
       "      <th>предприниматель</th>\n",
       "      <th>F</th>\n",
       "      <td>499163.144947</td>\n",
       "      <td>NaN</td>\n",
       "      <td>NaN</td>\n",
       "      <td>NaN</td>\n",
       "      <td>NaN</td>\n",
       "    </tr>\n",
       "    <tr>\n",
       "      <th rowspan=\"2\" valign=\"top\">сотрудник</th>\n",
       "      <th>F</th>\n",
       "      <td>153691.851098</td>\n",
       "      <td>118516.720741</td>\n",
       "      <td>134925.188145</td>\n",
       "      <td>124127.090016</td>\n",
       "      <td>NaN</td>\n",
       "    </tr>\n",
       "    <tr>\n",
       "      <th>M</th>\n",
       "      <td>192247.298639</td>\n",
       "      <td>141637.960402</td>\n",
       "      <td>189075.918446</td>\n",
       "      <td>156286.402929</td>\n",
       "      <td>198570.757322</td>\n",
       "    </tr>\n",
       "    <tr>\n",
       "      <th>студент</th>\n",
       "      <th>M</th>\n",
       "      <td>98201.625314</td>\n",
       "      <td>NaN</td>\n",
       "      <td>NaN</td>\n",
       "      <td>NaN</td>\n",
       "      <td>NaN</td>\n",
       "    </tr>\n",
       "  </tbody>\n",
       "</table>\n",
       "</div>"
      ],
      "text/plain": [
       "education                      высшее      начальное  неоконченное высшее  \\\n",
       "income_type     gender                                                      \n",
       "безработный     F       202722.511368            NaN                  NaN   \n",
       "                M                 NaN            NaN                  NaN   \n",
       "в декрете       F                 NaN            NaN                  NaN   \n",
       "госслужащий     F       157841.438279   89618.962330        136599.129610   \n",
       "                M       214706.640963  190966.659534        177320.628254   \n",
       "компаньон       F       189893.464621  134012.003567        170471.622782   \n",
       "                M       233064.883613  150100.960964        191291.929274   \n",
       "                XNA               NaN            NaN        203905.157261   \n",
       "пенсионер       F       142404.278858  101180.566458        116592.976550   \n",
       "                M       157457.331331  113124.202781        124667.471301   \n",
       "предприниматель F       499163.144947            NaN                  NaN   \n",
       "сотрудник       F       153691.851098  118516.720741        134925.188145   \n",
       "                M       192247.298639  141637.960402        189075.918446   \n",
       "студент         M        98201.625314            NaN                  NaN   \n",
       "\n",
       "education                     среднее  ученая степень  \n",
       "income_type     gender                                 \n",
       "безработный     F                 NaN             NaN  \n",
       "                M        59956.991984             NaN  \n",
       "в декрете       F        53829.130729             NaN  \n",
       "госслужащий     F       125831.806597   111392.231107  \n",
       "                M       169651.956756             NaN  \n",
       "компаньон       F       144881.784198             NaN  \n",
       "                M       181889.020944             NaN  \n",
       "                XNA               NaN             NaN  \n",
       "пенсионер       F       112790.975121   255425.196556  \n",
       "                M       126097.196750    98752.495442  \n",
       "предприниматель F                 NaN             NaN  \n",
       "сотрудник       F       124127.090016             NaN  \n",
       "                M       156286.402929   198570.757322  \n",
       "студент         M                 NaN             NaN  "
      ]
     },
     "execution_count": 97,
     "metadata": {},
     "output_type": "execute_result"
    }
   ],
   "source": [
    "df = data.copy()\n",
    "df.education = df.education.str.lower()\n",
    "\n",
    "df.pivot_table(index=['income_type', 'gender'], columns='education', values='total_income', aggfunc='median')"
   ]
  },
  {
   "cell_type": "code",
   "execution_count": 98,
   "metadata": {},
   "outputs": [
    {
     "name": "stdout",
     "output_type": "stream",
     "text": [
      "98201.62531401133\n"
     ]
    }
   ],
   "source": [
    "def super_fillna_func(income_type, gender, education):\n",
    "    '''\n",
    "    Находит в таблице qq нужную медиану.\n",
    "    '''\n",
    "    try:\n",
    "        return qq.loc[(income_type, gender)][education]\n",
    "    except:\n",
    "        return 0\n",
    "    \n",
    "print(super_fillna_func('студент', 'M','высшее') ) "
   ]
  },
  {
   "cell_type": "code",
   "execution_count": 99,
   "metadata": {
    "scrolled": true
   },
   "outputs": [],
   "source": [
    "df = df.apply(lambda row: super_fillna_func(row['income_type'], row['gender'], row['education']), axis=1)"
   ]
  },
  {
   "cell_type": "code",
   "execution_count": 100,
   "metadata": {},
   "outputs": [],
   "source": [
    "index_income = data.loc[data['total_income'].isnull() == True]['total_income'].index"
   ]
  },
  {
   "cell_type": "code",
   "execution_count": 101,
   "metadata": {},
   "outputs": [],
   "source": [
    "data.loc[index_income, 'total_income'] = df[index_income]"
   ]
  },
  {
   "cell_type": "code",
   "execution_count": 102,
   "metadata": {},
   "outputs": [
    {
     "data": {
      "text/html": [
       "<div>\n",
       "<style scoped>\n",
       "    .dataframe tbody tr th:only-of-type {\n",
       "        vertical-align: middle;\n",
       "    }\n",
       "\n",
       "    .dataframe tbody tr th {\n",
       "        vertical-align: top;\n",
       "    }\n",
       "\n",
       "    .dataframe thead th {\n",
       "        text-align: right;\n",
       "    }\n",
       "</style>\n",
       "<table border=\"1\" class=\"dataframe\">\n",
       "  <thead>\n",
       "    <tr style=\"text-align: right;\">\n",
       "      <th></th>\n",
       "      <th>children</th>\n",
       "      <th>days_employed</th>\n",
       "      <th>dob_years</th>\n",
       "      <th>education</th>\n",
       "      <th>education_id</th>\n",
       "      <th>family_status</th>\n",
       "      <th>family_status_id</th>\n",
       "      <th>gender</th>\n",
       "      <th>income_type</th>\n",
       "      <th>debt</th>\n",
       "      <th>total_income</th>\n",
       "      <th>purpose</th>\n",
       "    </tr>\n",
       "  </thead>\n",
       "  <tbody>\n",
       "    <tr>\n",
       "      <th>5936</th>\n",
       "      <td>0</td>\n",
       "      <td>0.000000</td>\n",
       "      <td>58</td>\n",
       "      <td>высшее</td>\n",
       "      <td>0</td>\n",
       "      <td>женат / замужем</td>\n",
       "      <td>0</td>\n",
       "      <td>M</td>\n",
       "      <td>предприниматель</td>\n",
       "      <td>0</td>\n",
       "      <td>0.000000e+00</td>\n",
       "      <td>покупка жилой недвижимости</td>\n",
       "    </tr>\n",
       "    <tr>\n",
       "      <th>14585</th>\n",
       "      <td>0</td>\n",
       "      <td>359219.059341</td>\n",
       "      <td>57</td>\n",
       "      <td>среднее</td>\n",
       "      <td>1</td>\n",
       "      <td>женат / замужем</td>\n",
       "      <td>0</td>\n",
       "      <td>F</td>\n",
       "      <td>пенсионер</td>\n",
       "      <td>1</td>\n",
       "      <td>2.066726e+04</td>\n",
       "      <td>недвижимость</td>\n",
       "    </tr>\n",
       "    <tr>\n",
       "      <th>13006</th>\n",
       "      <td>0</td>\n",
       "      <td>369708.589113</td>\n",
       "      <td>37</td>\n",
       "      <td>среднее</td>\n",
       "      <td>1</td>\n",
       "      <td>гражданский брак</td>\n",
       "      <td>1</td>\n",
       "      <td>M</td>\n",
       "      <td>пенсионер</td>\n",
       "      <td>0</td>\n",
       "      <td>2.120528e+04</td>\n",
       "      <td>заняться высшим образованием</td>\n",
       "    </tr>\n",
       "    <tr>\n",
       "      <th>16174</th>\n",
       "      <td>1</td>\n",
       "      <td>-3642.820023</td>\n",
       "      <td>52</td>\n",
       "      <td>Среднее</td>\n",
       "      <td>1</td>\n",
       "      <td>женат / замужем</td>\n",
       "      <td>0</td>\n",
       "      <td>M</td>\n",
       "      <td>сотрудник</td>\n",
       "      <td>0</td>\n",
       "      <td>2.136765e+04</td>\n",
       "      <td>приобретение автомобиля</td>\n",
       "    </tr>\n",
       "    <tr>\n",
       "      <th>1598</th>\n",
       "      <td>0</td>\n",
       "      <td>359726.104207</td>\n",
       "      <td>68</td>\n",
       "      <td>среднее</td>\n",
       "      <td>1</td>\n",
       "      <td>гражданский брак</td>\n",
       "      <td>1</td>\n",
       "      <td>M</td>\n",
       "      <td>пенсионер</td>\n",
       "      <td>0</td>\n",
       "      <td>2.169510e+04</td>\n",
       "      <td>на проведение свадьбы</td>\n",
       "    </tr>\n",
       "    <tr>\n",
       "      <th>...</th>\n",
       "      <td>...</td>\n",
       "      <td>...</td>\n",
       "      <td>...</td>\n",
       "      <td>...</td>\n",
       "      <td>...</td>\n",
       "      <td>...</td>\n",
       "      <td>...</td>\n",
       "      <td>...</td>\n",
       "      <td>...</td>\n",
       "      <td>...</td>\n",
       "      <td>...</td>\n",
       "      <td>...</td>\n",
       "    </tr>\n",
       "    <tr>\n",
       "      <th>17178</th>\n",
       "      <td>0</td>\n",
       "      <td>-5734.127087</td>\n",
       "      <td>42</td>\n",
       "      <td>высшее</td>\n",
       "      <td>0</td>\n",
       "      <td>гражданский брак</td>\n",
       "      <td>1</td>\n",
       "      <td>M</td>\n",
       "      <td>компаньон</td>\n",
       "      <td>0</td>\n",
       "      <td>1.711309e+06</td>\n",
       "      <td>сыграть свадьбу</td>\n",
       "    </tr>\n",
       "    <tr>\n",
       "      <th>20809</th>\n",
       "      <td>0</td>\n",
       "      <td>-4719.273476</td>\n",
       "      <td>61</td>\n",
       "      <td>среднее</td>\n",
       "      <td>1</td>\n",
       "      <td>Не женат / не замужем</td>\n",
       "      <td>4</td>\n",
       "      <td>F</td>\n",
       "      <td>сотрудник</td>\n",
       "      <td>0</td>\n",
       "      <td>1.715018e+06</td>\n",
       "      <td>покупка жилья для семьи</td>\n",
       "    </tr>\n",
       "    <tr>\n",
       "      <th>9169</th>\n",
       "      <td>1</td>\n",
       "      <td>-5248.554336</td>\n",
       "      <td>35</td>\n",
       "      <td>среднее</td>\n",
       "      <td>1</td>\n",
       "      <td>гражданский брак</td>\n",
       "      <td>1</td>\n",
       "      <td>M</td>\n",
       "      <td>сотрудник</td>\n",
       "      <td>0</td>\n",
       "      <td>1.726276e+06</td>\n",
       "      <td>дополнительное образование</td>\n",
       "    </tr>\n",
       "    <tr>\n",
       "      <th>19606</th>\n",
       "      <td>1</td>\n",
       "      <td>-2577.664662</td>\n",
       "      <td>39</td>\n",
       "      <td>высшее</td>\n",
       "      <td>0</td>\n",
       "      <td>женат / замужем</td>\n",
       "      <td>0</td>\n",
       "      <td>M</td>\n",
       "      <td>компаньон</td>\n",
       "      <td>1</td>\n",
       "      <td>2.200852e+06</td>\n",
       "      <td>строительство недвижимости</td>\n",
       "    </tr>\n",
       "    <tr>\n",
       "      <th>12412</th>\n",
       "      <td>0</td>\n",
       "      <td>-1477.438114</td>\n",
       "      <td>44</td>\n",
       "      <td>высшее</td>\n",
       "      <td>0</td>\n",
       "      <td>женат / замужем</td>\n",
       "      <td>0</td>\n",
       "      <td>M</td>\n",
       "      <td>компаньон</td>\n",
       "      <td>0</td>\n",
       "      <td>2.265604e+06</td>\n",
       "      <td>ремонт жилью</td>\n",
       "    </tr>\n",
       "  </tbody>\n",
       "</table>\n",
       "<p>21525 rows × 12 columns</p>\n",
       "</div>"
      ],
      "text/plain": [
       "       children  days_employed  dob_years education  education_id  \\\n",
       "5936          0       0.000000         58    высшее             0   \n",
       "14585         0  359219.059341         57   среднее             1   \n",
       "13006         0  369708.589113         37   среднее             1   \n",
       "16174         1   -3642.820023         52   Среднее             1   \n",
       "1598          0  359726.104207         68   среднее             1   \n",
       "...         ...            ...        ...       ...           ...   \n",
       "17178         0   -5734.127087         42    высшее             0   \n",
       "20809         0   -4719.273476         61   среднее             1   \n",
       "9169          1   -5248.554336         35   среднее             1   \n",
       "19606         1   -2577.664662         39    высшее             0   \n",
       "12412         0   -1477.438114         44    высшее             0   \n",
       "\n",
       "               family_status  family_status_id gender      income_type  debt  \\\n",
       "5936         женат / замужем                 0      M  предприниматель     0   \n",
       "14585        женат / замужем                 0      F        пенсионер     1   \n",
       "13006       гражданский брак                 1      M        пенсионер     0   \n",
       "16174        женат / замужем                 0      M        сотрудник     0   \n",
       "1598        гражданский брак                 1      M        пенсионер     0   \n",
       "...                      ...               ...    ...              ...   ...   \n",
       "17178       гражданский брак                 1      M        компаньон     0   \n",
       "20809  Не женат / не замужем                 4      F        сотрудник     0   \n",
       "9169        гражданский брак                 1      M        сотрудник     0   \n",
       "19606        женат / замужем                 0      M        компаньон     1   \n",
       "12412        женат / замужем                 0      M        компаньон     0   \n",
       "\n",
       "       total_income                       purpose  \n",
       "5936   0.000000e+00    покупка жилой недвижимости  \n",
       "14585  2.066726e+04                  недвижимость  \n",
       "13006  2.120528e+04  заняться высшим образованием  \n",
       "16174  2.136765e+04       приобретение автомобиля  \n",
       "1598   2.169510e+04         на проведение свадьбы  \n",
       "...             ...                           ...  \n",
       "17178  1.711309e+06               сыграть свадьбу  \n",
       "20809  1.715018e+06       покупка жилья для семьи  \n",
       "9169   1.726276e+06    дополнительное образование  \n",
       "19606  2.200852e+06    строительство недвижимости  \n",
       "12412  2.265604e+06                  ремонт жилью  \n",
       "\n",
       "[21525 rows x 12 columns]"
      ]
     },
     "execution_count": 102,
     "metadata": {},
     "output_type": "execute_result"
    }
   ],
   "source": [
    "data.sort_values(by='total_income') # визуальная оценка только что заполненных данных"
   ]
  },
  {
   "cell_type": "markdown",
   "metadata": {},
   "source": [
    "**Вывод**\n",
    "\n",
    "В данных отсутствовали 2174 значения о стаже работы и месячном доходе. Природа их появления слнедующая:  \n",
    "1) Клиенты действительно не работают и система автоматически пропускает значения total_income(месчного дохода) у безработных клиентов, т.к. кореляция между этими значениями 100%\n",
    "\n",
    "2) Клиенты не указывают место работы исходя из личных сообржений\n",
    "\n",
    "Данные ошибки в данных появились, вероятно, из-за смены формата записи их в базу данных\n",
    "\n",
    "Более связей по двум столбцам не найдено\n",
    "\n",
    "3) Имеется значение 0 в колонке dob_years(возраста клиентов), но т.к. это не имеет значение к поставленной задаче и принято решение оставить его нетронутым. Причина появляения - не указан возраст при подаче заявки\n",
    "\n",
    "Данная ошибка могла появиться из-за человеческого фактора, у клиентов была возможность не указывать свой возраст или же форма заполнения можно было перепутать с графой \"дата подачи заявки\". Нужно оповестить разработчиков что вероятнее всего или UX дизайнеров\n",
    "\n"
   ]
  },
  {
   "cell_type": "markdown",
   "metadata": {},
   "source": [
    "### Замена типа данных"
   ]
  },
  {
   "cell_type": "markdown",
   "metadata": {},
   "source": [
    "План:\n",
    "\n",
    "1) Испрвить значения стажа на абсолютные значения\n",
    "\n",
    "2) Привести столбец education к общему виду\n",
    "\n",
    "3) Перевести вещественные знаения в целочисленные\n",
    "\n",
    "4) Привести огромные значения в колонке days_employed к соответствующему виду, т.е. стаж в количество рабочих дней. Основная гипотеза - ошибка возникает потому что время приведено в часах, а не сутках.\n",
    "\n"
   ]
  },
  {
   "cell_type": "code",
   "execution_count": 103,
   "metadata": {},
   "outputs": [],
   "source": [
    "# замена на абсолютные числа\n",
    "\n",
    "data['days_employed'] = abs(data['days_employed']) "
   ]
  },
  {
   "cell_type": "code",
   "execution_count": 104,
   "metadata": {},
   "outputs": [],
   "source": [
    "# перевод столбца education к общему виду\n",
    "\n",
    "data['education'] = data['education'].str.lower() "
   ]
  },
  {
   "cell_type": "code",
   "execution_count": 105,
   "metadata": {
    "scrolled": true
   },
   "outputs": [
    {
     "data": {
      "text/html": [
       "<div>\n",
       "<style scoped>\n",
       "    .dataframe tbody tr th:only-of-type {\n",
       "        vertical-align: middle;\n",
       "    }\n",
       "\n",
       "    .dataframe tbody tr th {\n",
       "        vertical-align: top;\n",
       "    }\n",
       "\n",
       "    .dataframe thead th {\n",
       "        text-align: right;\n",
       "    }\n",
       "</style>\n",
       "<table border=\"1\" class=\"dataframe\">\n",
       "  <thead>\n",
       "    <tr style=\"text-align: right;\">\n",
       "      <th></th>\n",
       "      <th>children</th>\n",
       "      <th>days_employed</th>\n",
       "      <th>dob_years</th>\n",
       "      <th>education</th>\n",
       "      <th>education_id</th>\n",
       "      <th>family_status</th>\n",
       "      <th>family_status_id</th>\n",
       "      <th>gender</th>\n",
       "      <th>income_type</th>\n",
       "      <th>debt</th>\n",
       "      <th>total_income</th>\n",
       "      <th>purpose</th>\n",
       "    </tr>\n",
       "  </thead>\n",
       "  <tbody>\n",
       "    <tr>\n",
       "      <th>0</th>\n",
       "      <td>1</td>\n",
       "      <td>8437.673028</td>\n",
       "      <td>42</td>\n",
       "      <td>высшее</td>\n",
       "      <td>0</td>\n",
       "      <td>женат / замужем</td>\n",
       "      <td>0</td>\n",
       "      <td>F</td>\n",
       "      <td>сотрудник</td>\n",
       "      <td>0</td>\n",
       "      <td>253875.639453</td>\n",
       "      <td>покупка жилья</td>\n",
       "    </tr>\n",
       "    <tr>\n",
       "      <th>1</th>\n",
       "      <td>1</td>\n",
       "      <td>4024.803754</td>\n",
       "      <td>36</td>\n",
       "      <td>среднее</td>\n",
       "      <td>1</td>\n",
       "      <td>женат / замужем</td>\n",
       "      <td>0</td>\n",
       "      <td>F</td>\n",
       "      <td>сотрудник</td>\n",
       "      <td>0</td>\n",
       "      <td>112080.014102</td>\n",
       "      <td>приобретение автомобиля</td>\n",
       "    </tr>\n",
       "    <tr>\n",
       "      <th>2</th>\n",
       "      <td>0</td>\n",
       "      <td>5623.422610</td>\n",
       "      <td>33</td>\n",
       "      <td>среднее</td>\n",
       "      <td>1</td>\n",
       "      <td>женат / замужем</td>\n",
       "      <td>0</td>\n",
       "      <td>M</td>\n",
       "      <td>сотрудник</td>\n",
       "      <td>0</td>\n",
       "      <td>145885.952297</td>\n",
       "      <td>покупка жилья</td>\n",
       "    </tr>\n",
       "    <tr>\n",
       "      <th>3</th>\n",
       "      <td>3</td>\n",
       "      <td>4124.747207</td>\n",
       "      <td>32</td>\n",
       "      <td>среднее</td>\n",
       "      <td>1</td>\n",
       "      <td>женат / замужем</td>\n",
       "      <td>0</td>\n",
       "      <td>M</td>\n",
       "      <td>сотрудник</td>\n",
       "      <td>0</td>\n",
       "      <td>267628.550329</td>\n",
       "      <td>дополнительное образование</td>\n",
       "    </tr>\n",
       "    <tr>\n",
       "      <th>4</th>\n",
       "      <td>0</td>\n",
       "      <td>340266.072047</td>\n",
       "      <td>53</td>\n",
       "      <td>среднее</td>\n",
       "      <td>1</td>\n",
       "      <td>гражданский брак</td>\n",
       "      <td>1</td>\n",
       "      <td>F</td>\n",
       "      <td>пенсионер</td>\n",
       "      <td>0</td>\n",
       "      <td>158616.077870</td>\n",
       "      <td>сыграть свадьбу</td>\n",
       "    </tr>\n",
       "    <tr>\n",
       "      <th>5</th>\n",
       "      <td>0</td>\n",
       "      <td>926.185831</td>\n",
       "      <td>27</td>\n",
       "      <td>высшее</td>\n",
       "      <td>0</td>\n",
       "      <td>гражданский брак</td>\n",
       "      <td>1</td>\n",
       "      <td>M</td>\n",
       "      <td>компаньон</td>\n",
       "      <td>0</td>\n",
       "      <td>255763.565419</td>\n",
       "      <td>покупка жилья</td>\n",
       "    </tr>\n",
       "    <tr>\n",
       "      <th>6</th>\n",
       "      <td>0</td>\n",
       "      <td>2879.202052</td>\n",
       "      <td>43</td>\n",
       "      <td>высшее</td>\n",
       "      <td>0</td>\n",
       "      <td>женат / замужем</td>\n",
       "      <td>0</td>\n",
       "      <td>F</td>\n",
       "      <td>компаньон</td>\n",
       "      <td>0</td>\n",
       "      <td>240525.971920</td>\n",
       "      <td>операции с жильем</td>\n",
       "    </tr>\n",
       "    <tr>\n",
       "      <th>7</th>\n",
       "      <td>0</td>\n",
       "      <td>152.779569</td>\n",
       "      <td>50</td>\n",
       "      <td>среднее</td>\n",
       "      <td>1</td>\n",
       "      <td>женат / замужем</td>\n",
       "      <td>0</td>\n",
       "      <td>M</td>\n",
       "      <td>сотрудник</td>\n",
       "      <td>0</td>\n",
       "      <td>135823.934197</td>\n",
       "      <td>образование</td>\n",
       "    </tr>\n",
       "    <tr>\n",
       "      <th>8</th>\n",
       "      <td>2</td>\n",
       "      <td>6929.865299</td>\n",
       "      <td>35</td>\n",
       "      <td>высшее</td>\n",
       "      <td>0</td>\n",
       "      <td>гражданский брак</td>\n",
       "      <td>1</td>\n",
       "      <td>F</td>\n",
       "      <td>сотрудник</td>\n",
       "      <td>0</td>\n",
       "      <td>95856.832424</td>\n",
       "      <td>на проведение свадьбы</td>\n",
       "    </tr>\n",
       "    <tr>\n",
       "      <th>9</th>\n",
       "      <td>0</td>\n",
       "      <td>2188.756445</td>\n",
       "      <td>41</td>\n",
       "      <td>среднее</td>\n",
       "      <td>1</td>\n",
       "      <td>женат / замужем</td>\n",
       "      <td>0</td>\n",
       "      <td>M</td>\n",
       "      <td>сотрудник</td>\n",
       "      <td>0</td>\n",
       "      <td>144425.938277</td>\n",
       "      <td>покупка жилья для семьи</td>\n",
       "    </tr>\n",
       "  </tbody>\n",
       "</table>\n",
       "</div>"
      ],
      "text/plain": [
       "   children  days_employed  dob_years education  education_id  \\\n",
       "0         1    8437.673028         42    высшее             0   \n",
       "1         1    4024.803754         36   среднее             1   \n",
       "2         0    5623.422610         33   среднее             1   \n",
       "3         3    4124.747207         32   среднее             1   \n",
       "4         0  340266.072047         53   среднее             1   \n",
       "5         0     926.185831         27    высшее             0   \n",
       "6         0    2879.202052         43    высшее             0   \n",
       "7         0     152.779569         50   среднее             1   \n",
       "8         2    6929.865299         35    высшее             0   \n",
       "9         0    2188.756445         41   среднее             1   \n",
       "\n",
       "      family_status  family_status_id gender income_type  debt   total_income  \\\n",
       "0   женат / замужем                 0      F   сотрудник     0  253875.639453   \n",
       "1   женат / замужем                 0      F   сотрудник     0  112080.014102   \n",
       "2   женат / замужем                 0      M   сотрудник     0  145885.952297   \n",
       "3   женат / замужем                 0      M   сотрудник     0  267628.550329   \n",
       "4  гражданский брак                 1      F   пенсионер     0  158616.077870   \n",
       "5  гражданский брак                 1      M   компаньон     0  255763.565419   \n",
       "6   женат / замужем                 0      F   компаньон     0  240525.971920   \n",
       "7   женат / замужем                 0      M   сотрудник     0  135823.934197   \n",
       "8  гражданский брак                 1      F   сотрудник     0   95856.832424   \n",
       "9   женат / замужем                 0      M   сотрудник     0  144425.938277   \n",
       "\n",
       "                      purpose  \n",
       "0               покупка жилья  \n",
       "1     приобретение автомобиля  \n",
       "2               покупка жилья  \n",
       "3  дополнительное образование  \n",
       "4             сыграть свадьбу  \n",
       "5               покупка жилья  \n",
       "6           операции с жильем  \n",
       "7                 образование  \n",
       "8       на проведение свадьбы  \n",
       "9     покупка жилья для семьи  "
      ]
     },
     "execution_count": 105,
     "metadata": {},
     "output_type": "execute_result"
    }
   ],
   "source": [
    "data.head(10) # контроль"
   ]
  },
  {
   "cell_type": "markdown",
   "metadata": {},
   "source": [
    "Приводим данные по колонки days_employed к коректным значениям, для этого я определил методом pd.df.describe() что огромный скачёк в значениях происходит в 4-м квантиле отсортированных по возрастанию значений колонки days_employed. это дало мне основание для того, чтобы выбрать значение 20000 как то, которое гарантированно будет отсукать корректные данные от некоректных.\n",
    "Далее, исходя из гипотезы что некоректные данные это часы, а не сутки я разделил значения на 24, чтобы часы соответствовали дням."
   ]
  },
  {
   "cell_type": "code",
   "execution_count": 106,
   "metadata": {},
   "outputs": [],
   "source": [
    "# Перевод некоректных значений рабочего стажа из часов в дни\n",
    "data.loc[data['days_employed'] > 20000, 'days_employed'] = data.loc[data['days_employed'] > 20000, 'days_employed'] / 24"
   ]
  },
  {
   "cell_type": "markdown",
   "metadata": {},
   "source": [
    "Приводим вещественные колонки к целочисленному виду. Для изменения типа данных был выбран стандартный метод astype() т.к. метод to_numeric() приводит данные к типу floan64"
   ]
  },
  {
   "cell_type": "code",
   "execution_count": 107,
   "metadata": {},
   "outputs": [],
   "source": [
    "# смена типа данных\n",
    "\n",
    "data[['days_employed', 'total_income']] = data[['days_employed', 'total_income']].astype('int')"
   ]
  },
  {
   "cell_type": "code",
   "execution_count": 108,
   "metadata": {},
   "outputs": [
    {
     "data": {
      "text/html": [
       "<div>\n",
       "<style scoped>\n",
       "    .dataframe tbody tr th:only-of-type {\n",
       "        vertical-align: middle;\n",
       "    }\n",
       "\n",
       "    .dataframe tbody tr th {\n",
       "        vertical-align: top;\n",
       "    }\n",
       "\n",
       "    .dataframe thead th {\n",
       "        text-align: right;\n",
       "    }\n",
       "</style>\n",
       "<table border=\"1\" class=\"dataframe\">\n",
       "  <thead>\n",
       "    <tr style=\"text-align: right;\">\n",
       "      <th></th>\n",
       "      <th>children</th>\n",
       "      <th>days_employed</th>\n",
       "      <th>dob_years</th>\n",
       "      <th>education</th>\n",
       "      <th>education_id</th>\n",
       "      <th>family_status</th>\n",
       "      <th>family_status_id</th>\n",
       "      <th>gender</th>\n",
       "      <th>income_type</th>\n",
       "      <th>debt</th>\n",
       "      <th>total_income</th>\n",
       "      <th>purpose</th>\n",
       "    </tr>\n",
       "  </thead>\n",
       "  <tbody>\n",
       "    <tr>\n",
       "      <th>0</th>\n",
       "      <td>1</td>\n",
       "      <td>8437</td>\n",
       "      <td>42</td>\n",
       "      <td>высшее</td>\n",
       "      <td>0</td>\n",
       "      <td>женат / замужем</td>\n",
       "      <td>0</td>\n",
       "      <td>F</td>\n",
       "      <td>сотрудник</td>\n",
       "      <td>0</td>\n",
       "      <td>253875</td>\n",
       "      <td>покупка жилья</td>\n",
       "    </tr>\n",
       "    <tr>\n",
       "      <th>1</th>\n",
       "      <td>1</td>\n",
       "      <td>4024</td>\n",
       "      <td>36</td>\n",
       "      <td>среднее</td>\n",
       "      <td>1</td>\n",
       "      <td>женат / замужем</td>\n",
       "      <td>0</td>\n",
       "      <td>F</td>\n",
       "      <td>сотрудник</td>\n",
       "      <td>0</td>\n",
       "      <td>112080</td>\n",
       "      <td>приобретение автомобиля</td>\n",
       "    </tr>\n",
       "    <tr>\n",
       "      <th>2</th>\n",
       "      <td>0</td>\n",
       "      <td>5623</td>\n",
       "      <td>33</td>\n",
       "      <td>среднее</td>\n",
       "      <td>1</td>\n",
       "      <td>женат / замужем</td>\n",
       "      <td>0</td>\n",
       "      <td>M</td>\n",
       "      <td>сотрудник</td>\n",
       "      <td>0</td>\n",
       "      <td>145885</td>\n",
       "      <td>покупка жилья</td>\n",
       "    </tr>\n",
       "    <tr>\n",
       "      <th>3</th>\n",
       "      <td>3</td>\n",
       "      <td>4124</td>\n",
       "      <td>32</td>\n",
       "      <td>среднее</td>\n",
       "      <td>1</td>\n",
       "      <td>женат / замужем</td>\n",
       "      <td>0</td>\n",
       "      <td>M</td>\n",
       "      <td>сотрудник</td>\n",
       "      <td>0</td>\n",
       "      <td>267628</td>\n",
       "      <td>дополнительное образование</td>\n",
       "    </tr>\n",
       "    <tr>\n",
       "      <th>4</th>\n",
       "      <td>0</td>\n",
       "      <td>14177</td>\n",
       "      <td>53</td>\n",
       "      <td>среднее</td>\n",
       "      <td>1</td>\n",
       "      <td>гражданский брак</td>\n",
       "      <td>1</td>\n",
       "      <td>F</td>\n",
       "      <td>пенсионер</td>\n",
       "      <td>0</td>\n",
       "      <td>158616</td>\n",
       "      <td>сыграть свадьбу</td>\n",
       "    </tr>\n",
       "    <tr>\n",
       "      <th>5</th>\n",
       "      <td>0</td>\n",
       "      <td>926</td>\n",
       "      <td>27</td>\n",
       "      <td>высшее</td>\n",
       "      <td>0</td>\n",
       "      <td>гражданский брак</td>\n",
       "      <td>1</td>\n",
       "      <td>M</td>\n",
       "      <td>компаньон</td>\n",
       "      <td>0</td>\n",
       "      <td>255763</td>\n",
       "      <td>покупка жилья</td>\n",
       "    </tr>\n",
       "    <tr>\n",
       "      <th>6</th>\n",
       "      <td>0</td>\n",
       "      <td>2879</td>\n",
       "      <td>43</td>\n",
       "      <td>высшее</td>\n",
       "      <td>0</td>\n",
       "      <td>женат / замужем</td>\n",
       "      <td>0</td>\n",
       "      <td>F</td>\n",
       "      <td>компаньон</td>\n",
       "      <td>0</td>\n",
       "      <td>240525</td>\n",
       "      <td>операции с жильем</td>\n",
       "    </tr>\n",
       "    <tr>\n",
       "      <th>7</th>\n",
       "      <td>0</td>\n",
       "      <td>152</td>\n",
       "      <td>50</td>\n",
       "      <td>среднее</td>\n",
       "      <td>1</td>\n",
       "      <td>женат / замужем</td>\n",
       "      <td>0</td>\n",
       "      <td>M</td>\n",
       "      <td>сотрудник</td>\n",
       "      <td>0</td>\n",
       "      <td>135823</td>\n",
       "      <td>образование</td>\n",
       "    </tr>\n",
       "    <tr>\n",
       "      <th>8</th>\n",
       "      <td>2</td>\n",
       "      <td>6929</td>\n",
       "      <td>35</td>\n",
       "      <td>высшее</td>\n",
       "      <td>0</td>\n",
       "      <td>гражданский брак</td>\n",
       "      <td>1</td>\n",
       "      <td>F</td>\n",
       "      <td>сотрудник</td>\n",
       "      <td>0</td>\n",
       "      <td>95856</td>\n",
       "      <td>на проведение свадьбы</td>\n",
       "    </tr>\n",
       "    <tr>\n",
       "      <th>9</th>\n",
       "      <td>0</td>\n",
       "      <td>2188</td>\n",
       "      <td>41</td>\n",
       "      <td>среднее</td>\n",
       "      <td>1</td>\n",
       "      <td>женат / замужем</td>\n",
       "      <td>0</td>\n",
       "      <td>M</td>\n",
       "      <td>сотрудник</td>\n",
       "      <td>0</td>\n",
       "      <td>144425</td>\n",
       "      <td>покупка жилья для семьи</td>\n",
       "    </tr>\n",
       "  </tbody>\n",
       "</table>\n",
       "</div>"
      ],
      "text/plain": [
       "   children  days_employed  dob_years education  education_id  \\\n",
       "0         1           8437         42    высшее             0   \n",
       "1         1           4024         36   среднее             1   \n",
       "2         0           5623         33   среднее             1   \n",
       "3         3           4124         32   среднее             1   \n",
       "4         0          14177         53   среднее             1   \n",
       "5         0            926         27    высшее             0   \n",
       "6         0           2879         43    высшее             0   \n",
       "7         0            152         50   среднее             1   \n",
       "8         2           6929         35    высшее             0   \n",
       "9         0           2188         41   среднее             1   \n",
       "\n",
       "      family_status  family_status_id gender income_type  debt  total_income  \\\n",
       "0   женат / замужем                 0      F   сотрудник     0        253875   \n",
       "1   женат / замужем                 0      F   сотрудник     0        112080   \n",
       "2   женат / замужем                 0      M   сотрудник     0        145885   \n",
       "3   женат / замужем                 0      M   сотрудник     0        267628   \n",
       "4  гражданский брак                 1      F   пенсионер     0        158616   \n",
       "5  гражданский брак                 1      M   компаньон     0        255763   \n",
       "6   женат / замужем                 0      F   компаньон     0        240525   \n",
       "7   женат / замужем                 0      M   сотрудник     0        135823   \n",
       "8  гражданский брак                 1      F   сотрудник     0         95856   \n",
       "9   женат / замужем                 0      M   сотрудник     0        144425   \n",
       "\n",
       "                      purpose  \n",
       "0               покупка жилья  \n",
       "1     приобретение автомобиля  \n",
       "2               покупка жилья  \n",
       "3  дополнительное образование  \n",
       "4             сыграть свадьбу  \n",
       "5               покупка жилья  \n",
       "6           операции с жильем  \n",
       "7                 образование  \n",
       "8       на проведение свадьбы  \n",
       "9     покупка жилья для семьи  "
      ]
     },
     "execution_count": 108,
     "metadata": {},
     "output_type": "execute_result"
    }
   ],
   "source": [
    "data.head(10) # визуальная проверка данных"
   ]
  },
  {
   "cell_type": "markdown",
   "metadata": {},
   "source": [
    "**Вывод**"
   ]
  },
  {
   "cell_type": "markdown",
   "metadata": {},
   "source": [
    "В данных был ряд проблем: некоректные и отрицательные значения, разный формат заполнения строк в ячейках. Все проблемы были устранены и приведены в удобный для обработки вид"
   ]
  },
  {
   "cell_type": "markdown",
   "metadata": {},
   "source": [
    "### Обработка дубликатов"
   ]
  },
  {
   "cell_type": "code",
   "execution_count": 109,
   "metadata": {},
   "outputs": [
    {
     "data": {
      "text/plain": [
       "71"
      ]
     },
     "execution_count": 109,
     "metadata": {},
     "output_type": "execute_result"
    }
   ],
   "source": [
    "data.duplicated().sum() # Определяем количество явных дупликатов"
   ]
  },
  {
   "cell_type": "code",
   "execution_count": 110,
   "metadata": {
    "scrolled": false
   },
   "outputs": [],
   "source": [
    "data = data.drop_duplicates().reset_index(drop=True) # убираем все явные дупликаты"
   ]
  },
  {
   "cell_type": "code",
   "execution_count": 111,
   "metadata": {},
   "outputs": [
    {
     "data": {
      "text/plain": [
       "0"
      ]
     },
     "execution_count": 111,
     "metadata": {},
     "output_type": "execute_result"
    }
   ],
   "source": [
    "data.duplicated().sum() # проверяем количество дубликатов после чистки"
   ]
  },
  {
   "cell_type": "markdown",
   "metadata": {},
   "source": [
    "**Вывод**"
   ]
  },
  {
   "cell_type": "markdown",
   "metadata": {},
   "source": [
    "Дупликаты в данных могли появится по причинам: случайного совпадения, технической ошибки или рукописного ввода во время принятии заявки(человеческого фактора).\n",
    "\n",
    "Наша задача определить как один набор уникальных значений X влияет на конечный результат Y, это говорит нам о том, что дублирования одних и тех же наборов данных нам не интересно, так как результат этих данных уже будет известен. Поэтому мы можем свободно избавиться от дупликатов в данных. Метод сработал удачно и можем приступать к следующему этапу"
   ]
  },
  {
   "cell_type": "markdown",
   "metadata": {},
   "source": [
    "### Лемматизация"
   ]
  },
  {
   "cell_type": "code",
   "execution_count": 112,
   "metadata": {},
   "outputs": [
    {
     "name": "stdout",
     "output_type": "stream",
     "text": [
      "Requirement already satisfied: pymystem3 in c:\\programdata\\anaconda3\\lib\\site-packages (0.2.0)\n",
      "Requirement already satisfied: requests in c:\\programdata\\anaconda3\\lib\\site-packages (from pymystem3) (2.25.1)\n",
      "Requirement already satisfied: urllib3<1.27,>=1.21.1 in c:\\programdata\\anaconda3\\lib\\site-packages (from requests->pymystem3) (1.26.4)\n",
      "Requirement already satisfied: idna<3,>=2.5 in c:\\programdata\\anaconda3\\lib\\site-packages (from requests->pymystem3) (2.10)\n",
      "Requirement already satisfied: certifi>=2017.4.17 in c:\\programdata\\anaconda3\\lib\\site-packages (from requests->pymystem3) (2020.12.5)\n",
      "Requirement already satisfied: chardet<5,>=3.0.2 in c:\\programdata\\anaconda3\\lib\\site-packages (from requests->pymystem3) (4.0.0)\n"
     ]
    }
   ],
   "source": [
    "import sys # импортируем библиотеку sys для возможности установки сторонних библиотек\n",
    "!{sys.executable} -m pip install pymystem3"
   ]
  },
  {
   "cell_type": "code",
   "execution_count": 113,
   "metadata": {},
   "outputs": [],
   "source": [
    "from pymystem3 import Mystem # импортируем pymystem3\n",
    "from collections import Counter # импортируем Counter для работы с лемматизацией\n",
    "m = Mystem() #назначаем переменную для комфортного взаимодействия с функцей\n"
   ]
  },
  {
   "cell_type": "code",
   "execution_count": 114,
   "metadata": {},
   "outputs": [
    {
     "name": "stdout",
     "output_type": "stream",
     "text": [
      "Counter({' ': 55023, 'недвижимость': 6351, 'покупка': 5897, 'жилье': 4460, 'автомобиль': 4306, 'образование': 4013, 'с': 2918, 'операция': 2604, 'свадьба': 2324, 'свой': 2230, 'на': 2222, 'строительство': 1878, 'высокий': 1374, 'получение': 1314, 'коммерческий': 1311, 'для': 1289, 'жилой': 1230, 'сделка': 941, 'дополнительный': 906, 'заниматься': 904, 'подержать': 853, 'проведение': 768, 'сыграть': 765, 'сдача': 651, 'семья': 638, 'собственный': 635, 'со': 627, 'ремонт': 607, 'приобретение': 461, 'профильный': 436, 'подержанный': 111, '\\n': 1})\n"
     ]
    }
   ],
   "source": [
    "list_to_text = ' '.join(map(str, data['purpose'])) # с помощью функции map применяем метод str к пандасовской серии, \n",
    "                                                         # перевод каждого элемента в строку\n",
    "                                                         # join к каждому элементу в списке\n",
    "\n",
    "lemmas = m.lemmatize(list_to_text) #применяем лемматизацию\n",
    "\n",
    "print(Counter(lemmas)) # видим результат используя метод Counter для наглядности"
   ]
  },
  {
   "cell_type": "markdown",
   "metadata": {},
   "source": [
    "**Вывод**"
   ]
  },
  {
   "cell_type": "markdown",
   "metadata": {},
   "source": [
    "Для работы в локальной версии нужно было импортировать стандартную библиотеку пайтона для возможности загружать нестандартные библиотеки, какой и является pymystem3.\n",
    "\n",
    "После импорта всех необходимых библиотек и назначения технической переменной 'm' пришло время обрабатывать данные.\n",
    "Для начала нужно было перевести пандасовскую Серию в единую строку для последующей лемматизации.\n",
    "\n",
    "Применив к полученным данным метод Counter мы видим количества каждого применимого слова, это делает данные гораздо более однозначными. \n",
    "\n",
    "Людей больше всего интересует покупка недвижимости, второе место заняло кредитования для покупки автомобиля и на третьем месте получение образования, на четвёртом проведение свадьбы"
   ]
  },
  {
   "cell_type": "markdown",
   "metadata": {},
   "source": [
    "### Категоризация данных"
   ]
  },
  {
   "cell_type": "markdown",
   "metadata": {},
   "source": [
    "Для категоризации данных по цели покупки нам необходимо будет применить стемминг используя библиотеку nltk"
   ]
  },
  {
   "cell_type": "code",
   "execution_count": 115,
   "metadata": {},
   "outputs": [],
   "source": [
    "from nltk.stem import SnowballStemmer # импортируем из библиотеки nltk.stem нужный нам модуль\n",
    "nl = SnowballStemmer('russian') # назначаем тихническую переменную для работы с русским текстом"
   ]
  },
  {
   "cell_type": "code",
   "execution_count": 116,
   "metadata": {
    "scrolled": false
   },
   "outputs": [],
   "source": [
    "list_of_purpose = list(data['purpose'].unique()) #Выделим все уникальные значения целей покупки"
   ]
  },
  {
   "cell_type": "markdown",
   "metadata": {},
   "source": [
    "Теперь нам необходимо вычленить все категории. На первый взгляд их будет несколько: недвижимость, автомобиль, образование, здоровье, свадьба. Сейчас проверим это с помощью стемминга."
   ]
  },
  {
   "cell_type": "code",
   "execution_count": 117,
   "metadata": {
    "scrolled": false
   },
   "outputs": [
    {
     "name": "stdout",
     "output_type": "stream",
     "text": [
      "['автомоб', 'автомобил', 'высш', 'для', 'дополнительн', 'жил', 'заня', 'коммерческ', 'на', 'недвижим', 'образован', 'операц', 'подержа', 'покупк', 'получен', 'приобретен', 'проведен', 'профильн', 'ремонт', 'с', 'свадьб', 'сво', 'сдач', 'сделк', 'сем', 'со', 'собствен', 'строительств', 'сыгра']\n"
     ]
    }
   ],
   "source": [
    "stemmer_list = [] #пустой список для значений стемминга\n",
    "\n",
    "for item in list_of_purpose: # профодим стемминг по списку целей покупки\n",
    "        \n",
    "    for word in item.split(\" \"):\n",
    "        stemmer_list.append(nl.stem(word))\n",
    "        \n",
    "        \n",
    "sorted_stemmer_list = sorted(set(stemmer_list))\n",
    "print(sorted_stemmer_list)"
   ]
  },
  {
   "cell_type": "code",
   "execution_count": 118,
   "metadata": {},
   "outputs": [],
   "source": [
    "data['purpose_category'] = np.nan # создаём пустую колонку для дальнейшего заполнения."
   ]
  },
  {
   "cell_type": "markdown",
   "metadata": {},
   "source": [
    "Был выбрат способ np.nan, который заполняет весь столбец отсутствующими значениями. Был выбран этот метод по причине того, что на данном этапе у нас нет данных которыми мы готовы заполнить столбец\n"
   ]
  },
  {
   "cell_type": "markdown",
   "metadata": {},
   "source": [
    "Так как при лемминге гипотеза подтвердилась у нас имеются 4 освновных категории, вычленим уникальные значения из колонки data['purpose'] из категорий"
   ]
  },
  {
   "cell_type": "code",
   "execution_count": 120,
   "metadata": {},
   "outputs": [],
   "source": [
    "def categorization(row):\n",
    "    \n",
    "    stemmed_query = nl.stem(row)\n",
    "    \n",
    "    for word in stemmed_query.split(\" \"):\n",
    "        \n",
    "        if (word == 'жил') or (word == 'недвижим')or (word == 'жилья'):\n",
    "            return 'недвижимость'\n",
    "            \n",
    "        elif (word == 'автомобил') or (word == 'автомоб'):\n",
    "             return 'автомобиль'\n",
    "            \n",
    "        elif word == 'образован':\n",
    "            return 'образование'\n",
    "            \n",
    "        elif word == 'свадьб':\n",
    "            return 'свадьба'\n",
    "\n"
   ]
  },
  {
   "cell_type": "code",
   "execution_count": 121,
   "metadata": {},
   "outputs": [],
   "source": [
    "data['purpose_category'] = data['purpose'].apply(categorization) # применяем метод эплай к каждой строке столбца 'prupose'"
   ]
  },
  {
   "cell_type": "code",
   "execution_count": 122,
   "metadata": {
    "scrolled": false
   },
   "outputs": [
    {
     "data": {
      "text/html": [
       "<div>\n",
       "<style scoped>\n",
       "    .dataframe tbody tr th:only-of-type {\n",
       "        vertical-align: middle;\n",
       "    }\n",
       "\n",
       "    .dataframe tbody tr th {\n",
       "        vertical-align: top;\n",
       "    }\n",
       "\n",
       "    .dataframe thead th {\n",
       "        text-align: right;\n",
       "    }\n",
       "</style>\n",
       "<table border=\"1\" class=\"dataframe\">\n",
       "  <thead>\n",
       "    <tr style=\"text-align: right;\">\n",
       "      <th></th>\n",
       "      <th>purpose</th>\n",
       "      <th>purpose_category</th>\n",
       "    </tr>\n",
       "  </thead>\n",
       "  <tbody>\n",
       "    <tr>\n",
       "      <th>0</th>\n",
       "      <td>покупка жилья</td>\n",
       "      <td>недвижимость</td>\n",
       "    </tr>\n",
       "    <tr>\n",
       "      <th>1</th>\n",
       "      <td>приобретение автомобиля</td>\n",
       "      <td>автомобиль</td>\n",
       "    </tr>\n",
       "    <tr>\n",
       "      <th>2</th>\n",
       "      <td>покупка жилья</td>\n",
       "      <td>недвижимость</td>\n",
       "    </tr>\n",
       "    <tr>\n",
       "      <th>3</th>\n",
       "      <td>дополнительное образование</td>\n",
       "      <td>образование</td>\n",
       "    </tr>\n",
       "    <tr>\n",
       "      <th>4</th>\n",
       "      <td>сыграть свадьбу</td>\n",
       "      <td>свадьба</td>\n",
       "    </tr>\n",
       "  </tbody>\n",
       "</table>\n",
       "</div>"
      ],
      "text/plain": [
       "                      purpose purpose_category\n",
       "0               покупка жилья     недвижимость\n",
       "1     приобретение автомобиля       автомобиль\n",
       "2               покупка жилья     недвижимость\n",
       "3  дополнительное образование      образование\n",
       "4             сыграть свадьбу          свадьба"
      ]
     },
     "execution_count": 122,
     "metadata": {},
     "output_type": "execute_result"
    }
   ],
   "source": [
    "data.loc[:, ['purpose', 'purpose_category']].head(5) # срез для контроля"
   ]
  },
  {
   "cell_type": "markdown",
   "metadata": {},
   "source": [
    "Далее нужно будет нарисовать таблицу в которой бы столбцы с целью были заменены на 4 категории"
   ]
  },
  {
   "cell_type": "code",
   "execution_count": 123,
   "metadata": {
    "scrolled": true
   },
   "outputs": [
    {
     "data": {
      "text/html": [
       "<div>\n",
       "<style scoped>\n",
       "    .dataframe tbody tr th:only-of-type {\n",
       "        vertical-align: middle;\n",
       "    }\n",
       "\n",
       "    .dataframe tbody tr th {\n",
       "        vertical-align: top;\n",
       "    }\n",
       "\n",
       "    .dataframe thead th {\n",
       "        text-align: right;\n",
       "    }\n",
       "</style>\n",
       "<table border=\"1\" class=\"dataframe\">\n",
       "  <thead>\n",
       "    <tr style=\"text-align: right;\">\n",
       "      <th></th>\n",
       "      <th>children</th>\n",
       "      <th>days_employed</th>\n",
       "      <th>dob_years</th>\n",
       "      <th>education</th>\n",
       "      <th>education_id</th>\n",
       "      <th>family_status</th>\n",
       "      <th>family_status_id</th>\n",
       "      <th>gender</th>\n",
       "      <th>income_type</th>\n",
       "      <th>debt</th>\n",
       "      <th>total_income</th>\n",
       "      <th>purpose_category</th>\n",
       "    </tr>\n",
       "  </thead>\n",
       "  <tbody>\n",
       "    <tr>\n",
       "      <th>0</th>\n",
       "      <td>1</td>\n",
       "      <td>8437</td>\n",
       "      <td>42</td>\n",
       "      <td>высшее</td>\n",
       "      <td>0</td>\n",
       "      <td>женат / замужем</td>\n",
       "      <td>0</td>\n",
       "      <td>F</td>\n",
       "      <td>сотрудник</td>\n",
       "      <td>0</td>\n",
       "      <td>253875</td>\n",
       "      <td>недвижимость</td>\n",
       "    </tr>\n",
       "    <tr>\n",
       "      <th>1</th>\n",
       "      <td>1</td>\n",
       "      <td>4024</td>\n",
       "      <td>36</td>\n",
       "      <td>среднее</td>\n",
       "      <td>1</td>\n",
       "      <td>женат / замужем</td>\n",
       "      <td>0</td>\n",
       "      <td>F</td>\n",
       "      <td>сотрудник</td>\n",
       "      <td>0</td>\n",
       "      <td>112080</td>\n",
       "      <td>автомобиль</td>\n",
       "    </tr>\n",
       "    <tr>\n",
       "      <th>2</th>\n",
       "      <td>0</td>\n",
       "      <td>5623</td>\n",
       "      <td>33</td>\n",
       "      <td>среднее</td>\n",
       "      <td>1</td>\n",
       "      <td>женат / замужем</td>\n",
       "      <td>0</td>\n",
       "      <td>M</td>\n",
       "      <td>сотрудник</td>\n",
       "      <td>0</td>\n",
       "      <td>145885</td>\n",
       "      <td>недвижимость</td>\n",
       "    </tr>\n",
       "    <tr>\n",
       "      <th>3</th>\n",
       "      <td>3</td>\n",
       "      <td>4124</td>\n",
       "      <td>32</td>\n",
       "      <td>среднее</td>\n",
       "      <td>1</td>\n",
       "      <td>женат / замужем</td>\n",
       "      <td>0</td>\n",
       "      <td>M</td>\n",
       "      <td>сотрудник</td>\n",
       "      <td>0</td>\n",
       "      <td>267628</td>\n",
       "      <td>образование</td>\n",
       "    </tr>\n",
       "    <tr>\n",
       "      <th>4</th>\n",
       "      <td>0</td>\n",
       "      <td>14177</td>\n",
       "      <td>53</td>\n",
       "      <td>среднее</td>\n",
       "      <td>1</td>\n",
       "      <td>гражданский брак</td>\n",
       "      <td>1</td>\n",
       "      <td>F</td>\n",
       "      <td>пенсионер</td>\n",
       "      <td>0</td>\n",
       "      <td>158616</td>\n",
       "      <td>свадьба</td>\n",
       "    </tr>\n",
       "    <tr>\n",
       "      <th>...</th>\n",
       "      <td>...</td>\n",
       "      <td>...</td>\n",
       "      <td>...</td>\n",
       "      <td>...</td>\n",
       "      <td>...</td>\n",
       "      <td>...</td>\n",
       "      <td>...</td>\n",
       "      <td>...</td>\n",
       "      <td>...</td>\n",
       "      <td>...</td>\n",
       "      <td>...</td>\n",
       "      <td>...</td>\n",
       "    </tr>\n",
       "    <tr>\n",
       "      <th>21449</th>\n",
       "      <td>1</td>\n",
       "      <td>4529</td>\n",
       "      <td>43</td>\n",
       "      <td>среднее</td>\n",
       "      <td>1</td>\n",
       "      <td>гражданский брак</td>\n",
       "      <td>1</td>\n",
       "      <td>F</td>\n",
       "      <td>компаньон</td>\n",
       "      <td>0</td>\n",
       "      <td>224791</td>\n",
       "      <td>недвижимость</td>\n",
       "    </tr>\n",
       "    <tr>\n",
       "      <th>21450</th>\n",
       "      <td>0</td>\n",
       "      <td>14330</td>\n",
       "      <td>67</td>\n",
       "      <td>среднее</td>\n",
       "      <td>1</td>\n",
       "      <td>женат / замужем</td>\n",
       "      <td>0</td>\n",
       "      <td>F</td>\n",
       "      <td>пенсионер</td>\n",
       "      <td>0</td>\n",
       "      <td>155999</td>\n",
       "      <td>автомобиль</td>\n",
       "    </tr>\n",
       "    <tr>\n",
       "      <th>21451</th>\n",
       "      <td>1</td>\n",
       "      <td>2113</td>\n",
       "      <td>38</td>\n",
       "      <td>среднее</td>\n",
       "      <td>1</td>\n",
       "      <td>гражданский брак</td>\n",
       "      <td>1</td>\n",
       "      <td>M</td>\n",
       "      <td>сотрудник</td>\n",
       "      <td>1</td>\n",
       "      <td>89672</td>\n",
       "      <td>недвижимость</td>\n",
       "    </tr>\n",
       "    <tr>\n",
       "      <th>21452</th>\n",
       "      <td>3</td>\n",
       "      <td>3112</td>\n",
       "      <td>38</td>\n",
       "      <td>среднее</td>\n",
       "      <td>1</td>\n",
       "      <td>женат / замужем</td>\n",
       "      <td>0</td>\n",
       "      <td>M</td>\n",
       "      <td>сотрудник</td>\n",
       "      <td>1</td>\n",
       "      <td>244093</td>\n",
       "      <td>автомобиль</td>\n",
       "    </tr>\n",
       "    <tr>\n",
       "      <th>21453</th>\n",
       "      <td>2</td>\n",
       "      <td>1984</td>\n",
       "      <td>40</td>\n",
       "      <td>среднее</td>\n",
       "      <td>1</td>\n",
       "      <td>женат / замужем</td>\n",
       "      <td>0</td>\n",
       "      <td>F</td>\n",
       "      <td>сотрудник</td>\n",
       "      <td>0</td>\n",
       "      <td>82047</td>\n",
       "      <td>автомобиль</td>\n",
       "    </tr>\n",
       "  </tbody>\n",
       "</table>\n",
       "<p>21454 rows × 12 columns</p>\n",
       "</div>"
      ],
      "text/plain": [
       "       children  days_employed  dob_years education  education_id  \\\n",
       "0             1           8437         42    высшее             0   \n",
       "1             1           4024         36   среднее             1   \n",
       "2             0           5623         33   среднее             1   \n",
       "3             3           4124         32   среднее             1   \n",
       "4             0          14177         53   среднее             1   \n",
       "...         ...            ...        ...       ...           ...   \n",
       "21449         1           4529         43   среднее             1   \n",
       "21450         0          14330         67   среднее             1   \n",
       "21451         1           2113         38   среднее             1   \n",
       "21452         3           3112         38   среднее             1   \n",
       "21453         2           1984         40   среднее             1   \n",
       "\n",
       "          family_status  family_status_id gender income_type  debt  \\\n",
       "0       женат / замужем                 0      F   сотрудник     0   \n",
       "1       женат / замужем                 0      F   сотрудник     0   \n",
       "2       женат / замужем                 0      M   сотрудник     0   \n",
       "3       женат / замужем                 0      M   сотрудник     0   \n",
       "4      гражданский брак                 1      F   пенсионер     0   \n",
       "...                 ...               ...    ...         ...   ...   \n",
       "21449  гражданский брак                 1      F   компаньон     0   \n",
       "21450   женат / замужем                 0      F   пенсионер     0   \n",
       "21451  гражданский брак                 1      M   сотрудник     1   \n",
       "21452   женат / замужем                 0      M   сотрудник     1   \n",
       "21453   женат / замужем                 0      F   сотрудник     0   \n",
       "\n",
       "       total_income purpose_category  \n",
       "0            253875     недвижимость  \n",
       "1            112080       автомобиль  \n",
       "2            145885     недвижимость  \n",
       "3            267628      образование  \n",
       "4            158616          свадьба  \n",
       "...             ...              ...  \n",
       "21449        224791     недвижимость  \n",
       "21450        155999       автомобиль  \n",
       "21451         89672     недвижимость  \n",
       "21452        244093       автомобиль  \n",
       "21453         82047       автомобиль  \n",
       "\n",
       "[21454 rows x 12 columns]"
      ]
     },
     "execution_count": 123,
     "metadata": {},
     "output_type": "execute_result"
    }
   ],
   "source": [
    "data.drop(labels='purpose', axis=1) # убираем лишний столбец, т.к. на его основе уже проведена категоризация"
   ]
  },
  {
   "cell_type": "code",
   "execution_count": 124,
   "metadata": {},
   "outputs": [
    {
     "data": {
      "text/plain": [
       "array(['недвижимость', 'автомобиль', 'образование', 'свадьба'],\n",
       "      dtype=object)"
      ]
     },
     "execution_count": 124,
     "metadata": {},
     "output_type": "execute_result"
    }
   ],
   "source": [
    "data['purpose_category'].unique() # проверяем коректно ли сработал код для присвоения категорий и нет ли там лишних значений"
   ]
  },
  {
   "cell_type": "markdown",
   "metadata": {},
   "source": [
    "**Вывод**"
   ]
  },
  {
   "cell_type": "markdown",
   "metadata": {},
   "source": [
    "Стемминговое исследование выделило 4 основных категории: недвижимость, автомобиль, образование, свадьба. Для выделения категории была составлена отдельная колонка data['purpose_category'] и заполнена в соответствии с клиентским запросом"
   ]
  },
  {
   "cell_type": "code",
   "execution_count": 125,
   "metadata": {
    "scrolled": true
   },
   "outputs": [],
   "source": [
    "children_debt_dict=data[['children','debt', 'family_status_id']] # выделим необходимые столбцы для анализа"
   ]
  },
  {
   "cell_type": "markdown",
   "metadata": {},
   "source": [
    "В колонке ['children'] имеются отрицательные (-1 детей) и неадекватные значения (20 детей)"
   ]
  },
  {
   "cell_type": "markdown",
   "metadata": {},
   "source": [
    "Т.к. в столбце children есть отрицательные значения нужно использовать метод abs(). Этот метод вернёт абсолютное заначения каждого компонента столбца"
   ]
  },
  {
   "cell_type": "code",
   "execution_count": 126,
   "metadata": {},
   "outputs": [
    {
     "name": "stderr",
     "output_type": "stream",
     "text": [
      "<ipython-input-126-7b980c4dabdb>:1: SettingWithCopyWarning: \n",
      "A value is trying to be set on a copy of a slice from a DataFrame.\n",
      "Try using .loc[row_indexer,col_indexer] = value instead\n",
      "\n",
      "See the caveats in the documentation: https://pandas.pydata.org/pandas-docs/stable/user_guide/indexing.html#returning-a-view-versus-a-copy\n",
      "  children_debt_dict['children'] = children_debt_dict['children'].abs() # избавляемся от отрицательных значений\n"
     ]
    }
   ],
   "source": [
    "children_debt_dict['children'] = children_debt_dict['children'].abs() # избавляемся от отрицательных значений"
   ]
  },
  {
   "cell_type": "code",
   "execution_count": 127,
   "metadata": {
    "scrolled": true
   },
   "outputs": [
    {
     "name": "stderr",
     "output_type": "stream",
     "text": [
      "C:\\ProgramData\\Anaconda3\\lib\\site-packages\\pandas\\core\\indexing.py:1637: SettingWithCopyWarning: \n",
      "A value is trying to be set on a copy of a slice from a DataFrame\n",
      "\n",
      "See the caveats in the documentation: https://pandas.pydata.org/pandas-docs/stable/user_guide/indexing.html#returning-a-view-versus-a-copy\n",
      "  self._setitem_single_block(indexer, value, name)\n",
      "C:\\ProgramData\\Anaconda3\\lib\\site-packages\\pandas\\core\\indexing.py:692: SettingWithCopyWarning: \n",
      "A value is trying to be set on a copy of a slice from a DataFrame\n",
      "\n",
      "See the caveats in the documentation: https://pandas.pydata.org/pandas-docs/stable/user_guide/indexing.html#returning-a-view-versus-a-copy\n",
      "  iloc._setitem_with_indexer(indexer, value, self.name)\n"
     ]
    }
   ],
   "source": [
    "children_debt_dict.loc[children_debt_dict['children'] == 20] = 2 # заменим значение 20"
   ]
  },
  {
   "cell_type": "code",
   "execution_count": 128,
   "metadata": {},
   "outputs": [],
   "source": [
    "children_debt_results = pd.pivot_table(children_debt_dict, index=[\"children\"], columns='debt', values='family_status_id', aggfunc='count')"
   ]
  },
  {
   "cell_type": "code",
   "execution_count": 129,
   "metadata": {
    "scrolled": false
   },
   "outputs": [
    {
     "data": {
      "text/html": [
       "<div>\n",
       "<style scoped>\n",
       "    .dataframe tbody tr th:only-of-type {\n",
       "        vertical-align: middle;\n",
       "    }\n",
       "\n",
       "    .dataframe tbody tr th {\n",
       "        vertical-align: top;\n",
       "    }\n",
       "\n",
       "    .dataframe thead th {\n",
       "        text-align: right;\n",
       "    }\n",
       "</style>\n",
       "<table border=\"1\" class=\"dataframe\">\n",
       "  <thead>\n",
       "    <tr style=\"text-align: right;\">\n",
       "      <th>debt</th>\n",
       "      <th>0</th>\n",
       "      <th>1</th>\n",
       "      <th>2</th>\n",
       "    </tr>\n",
       "    <tr>\n",
       "      <th>children</th>\n",
       "      <th></th>\n",
       "      <th></th>\n",
       "      <th></th>\n",
       "    </tr>\n",
       "  </thead>\n",
       "  <tbody>\n",
       "    <tr>\n",
       "      <th>0</th>\n",
       "      <td>13028.0</td>\n",
       "      <td>1063.0</td>\n",
       "      <td>NaN</td>\n",
       "    </tr>\n",
       "    <tr>\n",
       "      <th>1</th>\n",
       "      <td>4410.0</td>\n",
       "      <td>445.0</td>\n",
       "      <td>NaN</td>\n",
       "    </tr>\n",
       "    <tr>\n",
       "      <th>2</th>\n",
       "      <td>1858.0</td>\n",
       "      <td>194.0</td>\n",
       "      <td>76.0</td>\n",
       "    </tr>\n",
       "    <tr>\n",
       "      <th>3</th>\n",
       "      <td>303.0</td>\n",
       "      <td>27.0</td>\n",
       "      <td>NaN</td>\n",
       "    </tr>\n",
       "    <tr>\n",
       "      <th>4</th>\n",
       "      <td>37.0</td>\n",
       "      <td>4.0</td>\n",
       "      <td>NaN</td>\n",
       "    </tr>\n",
       "    <tr>\n",
       "      <th>5</th>\n",
       "      <td>9.0</td>\n",
       "      <td>NaN</td>\n",
       "      <td>NaN</td>\n",
       "    </tr>\n",
       "  </tbody>\n",
       "</table>\n",
       "</div>"
      ],
      "text/plain": [
       "debt            0       1     2\n",
       "children                       \n",
       "0         13028.0  1063.0   NaN\n",
       "1          4410.0   445.0   NaN\n",
       "2          1858.0   194.0  76.0\n",
       "3           303.0    27.0   NaN\n",
       "4            37.0     4.0   NaN\n",
       "5             9.0     NaN   NaN"
      ]
     },
     "execution_count": 129,
     "metadata": {},
     "output_type": "execute_result"
    }
   ],
   "source": [
    "children_debt_results"
   ]
  },
  {
   "cell_type": "code",
   "execution_count": 130,
   "metadata": {},
   "outputs": [
    {
     "data": {
      "text/plain": [
       "1063.0"
      ]
     },
     "execution_count": 130,
     "metadata": {},
     "output_type": "execute_result"
    }
   ],
   "source": [
    "children_debt_results.loc[0 , 1] # Первое число - количество детей, второе - есть/нет задолжености"
   ]
  },
  {
   "cell_type": "code",
   "execution_count": 131,
   "metadata": {},
   "outputs": [
    {
     "data": {
      "text/plain": [
       "14091.0"
      ]
     },
     "execution_count": 131,
     "metadata": {},
     "output_type": "execute_result"
    }
   ],
   "source": [
    "children_debt_results.loc[0].sum() # сумма конкретной категории"
   ]
  },
  {
   "cell_type": "code",
   "execution_count": 151,
   "metadata": {},
   "outputs": [
    {
     "data": {
      "text/html": [
       "<div>\n",
       "<style scoped>\n",
       "    .dataframe tbody tr th:only-of-type {\n",
       "        vertical-align: middle;\n",
       "    }\n",
       "\n",
       "    .dataframe tbody tr th {\n",
       "        vertical-align: top;\n",
       "    }\n",
       "\n",
       "    .dataframe thead th {\n",
       "        text-align: right;\n",
       "    }\n",
       "</style>\n",
       "<table border=\"1\" class=\"dataframe\">\n",
       "  <thead>\n",
       "    <tr style=\"text-align: right;\">\n",
       "      <th></th>\n",
       "      <th>count</th>\n",
       "      <th>sum</th>\n",
       "      <th>my_mean</th>\n",
       "    </tr>\n",
       "    <tr>\n",
       "      <th>children</th>\n",
       "      <th></th>\n",
       "      <th></th>\n",
       "      <th></th>\n",
       "    </tr>\n",
       "  </thead>\n",
       "  <tbody>\n",
       "    <tr>\n",
       "      <th>-1</th>\n",
       "      <td>47</td>\n",
       "      <td>1</td>\n",
       "      <td>2.13%</td>\n",
       "    </tr>\n",
       "    <tr>\n",
       "      <th>0</th>\n",
       "      <td>14091</td>\n",
       "      <td>1063</td>\n",
       "      <td>7.54%</td>\n",
       "    </tr>\n",
       "    <tr>\n",
       "      <th>1</th>\n",
       "      <td>4808</td>\n",
       "      <td>444</td>\n",
       "      <td>9.23%</td>\n",
       "    </tr>\n",
       "    <tr>\n",
       "      <th>2</th>\n",
       "      <td>2052</td>\n",
       "      <td>194</td>\n",
       "      <td>9.45%</td>\n",
       "    </tr>\n",
       "    <tr>\n",
       "      <th>3</th>\n",
       "      <td>330</td>\n",
       "      <td>27</td>\n",
       "      <td>8.18%</td>\n",
       "    </tr>\n",
       "    <tr>\n",
       "      <th>4</th>\n",
       "      <td>41</td>\n",
       "      <td>4</td>\n",
       "      <td>9.76%</td>\n",
       "    </tr>\n",
       "    <tr>\n",
       "      <th>5</th>\n",
       "      <td>9</td>\n",
       "      <td>0</td>\n",
       "      <td>0.00%</td>\n",
       "    </tr>\n",
       "    <tr>\n",
       "      <th>20</th>\n",
       "      <td>76</td>\n",
       "      <td>8</td>\n",
       "      <td>10.53%</td>\n",
       "    </tr>\n",
       "  </tbody>\n",
       "</table>\n",
       "</div>"
      ],
      "text/plain": [
       "          count   sum  my_mean\n",
       "children                      \n",
       "-1           47     1   2.13% \n",
       " 0        14091  1063   7.54% \n",
       " 1         4808   444   9.23% \n",
       " 2         2052   194   9.45% \n",
       " 3          330    27   8.18% \n",
       " 4           41     4   9.76% \n",
       " 5            9     0   0.00% \n",
       " 20          76     8  10.53% "
      ]
     },
     "execution_count": 151,
     "metadata": {},
     "output_type": "execute_result"
    }
   ],
   "source": [
    "def my_mean(x): return '{:.2%} '.format(x.mean())\n",
    "\n",
    "data.groupby('children')['debt'].agg(['count', 'sum', my_mean])"
   ]
  },
  {
   "cell_type": "markdown",
   "metadata": {},
   "source": [
    "**Вывод**"
   ]
  },
  {
   "cell_type": "markdown",
   "metadata": {},
   "source": [
    "Я привёл данные тремя разными способами: сортировка датафрейма, группировка и сводная таблица. В данном случае самым удобным считаю метод groupby() за счёт длины кода и информативности."
   ]
  },
  {
   "cell_type": "markdown",
   "metadata": {},
   "source": [
    "Полученные результаты говорят что самый высокий процент заделженности среди клиентов у тех, кто имеет по 20 детей, хотя скорее всего это ошибка в данных, но оставим как есть, следуя условиям задания, а самый низкий процент у клиентов имеющих 5 детей в семье.\n",
    "\n",
    "В среднем процент задолженности среди всех клиентов составляет 10% и не корелируется с количеством детей в семье"
   ]
  },
  {
   "cell_type": "markdown",
   "metadata": {},
   "source": [
    "- Есть ли зависимость между семейным положением и возвратом кредита в срок?"
   ]
  },
  {
   "cell_type": "code",
   "execution_count": 154,
   "metadata": {
    "scrolled": false
   },
   "outputs": [
    {
     "data": {
      "text/html": [
       "<div>\n",
       "<style scoped>\n",
       "    .dataframe tbody tr th:only-of-type {\n",
       "        vertical-align: middle;\n",
       "    }\n",
       "\n",
       "    .dataframe tbody tr th {\n",
       "        vertical-align: top;\n",
       "    }\n",
       "\n",
       "    .dataframe thead th {\n",
       "        text-align: right;\n",
       "    }\n",
       "</style>\n",
       "<table border=\"1\" class=\"dataframe\">\n",
       "  <thead>\n",
       "    <tr style=\"text-align: right;\">\n",
       "      <th></th>\n",
       "      <th>count</th>\n",
       "      <th>sum</th>\n",
       "      <th>my_mean</th>\n",
       "    </tr>\n",
       "    <tr>\n",
       "      <th>family_status</th>\n",
       "      <th></th>\n",
       "      <th></th>\n",
       "      <th></th>\n",
       "    </tr>\n",
       "  </thead>\n",
       "  <tbody>\n",
       "    <tr>\n",
       "      <th>Не женат / не замужем</th>\n",
       "      <td>2810</td>\n",
       "      <td>274</td>\n",
       "      <td>9.75%</td>\n",
       "    </tr>\n",
       "    <tr>\n",
       "      <th>в разводе</th>\n",
       "      <td>1195</td>\n",
       "      <td>85</td>\n",
       "      <td>7.11%</td>\n",
       "    </tr>\n",
       "    <tr>\n",
       "      <th>вдовец / вдова</th>\n",
       "      <td>959</td>\n",
       "      <td>63</td>\n",
       "      <td>6.57%</td>\n",
       "    </tr>\n",
       "    <tr>\n",
       "      <th>гражданский брак</th>\n",
       "      <td>4151</td>\n",
       "      <td>388</td>\n",
       "      <td>9.35%</td>\n",
       "    </tr>\n",
       "    <tr>\n",
       "      <th>женат / замужем</th>\n",
       "      <td>12339</td>\n",
       "      <td>931</td>\n",
       "      <td>7.55%</td>\n",
       "    </tr>\n",
       "  </tbody>\n",
       "</table>\n",
       "</div>"
      ],
      "text/plain": [
       "                       count  sum my_mean\n",
       "family_status                            \n",
       "Не женат / не замужем   2810  274  9.75% \n",
       "в разводе               1195   85  7.11% \n",
       "вдовец / вдова           959   63  6.57% \n",
       "гражданский брак        4151  388  9.35% \n",
       "женат / замужем        12339  931  7.55% "
      ]
     },
     "execution_count": 154,
     "metadata": {},
     "output_type": "execute_result"
    }
   ],
   "source": [
    "data.groupby('family_status')['debt'].agg(['count', 'sum', my_mean])"
   ]
  },
  {
   "cell_type": "markdown",
   "metadata": {},
   "source": [
    "**Вывод**"
   ]
  },
  {
   "cell_type": "markdown",
   "metadata": {},
   "source": [
    "Привёл данные тремя разными способами: сортировка датафрейма, группировка и сводная таблица. В данном случае самым удобным считаю метод groupby() за счёт длины кода и информативности.\n",
    "\n",
    "По данным можно сделать интересные выводы о том, не женатые/не замужные и состоящие в гражданском браке клиенты имеют больший процент задолженности чем остальные социальные группы"
   ]
  },
  {
   "cell_type": "markdown",
   "metadata": {},
   "source": [
    "- Есть ли зависимость между уровнем дохода и возвратом кредита в срок?"
   ]
  },
  {
   "cell_type": "markdown",
   "metadata": {},
   "source": [
    "Чтобы коректно определить уровни дохода предлогаю использовать разделение на 3 класса, низший от 0 до 12792 (МРОТ), средний от 12792 до 120000 и высший от 120000 рублей"
   ]
  },
  {
   "cell_type": "code",
   "execution_count": 140,
   "metadata": {
    "scrolled": false
   },
   "outputs": [
    {
     "name": "stderr",
     "output_type": "stream",
     "text": [
      "<ipython-input-140-dc7ca454ce97>:2: SettingWithCopyWarning: \n",
      "A value is trying to be set on a copy of a slice from a DataFrame.\n",
      "Try using .loc[row_indexer,col_indexer] = value instead\n",
      "\n",
      "See the caveats in the documentation: https://pandas.pydata.org/pandas-docs/stable/user_guide/indexing.html#returning-a-view-versus-a-copy\n",
      "  total_income_debt_dict['total_income_category'] = np.nan # создаём пустой столбец для дальнейшего присвоения категории\n"
     ]
    }
   ],
   "source": [
    "total_income_debt_dict=data[['total_income','debt', 'family_status_id']] # выделим необходимые столбцы для анализа\n",
    "total_income_debt_dict['total_income_category'] = np.nan # создаём пустой столбец для дальнейшего присвоения категории"
   ]
  },
  {
   "cell_type": "code",
   "execution_count": 141,
   "metadata": {},
   "outputs": [
    {
     "data": {
      "text/plain": [
       "count    2.145400e+04\n",
       "mean     1.654622e+05\n",
       "std      9.840914e+04\n",
       "min      0.000000e+00\n",
       "25%      1.074990e+05\n",
       "50%      1.448810e+05\n",
       "75%      1.968970e+05\n",
       "max      2.265604e+06\n",
       "Name: total_income, dtype: float64"
      ]
     },
     "execution_count": 141,
     "metadata": {},
     "output_type": "execute_result"
    }
   ],
   "source": [
    "data['total_income'].sort_values().describe()"
   ]
  },
  {
   "cell_type": "code",
   "execution_count": 157,
   "metadata": {
    "scrolled": true
   },
   "outputs": [
    {
     "name": "stderr",
     "output_type": "stream",
     "text": [
      "<ipython-input-157-ebd7b0bccdd9>:14: SettingWithCopyWarning: \n",
      "A value is trying to be set on a copy of a slice from a DataFrame\n",
      "\n",
      "See the caveats in the documentation: https://pandas.pydata.org/pandas-docs/stable/user_guide/indexing.html#returning-a-view-versus-a-copy\n",
      "  total_income_debt_dict['total_income_category'][item] = 'высший'\n",
      "C:\\ProgramData\\Anaconda3\\lib\\site-packages\\IPython\\core\\interactiveshell.py:3437: SettingWithCopyWarning: \n",
      "A value is trying to be set on a copy of a slice from a DataFrame\n",
      "\n",
      "See the caveats in the documentation: https://pandas.pydata.org/pandas-docs/stable/user_guide/indexing.html#returning-a-view-versus-a-copy\n",
      "  exec(code_obj, self.user_global_ns, self.user_ns)\n",
      "<ipython-input-157-ebd7b0bccdd9>:8: SettingWithCopyWarning: \n",
      "A value is trying to be set on a copy of a slice from a DataFrame\n",
      "\n",
      "See the caveats in the documentation: https://pandas.pydata.org/pandas-docs/stable/user_guide/indexing.html#returning-a-view-versus-a-copy\n",
      "  total_income_debt_dict['total_income_category'][item] = 'средний'\n",
      "<ipython-input-157-ebd7b0bccdd9>:11: SettingWithCopyWarning: \n",
      "A value is trying to be set on a copy of a slice from a DataFrame\n",
      "\n",
      "See the caveats in the documentation: https://pandas.pydata.org/pandas-docs/stable/user_guide/indexing.html#returning-a-view-versus-a-copy\n",
      "  total_income_debt_dict['total_income_category'][item] = 'высокий'\n",
      "<ipython-input-157-ebd7b0bccdd9>:5: SettingWithCopyWarning: \n",
      "A value is trying to be set on a copy of a slice from a DataFrame\n",
      "\n",
      "See the caveats in the documentation: https://pandas.pydata.org/pandas-docs/stable/user_guide/indexing.html#returning-a-view-versus-a-copy\n",
      "  total_income_debt_dict['total_income_category'][item] = 'низкий'\n"
     ]
    }
   ],
   "source": [
    "for item in range(0, 21454): # цикл заполняющий столбец total_income_category относительно предложенных критериев\n",
    "    \n",
    "    if total_income_debt_dict['total_income'][item] >= 0 and \\\n",
    "       total_income_debt_dict['total_income'][item] < 1.076230e+05:\n",
    "        total_income_debt_dict['total_income_category'][item] = 'низкий'\n",
    "                  \n",
    "    elif total_income_debt_dict['total_income'][item] >= 1.076230e+05 and total_income_debt_dict['total_income'][item] <= 1.472920e+05:\n",
    "        total_income_debt_dict['total_income_category'][item] = 'средний'\n",
    "        \n",
    "    elif total_income_debt_dict['total_income'][item] > 1.472920e+05 and total_income_debt_dict['total_income'][item] <= 1.958132e+05:\n",
    "        total_income_debt_dict['total_income_category'][item] = 'высокий'\n",
    "        \n",
    "    elif total_income_debt_dict['total_income'][item] > 1.958132e+05 and total_income_debt_dict['total_income'][item] <= 2.265604e+06:\n",
    "        total_income_debt_dict['total_income_category'][item] = 'высший'"
   ]
  },
  {
   "cell_type": "code",
   "execution_count": 158,
   "metadata": {
    "scrolled": true
   },
   "outputs": [
    {
     "data": {
      "text/html": [
       "<div>\n",
       "<style scoped>\n",
       "    .dataframe tbody tr th:only-of-type {\n",
       "        vertical-align: middle;\n",
       "    }\n",
       "\n",
       "    .dataframe tbody tr th {\n",
       "        vertical-align: top;\n",
       "    }\n",
       "\n",
       "    .dataframe thead th {\n",
       "        text-align: right;\n",
       "    }\n",
       "</style>\n",
       "<table border=\"1\" class=\"dataframe\">\n",
       "  <thead>\n",
       "    <tr style=\"text-align: right;\">\n",
       "      <th></th>\n",
       "      <th>total_income</th>\n",
       "      <th>debt</th>\n",
       "      <th>family_status_id</th>\n",
       "      <th>total_income_category</th>\n",
       "    </tr>\n",
       "  </thead>\n",
       "  <tbody>\n",
       "    <tr>\n",
       "      <th>0</th>\n",
       "      <td>253875</td>\n",
       "      <td>0</td>\n",
       "      <td>0</td>\n",
       "      <td>высший</td>\n",
       "    </tr>\n",
       "    <tr>\n",
       "      <th>1</th>\n",
       "      <td>112080</td>\n",
       "      <td>0</td>\n",
       "      <td>0</td>\n",
       "      <td>средний</td>\n",
       "    </tr>\n",
       "    <tr>\n",
       "      <th>2</th>\n",
       "      <td>145885</td>\n",
       "      <td>0</td>\n",
       "      <td>0</td>\n",
       "      <td>средний</td>\n",
       "    </tr>\n",
       "    <tr>\n",
       "      <th>3</th>\n",
       "      <td>267628</td>\n",
       "      <td>0</td>\n",
       "      <td>0</td>\n",
       "      <td>высший</td>\n",
       "    </tr>\n",
       "    <tr>\n",
       "      <th>4</th>\n",
       "      <td>158616</td>\n",
       "      <td>0</td>\n",
       "      <td>1</td>\n",
       "      <td>высокий</td>\n",
       "    </tr>\n",
       "    <tr>\n",
       "      <th>...</th>\n",
       "      <td>...</td>\n",
       "      <td>...</td>\n",
       "      <td>...</td>\n",
       "      <td>...</td>\n",
       "    </tr>\n",
       "    <tr>\n",
       "      <th>21449</th>\n",
       "      <td>224791</td>\n",
       "      <td>0</td>\n",
       "      <td>1</td>\n",
       "      <td>высший</td>\n",
       "    </tr>\n",
       "    <tr>\n",
       "      <th>21450</th>\n",
       "      <td>155999</td>\n",
       "      <td>0</td>\n",
       "      <td>0</td>\n",
       "      <td>высокий</td>\n",
       "    </tr>\n",
       "    <tr>\n",
       "      <th>21451</th>\n",
       "      <td>89672</td>\n",
       "      <td>1</td>\n",
       "      <td>1</td>\n",
       "      <td>низкий</td>\n",
       "    </tr>\n",
       "    <tr>\n",
       "      <th>21452</th>\n",
       "      <td>244093</td>\n",
       "      <td>1</td>\n",
       "      <td>0</td>\n",
       "      <td>высший</td>\n",
       "    </tr>\n",
       "    <tr>\n",
       "      <th>21453</th>\n",
       "      <td>82047</td>\n",
       "      <td>0</td>\n",
       "      <td>0</td>\n",
       "      <td>низкий</td>\n",
       "    </tr>\n",
       "  </tbody>\n",
       "</table>\n",
       "<p>21454 rows × 4 columns</p>\n",
       "</div>"
      ],
      "text/plain": [
       "       total_income  debt  family_status_id total_income_category\n",
       "0            253875     0                 0                высший\n",
       "1            112080     0                 0               средний\n",
       "2            145885     0                 0               средний\n",
       "3            267628     0                 0                высший\n",
       "4            158616     0                 1               высокий\n",
       "...             ...   ...               ...                   ...\n",
       "21449        224791     0                 1                высший\n",
       "21450        155999     0                 0               высокий\n",
       "21451         89672     1                 1                низкий\n",
       "21452        244093     1                 0                высший\n",
       "21453         82047     0                 0                низкий\n",
       "\n",
       "[21454 rows x 4 columns]"
      ]
     },
     "execution_count": 158,
     "metadata": {},
     "output_type": "execute_result"
    }
   ],
   "source": [
    "total_income_debt_dict # проверяем коректность заполнения"
   ]
  },
  {
   "cell_type": "code",
   "execution_count": 168,
   "metadata": {
    "scrolled": false
   },
   "outputs": [],
   "source": [
    "total_income_debt_result = pd.pivot_table(total_income_debt_dict, index=[\"total_income_category\"], columns='debt', values='family_status_id', aggfunc=['count'])# группируем данные для анализа"
   ]
  },
  {
   "cell_type": "code",
   "execution_count": 174,
   "metadata": {
    "scrolled": true
   },
   "outputs": [
    {
     "data": {
      "text/html": [
       "<div>\n",
       "<style scoped>\n",
       "    .dataframe tbody tr th:only-of-type {\n",
       "        vertical-align: middle;\n",
       "    }\n",
       "\n",
       "    .dataframe tbody tr th {\n",
       "        vertical-align: top;\n",
       "    }\n",
       "\n",
       "    .dataframe thead tr th {\n",
       "        text-align: left;\n",
       "    }\n",
       "\n",
       "    .dataframe thead tr:last-of-type th {\n",
       "        text-align: right;\n",
       "    }\n",
       "</style>\n",
       "<table border=\"1\" class=\"dataframe\">\n",
       "  <thead>\n",
       "    <tr>\n",
       "      <th></th>\n",
       "      <th colspan=\"2\" halign=\"left\">count</th>\n",
       "    </tr>\n",
       "    <tr>\n",
       "      <th>debt</th>\n",
       "      <th>0</th>\n",
       "      <th>1</th>\n",
       "    </tr>\n",
       "    <tr>\n",
       "      <th>total_income_category</th>\n",
       "      <th></th>\n",
       "      <th></th>\n",
       "    </tr>\n",
       "  </thead>\n",
       "  <tbody>\n",
       "    <tr>\n",
       "      <th>высокий</th>\n",
       "      <td>4509</td>\n",
       "      <td>436</td>\n",
       "    </tr>\n",
       "    <tr>\n",
       "      <th>высший</th>\n",
       "      <td>5055</td>\n",
       "      <td>386</td>\n",
       "    </tr>\n",
       "    <tr>\n",
       "      <th>низкий</th>\n",
       "      <td>4945</td>\n",
       "      <td>427</td>\n",
       "    </tr>\n",
       "    <tr>\n",
       "      <th>средний</th>\n",
       "      <td>5204</td>\n",
       "      <td>492</td>\n",
       "    </tr>\n",
       "  </tbody>\n",
       "</table>\n",
       "</div>"
      ],
      "text/plain": [
       "                      count     \n",
       "debt                      0    1\n",
       "total_income_category           \n",
       "высокий                4509  436\n",
       "высший                 5055  386\n",
       "низкий                 4945  427\n",
       "средний                5204  492"
      ]
     },
     "execution_count": 174,
     "metadata": {},
     "output_type": "execute_result"
    }
   ],
   "source": [
    "total_income_debt_result"
   ]
  },
  {
   "cell_type": "code",
   "execution_count": 183,
   "metadata": {},
   "outputs": [
    {
     "name": "stdout",
     "output_type": "stream",
     "text": [
      "процент клиентов высокого класса имеющих задолженость: 8.82%\n",
      "процент клиентов высшего класса имеющих задолженость: 7.09%\n",
      "процент клиентов низкого класса имеющих задолженость: 7.95%\n",
      "процент клиентов среднего класса имеющих задолженость: 8.64%\n"
     ]
    }
   ],
   "source": [
    "print('процент клиентов высокого класса имеющих задолженость: {0:.2%}'.format((total_income_debt_result.loc['высокий'][1] / \n",
    "                                                                              total_income_debt_result.loc['высокий'].sum())))\n",
    "print('процент клиентов высшего класса имеющих задолженость: {0:.2%}'.format(total_income_debt_result.loc['высший'][1] / \n",
    "                                                                             total_income_debt_result.loc['высший'].sum()))\n",
    "print('процент клиентов низкого класса имеющих задолженость: {0:.2%}'.format((total_income_debt_result.loc['низкий'][1] / \n",
    "                                                                              total_income_debt_result.loc['низкий'].sum())))\n",
    "print('процент клиентов среднего класса имеющих задолженость: {0:.2%}'.format((total_income_debt_result.loc['средний'][1] / \n",
    "                                                                             total_income_debt_result.loc['средний'].sum())))"
   ]
  },
  {
   "cell_type": "markdown",
   "metadata": {},
   "source": [
    "**Вывод**"
   ]
  },
  {
   "cell_type": "markdown",
   "metadata": {},
   "source": [
    "Во время предобработки я заместил все отсутствующие значения в графе total_income на медианы для каждой возрастной группы, от этого в нашей таблице отсутствует низший класс, что в целом походит на реальность, т.к. клиенты с теми запросами, которые мы вывели при категоризации и с низким доходом не обращались бы в банк для заёма.\n",
    "\n",
    "На приведённой таблице мы видим что уровень дохода напрямую не влияет на результат и значения остаются в пределах 10% в любом варианте"
   ]
  },
  {
   "cell_type": "markdown",
   "metadata": {},
   "source": [
    "- Как разные цели кредита влияют на его возврат в срок?"
   ]
  },
  {
   "cell_type": "code",
   "execution_count": 184,
   "metadata": {},
   "outputs": [],
   "source": [
    "purpose_category_debt_dict=data[['purpose_category','debt', 'family_status_id']] # выделим необходимые столбцы для анализа"
   ]
  },
  {
   "cell_type": "code",
   "execution_count": 185,
   "metadata": {
    "scrolled": true
   },
   "outputs": [],
   "source": [
    "purpose_category_debt_result = pd.pivot_table(purpose_category_debt_dict, index=[\"purpose_category\"], columns='debt', values='family_status_id', aggfunc='count') # группируем данные для анализа"
   ]
  },
  {
   "cell_type": "code",
   "execution_count": 186,
   "metadata": {
    "scrolled": true
   },
   "outputs": [
    {
     "data": {
      "text/html": [
       "<div>\n",
       "<style scoped>\n",
       "    .dataframe tbody tr th:only-of-type {\n",
       "        vertical-align: middle;\n",
       "    }\n",
       "\n",
       "    .dataframe tbody tr th {\n",
       "        vertical-align: top;\n",
       "    }\n",
       "\n",
       "    .dataframe thead th {\n",
       "        text-align: right;\n",
       "    }\n",
       "</style>\n",
       "<table border=\"1\" class=\"dataframe\">\n",
       "  <thead>\n",
       "    <tr style=\"text-align: right;\">\n",
       "      <th>debt</th>\n",
       "      <th>0</th>\n",
       "      <th>1</th>\n",
       "    </tr>\n",
       "    <tr>\n",
       "      <th>purpose_category</th>\n",
       "      <th></th>\n",
       "      <th></th>\n",
       "    </tr>\n",
       "  </thead>\n",
       "  <tbody>\n",
       "    <tr>\n",
       "      <th>автомобиль</th>\n",
       "      <td>3903</td>\n",
       "      <td>403</td>\n",
       "    </tr>\n",
       "    <tr>\n",
       "      <th>недвижимость</th>\n",
       "      <td>10029</td>\n",
       "      <td>782</td>\n",
       "    </tr>\n",
       "    <tr>\n",
       "      <th>образование</th>\n",
       "      <td>3643</td>\n",
       "      <td>370</td>\n",
       "    </tr>\n",
       "    <tr>\n",
       "      <th>свадьба</th>\n",
       "      <td>2138</td>\n",
       "      <td>186</td>\n",
       "    </tr>\n",
       "  </tbody>\n",
       "</table>\n",
       "</div>"
      ],
      "text/plain": [
       "debt                  0    1\n",
       "purpose_category            \n",
       "автомобиль         3903  403\n",
       "недвижимость      10029  782\n",
       "образование        3643  370\n",
       "свадьба            2138  186"
      ]
     },
     "execution_count": 186,
     "metadata": {},
     "output_type": "execute_result"
    }
   ],
   "source": [
    "purpose_category_debt_result"
   ]
  },
  {
   "cell_type": "code",
   "execution_count": 187,
   "metadata": {
    "scrolled": true
   },
   "outputs": [
    {
     "name": "stdout",
     "output_type": "stream",
     "text": [
      "процент клиентов чья цель покупки автомобиль имели задолженость: 9.36%\n",
      "процент клиентов чья цель покупки недвижимость имели задолженость: 7.23%\n",
      "процент клиентов чья цель покупки образование имели задолженость: 9.22%\n",
      "процент клиентов чья цель покупки свадьба имели задолженость: 8.00%\n"
     ]
    }
   ],
   "source": [
    "print('процент клиентов чья цель покупки автомобиль имели задолженость: {0:.2%}'.format(purpose_category_debt_result.loc['автомобиль', 1] / \n",
    "                                                                                       purpose_category_debt_result.loc['автомобиль'].sum()))\n",
    "print('процент клиентов чья цель покупки недвижимость имели задолженость: {0:.2%}'.format(purpose_category_debt_result.loc['недвижимость', 1] / \n",
    "                                                                                       purpose_category_debt_result.loc['недвижимость'].sum()))\n",
    "print('процент клиентов чья цель покупки образование имели задолженость: {0:.2%}'.format(purpose_category_debt_result.loc['образование', 1] / \n",
    "                                                                                       purpose_category_debt_result.loc['образование'].sum()))\n",
    "print('процент клиентов чья цель покупки свадьба имели задолженость: {0:.2%}'.format(purpose_category_debt_result.loc['свадьба', 1] / \n",
    "                                                                                       purpose_category_debt_result.loc['свадьба'].sum()))"
   ]
  },
  {
   "cell_type": "markdown",
   "metadata": {},
   "source": [
    "**Вывод**"
   ]
  },
  {
   "cell_type": "markdown",
   "metadata": {},
   "source": [
    "Данные показывают что самыми платежеспособными в данной метрике были клиенты обращающиеся в банк для покупки недвижимости и проведения свадьбы"
   ]
  },
  {
   "cell_type": "markdown",
   "metadata": {},
   "source": [
    "##  Общий вывод"
   ]
  },
  {
   "cell_type": "markdown",
   "metadata": {},
   "source": [
    "# Вывод по работе с данными\n",
    "\n",
    "В данных было достаточно много грубых технических ошибок нуждающихся в предобработке. Данные ошибки влияли на результаты исследования и для точных расчётов нужно передать информацию специалисту по базе данных для устранения проблем."
   ]
  },
  {
   "cell_type": "markdown",
   "metadata": {},
   "source": [
    "# Вывод аналитического исследования\n",
    "\n",
    "В ходе исследования было установлено что самыми благонадёжными клиентами являются те, чьи цели была операция с недвижимостью: 7.23%.\n",
    "В свою очередь самой неплатежеспособной группой оказались те, клиенты что обращались с целью покупки автомобиля: 9.36%"
   ]
  }
 ],
 "metadata": {
  "ExecuteTimeLog": [
   {
    "duration": 598,
    "start_time": "2022-01-21T15:02:27.340Z"
   },
   {
    "duration": 20,
    "start_time": "2022-01-21T15:02:27.940Z"
   },
   {
    "duration": 32,
    "start_time": "2022-01-21T15:02:27.962Z"
   },
   {
    "duration": 26,
    "start_time": "2022-01-21T15:02:27.996Z"
   },
   {
    "duration": 37,
    "start_time": "2022-01-21T15:02:28.024Z"
   },
   {
    "duration": 29,
    "start_time": "2022-01-21T15:02:28.063Z"
   },
   {
    "duration": 5,
    "start_time": "2022-01-21T15:02:28.093Z"
   },
   {
    "duration": 20,
    "start_time": "2022-01-21T15:02:28.099Z"
   },
   {
    "duration": 12,
    "start_time": "2022-01-21T15:02:28.122Z"
   },
   {
    "duration": 38,
    "start_time": "2022-01-21T15:02:28.136Z"
   },
   {
    "duration": 61,
    "start_time": "2022-01-21T15:02:28.176Z"
   },
   {
    "duration": 26,
    "start_time": "2022-01-21T15:02:28.239Z"
   },
   {
    "duration": 4,
    "start_time": "2022-01-21T15:02:28.267Z"
   },
   {
    "duration": 26,
    "start_time": "2022-01-21T15:02:28.273Z"
   },
   {
    "duration": 33,
    "start_time": "2022-01-21T15:02:28.300Z"
   },
   {
    "duration": 17,
    "start_time": "2022-01-21T15:02:28.335Z"
   },
   {
    "duration": 11,
    "start_time": "2022-01-21T15:02:28.353Z"
   },
   {
    "duration": 24,
    "start_time": "2022-01-21T15:02:28.366Z"
   },
   {
    "duration": 28,
    "start_time": "2022-01-21T15:02:28.391Z"
   },
   {
    "duration": 22,
    "start_time": "2022-01-21T15:02:28.421Z"
   },
   {
    "duration": 16,
    "start_time": "2022-01-21T15:02:28.445Z"
   },
   {
    "duration": 7355,
    "start_time": "2022-01-21T15:02:28.462Z"
   },
   {
    "duration": 5,
    "start_time": "2022-01-21T15:02:35.819Z"
   },
   {
    "duration": 2462,
    "start_time": "2022-01-21T15:02:35.826Z"
   },
   {
    "duration": 566,
    "start_time": "2022-01-21T15:02:38.297Z"
   },
   {
    "duration": 4,
    "start_time": "2022-01-21T15:02:38.864Z"
   },
   {
    "duration": 24,
    "start_time": "2022-01-21T15:02:38.871Z"
   },
   {
    "duration": 9,
    "start_time": "2022-01-21T15:02:38.897Z"
   },
   {
    "duration": 3141,
    "start_time": "2022-01-21T15:02:38.908Z"
   },
   {
    "duration": 22,
    "start_time": "2022-01-21T15:02:42.051Z"
   },
   {
    "duration": 34,
    "start_time": "2022-01-21T15:02:42.074Z"
   },
   {
    "duration": 5,
    "start_time": "2022-01-21T15:02:42.110Z"
   },
   {
    "duration": 9,
    "start_time": "2022-01-21T15:02:42.117Z"
   },
   {
    "duration": 8,
    "start_time": "2022-01-21T15:02:42.127Z"
   },
   {
    "duration": 14,
    "start_time": "2022-01-21T15:02:42.136Z"
   },
   {
    "duration": 6,
    "start_time": "2022-01-21T15:02:42.152Z"
   },
   {
    "duration": 8,
    "start_time": "2022-01-21T15:02:42.160Z"
   },
   {
    "duration": 273,
    "start_time": "2022-01-21T15:02:42.197Z"
   },
   {
    "duration": -1001,
    "start_time": "2022-01-21T15:02:43.473Z"
   },
   {
    "duration": -1002,
    "start_time": "2022-01-21T15:02:43.475Z"
   },
   {
    "duration": -1001,
    "start_time": "2022-01-21T15:02:43.476Z"
   },
   {
    "duration": -1002,
    "start_time": "2022-01-21T15:02:43.478Z"
   },
   {
    "duration": -1002,
    "start_time": "2022-01-21T15:02:43.480Z"
   },
   {
    "duration": -1002,
    "start_time": "2022-01-21T15:02:43.481Z"
   },
   {
    "duration": -1004,
    "start_time": "2022-01-21T15:02:43.485Z"
   },
   {
    "duration": -1004,
    "start_time": "2022-01-21T15:02:43.486Z"
   },
   {
    "duration": -1003,
    "start_time": "2022-01-21T15:02:43.487Z"
   },
   {
    "duration": -1003,
    "start_time": "2022-01-21T15:02:43.488Z"
   },
   {
    "duration": -1002,
    "start_time": "2022-01-21T15:02:43.489Z"
   },
   {
    "duration": 13,
    "start_time": "2022-01-21T15:12:50.684Z"
   },
   {
    "duration": 20,
    "start_time": "2022-01-21T15:12:50.838Z"
   },
   {
    "duration": 6,
    "start_time": "2022-01-21T15:12:51.000Z"
   },
   {
    "duration": 6,
    "start_time": "2022-01-21T15:12:53.727Z"
   },
   {
    "duration": 3801,
    "start_time": "2022-01-21T15:12:53.899Z"
   },
   {
    "duration": 9,
    "start_time": "2022-01-21T15:12:57.702Z"
   },
   {
    "duration": 20,
    "start_time": "2022-01-21T15:12:57.713Z"
   },
   {
    "duration": 3,
    "start_time": "2022-01-21T15:12:57.735Z"
   },
   {
    "duration": 194,
    "start_time": "2022-01-21T15:13:26.422Z"
   },
   {
    "duration": 178,
    "start_time": "2022-01-21T15:13:29.292Z"
   },
   {
    "duration": 175,
    "start_time": "2022-01-21T15:13:37.502Z"
   },
   {
    "duration": 22,
    "start_time": "2022-01-21T15:13:42.823Z"
   },
   {
    "duration": 10,
    "start_time": "2022-01-21T15:13:59.495Z"
   },
   {
    "duration": 8,
    "start_time": "2022-01-21T15:14:10.125Z"
   },
   {
    "duration": 5,
    "start_time": "2022-01-21T15:18:48.613Z"
   },
   {
    "duration": 12,
    "start_time": "2022-01-21T15:18:48.772Z"
   },
   {
    "duration": 4,
    "start_time": "2022-01-21T15:18:48.910Z"
   },
   {
    "duration": 304,
    "start_time": "2022-01-23T09:48:14.093Z"
   },
   {
    "duration": 683,
    "start_time": "2022-01-23T09:49:29.295Z"
   },
   {
    "duration": 21,
    "start_time": "2022-01-23T09:49:29.979Z"
   },
   {
    "duration": 10,
    "start_time": "2022-01-23T09:49:30.002Z"
   },
   {
    "duration": 9,
    "start_time": "2022-01-23T09:49:30.015Z"
   },
   {
    "duration": 27,
    "start_time": "2022-01-23T09:49:30.026Z"
   },
   {
    "duration": 59,
    "start_time": "2022-01-23T09:49:30.055Z"
   },
   {
    "duration": 5,
    "start_time": "2022-01-23T09:49:30.116Z"
   },
   {
    "duration": 8,
    "start_time": "2022-01-23T09:49:30.124Z"
   },
   {
    "duration": 14,
    "start_time": "2022-01-23T09:49:30.135Z"
   },
   {
    "duration": 51,
    "start_time": "2022-01-23T09:49:30.151Z"
   },
   {
    "duration": 66,
    "start_time": "2022-01-23T09:49:30.204Z"
   },
   {
    "duration": 36,
    "start_time": "2022-01-23T09:49:30.272Z"
   },
   {
    "duration": 28,
    "start_time": "2022-01-23T09:49:30.311Z"
   },
   {
    "duration": 4,
    "start_time": "2022-01-23T09:49:30.341Z"
   },
   {
    "duration": 19,
    "start_time": "2022-01-23T09:49:30.347Z"
   },
   {
    "duration": 43,
    "start_time": "2022-01-23T09:49:30.368Z"
   },
   {
    "duration": 13,
    "start_time": "2022-01-23T09:49:30.413Z"
   },
   {
    "duration": 6,
    "start_time": "2022-01-23T09:49:30.428Z"
   },
   {
    "duration": 15,
    "start_time": "2022-01-23T09:49:30.437Z"
   },
   {
    "duration": 56,
    "start_time": "2022-01-23T09:49:30.454Z"
   },
   {
    "duration": 24,
    "start_time": "2022-01-23T09:49:30.512Z"
   },
   {
    "duration": 18,
    "start_time": "2022-01-23T09:49:30.538Z"
   },
   {
    "duration": 7260,
    "start_time": "2022-01-23T09:49:30.599Z"
   },
   {
    "duration": 5,
    "start_time": "2022-01-23T09:49:37.861Z"
   },
   {
    "duration": 2294,
    "start_time": "2022-01-23T09:49:37.868Z"
   },
   {
    "duration": 602,
    "start_time": "2022-01-23T09:49:40.164Z"
   },
   {
    "duration": 6,
    "start_time": "2022-01-23T09:49:40.768Z"
   },
   {
    "duration": 9,
    "start_time": "2022-01-23T09:49:40.776Z"
   },
   {
    "duration": 14,
    "start_time": "2022-01-23T09:49:40.787Z"
   },
   {
    "duration": 3286,
    "start_time": "2022-01-23T09:49:40.803Z"
   },
   {
    "duration": 25,
    "start_time": "2022-01-23T09:49:44.091Z"
   },
   {
    "duration": 22,
    "start_time": "2022-01-23T09:49:44.118Z"
   },
   {
    "duration": 6,
    "start_time": "2022-01-23T09:49:44.142Z"
   },
   {
    "duration": 5,
    "start_time": "2022-01-23T09:49:44.150Z"
   },
   {
    "duration": 47,
    "start_time": "2022-01-23T09:49:44.157Z"
   },
   {
    "duration": 14,
    "start_time": "2022-01-23T09:49:44.206Z"
   },
   {
    "duration": 5,
    "start_time": "2022-01-23T09:49:44.221Z"
   },
   {
    "duration": 6,
    "start_time": "2022-01-23T09:49:44.228Z"
   },
   {
    "duration": 372,
    "start_time": "2022-01-23T09:49:44.236Z"
   },
   {
    "duration": -188275,
    "start_time": "2022-01-23T09:52:52.886Z"
   },
   {
    "duration": -188278,
    "start_time": "2022-01-23T09:52:52.890Z"
   },
   {
    "duration": -188299,
    "start_time": "2022-01-23T09:52:52.912Z"
   },
   {
    "duration": -188302,
    "start_time": "2022-01-23T09:52:52.916Z"
   },
   {
    "duration": -188305,
    "start_time": "2022-01-23T09:52:52.920Z"
   },
   {
    "duration": -188308,
    "start_time": "2022-01-23T09:52:52.924Z"
   },
   {
    "duration": -188311,
    "start_time": "2022-01-23T09:52:52.928Z"
   },
   {
    "duration": -188314,
    "start_time": "2022-01-23T09:52:52.932Z"
   },
   {
    "duration": -188317,
    "start_time": "2022-01-23T09:52:52.936Z"
   },
   {
    "duration": -188321,
    "start_time": "2022-01-23T09:52:52.941Z"
   },
   {
    "duration": -188324,
    "start_time": "2022-01-23T09:52:52.945Z"
   },
   {
    "duration": 5382,
    "start_time": "2022-01-23T09:51:00.331Z"
   },
   {
    "duration": 294,
    "start_time": "2022-01-23T09:51:13.231Z"
   },
   {
    "duration": 85,
    "start_time": "2022-01-23T09:51:18.434Z"
   },
   {
    "duration": 9014,
    "start_time": "2022-01-23T09:51:25.731Z"
   },
   {
    "duration": 89,
    "start_time": "2022-01-23T09:51:45.026Z"
   },
   {
    "duration": 6979,
    "start_time": "2022-01-23T09:51:47.516Z"
   },
   {
    "duration": 98,
    "start_time": "2022-01-23T09:53:02.254Z"
   },
   {
    "duration": 271,
    "start_time": "2022-01-23T09:53:06.233Z"
   },
   {
    "duration": 11,
    "start_time": "2022-01-23T09:53:14.583Z"
   },
   {
    "duration": 589,
    "start_time": "2022-01-23T10:41:38.261Z"
   },
   {
    "duration": 20,
    "start_time": "2022-01-23T10:41:39.409Z"
   },
   {
    "duration": 8,
    "start_time": "2022-01-23T10:41:39.877Z"
   },
   {
    "duration": 6,
    "start_time": "2022-01-23T10:41:40.476Z"
   },
   {
    "duration": 25,
    "start_time": "2022-01-23T10:41:42.280Z"
   },
   {
    "duration": 26,
    "start_time": "2022-01-23T10:41:45.255Z"
   },
   {
    "duration": 5,
    "start_time": "2022-01-23T10:41:47.981Z"
   },
   {
    "duration": 5,
    "start_time": "2022-01-23T10:41:48.218Z"
   },
   {
    "duration": 4,
    "start_time": "2022-01-23T10:41:49.624Z"
   },
   {
    "duration": 27,
    "start_time": "2022-01-23T10:41:49.881Z"
   },
   {
    "duration": 63,
    "start_time": "2022-01-23T10:41:59.163Z"
   },
   {
    "duration": 11,
    "start_time": "2022-01-23T10:42:00.386Z"
   },
   {
    "duration": 10,
    "start_time": "2022-01-23T10:42:00.883Z"
   },
   {
    "duration": 29,
    "start_time": "2022-01-23T10:42:02.241Z"
   },
   {
    "duration": 3,
    "start_time": "2022-01-23T10:42:03.805Z"
   },
   {
    "duration": 12,
    "start_time": "2022-01-23T10:42:03.992Z"
   },
   {
    "duration": 13,
    "start_time": "2022-01-23T10:42:04.258Z"
   },
   {
    "duration": 8,
    "start_time": "2022-01-23T10:42:05.303Z"
   },
   {
    "duration": 5,
    "start_time": "2022-01-23T10:42:05.699Z"
   },
   {
    "duration": 14,
    "start_time": "2022-01-23T10:42:05.914Z"
   },
   {
    "duration": 19,
    "start_time": "2022-01-23T10:42:07.968Z"
   },
   {
    "duration": 22,
    "start_time": "2022-01-23T10:42:08.355Z"
   },
   {
    "duration": 17,
    "start_time": "2022-01-23T10:42:08.712Z"
   },
   {
    "duration": 7137,
    "start_time": "2022-01-23T10:42:12.722Z"
   },
   {
    "duration": 5,
    "start_time": "2022-01-23T10:42:19.861Z"
   },
   {
    "duration": 2387,
    "start_time": "2022-01-23T10:42:19.868Z"
   },
   {
    "duration": 5,
    "start_time": "2022-01-23T10:55:54.829Z"
   },
   {
    "duration": 19,
    "start_time": "2022-01-23T10:56:00.251Z"
   },
   {
    "duration": 3,
    "start_time": "2022-01-23T11:11:47.812Z"
   },
   {
    "duration": 641,
    "start_time": "2022-01-23T11:12:32.135Z"
   },
   {
    "duration": 3788,
    "start_time": "2022-01-23T11:12:54.737Z"
   },
   {
    "duration": 3,
    "start_time": "2022-01-23T11:13:14.013Z"
   },
   {
    "duration": 85,
    "start_time": "2022-01-23T11:13:49.654Z"
   },
   {
    "duration": 3753,
    "start_time": "2022-01-23T11:13:53.641Z"
   },
   {
    "duration": 630,
    "start_time": "2022-01-23T11:16:23.941Z"
   },
   {
    "duration": 20,
    "start_time": "2022-01-23T11:16:25.664Z"
   },
   {
    "duration": 7,
    "start_time": "2022-01-23T11:16:26.195Z"
   },
   {
    "duration": 6,
    "start_time": "2022-01-23T11:16:26.698Z"
   },
   {
    "duration": 26,
    "start_time": "2022-01-23T11:16:27.150Z"
   },
   {
    "duration": 26,
    "start_time": "2022-01-23T11:16:28.308Z"
   },
   {
    "duration": 5,
    "start_time": "2022-01-23T11:16:30.149Z"
   },
   {
    "duration": 4,
    "start_time": "2022-01-23T11:16:30.320Z"
   },
   {
    "duration": 4,
    "start_time": "2022-01-23T11:16:31.233Z"
   },
   {
    "duration": 28,
    "start_time": "2022-01-23T11:16:33.713Z"
   },
   {
    "duration": 58,
    "start_time": "2022-01-23T11:16:35.398Z"
   },
   {
    "duration": 11,
    "start_time": "2022-01-23T11:16:37.289Z"
   },
   {
    "duration": 11,
    "start_time": "2022-01-23T11:16:40.553Z"
   },
   {
    "duration": 39,
    "start_time": "2022-01-23T11:16:41.936Z"
   },
   {
    "duration": 4,
    "start_time": "2022-01-23T11:16:42.629Z"
   },
   {
    "duration": 12,
    "start_time": "2022-01-23T11:16:42.810Z"
   },
   {
    "duration": 13,
    "start_time": "2022-01-23T11:16:43.556Z"
   },
   {
    "duration": 8,
    "start_time": "2022-01-23T11:16:43.954Z"
   },
   {
    "duration": 6,
    "start_time": "2022-01-23T11:16:44.775Z"
   },
   {
    "duration": 14,
    "start_time": "2022-01-23T11:16:45.540Z"
   },
   {
    "duration": 20,
    "start_time": "2022-01-23T11:16:48.401Z"
   },
   {
    "duration": 22,
    "start_time": "2022-01-23T11:16:48.580Z"
   },
   {
    "duration": 17,
    "start_time": "2022-01-23T11:16:48.759Z"
   },
   {
    "duration": 7273,
    "start_time": "2022-01-23T11:16:51.547Z"
   },
   {
    "duration": 5,
    "start_time": "2022-01-23T11:16:58.822Z"
   },
   {
    "duration": 2371,
    "start_time": "2022-01-23T11:16:58.829Z"
   },
   {
    "duration": 614,
    "start_time": "2022-01-23T11:17:10.198Z"
   },
   {
    "duration": 4,
    "start_time": "2022-01-23T11:17:11.596Z"
   },
   {
    "duration": 4,
    "start_time": "2022-01-23T11:30:42.365Z"
   },
   {
    "duration": 1258,
    "start_time": "2022-01-23T11:30:43.029Z"
   },
   {
    "duration": 1375,
    "start_time": "2022-01-23T11:30:51.007Z"
   },
   {
    "duration": 4,
    "start_time": "2022-01-23T11:34:07.176Z"
   },
   {
    "duration": 1802,
    "start_time": "2022-01-23T11:34:07.309Z"
   },
   {
    "duration": 3,
    "start_time": "2022-01-23T11:35:02.073Z"
   },
   {
    "duration": 1019,
    "start_time": "2022-01-23T11:35:02.222Z"
   },
   {
    "duration": 12,
    "start_time": "2022-01-23T11:35:27.831Z"
   },
   {
    "duration": 4,
    "start_time": "2022-01-23T11:36:31.063Z"
   },
   {
    "duration": 1013,
    "start_time": "2022-01-23T11:36:35.570Z"
   },
   {
    "duration": 14,
    "start_time": "2022-01-23T11:36:36.585Z"
   },
   {
    "duration": 4,
    "start_time": "2022-01-23T11:37:13.012Z"
   },
   {
    "duration": 1005,
    "start_time": "2022-01-23T11:37:13.380Z"
   },
   {
    "duration": 13,
    "start_time": "2022-01-23T11:37:14.387Z"
   },
   {
    "duration": 3,
    "start_time": "2022-01-23T11:37:32.378Z"
   },
   {
    "duration": 1010,
    "start_time": "2022-01-23T11:37:32.806Z"
   },
   {
    "duration": 12,
    "start_time": "2022-01-23T11:37:33.818Z"
   },
   {
    "duration": 3,
    "start_time": "2022-01-23T11:37:58.609Z"
   },
   {
    "duration": 1042,
    "start_time": "2022-01-23T11:38:00.758Z"
   },
   {
    "duration": 12,
    "start_time": "2022-01-23T11:38:01.802Z"
   },
   {
    "duration": 11,
    "start_time": "2022-01-23T11:38:30.155Z"
   },
   {
    "duration": 5,
    "start_time": "2022-01-23T11:39:02.181Z"
   },
   {
    "duration": 1019,
    "start_time": "2022-01-23T11:39:02.320Z"
   },
   {
    "duration": 9,
    "start_time": "2022-01-23T11:39:03.340Z"
   },
   {
    "duration": 4,
    "start_time": "2022-01-23T11:42:00.104Z"
   },
   {
    "duration": 1073,
    "start_time": "2022-01-23T11:42:00.410Z"
   },
   {
    "duration": 14,
    "start_time": "2022-01-23T11:42:01.485Z"
   },
   {
    "duration": 4,
    "start_time": "2022-01-23T11:42:11.988Z"
   },
   {
    "duration": 1040,
    "start_time": "2022-01-23T11:42:12.431Z"
   },
   {
    "duration": 8,
    "start_time": "2022-01-23T11:42:13.473Z"
   },
   {
    "duration": 1025,
    "start_time": "2022-01-23T11:46:39.849Z"
   },
   {
    "duration": 12,
    "start_time": "2022-01-23T11:46:40.876Z"
   },
   {
    "duration": 22,
    "start_time": "2022-01-23T11:46:47.096Z"
   },
   {
    "duration": 4,
    "start_time": "2022-01-23T11:47:58.971Z"
   },
   {
    "duration": 667,
    "start_time": "2022-01-23T11:51:55.765Z"
   },
   {
    "duration": 20,
    "start_time": "2022-01-23T11:51:56.434Z"
   },
   {
    "duration": 7,
    "start_time": "2022-01-23T11:51:56.456Z"
   },
   {
    "duration": 7,
    "start_time": "2022-01-23T11:51:56.465Z"
   },
   {
    "duration": 44,
    "start_time": "2022-01-23T11:51:56.473Z"
   },
   {
    "duration": 26,
    "start_time": "2022-01-23T11:51:56.518Z"
   },
   {
    "duration": 4,
    "start_time": "2022-01-23T11:51:56.546Z"
   },
   {
    "duration": 4,
    "start_time": "2022-01-23T11:51:56.552Z"
   },
   {
    "duration": 7,
    "start_time": "2022-01-23T11:51:56.558Z"
   },
   {
    "duration": 53,
    "start_time": "2022-01-23T11:51:56.566Z"
   },
   {
    "duration": 81,
    "start_time": "2022-01-23T11:51:56.621Z"
   },
   {
    "duration": 10,
    "start_time": "2022-01-23T11:51:56.704Z"
   },
   {
    "duration": 10,
    "start_time": "2022-01-23T11:51:56.716Z"
   },
   {
    "duration": 27,
    "start_time": "2022-01-23T11:51:56.727Z"
   },
   {
    "duration": 3,
    "start_time": "2022-01-23T11:51:56.756Z"
   },
   {
    "duration": 39,
    "start_time": "2022-01-23T11:51:56.761Z"
   },
   {
    "duration": 12,
    "start_time": "2022-01-23T11:51:56.802Z"
   },
   {
    "duration": 8,
    "start_time": "2022-01-23T11:51:56.816Z"
   },
   {
    "duration": 5,
    "start_time": "2022-01-23T11:51:56.826Z"
   },
   {
    "duration": 12,
    "start_time": "2022-01-23T11:51:56.832Z"
   },
   {
    "duration": 52,
    "start_time": "2022-01-23T11:51:56.846Z"
   },
   {
    "duration": 23,
    "start_time": "2022-01-23T11:51:56.900Z"
   },
   {
    "duration": 16,
    "start_time": "2022-01-23T11:51:56.928Z"
   },
   {
    "duration": 7192,
    "start_time": "2022-01-23T11:51:56.946Z"
   },
   {
    "duration": 6,
    "start_time": "2022-01-23T11:52:04.140Z"
   },
   {
    "duration": 2457,
    "start_time": "2022-01-23T11:52:04.148Z"
   },
   {
    "duration": 562,
    "start_time": "2022-01-23T11:52:06.607Z"
   },
   {
    "duration": 5,
    "start_time": "2022-01-23T11:52:07.171Z"
   },
   {
    "duration": 10,
    "start_time": "2022-01-23T11:52:07.177Z"
   },
   {
    "duration": 4,
    "start_time": "2022-01-23T11:52:07.197Z"
   },
   {
    "duration": 6,
    "start_time": "2022-01-23T11:52:07.203Z"
   },
   {
    "duration": 6,
    "start_time": "2022-01-23T11:52:07.211Z"
   },
   {
    "duration": 1075,
    "start_time": "2022-01-23T11:52:07.219Z"
   },
   {
    "duration": 11,
    "start_time": "2022-01-23T11:52:08.296Z"
   },
   {
    "duration": 29,
    "start_time": "2022-01-23T11:52:08.309Z"
   },
   {
    "duration": 5,
    "start_time": "2022-01-23T11:52:08.339Z"
   },
   {
    "duration": 9,
    "start_time": "2022-01-23T11:52:08.346Z"
   },
   {
    "duration": 11,
    "start_time": "2022-01-23T11:52:08.357Z"
   },
   {
    "duration": 28,
    "start_time": "2022-01-23T11:52:08.370Z"
   },
   {
    "duration": 5,
    "start_time": "2022-01-23T11:52:08.400Z"
   },
   {
    "duration": 20,
    "start_time": "2022-01-23T11:52:08.407Z"
   },
   {
    "duration": 396,
    "start_time": "2022-01-23T11:52:08.428Z"
   },
   {
    "duration": -188203,
    "start_time": "2022-01-23T11:55:17.029Z"
   },
   {
    "duration": -188207,
    "start_time": "2022-01-23T11:55:17.034Z"
   },
   {
    "duration": -188210,
    "start_time": "2022-01-23T11:55:17.038Z"
   },
   {
    "duration": -188212,
    "start_time": "2022-01-23T11:55:17.041Z"
   },
   {
    "duration": -188213,
    "start_time": "2022-01-23T11:55:17.043Z"
   },
   {
    "duration": -188215,
    "start_time": "2022-01-23T11:55:17.046Z"
   },
   {
    "duration": -188218,
    "start_time": "2022-01-23T11:55:17.050Z"
   },
   {
    "duration": -188219,
    "start_time": "2022-01-23T11:55:17.053Z"
   },
   {
    "duration": -188222,
    "start_time": "2022-01-23T11:55:17.057Z"
   },
   {
    "duration": -188226,
    "start_time": "2022-01-23T11:55:17.061Z"
   },
   {
    "duration": -188235,
    "start_time": "2022-01-23T11:55:17.071Z"
   },
   {
    "duration": 266,
    "start_time": "2022-01-23T11:54:35.252Z"
   },
   {
    "duration": 259,
    "start_time": "2022-01-23T11:54:42.102Z"
   },
   {
    "duration": 4,
    "start_time": "2022-01-23T11:54:52.163Z"
   },
   {
    "duration": 7,
    "start_time": "2022-01-23T11:55:13.871Z"
   },
   {
    "duration": 7,
    "start_time": "2022-01-23T11:55:22.053Z"
   },
   {
    "duration": 8,
    "start_time": "2022-01-23T11:55:29.418Z"
   },
   {
    "duration": 5,
    "start_time": "2022-01-23T11:55:41.705Z"
   },
   {
    "duration": 13,
    "start_time": "2022-01-23T11:56:14.809Z"
   },
   {
    "duration": 27,
    "start_time": "2022-01-23T11:56:35.534Z"
   },
   {
    "duration": 259,
    "start_time": "2022-01-23T11:58:16.965Z"
   },
   {
    "duration": 7,
    "start_time": "2022-01-23T11:58:26.195Z"
   },
   {
    "duration": 4,
    "start_time": "2022-01-23T11:59:06.735Z"
   },
   {
    "duration": 7,
    "start_time": "2022-01-23T11:59:13.417Z"
   },
   {
    "duration": 4,
    "start_time": "2022-01-23T11:59:33.370Z"
   },
   {
    "duration": 10,
    "start_time": "2022-01-23T11:59:54.844Z"
   },
   {
    "duration": 4,
    "start_time": "2022-01-23T12:00:32.654Z"
   },
   {
    "duration": 6,
    "start_time": "2022-01-23T12:02:04.968Z"
   },
   {
    "duration": 1072,
    "start_time": "2022-01-23T12:02:05.443Z"
   },
   {
    "duration": 9,
    "start_time": "2022-01-23T12:02:06.864Z"
   },
   {
    "duration": 4,
    "start_time": "2022-01-23T12:02:07.955Z"
   },
   {
    "duration": 7,
    "start_time": "2022-01-23T12:02:09.566Z"
   },
   {
    "duration": 4,
    "start_time": "2022-01-23T12:02:10.774Z"
   },
   {
    "duration": 9,
    "start_time": "2022-01-23T12:02:12.055Z"
   },
   {
    "duration": 5,
    "start_time": "2022-01-23T12:02:12.697Z"
   },
   {
    "duration": 4,
    "start_time": "2022-01-23T12:06:29.880Z"
   },
   {
    "duration": 3,
    "start_time": "2022-01-23T12:06:41.341Z"
   },
   {
    "duration": 3530,
    "start_time": "2022-01-23T12:06:42.813Z"
   },
   {
    "duration": 3,
    "start_time": "2022-01-23T12:06:57.637Z"
   },
   {
    "duration": 3396,
    "start_time": "2022-01-23T12:06:58.154Z"
   },
   {
    "duration": 8,
    "start_time": "2022-01-23T12:07:17.321Z"
   },
   {
    "duration": 4,
    "start_time": "2022-01-23T12:07:44.831Z"
   },
   {
    "duration": 1331,
    "start_time": "2022-01-23T12:07:46.068Z"
   },
   {
    "duration": 3,
    "start_time": "2022-01-23T12:08:16.189Z"
   },
   {
    "duration": 3457,
    "start_time": "2022-01-23T12:08:16.905Z"
   },
   {
    "duration": 4,
    "start_time": "2022-01-23T12:08:26.982Z"
   },
   {
    "duration": 1295,
    "start_time": "2022-01-23T12:08:27.565Z"
   },
   {
    "duration": 4,
    "start_time": "2022-01-23T12:09:19.134Z"
   },
   {
    "duration": 1045,
    "start_time": "2022-01-23T12:09:19.864Z"
   },
   {
    "duration": 8,
    "start_time": "2022-01-23T12:09:20.911Z"
   },
   {
    "duration": 4,
    "start_time": "2022-01-23T12:09:22.374Z"
   },
   {
    "duration": 7,
    "start_time": "2022-01-23T12:09:22.956Z"
   },
   {
    "duration": 3,
    "start_time": "2022-01-23T12:09:32.157Z"
   },
   {
    "duration": 1022,
    "start_time": "2022-01-23T12:09:32.545Z"
   },
   {
    "duration": 8,
    "start_time": "2022-01-23T12:09:33.569Z"
   },
   {
    "duration": 8,
    "start_time": "2022-01-23T12:09:33.579Z"
   },
   {
    "duration": 7,
    "start_time": "2022-01-23T12:09:34.425Z"
   },
   {
    "duration": 14,
    "start_time": "2022-01-23T12:11:51.370Z"
   },
   {
    "duration": 5,
    "start_time": "2022-01-23T12:12:34.580Z"
   },
   {
    "duration": 6,
    "start_time": "2022-01-23T12:12:50.450Z"
   },
   {
    "duration": 22,
    "start_time": "2022-01-23T12:12:55.539Z"
   },
   {
    "duration": 8,
    "start_time": "2022-01-23T12:24:08.855Z"
   },
   {
    "duration": 7,
    "start_time": "2022-01-23T12:24:16.667Z"
   },
   {
    "duration": 8,
    "start_time": "2022-01-23T12:24:23.526Z"
   },
   {
    "duration": 4,
    "start_time": "2022-01-23T12:24:38.881Z"
   },
   {
    "duration": 7,
    "start_time": "2022-01-23T12:26:00.653Z"
   },
   {
    "duration": 11,
    "start_time": "2022-01-23T12:26:00.782Z"
   },
   {
    "duration": 7,
    "start_time": "2022-01-23T12:27:51.457Z"
   },
   {
    "duration": 8,
    "start_time": "2022-01-23T12:27:54.102Z"
   },
   {
    "duration": 6674,
    "start_time": "2022-01-23T12:28:20.977Z"
   },
   {
    "duration": 7080,
    "start_time": "2022-01-23T12:28:36.457Z"
   },
   {
    "duration": 5206,
    "start_time": "2022-01-23T12:28:50.249Z"
   },
   {
    "duration": 6517,
    "start_time": "2022-01-23T12:29:43.767Z"
   },
   {
    "duration": 94,
    "start_time": "2022-01-23T12:36:12.758Z"
   },
   {
    "duration": 7364,
    "start_time": "2022-01-23T12:36:34.178Z"
   },
   {
    "duration": 9,
    "start_time": "2022-01-23T12:37:22.987Z"
   },
   {
    "duration": 6713,
    "start_time": "2022-01-23T12:38:30.633Z"
   },
   {
    "duration": 5,
    "start_time": "2022-01-23T12:39:40.146Z"
   },
   {
    "duration": 11,
    "start_time": "2022-01-23T12:39:46.533Z"
   },
   {
    "duration": 5,
    "start_time": "2022-01-23T12:44:21.828Z"
   },
   {
    "duration": 5,
    "start_time": "2022-01-23T12:44:30.631Z"
   },
   {
    "duration": 251,
    "start_time": "2022-01-23T12:44:53.854Z"
   },
   {
    "duration": 5,
    "start_time": "2022-01-23T12:44:59.638Z"
   },
   {
    "duration": 5,
    "start_time": "2022-01-23T12:45:10.005Z"
   },
   {
    "duration": 5,
    "start_time": "2022-01-23T12:45:13.719Z"
   },
   {
    "duration": 4,
    "start_time": "2022-01-23T12:45:16.917Z"
   },
   {
    "duration": 5,
    "start_time": "2022-01-23T12:45:19.823Z"
   },
   {
    "duration": 5,
    "start_time": "2022-01-23T12:57:58.801Z"
   },
   {
    "duration": 295,
    "start_time": "2022-01-23T12:58:15.912Z"
   },
   {
    "duration": 5,
    "start_time": "2022-01-23T12:59:11.288Z"
   },
   {
    "duration": 7315,
    "start_time": "2022-01-23T13:00:27.243Z"
   },
   {
    "duration": 6581,
    "start_time": "2022-01-23T13:01:06.888Z"
   },
   {
    "duration": 303,
    "start_time": "2022-01-23T13:01:26.129Z"
   },
   {
    "duration": 8,
    "start_time": "2022-01-23T13:01:31.511Z"
   },
   {
    "duration": 329,
    "start_time": "2022-01-23T13:01:39.425Z"
   },
   {
    "duration": 8,
    "start_time": "2022-01-23T13:01:46.900Z"
   },
   {
    "duration": 6,
    "start_time": "2022-01-23T13:02:07.915Z"
   },
   {
    "duration": 8,
    "start_time": "2022-01-23T13:02:18.854Z"
   },
   {
    "duration": 6,
    "start_time": "2022-01-23T13:02:24.254Z"
   },
   {
    "duration": 7,
    "start_time": "2022-01-23T13:02:29.565Z"
   },
   {
    "duration": 7,
    "start_time": "2022-01-23T13:02:59.998Z"
   },
   {
    "duration": 7,
    "start_time": "2022-01-23T13:03:06.326Z"
   },
   {
    "duration": 6,
    "start_time": "2022-01-23T13:03:15.582Z"
   },
   {
    "duration": 6,
    "start_time": "2022-01-23T13:03:27.779Z"
   },
   {
    "duration": 283,
    "start_time": "2022-01-23T13:04:11.623Z"
   },
   {
    "duration": 335,
    "start_time": "2022-01-23T13:09:48.980Z"
   },
   {
    "duration": 17,
    "start_time": "2022-01-23T13:10:12.927Z"
   },
   {
    "duration": 7,
    "start_time": "2022-01-23T13:10:13.653Z"
   },
   {
    "duration": 6909,
    "start_time": "2022-01-23T13:11:12.940Z"
   },
   {
    "duration": 5,
    "start_time": "2022-01-23T13:11:34.387Z"
   },
   {
    "duration": 6679,
    "start_time": "2022-01-23T13:11:45.578Z"
   },
   {
    "duration": 7,
    "start_time": "2022-01-23T13:11:52.964Z"
   },
   {
    "duration": 285,
    "start_time": "2022-01-23T13:13:29.707Z"
   },
   {
    "duration": 6,
    "start_time": "2022-01-23T13:13:33.206Z"
   },
   {
    "duration": 5,
    "start_time": "2022-01-23T13:14:51.399Z"
   },
   {
    "duration": 5,
    "start_time": "2022-01-23T13:15:50.144Z"
   },
   {
    "duration": 7,
    "start_time": "2022-01-23T13:15:53.986Z"
   },
   {
    "duration": 276,
    "start_time": "2022-01-23T13:16:03.541Z"
   },
   {
    "duration": 265,
    "start_time": "2022-01-23T13:16:29.741Z"
   },
   {
    "duration": 583,
    "start_time": "2022-01-23T13:16:40.157Z"
   },
   {
    "duration": 5,
    "start_time": "2022-01-23T13:16:47.806Z"
   },
   {
    "duration": 6,
    "start_time": "2022-01-23T13:18:08.972Z"
   },
   {
    "duration": 6,
    "start_time": "2022-01-23T13:18:32.841Z"
   },
   {
    "duration": 7,
    "start_time": "2022-01-23T13:18:45.190Z"
   },
   {
    "duration": 261,
    "start_time": "2022-01-23T13:18:58.868Z"
   },
   {
    "duration": 7,
    "start_time": "2022-01-23T13:20:02.781Z"
   },
   {
    "duration": 7,
    "start_time": "2022-01-23T13:20:07.344Z"
   },
   {
    "duration": 6,
    "start_time": "2022-01-23T13:20:13.722Z"
   },
   {
    "duration": 96,
    "start_time": "2022-01-23T13:20:22.890Z"
   },
   {
    "duration": 7,
    "start_time": "2022-01-23T13:20:26.929Z"
   },
   {
    "duration": 5,
    "start_time": "2022-01-23T13:20:49.635Z"
   },
   {
    "duration": 5,
    "start_time": "2022-01-23T13:21:05.888Z"
   },
   {
    "duration": 5,
    "start_time": "2022-01-23T13:21:13.095Z"
   },
   {
    "duration": 6,
    "start_time": "2022-01-23T13:21:16.629Z"
   },
   {
    "duration": 7,
    "start_time": "2022-01-23T13:21:33.175Z"
   },
   {
    "duration": 97,
    "start_time": "2022-01-23T13:22:20.421Z"
   },
   {
    "duration": 7,
    "start_time": "2022-01-23T13:22:24.322Z"
   },
   {
    "duration": 6,
    "start_time": "2022-01-23T13:22:38.312Z"
   },
   {
    "duration": 13,
    "start_time": "2022-01-23T14:40:51.542Z"
   },
   {
    "duration": 4286,
    "start_time": "2022-01-23T14:41:34.045Z"
   },
   {
    "duration": 14,
    "start_time": "2022-01-23T14:51:04.000Z"
   },
   {
    "duration": 8,
    "start_time": "2022-01-23T14:51:04.821Z"
   },
   {
    "duration": 6,
    "start_time": "2022-01-23T14:51:05.638Z"
   },
   {
    "duration": 6,
    "start_time": "2022-01-23T14:51:06.540Z"
   },
   {
    "duration": 4817,
    "start_time": "2022-01-23T14:51:12.913Z"
   },
   {
    "duration": 86,
    "start_time": "2022-01-23T15:28:54.829Z"
   },
   {
    "duration": 10,
    "start_time": "2022-01-23T15:29:12.702Z"
   },
   {
    "duration": 11,
    "start_time": "2022-01-23T15:29:25.230Z"
   },
   {
    "duration": 83,
    "start_time": "2022-01-23T15:30:53.185Z"
   },
   {
    "duration": 10,
    "start_time": "2022-01-23T15:30:57.648Z"
   },
   {
    "duration": 6,
    "start_time": "2022-01-23T15:31:14.552Z"
   },
   {
    "duration": 10,
    "start_time": "2022-01-23T15:36:10.865Z"
   },
   {
    "duration": 14,
    "start_time": "2022-01-23T15:36:59.879Z"
   },
   {
    "duration": 9,
    "start_time": "2022-01-23T16:34:10.762Z"
   },
   {
    "duration": 6,
    "start_time": "2022-01-23T16:34:11.111Z"
   },
   {
    "duration": 703,
    "start_time": "2022-01-23T16:36:05.507Z"
   },
   {
    "duration": 11,
    "start_time": "2022-01-23T16:36:19.216Z"
   },
   {
    "duration": 7,
    "start_time": "2022-01-23T16:36:20.834Z"
   },
   {
    "duration": 10,
    "start_time": "2022-01-23T16:36:38.414Z"
   },
   {
    "duration": 8,
    "start_time": "2022-01-23T16:36:38.635Z"
   },
   {
    "duration": 7,
    "start_time": "2022-01-23T16:36:48.802Z"
   },
   {
    "duration": 10,
    "start_time": "2022-01-23T16:36:50.761Z"
   },
   {
    "duration": 7,
    "start_time": "2022-01-23T16:36:50.969Z"
   },
   {
    "duration": 9,
    "start_time": "2022-01-23T16:36:59.275Z"
   },
   {
    "duration": 6,
    "start_time": "2022-01-23T16:36:59.472Z"
   },
   {
    "duration": 10,
    "start_time": "2022-01-23T16:37:07.340Z"
   },
   {
    "duration": 7,
    "start_time": "2022-01-23T16:37:07.505Z"
   },
   {
    "duration": 298,
    "start_time": "2022-01-23T16:39:10.164Z"
   },
   {
    "duration": -188078,
    "start_time": "2022-01-23T16:42:18.542Z"
   },
   {
    "duration": 10,
    "start_time": "2022-01-23T16:39:19.049Z"
   },
   {
    "duration": 7,
    "start_time": "2022-01-23T16:39:19.639Z"
   },
   {
    "duration": 281,
    "start_time": "2022-01-23T16:41:07.791Z"
   },
   {
    "duration": -188088,
    "start_time": "2022-01-23T16:44:16.163Z"
   },
   {
    "duration": 292,
    "start_time": "2022-01-23T16:41:20.120Z"
   },
   {
    "duration": -188025,
    "start_time": "2022-01-23T16:44:28.438Z"
   },
   {
    "duration": 11,
    "start_time": "2022-01-23T16:41:27.054Z"
   },
   {
    "duration": 8,
    "start_time": "2022-01-23T16:41:27.214Z"
   },
   {
    "duration": 10,
    "start_time": "2022-01-23T16:43:02.659Z"
   },
   {
    "duration": 8,
    "start_time": "2022-01-23T16:43:02.799Z"
   },
   {
    "duration": 10,
    "start_time": "2022-01-23T16:43:08.893Z"
   },
   {
    "duration": 7,
    "start_time": "2022-01-23T16:43:09.026Z"
   },
   {
    "duration": 11,
    "start_time": "2022-01-23T16:43:31.310Z"
   },
   {
    "duration": 7,
    "start_time": "2022-01-23T16:43:31.443Z"
   },
   {
    "duration": 14,
    "start_time": "2022-01-23T16:45:30.613Z"
   },
   {
    "duration": 8,
    "start_time": "2022-01-23T16:45:30.654Z"
   },
   {
    "duration": 3,
    "start_time": "2022-01-23T16:46:56.175Z"
   },
   {
    "duration": 13,
    "start_time": "2022-01-23T16:47:06.669Z"
   },
   {
    "duration": 7,
    "start_time": "2022-01-23T16:47:06.887Z"
   },
   {
    "duration": 5974,
    "start_time": "2022-01-23T16:49:31.020Z"
   },
   {
    "duration": 11,
    "start_time": "2022-01-23T16:50:15.047Z"
   },
   {
    "duration": 8,
    "start_time": "2022-01-23T16:50:16.714Z"
   },
   {
    "duration": 13,
    "start_time": "2022-01-23T17:04:36.330Z"
   },
   {
    "duration": 8,
    "start_time": "2022-01-23T17:04:37.362Z"
   },
   {
    "duration": 2,
    "start_time": "2022-01-23T17:04:44.882Z"
   },
   {
    "duration": 13,
    "start_time": "2022-01-23T17:04:45.309Z"
   },
   {
    "duration": 8,
    "start_time": "2022-01-23T17:04:45.764Z"
   },
   {
    "duration": 7,
    "start_time": "2022-01-23T17:04:56.790Z"
   },
   {
    "duration": 11,
    "start_time": "2022-01-23T17:05:00.758Z"
   },
   {
    "duration": 9,
    "start_time": "2022-01-23T17:05:03.386Z"
   },
   {
    "duration": 5,
    "start_time": "2022-01-23T17:05:17.951Z"
   },
   {
    "duration": 5,
    "start_time": "2022-01-23T17:05:37.859Z"
   },
   {
    "duration": 4,
    "start_time": "2022-01-23T17:05:45.762Z"
   },
   {
    "duration": 3826,
    "start_time": "2022-01-23T17:06:25.953Z"
   },
   {
    "duration": 4,
    "start_time": "2022-01-23T17:06:30.514Z"
   },
   {
    "duration": 1910,
    "start_time": "2022-01-23T17:06:48.047Z"
   },
   {
    "duration": 5,
    "start_time": "2022-01-23T17:06:53.493Z"
   },
   {
    "duration": 5,
    "start_time": "2022-01-23T17:07:07.396Z"
   },
   {
    "duration": 4,
    "start_time": "2022-01-23T17:07:12.732Z"
   },
   {
    "duration": 1810,
    "start_time": "2022-01-23T17:07:40.758Z"
   },
   {
    "duration": 2737,
    "start_time": "2022-01-23T17:07:59.909Z"
   },
   {
    "duration": 5135,
    "start_time": "2022-01-23T17:08:18.950Z"
   },
   {
    "duration": 1779,
    "start_time": "2022-01-23T17:08:34.948Z"
   },
   {
    "duration": 4,
    "start_time": "2022-01-23T17:09:29.677Z"
   },
   {
    "duration": 5032,
    "start_time": "2022-01-23T17:09:41.257Z"
   },
   {
    "duration": 10624,
    "start_time": "2022-01-23T17:10:20.948Z"
   },
   {
    "duration": 4,
    "start_time": "2022-01-23T17:10:45.166Z"
   },
   {
    "duration": 4,
    "start_time": "2022-01-23T17:11:00.634Z"
   },
   {
    "duration": 6841,
    "start_time": "2022-01-23T17:11:53.302Z"
   },
   {
    "duration": 8,
    "start_time": "2022-01-23T17:13:13.913Z"
   },
   {
    "duration": 13,
    "start_time": "2022-01-23T17:13:39.126Z"
   },
   {
    "duration": 7,
    "start_time": "2022-01-23T17:13:39.283Z"
   },
   {
    "duration": 4,
    "start_time": "2022-01-23T17:13:41.390Z"
   },
   {
    "duration": 4,
    "start_time": "2022-01-23T17:13:41.871Z"
   },
   {
    "duration": 4,
    "start_time": "2022-01-23T17:13:47.538Z"
   },
   {
    "duration": 4,
    "start_time": "2022-01-23T17:13:49.237Z"
   },
   {
    "duration": 5,
    "start_time": "2022-01-23T17:13:49.702Z"
   },
   {
    "duration": 9,
    "start_time": "2022-01-23T17:13:57.759Z"
   },
   {
    "duration": 5,
    "start_time": "2022-01-23T17:14:23.468Z"
   },
   {
    "duration": 13,
    "start_time": "2022-01-23T18:24:08.946Z"
   },
   {
    "duration": 268,
    "start_time": "2022-01-23T18:24:13.860Z"
   },
   {
    "duration": 299,
    "start_time": "2022-01-23T18:24:22.314Z"
   },
   {
    "duration": 255,
    "start_time": "2022-01-23T18:25:40.217Z"
   },
   {
    "duration": 5,
    "start_time": "2022-01-23T18:25:50.271Z"
   },
   {
    "duration": 15,
    "start_time": "2022-01-23T18:25:51.978Z"
   },
   {
    "duration": 7,
    "start_time": "2022-01-23T18:25:56.273Z"
   },
   {
    "duration": 279,
    "start_time": "2022-01-23T18:27:37.805Z"
   },
   {
    "duration": 4,
    "start_time": "2022-01-23T18:27:54.578Z"
   },
   {
    "duration": 5,
    "start_time": "2022-01-23T18:27:58.675Z"
   },
   {
    "duration": 3,
    "start_time": "2022-01-23T18:28:13.061Z"
   },
   {
    "duration": 5,
    "start_time": "2022-01-23T18:28:59.236Z"
   },
   {
    "duration": 9,
    "start_time": "2022-01-23T18:30:04.734Z"
   },
   {
    "duration": 8,
    "start_time": "2022-01-23T18:31:29.066Z"
   },
   {
    "duration": 650,
    "start_time": "2022-01-23T18:35:54.234Z"
   },
   {
    "duration": 673,
    "start_time": "2022-01-23T18:36:12.649Z"
   },
   {
    "duration": 19,
    "start_time": "2022-01-23T18:36:13.325Z"
   },
   {
    "duration": 9,
    "start_time": "2022-01-23T18:36:13.345Z"
   },
   {
    "duration": 7,
    "start_time": "2022-01-23T18:36:13.356Z"
   },
   {
    "duration": 42,
    "start_time": "2022-01-23T18:36:13.365Z"
   },
   {
    "duration": 32,
    "start_time": "2022-01-23T18:36:13.410Z"
   },
   {
    "duration": 4,
    "start_time": "2022-01-23T18:36:13.444Z"
   },
   {
    "duration": 4,
    "start_time": "2022-01-23T18:36:13.451Z"
   },
   {
    "duration": 4,
    "start_time": "2022-01-23T18:36:13.457Z"
   },
   {
    "duration": 63,
    "start_time": "2022-01-23T18:36:13.462Z"
   },
   {
    "duration": 57,
    "start_time": "2022-01-23T18:36:13.526Z"
   },
   {
    "duration": 16,
    "start_time": "2022-01-23T18:36:13.585Z"
   },
   {
    "duration": 34,
    "start_time": "2022-01-23T18:36:13.602Z"
   },
   {
    "duration": 29,
    "start_time": "2022-01-23T18:36:13.638Z"
   },
   {
    "duration": 3,
    "start_time": "2022-01-23T18:36:13.669Z"
   },
   {
    "duration": 14,
    "start_time": "2022-01-23T18:36:13.673Z"
   },
   {
    "duration": 24,
    "start_time": "2022-01-23T18:36:13.688Z"
   },
   {
    "duration": 21,
    "start_time": "2022-01-23T18:36:13.714Z"
   },
   {
    "duration": 5,
    "start_time": "2022-01-23T18:36:13.737Z"
   },
   {
    "duration": 12,
    "start_time": "2022-01-23T18:36:13.744Z"
   },
   {
    "duration": 20,
    "start_time": "2022-01-23T18:36:13.758Z"
   },
   {
    "duration": 42,
    "start_time": "2022-01-23T18:36:13.780Z"
   },
   {
    "duration": 15,
    "start_time": "2022-01-23T18:36:13.828Z"
   },
   {
    "duration": 7487,
    "start_time": "2022-01-23T18:36:13.846Z"
   },
   {
    "duration": 4,
    "start_time": "2022-01-23T18:36:21.335Z"
   },
   {
    "duration": 2611,
    "start_time": "2022-01-23T18:36:21.341Z"
   },
   {
    "duration": 614,
    "start_time": "2022-01-23T18:36:23.954Z"
   },
   {
    "duration": 4,
    "start_time": "2022-01-23T18:36:24.570Z"
   },
   {
    "duration": 9,
    "start_time": "2022-01-23T18:36:24.575Z"
   },
   {
    "duration": 16,
    "start_time": "2022-01-23T18:36:24.586Z"
   },
   {
    "duration": 5,
    "start_time": "2022-01-23T18:36:24.610Z"
   },
   {
    "duration": 19,
    "start_time": "2022-01-23T18:36:24.617Z"
   },
   {
    "duration": 1216,
    "start_time": "2022-01-23T18:36:24.637Z"
   },
   {
    "duration": 12,
    "start_time": "2022-01-23T18:36:25.854Z"
   },
   {
    "duration": 38,
    "start_time": "2022-01-23T18:36:25.867Z"
   },
   {
    "duration": 23,
    "start_time": "2022-01-23T18:36:25.907Z"
   },
   {
    "duration": 9,
    "start_time": "2022-01-23T18:36:25.931Z"
   },
   {
    "duration": 13,
    "start_time": "2022-01-23T18:36:25.941Z"
   },
   {
    "duration": 11,
    "start_time": "2022-01-23T18:36:25.956Z"
   },
   {
    "duration": 13,
    "start_time": "2022-01-23T18:36:25.968Z"
   },
   {
    "duration": 7,
    "start_time": "2022-01-23T18:36:25.983Z"
   },
   {
    "duration": 15,
    "start_time": "2022-01-23T18:36:25.992Z"
   },
   {
    "duration": 21,
    "start_time": "2022-01-23T18:36:26.009Z"
   },
   {
    "duration": 8,
    "start_time": "2022-01-23T18:36:26.032Z"
   },
   {
    "duration": 6,
    "start_time": "2022-01-23T18:36:26.041Z"
   },
   {
    "duration": 16,
    "start_time": "2022-01-23T18:36:26.049Z"
   },
   {
    "duration": 6,
    "start_time": "2022-01-23T18:36:26.067Z"
   },
   {
    "duration": 8,
    "start_time": "2022-01-23T18:36:26.074Z"
   },
   {
    "duration": 28,
    "start_time": "2022-01-23T18:36:26.084Z"
   },
   {
    "duration": 4299,
    "start_time": "2022-01-23T18:36:26.113Z"
   },
   {
    "duration": 16,
    "start_time": "2022-01-23T18:36:30.414Z"
   },
   {
    "duration": 18,
    "start_time": "2022-01-23T18:36:30.432Z"
   },
   {
    "duration": 8,
    "start_time": "2022-01-23T18:36:30.452Z"
   },
   {
    "duration": 14,
    "start_time": "2022-01-23T18:36:30.462Z"
   },
   {
    "duration": 425,
    "start_time": "2022-01-23T18:36:30.478Z"
   },
   {
    "duration": -188029,
    "start_time": "2022-01-23T18:39:38.934Z"
   },
   {
    "duration": -188032,
    "start_time": "2022-01-23T18:39:38.938Z"
   },
   {
    "duration": 5,
    "start_time": "2022-01-23T19:53:31.287Z"
   },
   {
    "duration": 262,
    "start_time": "2022-01-23T19:53:31.295Z"
   },
   {
    "duration": 5,
    "start_time": "2022-01-23T19:54:22.734Z"
   },
   {
    "duration": 248,
    "start_time": "2022-01-23T19:54:24.063Z"
   },
   {
    "duration": 11,
    "start_time": "2022-01-23T19:54:57.807Z"
   },
   {
    "duration": 249,
    "start_time": "2022-01-23T19:55:08.605Z"
   },
   {
    "duration": 5,
    "start_time": "2022-01-23T19:55:17.355Z"
   },
   {
    "duration": 14,
    "start_time": "2022-01-23T19:55:17.570Z"
   },
   {
    "duration": 6,
    "start_time": "2022-01-23T19:55:18.797Z"
   },
   {
    "duration": 87,
    "start_time": "2022-01-23T19:56:21.513Z"
   },
   {
    "duration": 268,
    "start_time": "2022-01-23T19:56:32.502Z"
   },
   {
    "duration": 5,
    "start_time": "2022-01-23T19:56:55.189Z"
   },
   {
    "duration": 6,
    "start_time": "2022-01-23T19:57:30.020Z"
   },
   {
    "duration": 5,
    "start_time": "2022-01-23T19:58:13.355Z"
   },
   {
    "duration": 7695,
    "start_time": "2022-01-23T19:58:21.021Z"
   },
   {
    "duration": 7,
    "start_time": "2022-01-23T19:59:07.410Z"
   },
   {
    "duration": 5,
    "start_time": "2022-01-23T19:59:17.983Z"
   },
   {
    "duration": 5,
    "start_time": "2022-01-23T20:15:22.461Z"
   },
   {
    "duration": 4,
    "start_time": "2022-01-23T20:15:32.592Z"
   },
   {
    "duration": 11,
    "start_time": "2022-01-23T20:16:00.723Z"
   },
   {
    "duration": 8,
    "start_time": "2022-01-23T20:16:05.681Z"
   },
   {
    "duration": 11,
    "start_time": "2022-01-23T20:16:20.534Z"
   },
   {
    "duration": 4,
    "start_time": "2022-01-23T20:22:12.170Z"
   },
   {
    "duration": 4219,
    "start_time": "2022-01-23T20:25:26.451Z"
   },
   {
    "duration": 10,
    "start_time": "2022-01-23T20:25:33.292Z"
   },
   {
    "duration": 16,
    "start_time": "2022-01-23T20:26:22.041Z"
   },
   {
    "duration": 266,
    "start_time": "2022-01-23T20:29:38.184Z"
   },
   {
    "duration": 5,
    "start_time": "2022-01-23T20:30:10.357Z"
   },
   {
    "duration": 12,
    "start_time": "2022-01-23T20:30:11.715Z"
   },
   {
    "duration": 4870,
    "start_time": "2022-01-23T20:30:12.761Z"
   },
   {
    "duration": 9,
    "start_time": "2022-01-23T20:30:17.633Z"
   },
   {
    "duration": 14,
    "start_time": "2022-01-23T20:30:23.359Z"
   },
   {
    "duration": 6,
    "start_time": "2022-01-23T20:30:25.683Z"
   },
   {
    "duration": 86,
    "start_time": "2022-01-23T20:31:25.550Z"
   },
   {
    "duration": 4,
    "start_time": "2022-01-23T20:32:20.341Z"
   },
   {
    "duration": 4,
    "start_time": "2022-01-23T20:32:54.020Z"
   },
   {
    "duration": 7,
    "start_time": "2022-01-23T20:33:10.486Z"
   },
   {
    "duration": 7,
    "start_time": "2022-01-23T20:33:16.891Z"
   },
   {
    "duration": 653,
    "start_time": "2022-01-23T20:49:27.526Z"
   },
   {
    "duration": 19,
    "start_time": "2022-01-23T20:49:28.180Z"
   },
   {
    "duration": 10,
    "start_time": "2022-01-23T20:49:28.201Z"
   },
   {
    "duration": 6,
    "start_time": "2022-01-23T20:49:28.213Z"
   },
   {
    "duration": 26,
    "start_time": "2022-01-23T20:49:28.221Z"
   },
   {
    "duration": 25,
    "start_time": "2022-01-23T20:49:28.248Z"
   },
   {
    "duration": 26,
    "start_time": "2022-01-23T20:49:28.275Z"
   },
   {
    "duration": 5,
    "start_time": "2022-01-23T20:49:28.303Z"
   },
   {
    "duration": 7,
    "start_time": "2022-01-23T20:49:28.309Z"
   },
   {
    "duration": 28,
    "start_time": "2022-01-23T20:49:28.318Z"
   },
   {
    "duration": 86,
    "start_time": "2022-01-23T20:49:28.347Z"
   },
   {
    "duration": 10,
    "start_time": "2022-01-23T20:49:28.434Z"
   },
   {
    "duration": 9,
    "start_time": "2022-01-23T20:49:28.446Z"
   },
   {
    "duration": 50,
    "start_time": "2022-01-23T20:49:28.457Z"
   },
   {
    "duration": 4,
    "start_time": "2022-01-23T20:49:28.508Z"
   },
   {
    "duration": 14,
    "start_time": "2022-01-23T20:49:28.513Z"
   },
   {
    "duration": 16,
    "start_time": "2022-01-23T20:49:28.528Z"
   },
   {
    "duration": 8,
    "start_time": "2022-01-23T20:49:28.545Z"
   },
   {
    "duration": 5,
    "start_time": "2022-01-23T20:49:28.554Z"
   },
   {
    "duration": 40,
    "start_time": "2022-01-23T20:49:28.560Z"
   },
   {
    "duration": 20,
    "start_time": "2022-01-23T20:49:28.601Z"
   },
   {
    "duration": 21,
    "start_time": "2022-01-23T20:49:28.622Z"
   },
   {
    "duration": 17,
    "start_time": "2022-01-23T20:49:28.648Z"
   },
   {
    "duration": 7245,
    "start_time": "2022-01-23T20:49:28.668Z"
   },
   {
    "duration": 5,
    "start_time": "2022-01-23T20:49:35.915Z"
   },
   {
    "duration": 2400,
    "start_time": "2022-01-23T20:49:35.922Z"
   },
   {
    "duration": 589,
    "start_time": "2022-01-23T20:49:38.324Z"
   },
   {
    "duration": 4,
    "start_time": "2022-01-23T20:49:38.914Z"
   },
   {
    "duration": 12,
    "start_time": "2022-01-23T20:49:38.920Z"
   },
   {
    "duration": 10,
    "start_time": "2022-01-23T20:49:38.933Z"
   },
   {
    "duration": 6,
    "start_time": "2022-01-23T20:49:38.944Z"
   },
   {
    "duration": 7,
    "start_time": "2022-01-23T20:49:38.952Z"
   },
   {
    "duration": 1013,
    "start_time": "2022-01-23T20:49:38.961Z"
   },
   {
    "duration": 12,
    "start_time": "2022-01-23T20:49:39.976Z"
   },
   {
    "duration": 25,
    "start_time": "2022-01-23T20:49:39.990Z"
   },
   {
    "duration": 5,
    "start_time": "2022-01-23T20:49:40.017Z"
   },
   {
    "duration": 6,
    "start_time": "2022-01-23T20:49:40.024Z"
   },
   {
    "duration": 8,
    "start_time": "2022-01-23T20:49:40.032Z"
   },
   {
    "duration": 10,
    "start_time": "2022-01-23T20:49:40.042Z"
   },
   {
    "duration": 47,
    "start_time": "2022-01-23T20:49:40.053Z"
   },
   {
    "duration": 7,
    "start_time": "2022-01-23T20:49:40.102Z"
   },
   {
    "duration": 7,
    "start_time": "2022-01-23T20:49:40.111Z"
   },
   {
    "duration": 14,
    "start_time": "2022-01-23T20:49:40.119Z"
   },
   {
    "duration": 19,
    "start_time": "2022-01-23T20:49:40.135Z"
   },
   {
    "duration": 16,
    "start_time": "2022-01-23T20:49:40.156Z"
   },
   {
    "duration": 18,
    "start_time": "2022-01-23T20:49:40.174Z"
   },
   {
    "duration": 6,
    "start_time": "2022-01-23T20:49:40.194Z"
   },
   {
    "duration": 11,
    "start_time": "2022-01-23T20:49:40.202Z"
   },
   {
    "duration": 10,
    "start_time": "2022-01-23T20:49:40.215Z"
   },
   {
    "duration": 18,
    "start_time": "2022-01-23T20:49:40.227Z"
   },
   {
    "duration": 4611,
    "start_time": "2022-01-23T20:49:40.246Z"
   },
   {
    "duration": 9,
    "start_time": "2022-01-23T20:49:44.859Z"
   },
   {
    "duration": 16,
    "start_time": "2022-01-23T20:49:44.870Z"
   },
   {
    "duration": 6,
    "start_time": "2022-01-23T20:49:44.898Z"
   },
   {
    "duration": 7,
    "start_time": "2022-01-23T20:49:44.905Z"
   },
   {
    "duration": 7,
    "start_time": "2022-01-23T20:49:44.914Z"
   },
   {
    "duration": 15,
    "start_time": "2022-01-23T20:49:44.922Z"
   },
   {
    "duration": 5,
    "start_time": "2022-01-23T20:49:44.939Z"
   },
   {
    "duration": 7,
    "start_time": "2022-01-23T20:49:44.946Z"
   },
   {
    "duration": 636,
    "start_time": "2022-01-24T16:34:57.654Z"
   },
   {
    "duration": 18,
    "start_time": "2022-01-24T16:34:58.292Z"
   },
   {
    "duration": 11,
    "start_time": "2022-01-24T16:34:58.313Z"
   },
   {
    "duration": 7,
    "start_time": "2022-01-24T16:34:58.327Z"
   },
   {
    "duration": 24,
    "start_time": "2022-01-24T16:34:58.336Z"
   },
   {
    "duration": 53,
    "start_time": "2022-01-24T16:34:58.362Z"
   },
   {
    "duration": 7,
    "start_time": "2022-01-24T16:34:58.418Z"
   },
   {
    "duration": 6,
    "start_time": "2022-01-24T16:34:58.429Z"
   },
   {
    "duration": 3,
    "start_time": "2022-01-24T16:34:58.438Z"
   },
   {
    "duration": 33,
    "start_time": "2022-01-24T16:34:58.443Z"
   },
   {
    "duration": 91,
    "start_time": "2022-01-24T16:34:58.478Z"
   },
   {
    "duration": 9,
    "start_time": "2022-01-24T16:34:58.571Z"
   },
   {
    "duration": 9,
    "start_time": "2022-01-24T16:34:58.581Z"
   },
   {
    "duration": 50,
    "start_time": "2022-01-24T16:34:58.591Z"
   },
   {
    "duration": 3,
    "start_time": "2022-01-24T16:34:58.642Z"
   },
   {
    "duration": 14,
    "start_time": "2022-01-24T16:34:58.646Z"
   },
   {
    "duration": 14,
    "start_time": "2022-01-24T16:34:58.661Z"
   },
   {
    "duration": 7,
    "start_time": "2022-01-24T16:34:58.677Z"
   },
   {
    "duration": 27,
    "start_time": "2022-01-24T16:34:58.686Z"
   },
   {
    "duration": 17,
    "start_time": "2022-01-24T16:34:58.715Z"
   },
   {
    "duration": 19,
    "start_time": "2022-01-24T16:34:58.733Z"
   },
   {
    "duration": 19,
    "start_time": "2022-01-24T16:34:58.754Z"
   },
   {
    "duration": 48,
    "start_time": "2022-01-24T16:34:58.777Z"
   },
   {
    "duration": 7530,
    "start_time": "2022-01-24T16:34:58.828Z"
   },
   {
    "duration": 6,
    "start_time": "2022-01-24T16:35:06.360Z"
   },
   {
    "duration": 2512,
    "start_time": "2022-01-24T16:35:06.368Z"
   },
   {
    "duration": 602,
    "start_time": "2022-01-24T16:35:08.882Z"
   },
   {
    "duration": 4,
    "start_time": "2022-01-24T16:35:09.486Z"
   },
   {
    "duration": 14,
    "start_time": "2022-01-24T16:35:09.491Z"
   },
   {
    "duration": 5,
    "start_time": "2022-01-24T16:35:09.512Z"
   },
   {
    "duration": 9,
    "start_time": "2022-01-24T16:35:09.521Z"
   },
   {
    "duration": 5,
    "start_time": "2022-01-24T16:35:09.531Z"
   },
   {
    "duration": 1052,
    "start_time": "2022-01-24T16:35:09.537Z"
   },
   {
    "duration": 11,
    "start_time": "2022-01-24T16:35:10.590Z"
   },
   {
    "duration": 33,
    "start_time": "2022-01-24T16:35:10.603Z"
   },
   {
    "duration": 5,
    "start_time": "2022-01-24T16:35:10.637Z"
   },
   {
    "duration": 6,
    "start_time": "2022-01-24T16:35:10.643Z"
   },
   {
    "duration": 5,
    "start_time": "2022-01-24T16:35:10.651Z"
   },
   {
    "duration": 9,
    "start_time": "2022-01-24T16:35:10.658Z"
   },
   {
    "duration": 44,
    "start_time": "2022-01-24T16:35:10.668Z"
   },
   {
    "duration": 12,
    "start_time": "2022-01-24T16:35:10.716Z"
   },
   {
    "duration": 5,
    "start_time": "2022-01-24T16:35:10.730Z"
   },
   {
    "duration": 6,
    "start_time": "2022-01-24T16:35:10.736Z"
   },
   {
    "duration": 8,
    "start_time": "2022-01-24T16:35:10.743Z"
   },
   {
    "duration": 11,
    "start_time": "2022-01-24T16:35:20.463Z"
   },
   {
    "duration": 18,
    "start_time": "2022-01-24T16:35:25.015Z"
   },
   {
    "duration": 16,
    "start_time": "2022-01-24T16:35:31.904Z"
   },
   {
    "duration": 5295,
    "start_time": "2022-01-24T20:35:34.237Z"
   },
   {
    "duration": 5114,
    "start_time": "2022-01-24T20:35:39.859Z"
   },
   {
    "duration": 1166,
    "start_time": "2022-01-24T20:35:51.499Z"
   },
   {
    "duration": 22,
    "start_time": "2022-01-24T20:35:52.668Z"
   },
   {
    "duration": 12,
    "start_time": "2022-01-24T20:35:52.692Z"
   },
   {
    "duration": 7,
    "start_time": "2022-01-24T20:35:52.707Z"
   },
   {
    "duration": 27,
    "start_time": "2022-01-24T20:35:53.205Z"
   },
   {
    "duration": 25,
    "start_time": "2022-01-24T20:35:55.238Z"
   },
   {
    "duration": 5,
    "start_time": "2022-01-24T20:35:56.344Z"
   },
   {
    "duration": 5,
    "start_time": "2022-01-24T20:35:56.920Z"
   },
   {
    "duration": 4,
    "start_time": "2022-01-24T20:35:57.417Z"
   },
   {
    "duration": 26,
    "start_time": "2022-01-24T20:35:57.603Z"
   },
   {
    "duration": 4,
    "start_time": "2022-01-24T20:35:59.322Z"
   },
   {
    "duration": 11,
    "start_time": "2022-01-24T20:36:01.927Z"
   },
   {
    "duration": 11,
    "start_time": "2022-01-24T20:36:05.905Z"
   },
   {
    "duration": 13,
    "start_time": "2022-01-24T20:36:10.457Z"
   },
   {
    "duration": 6470,
    "start_time": "2022-01-24T20:37:01.957Z"
   },
   {
    "duration": 4840,
    "start_time": "2022-01-24T20:37:13.906Z"
   },
   {
    "duration": 262,
    "start_time": "2022-01-24T20:37:21.105Z"
   },
   {
    "duration": 6641,
    "start_time": "2022-01-24T20:37:39.157Z"
   },
   {
    "duration": 8,
    "start_time": "2022-01-24T20:38:35.986Z"
   },
   {
    "duration": 5,
    "start_time": "2022-01-24T20:38:50.224Z"
   },
   {
    "duration": 5,
    "start_time": "2022-01-24T20:39:03.681Z"
   },
   {
    "duration": 5343,
    "start_time": "2022-01-24T21:07:02.377Z"
   },
   {
    "duration": 461,
    "start_time": "2022-01-24T21:07:56.963Z"
   },
   {
    "duration": 4,
    "start_time": "2022-01-24T21:08:08.133Z"
   },
   {
    "duration": 9,
    "start_time": "2022-01-24T21:08:12.503Z"
   },
   {
    "duration": 5,
    "start_time": "2022-01-24T21:08:28.305Z"
   },
   {
    "duration": 6,
    "start_time": "2022-01-24T21:08:42.674Z"
   },
   {
    "duration": 739,
    "start_time": "2022-01-24T21:09:52.591Z"
   },
   {
    "duration": 19,
    "start_time": "2022-01-24T21:09:53.332Z"
   },
   {
    "duration": 8,
    "start_time": "2022-01-24T21:09:53.354Z"
   },
   {
    "duration": 9,
    "start_time": "2022-01-24T21:09:53.364Z"
   },
   {
    "duration": 42,
    "start_time": "2022-01-24T21:09:53.375Z"
   },
   {
    "duration": 27,
    "start_time": "2022-01-24T21:09:53.419Z"
   },
   {
    "duration": 5,
    "start_time": "2022-01-24T21:09:53.448Z"
   },
   {
    "duration": 5,
    "start_time": "2022-01-24T21:09:53.456Z"
   },
   {
    "duration": 37,
    "start_time": "2022-01-24T21:09:53.463Z"
   },
   {
    "duration": 30,
    "start_time": "2022-01-24T21:09:53.502Z"
   },
   {
    "duration": 4,
    "start_time": "2022-01-24T21:09:53.534Z"
   },
   {
    "duration": 17,
    "start_time": "2022-01-24T21:09:53.540Z"
   },
   {
    "duration": 39,
    "start_time": "2022-01-24T21:09:53.560Z"
   },
   {
    "duration": 14,
    "start_time": "2022-01-24T21:09:53.601Z"
   },
   {
    "duration": 6,
    "start_time": "2022-01-24T21:09:53.617Z"
   },
   {
    "duration": 14,
    "start_time": "2022-01-24T21:09:53.624Z"
   },
   {
    "duration": 8,
    "start_time": "2022-01-24T21:09:53.639Z"
   },
   {
    "duration": 10,
    "start_time": "2022-01-24T21:09:53.648Z"
   },
   {
    "duration": 39,
    "start_time": "2022-01-24T21:09:53.660Z"
   },
   {
    "duration": 63,
    "start_time": "2022-01-24T21:09:53.701Z"
   },
   {
    "duration": 45,
    "start_time": "2022-01-24T21:09:53.767Z"
   },
   {
    "duration": 4,
    "start_time": "2022-01-24T21:09:53.814Z"
   },
   {
    "duration": 17,
    "start_time": "2022-01-24T21:09:53.822Z"
   },
   {
    "duration": 17,
    "start_time": "2022-01-24T21:09:53.842Z"
   },
   {
    "duration": 15,
    "start_time": "2022-01-24T21:09:53.861Z"
   },
   {
    "duration": 24,
    "start_time": "2022-01-24T21:09:53.878Z"
   },
   {
    "duration": 21,
    "start_time": "2022-01-24T21:09:53.903Z"
   },
   {
    "duration": 21,
    "start_time": "2022-01-24T21:09:53.926Z"
   },
   {
    "duration": 21,
    "start_time": "2022-01-24T21:09:53.949Z"
   },
   {
    "duration": 33,
    "start_time": "2022-01-24T21:09:53.972Z"
   },
   {
    "duration": 2439,
    "start_time": "2022-01-24T21:09:54.007Z"
   },
   {
    "duration": 6,
    "start_time": "2022-01-24T21:09:56.448Z"
   },
   {
    "duration": 2564,
    "start_time": "2022-01-24T21:09:56.456Z"
   },
   {
    "duration": 615,
    "start_time": "2022-01-24T21:09:59.023Z"
   },
   {
    "duration": 6,
    "start_time": "2022-01-24T21:09:59.640Z"
   },
   {
    "duration": 27,
    "start_time": "2022-01-24T21:09:59.648Z"
   },
   {
    "duration": 18,
    "start_time": "2022-01-24T21:09:59.678Z"
   },
   {
    "duration": 13,
    "start_time": "2022-01-24T21:09:59.698Z"
   },
   {
    "duration": 32,
    "start_time": "2022-01-24T21:09:59.712Z"
   },
   {
    "duration": 1076,
    "start_time": "2022-01-24T21:09:59.746Z"
   },
   {
    "duration": 13,
    "start_time": "2022-01-24T21:10:00.823Z"
   },
   {
    "duration": 20,
    "start_time": "2022-01-24T21:10:00.838Z"
   },
   {
    "duration": 6,
    "start_time": "2022-01-24T21:10:00.860Z"
   },
   {
    "duration": 31,
    "start_time": "2022-01-24T21:10:00.867Z"
   },
   {
    "duration": 6,
    "start_time": "2022-01-24T21:10:00.900Z"
   },
   {
    "duration": 18,
    "start_time": "2022-01-24T21:10:00.908Z"
   },
   {
    "duration": 20,
    "start_time": "2022-01-24T21:10:00.928Z"
   },
   {
    "duration": 10,
    "start_time": "2022-01-24T21:10:00.949Z"
   },
   {
    "duration": 8,
    "start_time": "2022-01-24T21:10:00.960Z"
   },
   {
    "duration": 8,
    "start_time": "2022-01-24T21:10:00.970Z"
   },
   {
    "duration": 9,
    "start_time": "2022-01-24T21:10:00.998Z"
   },
   {
    "duration": 15,
    "start_time": "2022-01-24T21:10:01.009Z"
   },
   {
    "duration": 14,
    "start_time": "2022-01-24T21:10:01.026Z"
   },
   {
    "duration": 14,
    "start_time": "2022-01-24T21:10:01.041Z"
   },
   {
    "duration": 4,
    "start_time": "2022-01-24T21:10:01.056Z"
   },
   {
    "duration": 49,
    "start_time": "2022-01-24T21:10:01.062Z"
   },
   {
    "duration": 7,
    "start_time": "2022-01-24T21:10:01.113Z"
   },
   {
    "duration": 10,
    "start_time": "2022-01-24T21:10:01.121Z"
   },
   {
    "duration": 15,
    "start_time": "2022-01-24T21:10:01.133Z"
   },
   {
    "duration": 20,
    "start_time": "2022-01-24T21:10:01.150Z"
   },
   {
    "duration": 4928,
    "start_time": "2022-01-24T21:10:01.172Z"
   },
   {
    "duration": 10,
    "start_time": "2022-01-24T21:10:06.102Z"
   },
   {
    "duration": 27,
    "start_time": "2022-01-24T21:10:06.114Z"
   },
   {
    "duration": 7,
    "start_time": "2022-01-24T21:10:06.143Z"
   },
   {
    "duration": 8,
    "start_time": "2022-01-24T21:10:06.152Z"
   },
   {
    "duration": 24,
    "start_time": "2022-01-24T21:10:06.162Z"
   },
   {
    "duration": 19,
    "start_time": "2022-01-24T21:10:06.189Z"
   },
   {
    "duration": 6,
    "start_time": "2022-01-24T21:10:06.214Z"
   },
   {
    "duration": 11,
    "start_time": "2022-01-24T21:10:06.222Z"
   },
   {
    "duration": 6,
    "start_time": "2022-01-24T21:10:27.628Z"
   },
   {
    "duration": 5,
    "start_time": "2022-01-24T21:10:34.097Z"
   },
   {
    "duration": 2855,
    "start_time": "2022-01-24T21:10:40.400Z"
   },
   {
    "duration": 5,
    "start_time": "2022-01-24T21:10:44.167Z"
   },
   {
    "duration": 700,
    "start_time": "2022-01-24T21:11:18.431Z"
   },
   {
    "duration": 20,
    "start_time": "2022-01-24T21:11:19.133Z"
   },
   {
    "duration": 11,
    "start_time": "2022-01-24T21:11:19.156Z"
   },
   {
    "duration": 14,
    "start_time": "2022-01-24T21:11:19.170Z"
   },
   {
    "duration": 23,
    "start_time": "2022-01-24T21:11:19.199Z"
   },
   {
    "duration": 25,
    "start_time": "2022-01-24T21:11:19.223Z"
   },
   {
    "duration": 4,
    "start_time": "2022-01-24T21:11:19.250Z"
   },
   {
    "duration": 43,
    "start_time": "2022-01-24T21:11:19.256Z"
   },
   {
    "duration": 4,
    "start_time": "2022-01-24T21:11:19.301Z"
   },
   {
    "duration": 33,
    "start_time": "2022-01-24T21:11:19.307Z"
   },
   {
    "duration": 4,
    "start_time": "2022-01-24T21:11:19.342Z"
   },
   {
    "duration": 33,
    "start_time": "2022-01-24T21:11:19.347Z"
   },
   {
    "duration": 10,
    "start_time": "2022-01-24T21:11:19.398Z"
   },
   {
    "duration": 32,
    "start_time": "2022-01-24T21:11:19.410Z"
   },
   {
    "duration": 7,
    "start_time": "2022-01-24T21:11:19.444Z"
   },
   {
    "duration": 13,
    "start_time": "2022-01-24T21:11:19.453Z"
   },
   {
    "duration": 5,
    "start_time": "2022-01-24T21:11:19.468Z"
   },
   {
    "duration": 24,
    "start_time": "2022-01-24T21:11:19.475Z"
   },
   {
    "duration": 5,
    "start_time": "2022-01-24T21:11:19.500Z"
   },
   {
    "duration": 5,
    "start_time": "2022-01-24T21:11:19.507Z"
   },
   {
    "duration": 31,
    "start_time": "2022-01-24T21:11:19.514Z"
   },
   {
    "duration": 3,
    "start_time": "2022-01-24T21:11:19.546Z"
   },
   {
    "duration": 52,
    "start_time": "2022-01-24T21:11:19.553Z"
   },
   {
    "duration": 19,
    "start_time": "2022-01-24T21:11:19.608Z"
   },
   {
    "duration": 10,
    "start_time": "2022-01-24T21:11:19.629Z"
   },
   {
    "duration": 334,
    "start_time": "2022-01-24T21:11:19.641Z"
   },
   {
    "duration": -188625,
    "start_time": "2022-01-24T21:14:28.602Z"
   },
   {
    "duration": -188627,
    "start_time": "2022-01-24T21:14:28.605Z"
   },
   {
    "duration": -188629,
    "start_time": "2022-01-24T21:14:28.608Z"
   },
   {
    "duration": -188631,
    "start_time": "2022-01-24T21:14:28.611Z"
   },
   {
    "duration": -188634,
    "start_time": "2022-01-24T21:14:28.615Z"
   },
   {
    "duration": -188636,
    "start_time": "2022-01-24T21:14:28.618Z"
   },
   {
    "duration": -188637,
    "start_time": "2022-01-24T21:14:28.620Z"
   },
   {
    "duration": -188639,
    "start_time": "2022-01-24T21:14:28.624Z"
   },
   {
    "duration": -188641,
    "start_time": "2022-01-24T21:14:28.627Z"
   },
   {
    "duration": -188644,
    "start_time": "2022-01-24T21:14:28.631Z"
   },
   {
    "duration": -188647,
    "start_time": "2022-01-24T21:14:28.634Z"
   },
   {
    "duration": -188649,
    "start_time": "2022-01-24T21:14:28.637Z"
   },
   {
    "duration": -188649,
    "start_time": "2022-01-24T21:14:28.639Z"
   },
   {
    "duration": -188651,
    "start_time": "2022-01-24T21:14:28.642Z"
   },
   {
    "duration": -188653,
    "start_time": "2022-01-24T21:14:28.646Z"
   },
   {
    "duration": -188655,
    "start_time": "2022-01-24T21:14:28.649Z"
   },
   {
    "duration": -188657,
    "start_time": "2022-01-24T21:14:28.652Z"
   },
   {
    "duration": -188667,
    "start_time": "2022-01-24T21:14:28.663Z"
   },
   {
    "duration": -188669,
    "start_time": "2022-01-24T21:14:28.666Z"
   },
   {
    "duration": -188671,
    "start_time": "2022-01-24T21:14:28.669Z"
   },
   {
    "duration": -188673,
    "start_time": "2022-01-24T21:14:28.672Z"
   },
   {
    "duration": -188675,
    "start_time": "2022-01-24T21:14:28.676Z"
   },
   {
    "duration": -188677,
    "start_time": "2022-01-24T21:14:28.679Z"
   },
   {
    "duration": -188679,
    "start_time": "2022-01-24T21:14:28.683Z"
   },
   {
    "duration": -188681,
    "start_time": "2022-01-24T21:14:28.686Z"
   },
   {
    "duration": -188683,
    "start_time": "2022-01-24T21:14:28.689Z"
   },
   {
    "duration": -188685,
    "start_time": "2022-01-24T21:14:28.692Z"
   },
   {
    "duration": -188687,
    "start_time": "2022-01-24T21:14:28.696Z"
   },
   {
    "duration": -188688,
    "start_time": "2022-01-24T21:14:28.698Z"
   },
   {
    "duration": -188691,
    "start_time": "2022-01-24T21:14:28.702Z"
   },
   {
    "duration": -188693,
    "start_time": "2022-01-24T21:14:28.705Z"
   },
   {
    "duration": -188695,
    "start_time": "2022-01-24T21:14:28.708Z"
   },
   {
    "duration": -188698,
    "start_time": "2022-01-24T21:14:28.712Z"
   },
   {
    "duration": -188701,
    "start_time": "2022-01-24T21:14:28.716Z"
   },
   {
    "duration": -188702,
    "start_time": "2022-01-24T21:14:28.719Z"
   },
   {
    "duration": -188704,
    "start_time": "2022-01-24T21:14:28.722Z"
   },
   {
    "duration": -188706,
    "start_time": "2022-01-24T21:14:28.725Z"
   },
   {
    "duration": -188708,
    "start_time": "2022-01-24T21:14:28.729Z"
   },
   {
    "duration": -188709,
    "start_time": "2022-01-24T21:14:28.731Z"
   },
   {
    "duration": -188712,
    "start_time": "2022-01-24T21:14:28.735Z"
   },
   {
    "duration": -188713,
    "start_time": "2022-01-24T21:14:28.737Z"
   },
   {
    "duration": -188714,
    "start_time": "2022-01-24T21:14:28.740Z"
   },
   {
    "duration": -188717,
    "start_time": "2022-01-24T21:14:28.744Z"
   },
   {
    "duration": 670,
    "start_time": "2022-01-24T21:11:33.773Z"
   },
   {
    "duration": 18,
    "start_time": "2022-01-24T21:11:34.445Z"
   },
   {
    "duration": 9,
    "start_time": "2022-01-24T21:11:34.466Z"
   },
   {
    "duration": 26,
    "start_time": "2022-01-24T21:11:34.478Z"
   },
   {
    "duration": 32,
    "start_time": "2022-01-24T21:11:34.506Z"
   },
   {
    "duration": 26,
    "start_time": "2022-01-24T21:11:34.540Z"
   },
   {
    "duration": 4,
    "start_time": "2022-01-24T21:11:34.568Z"
   },
   {
    "duration": 5,
    "start_time": "2022-01-24T21:11:34.599Z"
   },
   {
    "duration": 9,
    "start_time": "2022-01-24T21:11:34.606Z"
   },
   {
    "duration": 31,
    "start_time": "2022-01-24T21:11:34.616Z"
   },
   {
    "duration": 4,
    "start_time": "2022-01-24T21:11:34.648Z"
   },
   {
    "duration": 14,
    "start_time": "2022-01-24T21:11:34.654Z"
   },
   {
    "duration": 36,
    "start_time": "2022-01-24T21:11:34.670Z"
   },
   {
    "duration": 17,
    "start_time": "2022-01-24T21:11:34.707Z"
   },
   {
    "duration": 10,
    "start_time": "2022-01-24T21:11:34.725Z"
   },
   {
    "duration": 14,
    "start_time": "2022-01-24T21:11:34.737Z"
   },
   {
    "duration": 8,
    "start_time": "2022-01-24T21:11:34.753Z"
   },
   {
    "duration": 7,
    "start_time": "2022-01-24T21:11:34.762Z"
   },
   {
    "duration": 28,
    "start_time": "2022-01-24T21:11:34.771Z"
   },
   {
    "duration": 4,
    "start_time": "2022-01-24T21:11:34.801Z"
   },
   {
    "duration": 29,
    "start_time": "2022-01-24T21:11:34.807Z"
   },
   {
    "duration": 3,
    "start_time": "2022-01-24T21:11:34.838Z"
   },
   {
    "duration": 11,
    "start_time": "2022-01-24T21:11:34.845Z"
   },
   {
    "duration": 39,
    "start_time": "2022-01-24T21:11:34.859Z"
   },
   {
    "duration": 7,
    "start_time": "2022-01-24T21:11:34.900Z"
   },
   {
    "duration": 337,
    "start_time": "2022-01-24T21:11:34.909Z"
   },
   {
    "duration": -188564,
    "start_time": "2022-01-24T21:14:43.812Z"
   },
   {
    "duration": -188567,
    "start_time": "2022-01-24T21:14:43.816Z"
   },
   {
    "duration": -188568,
    "start_time": "2022-01-24T21:14:43.818Z"
   },
   {
    "duration": -188570,
    "start_time": "2022-01-24T21:14:43.821Z"
   },
   {
    "duration": -188573,
    "start_time": "2022-01-24T21:14:43.825Z"
   },
   {
    "duration": -188575,
    "start_time": "2022-01-24T21:14:43.828Z"
   },
   {
    "duration": -188577,
    "start_time": "2022-01-24T21:14:43.831Z"
   },
   {
    "duration": -188579,
    "start_time": "2022-01-24T21:14:43.834Z"
   },
   {
    "duration": -188582,
    "start_time": "2022-01-24T21:14:43.838Z"
   },
   {
    "duration": -188584,
    "start_time": "2022-01-24T21:14:43.841Z"
   },
   {
    "duration": -188587,
    "start_time": "2022-01-24T21:14:43.845Z"
   },
   {
    "duration": -188590,
    "start_time": "2022-01-24T21:14:43.849Z"
   },
   {
    "duration": -188591,
    "start_time": "2022-01-24T21:14:43.852Z"
   },
   {
    "duration": -188593,
    "start_time": "2022-01-24T21:14:43.855Z"
   },
   {
    "duration": -188595,
    "start_time": "2022-01-24T21:14:43.858Z"
   },
   {
    "duration": -188598,
    "start_time": "2022-01-24T21:14:43.862Z"
   },
   {
    "duration": -188600,
    "start_time": "2022-01-24T21:14:43.865Z"
   },
   {
    "duration": -188602,
    "start_time": "2022-01-24T21:14:43.868Z"
   },
   {
    "duration": -188604,
    "start_time": "2022-01-24T21:14:43.871Z"
   },
   {
    "duration": -188607,
    "start_time": "2022-01-24T21:14:43.875Z"
   },
   {
    "duration": -188609,
    "start_time": "2022-01-24T21:14:43.878Z"
   },
   {
    "duration": -188611,
    "start_time": "2022-01-24T21:14:43.881Z"
   },
   {
    "duration": -188614,
    "start_time": "2022-01-24T21:14:43.885Z"
   },
   {
    "duration": -188616,
    "start_time": "2022-01-24T21:14:43.889Z"
   },
   {
    "duration": -188618,
    "start_time": "2022-01-24T21:14:43.892Z"
   },
   {
    "duration": -188621,
    "start_time": "2022-01-24T21:14:43.896Z"
   },
   {
    "duration": -188623,
    "start_time": "2022-01-24T21:14:43.899Z"
   },
   {
    "duration": -188626,
    "start_time": "2022-01-24T21:14:43.903Z"
   },
   {
    "duration": -188646,
    "start_time": "2022-01-24T21:14:43.924Z"
   },
   {
    "duration": -188650,
    "start_time": "2022-01-24T21:14:43.929Z"
   },
   {
    "duration": -188652,
    "start_time": "2022-01-24T21:14:43.932Z"
   },
   {
    "duration": -188655,
    "start_time": "2022-01-24T21:14:43.936Z"
   },
   {
    "duration": -188656,
    "start_time": "2022-01-24T21:14:43.938Z"
   },
   {
    "duration": -188658,
    "start_time": "2022-01-24T21:14:43.941Z"
   },
   {
    "duration": -188648,
    "start_time": "2022-01-24T21:14:43.946Z"
   },
   {
    "duration": -188650,
    "start_time": "2022-01-24T21:14:43.949Z"
   },
   {
    "duration": -188653,
    "start_time": "2022-01-24T21:14:43.952Z"
   },
   {
    "duration": -188654,
    "start_time": "2022-01-24T21:14:43.955Z"
   },
   {
    "duration": -188656,
    "start_time": "2022-01-24T21:14:43.958Z"
   },
   {
    "duration": -188659,
    "start_time": "2022-01-24T21:14:43.962Z"
   },
   {
    "duration": -188662,
    "start_time": "2022-01-24T21:14:43.966Z"
   },
   {
    "duration": -188664,
    "start_time": "2022-01-24T21:14:43.969Z"
   },
   {
    "duration": -188666,
    "start_time": "2022-01-24T21:14:43.972Z"
   },
   {
    "duration": 709,
    "start_time": "2022-01-24T21:12:25.304Z"
   },
   {
    "duration": 20,
    "start_time": "2022-01-24T21:12:26.015Z"
   },
   {
    "duration": 15,
    "start_time": "2022-01-24T21:12:26.037Z"
   },
   {
    "duration": 15,
    "start_time": "2022-01-24T21:12:26.054Z"
   },
   {
    "duration": 39,
    "start_time": "2022-01-24T21:12:26.072Z"
   },
   {
    "duration": 29,
    "start_time": "2022-01-24T21:12:26.113Z"
   },
   {
    "duration": 4,
    "start_time": "2022-01-24T21:12:26.143Z"
   },
   {
    "duration": 7,
    "start_time": "2022-01-24T21:12:26.150Z"
   },
   {
    "duration": 9,
    "start_time": "2022-01-24T21:12:26.159Z"
   },
   {
    "duration": 51,
    "start_time": "2022-01-24T21:12:26.169Z"
   },
   {
    "duration": 10,
    "start_time": "2022-01-24T21:12:26.222Z"
   },
   {
    "duration": 10,
    "start_time": "2022-01-24T21:12:26.234Z"
   },
   {
    "duration": 15,
    "start_time": "2022-01-24T21:12:26.246Z"
   },
   {
    "duration": 7,
    "start_time": "2022-01-24T21:12:26.262Z"
   },
   {
    "duration": 34,
    "start_time": "2022-01-24T21:12:26.270Z"
   },
   {
    "duration": 7,
    "start_time": "2022-01-24T21:12:26.306Z"
   },
   {
    "duration": 6,
    "start_time": "2022-01-24T21:12:26.315Z"
   },
   {
    "duration": 12,
    "start_time": "2022-01-24T21:12:26.323Z"
   },
   {
    "duration": 62,
    "start_time": "2022-01-24T21:12:26.337Z"
   },
   {
    "duration": 4,
    "start_time": "2022-01-24T21:12:26.401Z"
   },
   {
    "duration": 15,
    "start_time": "2022-01-24T21:12:26.407Z"
   },
   {
    "duration": 15,
    "start_time": "2022-01-24T21:12:26.424Z"
   },
   {
    "duration": 8,
    "start_time": "2022-01-24T21:12:26.444Z"
   },
   {
    "duration": 319,
    "start_time": "2022-01-24T21:12:26.455Z"
   },
   {
    "duration": -188636,
    "start_time": "2022-01-24T21:15:35.412Z"
   },
   {
    "duration": -188639,
    "start_time": "2022-01-24T21:15:35.416Z"
   },
   {
    "duration": -188643,
    "start_time": "2022-01-24T21:15:35.421Z"
   },
   {
    "duration": -188646,
    "start_time": "2022-01-24T21:15:35.425Z"
   },
   {
    "duration": -188650,
    "start_time": "2022-01-24T21:15:35.429Z"
   },
   {
    "duration": -188652,
    "start_time": "2022-01-24T21:15:35.432Z"
   },
   {
    "duration": -188654,
    "start_time": "2022-01-24T21:15:35.436Z"
   },
   {
    "duration": -188657,
    "start_time": "2022-01-24T21:15:35.440Z"
   },
   {
    "duration": -188661,
    "start_time": "2022-01-24T21:15:35.445Z"
   },
   {
    "duration": -188663,
    "start_time": "2022-01-24T21:15:35.448Z"
   },
   {
    "duration": -188667,
    "start_time": "2022-01-24T21:15:35.453Z"
   },
   {
    "duration": -188669,
    "start_time": "2022-01-24T21:15:35.456Z"
   },
   {
    "duration": -188672,
    "start_time": "2022-01-24T21:15:35.460Z"
   },
   {
    "duration": -188675,
    "start_time": "2022-01-24T21:15:35.464Z"
   },
   {
    "duration": -188678,
    "start_time": "2022-01-24T21:15:35.468Z"
   },
   {
    "duration": -188681,
    "start_time": "2022-01-24T21:15:35.472Z"
   },
   {
    "duration": -188684,
    "start_time": "2022-01-24T21:15:35.476Z"
   },
   {
    "duration": -188687,
    "start_time": "2022-01-24T21:15:35.480Z"
   },
   {
    "duration": -188691,
    "start_time": "2022-01-24T21:15:35.485Z"
   },
   {
    "duration": -188694,
    "start_time": "2022-01-24T21:15:35.489Z"
   },
   {
    "duration": -188698,
    "start_time": "2022-01-24T21:15:35.494Z"
   },
   {
    "duration": -188701,
    "start_time": "2022-01-24T21:15:35.498Z"
   },
   {
    "duration": -188705,
    "start_time": "2022-01-24T21:15:35.503Z"
   },
   {
    "duration": -188708,
    "start_time": "2022-01-24T21:15:35.507Z"
   },
   {
    "duration": -188724,
    "start_time": "2022-01-24T21:15:35.524Z"
   },
   {
    "duration": -188727,
    "start_time": "2022-01-24T21:15:35.528Z"
   },
   {
    "duration": -188730,
    "start_time": "2022-01-24T21:15:35.532Z"
   },
   {
    "duration": -188733,
    "start_time": "2022-01-24T21:15:35.536Z"
   },
   {
    "duration": -188736,
    "start_time": "2022-01-24T21:15:35.540Z"
   },
   {
    "duration": -188739,
    "start_time": "2022-01-24T21:15:35.544Z"
   },
   {
    "duration": -188742,
    "start_time": "2022-01-24T21:15:35.548Z"
   },
   {
    "duration": -188746,
    "start_time": "2022-01-24T21:15:35.552Z"
   },
   {
    "duration": -188751,
    "start_time": "2022-01-24T21:15:35.558Z"
   },
   {
    "duration": -188754,
    "start_time": "2022-01-24T21:15:35.562Z"
   },
   {
    "duration": -188757,
    "start_time": "2022-01-24T21:15:35.566Z"
   },
   {
    "duration": -188760,
    "start_time": "2022-01-24T21:15:35.570Z"
   },
   {
    "duration": -188765,
    "start_time": "2022-01-24T21:15:35.575Z"
   },
   {
    "duration": -188767,
    "start_time": "2022-01-24T21:15:35.578Z"
   },
   {
    "duration": -188770,
    "start_time": "2022-01-24T21:15:35.582Z"
   },
   {
    "duration": -188773,
    "start_time": "2022-01-24T21:15:35.587Z"
   },
   {
    "duration": -188775,
    "start_time": "2022-01-24T21:15:35.590Z"
   },
   {
    "duration": -188777,
    "start_time": "2022-01-24T21:15:35.593Z"
   },
   {
    "duration": -188780,
    "start_time": "2022-01-24T21:15:35.597Z"
   },
   {
    "duration": 5,
    "start_time": "2022-01-24T21:12:37.275Z"
   },
   {
    "duration": 4,
    "start_time": "2022-01-24T21:12:38.881Z"
   },
   {
    "duration": 5,
    "start_time": "2022-01-24T21:12:40.549Z"
   },
   {
    "duration": 317,
    "start_time": "2022-01-24T21:12:54.318Z"
   },
   {
    "duration": 5,
    "start_time": "2022-01-24T21:12:57.657Z"
   },
   {
    "duration": 5,
    "start_time": "2022-01-24T21:13:17.172Z"
   },
   {
    "duration": 9,
    "start_time": "2022-01-24T21:13:26.778Z"
   },
   {
    "duration": 5,
    "start_time": "2022-01-24T21:13:39.445Z"
   },
   {
    "duration": 9,
    "start_time": "2022-01-24T21:13:44.441Z"
   },
   {
    "duration": 7,
    "start_time": "2022-01-24T21:14:08.673Z"
   },
   {
    "duration": 5,
    "start_time": "2022-01-24T21:15:09.255Z"
   },
   {
    "duration": 5,
    "start_time": "2022-01-24T21:15:18.261Z"
   },
   {
    "duration": 5,
    "start_time": "2022-01-24T21:15:29.746Z"
   },
   {
    "duration": 5,
    "start_time": "2022-01-24T21:15:34.222Z"
   },
   {
    "duration": 7,
    "start_time": "2022-01-24T21:16:50.758Z"
   },
   {
    "duration": 5,
    "start_time": "2022-01-24T21:32:14.773Z"
   },
   {
    "duration": 7,
    "start_time": "2022-01-24T21:32:14.910Z"
   },
   {
    "duration": 6,
    "start_time": "2022-01-24T21:33:18.587Z"
   },
   {
    "duration": 7,
    "start_time": "2022-01-24T21:33:19.536Z"
   },
   {
    "duration": 1265,
    "start_time": "2022-01-25T09:20:30.345Z"
   },
   {
    "duration": 50,
    "start_time": "2022-01-25T09:20:31.614Z"
   },
   {
    "duration": 10,
    "start_time": "2022-01-25T09:20:31.667Z"
   },
   {
    "duration": 8,
    "start_time": "2022-01-25T09:20:31.680Z"
   },
   {
    "duration": 72,
    "start_time": "2022-01-25T09:20:31.690Z"
   },
   {
    "duration": 55,
    "start_time": "2022-01-25T09:20:31.764Z"
   },
   {
    "duration": 7,
    "start_time": "2022-01-25T09:20:31.822Z"
   },
   {
    "duration": 31,
    "start_time": "2022-01-25T09:20:31.833Z"
   },
   {
    "duration": 6,
    "start_time": "2022-01-25T09:20:31.867Z"
   },
   {
    "duration": 45,
    "start_time": "2022-01-25T09:20:31.876Z"
   },
   {
    "duration": 40,
    "start_time": "2022-01-25T09:20:31.923Z"
   },
   {
    "duration": 11,
    "start_time": "2022-01-25T09:20:31.966Z"
   },
   {
    "duration": 55,
    "start_time": "2022-01-25T09:20:45.347Z"
   },
   {
    "duration": 28,
    "start_time": "2022-01-25T09:21:13.378Z"
   },
   {
    "duration": 7,
    "start_time": "2022-01-25T09:21:58.909Z"
   },
   {
    "duration": 4,
    "start_time": "2022-01-25T09:22:03.419Z"
   },
   {
    "duration": 7663,
    "start_time": "2022-01-25T09:22:07.390Z"
   },
   {
    "duration": 731,
    "start_time": "2022-01-25T11:10:34.372Z"
   },
   {
    "duration": 863,
    "start_time": "2022-01-25T11:10:40.476Z"
   },
   {
    "duration": 29,
    "start_time": "2022-01-25T11:10:41.342Z"
   },
   {
    "duration": 12,
    "start_time": "2022-01-25T11:10:41.374Z"
   },
   {
    "duration": 11,
    "start_time": "2022-01-25T11:10:41.388Z"
   },
   {
    "duration": 39,
    "start_time": "2022-01-25T11:10:41.401Z"
   },
   {
    "duration": 58,
    "start_time": "2022-01-25T11:10:41.443Z"
   },
   {
    "duration": 6,
    "start_time": "2022-01-25T11:10:41.504Z"
   },
   {
    "duration": 8,
    "start_time": "2022-01-25T11:10:41.514Z"
   },
   {
    "duration": 4,
    "start_time": "2022-01-25T11:10:41.525Z"
   },
   {
    "duration": 40,
    "start_time": "2022-01-25T11:10:41.565Z"
   },
   {
    "duration": 7,
    "start_time": "2022-01-25T11:10:41.607Z"
   },
   {
    "duration": 17,
    "start_time": "2022-01-25T11:10:41.616Z"
   },
   {
    "duration": 75,
    "start_time": "2022-01-25T11:10:41.635Z"
   },
   {
    "duration": 27,
    "start_time": "2022-01-25T11:10:41.712Z"
   },
   {
    "duration": 6,
    "start_time": "2022-01-25T11:10:41.765Z"
   },
   {
    "duration": 18,
    "start_time": "2022-01-25T11:10:41.773Z"
   },
   {
    "duration": 7628,
    "start_time": "2022-01-25T11:10:41.793Z"
   },
   {
    "duration": 43,
    "start_time": "2022-01-25T11:10:49.424Z"
   },
   {
    "duration": 40,
    "start_time": "2022-01-25T11:10:49.469Z"
   },
   {
    "duration": 6,
    "start_time": "2022-01-25T11:10:49.512Z"
   },
   {
    "duration": 49,
    "start_time": "2022-01-25T11:10:49.521Z"
   },
   {
    "duration": 20,
    "start_time": "2022-01-25T11:10:49.572Z"
   },
   {
    "duration": 23,
    "start_time": "2022-01-25T11:10:49.597Z"
   },
   {
    "duration": 398,
    "start_time": "2022-01-25T11:10:49.623Z"
   },
   {
    "duration": -189439,
    "start_time": "2022-01-25T11:13:59.463Z"
   },
   {
    "duration": -189440,
    "start_time": "2022-01-25T11:13:59.466Z"
   },
   {
    "duration": -189442,
    "start_time": "2022-01-25T11:13:59.469Z"
   },
   {
    "duration": -189443,
    "start_time": "2022-01-25T11:13:59.472Z"
   },
   {
    "duration": -189444,
    "start_time": "2022-01-25T11:13:59.475Z"
   },
   {
    "duration": -189447,
    "start_time": "2022-01-25T11:13:59.479Z"
   },
   {
    "duration": -189448,
    "start_time": "2022-01-25T11:13:59.482Z"
   },
   {
    "duration": -189450,
    "start_time": "2022-01-25T11:13:59.485Z"
   },
   {
    "duration": -189451,
    "start_time": "2022-01-25T11:13:59.488Z"
   },
   {
    "duration": -189452,
    "start_time": "2022-01-25T11:13:59.490Z"
   },
   {
    "duration": -189470,
    "start_time": "2022-01-25T11:13:59.510Z"
   },
   {
    "duration": -189477,
    "start_time": "2022-01-25T11:13:59.518Z"
   },
   {
    "duration": -189478,
    "start_time": "2022-01-25T11:13:59.521Z"
   },
   {
    "duration": -189479,
    "start_time": "2022-01-25T11:13:59.524Z"
   },
   {
    "duration": -189487,
    "start_time": "2022-01-25T11:13:59.533Z"
   },
   {
    "duration": -189489,
    "start_time": "2022-01-25T11:13:59.536Z"
   },
   {
    "duration": -189490,
    "start_time": "2022-01-25T11:13:59.539Z"
   },
   {
    "duration": -189492,
    "start_time": "2022-01-25T11:13:59.542Z"
   },
   {
    "duration": -189499,
    "start_time": "2022-01-25T11:13:59.551Z"
   },
   {
    "duration": -189501,
    "start_time": "2022-01-25T11:13:59.554Z"
   },
   {
    "duration": -189502,
    "start_time": "2022-01-25T11:13:59.557Z"
   },
   {
    "duration": -189510,
    "start_time": "2022-01-25T11:13:59.566Z"
   },
   {
    "duration": -189512,
    "start_time": "2022-01-25T11:13:59.569Z"
   },
   {
    "duration": -189514,
    "start_time": "2022-01-25T11:13:59.572Z"
   },
   {
    "duration": -189514,
    "start_time": "2022-01-25T11:13:59.577Z"
   },
   {
    "duration": -189521,
    "start_time": "2022-01-25T11:13:59.586Z"
   },
   {
    "duration": -189522,
    "start_time": "2022-01-25T11:13:59.589Z"
   },
   {
    "duration": -189524,
    "start_time": "2022-01-25T11:13:59.593Z"
   },
   {
    "duration": -189584,
    "start_time": "2022-01-25T11:13:59.654Z"
   },
   {
    "duration": -189592,
    "start_time": "2022-01-25T11:13:59.664Z"
   },
   {
    "duration": -189593,
    "start_time": "2022-01-25T11:13:59.667Z"
   },
   {
    "duration": -189593,
    "start_time": "2022-01-25T11:13:59.669Z"
   },
   {
    "duration": -189595,
    "start_time": "2022-01-25T11:13:59.672Z"
   },
   {
    "duration": -189597,
    "start_time": "2022-01-25T11:13:59.675Z"
   },
   {
    "duration": -189598,
    "start_time": "2022-01-25T11:13:59.678Z"
   },
   {
    "duration": -189600,
    "start_time": "2022-01-25T11:13:59.681Z"
   },
   {
    "duration": -189601,
    "start_time": "2022-01-25T11:13:59.684Z"
   },
   {
    "duration": -189602,
    "start_time": "2022-01-25T11:13:59.687Z"
   },
   {
    "duration": -189604,
    "start_time": "2022-01-25T11:13:59.690Z"
   },
   {
    "duration": -189606,
    "start_time": "2022-01-25T11:13:59.693Z"
   },
   {
    "duration": -189608,
    "start_time": "2022-01-25T11:13:59.696Z"
   },
   {
    "duration": -189609,
    "start_time": "2022-01-25T11:13:59.699Z"
   },
   {
    "duration": -189619,
    "start_time": "2022-01-25T11:13:59.710Z"
   },
   {
    "duration": 32,
    "start_time": "2022-01-25T11:13:45.166Z"
   },
   {
    "duration": 6,
    "start_time": "2022-01-25T11:22:18.444Z"
   },
   {
    "duration": 14,
    "start_time": "2022-01-25T11:23:10.635Z"
   },
   {
    "duration": 40,
    "start_time": "2022-01-25T11:23:13.210Z"
   },
   {
    "duration": 5,
    "start_time": "2022-01-25T11:23:25.192Z"
   },
   {
    "duration": 13,
    "start_time": "2022-01-25T11:23:32.124Z"
   },
   {
    "duration": 35,
    "start_time": "2022-01-25T11:23:32.685Z"
   },
   {
    "duration": 5,
    "start_time": "2022-01-25T11:23:41.509Z"
   },
   {
    "duration": 3,
    "start_time": "2022-01-25T11:23:41.659Z"
   },
   {
    "duration": 13,
    "start_time": "2022-01-25T11:23:41.912Z"
   },
   {
    "duration": 34,
    "start_time": "2022-01-25T11:23:42.806Z"
   },
   {
    "duration": 4,
    "start_time": "2022-01-25T11:23:54.404Z"
   },
   {
    "duration": 4,
    "start_time": "2022-01-25T11:23:55.242Z"
   },
   {
    "duration": 2091,
    "start_time": "2022-01-25T11:23:55.416Z"
   },
   {
    "duration": -189440,
    "start_time": "2022-01-25T11:27:06.949Z"
   },
   {
    "duration": 4,
    "start_time": "2022-01-25T11:24:00.896Z"
   },
   {
    "duration": 3,
    "start_time": "2022-01-25T11:24:01.410Z"
   },
   {
    "duration": 12,
    "start_time": "2022-01-25T11:24:01.572Z"
   },
   {
    "duration": 35,
    "start_time": "2022-01-25T11:24:03.316Z"
   },
   {
    "duration": 5,
    "start_time": "2022-01-25T11:25:02.062Z"
   },
   {
    "duration": 4,
    "start_time": "2022-01-25T11:25:02.443Z"
   },
   {
    "duration": 13,
    "start_time": "2022-01-25T11:25:02.629Z"
   },
   {
    "duration": 35,
    "start_time": "2022-01-25T11:25:02.887Z"
   },
   {
    "duration": 18,
    "start_time": "2022-01-25T11:26:13.188Z"
   },
   {
    "duration": 5,
    "start_time": "2022-01-25T11:27:37.958Z"
   },
   {
    "duration": 3,
    "start_time": "2022-01-25T11:27:38.279Z"
   },
   {
    "duration": 12,
    "start_time": "2022-01-25T11:27:38.705Z"
   },
   {
    "duration": 35,
    "start_time": "2022-01-25T11:27:39.646Z"
   },
   {
    "duration": 832,
    "start_time": "2022-01-25T11:27:53.462Z"
   },
   {
    "duration": 29,
    "start_time": "2022-01-25T11:27:54.297Z"
   },
   {
    "duration": 14,
    "start_time": "2022-01-25T11:27:54.329Z"
   },
   {
    "duration": 25,
    "start_time": "2022-01-25T11:27:54.346Z"
   },
   {
    "duration": 40,
    "start_time": "2022-01-25T11:27:54.374Z"
   },
   {
    "duration": 72,
    "start_time": "2022-01-25T11:27:54.417Z"
   },
   {
    "duration": 8,
    "start_time": "2022-01-25T11:27:54.492Z"
   },
   {
    "duration": 6,
    "start_time": "2022-01-25T11:27:54.505Z"
   },
   {
    "duration": 8,
    "start_time": "2022-01-25T11:27:54.515Z"
   },
   {
    "duration": 77,
    "start_time": "2022-01-25T11:27:54.525Z"
   },
   {
    "duration": 7,
    "start_time": "2022-01-25T11:27:54.605Z"
   },
   {
    "duration": 15,
    "start_time": "2022-01-25T11:27:54.614Z"
   },
   {
    "duration": 78,
    "start_time": "2022-01-25T11:27:54.632Z"
   },
   {
    "duration": 28,
    "start_time": "2022-01-25T11:27:54.713Z"
   },
   {
    "duration": 22,
    "start_time": "2022-01-25T11:27:54.743Z"
   },
   {
    "duration": 4,
    "start_time": "2022-01-25T11:27:54.768Z"
   },
   {
    "duration": 8626,
    "start_time": "2022-01-25T11:27:54.774Z"
   },
   {
    "duration": 16,
    "start_time": "2022-01-25T11:28:03.403Z"
   },
   {
    "duration": 10,
    "start_time": "2022-01-25T11:28:03.421Z"
   },
   {
    "duration": 9,
    "start_time": "2022-01-25T11:28:03.433Z"
   },
   {
    "duration": 29,
    "start_time": "2022-01-25T11:28:03.444Z"
   },
   {
    "duration": 35,
    "start_time": "2022-01-25T11:28:03.475Z"
   },
   {
    "duration": 4,
    "start_time": "2022-01-25T11:28:03.516Z"
   },
   {
    "duration": 43,
    "start_time": "2022-01-25T11:28:03.524Z"
   },
   {
    "duration": 21,
    "start_time": "2022-01-25T11:28:03.569Z"
   },
   {
    "duration": 19,
    "start_time": "2022-01-25T11:28:03.592Z"
   },
   {
    "duration": 1242,
    "start_time": "2022-01-25T11:28:03.614Z"
   },
   {
    "duration": -189413,
    "start_time": "2022-01-25T11:31:14.271Z"
   },
   {
    "duration": -189415,
    "start_time": "2022-01-25T11:31:14.275Z"
   },
   {
    "duration": -189418,
    "start_time": "2022-01-25T11:31:14.279Z"
   },
   {
    "duration": -189418,
    "start_time": "2022-01-25T11:31:14.281Z"
   },
   {
    "duration": -189421,
    "start_time": "2022-01-25T11:31:14.285Z"
   },
   {
    "duration": -189423,
    "start_time": "2022-01-25T11:31:14.288Z"
   },
   {
    "duration": -189424,
    "start_time": "2022-01-25T11:31:14.291Z"
   },
   {
    "duration": -189425,
    "start_time": "2022-01-25T11:31:14.294Z"
   },
   {
    "duration": -189428,
    "start_time": "2022-01-25T11:31:14.298Z"
   },
   {
    "duration": -189428,
    "start_time": "2022-01-25T11:31:14.300Z"
   },
   {
    "duration": -189431,
    "start_time": "2022-01-25T11:31:14.304Z"
   },
   {
    "duration": -189433,
    "start_time": "2022-01-25T11:31:14.308Z"
   },
   {
    "duration": -189434,
    "start_time": "2022-01-25T11:31:14.311Z"
   },
   {
    "duration": -189442,
    "start_time": "2022-01-25T11:31:14.320Z"
   },
   {
    "duration": -189444,
    "start_time": "2022-01-25T11:31:14.324Z"
   },
   {
    "duration": -189447,
    "start_time": "2022-01-25T11:31:14.328Z"
   },
   {
    "duration": -189449,
    "start_time": "2022-01-25T11:31:14.332Z"
   },
   {
    "duration": -189451,
    "start_time": "2022-01-25T11:31:14.335Z"
   },
   {
    "duration": -189454,
    "start_time": "2022-01-25T11:31:14.339Z"
   },
   {
    "duration": -189463,
    "start_time": "2022-01-25T11:31:14.350Z"
   },
   {
    "duration": -189465,
    "start_time": "2022-01-25T11:31:14.354Z"
   },
   {
    "duration": -189467,
    "start_time": "2022-01-25T11:31:14.357Z"
   },
   {
    "duration": -189468,
    "start_time": "2022-01-25T11:31:14.360Z"
   },
   {
    "duration": -189471,
    "start_time": "2022-01-25T11:31:14.364Z"
   },
   {
    "duration": -189472,
    "start_time": "2022-01-25T11:31:14.367Z"
   },
   {
    "duration": -189474,
    "start_time": "2022-01-25T11:31:14.370Z"
   },
   {
    "duration": -189476,
    "start_time": "2022-01-25T11:31:14.373Z"
   },
   {
    "duration": -189477,
    "start_time": "2022-01-25T11:31:14.376Z"
   },
   {
    "duration": -189480,
    "start_time": "2022-01-25T11:31:14.380Z"
   },
   {
    "duration": -189482,
    "start_time": "2022-01-25T11:31:14.384Z"
   },
   {
    "duration": -189484,
    "start_time": "2022-01-25T11:31:14.387Z"
   },
   {
    "duration": -189485,
    "start_time": "2022-01-25T11:31:14.390Z"
   },
   {
    "duration": -189520,
    "start_time": "2022-01-25T11:31:14.426Z"
   },
   {
    "duration": -189523,
    "start_time": "2022-01-25T11:31:14.430Z"
   },
   {
    "duration": -189469,
    "start_time": "2022-01-25T11:31:14.433Z"
   },
   {
    "duration": -189470,
    "start_time": "2022-01-25T11:31:14.436Z"
   },
   {
    "duration": -189472,
    "start_time": "2022-01-25T11:31:14.439Z"
   },
   {
    "duration": -189475,
    "start_time": "2022-01-25T11:31:14.444Z"
   },
   {
    "duration": -189476,
    "start_time": "2022-01-25T11:31:14.447Z"
   },
   {
    "duration": -189479,
    "start_time": "2022-01-25T11:31:14.451Z"
   },
   {
    "duration": -189514,
    "start_time": "2022-01-25T11:31:14.488Z"
   },
   {
    "duration": -189516,
    "start_time": "2022-01-25T11:31:14.491Z"
   },
   {
    "duration": -189517,
    "start_time": "2022-01-25T11:31:14.494Z"
   },
   {
    "duration": 936,
    "start_time": "2022-01-25T11:28:30.103Z"
   },
   {
    "duration": 33,
    "start_time": "2022-01-25T11:28:31.043Z"
   },
   {
    "duration": 32,
    "start_time": "2022-01-25T11:28:31.080Z"
   },
   {
    "duration": 14,
    "start_time": "2022-01-25T11:28:31.115Z"
   },
   {
    "duration": 49,
    "start_time": "2022-01-25T11:28:31.132Z"
   },
   {
    "duration": 43,
    "start_time": "2022-01-25T11:28:31.183Z"
   },
   {
    "duration": 6,
    "start_time": "2022-01-25T11:28:31.228Z"
   },
   {
    "duration": 5,
    "start_time": "2022-01-25T11:28:31.264Z"
   },
   {
    "duration": 32,
    "start_time": "2022-01-25T11:28:31.274Z"
   },
   {
    "duration": 51,
    "start_time": "2022-01-25T11:28:31.309Z"
   },
   {
    "duration": 7,
    "start_time": "2022-01-25T11:28:31.362Z"
   },
   {
    "duration": 18,
    "start_time": "2022-01-25T11:28:31.371Z"
   },
   {
    "duration": 56,
    "start_time": "2022-01-25T11:28:31.391Z"
   },
   {
    "duration": 41,
    "start_time": "2022-01-25T11:28:31.449Z"
   },
   {
    "duration": 6,
    "start_time": "2022-01-25T11:28:31.492Z"
   },
   {
    "duration": 36,
    "start_time": "2022-01-25T11:28:31.501Z"
   },
   {
    "duration": 7711,
    "start_time": "2022-01-25T11:28:31.539Z"
   },
   {
    "duration": 26,
    "start_time": "2022-01-25T11:28:39.254Z"
   },
   {
    "duration": 5,
    "start_time": "2022-01-25T11:28:39.284Z"
   },
   {
    "duration": 5,
    "start_time": "2022-01-25T11:28:39.292Z"
   },
   {
    "duration": 15,
    "start_time": "2022-01-25T11:28:39.300Z"
   },
   {
    "duration": 77,
    "start_time": "2022-01-25T11:28:39.318Z"
   },
   {
    "duration": 5,
    "start_time": "2022-01-25T11:28:39.399Z"
   },
   {
    "duration": 17,
    "start_time": "2022-01-25T11:28:39.407Z"
   },
   {
    "duration": 53,
    "start_time": "2022-01-25T11:28:39.427Z"
   },
   {
    "duration": 17,
    "start_time": "2022-01-25T11:28:39.483Z"
   },
   {
    "duration": 1210,
    "start_time": "2022-01-25T11:28:39.507Z"
   },
   {
    "duration": -189416,
    "start_time": "2022-01-25T11:31:50.138Z"
   },
   {
    "duration": -189418,
    "start_time": "2022-01-25T11:31:50.141Z"
   },
   {
    "duration": -189419,
    "start_time": "2022-01-25T11:31:50.144Z"
   },
   {
    "duration": -189422,
    "start_time": "2022-01-25T11:31:50.148Z"
   },
   {
    "duration": -189423,
    "start_time": "2022-01-25T11:31:50.151Z"
   },
   {
    "duration": -189426,
    "start_time": "2022-01-25T11:31:50.155Z"
   },
   {
    "duration": -189426,
    "start_time": "2022-01-25T11:31:50.157Z"
   },
   {
    "duration": -189429,
    "start_time": "2022-01-25T11:31:50.161Z"
   },
   {
    "duration": -189431,
    "start_time": "2022-01-25T11:31:50.164Z"
   },
   {
    "duration": -189443,
    "start_time": "2022-01-25T11:31:50.177Z"
   },
   {
    "duration": -189444,
    "start_time": "2022-01-25T11:31:50.180Z"
   },
   {
    "duration": -189447,
    "start_time": "2022-01-25T11:31:50.184Z"
   },
   {
    "duration": -189448,
    "start_time": "2022-01-25T11:31:50.187Z"
   },
   {
    "duration": -189451,
    "start_time": "2022-01-25T11:31:50.191Z"
   },
   {
    "duration": -189452,
    "start_time": "2022-01-25T11:31:50.194Z"
   },
   {
    "duration": -189453,
    "start_time": "2022-01-25T11:31:50.197Z"
   },
   {
    "duration": -189454,
    "start_time": "2022-01-25T11:31:50.200Z"
   },
   {
    "duration": -189456,
    "start_time": "2022-01-25T11:31:50.204Z"
   },
   {
    "duration": -189458,
    "start_time": "2022-01-25T11:31:50.207Z"
   },
   {
    "duration": -189459,
    "start_time": "2022-01-25T11:31:50.210Z"
   },
   {
    "duration": -189461,
    "start_time": "2022-01-25T11:31:50.214Z"
   },
   {
    "duration": -189463,
    "start_time": "2022-01-25T11:31:50.217Z"
   },
   {
    "duration": -189457,
    "start_time": "2022-01-25T11:31:50.220Z"
   },
   {
    "duration": -189458,
    "start_time": "2022-01-25T11:31:50.223Z"
   },
   {
    "duration": -189461,
    "start_time": "2022-01-25T11:31:50.227Z"
   },
   {
    "duration": -189463,
    "start_time": "2022-01-25T11:31:50.231Z"
   },
   {
    "duration": -189472,
    "start_time": "2022-01-25T11:31:50.241Z"
   },
   {
    "duration": -189476,
    "start_time": "2022-01-25T11:31:50.246Z"
   },
   {
    "duration": -189477,
    "start_time": "2022-01-25T11:31:50.249Z"
   },
   {
    "duration": -189479,
    "start_time": "2022-01-25T11:31:50.252Z"
   },
   {
    "duration": -189482,
    "start_time": "2022-01-25T11:31:50.256Z"
   },
   {
    "duration": -189483,
    "start_time": "2022-01-25T11:31:50.259Z"
   },
   {
    "duration": -189485,
    "start_time": "2022-01-25T11:31:50.262Z"
   },
   {
    "duration": -189507,
    "start_time": "2022-01-25T11:31:50.285Z"
   },
   {
    "duration": -189509,
    "start_time": "2022-01-25T11:31:50.289Z"
   },
   {
    "duration": -189512,
    "start_time": "2022-01-25T11:31:50.293Z"
   },
   {
    "duration": -189514,
    "start_time": "2022-01-25T11:31:50.296Z"
   },
   {
    "duration": -189515,
    "start_time": "2022-01-25T11:31:50.299Z"
   },
   {
    "duration": -189517,
    "start_time": "2022-01-25T11:31:50.302Z"
   },
   {
    "duration": -189519,
    "start_time": "2022-01-25T11:31:50.306Z"
   },
   {
    "duration": -189521,
    "start_time": "2022-01-25T11:31:50.309Z"
   },
   {
    "duration": -189523,
    "start_time": "2022-01-25T11:31:50.312Z"
   },
   {
    "duration": -189525,
    "start_time": "2022-01-25T11:31:50.315Z"
   },
   {
    "duration": 4,
    "start_time": "2022-01-25T11:29:01.725Z"
   },
   {
    "duration": 3,
    "start_time": "2022-01-25T11:29:02.127Z"
   },
   {
    "duration": 11,
    "start_time": "2022-01-25T11:29:02.643Z"
   },
   {
    "duration": 36,
    "start_time": "2022-01-25T11:29:03.044Z"
   },
   {
    "duration": 828,
    "start_time": "2022-01-25T11:29:08.407Z"
   },
   {
    "duration": 29,
    "start_time": "2022-01-25T11:29:09.238Z"
   },
   {
    "duration": 11,
    "start_time": "2022-01-25T11:29:09.270Z"
   },
   {
    "duration": 11,
    "start_time": "2022-01-25T11:29:09.283Z"
   },
   {
    "duration": 38,
    "start_time": "2022-01-25T11:29:09.296Z"
   },
   {
    "duration": 39,
    "start_time": "2022-01-25T11:29:09.365Z"
   },
   {
    "duration": 7,
    "start_time": "2022-01-25T11:29:09.406Z"
   },
   {
    "duration": 9,
    "start_time": "2022-01-25T11:29:09.415Z"
   },
   {
    "duration": 5,
    "start_time": "2022-01-25T11:29:09.464Z"
   },
   {
    "duration": 40,
    "start_time": "2022-01-25T11:29:09.472Z"
   },
   {
    "duration": 6,
    "start_time": "2022-01-25T11:29:09.515Z"
   },
   {
    "duration": 14,
    "start_time": "2022-01-25T11:29:09.524Z"
   },
   {
    "duration": 55,
    "start_time": "2022-01-25T11:29:09.564Z"
   },
   {
    "duration": 48,
    "start_time": "2022-01-25T11:29:09.621Z"
   },
   {
    "duration": 6,
    "start_time": "2022-01-25T11:29:09.672Z"
   },
   {
    "duration": 8,
    "start_time": "2022-01-25T11:29:09.681Z"
   },
   {
    "duration": 7985,
    "start_time": "2022-01-25T11:29:09.692Z"
   },
   {
    "duration": 17,
    "start_time": "2022-01-25T11:29:17.680Z"
   },
   {
    "duration": 9,
    "start_time": "2022-01-25T11:29:17.700Z"
   },
   {
    "duration": 7,
    "start_time": "2022-01-25T11:29:17.712Z"
   },
   {
    "duration": 17,
    "start_time": "2022-01-25T11:29:17.722Z"
   },
   {
    "duration": 63,
    "start_time": "2022-01-25T11:29:17.741Z"
   },
   {
    "duration": 6,
    "start_time": "2022-01-25T11:29:17.807Z"
   },
   {
    "duration": 17,
    "start_time": "2022-01-25T11:29:17.816Z"
   },
   {
    "duration": 56,
    "start_time": "2022-01-25T11:29:17.835Z"
   },
   {
    "duration": 16,
    "start_time": "2022-01-25T11:29:17.894Z"
   },
   {
    "duration": 385,
    "start_time": "2022-01-25T11:29:17.917Z"
   },
   {
    "duration": -189423,
    "start_time": "2022-01-25T11:32:27.729Z"
   },
   {
    "duration": -189426,
    "start_time": "2022-01-25T11:32:27.734Z"
   },
   {
    "duration": -189430,
    "start_time": "2022-01-25T11:32:27.739Z"
   },
   {
    "duration": -189432,
    "start_time": "2022-01-25T11:32:27.743Z"
   },
   {
    "duration": -189436,
    "start_time": "2022-01-25T11:32:27.748Z"
   },
   {
    "duration": -189438,
    "start_time": "2022-01-25T11:32:27.751Z"
   },
   {
    "duration": -189441,
    "start_time": "2022-01-25T11:32:27.756Z"
   },
   {
    "duration": -189443,
    "start_time": "2022-01-25T11:32:27.759Z"
   },
   {
    "duration": -189446,
    "start_time": "2022-01-25T11:32:27.763Z"
   },
   {
    "duration": -189449,
    "start_time": "2022-01-25T11:32:27.768Z"
   },
   {
    "duration": -189452,
    "start_time": "2022-01-25T11:32:27.772Z"
   },
   {
    "duration": -189454,
    "start_time": "2022-01-25T11:32:27.776Z"
   },
   {
    "duration": -189457,
    "start_time": "2022-01-25T11:32:27.780Z"
   },
   {
    "duration": -189460,
    "start_time": "2022-01-25T11:32:27.784Z"
   },
   {
    "duration": -189462,
    "start_time": "2022-01-25T11:32:27.788Z"
   },
   {
    "duration": -189473,
    "start_time": "2022-01-25T11:32:27.800Z"
   },
   {
    "duration": -189478,
    "start_time": "2022-01-25T11:32:27.806Z"
   },
   {
    "duration": -189479,
    "start_time": "2022-01-25T11:32:27.809Z"
   },
   {
    "duration": -189482,
    "start_time": "2022-01-25T11:32:27.813Z"
   },
   {
    "duration": -189485,
    "start_time": "2022-01-25T11:32:27.818Z"
   },
   {
    "duration": -189488,
    "start_time": "2022-01-25T11:32:27.822Z"
   },
   {
    "duration": -189489,
    "start_time": "2022-01-25T11:32:27.825Z"
   },
   {
    "duration": -189492,
    "start_time": "2022-01-25T11:32:27.829Z"
   },
   {
    "duration": -189495,
    "start_time": "2022-01-25T11:32:27.834Z"
   },
   {
    "duration": -189474,
    "start_time": "2022-01-25T11:32:27.838Z"
   },
   {
    "duration": -189477,
    "start_time": "2022-01-25T11:32:27.842Z"
   },
   {
    "duration": -189480,
    "start_time": "2022-01-25T11:32:27.847Z"
   },
   {
    "duration": -189483,
    "start_time": "2022-01-25T11:32:27.851Z"
   },
   {
    "duration": -189485,
    "start_time": "2022-01-25T11:32:27.855Z"
   },
   {
    "duration": -189488,
    "start_time": "2022-01-25T11:32:27.859Z"
   },
   {
    "duration": -189491,
    "start_time": "2022-01-25T11:32:27.863Z"
   },
   {
    "duration": -189493,
    "start_time": "2022-01-25T11:32:27.867Z"
   },
   {
    "duration": -189496,
    "start_time": "2022-01-25T11:32:27.871Z"
   },
   {
    "duration": -189498,
    "start_time": "2022-01-25T11:32:27.875Z"
   },
   {
    "duration": -189526,
    "start_time": "2022-01-25T11:32:27.904Z"
   },
   {
    "duration": -189527,
    "start_time": "2022-01-25T11:32:27.907Z"
   },
   {
    "duration": -189539,
    "start_time": "2022-01-25T11:32:27.920Z"
   },
   {
    "duration": -189540,
    "start_time": "2022-01-25T11:32:27.923Z"
   },
   {
    "duration": -189542,
    "start_time": "2022-01-25T11:32:27.926Z"
   },
   {
    "duration": -189543,
    "start_time": "2022-01-25T11:32:27.929Z"
   },
   {
    "duration": -189546,
    "start_time": "2022-01-25T11:32:27.933Z"
   },
   {
    "duration": -189551,
    "start_time": "2022-01-25T11:32:27.939Z"
   },
   {
    "duration": -189552,
    "start_time": "2022-01-25T11:32:27.942Z"
   },
   {
    "duration": 880,
    "start_time": "2022-01-25T11:29:35.000Z"
   },
   {
    "duration": 29,
    "start_time": "2022-01-25T11:29:35.883Z"
   },
   {
    "duration": 46,
    "start_time": "2022-01-25T11:29:35.915Z"
   },
   {
    "duration": 18,
    "start_time": "2022-01-25T11:29:35.964Z"
   },
   {
    "duration": 38,
    "start_time": "2022-01-25T11:29:35.985Z"
   },
   {
    "duration": 58,
    "start_time": "2022-01-25T11:29:36.025Z"
   },
   {
    "duration": 6,
    "start_time": "2022-01-25T11:29:36.086Z"
   },
   {
    "duration": 12,
    "start_time": "2022-01-25T11:29:36.095Z"
   },
   {
    "duration": 10,
    "start_time": "2022-01-25T11:29:36.110Z"
   },
   {
    "duration": 62,
    "start_time": "2022-01-25T11:29:36.122Z"
   },
   {
    "duration": 8,
    "start_time": "2022-01-25T11:29:36.187Z"
   },
   {
    "duration": 25,
    "start_time": "2022-01-25T11:29:36.198Z"
   },
   {
    "duration": 77,
    "start_time": "2022-01-25T11:29:36.226Z"
   },
   {
    "duration": 30,
    "start_time": "2022-01-25T11:29:36.306Z"
   },
   {
    "duration": 27,
    "start_time": "2022-01-25T11:29:36.339Z"
   },
   {
    "duration": 6,
    "start_time": "2022-01-25T11:29:36.369Z"
   },
   {
    "duration": 7975,
    "start_time": "2022-01-25T11:29:36.378Z"
   },
   {
    "duration": 55,
    "start_time": "2022-01-25T11:29:44.361Z"
   },
   {
    "duration": 72,
    "start_time": "2022-01-25T11:29:44.418Z"
   },
   {
    "duration": 83,
    "start_time": "2022-01-25T11:29:44.493Z"
   },
   {
    "duration": 70,
    "start_time": "2022-01-25T11:29:44.587Z"
   },
   {
    "duration": 48,
    "start_time": "2022-01-25T11:29:44.659Z"
   },
   {
    "duration": 5,
    "start_time": "2022-01-25T11:29:44.713Z"
   },
   {
    "duration": 18,
    "start_time": "2022-01-25T11:29:44.721Z"
   },
   {
    "duration": 37,
    "start_time": "2022-01-25T11:29:44.742Z"
   },
   {
    "duration": 15,
    "start_time": "2022-01-25T11:29:44.782Z"
   },
   {
    "duration": 8,
    "start_time": "2022-01-25T11:29:44.799Z"
   },
   {
    "duration": 21,
    "start_time": "2022-01-25T11:29:44.809Z"
   },
   {
    "duration": 50,
    "start_time": "2022-01-25T11:29:44.833Z"
   },
   {
    "duration": 24,
    "start_time": "2022-01-25T11:29:44.886Z"
   },
   {
    "duration": 20,
    "start_time": "2022-01-25T11:29:44.913Z"
   },
   {
    "duration": 3708,
    "start_time": "2022-01-25T11:29:44.964Z"
   },
   {
    "duration": 9,
    "start_time": "2022-01-25T11:29:48.675Z"
   },
   {
    "duration": 3377,
    "start_time": "2022-01-25T11:29:48.687Z"
   },
   {
    "duration": 841,
    "start_time": "2022-01-25T11:29:52.068Z"
   },
   {
    "duration": 6,
    "start_time": "2022-01-25T11:29:52.912Z"
   },
   {
    "duration": 23,
    "start_time": "2022-01-25T11:29:52.920Z"
   },
   {
    "duration": 30,
    "start_time": "2022-01-25T11:29:52.945Z"
   },
   {
    "duration": 11,
    "start_time": "2022-01-25T11:29:52.977Z"
   },
   {
    "duration": 14,
    "start_time": "2022-01-25T11:29:52.990Z"
   },
   {
    "duration": 2005,
    "start_time": "2022-01-25T11:29:53.006Z"
   },
   {
    "duration": 16,
    "start_time": "2022-01-25T11:29:55.013Z"
   },
   {
    "duration": 50,
    "start_time": "2022-01-25T11:29:55.031Z"
   },
   {
    "duration": 9,
    "start_time": "2022-01-25T11:29:55.083Z"
   },
   {
    "duration": 10,
    "start_time": "2022-01-25T11:29:55.094Z"
   },
   {
    "duration": 17,
    "start_time": "2022-01-25T11:29:55.106Z"
   },
   {
    "duration": 41,
    "start_time": "2022-01-25T11:29:55.126Z"
   },
   {
    "duration": 21,
    "start_time": "2022-01-25T11:29:55.170Z"
   },
   {
    "duration": 10,
    "start_time": "2022-01-25T11:29:55.193Z"
   },
   {
    "duration": 8,
    "start_time": "2022-01-25T11:29:55.206Z"
   },
   {
    "duration": 9,
    "start_time": "2022-01-25T11:29:55.217Z"
   },
   {
    "duration": 12,
    "start_time": "2022-01-25T11:29:55.265Z"
   },
   {
    "duration": 25,
    "start_time": "2022-01-25T11:29:55.280Z"
   },
   {
    "duration": 26,
    "start_time": "2022-01-25T11:29:55.308Z"
   },
   {
    "duration": 20,
    "start_time": "2022-01-25T11:29:55.366Z"
   },
   {
    "duration": 6,
    "start_time": "2022-01-25T11:29:55.388Z"
   },
   {
    "duration": 25,
    "start_time": "2022-01-25T11:29:55.396Z"
   },
   {
    "duration": 8,
    "start_time": "2022-01-25T11:29:55.424Z"
   },
   {
    "duration": 39,
    "start_time": "2022-01-25T11:29:55.434Z"
   },
   {
    "duration": 12,
    "start_time": "2022-01-25T11:29:55.476Z"
   },
   {
    "duration": 16,
    "start_time": "2022-01-25T11:29:55.491Z"
   },
   {
    "duration": 6874,
    "start_time": "2022-01-25T11:29:55.509Z"
   },
   {
    "duration": 14,
    "start_time": "2022-01-25T11:30:02.385Z"
   },
   {
    "duration": 30,
    "start_time": "2022-01-25T11:30:02.402Z"
   },
   {
    "duration": 8,
    "start_time": "2022-01-25T11:30:02.434Z"
   },
   {
    "duration": 9036,
    "start_time": "2022-01-25T11:30:02.444Z"
   },
   {
    "duration": -189444,
    "start_time": "2022-01-25T11:33:20.927Z"
   },
   {
    "duration": -189447,
    "start_time": "2022-01-25T11:33:20.931Z"
   },
   {
    "duration": -189448,
    "start_time": "2022-01-25T11:33:20.934Z"
   },
   {
    "duration": -189450,
    "start_time": "2022-01-25T11:33:20.937Z"
   },
   {
    "duration": 839,
    "start_time": "2022-01-25T11:31:18.776Z"
   },
   {
    "duration": 31,
    "start_time": "2022-01-25T11:31:19.618Z"
   },
   {
    "duration": 9,
    "start_time": "2022-01-25T11:31:19.665Z"
   },
   {
    "duration": 10,
    "start_time": "2022-01-25T11:31:19.677Z"
   },
   {
    "duration": 38,
    "start_time": "2022-01-25T11:31:19.690Z"
   },
   {
    "duration": 65,
    "start_time": "2022-01-25T11:31:19.730Z"
   },
   {
    "duration": 6,
    "start_time": "2022-01-25T11:31:19.798Z"
   },
   {
    "duration": 7,
    "start_time": "2022-01-25T11:31:19.807Z"
   },
   {
    "duration": 13,
    "start_time": "2022-01-25T11:31:19.817Z"
   },
   {
    "duration": 69,
    "start_time": "2022-01-25T11:31:19.832Z"
   },
   {
    "duration": 6,
    "start_time": "2022-01-25T11:31:19.904Z"
   },
   {
    "duration": 14,
    "start_time": "2022-01-25T11:31:19.913Z"
   },
   {
    "duration": 80,
    "start_time": "2022-01-25T11:31:19.929Z"
   },
   {
    "duration": 27,
    "start_time": "2022-01-25T11:31:20.012Z"
   },
   {
    "duration": 25,
    "start_time": "2022-01-25T11:31:20.041Z"
   },
   {
    "duration": 32,
    "start_time": "2022-01-25T11:31:20.069Z"
   },
   {
    "duration": 7592,
    "start_time": "2022-01-25T11:31:20.104Z"
   },
   {
    "duration": 18,
    "start_time": "2022-01-25T11:31:27.698Z"
   },
   {
    "duration": 99,
    "start_time": "2022-01-25T11:31:27.719Z"
   },
   {
    "duration": -189398,
    "start_time": "2022-01-25T11:34:37.221Z"
   },
   {
    "duration": -189436,
    "start_time": "2022-01-25T11:34:37.260Z"
   },
   {
    "duration": -189440,
    "start_time": "2022-01-25T11:34:37.265Z"
   },
   {
    "duration": -189441,
    "start_time": "2022-01-25T11:34:37.268Z"
   },
   {
    "duration": -189443,
    "start_time": "2022-01-25T11:34:37.271Z"
   },
   {
    "duration": -189445,
    "start_time": "2022-01-25T11:34:37.274Z"
   },
   {
    "duration": -189448,
    "start_time": "2022-01-25T11:34:37.278Z"
   },
   {
    "duration": -189449,
    "start_time": "2022-01-25T11:34:37.281Z"
   },
   {
    "duration": -189451,
    "start_time": "2022-01-25T11:34:37.284Z"
   },
   {
    "duration": -189453,
    "start_time": "2022-01-25T11:34:37.287Z"
   },
   {
    "duration": -189455,
    "start_time": "2022-01-25T11:34:37.290Z"
   },
   {
    "duration": -189457,
    "start_time": "2022-01-25T11:34:37.294Z"
   },
   {
    "duration": -189459,
    "start_time": "2022-01-25T11:34:37.297Z"
   },
   {
    "duration": -189461,
    "start_time": "2022-01-25T11:34:37.300Z"
   },
   {
    "duration": -189462,
    "start_time": "2022-01-25T11:34:37.303Z"
   },
   {
    "duration": -189464,
    "start_time": "2022-01-25T11:34:37.306Z"
   },
   {
    "duration": -189466,
    "start_time": "2022-01-25T11:34:37.309Z"
   },
   {
    "duration": -189475,
    "start_time": "2022-01-25T11:34:37.320Z"
   },
   {
    "duration": -189478,
    "start_time": "2022-01-25T11:34:37.324Z"
   },
   {
    "duration": -189481,
    "start_time": "2022-01-25T11:34:37.328Z"
   },
   {
    "duration": -189484,
    "start_time": "2022-01-25T11:34:37.332Z"
   },
   {
    "duration": -189486,
    "start_time": "2022-01-25T11:34:37.335Z"
   },
   {
    "duration": -189488,
    "start_time": "2022-01-25T11:34:37.339Z"
   },
   {
    "duration": -189490,
    "start_time": "2022-01-25T11:34:37.342Z"
   },
   {
    "duration": -189491,
    "start_time": "2022-01-25T11:34:37.345Z"
   },
   {
    "duration": -189494,
    "start_time": "2022-01-25T11:34:37.349Z"
   },
   {
    "duration": -189497,
    "start_time": "2022-01-25T11:34:37.353Z"
   },
   {
    "duration": -189499,
    "start_time": "2022-01-25T11:34:37.356Z"
   },
   {
    "duration": -189502,
    "start_time": "2022-01-25T11:34:37.360Z"
   },
   {
    "duration": -189503,
    "start_time": "2022-01-25T11:34:37.363Z"
   },
   {
    "duration": -189502,
    "start_time": "2022-01-25T11:34:37.366Z"
   },
   {
    "duration": -189504,
    "start_time": "2022-01-25T11:34:37.370Z"
   },
   {
    "duration": -189507,
    "start_time": "2022-01-25T11:34:37.374Z"
   },
   {
    "duration": -189509,
    "start_time": "2022-01-25T11:34:37.377Z"
   },
   {
    "duration": -189511,
    "start_time": "2022-01-25T11:34:37.381Z"
   },
   {
    "duration": -189513,
    "start_time": "2022-01-25T11:34:37.384Z"
   },
   {
    "duration": -189515,
    "start_time": "2022-01-25T11:34:37.388Z"
   },
   {
    "duration": -189549,
    "start_time": "2022-01-25T11:34:37.423Z"
   },
   {
    "duration": -189552,
    "start_time": "2022-01-25T11:34:37.428Z"
   },
   {
    "duration": -189557,
    "start_time": "2022-01-25T11:34:37.434Z"
   },
   {
    "duration": -189561,
    "start_time": "2022-01-25T11:34:37.439Z"
   },
   {
    "duration": -189563,
    "start_time": "2022-01-25T11:34:37.443Z"
   },
   {
    "duration": -189565,
    "start_time": "2022-01-25T11:34:37.446Z"
   },
   {
    "duration": -189567,
    "start_time": "2022-01-25T11:34:37.450Z"
   },
   {
    "duration": -189570,
    "start_time": "2022-01-25T11:34:37.454Z"
   },
   {
    "duration": -189571,
    "start_time": "2022-01-25T11:34:37.456Z"
   },
   {
    "duration": -189573,
    "start_time": "2022-01-25T11:34:37.460Z"
   },
   {
    "duration": -189574,
    "start_time": "2022-01-25T11:34:37.463Z"
   },
   {
    "duration": -189577,
    "start_time": "2022-01-25T11:34:37.467Z"
   },
   {
    "duration": -189578,
    "start_time": "2022-01-25T11:34:37.470Z"
   },
   {
    "duration": -189580,
    "start_time": "2022-01-25T11:34:37.473Z"
   },
   {
    "duration": 864,
    "start_time": "2022-01-25T11:31:50.729Z"
   },
   {
    "duration": 27,
    "start_time": "2022-01-25T11:31:51.596Z"
   },
   {
    "duration": 12,
    "start_time": "2022-01-25T11:31:51.626Z"
   },
   {
    "duration": 29,
    "start_time": "2022-01-25T11:31:51.641Z"
   },
   {
    "duration": 43,
    "start_time": "2022-01-25T11:31:51.672Z"
   },
   {
    "duration": 58,
    "start_time": "2022-01-25T11:31:51.717Z"
   },
   {
    "duration": 7,
    "start_time": "2022-01-25T11:31:51.777Z"
   },
   {
    "duration": 16,
    "start_time": "2022-01-25T11:31:51.787Z"
   },
   {
    "duration": 19,
    "start_time": "2022-01-25T11:31:51.806Z"
   },
   {
    "duration": 52,
    "start_time": "2022-01-25T11:31:51.827Z"
   },
   {
    "duration": 6,
    "start_time": "2022-01-25T11:31:51.881Z"
   },
   {
    "duration": 22,
    "start_time": "2022-01-25T11:31:51.890Z"
   },
   {
    "duration": 67,
    "start_time": "2022-01-25T11:31:51.915Z"
   },
   {
    "duration": 27,
    "start_time": "2022-01-25T11:31:51.984Z"
   },
   {
    "duration": 7,
    "start_time": "2022-01-25T11:31:52.013Z"
   },
   {
    "duration": 11,
    "start_time": "2022-01-25T11:31:52.022Z"
   },
   {
    "duration": 8002,
    "start_time": "2022-01-25T11:31:52.064Z"
   },
   {
    "duration": 17,
    "start_time": "2022-01-25T11:32:00.069Z"
   },
   {
    "duration": 131,
    "start_time": "2022-01-25T11:32:00.089Z"
   },
   {
    "duration": -189402,
    "start_time": "2022-01-25T11:35:09.626Z"
   },
   {
    "duration": -189404,
    "start_time": "2022-01-25T11:35:09.630Z"
   },
   {
    "duration": -189405,
    "start_time": "2022-01-25T11:35:09.633Z"
   },
   {
    "duration": -189408,
    "start_time": "2022-01-25T11:35:09.637Z"
   },
   {
    "duration": -189410,
    "start_time": "2022-01-25T11:35:09.641Z"
   },
   {
    "duration": -189414,
    "start_time": "2022-01-25T11:35:09.646Z"
   },
   {
    "duration": -189416,
    "start_time": "2022-01-25T11:35:09.649Z"
   },
   {
    "duration": -189417,
    "start_time": "2022-01-25T11:35:09.652Z"
   },
   {
    "duration": -189419,
    "start_time": "2022-01-25T11:35:09.655Z"
   },
   {
    "duration": -189422,
    "start_time": "2022-01-25T11:35:09.660Z"
   },
   {
    "duration": -189431,
    "start_time": "2022-01-25T11:35:09.670Z"
   },
   {
    "duration": -189434,
    "start_time": "2022-01-25T11:35:09.674Z"
   },
   {
    "duration": -189435,
    "start_time": "2022-01-25T11:35:09.677Z"
   },
   {
    "duration": -189437,
    "start_time": "2022-01-25T11:35:09.680Z"
   },
   {
    "duration": -189439,
    "start_time": "2022-01-25T11:35:09.683Z"
   },
   {
    "duration": -189442,
    "start_time": "2022-01-25T11:35:09.687Z"
   },
   {
    "duration": -189444,
    "start_time": "2022-01-25T11:35:09.690Z"
   },
   {
    "duration": -189446,
    "start_time": "2022-01-25T11:35:09.694Z"
   },
   {
    "duration": -189448,
    "start_time": "2022-01-25T11:35:09.697Z"
   },
   {
    "duration": -189450,
    "start_time": "2022-01-25T11:35:09.700Z"
   },
   {
    "duration": -189452,
    "start_time": "2022-01-25T11:35:09.704Z"
   },
   {
    "duration": -189454,
    "start_time": "2022-01-25T11:35:09.707Z"
   },
   {
    "duration": -189455,
    "start_time": "2022-01-25T11:35:09.710Z"
   },
   {
    "duration": -189458,
    "start_time": "2022-01-25T11:35:09.714Z"
   },
   {
    "duration": -189460,
    "start_time": "2022-01-25T11:35:09.717Z"
   },
   {
    "duration": -189461,
    "start_time": "2022-01-25T11:35:09.720Z"
   },
   {
    "duration": -189463,
    "start_time": "2022-01-25T11:35:09.723Z"
   },
   {
    "duration": -189465,
    "start_time": "2022-01-25T11:35:09.726Z"
   },
   {
    "duration": -189474,
    "start_time": "2022-01-25T11:35:09.736Z"
   },
   {
    "duration": -189497,
    "start_time": "2022-01-25T11:35:09.760Z"
   },
   {
    "duration": -189558,
    "start_time": "2022-01-25T11:35:09.823Z"
   },
   {
    "duration": -189561,
    "start_time": "2022-01-25T11:35:09.827Z"
   },
   {
    "duration": -189571,
    "start_time": "2022-01-25T11:35:09.838Z"
   },
   {
    "duration": -189574,
    "start_time": "2022-01-25T11:35:09.842Z"
   },
   {
    "duration": -189582,
    "start_time": "2022-01-25T11:35:09.852Z"
   },
   {
    "duration": -189633,
    "start_time": "2022-01-25T11:35:09.904Z"
   },
   {
    "duration": -189656,
    "start_time": "2022-01-25T11:35:09.929Z"
   },
   {
    "duration": -189659,
    "start_time": "2022-01-25T11:35:09.933Z"
   },
   {
    "duration": -189661,
    "start_time": "2022-01-25T11:35:09.936Z"
   },
   {
    "duration": -189663,
    "start_time": "2022-01-25T11:35:09.939Z"
   },
   {
    "duration": -189665,
    "start_time": "2022-01-25T11:35:09.942Z"
   },
   {
    "duration": -189666,
    "start_time": "2022-01-25T11:35:09.945Z"
   },
   {
    "duration": -189668,
    "start_time": "2022-01-25T11:35:09.948Z"
   },
   {
    "duration": -189679,
    "start_time": "2022-01-25T11:35:09.960Z"
   },
   {
    "duration": -189681,
    "start_time": "2022-01-25T11:35:09.964Z"
   },
   {
    "duration": -189704,
    "start_time": "2022-01-25T11:35:09.988Z"
   },
   {
    "duration": -189723,
    "start_time": "2022-01-25T11:35:10.008Z"
   },
   {
    "duration": -189737,
    "start_time": "2022-01-25T11:35:10.023Z"
   },
   {
    "duration": -189738,
    "start_time": "2022-01-25T11:35:10.026Z"
   },
   {
    "duration": -189740,
    "start_time": "2022-01-25T11:35:10.029Z"
   },
   {
    "duration": -189742,
    "start_time": "2022-01-25T11:35:10.032Z"
   },
   {
    "duration": 892,
    "start_time": "2022-01-25T11:32:08.858Z"
   },
   {
    "duration": 30,
    "start_time": "2022-01-25T11:32:09.753Z"
   },
   {
    "duration": 13,
    "start_time": "2022-01-25T11:32:09.786Z"
   },
   {
    "duration": 8,
    "start_time": "2022-01-25T11:32:09.802Z"
   },
   {
    "duration": 70,
    "start_time": "2022-01-25T11:32:09.812Z"
   },
   {
    "duration": 37,
    "start_time": "2022-01-25T11:32:09.885Z"
   },
   {
    "duration": 6,
    "start_time": "2022-01-25T11:32:09.925Z"
   },
   {
    "duration": 34,
    "start_time": "2022-01-25T11:32:09.935Z"
   },
   {
    "duration": 9,
    "start_time": "2022-01-25T11:32:09.973Z"
   },
   {
    "duration": 50,
    "start_time": "2022-01-25T11:32:09.984Z"
   },
   {
    "duration": 29,
    "start_time": "2022-01-25T11:32:10.037Z"
   },
   {
    "duration": 19,
    "start_time": "2022-01-25T11:32:10.068Z"
   },
   {
    "duration": 78,
    "start_time": "2022-01-25T11:32:10.090Z"
   },
   {
    "duration": 29,
    "start_time": "2022-01-25T11:32:10.170Z"
   },
   {
    "duration": 6,
    "start_time": "2022-01-25T11:32:10.201Z"
   },
   {
    "duration": 21,
    "start_time": "2022-01-25T11:32:10.209Z"
   },
   {
    "duration": 7748,
    "start_time": "2022-01-25T11:32:10.233Z"
   },
   {
    "duration": 18,
    "start_time": "2022-01-25T11:32:17.984Z"
   },
   {
    "duration": 6,
    "start_time": "2022-01-25T11:32:18.005Z"
   },
   {
    "duration": 6,
    "start_time": "2022-01-25T11:32:18.014Z"
   },
   {
    "duration": 46,
    "start_time": "2022-01-25T11:32:18.022Z"
   },
   {
    "duration": 39,
    "start_time": "2022-01-25T11:32:18.071Z"
   },
   {
    "duration": 4,
    "start_time": "2022-01-25T11:32:18.116Z"
   },
   {
    "duration": 45,
    "start_time": "2022-01-25T11:32:18.124Z"
   },
   {
    "duration": 22,
    "start_time": "2022-01-25T11:32:18.172Z"
   },
   {
    "duration": 15,
    "start_time": "2022-01-25T11:32:18.197Z"
   },
   {
    "duration": 1600,
    "start_time": "2022-01-25T11:32:18.214Z"
   },
   {
    "duration": -189398,
    "start_time": "2022-01-25T11:35:29.214Z"
   },
   {
    "duration": -189399,
    "start_time": "2022-01-25T11:35:29.217Z"
   },
   {
    "duration": -189401,
    "start_time": "2022-01-25T11:35:29.220Z"
   },
   {
    "duration": -189402,
    "start_time": "2022-01-25T11:35:29.223Z"
   },
   {
    "duration": -189405,
    "start_time": "2022-01-25T11:35:29.227Z"
   },
   {
    "duration": -189406,
    "start_time": "2022-01-25T11:35:29.229Z"
   },
   {
    "duration": -189408,
    "start_time": "2022-01-25T11:35:29.233Z"
   },
   {
    "duration": -189410,
    "start_time": "2022-01-25T11:35:29.236Z"
   },
   {
    "duration": -189412,
    "start_time": "2022-01-25T11:35:29.240Z"
   },
   {
    "duration": -189414,
    "start_time": "2022-01-25T11:35:29.243Z"
   },
   {
    "duration": -189415,
    "start_time": "2022-01-25T11:35:29.246Z"
   },
   {
    "duration": -189416,
    "start_time": "2022-01-25T11:35:29.248Z"
   },
   {
    "duration": -189419,
    "start_time": "2022-01-25T11:35:29.252Z"
   },
   {
    "duration": -189430,
    "start_time": "2022-01-25T11:35:29.264Z"
   },
   {
    "duration": -189433,
    "start_time": "2022-01-25T11:35:29.269Z"
   },
   {
    "duration": -189438,
    "start_time": "2022-01-25T11:35:29.275Z"
   },
   {
    "duration": -189441,
    "start_time": "2022-01-25T11:35:29.280Z"
   },
   {
    "duration": -189444,
    "start_time": "2022-01-25T11:35:29.284Z"
   },
   {
    "duration": -189448,
    "start_time": "2022-01-25T11:35:29.290Z"
   },
   {
    "duration": -189451,
    "start_time": "2022-01-25T11:35:29.294Z"
   },
   {
    "duration": -189453,
    "start_time": "2022-01-25T11:35:29.298Z"
   },
   {
    "duration": -189456,
    "start_time": "2022-01-25T11:35:29.302Z"
   },
   {
    "duration": -189460,
    "start_time": "2022-01-25T11:35:29.307Z"
   },
   {
    "duration": -189462,
    "start_time": "2022-01-25T11:35:29.310Z"
   },
   {
    "duration": -189465,
    "start_time": "2022-01-25T11:35:29.315Z"
   },
   {
    "duration": -189467,
    "start_time": "2022-01-25T11:35:29.319Z"
   },
   {
    "duration": -189472,
    "start_time": "2022-01-25T11:35:29.325Z"
   },
   {
    "duration": -189464,
    "start_time": "2022-01-25T11:35:29.329Z"
   },
   {
    "duration": -189469,
    "start_time": "2022-01-25T11:35:29.335Z"
   },
   {
    "duration": -189470,
    "start_time": "2022-01-25T11:35:29.338Z"
   },
   {
    "duration": -189474,
    "start_time": "2022-01-25T11:35:29.343Z"
   },
   {
    "duration": -189475,
    "start_time": "2022-01-25T11:35:29.346Z"
   },
   {
    "duration": -189479,
    "start_time": "2022-01-25T11:35:29.351Z"
   },
   {
    "duration": -189482,
    "start_time": "2022-01-25T11:35:29.356Z"
   },
   {
    "duration": -189485,
    "start_time": "2022-01-25T11:35:29.360Z"
   },
   {
    "duration": -189494,
    "start_time": "2022-01-25T11:35:29.371Z"
   },
   {
    "duration": -189497,
    "start_time": "2022-01-25T11:35:29.375Z"
   },
   {
    "duration": -189498,
    "start_time": "2022-01-25T11:35:29.378Z"
   },
   {
    "duration": -189501,
    "start_time": "2022-01-25T11:35:29.382Z"
   },
   {
    "duration": -189507,
    "start_time": "2022-01-25T11:35:29.390Z"
   },
   {
    "duration": -189510,
    "start_time": "2022-01-25T11:35:29.395Z"
   },
   {
    "duration": -189512,
    "start_time": "2022-01-25T11:35:29.398Z"
   },
   {
    "duration": -189514,
    "start_time": "2022-01-25T11:35:29.401Z"
   },
   {
    "duration": 4,
    "start_time": "2022-01-25T11:32:26.999Z"
   },
   {
    "duration": 2,
    "start_time": "2022-01-25T11:32:28.472Z"
   },
   {
    "duration": 12,
    "start_time": "2022-01-25T11:32:29.118Z"
   },
   {
    "duration": 34,
    "start_time": "2022-01-25T11:32:29.282Z"
   },
   {
    "duration": 821,
    "start_time": "2022-01-25T11:32:37.718Z"
   },
   {
    "duration": 31,
    "start_time": "2022-01-25T11:32:38.542Z"
   },
   {
    "duration": 11,
    "start_time": "2022-01-25T11:32:38.576Z"
   },
   {
    "duration": 11,
    "start_time": "2022-01-25T11:32:38.590Z"
   },
   {
    "duration": 67,
    "start_time": "2022-01-25T11:32:38.603Z"
   },
   {
    "duration": 38,
    "start_time": "2022-01-25T11:32:38.672Z"
   },
   {
    "duration": 6,
    "start_time": "2022-01-25T11:32:38.713Z"
   },
   {
    "duration": 41,
    "start_time": "2022-01-25T11:32:38.725Z"
   },
   {
    "duration": 7,
    "start_time": "2022-01-25T11:32:38.770Z"
   },
   {
    "duration": 41,
    "start_time": "2022-01-25T11:32:38.780Z"
   },
   {
    "duration": 45,
    "start_time": "2022-01-25T11:32:38.824Z"
   },
   {
    "duration": 13,
    "start_time": "2022-01-25T11:32:38.872Z"
   },
   {
    "duration": 55,
    "start_time": "2022-01-25T11:32:38.888Z"
   },
   {
    "duration": 44,
    "start_time": "2022-01-25T11:32:38.946Z"
   },
   {
    "duration": 6,
    "start_time": "2022-01-25T11:32:38.992Z"
   },
   {
    "duration": 8,
    "start_time": "2022-01-25T11:32:39.001Z"
   },
   {
    "duration": 8176,
    "start_time": "2022-01-25T11:32:39.011Z"
   },
   {
    "duration": 17,
    "start_time": "2022-01-25T11:32:47.190Z"
   },
   {
    "duration": 7,
    "start_time": "2022-01-25T11:32:47.209Z"
   },
   {
    "duration": 5,
    "start_time": "2022-01-25T11:32:47.219Z"
   },
   {
    "duration": 44,
    "start_time": "2022-01-25T11:32:47.227Z"
   },
   {
    "duration": 42,
    "start_time": "2022-01-25T11:32:47.274Z"
   },
   {
    "duration": 4,
    "start_time": "2022-01-25T11:32:47.322Z"
   },
   {
    "duration": 36,
    "start_time": "2022-01-25T11:32:47.330Z"
   },
   {
    "duration": 20,
    "start_time": "2022-01-25T11:32:47.369Z"
   },
   {
    "duration": 14,
    "start_time": "2022-01-25T11:32:47.391Z"
   },
   {
    "duration": 1174,
    "start_time": "2022-01-25T11:32:47.408Z"
   },
   {
    "duration": -189438,
    "start_time": "2022-01-25T11:35:58.023Z"
   },
   {
    "duration": -189440,
    "start_time": "2022-01-25T11:35:58.027Z"
   },
   {
    "duration": -189442,
    "start_time": "2022-01-25T11:35:58.030Z"
   },
   {
    "duration": -189445,
    "start_time": "2022-01-25T11:35:58.034Z"
   },
   {
    "duration": -189447,
    "start_time": "2022-01-25T11:35:58.038Z"
   },
   {
    "duration": -189449,
    "start_time": "2022-01-25T11:35:58.041Z"
   },
   {
    "duration": -189451,
    "start_time": "2022-01-25T11:35:58.045Z"
   },
   {
    "duration": -189453,
    "start_time": "2022-01-25T11:35:58.048Z"
   },
   {
    "duration": -189456,
    "start_time": "2022-01-25T11:35:58.052Z"
   },
   {
    "duration": -189457,
    "start_time": "2022-01-25T11:35:58.055Z"
   },
   {
    "duration": -189459,
    "start_time": "2022-01-25T11:35:58.058Z"
   },
   {
    "duration": -189460,
    "start_time": "2022-01-25T11:35:58.061Z"
   },
   {
    "duration": -189470,
    "start_time": "2022-01-25T11:35:58.072Z"
   },
   {
    "duration": -189473,
    "start_time": "2022-01-25T11:35:58.076Z"
   },
   {
    "duration": -189474,
    "start_time": "2022-01-25T11:35:58.079Z"
   },
   {
    "duration": -189476,
    "start_time": "2022-01-25T11:35:58.082Z"
   },
   {
    "duration": -189477,
    "start_time": "2022-01-25T11:35:58.085Z"
   },
   {
    "duration": -189479,
    "start_time": "2022-01-25T11:35:58.088Z"
   },
   {
    "duration": -189482,
    "start_time": "2022-01-25T11:35:58.092Z"
   },
   {
    "duration": -189484,
    "start_time": "2022-01-25T11:35:58.095Z"
   },
   {
    "duration": -189486,
    "start_time": "2022-01-25T11:35:58.099Z"
   },
   {
    "duration": -189488,
    "start_time": "2022-01-25T11:35:58.102Z"
   },
   {
    "duration": -189489,
    "start_time": "2022-01-25T11:35:58.105Z"
   },
   {
    "duration": -189491,
    "start_time": "2022-01-25T11:35:58.108Z"
   },
   {
    "duration": -189495,
    "start_time": "2022-01-25T11:35:58.113Z"
   },
   {
    "duration": -189496,
    "start_time": "2022-01-25T11:35:58.116Z"
   },
   {
    "duration": -189498,
    "start_time": "2022-01-25T11:35:58.119Z"
   },
   {
    "duration": -189501,
    "start_time": "2022-01-25T11:35:58.123Z"
   },
   {
    "duration": -189504,
    "start_time": "2022-01-25T11:35:58.127Z"
   },
   {
    "duration": -189465,
    "start_time": "2022-01-25T11:35:58.130Z"
   },
   {
    "duration": -189469,
    "start_time": "2022-01-25T11:35:58.135Z"
   },
   {
    "duration": -189471,
    "start_time": "2022-01-25T11:35:58.139Z"
   },
   {
    "duration": -189475,
    "start_time": "2022-01-25T11:35:58.144Z"
   },
   {
    "duration": -189476,
    "start_time": "2022-01-25T11:35:58.147Z"
   },
   {
    "duration": -189489,
    "start_time": "2022-01-25T11:35:58.161Z"
   },
   {
    "duration": -189490,
    "start_time": "2022-01-25T11:35:58.164Z"
   },
   {
    "duration": -189493,
    "start_time": "2022-01-25T11:35:58.168Z"
   },
   {
    "duration": -189495,
    "start_time": "2022-01-25T11:35:58.172Z"
   },
   {
    "duration": -189498,
    "start_time": "2022-01-25T11:35:58.176Z"
   },
   {
    "duration": -189500,
    "start_time": "2022-01-25T11:35:58.180Z"
   },
   {
    "duration": -189502,
    "start_time": "2022-01-25T11:35:58.183Z"
   },
   {
    "duration": -189504,
    "start_time": "2022-01-25T11:35:58.187Z"
   },
   {
    "duration": -189507,
    "start_time": "2022-01-25T11:35:58.191Z"
   },
   {
    "duration": 1025,
    "start_time": "2022-01-25T11:33:07.584Z"
   },
   {
    "duration": 27,
    "start_time": "2022-01-25T11:33:08.612Z"
   },
   {
    "duration": 24,
    "start_time": "2022-01-25T11:33:08.642Z"
   },
   {
    "duration": 16,
    "start_time": "2022-01-25T11:33:08.669Z"
   },
   {
    "duration": 43,
    "start_time": "2022-01-25T11:33:08.688Z"
   },
   {
    "duration": 62,
    "start_time": "2022-01-25T11:33:08.734Z"
   },
   {
    "duration": 6,
    "start_time": "2022-01-25T11:33:08.799Z"
   },
   {
    "duration": 7,
    "start_time": "2022-01-25T11:33:08.809Z"
   },
   {
    "duration": 6,
    "start_time": "2022-01-25T11:33:08.819Z"
   },
   {
    "duration": 76,
    "start_time": "2022-01-25T11:33:08.827Z"
   },
   {
    "duration": 7,
    "start_time": "2022-01-25T11:33:08.906Z"
   },
   {
    "duration": 18,
    "start_time": "2022-01-25T11:33:08.915Z"
   },
   {
    "duration": 84,
    "start_time": "2022-01-25T11:33:08.936Z"
   },
   {
    "duration": 27,
    "start_time": "2022-01-25T11:33:09.023Z"
   },
   {
    "duration": 7,
    "start_time": "2022-01-25T11:33:09.065Z"
   },
   {
    "duration": 6,
    "start_time": "2022-01-25T11:33:09.074Z"
   },
   {
    "duration": 8239,
    "start_time": "2022-01-25T11:33:09.083Z"
   },
   {
    "duration": 19,
    "start_time": "2022-01-25T11:33:17.324Z"
   },
   {
    "duration": 8,
    "start_time": "2022-01-25T11:33:17.372Z"
   },
   {
    "duration": 900,
    "start_time": "2022-01-25T11:33:22.814Z"
   },
   {
    "duration": 30,
    "start_time": "2022-01-25T11:33:23.717Z"
   },
   {
    "duration": 23,
    "start_time": "2022-01-25T11:33:23.750Z"
   },
   {
    "duration": 13,
    "start_time": "2022-01-25T11:33:23.776Z"
   },
   {
    "duration": 83,
    "start_time": "2022-01-25T11:33:23.792Z"
   },
   {
    "duration": 39,
    "start_time": "2022-01-25T11:33:23.878Z"
   },
   {
    "duration": 8,
    "start_time": "2022-01-25T11:33:23.920Z"
   },
   {
    "duration": 43,
    "start_time": "2022-01-25T11:33:23.931Z"
   },
   {
    "duration": 5,
    "start_time": "2022-01-25T11:33:23.980Z"
   },
   {
    "duration": 45,
    "start_time": "2022-01-25T11:33:23.989Z"
   },
   {
    "duration": 31,
    "start_time": "2022-01-25T11:33:24.037Z"
   },
   {
    "duration": 15,
    "start_time": "2022-01-25T11:33:24.071Z"
   },
   {
    "duration": 89,
    "start_time": "2022-01-25T11:33:24.089Z"
   },
   {
    "duration": 31,
    "start_time": "2022-01-25T11:33:24.181Z"
   },
   {
    "duration": 6,
    "start_time": "2022-01-25T11:33:24.215Z"
   },
   {
    "duration": 41,
    "start_time": "2022-01-25T11:33:24.224Z"
   },
   {
    "duration": 7198,
    "start_time": "2022-01-25T11:33:24.268Z"
   },
   {
    "duration": 18,
    "start_time": "2022-01-25T11:33:31.468Z"
   },
   {
    "duration": 10,
    "start_time": "2022-01-25T11:33:31.489Z"
   },
   {
    "duration": 6,
    "start_time": "2022-01-25T11:33:31.502Z"
   },
   {
    "duration": 21,
    "start_time": "2022-01-25T11:33:31.510Z"
   },
   {
    "duration": 62,
    "start_time": "2022-01-25T11:33:31.534Z"
   },
   {
    "duration": 5,
    "start_time": "2022-01-25T11:33:31.598Z"
   },
   {
    "duration": 20,
    "start_time": "2022-01-25T11:33:31.605Z"
   },
   {
    "duration": 42,
    "start_time": "2022-01-25T11:33:31.628Z"
   },
   {
    "duration": 57,
    "start_time": "2022-01-25T11:33:31.673Z"
   },
   {
    "duration": 1509,
    "start_time": "2022-01-25T11:33:31.737Z"
   },
   {
    "duration": -189403,
    "start_time": "2022-01-25T11:36:42.653Z"
   },
   {
    "duration": -189406,
    "start_time": "2022-01-25T11:36:42.657Z"
   },
   {
    "duration": -189408,
    "start_time": "2022-01-25T11:36:42.661Z"
   },
   {
    "duration": -189409,
    "start_time": "2022-01-25T11:36:42.663Z"
   },
   {
    "duration": -189411,
    "start_time": "2022-01-25T11:36:42.667Z"
   },
   {
    "duration": -189412,
    "start_time": "2022-01-25T11:36:42.670Z"
   },
   {
    "duration": -189414,
    "start_time": "2022-01-25T11:36:42.674Z"
   },
   {
    "duration": -189416,
    "start_time": "2022-01-25T11:36:42.677Z"
   },
   {
    "duration": -189417,
    "start_time": "2022-01-25T11:36:42.680Z"
   },
   {
    "duration": -189418,
    "start_time": "2022-01-25T11:36:42.683Z"
   },
   {
    "duration": -189420,
    "start_time": "2022-01-25T11:36:42.687Z"
   },
   {
    "duration": -189422,
    "start_time": "2022-01-25T11:36:42.690Z"
   },
   {
    "duration": -189430,
    "start_time": "2022-01-25T11:36:42.700Z"
   },
   {
    "duration": -189432,
    "start_time": "2022-01-25T11:36:42.703Z"
   },
   {
    "duration": -189433,
    "start_time": "2022-01-25T11:36:42.706Z"
   },
   {
    "duration": -189435,
    "start_time": "2022-01-25T11:36:42.709Z"
   },
   {
    "duration": -189437,
    "start_time": "2022-01-25T11:36:42.713Z"
   },
   {
    "duration": -189440,
    "start_time": "2022-01-25T11:36:42.717Z"
   },
   {
    "duration": -189441,
    "start_time": "2022-01-25T11:36:42.720Z"
   },
   {
    "duration": -189443,
    "start_time": "2022-01-25T11:36:42.723Z"
   },
   {
    "duration": -189444,
    "start_time": "2022-01-25T11:36:42.726Z"
   },
   {
    "duration": -189447,
    "start_time": "2022-01-25T11:36:42.730Z"
   },
   {
    "duration": -189449,
    "start_time": "2022-01-25T11:36:42.734Z"
   },
   {
    "duration": -189451,
    "start_time": "2022-01-25T11:36:42.737Z"
   },
   {
    "duration": -189460,
    "start_time": "2022-01-25T11:36:42.748Z"
   },
   {
    "duration": -189463,
    "start_time": "2022-01-25T11:36:42.752Z"
   },
   {
    "duration": -189464,
    "start_time": "2022-01-25T11:36:42.755Z"
   },
   {
    "duration": -189467,
    "start_time": "2022-01-25T11:36:42.759Z"
   },
   {
    "duration": -189477,
    "start_time": "2022-01-25T11:36:42.771Z"
   },
   {
    "duration": -189479,
    "start_time": "2022-01-25T11:36:42.775Z"
   },
   {
    "duration": -189480,
    "start_time": "2022-01-25T11:36:42.779Z"
   },
   {
    "duration": -189482,
    "start_time": "2022-01-25T11:36:42.783Z"
   },
   {
    "duration": -189483,
    "start_time": "2022-01-25T11:36:42.786Z"
   },
   {
    "duration": -189483,
    "start_time": "2022-01-25T11:36:42.788Z"
   },
   {
    "duration": -189433,
    "start_time": "2022-01-25T11:36:42.800Z"
   },
   {
    "duration": -189434,
    "start_time": "2022-01-25T11:36:42.804Z"
   },
   {
    "duration": -189436,
    "start_time": "2022-01-25T11:36:42.808Z"
   },
   {
    "duration": -189442,
    "start_time": "2022-01-25T11:36:42.816Z"
   },
   {
    "duration": -189443,
    "start_time": "2022-01-25T11:36:42.819Z"
   },
   {
    "duration": -189448,
    "start_time": "2022-01-25T11:36:42.825Z"
   },
   {
    "duration": -189449,
    "start_time": "2022-01-25T11:36:42.828Z"
   },
   {
    "duration": -189459,
    "start_time": "2022-01-25T11:36:42.840Z"
   },
   {
    "duration": -189461,
    "start_time": "2022-01-25T11:36:42.843Z"
   },
   {
    "duration": 876,
    "start_time": "2022-01-25T11:34:09.929Z"
   },
   {
    "duration": 26,
    "start_time": "2022-01-25T11:34:10.808Z"
   },
   {
    "duration": 30,
    "start_time": "2022-01-25T11:34:10.841Z"
   },
   {
    "duration": 16,
    "start_time": "2022-01-25T11:34:10.873Z"
   },
   {
    "duration": 54,
    "start_time": "2022-01-25T11:34:10.891Z"
   },
   {
    "duration": 48,
    "start_time": "2022-01-25T11:34:10.947Z"
   },
   {
    "duration": 5,
    "start_time": "2022-01-25T11:34:10.999Z"
   },
   {
    "duration": 11,
    "start_time": "2022-01-25T11:34:11.009Z"
   },
   {
    "duration": 7,
    "start_time": "2022-01-25T11:34:11.023Z"
   },
   {
    "duration": 72,
    "start_time": "2022-01-25T11:34:11.033Z"
   },
   {
    "duration": 8,
    "start_time": "2022-01-25T11:34:11.108Z"
   },
   {
    "duration": 11,
    "start_time": "2022-01-25T11:34:11.119Z"
   },
   {
    "duration": 86,
    "start_time": "2022-01-25T11:34:11.133Z"
   },
   {
    "duration": 53,
    "start_time": "2022-01-25T11:34:11.221Z"
   },
   {
    "duration": 6,
    "start_time": "2022-01-25T11:34:11.277Z"
   },
   {
    "duration": 13,
    "start_time": "2022-01-25T11:34:11.285Z"
   },
   {
    "duration": 9908,
    "start_time": "2022-01-25T11:34:11.301Z"
   },
   {
    "duration": 18,
    "start_time": "2022-01-25T11:34:21.212Z"
   },
   {
    "duration": 32,
    "start_time": "2022-01-25T11:34:21.233Z"
   },
   {
    "duration": 8,
    "start_time": "2022-01-25T11:34:21.268Z"
   },
   {
    "duration": 20,
    "start_time": "2022-01-25T11:34:21.278Z"
   },
   {
    "duration": 45,
    "start_time": "2022-01-25T11:34:21.305Z"
   },
   {
    "duration": 5,
    "start_time": "2022-01-25T11:34:21.367Z"
   },
   {
    "duration": 22,
    "start_time": "2022-01-25T11:34:21.375Z"
   },
   {
    "duration": 24,
    "start_time": "2022-01-25T11:34:21.400Z"
   },
   {
    "duration": 24,
    "start_time": "2022-01-25T11:34:21.427Z"
   },
   {
    "duration": 1244,
    "start_time": "2022-01-25T11:34:21.465Z"
   },
   {
    "duration": -189474,
    "start_time": "2022-01-25T11:37:32.186Z"
   },
   {
    "duration": -189475,
    "start_time": "2022-01-25T11:37:32.189Z"
   },
   {
    "duration": -189486,
    "start_time": "2022-01-25T11:37:32.201Z"
   },
   {
    "duration": -189488,
    "start_time": "2022-01-25T11:37:32.205Z"
   },
   {
    "duration": -189491,
    "start_time": "2022-01-25T11:37:32.209Z"
   },
   {
    "duration": -189494,
    "start_time": "2022-01-25T11:37:32.213Z"
   },
   {
    "duration": -189495,
    "start_time": "2022-01-25T11:37:32.216Z"
   },
   {
    "duration": -189497,
    "start_time": "2022-01-25T11:37:32.219Z"
   },
   {
    "duration": -189499,
    "start_time": "2022-01-25T11:37:32.223Z"
   },
   {
    "duration": -189501,
    "start_time": "2022-01-25T11:37:32.226Z"
   },
   {
    "duration": -189503,
    "start_time": "2022-01-25T11:37:32.230Z"
   },
   {
    "duration": -189505,
    "start_time": "2022-01-25T11:37:32.233Z"
   },
   {
    "duration": -189507,
    "start_time": "2022-01-25T11:37:32.237Z"
   },
   {
    "duration": -189517,
    "start_time": "2022-01-25T11:37:32.248Z"
   },
   {
    "duration": -189521,
    "start_time": "2022-01-25T11:37:32.253Z"
   },
   {
    "duration": -189524,
    "start_time": "2022-01-25T11:37:32.258Z"
   },
   {
    "duration": -189543,
    "start_time": "2022-01-25T11:37:32.278Z"
   },
   {
    "duration": -189552,
    "start_time": "2022-01-25T11:37:32.288Z"
   },
   {
    "duration": -189557,
    "start_time": "2022-01-25T11:37:32.294Z"
   },
   {
    "duration": -189566,
    "start_time": "2022-01-25T11:37:32.304Z"
   },
   {
    "duration": -189570,
    "start_time": "2022-01-25T11:37:32.310Z"
   },
   {
    "duration": -189579,
    "start_time": "2022-01-25T11:37:32.320Z"
   },
   {
    "duration": -189584,
    "start_time": "2022-01-25T11:37:32.326Z"
   },
   {
    "duration": -189592,
    "start_time": "2022-01-25T11:37:32.336Z"
   },
   {
    "duration": -189597,
    "start_time": "2022-01-25T11:37:32.342Z"
   },
   {
    "duration": -189606,
    "start_time": "2022-01-25T11:37:32.353Z"
   },
   {
    "duration": -189610,
    "start_time": "2022-01-25T11:37:32.359Z"
   },
   {
    "duration": -189619,
    "start_time": "2022-01-25T11:37:32.369Z"
   },
   {
    "duration": -189623,
    "start_time": "2022-01-25T11:37:32.374Z"
   },
   {
    "duration": -189615,
    "start_time": "2022-01-25T11:37:32.379Z"
   },
   {
    "duration": -189623,
    "start_time": "2022-01-25T11:37:32.389Z"
   },
   {
    "duration": -189625,
    "start_time": "2022-01-25T11:37:32.393Z"
   },
   {
    "duration": -189627,
    "start_time": "2022-01-25T11:37:32.396Z"
   },
   {
    "duration": -189629,
    "start_time": "2022-01-25T11:37:32.399Z"
   },
   {
    "duration": -189631,
    "start_time": "2022-01-25T11:37:32.403Z"
   },
   {
    "duration": -189633,
    "start_time": "2022-01-25T11:37:32.406Z"
   },
   {
    "duration": -189635,
    "start_time": "2022-01-25T11:37:32.409Z"
   },
   {
    "duration": -189637,
    "start_time": "2022-01-25T11:37:32.413Z"
   },
   {
    "duration": -189640,
    "start_time": "2022-01-25T11:37:32.417Z"
   },
   {
    "duration": -189640,
    "start_time": "2022-01-25T11:37:32.419Z"
   },
   {
    "duration": -189643,
    "start_time": "2022-01-25T11:37:32.423Z"
   },
   {
    "duration": -189645,
    "start_time": "2022-01-25T11:37:32.426Z"
   },
   {
    "duration": -189646,
    "start_time": "2022-01-25T11:37:32.429Z"
   },
   {
    "duration": 13,
    "start_time": "2022-01-25T11:36:41.946Z"
   },
   {
    "duration": 16,
    "start_time": "2022-01-25T11:41:22.057Z"
   },
   {
    "duration": 7636,
    "start_time": "2022-01-25T11:44:23.319Z"
   },
   {
    "duration": 4,
    "start_time": "2022-01-25T11:44:30.966Z"
   },
   {
    "duration": 26,
    "start_time": "2022-01-25T11:44:30.973Z"
   },
   {
    "duration": 40,
    "start_time": "2022-01-25T11:44:31.002Z"
   },
   {
    "duration": 867,
    "start_time": "2022-01-25T11:45:20.844Z"
   },
   {
    "duration": 30,
    "start_time": "2022-01-25T11:45:21.715Z"
   },
   {
    "duration": 19,
    "start_time": "2022-01-25T11:45:21.750Z"
   },
   {
    "duration": 9,
    "start_time": "2022-01-25T11:45:21.772Z"
   },
   {
    "duration": 43,
    "start_time": "2022-01-25T11:45:21.783Z"
   },
   {
    "duration": 71,
    "start_time": "2022-01-25T11:45:21.828Z"
   },
   {
    "duration": 6,
    "start_time": "2022-01-25T11:45:21.901Z"
   },
   {
    "duration": 8,
    "start_time": "2022-01-25T11:45:21.911Z"
   },
   {
    "duration": 8,
    "start_time": "2022-01-25T11:45:21.922Z"
   },
   {
    "duration": 43,
    "start_time": "2022-01-25T11:45:21.965Z"
   },
   {
    "duration": 7,
    "start_time": "2022-01-25T11:45:22.010Z"
   },
   {
    "duration": 15,
    "start_time": "2022-01-25T11:45:22.019Z"
   },
   {
    "duration": 73,
    "start_time": "2022-01-25T11:45:22.036Z"
   },
   {
    "duration": 29,
    "start_time": "2022-01-25T11:45:22.112Z"
   },
   {
    "duration": 6,
    "start_time": "2022-01-25T11:45:22.164Z"
   },
   {
    "duration": 17,
    "start_time": "2022-01-25T11:45:22.173Z"
   },
   {
    "duration": 7696,
    "start_time": "2022-01-25T11:45:22.192Z"
   },
   {
    "duration": 13,
    "start_time": "2022-01-25T11:45:29.891Z"
   },
   {
    "duration": 7430,
    "start_time": "2022-01-25T11:45:29.907Z"
   },
   {
    "duration": 3,
    "start_time": "2022-01-25T11:45:37.339Z"
   },
   {
    "duration": 23,
    "start_time": "2022-01-25T11:45:37.345Z"
   },
   {
    "duration": 46,
    "start_time": "2022-01-25T11:45:37.370Z"
   },
   {
    "duration": 4,
    "start_time": "2022-01-25T11:45:37.423Z"
   },
   {
    "duration": 43,
    "start_time": "2022-01-25T11:45:37.432Z"
   },
   {
    "duration": 21,
    "start_time": "2022-01-25T11:45:37.477Z"
   },
   {
    "duration": 17,
    "start_time": "2022-01-25T11:45:37.501Z"
   },
   {
    "duration": 424,
    "start_time": "2022-01-25T11:45:37.522Z"
   },
   {
    "duration": -189382,
    "start_time": "2022-01-25T11:48:47.332Z"
   },
   {
    "duration": -189404,
    "start_time": "2022-01-25T11:48:47.356Z"
   },
   {
    "duration": -189405,
    "start_time": "2022-01-25T11:48:47.360Z"
   },
   {
    "duration": -189406,
    "start_time": "2022-01-25T11:48:47.363Z"
   },
   {
    "duration": -189406,
    "start_time": "2022-01-25T11:48:47.366Z"
   },
   {
    "duration": -189407,
    "start_time": "2022-01-25T11:48:47.369Z"
   },
   {
    "duration": -189409,
    "start_time": "2022-01-25T11:48:47.373Z"
   },
   {
    "duration": -189411,
    "start_time": "2022-01-25T11:48:47.377Z"
   },
   {
    "duration": -189411,
    "start_time": "2022-01-25T11:48:47.380Z"
   },
   {
    "duration": -189413,
    "start_time": "2022-01-25T11:48:47.383Z"
   },
   {
    "duration": -189414,
    "start_time": "2022-01-25T11:48:47.386Z"
   },
   {
    "duration": -189414,
    "start_time": "2022-01-25T11:48:47.389Z"
   },
   {
    "duration": -189414,
    "start_time": "2022-01-25T11:48:47.392Z"
   },
   {
    "duration": -189422,
    "start_time": "2022-01-25T11:48:47.402Z"
   },
   {
    "duration": -189423,
    "start_time": "2022-01-25T11:48:47.406Z"
   },
   {
    "duration": -189424,
    "start_time": "2022-01-25T11:48:47.409Z"
   },
   {
    "duration": -189424,
    "start_time": "2022-01-25T11:48:47.412Z"
   },
   {
    "duration": -189432,
    "start_time": "2022-01-25T11:48:47.421Z"
   },
   {
    "duration": -189473,
    "start_time": "2022-01-25T11:48:47.464Z"
   },
   {
    "duration": -189476,
    "start_time": "2022-01-25T11:48:47.468Z"
   },
   {
    "duration": -189477,
    "start_time": "2022-01-25T11:48:47.471Z"
   },
   {
    "duration": -189479,
    "start_time": "2022-01-25T11:48:47.475Z"
   },
   {
    "duration": -189480,
    "start_time": "2022-01-25T11:48:47.477Z"
   },
   {
    "duration": -189482,
    "start_time": "2022-01-25T11:48:47.481Z"
   },
   {
    "duration": -189518,
    "start_time": "2022-01-25T11:48:47.519Z"
   },
   {
    "duration": -189520,
    "start_time": "2022-01-25T11:48:47.523Z"
   },
   {
    "duration": -189520,
    "start_time": "2022-01-25T11:48:47.526Z"
   },
   {
    "duration": -189465,
    "start_time": "2022-01-25T11:48:47.530Z"
   },
   {
    "duration": -189466,
    "start_time": "2022-01-25T11:48:47.533Z"
   },
   {
    "duration": -189466,
    "start_time": "2022-01-25T11:48:47.536Z"
   },
   {
    "duration": -189467,
    "start_time": "2022-01-25T11:48:47.539Z"
   },
   {
    "duration": -189469,
    "start_time": "2022-01-25T11:48:47.543Z"
   },
   {
    "duration": -189469,
    "start_time": "2022-01-25T11:48:47.546Z"
   },
   {
    "duration": -189472,
    "start_time": "2022-01-25T11:48:47.550Z"
   },
   {
    "duration": -189479,
    "start_time": "2022-01-25T11:48:47.559Z"
   },
   {
    "duration": -189482,
    "start_time": "2022-01-25T11:48:47.563Z"
   },
   {
    "duration": -189528,
    "start_time": "2022-01-25T11:48:47.611Z"
   },
   {
    "duration": -189544,
    "start_time": "2022-01-25T11:48:47.628Z"
   },
   {
    "duration": -189545,
    "start_time": "2022-01-25T11:48:47.631Z"
   },
   {
    "duration": -189550,
    "start_time": "2022-01-25T11:48:47.637Z"
   },
   {
    "duration": -189551,
    "start_time": "2022-01-25T11:48:47.640Z"
   },
   {
    "duration": -189552,
    "start_time": "2022-01-25T11:48:47.643Z"
   },
   {
    "duration": -189553,
    "start_time": "2022-01-25T11:48:47.646Z"
   },
   {
    "duration": 1272,
    "start_time": "2022-01-25T11:46:24.249Z"
   },
   {
    "duration": -189409,
    "start_time": "2022-01-25T11:49:34.934Z"
   },
   {
    "duration": -189411,
    "start_time": "2022-01-25T11:49:34.938Z"
   },
   {
    "duration": -189413,
    "start_time": "2022-01-25T11:49:34.942Z"
   },
   {
    "duration": 1085,
    "start_time": "2022-01-25T11:46:32.005Z"
   },
   {
    "duration": 3,
    "start_time": "2022-01-25T11:46:33.383Z"
   },
   {
    "duration": 1269,
    "start_time": "2022-01-25T11:46:38.434Z"
   },
   {
    "duration": 1577,
    "start_time": "2022-01-25T11:46:43.451Z"
   },
   {
    "duration": 7335,
    "start_time": "2022-01-25T11:46:47.615Z"
   },
   {
    "duration": 12,
    "start_time": "2022-01-25T11:46:54.953Z"
   },
   {
    "duration": 3,
    "start_time": "2022-01-25T11:46:54.969Z"
   },
   {
    "duration": 49,
    "start_time": "2022-01-25T11:46:54.975Z"
   },
   {
    "duration": 7646,
    "start_time": "2022-01-25T11:48:01.628Z"
   },
   {
    "duration": -189400,
    "start_time": "2022-01-25T11:51:18.677Z"
   },
   {
    "duration": 7558,
    "start_time": "2022-01-25T11:48:15.457Z"
   },
   {
    "duration": 54,
    "start_time": "2022-01-25T11:48:23.017Z"
   },
   {
    "duration": 7442,
    "start_time": "2022-01-25T11:48:59.959Z"
   },
   {
    "duration": 39,
    "start_time": "2022-01-25T11:49:07.404Z"
   },
   {
    "duration": 7427,
    "start_time": "2022-01-25T11:49:16.759Z"
   },
   {
    "duration": 39,
    "start_time": "2022-01-25T11:49:24.189Z"
   },
   {
    "duration": 849,
    "start_time": "2022-01-25T11:50:40.785Z"
   },
   {
    "duration": 30,
    "start_time": "2022-01-25T11:50:41.636Z"
   },
   {
    "duration": 13,
    "start_time": "2022-01-25T11:50:41.668Z"
   },
   {
    "duration": 14,
    "start_time": "2022-01-25T11:50:41.684Z"
   },
   {
    "duration": 37,
    "start_time": "2022-01-25T11:50:41.701Z"
   },
   {
    "duration": 39,
    "start_time": "2022-01-25T11:50:41.764Z"
   },
   {
    "duration": 6,
    "start_time": "2022-01-25T11:50:41.806Z"
   },
   {
    "duration": 7,
    "start_time": "2022-01-25T11:50:41.816Z"
   },
   {
    "duration": 42,
    "start_time": "2022-01-25T11:50:41.827Z"
   },
   {
    "duration": 42,
    "start_time": "2022-01-25T11:50:41.872Z"
   },
   {
    "duration": 9,
    "start_time": "2022-01-25T11:50:41.917Z"
   },
   {
    "duration": 43,
    "start_time": "2022-01-25T11:50:41.929Z"
   },
   {
    "duration": 57,
    "start_time": "2022-01-25T11:50:41.975Z"
   },
   {
    "duration": 51,
    "start_time": "2022-01-25T11:50:42.035Z"
   },
   {
    "duration": 7,
    "start_time": "2022-01-25T11:50:42.089Z"
   },
   {
    "duration": 12,
    "start_time": "2022-01-25T11:50:42.099Z"
   },
   {
    "duration": 7661,
    "start_time": "2022-01-25T11:50:42.114Z"
   },
   {
    "duration": 12,
    "start_time": "2022-01-25T11:50:49.778Z"
   },
   {
    "duration": 7978,
    "start_time": "2022-01-25T11:50:49.793Z"
   },
   {
    "duration": 4,
    "start_time": "2022-01-25T11:50:57.773Z"
   },
   {
    "duration": 7414,
    "start_time": "2022-01-25T11:50:57.779Z"
   },
   {
    "duration": 40,
    "start_time": "2022-01-25T11:51:05.195Z"
   },
   {
    "duration": 25,
    "start_time": "2022-01-25T11:51:05.241Z"
   },
   {
    "duration": 20,
    "start_time": "2022-01-25T11:51:05.270Z"
   },
   {
    "duration": 58,
    "start_time": "2022-01-25T11:51:05.292Z"
   },
   {
    "duration": 20,
    "start_time": "2022-01-25T11:51:05.352Z"
   },
   {
    "duration": 6,
    "start_time": "2022-01-25T11:51:05.374Z"
   },
   {
    "duration": 25,
    "start_time": "2022-01-25T11:51:05.383Z"
   },
   {
    "duration": 31,
    "start_time": "2022-01-25T11:51:05.410Z"
   },
   {
    "duration": 43,
    "start_time": "2022-01-25T11:51:05.443Z"
   },
   {
    "duration": 21,
    "start_time": "2022-01-25T11:51:05.488Z"
   },
   {
    "duration": 3265,
    "start_time": "2022-01-25T11:51:05.512Z"
   },
   {
    "duration": 8,
    "start_time": "2022-01-25T11:51:08.781Z"
   },
   {
    "duration": 3201,
    "start_time": "2022-01-25T11:51:08.792Z"
   },
   {
    "duration": 781,
    "start_time": "2022-01-25T11:51:11.996Z"
   },
   {
    "duration": 7,
    "start_time": "2022-01-25T11:51:12.779Z"
   },
   {
    "duration": 20,
    "start_time": "2022-01-25T11:51:12.789Z"
   },
   {
    "duration": 10,
    "start_time": "2022-01-25T11:51:12.812Z"
   },
   {
    "duration": 15,
    "start_time": "2022-01-25T11:51:12.825Z"
   },
   {
    "duration": 6,
    "start_time": "2022-01-25T11:51:12.865Z"
   },
   {
    "duration": 1796,
    "start_time": "2022-01-25T11:51:12.874Z"
   },
   {
    "duration": 17,
    "start_time": "2022-01-25T11:51:14.672Z"
   },
   {
    "duration": 31,
    "start_time": "2022-01-25T11:51:14.691Z"
   },
   {
    "duration": 47,
    "start_time": "2022-01-25T11:51:14.724Z"
   },
   {
    "duration": 6,
    "start_time": "2022-01-25T11:51:14.773Z"
   },
   {
    "duration": 10,
    "start_time": "2022-01-25T11:51:14.781Z"
   },
   {
    "duration": 11,
    "start_time": "2022-01-25T11:51:14.794Z"
   },
   {
    "duration": 19,
    "start_time": "2022-01-25T11:51:14.808Z"
   },
   {
    "duration": 40,
    "start_time": "2022-01-25T11:51:14.829Z"
   },
   {
    "duration": 22,
    "start_time": "2022-01-25T11:51:14.872Z"
   },
   {
    "duration": 8,
    "start_time": "2022-01-25T11:51:14.897Z"
   },
   {
    "duration": 28,
    "start_time": "2022-01-25T11:51:14.908Z"
   },
   {
    "duration": 34,
    "start_time": "2022-01-25T11:51:14.938Z"
   },
   {
    "duration": 18,
    "start_time": "2022-01-25T11:51:14.974Z"
   },
   {
    "duration": 36,
    "start_time": "2022-01-25T11:51:14.995Z"
   },
   {
    "duration": 19,
    "start_time": "2022-01-25T11:51:15.034Z"
   },
   {
    "duration": 32,
    "start_time": "2022-01-25T11:51:15.056Z"
   },
   {
    "duration": 9,
    "start_time": "2022-01-25T11:51:15.091Z"
   },
   {
    "duration": 20,
    "start_time": "2022-01-25T11:51:15.102Z"
   },
   {
    "duration": 18,
    "start_time": "2022-01-25T11:51:15.124Z"
   },
   {
    "duration": 29,
    "start_time": "2022-01-25T11:51:15.144Z"
   },
   {
    "duration": 7989,
    "start_time": "2022-01-25T11:51:15.176Z"
   },
   {
    "duration": 14,
    "start_time": "2022-01-25T11:51:23.168Z"
   },
   {
    "duration": 32,
    "start_time": "2022-01-25T11:51:23.185Z"
   },
   {
    "duration": 9,
    "start_time": "2022-01-25T11:51:23.219Z"
   },
   {
    "duration": 37,
    "start_time": "2022-01-25T11:51:23.231Z"
   },
   {
    "duration": 11,
    "start_time": "2022-01-25T11:51:23.271Z"
   },
   {
    "duration": 20,
    "start_time": "2022-01-25T11:51:23.289Z"
   },
   {
    "duration": 8,
    "start_time": "2022-01-25T11:51:23.311Z"
   },
   {
    "duration": 44,
    "start_time": "2022-01-25T11:51:23.322Z"
   },
   {
    "duration": 6,
    "start_time": "2022-01-25T11:51:56.828Z"
   },
   {
    "duration": 9,
    "start_time": "2022-01-25T11:52:10.867Z"
   },
   {
    "duration": 1083,
    "start_time": "2022-01-25T18:56:17.386Z"
   },
   {
    "duration": 33,
    "start_time": "2022-01-25T18:56:18.472Z"
   },
   {
    "duration": 39,
    "start_time": "2022-01-25T18:56:18.509Z"
   },
   {
    "duration": 22,
    "start_time": "2022-01-25T18:56:18.553Z"
   },
   {
    "duration": 59,
    "start_time": "2022-01-25T18:56:18.578Z"
   },
   {
    "duration": 49,
    "start_time": "2022-01-25T18:56:18.641Z"
   },
   {
    "duration": 40,
    "start_time": "2022-01-25T18:56:18.693Z"
   },
   {
    "duration": 9,
    "start_time": "2022-01-25T18:56:18.738Z"
   },
   {
    "duration": 12,
    "start_time": "2022-01-25T18:56:18.750Z"
   },
   {
    "duration": 82,
    "start_time": "2022-01-25T18:56:18.765Z"
   },
   {
    "duration": 8,
    "start_time": "2022-01-25T18:56:18.850Z"
   },
   {
    "duration": 14,
    "start_time": "2022-01-25T18:56:18.860Z"
   },
   {
    "duration": 91,
    "start_time": "2022-01-25T18:56:18.877Z"
   },
   {
    "duration": 30,
    "start_time": "2022-01-25T18:56:18.971Z"
   },
   {
    "duration": 42,
    "start_time": "2022-01-25T18:56:19.004Z"
   },
   {
    "duration": 16,
    "start_time": "2022-01-25T18:56:19.051Z"
   },
   {
    "duration": 8090,
    "start_time": "2022-01-25T18:56:19.070Z"
   },
   {
    "duration": 8592,
    "start_time": "2022-01-25T18:56:27.163Z"
   },
   {
    "duration": 95,
    "start_time": "2022-01-25T18:56:43.954Z"
   },
   {
    "duration": 19,
    "start_time": "2022-01-25T18:56:44.053Z"
   },
   {
    "duration": 14,
    "start_time": "2022-01-25T18:56:44.076Z"
   },
   {
    "duration": 54,
    "start_time": "2022-01-25T18:56:44.092Z"
   },
   {
    "duration": 45,
    "start_time": "2022-01-25T18:56:44.150Z"
   },
   {
    "duration": 77,
    "start_time": "2022-01-25T18:56:44.198Z"
   },
   {
    "duration": 7,
    "start_time": "2022-01-25T18:56:44.278Z"
   },
   {
    "duration": 8,
    "start_time": "2022-01-25T18:56:44.288Z"
   },
   {
    "duration": 32,
    "start_time": "2022-01-25T18:56:44.300Z"
   },
   {
    "duration": 48,
    "start_time": "2022-01-25T18:56:44.337Z"
   },
   {
    "duration": 7,
    "start_time": "2022-01-25T18:56:44.387Z"
   },
   {
    "duration": 42,
    "start_time": "2022-01-25T18:56:44.397Z"
   },
   {
    "duration": 62,
    "start_time": "2022-01-25T18:56:44.442Z"
   },
   {
    "duration": 65,
    "start_time": "2022-01-25T18:56:44.507Z"
   },
   {
    "duration": 8,
    "start_time": "2022-01-25T18:56:44.575Z"
   },
   {
    "duration": 6,
    "start_time": "2022-01-25T18:56:44.586Z"
   },
   {
    "duration": 8450,
    "start_time": "2022-01-25T18:56:44.595Z"
   },
   {
    "duration": 42,
    "start_time": "2022-01-25T18:56:53.048Z"
   },
   {
    "duration": 8940,
    "start_time": "2022-01-25T18:56:53.093Z"
   },
   {
    "duration": -1758,
    "start_time": "2022-01-25T18:57:03.799Z"
   },
   {
    "duration": -1796,
    "start_time": "2022-01-25T18:57:03.839Z"
   },
   {
    "duration": -1795,
    "start_time": "2022-01-25T18:57:03.840Z"
   },
   {
    "duration": -1795,
    "start_time": "2022-01-25T18:57:03.842Z"
   },
   {
    "duration": -1794,
    "start_time": "2022-01-25T18:57:03.844Z"
   },
   {
    "duration": -1794,
    "start_time": "2022-01-25T18:57:03.846Z"
   },
   {
    "duration": -1794,
    "start_time": "2022-01-25T18:57:03.847Z"
   },
   {
    "duration": -1794,
    "start_time": "2022-01-25T18:57:03.849Z"
   },
   {
    "duration": -1795,
    "start_time": "2022-01-25T18:57:03.851Z"
   },
   {
    "duration": -1795,
    "start_time": "2022-01-25T18:57:03.852Z"
   },
   {
    "duration": -1795,
    "start_time": "2022-01-25T18:57:03.854Z"
   },
   {
    "duration": -1818,
    "start_time": "2022-01-25T18:57:03.878Z"
   },
   {
    "duration": -1825,
    "start_time": "2022-01-25T18:57:03.886Z"
   },
   {
    "duration": -1829,
    "start_time": "2022-01-25T18:57:03.891Z"
   },
   {
    "duration": -1829,
    "start_time": "2022-01-25T18:57:03.893Z"
   },
   {
    "duration": -1829,
    "start_time": "2022-01-25T18:57:03.894Z"
   },
   {
    "duration": -1829,
    "start_time": "2022-01-25T18:57:03.896Z"
   },
   {
    "duration": -1839,
    "start_time": "2022-01-25T18:57:03.907Z"
   },
   {
    "duration": -1852,
    "start_time": "2022-01-25T18:57:03.922Z"
   },
   {
    "duration": -1852,
    "start_time": "2022-01-25T18:57:03.924Z"
   },
   {
    "duration": -1853,
    "start_time": "2022-01-25T18:57:03.926Z"
   },
   {
    "duration": -1854,
    "start_time": "2022-01-25T18:57:03.928Z"
   },
   {
    "duration": -1858,
    "start_time": "2022-01-25T18:57:03.934Z"
   },
   {
    "duration": -1859,
    "start_time": "2022-01-25T18:57:03.936Z"
   },
   {
    "duration": -1989,
    "start_time": "2022-01-25T18:57:04.067Z"
   },
   {
    "duration": -1936,
    "start_time": "2022-01-25T18:57:04.069Z"
   },
   {
    "duration": -1935,
    "start_time": "2022-01-25T18:57:04.071Z"
   },
   {
    "duration": -1934,
    "start_time": "2022-01-25T18:57:04.072Z"
   },
   {
    "duration": -1933,
    "start_time": "2022-01-25T18:57:04.074Z"
   },
   {
    "duration": -1933,
    "start_time": "2022-01-25T18:57:04.076Z"
   },
   {
    "duration": -1932,
    "start_time": "2022-01-25T18:57:04.077Z"
   },
   {
    "duration": -1931,
    "start_time": "2022-01-25T18:57:04.079Z"
   },
   {
    "duration": -1930,
    "start_time": "2022-01-25T18:57:04.080Z"
   },
   {
    "duration": -1931,
    "start_time": "2022-01-25T18:57:04.082Z"
   },
   {
    "duration": -1931,
    "start_time": "2022-01-25T18:57:04.084Z"
   },
   {
    "duration": -1931,
    "start_time": "2022-01-25T18:57:04.085Z"
   },
   {
    "duration": -1931,
    "start_time": "2022-01-25T18:57:04.087Z"
   },
   {
    "duration": -1932,
    "start_time": "2022-01-25T18:57:04.089Z"
   },
   {
    "duration": -1958,
    "start_time": "2022-01-25T18:57:04.116Z"
   },
   {
    "duration": -1958,
    "start_time": "2022-01-25T18:57:04.118Z"
   },
   {
    "duration": -1957,
    "start_time": "2022-01-25T18:57:04.119Z"
   },
   {
    "duration": -1958,
    "start_time": "2022-01-25T18:57:04.121Z"
   },
   {
    "duration": -1959,
    "start_time": "2022-01-25T18:57:04.123Z"
   },
   {
    "duration": -1959,
    "start_time": "2022-01-25T18:57:04.125Z"
   },
   {
    "duration": -1958,
    "start_time": "2022-01-25T18:57:04.126Z"
   },
   {
    "duration": -1959,
    "start_time": "2022-01-25T18:57:04.128Z"
   },
   {
    "duration": -1958,
    "start_time": "2022-01-25T18:57:04.129Z"
   },
   {
    "duration": -1959,
    "start_time": "2022-01-25T18:57:04.131Z"
   },
   {
    "duration": -1959,
    "start_time": "2022-01-25T18:57:04.133Z"
   }
  ],
  "kernelspec": {
   "display_name": "Python 3",
   "language": "python",
   "name": "python3"
  },
  "language_info": {
   "codemirror_mode": {
    "name": "ipython",
    "version": 3
   },
   "file_extension": ".py",
   "mimetype": "text/x-python",
   "name": "python",
   "nbconvert_exporter": "python",
   "pygments_lexer": "ipython3",
   "version": "3.8.8"
  },
  "toc": {
   "base_numbering": 1,
   "nav_menu": {},
   "number_sections": true,
   "sideBar": true,
   "skip_h1_title": true,
   "title_cell": "Table of Contents",
   "title_sidebar": "Contents",
   "toc_cell": false,
   "toc_position": {
    "height": "calc(100% - 180px)",
    "left": "10px",
    "top": "150px",
    "width": "202px"
   },
   "toc_section_display": true,
   "toc_window_display": true
  }
 },
 "nbformat": 4,
 "nbformat_minor": 2
}
