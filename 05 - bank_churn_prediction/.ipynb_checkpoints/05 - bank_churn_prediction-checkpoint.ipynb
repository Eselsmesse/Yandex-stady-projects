{
 "cells": [
  {
   "cell_type": "markdown",
   "metadata": {
    "toc": true
   },
   "source": [
    "<h1>Содержание<span class=\"tocSkip\"></span></h1>\n",
    "<div class=\"toc\"><ul class=\"toc-item\"><li><span><a href=\"#Просмотр-данных\" data-toc-modified-id=\"Просмотр-данных-1\"><span class=\"toc-item-num\">1&nbsp;&nbsp;</span>Просмотр данных</a></span><ul class=\"toc-item\"><li><span><a href=\"#Вывод\" data-toc-modified-id=\"Вывод-1.1\"><span class=\"toc-item-num\">1.1&nbsp;&nbsp;</span>Вывод</a></span></li></ul></li><li><span><a href=\"#Предподготовка-данных\" data-toc-modified-id=\"Предподготовка-данных-2\"><span class=\"toc-item-num\">2&nbsp;&nbsp;</span>Предподготовка данных</a></span><ul class=\"toc-item\"><li><span><a href=\"#Вывод\" data-toc-modified-id=\"Вывод-2.1\"><span class=\"toc-item-num\">2.1&nbsp;&nbsp;</span>Вывод</a></span></li></ul></li><li><span><a href=\"#Исследование-задачи\" data-toc-modified-id=\"Исследование-задачи-3\"><span class=\"toc-item-num\">3&nbsp;&nbsp;</span>Исследование задачи</a></span><ul class=\"toc-item\"><li><span><a href=\"#Вывод\" data-toc-modified-id=\"Вывод-3.1\"><span class=\"toc-item-num\">3.1&nbsp;&nbsp;</span>Вывод</a></span></li></ul></li><li><span><a href=\"#Устранение-дисбаланса-классов\" data-toc-modified-id=\"Устранение-дисбаланса-классов-4\"><span class=\"toc-item-num\">4&nbsp;&nbsp;</span>Устранение дисбаланса классов</a></span><ul class=\"toc-item\"><li><span><a href=\"#Оцениваем-модели-по-метрикам-AUC-ROC,-precision,-recall-и-f1-score\" data-toc-modified-id=\"Оцениваем-модели-по-метрикам-AUC-ROC,-precision,-recall-и-f1-score-4.1\"><span class=\"toc-item-num\">4.1&nbsp;&nbsp;</span>Оцениваем модели по метрикам AUC-ROC, precision, recall и f1-score</a></span></li><li><span><a href=\"#Вывод\" data-toc-modified-id=\"Вывод-4.2\"><span class=\"toc-item-num\">4.2&nbsp;&nbsp;</span>Вывод</a></span></li><li><span><a href=\"#Балансирование,-уменьшение,-увеличение-выборок\" data-toc-modified-id=\"Балансирование,-уменьшение,-увеличение-выборок-4.3\"><span class=\"toc-item-num\">4.3&nbsp;&nbsp;</span>Балансирование, уменьшение, увеличение выборок</a></span></li><li><span><a href=\"#Увеличение-выборки\" data-toc-modified-id=\"Увеличение-выборки-4.4\"><span class=\"toc-item-num\">4.4&nbsp;&nbsp;</span>Увеличение выборки</a></span></li><li><span><a href=\"#Уменьшение-выборки\" data-toc-modified-id=\"Уменьшение-выборки-4.5\"><span class=\"toc-item-num\">4.5&nbsp;&nbsp;</span>Уменьшение выборки</a></span></li><li><span><a href=\"#Вывод\" data-toc-modified-id=\"Вывод-4.6\"><span class=\"toc-item-num\">4.6&nbsp;&nbsp;</span>Вывод</a></span></li></ul></li><li><span><a href=\"#Тестирование-модели\" data-toc-modified-id=\"Тестирование-модели-5\"><span class=\"toc-item-num\">5&nbsp;&nbsp;</span>Тестирование модели</a></span></li><li><span><a href=\"#Общий-вывод\" data-toc-modified-id=\"Общий-вывод-6\"><span class=\"toc-item-num\">6&nbsp;&nbsp;</span>Общий вывод</a></span></li></ul></div>"
   ]
  },
  {
   "cell_type": "markdown",
   "metadata": {},
   "source": [
    "# Отток клиентов"
   ]
  },
  {
   "cell_type": "markdown",
   "metadata": {},
   "source": [
    "Из «Бета-Банка» стали уходить клиенты. Каждый месяц. Немного, но заметно. Банковские маркетологи посчитали: сохранять текущих клиентов дешевле, чем привлекать новых.\n",
    "\n",
    "Нужно спрогнозировать, уйдёт клиент из банка в ближайшее время или нет. Вам предоставлены исторические данные о поведении клиентов и расторжении договоров с банком. \n",
    "\n",
    "Постройте модель с предельно большим значением *F1*-меры. Чтобы сдать проект успешно, нужно довести метрику до 0.59. Проверьте *F1*-меру на тестовой выборке самостоятельно.\n",
    "\n",
    "Дополнительно измеряйте *AUC-ROC*, сравнивайте её значение с *F1*-мерой.\n",
    "\n",
    "Источник данных: [https://www.kaggle.com/barelydedicated/bank-customer-churn-modeling](https://www.kaggle.com/barelydedicated/bank-customer-churn-modeling)"
   ]
  },
  {
   "cell_type": "markdown",
   "metadata": {},
   "source": [
    "## Просмотр данных"
   ]
  },
  {
   "cell_type": "code",
   "execution_count": 1,
   "metadata": {},
   "outputs": [],
   "source": [
    "import pandas as pd\n",
    "import matplotlib.pyplot as plt\n",
    "from sklearn.tree import DecisionTreeClassifier # дерево решений\n",
    "from sklearn.ensemble import RandomForestClassifier # случайный лес\n",
    "from sklearn.linear_model import LogisticRegression # логистическая регрессия\n",
    "from sklearn.model_selection import train_test_split # разделение выборки\n",
    "import joblib \n",
    "from joblib import dump \n",
    "import warnings\n",
    "import matplotlib.pyplot as plt\n",
    "import seaborn as sns\n",
    "from sklearn.preprocessing import StandardScaler # масштабирование категориальных переменных\n",
    "from sklearn.metrics import (f1_score, precision_score, recall_score, accuracy_score, \n",
    "                             precision_recall_curve, roc_auc_score, roc_curve, make_scorer,                              \n",
    "                             mean_squared_error, mean_absolute_error, classification_report)\n",
    "from sklearn.utils import shuffle\n",
    "from sklearn.model_selection import GridSearchCV, cross_val_score\n",
    "import numpy as np\n",
    "import random\n",
    "\n",
    "warnings.filterwarnings('ignore') # убираем системные предупреждения"
   ]
  },
  {
   "cell_type": "code",
   "execution_count": 3,
   "metadata": {},
   "outputs": [],
   "source": [
    "try:\n",
    "    data = pd.read_csv('Churn.csv')\n",
    "except:\n",
    "    data = pd.read_csv('/datasets/Churn.csv') "
   ]
  },
  {
   "cell_type": "code",
   "execution_count": 4,
   "metadata": {
    "scrolled": false
   },
   "outputs": [
    {
     "name": "stdout",
     "output_type": "stream",
     "text": [
      "ОБЩАЯ ИНФОРМАЦИЯ\n",
      "<class 'pandas.core.frame.DataFrame'>\n",
      "RangeIndex: 10000 entries, 0 to 9999\n",
      "Data columns (total 14 columns):\n",
      " #   Column           Non-Null Count  Dtype  \n",
      "---  ------           --------------  -----  \n",
      " 0   RowNumber        10000 non-null  int64  \n",
      " 1   CustomerId       10000 non-null  int64  \n",
      " 2   Surname          10000 non-null  object \n",
      " 3   CreditScore      10000 non-null  int64  \n",
      " 4   Geography        10000 non-null  object \n",
      " 5   Gender           10000 non-null  object \n",
      " 6   Age              10000 non-null  int64  \n",
      " 7   Tenure           9091 non-null   float64\n",
      " 8   Balance          10000 non-null  float64\n",
      " 9   NumOfProducts    10000 non-null  int64  \n",
      " 10  HasCrCard        10000 non-null  int64  \n",
      " 11  IsActiveMember   10000 non-null  int64  \n",
      " 12  EstimatedSalary  10000 non-null  float64\n",
      " 13  Exited           10000 non-null  int64  \n",
      "dtypes: float64(3), int64(8), object(3)\n",
      "memory usage: 1.1+ MB\n",
      "None\n",
      "ПРОПУСКИ В ДАННЫХ\n",
      "\n",
      "RowNumber            0\n",
      "CustomerId           0\n",
      "Surname              0\n",
      "CreditScore          0\n",
      "Geography            0\n",
      "Gender               0\n",
      "Age                  0\n",
      "Tenure             909\n",
      "Balance              0\n",
      "NumOfProducts        0\n",
      "HasCrCard            0\n",
      "IsActiveMember       0\n",
      "EstimatedSalary      0\n",
      "Exited               0\n",
      "dtype: int64\n",
      "\n",
      "ПОЛНЫЕ ДУБЛИКАТЫ В ДАННЫХ\n",
      "\n",
      "0\n",
      "\n",
      "ПЕРВЫЕ 5 ЗАПИСЕЙ\n"
     ]
    },
    {
     "data": {
      "text/html": [
       "<div>\n",
       "<style scoped>\n",
       "    .dataframe tbody tr th:only-of-type {\n",
       "        vertical-align: middle;\n",
       "    }\n",
       "\n",
       "    .dataframe tbody tr th {\n",
       "        vertical-align: top;\n",
       "    }\n",
       "\n",
       "    .dataframe thead th {\n",
       "        text-align: right;\n",
       "    }\n",
       "</style>\n",
       "<table border=\"1\" class=\"dataframe\">\n",
       "  <thead>\n",
       "    <tr style=\"text-align: right;\">\n",
       "      <th></th>\n",
       "      <th>RowNumber</th>\n",
       "      <th>CustomerId</th>\n",
       "      <th>Surname</th>\n",
       "      <th>CreditScore</th>\n",
       "      <th>Geography</th>\n",
       "      <th>Gender</th>\n",
       "      <th>Age</th>\n",
       "      <th>Tenure</th>\n",
       "      <th>Balance</th>\n",
       "      <th>NumOfProducts</th>\n",
       "      <th>HasCrCard</th>\n",
       "      <th>IsActiveMember</th>\n",
       "      <th>EstimatedSalary</th>\n",
       "      <th>Exited</th>\n",
       "    </tr>\n",
       "  </thead>\n",
       "  <tbody>\n",
       "    <tr>\n",
       "      <th>0</th>\n",
       "      <td>1</td>\n",
       "      <td>15634602</td>\n",
       "      <td>Hargrave</td>\n",
       "      <td>619</td>\n",
       "      <td>France</td>\n",
       "      <td>Female</td>\n",
       "      <td>42</td>\n",
       "      <td>2.0</td>\n",
       "      <td>0.00</td>\n",
       "      <td>1</td>\n",
       "      <td>1</td>\n",
       "      <td>1</td>\n",
       "      <td>101348.88</td>\n",
       "      <td>1</td>\n",
       "    </tr>\n",
       "    <tr>\n",
       "      <th>1</th>\n",
       "      <td>2</td>\n",
       "      <td>15647311</td>\n",
       "      <td>Hill</td>\n",
       "      <td>608</td>\n",
       "      <td>Spain</td>\n",
       "      <td>Female</td>\n",
       "      <td>41</td>\n",
       "      <td>1.0</td>\n",
       "      <td>83807.86</td>\n",
       "      <td>1</td>\n",
       "      <td>0</td>\n",
       "      <td>1</td>\n",
       "      <td>112542.58</td>\n",
       "      <td>0</td>\n",
       "    </tr>\n",
       "    <tr>\n",
       "      <th>2</th>\n",
       "      <td>3</td>\n",
       "      <td>15619304</td>\n",
       "      <td>Onio</td>\n",
       "      <td>502</td>\n",
       "      <td>France</td>\n",
       "      <td>Female</td>\n",
       "      <td>42</td>\n",
       "      <td>8.0</td>\n",
       "      <td>159660.80</td>\n",
       "      <td>3</td>\n",
       "      <td>1</td>\n",
       "      <td>0</td>\n",
       "      <td>113931.57</td>\n",
       "      <td>1</td>\n",
       "    </tr>\n",
       "    <tr>\n",
       "      <th>3</th>\n",
       "      <td>4</td>\n",
       "      <td>15701354</td>\n",
       "      <td>Boni</td>\n",
       "      <td>699</td>\n",
       "      <td>France</td>\n",
       "      <td>Female</td>\n",
       "      <td>39</td>\n",
       "      <td>1.0</td>\n",
       "      <td>0.00</td>\n",
       "      <td>2</td>\n",
       "      <td>0</td>\n",
       "      <td>0</td>\n",
       "      <td>93826.63</td>\n",
       "      <td>0</td>\n",
       "    </tr>\n",
       "    <tr>\n",
       "      <th>4</th>\n",
       "      <td>5</td>\n",
       "      <td>15737888</td>\n",
       "      <td>Mitchell</td>\n",
       "      <td>850</td>\n",
       "      <td>Spain</td>\n",
       "      <td>Female</td>\n",
       "      <td>43</td>\n",
       "      <td>2.0</td>\n",
       "      <td>125510.82</td>\n",
       "      <td>1</td>\n",
       "      <td>1</td>\n",
       "      <td>1</td>\n",
       "      <td>79084.10</td>\n",
       "      <td>0</td>\n",
       "    </tr>\n",
       "  </tbody>\n",
       "</table>\n",
       "</div>"
      ],
      "text/plain": [
       "   RowNumber  CustomerId   Surname  CreditScore Geography  Gender  Age  \\\n",
       "0          1    15634602  Hargrave          619    France  Female   42   \n",
       "1          2    15647311      Hill          608     Spain  Female   41   \n",
       "2          3    15619304      Onio          502    France  Female   42   \n",
       "3          4    15701354      Boni          699    France  Female   39   \n",
       "4          5    15737888  Mitchell          850     Spain  Female   43   \n",
       "\n",
       "   Tenure    Balance  NumOfProducts  HasCrCard  IsActiveMember  \\\n",
       "0     2.0       0.00              1          1               1   \n",
       "1     1.0   83807.86              1          0               1   \n",
       "2     8.0  159660.80              3          1               0   \n",
       "3     1.0       0.00              2          0               0   \n",
       "4     2.0  125510.82              1          1               1   \n",
       "\n",
       "   EstimatedSalary  Exited  \n",
       "0        101348.88       1  \n",
       "1        112542.58       0  \n",
       "2        113931.57       1  \n",
       "3         93826.63       0  \n",
       "4         79084.10       0  "
      ]
     },
     "metadata": {},
     "output_type": "display_data"
    }
   ],
   "source": [
    "def data_info(data):\n",
    "    print('ОБЩАЯ ИНФОРМАЦИЯ', sep='\\n')\n",
    "    print(data.info()) \n",
    "    print('ПРОПУСКИ В ДАННЫХ', '', data.isna().sum(), '', sep='\\n')\n",
    "    print('ПОЛНЫЕ ДУБЛИКАТЫ В ДАННЫХ', '', data.duplicated().sum(), '', sep='\\n')\n",
    "    print('ПЕРВЫЕ 5 ЗАПИСЕЙ', sep='\\n')\n",
    "    display(data.head(5))\n",
    "    \n",
    "data_info(data)"
   ]
  },
  {
   "cell_type": "code",
   "execution_count": 5,
   "metadata": {},
   "outputs": [
    {
     "data": {
      "text/html": [
       "<div>\n",
       "<style scoped>\n",
       "    .dataframe tbody tr th:only-of-type {\n",
       "        vertical-align: middle;\n",
       "    }\n",
       "\n",
       "    .dataframe tbody tr th {\n",
       "        vertical-align: top;\n",
       "    }\n",
       "\n",
       "    .dataframe thead th {\n",
       "        text-align: right;\n",
       "    }\n",
       "</style>\n",
       "<table border=\"1\" class=\"dataframe\">\n",
       "  <thead>\n",
       "    <tr style=\"text-align: right;\">\n",
       "      <th></th>\n",
       "      <th>RowNumber</th>\n",
       "      <th>CustomerId</th>\n",
       "      <th>CreditScore</th>\n",
       "      <th>Age</th>\n",
       "      <th>Tenure</th>\n",
       "      <th>Balance</th>\n",
       "      <th>NumOfProducts</th>\n",
       "      <th>HasCrCard</th>\n",
       "      <th>IsActiveMember</th>\n",
       "      <th>EstimatedSalary</th>\n",
       "      <th>Exited</th>\n",
       "    </tr>\n",
       "  </thead>\n",
       "  <tbody>\n",
       "    <tr>\n",
       "      <th>count</th>\n",
       "      <td>10000.00000</td>\n",
       "      <td>1.000000e+04</td>\n",
       "      <td>10000.000000</td>\n",
       "      <td>10000.000000</td>\n",
       "      <td>9091.000000</td>\n",
       "      <td>10000.000000</td>\n",
       "      <td>10000.000000</td>\n",
       "      <td>10000.00000</td>\n",
       "      <td>10000.000000</td>\n",
       "      <td>10000.000000</td>\n",
       "      <td>10000.000000</td>\n",
       "    </tr>\n",
       "    <tr>\n",
       "      <th>mean</th>\n",
       "      <td>5000.50000</td>\n",
       "      <td>1.569094e+07</td>\n",
       "      <td>650.528800</td>\n",
       "      <td>38.921800</td>\n",
       "      <td>4.997690</td>\n",
       "      <td>76485.889288</td>\n",
       "      <td>1.530200</td>\n",
       "      <td>0.70550</td>\n",
       "      <td>0.515100</td>\n",
       "      <td>100090.239881</td>\n",
       "      <td>0.203700</td>\n",
       "    </tr>\n",
       "    <tr>\n",
       "      <th>std</th>\n",
       "      <td>2886.89568</td>\n",
       "      <td>7.193619e+04</td>\n",
       "      <td>96.653299</td>\n",
       "      <td>10.487806</td>\n",
       "      <td>2.894723</td>\n",
       "      <td>62397.405202</td>\n",
       "      <td>0.581654</td>\n",
       "      <td>0.45584</td>\n",
       "      <td>0.499797</td>\n",
       "      <td>57510.492818</td>\n",
       "      <td>0.402769</td>\n",
       "    </tr>\n",
       "    <tr>\n",
       "      <th>min</th>\n",
       "      <td>1.00000</td>\n",
       "      <td>1.556570e+07</td>\n",
       "      <td>350.000000</td>\n",
       "      <td>18.000000</td>\n",
       "      <td>0.000000</td>\n",
       "      <td>0.000000</td>\n",
       "      <td>1.000000</td>\n",
       "      <td>0.00000</td>\n",
       "      <td>0.000000</td>\n",
       "      <td>11.580000</td>\n",
       "      <td>0.000000</td>\n",
       "    </tr>\n",
       "    <tr>\n",
       "      <th>25%</th>\n",
       "      <td>2500.75000</td>\n",
       "      <td>1.562853e+07</td>\n",
       "      <td>584.000000</td>\n",
       "      <td>32.000000</td>\n",
       "      <td>2.000000</td>\n",
       "      <td>0.000000</td>\n",
       "      <td>1.000000</td>\n",
       "      <td>0.00000</td>\n",
       "      <td>0.000000</td>\n",
       "      <td>51002.110000</td>\n",
       "      <td>0.000000</td>\n",
       "    </tr>\n",
       "    <tr>\n",
       "      <th>50%</th>\n",
       "      <td>5000.50000</td>\n",
       "      <td>1.569074e+07</td>\n",
       "      <td>652.000000</td>\n",
       "      <td>37.000000</td>\n",
       "      <td>5.000000</td>\n",
       "      <td>97198.540000</td>\n",
       "      <td>1.000000</td>\n",
       "      <td>1.00000</td>\n",
       "      <td>1.000000</td>\n",
       "      <td>100193.915000</td>\n",
       "      <td>0.000000</td>\n",
       "    </tr>\n",
       "    <tr>\n",
       "      <th>75%</th>\n",
       "      <td>7500.25000</td>\n",
       "      <td>1.575323e+07</td>\n",
       "      <td>718.000000</td>\n",
       "      <td>44.000000</td>\n",
       "      <td>7.000000</td>\n",
       "      <td>127644.240000</td>\n",
       "      <td>2.000000</td>\n",
       "      <td>1.00000</td>\n",
       "      <td>1.000000</td>\n",
       "      <td>149388.247500</td>\n",
       "      <td>0.000000</td>\n",
       "    </tr>\n",
       "    <tr>\n",
       "      <th>max</th>\n",
       "      <td>10000.00000</td>\n",
       "      <td>1.581569e+07</td>\n",
       "      <td>850.000000</td>\n",
       "      <td>92.000000</td>\n",
       "      <td>10.000000</td>\n",
       "      <td>250898.090000</td>\n",
       "      <td>4.000000</td>\n",
       "      <td>1.00000</td>\n",
       "      <td>1.000000</td>\n",
       "      <td>199992.480000</td>\n",
       "      <td>1.000000</td>\n",
       "    </tr>\n",
       "  </tbody>\n",
       "</table>\n",
       "</div>"
      ],
      "text/plain": [
       "         RowNumber    CustomerId   CreditScore           Age       Tenure  \\\n",
       "count  10000.00000  1.000000e+04  10000.000000  10000.000000  9091.000000   \n",
       "mean    5000.50000  1.569094e+07    650.528800     38.921800     4.997690   \n",
       "std     2886.89568  7.193619e+04     96.653299     10.487806     2.894723   \n",
       "min        1.00000  1.556570e+07    350.000000     18.000000     0.000000   \n",
       "25%     2500.75000  1.562853e+07    584.000000     32.000000     2.000000   \n",
       "50%     5000.50000  1.569074e+07    652.000000     37.000000     5.000000   \n",
       "75%     7500.25000  1.575323e+07    718.000000     44.000000     7.000000   \n",
       "max    10000.00000  1.581569e+07    850.000000     92.000000    10.000000   \n",
       "\n",
       "             Balance  NumOfProducts    HasCrCard  IsActiveMember  \\\n",
       "count   10000.000000   10000.000000  10000.00000    10000.000000   \n",
       "mean    76485.889288       1.530200      0.70550        0.515100   \n",
       "std     62397.405202       0.581654      0.45584        0.499797   \n",
       "min         0.000000       1.000000      0.00000        0.000000   \n",
       "25%         0.000000       1.000000      0.00000        0.000000   \n",
       "50%     97198.540000       1.000000      1.00000        1.000000   \n",
       "75%    127644.240000       2.000000      1.00000        1.000000   \n",
       "max    250898.090000       4.000000      1.00000        1.000000   \n",
       "\n",
       "       EstimatedSalary        Exited  \n",
       "count     10000.000000  10000.000000  \n",
       "mean     100090.239881      0.203700  \n",
       "std       57510.492818      0.402769  \n",
       "min          11.580000      0.000000  \n",
       "25%       51002.110000      0.000000  \n",
       "50%      100193.915000      0.000000  \n",
       "75%      149388.247500      0.000000  \n",
       "max      199992.480000      1.000000  "
      ]
     },
     "execution_count": 5,
     "metadata": {},
     "output_type": "execute_result"
    }
   ],
   "source": [
    "data.describe() # описание численных переменных"
   ]
  },
  {
   "cell_type": "code",
   "execution_count": 6,
   "metadata": {},
   "outputs": [
    {
     "data": {
      "text/html": [
       "<div>\n",
       "<style scoped>\n",
       "    .dataframe tbody tr th:only-of-type {\n",
       "        vertical-align: middle;\n",
       "    }\n",
       "\n",
       "    .dataframe tbody tr th {\n",
       "        vertical-align: top;\n",
       "    }\n",
       "\n",
       "    .dataframe thead th {\n",
       "        text-align: right;\n",
       "    }\n",
       "</style>\n",
       "<table border=\"1\" class=\"dataframe\">\n",
       "  <thead>\n",
       "    <tr style=\"text-align: right;\">\n",
       "      <th></th>\n",
       "      <th>Surname</th>\n",
       "      <th>Geography</th>\n",
       "      <th>Gender</th>\n",
       "    </tr>\n",
       "  </thead>\n",
       "  <tbody>\n",
       "    <tr>\n",
       "      <th>count</th>\n",
       "      <td>10000</td>\n",
       "      <td>10000</td>\n",
       "      <td>10000</td>\n",
       "    </tr>\n",
       "    <tr>\n",
       "      <th>unique</th>\n",
       "      <td>2932</td>\n",
       "      <td>3</td>\n",
       "      <td>2</td>\n",
       "    </tr>\n",
       "    <tr>\n",
       "      <th>top</th>\n",
       "      <td>Smith</td>\n",
       "      <td>France</td>\n",
       "      <td>Male</td>\n",
       "    </tr>\n",
       "    <tr>\n",
       "      <th>freq</th>\n",
       "      <td>32</td>\n",
       "      <td>5014</td>\n",
       "      <td>5457</td>\n",
       "    </tr>\n",
       "  </tbody>\n",
       "</table>\n",
       "</div>"
      ],
      "text/plain": [
       "       Surname Geography Gender\n",
       "count    10000     10000  10000\n",
       "unique    2932         3      2\n",
       "top      Smith    France   Male\n",
       "freq        32      5014   5457"
      ]
     },
     "execution_count": 6,
     "metadata": {},
     "output_type": "execute_result"
    }
   ],
   "source": [
    "data.describe(include = ['object']) # описание категориальных переменных"
   ]
  },
  {
   "cell_type": "markdown",
   "metadata": {},
   "source": [
    "### Вывод\n",
    "\n",
    "В целом данные выглядят корректно. Самое главное что у нас нет пропусков в колонке `Exited` (факт ухода клиента), а так же в колонке нет лишних значений, кроме 0 и 1.\n",
    "\n",
    "Необходимо:\n",
    "\n",
    "* Заполнить 909 пропусков в столбце `Tenure` (сколько лет человек является клиентом банка);\n",
    "* Привести название столбцов в змеиный регистр для комфортной работы;\n",
    "* Исключить фиктивные столбцы `RowNumber`, `customer_id`, `surname` т.к. он дублирует индекс;"
   ]
  },
  {
   "cell_type": "markdown",
   "metadata": {},
   "source": [
    "<div class=\"alert alert-block alert-success\">\n",
    "<b>Успех:</b> Ты хорошо владеешь методами первичного изучения данных 👍 Спасибо за информативный вывод\n",
    "</div>"
   ]
  },
  {
   "cell_type": "markdown",
   "metadata": {},
   "source": [
    "## Предподготовка данных"
   ]
  },
  {
   "cell_type": "code",
   "execution_count": 7,
   "metadata": {},
   "outputs": [],
   "source": [
    "# преобразовываем название колонок в змеиный регистр\n",
    "new_columns = []\n",
    "\n",
    "for column in data.columns:\n",
    "    \n",
    "    column = column[0].lower() + column[1:]\n",
    "    \n",
    "    for i in column:\n",
    "        \n",
    "        if i.isupper():\n",
    "            column = column.replace(i, f'_{i.lower()}')\n",
    "    new_columns.append(column)\n",
    "    \n",
    "data.columns = new_columns"
   ]
  },
  {
   "cell_type": "code",
   "execution_count": 8,
   "metadata": {},
   "outputs": [],
   "source": [
    "# удаляем фиктивные колонки\n",
    "\n",
    "data = data.drop(columns=['row_number', 'customer_id', 'surname'])"
   ]
  },
  {
   "cell_type": "markdown",
   "metadata": {},
   "source": [
    "<div class=\"alert alert-block alert-success\">\n",
    "<b>Успех:</b> Правильно, эти признаки не несут ценной информации\n",
    "</div>"
   ]
  },
  {
   "cell_type": "code",
   "execution_count": 9,
   "metadata": {},
   "outputs": [
    {
     "data": {
      "text/plain": [
       "<AxesSubplot:>"
      ]
     },
     "execution_count": 9,
     "metadata": {},
     "output_type": "execute_result"
    },
    {
     "data": {
      "image/png": "[encoded data removed]",
      "text/plain": [
       "<Figure size 432x288 with 1 Axes>"
      ]
     },
     "metadata": {
      "needs_background": "light"
     },
     "output_type": "display_data"
    }
   ],
   "source": [
    "# распределение значений tenure\n",
    "\n",
    "data['tenure'].hist()"
   ]
  },
  {
   "cell_type": "markdown",
   "metadata": {},
   "source": [
    "У нас имеются 909 пропусков, это примерно 10% от всех данных. \n",
    "\n",
    "Предлагаю 2 вида заполнения пропусков:\n",
    "\n",
    "1. Заполняем пропуски `0`, т.к. вероятно что при заполнении документов менеджерским составом с новыми клиентами это значение пропускается.\n",
    "\n",
    "2. Рандомно заполнить пропуски числами таким образом чтобы они не влияли на общую картину."
   ]
  },
  {
   "cell_type": "code",
   "execution_count": 10,
   "metadata": {
    "scrolled": true
   },
   "outputs": [
    {
     "data": {
      "text/plain": [
       "1.0     9.52\n",
       "2.0     9.50\n",
       "8.0     9.33\n",
       "3.0     9.28\n",
       "5.0     9.27\n",
       "7.0     9.25\n",
       "4.0     8.85\n",
       "9.0     8.82\n",
       "6.0     8.81\n",
       "10.0    4.46\n",
       "0.0     3.82\n",
       "Name: tenure, dtype: float64"
      ]
     },
     "execution_count": 10,
     "metadata": {},
     "output_type": "execute_result"
    }
   ],
   "source": [
    "# возьму в работу второй вариант, т.к. 9% от всех данных могут создать сильный дисбаланс \n",
    "# при распределении их в конкретную категорию\n",
    "\n",
    "percentage_tenure_before = ((data['tenure'].value_counts()  * 100)  / len(data['tenure'])) # процентное распределение всех значений столбаца\n",
    "percentage_tenure_before"
   ]
  },
  {
   "cell_type": "code",
   "execution_count": 11,
   "metadata": {},
   "outputs": [],
   "source": [
    "# заполняем пропуски случайными числами от 0 до 10\n",
    "random.seed(12345) # делаем рандом фиксированным\n",
    "data.loc[data['tenure'].isna(), 'tenure'] = (data.loc[data['tenure'].isna(), 'tenure'].apply(\n",
    "                                                 lambda row: float(random.randint(0,10))))"
   ]
  },
  {
   "cell_type": "code",
   "execution_count": 12,
   "metadata": {},
   "outputs": [
    {
     "data": {
      "text/plain": [
       "2.0     10.49\n",
       "1.0     10.36\n",
       "8.0     10.17\n",
       "5.0     10.16\n",
       "3.0     10.09\n",
       "7.0     10.03\n",
       "6.0      9.69\n",
       "4.0      9.55\n",
       "9.0      9.51\n",
       "10.0     5.26\n",
       "0.0      4.69\n",
       "Name: tenure, dtype: float64"
      ]
     },
     "execution_count": 12,
     "metadata": {},
     "output_type": "execute_result"
    }
   ],
   "source": [
    "# процентное распределение данных после обработки\n",
    "percentage_tenure_after = ((data['tenure'].value_counts()  * 100)  / len(data['tenure']))\n",
    "percentage_tenure_after"
   ]
  },
  {
   "cell_type": "code",
   "execution_count": 13,
   "metadata": {},
   "outputs": [
    {
     "data": {
      "text/plain": [
       "0.0    -0.87\n",
       "1.0    -0.84\n",
       "2.0    -0.99\n",
       "3.0    -0.81\n",
       "4.0    -0.70\n",
       "5.0    -0.89\n",
       "6.0    -0.88\n",
       "7.0    -0.78\n",
       "8.0    -0.84\n",
       "9.0    -0.69\n",
       "10.0   -0.80\n",
       "Name: tenure, dtype: float64"
      ]
     },
     "execution_count": 13,
     "metadata": {},
     "output_type": "execute_result"
    }
   ],
   "source": [
    "percentage_tenure_before - percentage_tenure_after"
   ]
  },
  {
   "cell_type": "markdown",
   "metadata": {},
   "source": [
    "### Вывод\n",
    "\n",
    "* Заменены названия колонок на змеиный регистр;\n",
    "* Удалены фиктивные колонки не влияющие на обучение;\n",
    "* Распределены 9% пропусков в колонке `tenure` примерно равномерно, итоговый прирост каждого значения составил от 1% до 0.69%;\n"
   ]
  },
  {
   "cell_type": "markdown",
   "metadata": {},
   "source": [
    "## Исследование задачи"
   ]
  },
  {
   "cell_type": "markdown",
   "metadata": {},
   "source": [
    "**План**\n",
    "\n",
    "1. Кодируем категориальные колонки\n",
    "2. Масштабируем численные данные\n",
    "3. Обучаем модели"
   ]
  },
  {
   "cell_type": "markdown",
   "metadata": {},
   "source": [
    "**Кодируем категориальные колонки**"
   ]
  },
  {
   "cell_type": "code",
   "execution_count": 14,
   "metadata": {},
   "outputs": [],
   "source": [
    "# Применение техники OHE (one hot encoding)\n",
    "data = pd.get_dummies(data, drop_first=True) # "
   ]
  },
  {
   "cell_type": "code",
   "execution_count": 15,
   "metadata": {},
   "outputs": [
    {
     "data": {
      "text/html": [
       "<div>\n",
       "<style scoped>\n",
       "    .dataframe tbody tr th:only-of-type {\n",
       "        vertical-align: middle;\n",
       "    }\n",
       "\n",
       "    .dataframe tbody tr th {\n",
       "        vertical-align: top;\n",
       "    }\n",
       "\n",
       "    .dataframe thead th {\n",
       "        text-align: right;\n",
       "    }\n",
       "</style>\n",
       "<table border=\"1\" class=\"dataframe\">\n",
       "  <thead>\n",
       "    <tr style=\"text-align: right;\">\n",
       "      <th></th>\n",
       "      <th>credit_score</th>\n",
       "      <th>age</th>\n",
       "      <th>tenure</th>\n",
       "      <th>balance</th>\n",
       "      <th>num_of_products</th>\n",
       "      <th>has_cr_card</th>\n",
       "      <th>is_active_member</th>\n",
       "      <th>estimated_salary</th>\n",
       "      <th>exited</th>\n",
       "      <th>geography_Germany</th>\n",
       "      <th>geography_Spain</th>\n",
       "      <th>gender_Male</th>\n",
       "    </tr>\n",
       "  </thead>\n",
       "  <tbody>\n",
       "    <tr>\n",
       "      <th>0</th>\n",
       "      <td>619</td>\n",
       "      <td>42</td>\n",
       "      <td>2.0</td>\n",
       "      <td>0.00</td>\n",
       "      <td>1</td>\n",
       "      <td>1</td>\n",
       "      <td>1</td>\n",
       "      <td>101348.88</td>\n",
       "      <td>1</td>\n",
       "      <td>0</td>\n",
       "      <td>0</td>\n",
       "      <td>0</td>\n",
       "    </tr>\n",
       "    <tr>\n",
       "      <th>1</th>\n",
       "      <td>608</td>\n",
       "      <td>41</td>\n",
       "      <td>1.0</td>\n",
       "      <td>83807.86</td>\n",
       "      <td>1</td>\n",
       "      <td>0</td>\n",
       "      <td>1</td>\n",
       "      <td>112542.58</td>\n",
       "      <td>0</td>\n",
       "      <td>0</td>\n",
       "      <td>1</td>\n",
       "      <td>0</td>\n",
       "    </tr>\n",
       "    <tr>\n",
       "      <th>2</th>\n",
       "      <td>502</td>\n",
       "      <td>42</td>\n",
       "      <td>8.0</td>\n",
       "      <td>159660.80</td>\n",
       "      <td>3</td>\n",
       "      <td>1</td>\n",
       "      <td>0</td>\n",
       "      <td>113931.57</td>\n",
       "      <td>1</td>\n",
       "      <td>0</td>\n",
       "      <td>0</td>\n",
       "      <td>0</td>\n",
       "    </tr>\n",
       "    <tr>\n",
       "      <th>3</th>\n",
       "      <td>699</td>\n",
       "      <td>39</td>\n",
       "      <td>1.0</td>\n",
       "      <td>0.00</td>\n",
       "      <td>2</td>\n",
       "      <td>0</td>\n",
       "      <td>0</td>\n",
       "      <td>93826.63</td>\n",
       "      <td>0</td>\n",
       "      <td>0</td>\n",
       "      <td>0</td>\n",
       "      <td>0</td>\n",
       "    </tr>\n",
       "    <tr>\n",
       "      <th>4</th>\n",
       "      <td>850</td>\n",
       "      <td>43</td>\n",
       "      <td>2.0</td>\n",
       "      <td>125510.82</td>\n",
       "      <td>1</td>\n",
       "      <td>1</td>\n",
       "      <td>1</td>\n",
       "      <td>79084.10</td>\n",
       "      <td>0</td>\n",
       "      <td>0</td>\n",
       "      <td>1</td>\n",
       "      <td>0</td>\n",
       "    </tr>\n",
       "  </tbody>\n",
       "</table>\n",
       "</div>"
      ],
      "text/plain": [
       "   credit_score  age  tenure    balance  num_of_products  has_cr_card  \\\n",
       "0           619   42     2.0       0.00                1            1   \n",
       "1           608   41     1.0   83807.86                1            0   \n",
       "2           502   42     8.0  159660.80                3            1   \n",
       "3           699   39     1.0       0.00                2            0   \n",
       "4           850   43     2.0  125510.82                1            1   \n",
       "\n",
       "   is_active_member  estimated_salary  exited  geography_Germany  \\\n",
       "0                 1         101348.88       1                  0   \n",
       "1                 1         112542.58       0                  0   \n",
       "2                 0         113931.57       1                  0   \n",
       "3                 0          93826.63       0                  0   \n",
       "4                 1          79084.10       0                  0   \n",
       "\n",
       "   geography_Spain  gender_Male  \n",
       "0                0            0  \n",
       "1                1            0  \n",
       "2                0            0  \n",
       "3                0            0  \n",
       "4                1            0  "
      ]
     },
     "execution_count": 15,
     "metadata": {},
     "output_type": "execute_result"
    }
   ],
   "source": [
    "# проверяем корректность срабатывания кодирования категориальных колонок\n",
    "data.head(5)"
   ]
  },
  {
   "cell_type": "markdown",
   "metadata": {},
   "source": [
    "<div class=\"alert alert-block alert-success\">\n",
    "<b>Успех:</b> В данном случае это наиболее подходящий способ закодировать категориальные колонки\n",
    "</div>"
   ]
  },
  {
   "cell_type": "code",
   "execution_count": 16,
   "metadata": {},
   "outputs": [],
   "source": [
    "# выделяем признаки  и целевые признаки\n",
    "features = data.drop(columns=['exited'])\n",
    "target = data['exited']"
   ]
  },
  {
   "cell_type": "code",
   "execution_count": 17,
   "metadata": {},
   "outputs": [],
   "source": [
    "# разбиваем выборки на тренировочные, тестовые и валидационные\n",
    "features_train, features_test, target_train, target_test = train_test_split(features, target, \n",
    "                                                                            test_size=0.6, random_state=12345 )\n",
    "\n",
    "features_test, features_valid, target_test, target_valid = train_test_split(features_test, target_test, \n",
    "                                                                            test_size=0.5, random_state=12345 )"
   ]
  },
  {
   "cell_type": "code",
   "execution_count": 18,
   "metadata": {},
   "outputs": [
    {
     "name": "stdout",
     "output_type": "stream",
     "text": [
      "Размерность тренировочной выборки: (4000, 11)\n",
      "Размерность тренировочного целового признака: (4000,)\n",
      "Размерность тестовой выборки: (3000, 11)\n",
      "Размерность тестового целового признака: (3000,)\n",
      "Размерность валидационной выборки: (3000, 11)\n",
      "Размерность валидационного целового признака: (3000,)\n"
     ]
    }
   ],
   "source": [
    "print('Размерность тренировочной выборки:', features_train.shape)\n",
    "print('Размерность тренировочного целового признака:', target_train.shape)\n",
    "print('Размерность тестовой выборки:', features_test.shape)\n",
    "print('Размерность тестового целового признака:', target_test.shape)\n",
    "print('Размерность валидационной выборки:', features_valid.shape)\n",
    "print('Размерность валидационного целового признака:', target_valid.shape)"
   ]
  },
  {
   "cell_type": "markdown",
   "metadata": {},
   "source": [
    "<div class=\"alert alert-block alert-success\">\n",
    "<b>Успех:</b> Данные поделены в адекватных пропорциях. Молодец, что смотришь на размеры выборок после разбиения\n",
    "</div>"
   ]
  },
  {
   "cell_type": "markdown",
   "metadata": {},
   "source": [
    "**Масштабируем численные данные**"
   ]
  },
  {
   "cell_type": "code",
   "execution_count": 19,
   "metadata": {},
   "outputs": [
    {
     "name": "stdout",
     "output_type": "stream",
     "text": [
      "['credit_score', 'age', 'tenure', 'balance', 'num_of_products', 'estimated_salary']\n"
     ]
    }
   ],
   "source": [
    "# выделим все не бинарные колонки\n",
    "\n",
    "non_bi_col =[]\n",
    "\n",
    "for column in features.columns:\n",
    "    if len(features[column].unique()) > 2:\n",
    "        non_bi_col.append(column)\n",
    "        \n",
    "print(non_bi_col)"
   ]
  },
  {
   "cell_type": "code",
   "execution_count": 20,
   "metadata": {},
   "outputs": [],
   "source": [
    "# масштабируем данные методом StandardScaler\n",
    "scaler = StandardScaler() # назначаем модель\n",
    "scaler.fit(features_train[non_bi_col]) # обучаем \"преобразователь\"\n",
    "\n",
    "# преобразуйте тестовую выборку\n",
    "features_train[non_bi_col] = scaler.transform(features_train[non_bi_col]) \n",
    "# преобразуйте тестовую выборку\n",
    "features_test[non_bi_col] = scaler.transform(features_test[non_bi_col])\n",
    "# преобразуйте валидационную выборку\n",
    "features_valid[non_bi_col] = scaler.transform(features_valid[non_bi_col])\n"
   ]
  },
  {
   "cell_type": "code",
   "execution_count": 21,
   "metadata": {},
   "outputs": [
    {
     "data": {
      "text/html": [
       "<div>\n",
       "<style scoped>\n",
       "    .dataframe tbody tr th:only-of-type {\n",
       "        vertical-align: middle;\n",
       "    }\n",
       "\n",
       "    .dataframe tbody tr th {\n",
       "        vertical-align: top;\n",
       "    }\n",
       "\n",
       "    .dataframe thead th {\n",
       "        text-align: right;\n",
       "    }\n",
       "</style>\n",
       "<table border=\"1\" class=\"dataframe\">\n",
       "  <thead>\n",
       "    <tr style=\"text-align: right;\">\n",
       "      <th></th>\n",
       "      <th>credit_score</th>\n",
       "      <th>age</th>\n",
       "      <th>tenure</th>\n",
       "      <th>balance</th>\n",
       "      <th>num_of_products</th>\n",
       "      <th>has_cr_card</th>\n",
       "      <th>is_active_member</th>\n",
       "      <th>estimated_salary</th>\n",
       "      <th>geography_Germany</th>\n",
       "      <th>geography_Spain</th>\n",
       "      <th>gender_Male</th>\n",
       "    </tr>\n",
       "  </thead>\n",
       "  <tbody>\n",
       "    <tr>\n",
       "      <th>5201</th>\n",
       "      <td>-0.870811</td>\n",
       "      <td>-0.287002</td>\n",
       "      <td>-1.384989</td>\n",
       "      <td>-0.169720</td>\n",
       "      <td>-0.878050</td>\n",
       "      <td>1</td>\n",
       "      <td>0</td>\n",
       "      <td>0.964802</td>\n",
       "      <td>0</td>\n",
       "      <td>0</td>\n",
       "      <td>1</td>\n",
       "    </tr>\n",
       "    <tr>\n",
       "      <th>5502</th>\n",
       "      <td>-0.400980</td>\n",
       "      <td>0.087644</td>\n",
       "      <td>0.337527</td>\n",
       "      <td>0.578230</td>\n",
       "      <td>-0.878050</td>\n",
       "      <td>1</td>\n",
       "      <td>1</td>\n",
       "      <td>-0.373307</td>\n",
       "      <td>0</td>\n",
       "      <td>1</td>\n",
       "      <td>0</td>\n",
       "    </tr>\n",
       "    <tr>\n",
       "      <th>1715</th>\n",
       "      <td>0.340309</td>\n",
       "      <td>0.368628</td>\n",
       "      <td>1.371037</td>\n",
       "      <td>0.501286</td>\n",
       "      <td>0.836054</td>\n",
       "      <td>0</td>\n",
       "      <td>1</td>\n",
       "      <td>1.660614</td>\n",
       "      <td>1</td>\n",
       "      <td>0</td>\n",
       "      <td>1</td>\n",
       "    </tr>\n",
       "    <tr>\n",
       "      <th>1951</th>\n",
       "      <td>-0.505387</td>\n",
       "      <td>1.305242</td>\n",
       "      <td>1.026534</td>\n",
       "      <td>1.081143</td>\n",
       "      <td>-0.878050</td>\n",
       "      <td>1</td>\n",
       "      <td>0</td>\n",
       "      <td>1.594400</td>\n",
       "      <td>0</td>\n",
       "      <td>0</td>\n",
       "      <td>1</td>\n",
       "    </tr>\n",
       "    <tr>\n",
       "      <th>6415</th>\n",
       "      <td>0.225462</td>\n",
       "      <td>0.274966</td>\n",
       "      <td>1.371037</td>\n",
       "      <td>-1.254401</td>\n",
       "      <td>0.836054</td>\n",
       "      <td>1</td>\n",
       "      <td>0</td>\n",
       "      <td>-1.650749</td>\n",
       "      <td>0</td>\n",
       "      <td>0</td>\n",
       "      <td>0</td>\n",
       "    </tr>\n",
       "  </tbody>\n",
       "</table>\n",
       "</div>"
      ],
      "text/plain": [
       "      credit_score       age    tenure   balance  num_of_products  \\\n",
       "5201     -0.870811 -0.287002 -1.384989 -0.169720        -0.878050   \n",
       "5502     -0.400980  0.087644  0.337527  0.578230        -0.878050   \n",
       "1715      0.340309  0.368628  1.371037  0.501286         0.836054   \n",
       "1951     -0.505387  1.305242  1.026534  1.081143        -0.878050   \n",
       "6415      0.225462  0.274966  1.371037 -1.254401         0.836054   \n",
       "\n",
       "      has_cr_card  is_active_member  estimated_salary  geography_Germany  \\\n",
       "5201            1                 0          0.964802                  0   \n",
       "5502            1                 1         -0.373307                  0   \n",
       "1715            0                 1          1.660614                  1   \n",
       "1951            1                 0          1.594400                  0   \n",
       "6415            1                 0         -1.650749                  0   \n",
       "\n",
       "      geography_Spain  gender_Male  \n",
       "5201                0            1  \n",
       "5502                1            0  \n",
       "1715                0            1  \n",
       "1951                0            1  \n",
       "6415                0            0  "
      ]
     },
     "execution_count": 21,
     "metadata": {},
     "output_type": "execute_result"
    }
   ],
   "source": [
    "# проверка\n",
    "features_train.head(5)"
   ]
  },
  {
   "cell_type": "markdown",
   "metadata": {},
   "source": [
    "**Обучим модели при дисбалансе классов**"
   ]
  },
  {
   "cell_type": "code",
   "execution_count": 22,
   "metadata": {
    "scrolled": true
   },
   "outputs": [
    {
     "data": {
      "text/plain": [
       "0    79.63\n",
       "1    20.37\n",
       "Name: exited, dtype: float64"
      ]
     },
     "execution_count": 22,
     "metadata": {},
     "output_type": "execute_result"
    }
   ],
   "source": [
    "# проверяем процентное соотношение классов\n",
    "target.value_counts() / len(target) * 100"
   ]
  },
  {
   "cell_type": "markdown",
   "metadata": {},
   "source": [
    "**Дерево решений**"
   ]
  },
  {
   "cell_type": "code",
   "execution_count": 23,
   "metadata": {},
   "outputs": [
    {
     "name": "stdout",
     "output_type": "stream",
     "text": [
      "Наилучший показатель f1 меры для дерева решений: 0.5703125\n",
      "Глубина наилучшей модели 7\n",
      "Wall time: 314 ms\n"
     ]
    }
   ],
   "source": [
    "%%time\n",
    "best_model_tree = None\n",
    "best_tree_f1_score = 0\n",
    "\n",
    "for depth in range(1, 20):\n",
    "    model = DecisionTreeClassifier(random_state=12345, max_depth=depth)\n",
    "    model.fit(features_train, target_train)\n",
    "    predicted_valid_tree = model.predict(features_valid)\n",
    "    f1_result = f1_score(target_valid, predicted_valid_tree)\n",
    "    if f1_result > best_tree_f1_score:\n",
    "        best_tree_f1_score = f1_result\n",
    "        best_model_tree = model\n",
    "        best_tree_depth = depth\n",
    "\n",
    "print('Наилучший показатель f1 меры для дерева решений:', best_tree_f1_score)\n",
    "print('Глубина наилучшей модели', best_tree_depth)        \n",
    "    \n"
   ]
  },
  {
   "cell_type": "markdown",
   "metadata": {},
   "source": [
    "**Случайный лес**"
   ]
  },
  {
   "cell_type": "code",
   "execution_count": 24,
   "metadata": {},
   "outputs": [
    {
     "name": "stdout",
     "output_type": "stream",
     "text": [
      "Наилучший показатель f1 меры для случайного леса: 0.5898989898989899\n",
      "Глубина наилучшей модели 15\n",
      "Количество листьев наилучшей модели 15\n",
      "Wall time: 6min 31s\n"
     ]
    }
   ],
   "source": [
    "%%time\n",
    "best_model_forest = None\n",
    "best_forest_f1_score = 0\n",
    "\n",
    "\n",
    "for depth in range(1, 20):\n",
    "    for est in range (1, 100):\n",
    "        model = RandomForestClassifier(random_state=12345, n_estimators=est, max_depth=depth)\n",
    "        model.fit(features_train, target_train)\n",
    "        predicted_valid_forest = model.predict(features_valid)\n",
    "        f1_result = f1_score(target_valid, predicted_valid_forest)\n",
    "        \n",
    "        if f1_result > best_forest_f1_score:\n",
    "            best_model_forest = model\n",
    "            best_forest_f1_score = f1_result\n",
    "            best_forest_depth = depth\n",
    "            best_forest_est = est\n",
    "\n",
    "print('Наилучший показатель f1 меры для случайного леса:', best_forest_f1_score)\n",
    "print('Глубина наилучшей модели', best_forest_depth)\n",
    "print('Количество листьев наилучшей модели', best_forest_depth)"
   ]
  },
  {
   "cell_type": "markdown",
   "metadata": {},
   "source": [
    "**Логистическая регрессия**"
   ]
  },
  {
   "cell_type": "code",
   "execution_count": 25,
   "metadata": {},
   "outputs": [
    {
     "name": "stdout",
     "output_type": "stream",
     "text": [
      "Наилучший показатель f1 меры для логистической регрессии: 0.3485380116959064\n",
      "Wall time: 19.6 ms\n"
     ]
    }
   ],
   "source": [
    "%%time\n",
    "\n",
    "model_regression = LogisticRegression(random_state=12345, solver = 'liblinear')\n",
    "model_regression.fit(features_train, target_train)\n",
    "predicted_valid_log = model_regression.predict(features_valid)\n",
    "f1_regression_score = f1_score(target_valid, predicted_valid_log)\n",
    "print('Наилучший показатель f1 меры для логистической регрессии:', f1_regression_score)"
   ]
  },
  {
   "cell_type": "markdown",
   "metadata": {},
   "source": [
    "### Вывод\n",
    "\n"
   ]
  },
  {
   "cell_type": "markdown",
   "metadata": {},
   "source": [
    "В ходе исследовательской деятельности категориальные данные были кодированы методом OHE, а количемтвенные данные масштабированы.\n",
    "\n",
    "После определение обучающей, валидационной и тестовой выборок были проведены исследования т аот их результаты:\n",
    "\n",
    "* Наилучший показатель f1 меры для `дерева решений`: `0.5703125`;\n",
    "* Наилучший показатель f1 меры для `случайного леса`: `0.5898989`;\n",
    "* Наилучший показатель f1 меры для `логистической регрессии`: `0.3485380`;\n",
    "\n",
    "Ни одна из моделей не дотягивает до показателя f1 в 0.59, причин этому может быть множество, но сейчас мы проработаем над балансом классов."
   ]
  },
  {
   "cell_type": "markdown",
   "metadata": {},
   "source": [
    "<div class=\"alert alert-block alert-success\">\n",
    "<b>Успех:</b> Почти удалось добиться необходимого результата уже в начале) Модели обучены корректно\n",
    "</div>"
   ]
  },
  {
   "cell_type": "markdown",
   "metadata": {},
   "source": [
    "## Устранение дисбаланса классов"
   ]
  },
  {
   "cell_type": "markdown",
   "metadata": {},
   "source": [
    "Прежде чем работать с дисбалансом нужно определить метрику с которой мы будем работать"
   ]
  },
  {
   "cell_type": "markdown",
   "metadata": {},
   "source": [
    "### Оцениваем модели по метрикам AUC-ROC, precision, recall и f1-score"
   ]
  },
  {
   "cell_type": "code",
   "execution_count": 26,
   "metadata": {},
   "outputs": [],
   "source": [
    "def quality_model(model, prediction): #проверка качества моделей\n",
    "    probabilities = model.predict_proba(features_valid)\n",
    "    probabilities_one_valid = probabilities[:, 1]\n",
    "\n",
    "    fpr, tpr, thresholds = roc_curve(target_valid, probabilities_one_valid)\n",
    "\n",
    "\n",
    "    plt.figure()\n",
    "    plt.plot([0, 1], [0, 1], linestyle='--')\n",
    "    plt.plot(fpr, tpr)\n",
    "    plt.xlim([0.0, 1.0])\n",
    "    plt.ylim([0.0, 1.0])\n",
    "    plt.xlabel('False Positive Rate')\n",
    "    plt.ylabel('True Positive Rate')\n",
    "    plt.title('ROC-кривая')\n",
    "    plt.show()\n",
    "    \n",
    "    auc_roc = roc_auc_score(target_valid, probabilities_one_valid)\n",
    "    mse = mean_squared_error(target_valid, prediction) \n",
    "    print('Рассматриваемая модель: ', model)\n",
    "    print('Значение метрики AUC-ROC для модели: ', auc_roc)\n",
    "    print('classification_report на валидационной выборке: \\n', classification_report(target_valid, prediction))"
   ]
  },
  {
   "cell_type": "markdown",
   "metadata": {},
   "source": [
    "**Дерево решений**"
   ]
  },
  {
   "cell_type": "code",
   "execution_count": 27,
   "metadata": {
    "scrolled": false
   },
   "outputs": [
    {
     "data": {
      "image/png": "[encoded data removed]",
      "text/plain": [
       "<Figure size 432x288 with 1 Axes>"
      ]
     },
     "metadata": {
      "needs_background": "light"
     },
     "output_type": "display_data"
    },
    {
     "name": "stdout",
     "output_type": "stream",
     "text": [
      "Рассматриваемая модель:  DecisionTreeClassifier(max_depth=7, random_state=12345)\n",
      "Значение метрики AUC-ROC для модели:  0.8165785573105523\n",
      "classification_report на валидационной выборке: \n",
      "               precision    recall  f1-score   support\n",
      "\n",
      "           0       0.88      0.86      0.87      2393\n",
      "           1       0.50      0.54      0.52       607\n",
      "\n",
      "    accuracy                           0.80      3000\n",
      "   macro avg       0.69      0.70      0.70      3000\n",
      "weighted avg       0.80      0.80      0.80      3000\n",
      "\n"
     ]
    }
   ],
   "source": [
    "quality_model(best_model_tree, predicted_valid_tree)"
   ]
  },
  {
   "cell_type": "markdown",
   "metadata": {},
   "source": [
    "**Случайный лес**"
   ]
  },
  {
   "cell_type": "code",
   "execution_count": 28,
   "metadata": {},
   "outputs": [
    {
     "data": {
      "image/png": "[encoded data removed]",
      "text/plain": [
       "<Figure size 432x288 with 1 Axes>"
      ]
     },
     "metadata": {
      "needs_background": "light"
     },
     "output_type": "display_data"
    },
    {
     "name": "stdout",
     "output_type": "stream",
     "text": [
      "Рассматриваемая модель:  RandomForestClassifier(max_depth=15, n_estimators=42, random_state=12345)\n",
      "Значение метрики AUC-ROC для модели:  0.8477199767856688\n",
      "classification_report на валидационной выборке: \n",
      "               precision    recall  f1-score   support\n",
      "\n",
      "           0       0.88      0.96      0.92      2393\n",
      "           1       0.75      0.46      0.57       607\n",
      "\n",
      "    accuracy                           0.86      3000\n",
      "   macro avg       0.81      0.71      0.74      3000\n",
      "weighted avg       0.85      0.86      0.85      3000\n",
      "\n"
     ]
    }
   ],
   "source": [
    "quality_model(best_model_forest, predicted_valid_forest)"
   ]
  },
  {
   "cell_type": "markdown",
   "metadata": {},
   "source": [
    "**Логистическая регрессия**"
   ]
  },
  {
   "cell_type": "code",
   "execution_count": 29,
   "metadata": {
    "scrolled": false
   },
   "outputs": [
    {
     "data": {
      "image/png": "[encoded data removed]",
      "text/plain": [
       "<Figure size 432x288 with 1 Axes>"
      ]
     },
     "metadata": {
      "needs_background": "light"
     },
     "output_type": "display_data"
    },
    {
     "name": "stdout",
     "output_type": "stream",
     "text": [
      "Рассматриваемая модель:  LogisticRegression(random_state=12345, solver='liblinear')\n",
      "Значение метрики AUC-ROC для модели:  0.7559128732829347\n",
      "classification_report на валидационной выборке: \n",
      "               precision    recall  f1-score   support\n",
      "\n",
      "           0       0.83      0.96      0.89      2393\n",
      "           1       0.60      0.25      0.35       607\n",
      "\n",
      "    accuracy                           0.81      3000\n",
      "   macro avg       0.72      0.60      0.62      3000\n",
      "weighted avg       0.79      0.81      0.78      3000\n",
      "\n"
     ]
    }
   ],
   "source": [
    "quality_model(model_regression, predicted_valid_log)"
   ]
  },
  {
   "cell_type": "markdown",
   "metadata": {},
   "source": [
    "**Проверим дисбаланс классов**"
   ]
  },
  {
   "cell_type": "code",
   "execution_count": 30,
   "metadata": {},
   "outputs": [
    {
     "data": {
      "text/plain": [
       "0    79.63\n",
       "1    20.37\n",
       "Name: exited, dtype: float64"
      ]
     },
     "execution_count": 30,
     "metadata": {},
     "output_type": "execute_result"
    }
   ],
   "source": [
    "data['exited'].value_counts(normalize=True) * 100"
   ]
  },
  {
   "cell_type": "markdown",
   "metadata": {},
   "source": [
    "### Вывод\n",
    "\n",
    "*Соотношение 0 к 1 - 80% и 20% соответственно, это говорит о сильном дисбалансе, даже если мы будем указывать во всех ответах 0 то получим высокую точность в 80%. Нужно сбалансировать классы*\n",
    "\n",
    "* Значение метрики AUC-ROC для модели `дерева решений`: `0.816578`;\n",
    "\n",
    "* Значение метрики AUC-ROC для модели `случайного леса`: `0.8477199`;\n",
    "\n",
    "* Значение метрики AUC-ROC для модели `логистической регрессии`: `0.755912`;\n"
   ]
  },
  {
   "cell_type": "markdown",
   "metadata": {},
   "source": [
    "### Балансирование, уменьшение, увеличение выборок"
   ]
  },
  {
   "cell_type": "markdown",
   "metadata": {},
   "source": [
    "**Балансирование**"
   ]
  },
  {
   "cell_type": "markdown",
   "metadata": {},
   "source": [
    "**Дерево решений**"
   ]
  },
  {
   "cell_type": "code",
   "execution_count": 31,
   "metadata": {},
   "outputs": [
    {
     "name": "stdout",
     "output_type": "stream",
     "text": [
      "Наилучший показатель f1 меры для сбалансированного дерева решений: 0.5678524374176549\n",
      "Глубина наилучшей модели 5\n",
      "Wall time: 2.15 s\n"
     ]
    }
   ],
   "source": [
    "%%time\n",
    "best_model_tree_balanced = None\n",
    "best_tree_f1_score_balanced = 0\n",
    "\n",
    "for depth in range(1, 100):\n",
    "    model = DecisionTreeClassifier(random_state=12345, max_depth=depth, class_weight='balanced') # применяем балансировку классов\n",
    "    model.fit(features_train, target_train)\n",
    "    predicted_valid_tree_balanced = model.predict(features_valid)\n",
    "    f1_result = f1_score(target_valid, predicted_valid_tree_balanced)\n",
    "    if f1_result > best_tree_f1_score_balanced:\n",
    "        best_tree_f1_score_balanced = f1_result\n",
    "        best_model_tree_balanced = model\n",
    "        best_tree_depth = depth\n",
    "\n",
    "print('Наилучший показатель f1 меры для сбалансированного дерева решений:', best_tree_f1_score_balanced)\n",
    "print('Глубина наилучшей модели', best_tree_depth)"
   ]
  },
  {
   "cell_type": "markdown",
   "metadata": {},
   "source": [
    "**Случайный лес**"
   ]
  },
  {
   "cell_type": "code",
   "execution_count": 32,
   "metadata": {},
   "outputs": [
    {
     "name": "stdout",
     "output_type": "stream",
     "text": [
      "Наилучший показатель f1 меры для сбалансированного случайного леса: 0.6224961479198767\n",
      "Глубина наилучшей модели 8\n",
      "Количество листьев наилучшей модели 8\n",
      "Wall time: 3min 24s\n"
     ]
    }
   ],
   "source": [
    "%%time\n",
    "best_model_forest_balanced = None\n",
    "best_forest_f1_score_balanced = 0\n",
    "\n",
    "\n",
    "for depth in range(1, 20):\n",
    "    for est in range (1, 100,2):\n",
    "        model = RandomForestClassifier(random_state=12345, n_estimators=est, max_depth=depth, class_weight='balanced') # применяем балансировку классов\n",
    "        model.fit(features_train, target_train)\n",
    "        predicted_valid_forest_balanced = model.predict(features_valid)\n",
    "        f1_result = f1_score(target_valid, predicted_valid_forest_balanced)\n",
    "        \n",
    "        if f1_result > best_forest_f1_score_balanced:\n",
    "            best_model_forest_balanced = model\n",
    "            best_forest_f1_score_balanced = f1_result\n",
    "            best_forest_depth = depth\n",
    "            best_forest_est = est\n",
    "\n",
    "print('Наилучший показатель f1 меры для сбалансированного случайного леса:', best_forest_f1_score_balanced)\n",
    "print('Глубина наилучшей модели', best_forest_depth)\n",
    "print('Количество листьев наилучшей модели', best_forest_depth)"
   ]
  },
  {
   "cell_type": "markdown",
   "metadata": {},
   "source": [
    "**Логистическая регрессия**"
   ]
  },
  {
   "cell_type": "code",
   "execution_count": 33,
   "metadata": {},
   "outputs": [
    {
     "name": "stdout",
     "output_type": "stream",
     "text": [
      "Наилучший показатель f1 меры для сбалансированной логистической регрессии: 0.47518972562755396\n",
      "Wall time: 15 ms\n"
     ]
    }
   ],
   "source": [
    "%%time\n",
    "\n",
    "model_regression_balanced = LogisticRegression(random_state=12345, solver = 'liblinear', class_weight='balanced')  # применяем балансировку классов\n",
    "model_regression_balanced.fit(features_train, target_train)\n",
    "predicted_valid_log_balanced = model_regression_balanced.predict(features_valid)\n",
    "f1_regression_score_balanced = f1_score(target_valid, predicted_valid_log_balanced)\n",
    "print('Наилучший показатель f1 меры для сбалансированной логистической регрессии:', f1_regression_score_balanced)"
   ]
  },
  {
   "cell_type": "markdown",
   "metadata": {},
   "source": [
    "### Увеличение выборки"
   ]
  },
  {
   "cell_type": "code",
   "execution_count": 34,
   "metadata": {},
   "outputs": [],
   "source": [
    "def upsample(features, target, repeat):\n",
    "    \n",
    "    '''\n",
    "    Функция позмоляет увеличить количество \n",
    "    повторений одного из значений\n",
    "    в данном случае значения 0\n",
    "    '''\n",
    "    features_zeros = features[target_train == 0]\n",
    "    features_ones = features[target_train == 1]\n",
    "    target_zeros = target[target_train == 0]\n",
    "    target_ones = target[target_train == 1]\n",
    "\n",
    "    features_upsampled = pd.concat([features_zeros] + [features_ones] * repeat)\n",
    "    target_upsampled = pd.concat([target_zeros] + [target_ones] * repeat)\n",
    "    \n",
    "    features_upsampled, target_upsampled = shuffle(\n",
    "        features_upsampled, target_upsampled, random_state=12345)\n",
    "    \n",
    "    return features_upsampled, target_upsampled"
   ]
  },
  {
   "cell_type": "code",
   "execution_count": 35,
   "metadata": {},
   "outputs": [],
   "source": [
    "# увеличели выборку\n",
    "features_upsampled, target_upsampled = upsample(features_train, target_train, 4)"
   ]
  },
  {
   "cell_type": "code",
   "execution_count": 36,
   "metadata": {},
   "outputs": [
    {
     "name": "stdout",
     "output_type": "stream",
     "text": [
      "1    3376\n",
      "0    3156\n",
      "Name: exited, dtype: int64\n"
     ]
    }
   ],
   "source": [
    "# проверка \n",
    "print(target_upsampled.value_counts())"
   ]
  },
  {
   "cell_type": "markdown",
   "metadata": {},
   "source": [
    "*Код сработал верно, количество 0 и 1 примерно сбалансировано*"
   ]
  },
  {
   "cell_type": "markdown",
   "metadata": {},
   "source": [
    "<div class=\"alert alert-block alert-success\">\n",
    "<b>Успех:</b> Функция увеличения выборки написана правильно 💪 Параметр repeat выбран так, чтобы классы сбалансировались\n",
    "</div>"
   ]
  },
  {
   "cell_type": "markdown",
   "metadata": {},
   "source": [
    "**Дерево решений**"
   ]
  },
  {
   "cell_type": "code",
   "execution_count": 37,
   "metadata": {},
   "outputs": [
    {
     "name": "stdout",
     "output_type": "stream",
     "text": [
      "Наилучший показатель f1 меры для дерева решений с увеличенной выборкой: 0.5678524374176549\n",
      "Глубина наилучшей модели 5\n",
      "Wall time: 2.66 s\n"
     ]
    }
   ],
   "source": [
    "%%time\n",
    "best_model_tree_upsampled = None\n",
    "best_tree_f1_score_upsampled = 0\n",
    "\n",
    "for depth in range(1, 100):\n",
    "    model = DecisionTreeClassifier(random_state=12345, max_depth=depth)\n",
    "    model.fit(features_upsampled, target_upsampled) # применили upsampled выборки\n",
    "    predicted_valid_tree_upsampled = model.predict(features_valid)\n",
    "    f1_result = f1_score(target_valid, predicted_valid_tree_upsampled)\n",
    "    if f1_result > best_tree_f1_score_upsampled:\n",
    "        best_tree_f1_score_upsampled = f1_result\n",
    "        best_model_tree_upsampled = model\n",
    "        best_tree_depth = depth\n",
    "\n",
    "print('Наилучший показатель f1 меры для дерева решений с увеличенной выборкой:', best_tree_f1_score_upsampled)\n",
    "print('Глубина наилучшей модели', best_tree_depth)"
   ]
  },
  {
   "cell_type": "markdown",
   "metadata": {},
   "source": [
    "**Случайный лес**"
   ]
  },
  {
   "cell_type": "code",
   "execution_count": 38,
   "metadata": {},
   "outputs": [
    {
     "name": "stdout",
     "output_type": "stream",
     "text": [
      "Наилучший показатель f1 меры для случайного леса с увеличенной выборкой: 0.624390243902439\n",
      "Глубина наилучшей модели 12\n",
      "Количество листьев наилучшей модели 12\n",
      "Wall time: 4min 32s\n"
     ]
    }
   ],
   "source": [
    "%%time\n",
    "best_model_forest_upsampled = None\n",
    "best_forest_f1_score_upsampled = 0\n",
    "\n",
    "\n",
    "for depth in range(1, 20):\n",
    "    for est in range (1, 100,2):\n",
    "        model = RandomForestClassifier(random_state=12345, n_estimators=est, max_depth=depth)\n",
    "        model.fit(features_upsampled, target_upsampled) # применили upsampled выборки\n",
    "        predicted_valid_forest_upsampled = model.predict(features_valid)\n",
    "        f1_result = f1_score(target_valid, predicted_valid_forest_upsampled)\n",
    "        \n",
    "        if f1_result > best_forest_f1_score_upsampled:\n",
    "            best_model_forest_upsampled = model\n",
    "            best_forest_f1_score_upsampled = f1_result\n",
    "            best_forest_depth = depth\n",
    "            best_forest_est = est\n",
    "\n",
    "print('Наилучший показатель f1 меры для случайного леса с увеличенной выборкой:', best_forest_f1_score_upsampled)\n",
    "print('Глубина наилучшей модели', best_forest_depth)\n",
    "print('Количество листьев наилучшей модели', best_forest_depth)"
   ]
  },
  {
   "cell_type": "markdown",
   "metadata": {},
   "source": [
    "**Логистическая регрессия**"
   ]
  },
  {
   "cell_type": "code",
   "execution_count": 39,
   "metadata": {},
   "outputs": [
    {
     "name": "stdout",
     "output_type": "stream",
     "text": [
      "Наилучший показатель f1 меры для логистической регрессии с увеличенной выборкой: 0.47164514317798995\n",
      "Wall time: 18 ms\n"
     ]
    }
   ],
   "source": [
    "%%time\n",
    "\n",
    "model_regression = LogisticRegression(random_state=12345, solver = 'liblinear')\n",
    "model_regression.fit(features_upsampled, target_upsampled) # применили upsampled выборки\n",
    "predicted_valid_log_upsampled = model_regression.predict(features_valid)\n",
    "f1_regression_score_upsampled = f1_score(target_valid, predicted_valid_log_upsampled)\n",
    "print('Наилучший показатель f1 меры для логистической регрессии с увеличенной выборкой:', f1_regression_score_upsampled)"
   ]
  },
  {
   "cell_type": "markdown",
   "metadata": {},
   "source": [
    "### Уменьшение выборки"
   ]
  },
  {
   "cell_type": "code",
   "execution_count": 40,
   "metadata": {},
   "outputs": [],
   "source": [
    "def downsample(features, target, fraction):\n",
    "    features_zeros = features[target_train == 0]\n",
    "    features_ones = features[target_train == 1]\n",
    "    target_zeros = target[target_train == 0]\n",
    "    target_ones = target[target_train == 1]\n",
    "\n",
    "    features_downsampled = pd.concat(\n",
    "        [features_zeros.sample(frac=fraction, random_state=12345)] + [features_ones])\n",
    "    target_downsampled = pd.concat(\n",
    "        [target_zeros.sample(frac=fraction, random_state=12345)] + [target_ones])\n",
    "    \n",
    "    features_downsampled, target_downsampled = shuffle(\n",
    "        features_downsampled, target_downsampled, random_state=12345)\n",
    "    \n",
    "    return features_downsampled, target_downsampled"
   ]
  },
  {
   "cell_type": "code",
   "execution_count": 41,
   "metadata": {},
   "outputs": [],
   "source": [
    "# уменьшили выборку\n",
    "features_downsample, target_downsample = downsample(features_train, target_train, .3)"
   ]
  },
  {
   "cell_type": "code",
   "execution_count": 42,
   "metadata": {},
   "outputs": [
    {
     "data": {
      "text/plain": [
       "0    947\n",
       "1    844\n",
       "Name: exited, dtype: int64"
      ]
     },
     "execution_count": 42,
     "metadata": {},
     "output_type": "execute_result"
    }
   ],
   "source": [
    "# проверка \n",
    "target_downsample.value_counts()"
   ]
  },
  {
   "cell_type": "markdown",
   "metadata": {},
   "source": [
    "**Дерево решений**"
   ]
  },
  {
   "cell_type": "code",
   "execution_count": 43,
   "metadata": {},
   "outputs": [
    {
     "name": "stdout",
     "output_type": "stream",
     "text": [
      "Наилучший показатель f1 меры для дерева решений с уменьшеной выборкой: 0.5780590717299577\n",
      "Глубина наилучшей модели 6\n",
      "Wall time: 1.17 s\n"
     ]
    }
   ],
   "source": [
    "%%time\n",
    "best_model_tree_downsample = None\n",
    "best_tree_f1_score_downsample = 0\n",
    "\n",
    "for depth in range(1, 100):\n",
    "    model = DecisionTreeClassifier(random_state=12345, max_depth=depth)\n",
    "    model.fit(features_downsample, target_downsample) # применили downsample выборки\n",
    "    predicted_valid_tree_downsample = model.predict(features_valid)\n",
    "    f1_result = f1_score(target_valid, predicted_valid_tree_downsample)\n",
    "    if f1_result > best_tree_f1_score_downsample:\n",
    "        best_tree_f1_score_downsample = f1_result\n",
    "        best_model_tree_downsample = model\n",
    "        best_tree_depth = depth\n",
    "\n",
    "print('Наилучший показатель f1 меры для дерева решений с уменьшеной выборкой:', best_tree_f1_score_downsample)\n",
    "print('Глубина наилучшей модели', best_tree_depth)        \n",
    "    \n"
   ]
  },
  {
   "cell_type": "markdown",
   "metadata": {},
   "source": [
    "**Случайный лес**"
   ]
  },
  {
   "cell_type": "code",
   "execution_count": 44,
   "metadata": {},
   "outputs": [
    {
     "name": "stdout",
     "output_type": "stream",
     "text": [
      "Наилучший показатель f1 меры для случайного леса с уменьшеной выборкой: 0.6128813559322034\n",
      "Глубина наилучшей модели 9\n",
      "Количество листьев наилучшей модели 9\n",
      "Wall time: 2min 39s\n"
     ]
    }
   ],
   "source": [
    "%%time\n",
    "best_model_forest_downsample = None\n",
    "best_forest_f1_score_downsample = 0\n",
    "\n",
    "\n",
    "for depth in range(1, 20):\n",
    "    for est in range (1, 100,2):\n",
    "        model = RandomForestClassifier(random_state=12345, n_estimators=est, max_depth=depth)\n",
    "        model.fit(features_downsample, target_downsample) # применили downsample выборки\n",
    "        predicted_valid_forest_downsample = model.predict(features_valid)\n",
    "        f1_result = f1_score(target_valid, predicted_valid_forest_downsample)\n",
    "        \n",
    "        if f1_result > best_forest_f1_score_downsample:\n",
    "            best_model_forest_downsample = model\n",
    "            best_forest_f1_score_downsample = f1_result\n",
    "            best_forest_depth = depth\n",
    "            best_forest_est = est\n",
    "\n",
    "print('Наилучший показатель f1 меры для случайного леса с уменьшеной выборкой:', best_forest_f1_score_downsample)\n",
    "print('Глубина наилучшей модели', best_forest_depth)\n",
    "print('Количество листьев наилучшей модели', best_forest_depth)"
   ]
  },
  {
   "cell_type": "markdown",
   "metadata": {},
   "source": [
    "**Логистическая регрессия**"
   ]
  },
  {
   "cell_type": "code",
   "execution_count": 45,
   "metadata": {},
   "outputs": [
    {
     "name": "stdout",
     "output_type": "stream",
     "text": [
      "Наилучший показатель f1 меры для логистической регрессии с уменьшеной выборкой: 0.47332077840552417\n",
      "Wall time: 11 ms\n"
     ]
    }
   ],
   "source": [
    "%%time\n",
    "\n",
    "model_regression = LogisticRegression(random_state=12345, solver = 'liblinear')\n",
    "model_regression.fit(features_downsample, target_downsample) # применили downsample выборки\n",
    "predicted_valid_log_downsample = model_regression.predict(features_valid)\n",
    "f1_regression_score_downsample = f1_score(target_valid, predicted_valid_log_downsample)\n",
    "print('Наилучший показатель f1 меры для логистической регрессии с уменьшеной выборкой:', f1_regression_score_downsample)"
   ]
  },
  {
   "cell_type": "markdown",
   "metadata": {},
   "source": [
    "### Вывод\n",
    "\n",
    "В данном разделе в целях повышения качества исследуемых моделей были проведены процедуры балансировки, увеличения и уменьшения  выборок.\n",
    "\n",
    "По итогам проделанной работы можно сделать вывод, что больший прирост показателей эффективности даёт увеличение выборки.\n",
    "\n",
    "Исходя из всего вышесказанного, можно сделать вывод, что наилучшие показатели даёт модель `cлучайного леса` с гиперпараметрами: max_depth=12, n_estimators=12 обученная на `увеличнной выборке`."
   ]
  },
  {
   "cell_type": "markdown",
   "metadata": {},
   "source": [
    "## Тестирование модели"
   ]
  },
  {
   "cell_type": "markdown",
   "metadata": {},
   "source": [
    "*Возьмём лучших представителей 3-х моделей* (на деле нужно взять самую точную, но мне просто интересно)"
   ]
  },
  {
   "cell_type": "markdown",
   "metadata": {},
   "source": [
    "**Дерево решений**"
   ]
  },
  {
   "cell_type": "code",
   "execution_count": 46,
   "metadata": {},
   "outputs": [
    {
     "name": "stdout",
     "output_type": "stream",
     "text": [
      "Наилучший показатель f1 меры для дерева решений с уменьшеной выборкой: 0.5702306079664571\n"
     ]
    }
   ],
   "source": [
    "predict_test_tree = best_model_tree_downsample.predict(features_test)\n",
    "f1_final_score_tree = f1_score(target_test, predict_test_tree)\n",
    "\n",
    "print('Наилучший показатель f1 меры для дерева решений с уменьшеной выборкой:', f1_final_score_tree)"
   ]
  },
  {
   "cell_type": "markdown",
   "metadata": {},
   "source": [
    "**Случайный лес**"
   ]
  },
  {
   "cell_type": "code",
   "execution_count": 47,
   "metadata": {},
   "outputs": [
    {
     "name": "stdout",
     "output_type": "stream",
     "text": [
      "Наилучший показатель f1 меры для случайного леса с увеличенной выборкой: 0.6031746031746033\n"
     ]
    }
   ],
   "source": [
    "predict_test_forest = best_model_forest_upsampled.predict(features_test)\n",
    "f1_final_score_forest = f1_score(target_test, predict_test_forest)\n",
    "\n",
    "print('Наилучший показатель f1 меры для случайного леса с увеличенной выборкой:', f1_final_score_forest)"
   ]
  },
  {
   "cell_type": "code",
   "execution_count": 48,
   "metadata": {},
   "outputs": [
    {
     "data": {
      "image/png": "[encoded data removed]",
      "text/plain": [
       "<Figure size 432x288 with 1 Axes>"
      ]
     },
     "metadata": {
      "needs_background": "light"
     },
     "output_type": "display_data"
    },
    {
     "name": "stdout",
     "output_type": "stream",
     "text": [
      "Рассматриваемая модель:  RandomForestClassifier(max_depth=12, n_estimators=67, random_state=12345)\n",
      "Значение метрики AUC-ROC для модели:  0.8484024504384267\n",
      "MAE на валидационной выборке:  0.16666666666666666\n",
      "classification_report на валидационной выборке: \n",
      "               precision    recall  f1-score   support\n",
      "\n",
      "           0       0.91      0.88      0.89      2414\n",
      "           1       0.56      0.65      0.60       586\n",
      "\n",
      "    accuracy                           0.83      3000\n",
      "   macro avg       0.74      0.76      0.75      3000\n",
      "weighted avg       0.84      0.83      0.84      3000\n",
      "\n"
     ]
    }
   ],
   "source": [
    "#quality_model(best_model_forest_upsampled, best_model_forest_upsampled.predict(features_test))\n",
    "\n",
    "probabilities = best_model_forest_upsampled.predict_proba(features_test)\n",
    "probabilities_one_test = probabilities[:, 1]\n",
    "\n",
    "fpr, tpr, thresholds = roc_curve(target_test, probabilities_one_test)\n",
    "\n",
    "\n",
    "plt.figure()\n",
    "plt.plot([0, 1], [0, 1], linestyle='--')\n",
    "plt.plot(fpr, tpr)\n",
    "plt.xlim([0.0, 1.0])\n",
    "plt.ylim([0.0, 1.0])\n",
    "plt.xlabel('False Positive Rate')\n",
    "plt.ylabel('True Positive Rate')\n",
    "plt.title('ROC-кривая')\n",
    "plt.show()\n",
    "    \n",
    "auc_roc = roc_auc_score(target_test, probabilities_one_test)\n",
    "mse = mean_squared_error(target_test, predict_test_forest) \n",
    "print('Рассматриваемая модель: ', best_model_forest_upsampled)\n",
    "print('Значение метрики AUC-ROC для модели: ', auc_roc)\n",
    "print('MAE на валидационной выборке: ', mean_absolute_error(target_test, predict_test_forest))\n",
    "print('classification_report на валидационной выборке: \\n', classification_report(target_test, predict_test_forest))"
   ]
  },
  {
   "cell_type": "markdown",
   "metadata": {},
   "source": [
    "**логистическая регрессия**"
   ]
  },
  {
   "cell_type": "code",
   "execution_count": 49,
   "metadata": {},
   "outputs": [
    {
     "name": "stdout",
     "output_type": "stream",
     "text": [
      "Наилучший показатель f1 меры для логистической регрессии с балансом классов: 0.48042080654587954\n"
     ]
    }
   ],
   "source": [
    "predict_test_log = model_regression_balanced.predict(features_test)\n",
    "f1_final_score_log = f1_score(target_test, predict_test_log)\n",
    "\n",
    "print('Наилучший показатель f1 меры для логистической регрессии с балансом классов:', f1_final_score_log)"
   ]
  },
  {
   "cell_type": "markdown",
   "metadata": {},
   "source": [
    "## Общий вывод\n",
    "\n",
    "Целью данного исследования было составление модели которая бы предсказывала отток клиентов из \"Бета-банка\". Для метрики качества бизнес определил что значение f1-меры должно быть больше 0.59\n",
    "\n",
    "Для достижения поставленной цели имеющийся датасет был изучен, предобработан, а данные были разделены на три выборки: обучающую тестовую и валидационную.\n",
    "\n",
    "Затем были построены три модели: дерево решений, случайный лес и логистическая регрессия.\n",
    "\n",
    "После проведения исследовательской дейтельности и балансировки классов и выборок получилось достичь значения на валидационных выборках `0.62` что соответствует условию бизнеса\n",
    "\n",
    "По итогу, модель с наилучшими характеристиками - это:\n",
    "RandomForestClassifier(max_depth=12, n_estimators=12), которая показала следующие результаты:\n",
    "* f1-мера - `0.6031746031746033`\n",
    "* AUC-ROC - `0.8484024504384267`"
   ]
  }
 ],
 "metadata": {
  "ExecuteTimeLog": [
   {
    "duration": 2268,
    "start_time": "2022-04-11T07:33:21.822Z"
   },
   {
    "duration": 33,
    "start_time": "2022-04-11T07:33:24.093Z"
   },
   {
    "duration": 77,
    "start_time": "2022-04-11T07:33:24.129Z"
   },
   {
    "duration": 75,
    "start_time": "2022-04-11T07:33:24.209Z"
   },
   {
    "duration": 28,
    "start_time": "2022-04-11T07:33:24.286Z"
   },
   {
    "duration": 5,
    "start_time": "2022-04-11T07:33:24.317Z"
   },
   {
    "duration": 39,
    "start_time": "2022-04-11T07:33:24.324Z"
   },
   {
    "duration": 236,
    "start_time": "2022-04-11T07:33:24.366Z"
   },
   {
    "duration": 10,
    "start_time": "2022-04-11T07:33:24.605Z"
   },
   {
    "duration": 10,
    "start_time": "2022-04-11T07:33:24.619Z"
   },
   {
    "duration": 21,
    "start_time": "2022-04-11T07:33:24.631Z"
   },
   {
    "duration": 35,
    "start_time": "2022-04-11T07:33:24.654Z"
   },
   {
    "duration": 15,
    "start_time": "2022-04-11T07:33:24.692Z"
   },
   {
    "duration": 35,
    "start_time": "2022-04-11T07:33:24.709Z"
   },
   {
    "duration": 13,
    "start_time": "2022-04-11T07:33:24.747Z"
   },
   {
    "duration": 36,
    "start_time": "2022-04-11T07:33:24.763Z"
   },
   {
    "duration": 17,
    "start_time": "2022-04-11T07:33:24.801Z"
   },
   {
    "duration": 25,
    "start_time": "2022-04-11T07:33:24.820Z"
   },
   {
    "duration": 56,
    "start_time": "2022-04-11T07:33:24.848Z"
   },
   {
    "duration": 17,
    "start_time": "2022-04-11T07:33:24.906Z"
   },
   {
    "duration": 21,
    "start_time": "2022-04-11T07:33:24.925Z"
   },
   {
    "duration": 484,
    "start_time": "2022-04-11T07:33:24.948Z"
   },
   {
    "duration": 561660,
    "start_time": "2022-04-11T07:33:25.434Z"
   },
   {
    "duration": 190,
    "start_time": "2022-04-11T07:42:47.096Z"
   },
   {
    "duration": 8,
    "start_time": "2022-04-11T07:42:47.288Z"
   },
   {
    "duration": 292,
    "start_time": "2022-04-11T07:42:47.298Z"
   },
   {
    "duration": 234,
    "start_time": "2022-04-11T07:42:47.593Z"
   },
   {
    "duration": 382,
    "start_time": "2022-04-11T07:42:47.832Z"
   },
   {
    "duration": 9,
    "start_time": "2022-04-11T07:42:48.216Z"
   },
   {
    "duration": 3004,
    "start_time": "2022-04-11T07:42:48.227Z"
   },
   {
    "duration": 285235,
    "start_time": "2022-04-11T07:42:51.233Z"
   },
   {
    "duration": 38,
    "start_time": "2022-04-11T07:47:36.470Z"
   },
   {
    "duration": 98,
    "start_time": "2022-04-11T07:47:36.586Z"
   },
   {
    "duration": 25,
    "start_time": "2022-04-11T07:47:36.687Z"
   },
   {
    "duration": 6,
    "start_time": "2022-04-11T07:47:36.714Z"
   },
   {
    "duration": 3804,
    "start_time": "2022-04-11T07:47:36.723Z"
   },
   {
    "duration": 341,
    "start_time": "2022-04-11T07:47:40.529Z"
   },
   {
    "duration": 111,
    "start_time": "2022-04-11T07:47:40.872Z"
   },
   {
    "duration": 98,
    "start_time": "2022-04-11T07:47:40.987Z"
   },
   {
    "duration": 17,
    "start_time": "2022-04-11T07:47:41.088Z"
   },
   {
    "duration": 8,
    "start_time": "2022-04-11T07:47:41.108Z"
   },
   {
    "duration": 1635,
    "start_time": "2022-04-11T07:47:41.119Z"
   },
   {
    "duration": 188379,
    "start_time": "2022-04-11T07:47:42.757Z"
   },
   {
    "duration": 48,
    "start_time": "2022-04-11T07:50:51.138Z"
   },
   {
    "duration": 106,
    "start_time": "2022-04-11T07:50:51.190Z"
   },
   {
    "duration": 23,
    "start_time": "2022-04-11T07:50:51.298Z"
   },
   {
    "duration": 275,
    "start_time": "2022-04-11T07:50:51.323Z"
   },
   {
    "duration": 88,
    "start_time": "2022-04-11T07:50:51.601Z"
   },
   {
    "duration": 2466,
    "start_time": "2022-04-11T09:00:09.847Z"
   },
   {
    "duration": 37,
    "start_time": "2022-04-11T09:00:12.315Z"
   },
   {
    "duration": 62,
    "start_time": "2022-04-11T09:00:12.355Z"
   },
   {
    "duration": 75,
    "start_time": "2022-04-11T09:00:12.420Z"
   },
   {
    "duration": 32,
    "start_time": "2022-04-11T09:00:15.445Z"
   },
   {
    "duration": 5,
    "start_time": "2022-04-11T09:00:17.281Z"
   },
   {
    "duration": 6,
    "start_time": "2022-04-11T09:00:18.747Z"
   },
   {
    "duration": 227,
    "start_time": "2022-04-11T09:00:19.716Z"
   },
   {
    "duration": 12,
    "start_time": "2022-04-11T09:00:20.260Z"
   },
   {
    "duration": 10,
    "start_time": "2022-04-11T09:00:21.262Z"
   },
   {
    "duration": 11,
    "start_time": "2022-04-11T09:00:22.875Z"
   },
   {
    "duration": 9,
    "start_time": "2022-04-11T09:00:23.436Z"
   },
   {
    "duration": 15,
    "start_time": "2022-04-11T09:00:28.566Z"
   },
   {
    "duration": 19,
    "start_time": "2022-04-11T09:00:28.585Z"
   },
   {
    "duration": 9,
    "start_time": "2022-04-11T09:00:30.653Z"
   },
   {
    "duration": 13,
    "start_time": "2022-04-11T09:00:30.894Z"
   },
   {
    "duration": 10,
    "start_time": "2022-04-11T09:00:31.599Z"
   },
   {
    "duration": 13,
    "start_time": "2022-04-11T09:00:35.921Z"
   },
   {
    "duration": 74,
    "start_time": "2022-04-11T09:00:37.485Z"
   },
   {
    "duration": 31,
    "start_time": "2022-04-11T09:00:40.296Z"
   },
   {
    "duration": 13,
    "start_time": "2022-04-11T09:00:44.123Z"
   },
   {
    "duration": 10,
    "start_time": "2022-04-11T09:00:57.749Z"
   },
   {
    "duration": 282,
    "start_time": "2022-04-11T09:01:08.805Z"
   },
   {
    "duration": 6,
    "start_time": "2022-04-11T09:01:15.680Z"
   },
   {
    "duration": 14,
    "start_time": "2022-04-11T09:01:15.840Z"
   },
   {
    "duration": 6,
    "start_time": "2022-04-11T09:01:17.332Z"
   },
   {
    "duration": 191,
    "start_time": "2022-04-11T09:01:23.685Z"
   },
   {
    "duration": 411565,
    "start_time": "2022-04-11T09:15:12.170Z"
   },
   {
    "duration": 507,
    "start_time": "2022-04-11T09:23:09.249Z"
   },
   {
    "duration": 712,
    "start_time": "2022-04-11T09:30:20.437Z"
   },
   {
    "duration": 16,
    "start_time": "2022-04-11T09:31:04.840Z"
   },
   {
    "duration": 9,
    "start_time": "2022-04-11T09:31:18.507Z"
   },
   {
    "duration": 282,
    "start_time": "2022-04-11T09:31:24.949Z"
   },
   {
    "duration": 286,
    "start_time": "2022-04-11T09:31:53.155Z"
   },
   {
    "duration": 507,
    "start_time": "2022-04-11T09:34:00.279Z"
   },
   {
    "duration": 309,
    "start_time": "2022-04-11T09:34:21.271Z"
   },
   {
    "duration": 432,
    "start_time": "2022-04-11T09:34:36.505Z"
   },
   {
    "duration": 444,
    "start_time": "2022-04-11T09:36:42.023Z"
   },
   {
    "duration": 94,
    "start_time": "2022-04-11T09:37:58.080Z"
   },
   {
    "duration": 92,
    "start_time": "2022-04-11T09:38:48.231Z"
   },
   {
    "duration": 429,
    "start_time": "2022-04-11T09:38:58.151Z"
   },
   {
    "duration": 84,
    "start_time": "2022-04-11T09:39:06.825Z"
   },
   {
    "duration": 392,
    "start_time": "2022-04-11T09:39:11.793Z"
   },
   {
    "duration": 590,
    "start_time": "2022-04-11T09:40:42.763Z"
   },
   {
    "duration": 337,
    "start_time": "2022-04-11T09:41:34.860Z"
   },
   {
    "duration": 450,
    "start_time": "2022-04-11T09:42:02.604Z"
   },
   {
    "duration": 74,
    "start_time": "2022-04-11T09:43:07.693Z"
   },
   {
    "duration": 242,
    "start_time": "2022-04-11T09:43:14.748Z"
   },
   {
    "duration": 255,
    "start_time": "2022-04-11T09:43:59.722Z"
   }
  ],
  "kernelspec": {
   "display_name": "Python 3",
   "language": "python",
   "name": "python3"
  },
  "language_info": {
   "codemirror_mode": {
    "name": "ipython",
    "version": 3
   },
   "file_extension": ".py",
   "mimetype": "text/x-python",
   "name": "python",
   "nbconvert_exporter": "python",
   "pygments_lexer": "ipython3",
   "version": "3.8.8"
  },
  "toc": {
   "base_numbering": 1,
   "nav_menu": {},
   "number_sections": true,
   "sideBar": true,
   "skip_h1_title": true,
   "title_cell": "Содержание",
   "title_sidebar": "Contents",
   "toc_cell": true,
   "toc_position": {
    "height": "calc(100% - 180px)",
    "left": "10px",
    "top": "150px",
    "width": "165px"
   },
   "toc_section_display": true,
   "toc_window_display": true
  }
 },
 "nbformat": 4,
 "nbformat_minor": 2
}
