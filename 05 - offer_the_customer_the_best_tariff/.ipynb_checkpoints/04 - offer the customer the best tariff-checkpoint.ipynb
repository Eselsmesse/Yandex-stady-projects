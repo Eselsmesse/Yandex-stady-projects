{
 "cells": [
  {
   "cell_type": "markdown",
   "id": "e53ee817",
   "metadata": {},
   "source": [
    "# Рекомендация тарифного плана для клиента\n",
    "\n",
    "Оператор мобильной связи «Мегалайн» выяснил: многие клиенты пользуются архивными тарифами. Они хотят построить систему, способную проанализировать поведение клиентов и предложить пользователям новый тариф: «Смарт» или «Ультра».\n",
    "\n",
    "В вашем распоряжении данные о поведении клиентов, которые уже перешли на эти тарифы (из проекта курса «Статистический анализ данных»). Нужно построить модель для задачи классификации, которая выберет подходящий тариф. Предобработка данных не понадобится — вы её уже сделали.\n",
    "\n",
    "Постройте модель с максимально большим значением accuracy. Чтобы сдать проект успешно, нужно довести долю правильных ответов по крайней мере до 0.75. Проверьте accuracy на тестовой выборке самостоятельно.\n"
   ]
  },
  {
   "cell_type": "markdown",
   "id": "b93b9897",
   "metadata": {},
   "source": [
    "# Подготовка данных"
   ]
  },
  {
   "cell_type": "code",
   "execution_count": 1,
   "id": "44e4758e",
   "metadata": {},
   "outputs": [],
   "source": [
    "# импортирем набор библиотек для работы\n",
    "import pandas as pd\n",
    "import matplotlib.pyplot as plt\n",
    "from sklearn.tree import DecisionTreeClassifier # дерево решений\n",
    "from sklearn.ensemble import RandomForestClassifier # случайный лес\n",
    "from sklearn.linear_model import LogisticRegression # логистическая регрессия\n",
    "from sklearn.model_selection import train_test_split # разделение выборки\n",
    "from sklearn.metrics import mean_squared_error # MSE\n",
    "from sklearn.metrics import accuracy_score # оценка точности\n",
    "\n",
    "from sklearn.dummy import DummyClassifier"
   ]
  },
  {
   "cell_type": "code",
   "execution_count": 3,
   "id": "877b6337",
   "metadata": {},
   "outputs": [],
   "source": [
    "try:\n",
    "    data = pd.read_csv('users_behavior.csv')\n",
    "except:\n",
    "    data = pd.read_csv('/datasets/users_behavior.csv') "
   ]
  },
  {
   "cell_type": "code",
   "execution_count": 5,
   "id": "43c36963",
   "metadata": {},
   "outputs": [],
   "source": [
    "# функция для первичного анализа данных\n",
    "def data_info(data):\n",
    "    print('ОБЩАЯ ИНФОРМАЦИЯ', sep='\\n')\n",
    "    print(data.info()) \n",
    "    print('ПРОПУСКИ В ДАННЫХ', '', data.isna().sum(), '', sep='\\n')\n",
    "    print('ПЕРВЫЕ 5 ЗАПИСЕЙ', sep='\\n')\n",
    "    display(data.head(5))\n",
    "    "
   ]
  },
  {
   "cell_type": "code",
   "execution_count": 6,
   "id": "4c130262",
   "metadata": {},
   "outputs": [
    {
     "name": "stdout",
     "output_type": "stream",
     "text": [
      "ОБЩАЯ ИНФОРМАЦИЯ\n",
      "<class 'pandas.core.frame.DataFrame'>\n",
      "RangeIndex: 3214 entries, 0 to 3213\n",
      "Data columns (total 5 columns):\n",
      " #   Column    Non-Null Count  Dtype  \n",
      "---  ------    --------------  -----  \n",
      " 0   calls     3214 non-null   float64\n",
      " 1   minutes   3214 non-null   float64\n",
      " 2   messages  3214 non-null   float64\n",
      " 3   mb_used   3214 non-null   float64\n",
      " 4   is_ultra  3214 non-null   int64  \n",
      "dtypes: float64(4), int64(1)\n",
      "memory usage: 125.7 KB\n",
      "None\n",
      "ПРОПУСКИ В ДАННЫХ\n",
      "\n",
      "calls       0\n",
      "minutes     0\n",
      "messages    0\n",
      "mb_used     0\n",
      "is_ultra    0\n",
      "dtype: int64\n",
      "\n",
      "ПЕРВЫЕ 5 ЗАПИСЕЙ\n"
     ]
    },
    {
     "data": {
      "text/html": [
       "<div>\n",
       "<style scoped>\n",
       "    .dataframe tbody tr th:only-of-type {\n",
       "        vertical-align: middle;\n",
       "    }\n",
       "\n",
       "    .dataframe tbody tr th {\n",
       "        vertical-align: top;\n",
       "    }\n",
       "\n",
       "    .dataframe thead th {\n",
       "        text-align: right;\n",
       "    }\n",
       "</style>\n",
       "<table border=\"1\" class=\"dataframe\">\n",
       "  <thead>\n",
       "    <tr style=\"text-align: right;\">\n",
       "      <th></th>\n",
       "      <th>calls</th>\n",
       "      <th>minutes</th>\n",
       "      <th>messages</th>\n",
       "      <th>mb_used</th>\n",
       "      <th>is_ultra</th>\n",
       "    </tr>\n",
       "  </thead>\n",
       "  <tbody>\n",
       "    <tr>\n",
       "      <th>0</th>\n",
       "      <td>40.0</td>\n",
       "      <td>311.90</td>\n",
       "      <td>83.0</td>\n",
       "      <td>19915.42</td>\n",
       "      <td>0</td>\n",
       "    </tr>\n",
       "    <tr>\n",
       "      <th>1</th>\n",
       "      <td>85.0</td>\n",
       "      <td>516.75</td>\n",
       "      <td>56.0</td>\n",
       "      <td>22696.96</td>\n",
       "      <td>0</td>\n",
       "    </tr>\n",
       "    <tr>\n",
       "      <th>2</th>\n",
       "      <td>77.0</td>\n",
       "      <td>467.66</td>\n",
       "      <td>86.0</td>\n",
       "      <td>21060.45</td>\n",
       "      <td>0</td>\n",
       "    </tr>\n",
       "    <tr>\n",
       "      <th>3</th>\n",
       "      <td>106.0</td>\n",
       "      <td>745.53</td>\n",
       "      <td>81.0</td>\n",
       "      <td>8437.39</td>\n",
       "      <td>1</td>\n",
       "    </tr>\n",
       "    <tr>\n",
       "      <th>4</th>\n",
       "      <td>66.0</td>\n",
       "      <td>418.74</td>\n",
       "      <td>1.0</td>\n",
       "      <td>14502.75</td>\n",
       "      <td>0</td>\n",
       "    </tr>\n",
       "  </tbody>\n",
       "</table>\n",
       "</div>"
      ],
      "text/plain": [
       "   calls  minutes  messages   mb_used  is_ultra\n",
       "0   40.0   311.90      83.0  19915.42         0\n",
       "1   85.0   516.75      56.0  22696.96         0\n",
       "2   77.0   467.66      86.0  21060.45         0\n",
       "3  106.0   745.53      81.0   8437.39         1\n",
       "4   66.0   418.74       1.0  14502.75         0"
      ]
     },
     "metadata": {},
     "output_type": "display_data"
    }
   ],
   "source": [
    "data_info(data)"
   ]
  },
  {
   "cell_type": "markdown",
   "id": "5b1cbd92",
   "metadata": {},
   "source": [
    "## Вывод\n",
    "\n",
    "Данные представляют собой потраченные пользователями минуты/сообщения/трафик а так же тариф который они используют формата ultra / не ultra. Пропусков в данных не обнаружено, данные не требуют дополнительного вмешательства."
   ]
  },
  {
   "cell_type": "markdown",
   "id": "9667edf9",
   "metadata": {},
   "source": [
    "# Предобработка данных"
   ]
  },
  {
   "cell_type": "code",
   "execution_count": 7,
   "id": "14a3c222",
   "metadata": {},
   "outputs": [],
   "source": [
    "# определяем фичи и целевые признаки\n",
    "features = data.drop(['is_ultra'], axis=1)\n",
    "target = data['is_ultra']"
   ]
  },
  {
   "cell_type": "code",
   "execution_count": 8,
   "id": "2cf68e80",
   "metadata": {},
   "outputs": [],
   "source": [
    "# разделяем данные на тренировочные, валидационные и тестовые выборки\n",
    "\n",
    "features_train, features_test, target_train, target_test = train_test_split(\n",
    "    features, target, train_size=0.60,random_state=12345)  # разделение на тренировочный сет и тестовый\n",
    "\n",
    "features_test, features_valid, target_test, target_valid = train_test_split(\n",
    "    features_test, target_test, train_size=0.50,random_state=12345) # разделение тестовый сет на тестовый и валидацию"
   ]
  },
  {
   "cell_type": "code",
   "execution_count": 9,
   "id": "3556b8db",
   "metadata": {},
   "outputs": [
    {
     "name": "stdout",
     "output_type": "stream",
     "text": [
      "Размер тренировочной выборки\n",
      "(1928, 4)\n",
      "(1928,)\n",
      "Размер валидационной выборки\n",
      "(643, 4)\n",
      "(643,)\n",
      "Размер тестовой выборки\n",
      "(643, 4)\n",
      "(643,)\n"
     ]
    }
   ],
   "source": [
    "# вывод данных\n",
    "print('Размер тренировочной выборки')\n",
    "print(features_train.shape)\n",
    "print(target_train.shape)\n",
    "print('Размер валидационной выборки')\n",
    "print(features_valid.shape)\n",
    "print(target_valid.shape)\n",
    "print('Размер тестовой выборки')\n",
    "print(features_test.shape)\n",
    "print(target_test.shape)"
   ]
  },
  {
   "cell_type": "markdown",
   "id": "aa23a1f2",
   "metadata": {},
   "source": [
    "## Вывод\n",
    "\n",
    "Датасет был разделён в соотношении 60% данных ушло на тренировку данных, 20% на валидацию и 20% на тест. Проверка размерности показала соответствие выбраному процентному разделению.\n",
    "\n",
    "**Выборки:**\n",
    "\n",
    "**Обучающая:** `features_train` - признаки, `target_train` - целевой признак\n",
    "\n",
    "**Валидационная:** `features_valid` - признаки, `target_valid` - целевой признак\n",
    "\n",
    "**Тренировочная:** `features_test` - признаки, `target_test` - целевой признак"
   ]
  },
  {
   "cell_type": "markdown",
   "id": "f4802c8d",
   "metadata": {},
   "source": [
    "# Исследование моделей машинного обучения"
   ]
  },
  {
   "cell_type": "markdown",
   "id": "7fbf1295",
   "metadata": {},
   "source": [
    "## Дерево решений"
   ]
  },
  {
   "cell_type": "code",
   "execution_count": 13,
   "id": "a62b5d17",
   "metadata": {},
   "outputs": [
    {
     "name": "stdout",
     "output_type": "stream",
     "text": [
      "Accuracy лучшей модели: 0.7884914463452566\n",
      "Глубина дерева: 10\n",
      "Wall time: 78.8 ms\n"
     ]
    }
   ],
   "source": [
    "%%time\n",
    "best_model = None\n",
    "best_result = 0\n",
    "best_depth = 0\n",
    "\n",
    "for depth in range(1, 11):\n",
    "\n",
    "    model_tree = DecisionTreeClassifier(random_state=12345, max_depth=depth) # создаём дерево решений и прописываем гиперпараметры\n",
    "    model_tree.fit(features_train, target_train) # обучаем дерево решений на тренировочной сборке\n",
    "    predicts = model_tree.predict(features_valid) # получаем предсказания модели\n",
    "    result = accuracy_score(target_valid, predicts) # оценка качества модели на валидационной сборке\n",
    "    if result > best_result:\n",
    "        best_model_tree = model_tree\n",
    "        best_result_tree = result\n",
    "        best_depth_tree = depth\n",
    "        \n",
    "print(\"Accuracy лучшей модели:\", best_result_tree)\n",
    "print('Глубина дерева:', best_depth_tree)"
   ]
  },
  {
   "cell_type": "markdown",
   "id": "0c8d3ff9",
   "metadata": {},
   "source": [
    "По результатам исследования лучше всего себя показало дерево чья глубина достигала 7. \n",
    "\n",
    "Её `Accuracy` = 0.799"
   ]
  },
  {
   "cell_type": "markdown",
   "id": "f20f0097",
   "metadata": {},
   "source": [
    "## Случайный лес"
   ]
  },
  {
   "cell_type": "code",
   "execution_count": 20,
   "id": "d699fe86",
   "metadata": {
    "scrolled": false
   },
   "outputs": [
    {
     "name": "stdout",
     "output_type": "stream",
     "text": [
      "Accuracy наилучшей модели на валидационной выборке: 0.8180404354587869\n",
      "22\n",
      "15\n",
      "5\n",
      "Wall time: 10min 2s\n"
     ]
    }
   ],
   "source": [
    "%%time\n",
    "best_model = None\n",
    "best_result = 0\n",
    "best_est = 0\n",
    "best_est1 = 0\n",
    "best_est2 = 0\n",
    "\n",
    "for est in range(1, 31): # перебор количества дедевьев\n",
    "    for est1 in  range(2, 21): # перебор количества выборок для каждого разделения\n",
    "        for est2 in  range(1, 21): # перебор количества выборок для узла\n",
    "            model_random_tree = RandomForestClassifier(\n",
    "                random_state=12345, n_estimators=est, min_samples_split = est1, min_samples_leaf = est2\n",
    "            ) # обучение модели с заданным количеством деревьев, количеством \n",
    "            model_random_tree.fit(features_train, target_train) # обучение модели на тренировочной выборке\n",
    "            result = model_random_tree.score(features_valid, target_valid) # рассчёт качества модели на валидационной выборке\n",
    "            if result > best_result:\n",
    "                best_model_forest = model_random_tree \n",
    "                best_result_random_forest = result \n",
    "                best_est = est\n",
    "                best_est1 = est1\n",
    "                best_est2 = est2\n",
    "\n",
    "print(\"Accuracy наилучшей модели на валидационной выборке:\", best_result_random_forest)\n",
    "print('Количество деревьев:', best_est)\n",
    "print('Количество выборок для каждого разделения:',best_est1)\n",
    "print('Количество выборок для каждого узла:', best_est2)"
   ]
  },
  {
   "cell_type": "markdown",
   "id": "512e5c60",
   "metadata": {},
   "source": [
    "По результатам исследования лучше всего себя показала сборка с параметрами:\n",
    "\n",
    "**Количество деревьев:** 22\n",
    "\n",
    "**Количество выборок для каждого разделения:** 15\n",
    "\n",
    "**Количество выборок для каждого узла:** 5\n",
    "\n",
    "`Accuracy` = 0.818"
   ]
  },
  {
   "cell_type": "markdown",
   "id": "834684dd",
   "metadata": {},
   "source": [
    "## Линейная регрессия"
   ]
  },
  {
   "cell_type": "code",
   "execution_count": 22,
   "id": "7ee93ac9",
   "metadata": {},
   "outputs": [
    {
     "name": "stdout",
     "output_type": "stream",
     "text": [
      "Accuracy модели логистческой регрессии: 0.7402799377916018\n",
      "Wall time: 56.8 ms\n"
     ]
    }
   ],
   "source": [
    "%%time\n",
    "\n",
    "model_log_reg = LogisticRegression(random_state=12345, solver='lbfgs', max_iter= 1000) # определяем модель логистической регрессии\n",
    "\n",
    "model_log_reg.fit(features, target) # обучите модель на тренировочной выборке\n",
    " \n",
    "result_log_reg = model_log_reg.score(features_valid,target_valid)\n",
    "print(\"Accuracy модели логистческой регрессии:\", result_log_reg)"
   ]
  },
  {
   "cell_type": "markdown",
   "id": "630c9d25",
   "metadata": {},
   "source": [
    "Обучение модели методом логистической регрессии дало результат: `Accuracy` = 0.74"
   ]
  },
  {
   "cell_type": "markdown",
   "id": "26cd7857",
   "metadata": {},
   "source": [
    "## Вывод\n",
    "\n",
    "Было обучено 3 модели: `Дерево решений`, `Случайный лес`, `Логистическая регрессия`.\n",
    "\n",
    "Привести точные цицры по точности моделей от запуска к запуску не представляется возможным, сводную таблицу представил ниже. Общие тенденцие таковы что модель `случайного леса` является самой точной из представленных, точность > 0.8. В тоже время эта модель заняла гораздо больше времени для обучения, для сравнения: случайный лес - 10 минут, а модель логистической регрессии - 56 милисикунд."
   ]
  },
  {
   "cell_type": "code",
   "execution_count": 10,
   "id": "37672527",
   "metadata": {},
   "outputs": [
    {
     "ename": "NameError",
     "evalue": "name 'best_result_tree' is not defined",
     "output_type": "error",
     "traceback": [
      "\u001b[1;31m---------------------------------------------------------------------------\u001b[0m",
      "\u001b[1;31mNameError\u001b[0m                                 Traceback (most recent call last)",
      "\u001b[1;32m<ipython-input-10-4cadf289f82b>\u001b[0m in \u001b[0;36m<module>\u001b[1;34m\u001b[0m\n\u001b[1;32m----> 1\u001b[1;33m accuracy_data = {'Decision_Tree': [best_result_tree], \n\u001b[0m\u001b[0;32m      2\u001b[0m                  \u001b[1;34m'Random_Forest'\u001b[0m\u001b[1;33m:\u001b[0m \u001b[1;33m[\u001b[0m\u001b[0mbest_result_random_forest\u001b[0m\u001b[1;33m]\u001b[0m\u001b[1;33m,\u001b[0m\u001b[1;33m\u001b[0m\u001b[1;33m\u001b[0m\u001b[0m\n\u001b[0;32m      3\u001b[0m                  'Logistic_Regression': [result_log_reg]}\n\u001b[0;32m      4\u001b[0m \u001b[0mpd\u001b[0m\u001b[1;33m.\u001b[0m\u001b[0mDataFrame\u001b[0m\u001b[1;33m(\u001b[0m\u001b[0mdata\u001b[0m\u001b[1;33m=\u001b[0m\u001b[0maccuracy_data\u001b[0m\u001b[1;33m,\u001b[0m \u001b[0mindex\u001b[0m\u001b[1;33m=\u001b[0m\u001b[1;33m[\u001b[0m\u001b[1;34m'Точность'\u001b[0m\u001b[1;33m]\u001b[0m\u001b[1;33m)\u001b[0m\u001b[1;33m\u001b[0m\u001b[1;33m\u001b[0m\u001b[0m\n",
      "\u001b[1;31mNameError\u001b[0m: name 'best_result_tree' is not defined"
     ]
    }
   ],
   "source": [
    "accuracy_data = {'Decision_Tree': [best_result_tree], \n",
    "                 'Random_Forest': [best_result_random_forest], \n",
    "                 'Logistic_Regression': [result_log_reg]}\n",
    "pd.DataFrame(data=accuracy_data, index=['Точность'])"
   ]
  },
  {
   "cell_type": "code",
   "execution_count": null,
   "id": "6edc6a51",
   "metadata": {},
   "outputs": [],
   "source": [
    "pd.DataFrame(data=accuracy_data, index=['Точность'])"
   ]
  },
  {
   "cell_type": "markdown",
   "id": "fea152cf",
   "metadata": {},
   "source": [
    "# Проверьте качество модели на тестовой выборке"
   ]
  },
  {
   "cell_type": "code",
   "execution_count": null,
   "id": "939ec387",
   "metadata": {},
   "outputs": [],
   "source": [
    "# проверка модели на адекватность\n",
    "adequacy_model = DummyClassifier(strategy=\"most_frequent\")\n",
    "adequacy_model.fit(features_train, target_train)\n",
    "\n",
    "result = adequacy_model.score(features_train, target_train)\n",
    "\n",
    "print(\"Точность данной 'примитивной' модели равна:\", result)"
   ]
  },
  {
   "cell_type": "markdown",
   "id": "31ea9454",
   "metadata": {},
   "source": [
    "## Дерево решений"
   ]
  },
  {
   "cell_type": "code",
   "execution_count": 23,
   "id": "973fe291",
   "metadata": {},
   "outputs": [
    {
     "name": "stdout",
     "output_type": "stream",
     "text": [
      "Accuracy дерева решений на тестовой выборке равна: 0.7947122861586314\n"
     ]
    }
   ],
   "source": [
    "predicts = model_tree.predict(features_test)\n",
    "accuracy_test_data = accuracy_score(target_test, predicts)\n",
    "\n",
    "print('Accuracy дерева решений на тестовой выборке равна:', accuracy_test_data)"
   ]
  },
  {
   "cell_type": "markdown",
   "id": "4933431a",
   "metadata": {},
   "source": [
    "## Случайный лес"
   ]
  },
  {
   "cell_type": "code",
   "execution_count": 25,
   "id": "e4c9b46d",
   "metadata": {},
   "outputs": [
    {
     "name": "stdout",
     "output_type": "stream",
     "text": [
      "Accuracy модели случайного леса на тестовой выборке: 0.7916018662519441\n"
     ]
    }
   ],
   "source": [
    "result = model_random_tree.score(features_test, target_test)\n",
    "print(\"Accuracy модели случайного леса на тестовой выборке:\", result)"
   ]
  },
  {
   "cell_type": "markdown",
   "id": "2f14d682",
   "metadata": {},
   "source": [
    "## Линейная регрессия"
   ]
  },
  {
   "cell_type": "code",
   "execution_count": 26,
   "id": "49149426",
   "metadata": {},
   "outputs": [
    {
     "name": "stdout",
     "output_type": "stream",
     "text": [
      "Accuracy модели случайного леса на тестовой выборке: 0.7573872472783826\n"
     ]
    }
   ],
   "source": [
    "result = model_log_reg.score(features_test, target_test)\n",
    "print(\"Accuracy модели случайного леса на тестовой выборке:\", result)"
   ]
  },
  {
   "cell_type": "markdown",
   "id": "bc218830",
   "metadata": {},
   "source": [
    "## Вывод\n",
    "\n",
    "Была проведена проверка на адекватность с помощью метода DummyClassifier с параметром \"most_frequent\". Полученные значения говорят о том, что модель \"Логистическая регрессия\" не позволяет получать значимого прироста в точности предсказания.\n",
    "\n",
    "Показатели точности по тестовым выборкам показали следующие результаты:\n",
    "\n",
    "Было получено, что Accuracy модели `Дерево решений` = 0.794\n",
    "\n",
    "Было получено, что Accuracy модели `Случайный лес` = 0.791\n",
    "\n",
    "Было получено, что Accuracy модели `Логистическая регрессия` = 0.757"
   ]
  },
  {
   "cell_type": "markdown",
   "id": "7ce414a8",
   "metadata": {},
   "source": [
    "# Общий вывод"
   ]
  },
  {
   "cell_type": "markdown",
   "id": "075ba48b",
   "metadata": {},
   "source": [
    "Целью работы было освоить практическое применение трёх типов моделей машинного обучения для предсказания того, какой тариф будет более предпочтительным для пользователя, ultra/ не ultra.\n",
    "\n",
    "По итогам исследования можно сделать следующие выводы:\n",
    "\n",
    "* Время обучения `дерева решений` и `логистической регрессии` существунно ниже времени обучения `случайного леса`;\n",
    "* * Это произошло из-за дополнительных гиперпараметров `min_samples_split`, `min_samples_leaf` существунно расширевших количество вариаций обучения.\n",
    "\n",
    "* Данные по точности `дерева решений` и `случайного леса` примерно сопоставимы и стремятся в 0.8;\n",
    "\n",
    "* Точность модели `логистической регрессии` оказалась ниже в сравнении с остальными примерно на 0.9%;\n",
    "\n",
    "* Тестовые выборки показали сопоставимый результат по сравнению с валидационными выборками;\n",
    "\n",
    "Проверка на адекватность проведена с помощью метода DummyClassifier с параметром \"most_frequent\". Это было сделано для того чтобы понять насколько наши \"не глупые\" методы обучения лучше \"примитивных\"."
   ]
  }
 ],
 "metadata": {
  "kernelspec": {
   "display_name": "Python 3",
   "language": "python",
   "name": "python3"
  },
  "language_info": {
   "codemirror_mode": {
    "name": "ipython",
    "version": 3
   },
   "file_extension": ".py",
   "mimetype": "text/x-python",
   "name": "python",
   "nbconvert_exporter": "python",
   "pygments_lexer": "ipython3",
   "version": "3.8.8"
  },
  "toc": {
   "base_numbering": 1,
   "nav_menu": {},
   "number_sections": true,
   "sideBar": true,
   "skip_h1_title": false,
   "title_cell": "Table of Contents",
   "title_sidebar": "Contents",
   "toc_cell": false,
   "toc_position": {
    "height": "calc(100% - 180px)",
    "left": "10px",
    "top": "150px",
    "width": "341.333px"
   },
   "toc_section_display": true,
   "toc_window_display": true
  }
 },
 "nbformat": 4,
 "nbformat_minor": 5
}
