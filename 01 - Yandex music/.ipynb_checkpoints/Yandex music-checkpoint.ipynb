{
 "cells": [
  {
   "cell_type": "markdown",
   "metadata": {
    "id": "E0vqbgi9ay0H"
   },
   "source": [
    "# Яндекс.Музыка"
   ]
  },
  {
   "cell_type": "markdown",
   "metadata": {
    "id": "VUC88oWjTJw2"
   },
   "source": [
    "Сравнение Москвы и Петербурга окружено мифами. Например:\n",
    " * Москва — мегаполис, подчинённый жёсткому ритму рабочей недели;\n",
    " * Петербург — культурная столица, со своими вкусами.\n",
    "\n",
    "На данных Яндекс.Музыки вы сравните поведение пользователей двух столиц.\n",
    "\n",
    "**Цель исследования** — проверьте три гипотезы:\n",
    "1. Активность пользователей зависит от дня недели. Причём в Москве и Петербурге это проявляется по-разному.\n",
    "2. В понедельник утром в Москве преобладают одни жанры, а в Петербурге — другие. Так же и вечером пятницы преобладают разные жанры — в зависимости от города. \n",
    "3. Москва и Петербург предпочитают разные жанры музыки. В Москве чаще слушают поп-музыку, в Петербурге — русский рэп.\n",
    "\n",
    "**Ход исследования**\n",
    "\n",
    "Данные о поведении пользователей вы получите из файла `yandex_music_project.csv`. О качестве данных ничего не известно. Поэтому перед проверкой гипотез понадобится обзор данных. \n",
    "\n",
    "Вы проверите данные на ошибки и оцените их влияние на исследование. Затем, на этапе предобработки вы поищете возможность исправить самые критичные ошибки данных.\n",
    " \n",
    "Таким образом, исследование пройдёт в три этапа:\n",
    " 1. Обзор данных.\n",
    " 2. Предобработка данных.\n",
    " 3. Проверка гипотез.\n",
    "\n"
   ]
  },
  {
   "cell_type": "markdown",
   "metadata": {
    "id": "Ml1hmfXC_Zcs"
   },
   "source": [
    "## Обзор данных\n",
    "\n",
    "Составьте первое представление о данных Яндекс.Музыки.\n",
    "\n",
    "\n"
   ]
  },
  {
   "cell_type": "markdown",
   "metadata": {
    "id": "57eAOGIz_Zcs"
   },
   "source": [
    "Основной инструмент аналитика — `pandas`. Импортируйте эту библиотеку."
   ]
  },
  {
   "cell_type": "code",
   "execution_count": 1,
   "metadata": {
    "id": "AXN7PHPN_Zcs"
   },
   "outputs": [],
   "source": [
    "# импорт библиотеки pandas\n",
    "import pandas as pd\n",
    "import numpy as np"
   ]
  },
  {
   "cell_type": "markdown",
   "metadata": {
    "id": "SG23P8tt_Zcs"
   },
   "source": [
    "Прочитайте файл `yandex_music_project.csv` из папки `/datasets` и сохраните его в переменной `df`:"
   ]
  },
  {
   "cell_type": "code",
   "execution_count": 2,
   "metadata": {
    "id": "fFVu7vqh_Zct"
   },
   "outputs": [],
   "source": [
    "# чтение файла с данными и сохранение в df\n",
    "df = pd.read_csv('/datasets/yandex_music_project.csv')"
   ]
  },
  {
   "cell_type": "markdown",
   "metadata": {
    "id": "rDoOMd3uTqnZ"
   },
   "source": [
    "Выведите на экран первые десять строк таблицы:"
   ]
  },
  {
   "cell_type": "code",
   "execution_count": 3,
   "metadata": {
    "id": "oWTVX3gW_Zct"
   },
   "outputs": [
    {
     "data": {
      "text/html": [
       "<div>\n",
       "<style scoped>\n",
       "    .dataframe tbody tr th:only-of-type {\n",
       "        vertical-align: middle;\n",
       "    }\n",
       "\n",
       "    .dataframe tbody tr th {\n",
       "        vertical-align: top;\n",
       "    }\n",
       "\n",
       "    .dataframe thead th {\n",
       "        text-align: right;\n",
       "    }\n",
       "</style>\n",
       "<table border=\"1\" class=\"dataframe\">\n",
       "  <thead>\n",
       "    <tr style=\"text-align: right;\">\n",
       "      <th></th>\n",
       "      <th>userID</th>\n",
       "      <th>Track</th>\n",
       "      <th>artist</th>\n",
       "      <th>genre</th>\n",
       "      <th>City</th>\n",
       "      <th>time</th>\n",
       "      <th>Day</th>\n",
       "    </tr>\n",
       "  </thead>\n",
       "  <tbody>\n",
       "    <tr>\n",
       "      <td>0</td>\n",
       "      <td>FFB692EC</td>\n",
       "      <td>Kamigata To Boots</td>\n",
       "      <td>The Mass Missile</td>\n",
       "      <td>rock</td>\n",
       "      <td>Saint-Petersburg</td>\n",
       "      <td>20:28:33</td>\n",
       "      <td>Wednesday</td>\n",
       "    </tr>\n",
       "    <tr>\n",
       "      <td>1</td>\n",
       "      <td>55204538</td>\n",
       "      <td>Delayed Because of Accident</td>\n",
       "      <td>Andreas Rönnberg</td>\n",
       "      <td>rock</td>\n",
       "      <td>Moscow</td>\n",
       "      <td>14:07:09</td>\n",
       "      <td>Friday</td>\n",
       "    </tr>\n",
       "    <tr>\n",
       "      <td>2</td>\n",
       "      <td>20EC38</td>\n",
       "      <td>Funiculì funiculà</td>\n",
       "      <td>Mario Lanza</td>\n",
       "      <td>pop</td>\n",
       "      <td>Saint-Petersburg</td>\n",
       "      <td>20:58:07</td>\n",
       "      <td>Wednesday</td>\n",
       "    </tr>\n",
       "    <tr>\n",
       "      <td>3</td>\n",
       "      <td>A3DD03C9</td>\n",
       "      <td>Dragons in the Sunset</td>\n",
       "      <td>Fire + Ice</td>\n",
       "      <td>folk</td>\n",
       "      <td>Saint-Petersburg</td>\n",
       "      <td>08:37:09</td>\n",
       "      <td>Monday</td>\n",
       "    </tr>\n",
       "    <tr>\n",
       "      <td>4</td>\n",
       "      <td>E2DC1FAE</td>\n",
       "      <td>Soul People</td>\n",
       "      <td>Space Echo</td>\n",
       "      <td>dance</td>\n",
       "      <td>Moscow</td>\n",
       "      <td>08:34:34</td>\n",
       "      <td>Monday</td>\n",
       "    </tr>\n",
       "    <tr>\n",
       "      <td>5</td>\n",
       "      <td>842029A1</td>\n",
       "      <td>Преданная</td>\n",
       "      <td>IMPERVTOR</td>\n",
       "      <td>rusrap</td>\n",
       "      <td>Saint-Petersburg</td>\n",
       "      <td>13:09:41</td>\n",
       "      <td>Friday</td>\n",
       "    </tr>\n",
       "    <tr>\n",
       "      <td>6</td>\n",
       "      <td>4CB90AA5</td>\n",
       "      <td>True</td>\n",
       "      <td>Roman Messer</td>\n",
       "      <td>dance</td>\n",
       "      <td>Moscow</td>\n",
       "      <td>13:00:07</td>\n",
       "      <td>Wednesday</td>\n",
       "    </tr>\n",
       "    <tr>\n",
       "      <td>7</td>\n",
       "      <td>F03E1C1F</td>\n",
       "      <td>Feeling This Way</td>\n",
       "      <td>Polina Griffith</td>\n",
       "      <td>dance</td>\n",
       "      <td>Moscow</td>\n",
       "      <td>20:47:49</td>\n",
       "      <td>Wednesday</td>\n",
       "    </tr>\n",
       "    <tr>\n",
       "      <td>8</td>\n",
       "      <td>8FA1D3BE</td>\n",
       "      <td>И вновь продолжается бой</td>\n",
       "      <td>NaN</td>\n",
       "      <td>ruspop</td>\n",
       "      <td>Moscow</td>\n",
       "      <td>09:17:40</td>\n",
       "      <td>Friday</td>\n",
       "    </tr>\n",
       "    <tr>\n",
       "      <td>9</td>\n",
       "      <td>E772D5C0</td>\n",
       "      <td>Pessimist</td>\n",
       "      <td>NaN</td>\n",
       "      <td>dance</td>\n",
       "      <td>Saint-Petersburg</td>\n",
       "      <td>21:20:49</td>\n",
       "      <td>Wednesday</td>\n",
       "    </tr>\n",
       "  </tbody>\n",
       "</table>\n",
       "</div>"
      ],
      "text/plain": [
       "     userID                        Track            artist   genre  \\\n",
       "0  FFB692EC            Kamigata To Boots  The Mass Missile    rock   \n",
       "1  55204538  Delayed Because of Accident  Andreas Rönnberg    rock   \n",
       "2    20EC38            Funiculì funiculà       Mario Lanza     pop   \n",
       "3  A3DD03C9        Dragons in the Sunset        Fire + Ice    folk   \n",
       "4  E2DC1FAE                  Soul People        Space Echo   dance   \n",
       "5  842029A1                    Преданная         IMPERVTOR  rusrap   \n",
       "6  4CB90AA5                         True      Roman Messer   dance   \n",
       "7  F03E1C1F             Feeling This Way   Polina Griffith   dance   \n",
       "8  8FA1D3BE     И вновь продолжается бой               NaN  ruspop   \n",
       "9  E772D5C0                    Pessimist               NaN   dance   \n",
       "\n",
       "             City        time        Day  \n",
       "0  Saint-Petersburg  20:28:33  Wednesday  \n",
       "1            Moscow  14:07:09     Friday  \n",
       "2  Saint-Petersburg  20:58:07  Wednesday  \n",
       "3  Saint-Petersburg  08:37:09     Monday  \n",
       "4            Moscow  08:34:34     Monday  \n",
       "5  Saint-Petersburg  13:09:41     Friday  \n",
       "6            Moscow  13:00:07  Wednesday  \n",
       "7            Moscow  20:47:49  Wednesday  \n",
       "8            Moscow  09:17:40     Friday  \n",
       "9  Saint-Petersburg  21:20:49  Wednesday  "
      ]
     },
     "execution_count": 3,
     "metadata": {},
     "output_type": "execute_result"
    }
   ],
   "source": [
    "# получение первых 10 строк таблицы df\n",
    "df.head(10)"
   ]
  },
  {
   "cell_type": "markdown",
   "metadata": {
    "id": "EO73Kwic_Zct"
   },
   "source": [
    "Одной командой получить общую информацию о таблице:"
   ]
  },
  {
   "cell_type": "markdown",
   "metadata": {
    "id": "TaQ2Iwbr_Zct"
   },
   "source": [
    "Итак, в таблице семь столбцов. Тип данных во всех столбцах — `object`.\n",
    "\n",
    "Согласно документации к данным:\n",
    "* `userID` — идентификатор пользователя;\n",
    "* `Track` — название трека;  \n",
    "* `artist` — имя исполнителя;\n",
    "* `genre` — название жанра;\n",
    "* `City` — город пользователя;\n",
    "* `time` — время начала прослушивания;\n",
    "* `Day` — день недели.\n",
    "\n",
    "В названиях колонок видны три нарушения стиля:\n",
    "1. Строчные буквы сочетаются с прописными.\n",
    "2. Встречаются пробелы.\n",
    "3. (ответ) для колонок типа userID нужно применить змеиный регистр, т.е. user_id\n",
    "\n",
    "\n",
    "\n",
    "Количество значений в столбцах различается. Значит, в данных есть пропущенные значения.\n"
   ]
  },
  {
   "cell_type": "markdown",
   "metadata": {
    "id": "MCB6-dXG_Zct"
   },
   "source": [
    "**Выводы**\n",
    "\n",
    "В каждой строке таблицы — данные о прослушанном треке. Часть колонок описывает саму композицию: название, исполнителя и жанр. Остальные данные рассказывают о пользователе: из какого он города, когда он слушал музыку. \n",
    "\n",
    "Предварительно можно утверждать, что, данных достаточно для проверки гипотез. Но встречаются пропуски в данных, а в названиях колонок — расхождения с хорошим стилем.\n",
    "\n",
    "Чтобы двигаться дальше, нужно устранить проблемы в данных."
   ]
  },
  {
   "cell_type": "markdown",
   "metadata": {
    "id": "SjYF6Ub9_Zct"
   },
   "source": [
    "## Предобработка данных\n",
    "Исправьте стиль в заголовках столбцов, исключите пропуски. Затем проверьте данные на дубликаты."
   ]
  },
  {
   "cell_type": "markdown",
   "metadata": {
    "id": "dIaKXr29_Zct"
   },
   "source": [
    "### Стиль заголовков\n",
    "Выведите на экран названия столбцов:"
   ]
  },
  {
   "cell_type": "code",
   "execution_count": 4,
   "metadata": {
    "id": "oKOTdF_Q_Zct"
   },
   "outputs": [
    {
     "data": {
      "text/plain": [
       "Index(['  userID', 'Track', 'artist', 'genre', '  City  ', 'time', 'Day'], dtype='object')"
      ]
     },
     "execution_count": 4,
     "metadata": {},
     "output_type": "execute_result"
    }
   ],
   "source": [
    "# перечень названий столбцов таблицы df\n",
    "df.columns"
   ]
  },
  {
   "cell_type": "markdown",
   "metadata": {
    "id": "zj5534cv_Zct"
   },
   "source": [
    "Приведите названия в соответствие с хорошим стилем:\n",
    "* несколько слов в названии запишите в «змеином_регистре»,\n",
    "* все символы сделайте строчными,\n",
    "* устраните пробелы.\n",
    "\n",
    "Для этого переименуйте колонки так:\n",
    "* `'  userID'` → `'user_id'`;\n",
    "* `'Track'` → `'track'`;\n",
    "* `'  City  '` → `'city'`;\n",
    "* `'Day'` → `'day'`."
   ]
  },
  {
   "cell_type": "code",
   "execution_count": 5,
   "metadata": {
    "id": "ISlFqs5y_Zct"
   },
   "outputs": [],
   "source": [
    "# переименование столбцов\n",
    "df = df.rename(columns={'  userID': 'user_id',\n",
    "                'Track': 'track',\n",
    "                '  City  ': 'city',\n",
    "                'time': 'start_time',\n",
    "                'Day': 'day'})"
   ]
  },
  {
   "cell_type": "markdown",
   "metadata": {
    "id": "1dqbh00J_Zct"
   },
   "source": [
    "Проверьте результат. Для этого ещё раз выведите на экран названия столбцов:"
   ]
  },
  {
   "cell_type": "code",
   "execution_count": 6,
   "metadata": {
    "id": "d4NOAmTW_Zct"
   },
   "outputs": [
    {
     "data": {
      "text/plain": [
       "Index(['user_id', 'track', 'artist', 'genre', 'city', 'start_time', 'day'], dtype='object')"
      ]
     },
     "execution_count": 6,
     "metadata": {},
     "output_type": "execute_result"
    }
   ],
   "source": [
    "# проверка результатов - перечень названий столбцов\n",
    "df.columns"
   ]
  },
  {
   "cell_type": "markdown",
   "metadata": {
    "id": "5ISfbcfY_Zct"
   },
   "source": [
    "### Пропуски значений\n",
    "Сначала посчитайте, сколько в таблице пропущенных значений. Для этого достаточно двух методов `pandas`:"
   ]
  },
  {
   "cell_type": "code",
   "execution_count": 7,
   "metadata": {
    "id": "RskX29qr_Zct",
    "scrolled": true
   },
   "outputs": [
    {
     "data": {
      "text/plain": [
       "user_id          0\n",
       "track         1231\n",
       "artist        7203\n",
       "genre         1198\n",
       "city             0\n",
       "start_time       0\n",
       "day              0\n",
       "dtype: int64"
      ]
     },
     "execution_count": 7,
     "metadata": {},
     "output_type": "execute_result"
    }
   ],
   "source": [
    "# подсчёт пропусков\n",
    "df.isna().sum()"
   ]
  },
  {
   "cell_type": "markdown",
   "metadata": {
    "id": "qubhgnlO_Zct"
   },
   "source": [
    "Не все пропущенные значения влияют на исследование. Так в `track` и `artist` пропуски не важны для вашей работы. Достаточно заменить их явными обозначениями.\n",
    "\n",
    "Но пропуски в `genre` могут помешать сравнению музыкальных вкусов в Москве и Санкт-Петербурге. На практике было бы правильно установить причину пропусков и восстановить данные. Такой возможности нет в учебном проекте. Придётся:\n",
    "* заполнить и эти пропуски явными обозначениями,\n",
    "* оценить, насколько они повредят расчётам. "
   ]
  },
  {
   "cell_type": "markdown",
   "metadata": {
    "id": "fSv2laPA_Zct"
   },
   "source": [
    "Замените пропущенные значения в столбцах `track`, `artist` и `genre` на строку `'unknown'`. Для этого создайте список `columns_to_replace`, переберите его элементы циклом `for` и для каждого столбца выполните замену пропущенных значений:"
   ]
  },
  {
   "cell_type": "code",
   "execution_count": 8,
   "metadata": {
    "scrolled": true
   },
   "outputs": [
    {
     "data": {
      "text/html": [
       "<div>\n",
       "<style scoped>\n",
       "    .dataframe tbody tr th:only-of-type {\n",
       "        vertical-align: middle;\n",
       "    }\n",
       "\n",
       "    .dataframe tbody tr th {\n",
       "        vertical-align: top;\n",
       "    }\n",
       "\n",
       "    .dataframe thead th {\n",
       "        text-align: right;\n",
       "    }\n",
       "</style>\n",
       "<table border=\"1\" class=\"dataframe\">\n",
       "  <thead>\n",
       "    <tr style=\"text-align: right;\">\n",
       "      <th></th>\n",
       "      <th>A</th>\n",
       "      <th>B</th>\n",
       "      <th>C</th>\n",
       "    </tr>\n",
       "  </thead>\n",
       "  <tbody>\n",
       "    <tr>\n",
       "      <td>0</td>\n",
       "      <td>0.0</td>\n",
       "      <td>NaN</td>\n",
       "      <td>3.0</td>\n",
       "    </tr>\n",
       "    <tr>\n",
       "      <td>1</td>\n",
       "      <td>0.0</td>\n",
       "      <td>4.0</td>\n",
       "      <td>NaN</td>\n",
       "    </tr>\n",
       "    <tr>\n",
       "      <td>2</td>\n",
       "      <td>NaN</td>\n",
       "      <td>20.0</td>\n",
       "      <td>30.0</td>\n",
       "    </tr>\n",
       "  </tbody>\n",
       "</table>\n",
       "</div>"
      ],
      "text/plain": [
       "     A     B     C\n",
       "0  0.0   NaN   3.0\n",
       "1  0.0   4.0   NaN\n",
       "2  NaN  20.0  30.0"
      ]
     },
     "execution_count": 8,
     "metadata": {},
     "output_type": "execute_result"
    }
   ],
   "source": [
    "#датасет для тестов методов\n",
    "\n",
    "df_test = pd.DataFrame([[0, np.NaN, 3], [0, 4, np.NaN], [np.NaN, 20, 30]],\n",
    "                  columns=['A', 'B', 'C'])\n",
    "\n",
    "df_test"
   ]
  },
  {
   "cell_type": "code",
   "execution_count": 9,
   "metadata": {
    "id": "KplB5qWs_Zct"
   },
   "outputs": [],
   "source": [
    "# перебор названий столбцов в цикле и замена пропущенных значений на 'unknown'\n",
    "columns_to_replace = ['track', 'artist', 'genre']\n",
    "\n",
    "for column in columns_to_replace:\n",
    "    df[column] = df[column].fillna('unknown')\n",
    "\n",
    "\n",
    "        "
   ]
  },
  {
   "cell_type": "code",
   "execution_count": 10,
   "metadata": {},
   "outputs": [
    {
     "data": {
      "text/plain": [
       "0                                     Kamigata To Boots\n",
       "1                           Delayed Because of Accident\n",
       "2                                     Funiculì funiculà\n",
       "3                                 Dragons in the Sunset\n",
       "4                                           Soul People\n",
       "5                                             Преданная\n",
       "6                                                  True\n",
       "7                                      Feeling This Way\n",
       "8                              И вновь продолжается бой\n",
       "9                                             Pessimist\n",
       "10                                         Gool la Mita\n",
       "11    Is There Anybody Out There? (Panoramic Paralys...\n",
       "12                                  Мина син генэ кирэк\n",
       "13                                 After School Special\n",
       "14                           Make Love Whenever You Can\n",
       "15                                              unknown\n",
       "16                                       SLAVES OF FEAR\n",
       "17                                             Веснянка\n",
       "18                                           Pat-a-Cake\n",
       "19                                            Sweetback\n",
       "20                                     Ya'll In Trouble\n",
       "21                                            Nanovirus\n",
       "22                                               Самота\n",
       "23                                              Gavotte\n",
       "24                                 A Universal Weakness\n",
       "25                                  Cradle in Bethlehem\n",
       "26                               We Not Speak Americano\n",
       "27                                        Mucho Corazón\n",
       "28                                            Romantici\n",
       "29            Cюита из балета «Семь красавиц»: I. Вальс\n",
       "Name: track, dtype: object"
      ]
     },
     "execution_count": 10,
     "metadata": {},
     "output_type": "execute_result"
    }
   ],
   "source": [
    "df['track'].head(30)"
   ]
  },
  {
   "cell_type": "markdown",
   "metadata": {
    "id": "Ilsm-MZo_Zct"
   },
   "source": [
    "Убедитесь, что в таблице не осталось пропусков. Для этого ещё раз посчитайте пропущенные значения."
   ]
  },
  {
   "cell_type": "code",
   "execution_count": 11,
   "metadata": {
    "id": "Tq4nYRX4_Zct"
   },
   "outputs": [
    {
     "data": {
      "text/plain": [
       "user_id       0\n",
       "track         0\n",
       "artist        0\n",
       "genre         0\n",
       "city          0\n",
       "start_time    0\n",
       "day           0\n",
       "dtype: int64"
      ]
     },
     "execution_count": 11,
     "metadata": {},
     "output_type": "execute_result"
    }
   ],
   "source": [
    "# подсчёт пропусков\n",
    "df.isna().sum()"
   ]
  },
  {
   "cell_type": "markdown",
   "metadata": {
    "id": "BWKRtBJ3_Zct"
   },
   "source": [
    "### Дубликаты\n",
    "Посчитайте явные дубликаты в таблице одной командой:"
   ]
  },
  {
   "cell_type": "code",
   "execution_count": 12,
   "metadata": {
    "id": "36eES_S0_Zct"
   },
   "outputs": [
    {
     "data": {
      "text/plain": [
       "3826"
      ]
     },
     "execution_count": 12,
     "metadata": {},
     "output_type": "execute_result"
    }
   ],
   "source": [
    "# подсчёт явных дубликатов\n",
    "df.duplicated().sum()"
   ]
  },
  {
   "cell_type": "markdown",
   "metadata": {
    "id": "Ot25h6XR_Zct"
   },
   "source": [
    "Вызовите специальный метод `pandas`, чтобы удалить явные дубликаты:"
   ]
  },
  {
   "cell_type": "code",
   "execution_count": 13,
   "metadata": {
    "id": "exFHq6tt_Zct"
   },
   "outputs": [],
   "source": [
    "# удаление явных дубликатов (с удалением старых индексов и формированием новых)\n",
    "df = df.drop_duplicates().reset_index(drop=True)"
   ]
  },
  {
   "cell_type": "markdown",
   "metadata": {
    "id": "Im2YwBEG_Zct"
   },
   "source": [
    "Ещё раз посчитайте явные дубликаты в таблице — убедитесь, что полностью от них избавились:"
   ]
  },
  {
   "cell_type": "code",
   "execution_count": 14,
   "metadata": {
    "id": "-8PuNWQ0_Zct"
   },
   "outputs": [
    {
     "data": {
      "text/plain": [
       "0"
      ]
     },
     "execution_count": 14,
     "metadata": {},
     "output_type": "execute_result"
    }
   ],
   "source": [
    "# проверка на отсутствие дубликатов\n",
    "df.duplicated().sum()"
   ]
  },
  {
   "cell_type": "markdown",
   "metadata": {
    "id": "QlFBsxAr_Zct"
   },
   "source": [
    "Теперь избавьтесь от неявных дубликатов в колонке `genre`. Например, название одного и того же жанра может быть записано немного по-разному. Такие ошибки тоже повлияют на результат исследования."
   ]
  },
  {
   "cell_type": "markdown",
   "metadata": {
    "id": "eSjWwsOh_Zct"
   },
   "source": [
    "Выведите на экран список уникальных названий жанров, отсортированный в алфавитном порядке. Для этого:\n",
    "* извлеките нужный столбец датафрейма, \n",
    "* примените к нему метод сортировки,\n",
    "* для отсортированного столбца вызовите метод, который вернёт уникальные значения из столбца."
   ]
  },
  {
   "cell_type": "code",
   "execution_count": 15,
   "metadata": {
    "id": "JIUcqzZN_Zct",
    "scrolled": false
   },
   "outputs": [],
   "source": [
    "# Просмотр уникальных названий жанров\n",
    "#df['genre'].unique()"
   ]
  },
  {
   "cell_type": "code",
   "execution_count": 16,
   "metadata": {
    "scrolled": true
   },
   "outputs": [
    {
     "data": {
      "text/plain": [
       "array(['acid', 'acoustic', 'action', 'adult', 'africa', 'afrikaans',\n",
       "       'alternative', 'alternativepunk', 'ambient', 'americana',\n",
       "       'animated', 'anime', 'arabesk', 'arabic', 'arena',\n",
       "       'argentinetango', 'art', 'audiobook', 'author', 'avantgarde',\n",
       "       'axé', 'baile', 'balkan', 'beats', 'bigroom', 'black', 'bluegrass',\n",
       "       'blues', 'bollywood', 'bossa', 'brazilian', 'breakbeat', 'breaks',\n",
       "       'broadway', 'cantautori', 'cantopop', 'canzone', 'caribbean',\n",
       "       'caucasian', 'celtic', 'chamber', 'chanson', 'children', 'chill',\n",
       "       'chinese', 'choral', 'christian', 'christmas', 'classical',\n",
       "       'classicmetal', 'club', 'colombian', 'comedy', 'conjazz',\n",
       "       'contemporary', 'country', 'cuban', 'dance', 'dancehall',\n",
       "       'dancepop', 'dark', 'death', 'deep', 'deutschrock', 'deutschspr',\n",
       "       'dirty', 'disco', 'dnb', 'documentary', 'downbeat', 'downtempo',\n",
       "       'drum', 'dub', 'dubstep', 'eastern', 'easy', 'electronic',\n",
       "       'electropop', 'emo', 'entehno', 'epicmetal', 'estrada', 'ethnic',\n",
       "       'eurofolk', 'european', 'experimental', 'extrememetal', 'fado',\n",
       "       'fairytail', 'film', 'fitness', 'flamenco', 'folk', 'folklore',\n",
       "       'folkmetal', 'folkrock', 'folktronica', 'forró', 'frankreich',\n",
       "       'französisch', 'french', 'funk', 'future', 'gangsta', 'garage',\n",
       "       'german', 'ghazal', 'gitarre', 'glitch', 'gospel', 'gothic',\n",
       "       'grime', 'grunge', 'gypsy', 'handsup', \"hard'n'heavy\", 'hardcore',\n",
       "       'hardstyle', 'hardtechno', 'hip', 'hip-hop', 'hiphop',\n",
       "       'historisch', 'holiday', 'hop', 'horror', 'house', 'hymn', 'idm',\n",
       "       'independent', 'indian', 'indie', 'indipop', 'industrial',\n",
       "       'inspirational', 'instrumental', 'international', 'irish', 'jam',\n",
       "       'japanese', 'jazz', 'jewish', 'jpop', 'jungle', 'k-pop',\n",
       "       'karadeniz', 'karaoke', 'kayokyoku', 'korean', 'laiko', 'latin',\n",
       "       'latino', 'leftfield', 'local', 'lounge', 'loungeelectronic',\n",
       "       'lovers', 'malaysian', 'mandopop', 'marschmusik', 'meditative',\n",
       "       'mediterranean', 'melodic', 'metal', 'metalcore', 'mexican',\n",
       "       'middle', 'minimal', 'miscellaneous', 'modern', 'mood', 'mpb',\n",
       "       'muslim', 'native', 'neoklassik', 'neue', 'new', 'newage',\n",
       "       'newwave', 'nu', 'nujazz', 'numetal', 'oceania', 'old', 'opera',\n",
       "       'orchestral', 'other', 'piano', 'podcasts', 'pop', 'popdance',\n",
       "       'popelectronic', 'popeurodance', 'poprussian', 'post',\n",
       "       'posthardcore', 'postrock', 'power', 'progmetal', 'progressive',\n",
       "       'psychedelic', 'punjabi', 'punk', 'quebecois', 'ragga', 'ram',\n",
       "       'rancheras', 'rap', 'rave', 'reggae', 'reggaeton', 'regional',\n",
       "       'relax', 'religious', 'retro', 'rhythm', 'rnb', 'rnr', 'rock',\n",
       "       'rockabilly', 'rockalternative', 'rockindie', 'rockother',\n",
       "       'romance', 'roots', 'ruspop', 'rusrap', 'rusrock', 'russian',\n",
       "       'salsa', 'samba', 'scenic', 'schlager', 'self', 'sertanejo',\n",
       "       'shanson', 'shoegazing', 'showtunes', 'singer', 'ska', 'skarock',\n",
       "       'slow', 'smooth', 'soft', 'soul', 'soulful', 'sound', 'soundtrack',\n",
       "       'southern', 'specialty', 'speech', 'spiritual', 'sport',\n",
       "       'stonerrock', 'surf', 'swing', 'synthpop', 'synthrock',\n",
       "       'sängerportrait', 'tango', 'tanzorchester', 'taraftar', 'tatar',\n",
       "       'tech', 'techno', 'teen', 'thrash', 'top', 'traditional',\n",
       "       'tradjazz', 'trance', 'tribal', 'trip', 'triphop', 'tropical',\n",
       "       'türk', 'türkçe', 'ukrrock', 'unknown', 'urban', 'uzbek',\n",
       "       'variété', 'vi', 'videogame', 'vocal', 'western', 'world',\n",
       "       'worldbeat', 'ïîï', 'электроника'], dtype=object)"
      ]
     },
     "execution_count": 16,
     "metadata": {},
     "output_type": "execute_result"
    }
   ],
   "source": [
    "df['genre'].sort_values().unique()"
   ]
  },
  {
   "cell_type": "markdown",
   "metadata": {
    "id": "qej-Qmuo_Zct"
   },
   "source": [
    "Просмотрите список и найдите неявные дубликаты названия `hiphop`. Это могут быть названия с ошибками или альтернативные названия того же жанра.\n",
    "\n",
    "Вы увидите следующие неявные дубликаты:\n",
    "* *hip*,\n",
    "* *hop*,\n",
    "* *hip-hop*.\n",
    "\n",
    "Чтобы очистить от них таблицу, напишите функцию `replace_wrong_genres()` с двумя параметрами: \n",
    "* `wrong_genres` — список дубликатов,\n",
    "* `correct_genre` — строка с правильным значением.\n",
    "\n",
    "Функция должна исправить колонку `genre` в таблице `df`: заменить каждое значение из списка `wrong_genres` на значение из `correct_genre`."
   ]
  },
  {
   "cell_type": "code",
   "execution_count": 17,
   "metadata": {
    "id": "ErNDkmns_Zct"
   },
   "outputs": [],
   "source": [
    "# Функция для замены неявных дубликатов\n",
    "\n",
    "\n",
    "wrong_genres = ['hip', 'hop', 'hip-hop']\n",
    "correct_genre = 'hiphop'\n",
    "\n",
    "def replace_wrong_genres(wrong_genres, correct_genre):\n",
    "    df['genre'] = df['genre'].replace(wrong_genres, correct_genre)\n",
    "    \n"
   ]
  },
  {
   "cell_type": "markdown",
   "metadata": {
    "id": "aDoBJxbA_Zct"
   },
   "source": [
    "Вызовите `replace_wrong_genres()` и передайте ей такие аргументы, чтобы она устранила неявные дубликаты: вместо `hip`, `hop` и `hip-hop` в таблице должно быть значение `hiphop`:"
   ]
  },
  {
   "cell_type": "code",
   "execution_count": 18,
   "metadata": {
    "id": "YN5i2hpmSo09"
   },
   "outputs": [],
   "source": [
    "# Устранение неявных дубликатов\n",
    "replace_wrong_genres(wrong_genres, correct_genre)"
   ]
  },
  {
   "cell_type": "markdown",
   "metadata": {
    "id": "zQKF16_RG15m"
   },
   "source": [
    "Проверьте, что заменили неправильные названия:\n",
    "\n",
    "*   hip\n",
    "*   hop\n",
    "*   hip-hop\n",
    "\n",
    "Выведите отсортированный список уникальных значений столбца `genre`:"
   ]
  },
  {
   "cell_type": "code",
   "execution_count": 19,
   "metadata": {
    "id": "wvixALnFG15m"
   },
   "outputs": [
    {
     "data": {
      "text/plain": [
       "['acid',\n",
       " 'acoustic',\n",
       " 'action',\n",
       " 'adult',\n",
       " 'africa',\n",
       " 'afrikaans',\n",
       " 'alternative',\n",
       " 'alternativepunk',\n",
       " 'ambient',\n",
       " 'americana',\n",
       " 'animated',\n",
       " 'anime',\n",
       " 'arabesk',\n",
       " 'arabic',\n",
       " 'arena',\n",
       " 'argentinetango',\n",
       " 'art',\n",
       " 'audiobook',\n",
       " 'author',\n",
       " 'avantgarde',\n",
       " 'axé',\n",
       " 'baile',\n",
       " 'balkan',\n",
       " 'beats',\n",
       " 'bigroom',\n",
       " 'black',\n",
       " 'bluegrass',\n",
       " 'blues',\n",
       " 'bollywood',\n",
       " 'bossa',\n",
       " 'brazilian',\n",
       " 'breakbeat',\n",
       " 'breaks',\n",
       " 'broadway',\n",
       " 'cantautori',\n",
       " 'cantopop',\n",
       " 'canzone',\n",
       " 'caribbean',\n",
       " 'caucasian',\n",
       " 'celtic',\n",
       " 'chamber',\n",
       " 'chanson',\n",
       " 'children',\n",
       " 'chill',\n",
       " 'chinese',\n",
       " 'choral',\n",
       " 'christian',\n",
       " 'christmas',\n",
       " 'classical',\n",
       " 'classicmetal',\n",
       " 'club',\n",
       " 'colombian',\n",
       " 'comedy',\n",
       " 'conjazz',\n",
       " 'contemporary',\n",
       " 'country',\n",
       " 'cuban',\n",
       " 'dance',\n",
       " 'dancehall',\n",
       " 'dancepop',\n",
       " 'dark',\n",
       " 'death',\n",
       " 'deep',\n",
       " 'deutschrock',\n",
       " 'deutschspr',\n",
       " 'dirty',\n",
       " 'disco',\n",
       " 'dnb',\n",
       " 'documentary',\n",
       " 'downbeat',\n",
       " 'downtempo',\n",
       " 'drum',\n",
       " 'dub',\n",
       " 'dubstep',\n",
       " 'eastern',\n",
       " 'easy',\n",
       " 'electronic',\n",
       " 'electropop',\n",
       " 'emo',\n",
       " 'entehno',\n",
       " 'epicmetal',\n",
       " 'estrada',\n",
       " 'ethnic',\n",
       " 'eurofolk',\n",
       " 'european',\n",
       " 'experimental',\n",
       " 'extrememetal',\n",
       " 'fado',\n",
       " 'fairytail',\n",
       " 'film',\n",
       " 'fitness',\n",
       " 'flamenco',\n",
       " 'folk',\n",
       " 'folklore',\n",
       " 'folkmetal',\n",
       " 'folkrock',\n",
       " 'folktronica',\n",
       " 'forró',\n",
       " 'frankreich',\n",
       " 'französisch',\n",
       " 'french',\n",
       " 'funk',\n",
       " 'future',\n",
       " 'gangsta',\n",
       " 'garage',\n",
       " 'german',\n",
       " 'ghazal',\n",
       " 'gitarre',\n",
       " 'glitch',\n",
       " 'gospel',\n",
       " 'gothic',\n",
       " 'grime',\n",
       " 'grunge',\n",
       " 'gypsy',\n",
       " 'handsup',\n",
       " \"hard'n'heavy\",\n",
       " 'hardcore',\n",
       " 'hardstyle',\n",
       " 'hardtechno',\n",
       " 'hiphop',\n",
       " 'historisch',\n",
       " 'holiday',\n",
       " 'horror',\n",
       " 'house',\n",
       " 'hymn',\n",
       " 'idm',\n",
       " 'independent',\n",
       " 'indian',\n",
       " 'indie',\n",
       " 'indipop',\n",
       " 'industrial',\n",
       " 'inspirational',\n",
       " 'instrumental',\n",
       " 'international',\n",
       " 'irish',\n",
       " 'jam',\n",
       " 'japanese',\n",
       " 'jazz',\n",
       " 'jewish',\n",
       " 'jpop',\n",
       " 'jungle',\n",
       " 'k-pop',\n",
       " 'karadeniz',\n",
       " 'karaoke',\n",
       " 'kayokyoku',\n",
       " 'korean',\n",
       " 'laiko',\n",
       " 'latin',\n",
       " 'latino',\n",
       " 'leftfield',\n",
       " 'local',\n",
       " 'lounge',\n",
       " 'loungeelectronic',\n",
       " 'lovers',\n",
       " 'malaysian',\n",
       " 'mandopop',\n",
       " 'marschmusik',\n",
       " 'meditative',\n",
       " 'mediterranean',\n",
       " 'melodic',\n",
       " 'metal',\n",
       " 'metalcore',\n",
       " 'mexican',\n",
       " 'middle',\n",
       " 'minimal',\n",
       " 'miscellaneous',\n",
       " 'modern',\n",
       " 'mood',\n",
       " 'mpb',\n",
       " 'muslim',\n",
       " 'native',\n",
       " 'neoklassik',\n",
       " 'neue',\n",
       " 'new',\n",
       " 'newage',\n",
       " 'newwave',\n",
       " 'nu',\n",
       " 'nujazz',\n",
       " 'numetal',\n",
       " 'oceania',\n",
       " 'old',\n",
       " 'opera',\n",
       " 'orchestral',\n",
       " 'other',\n",
       " 'piano',\n",
       " 'podcasts',\n",
       " 'pop',\n",
       " 'popdance',\n",
       " 'popelectronic',\n",
       " 'popeurodance',\n",
       " 'poprussian',\n",
       " 'post',\n",
       " 'posthardcore',\n",
       " 'postrock',\n",
       " 'power',\n",
       " 'progmetal',\n",
       " 'progressive',\n",
       " 'psychedelic',\n",
       " 'punjabi',\n",
       " 'punk',\n",
       " 'quebecois',\n",
       " 'ragga',\n",
       " 'ram',\n",
       " 'rancheras',\n",
       " 'rap',\n",
       " 'rave',\n",
       " 'reggae',\n",
       " 'reggaeton',\n",
       " 'regional',\n",
       " 'relax',\n",
       " 'religious',\n",
       " 'retro',\n",
       " 'rhythm',\n",
       " 'rnb',\n",
       " 'rnr',\n",
       " 'rock',\n",
       " 'rockabilly',\n",
       " 'rockalternative',\n",
       " 'rockindie',\n",
       " 'rockother',\n",
       " 'romance',\n",
       " 'roots',\n",
       " 'ruspop',\n",
       " 'rusrap',\n",
       " 'rusrock',\n",
       " 'russian',\n",
       " 'salsa',\n",
       " 'samba',\n",
       " 'scenic',\n",
       " 'schlager',\n",
       " 'self',\n",
       " 'sertanejo',\n",
       " 'shanson',\n",
       " 'shoegazing',\n",
       " 'showtunes',\n",
       " 'singer',\n",
       " 'ska',\n",
       " 'skarock',\n",
       " 'slow',\n",
       " 'smooth',\n",
       " 'soft',\n",
       " 'soul',\n",
       " 'soulful',\n",
       " 'sound',\n",
       " 'soundtrack',\n",
       " 'southern',\n",
       " 'specialty',\n",
       " 'speech',\n",
       " 'spiritual',\n",
       " 'sport',\n",
       " 'stonerrock',\n",
       " 'surf',\n",
       " 'swing',\n",
       " 'synthpop',\n",
       " 'synthrock',\n",
       " 'sängerportrait',\n",
       " 'tango',\n",
       " 'tanzorchester',\n",
       " 'taraftar',\n",
       " 'tatar',\n",
       " 'tech',\n",
       " 'techno',\n",
       " 'teen',\n",
       " 'thrash',\n",
       " 'top',\n",
       " 'traditional',\n",
       " 'tradjazz',\n",
       " 'trance',\n",
       " 'tribal',\n",
       " 'trip',\n",
       " 'triphop',\n",
       " 'tropical',\n",
       " 'türk',\n",
       " 'türkçe',\n",
       " 'ukrrock',\n",
       " 'unknown',\n",
       " 'urban',\n",
       " 'uzbek',\n",
       " 'variété',\n",
       " 'vi',\n",
       " 'videogame',\n",
       " 'vocal',\n",
       " 'western',\n",
       " 'world',\n",
       " 'worldbeat',\n",
       " 'ïîï',\n",
       " 'электроника']"
      ]
     },
     "execution_count": 19,
     "metadata": {},
     "output_type": "execute_result"
    }
   ],
   "source": [
    "# Проверка на неявные дубликаты\n",
    "sorted(df['genre'].unique())"
   ]
  },
  {
   "cell_type": "markdown",
   "metadata": {
    "id": "jz6a9-7HQUDd"
   },
   "source": [
    "**Выводы**\n",
    "\n",
    "Предобработка обнаружила три проблемы в данных:\n",
    "\n",
    "- нарушения в стиле заголовков,\n",
    "- пропущенные значения,\n",
    "- дубликаты — явные и неявные.\n",
    "\n",
    "Вы исправили заголовки, чтобы упростить работу с таблицей. Без дубликатов исследование станет более точным.\n",
    "\n",
    "Пропущенные значения вы заменили на `'unknown'`. Ещё предстоит увидеть, не повредят ли исследованию пропуски в колонке `genre`.\n",
    "\n",
    "Теперь можно перейти к проверке гипотез. "
   ]
  },
  {
   "cell_type": "markdown",
   "metadata": {
    "id": "WttZHXH0SqKk"
   },
   "source": [
    "## Проверка гипотез"
   ]
  },
  {
   "cell_type": "markdown",
   "metadata": {
    "id": "Im936VVi_Zcu"
   },
   "source": [
    "### Сравнение поведения пользователей двух столиц"
   ]
  },
  {
   "cell_type": "markdown",
   "metadata": {
    "id": "nwt_MuaL_Zcu"
   },
   "source": [
    "Первая гипотеза утверждает, что пользователи по-разному слушают музыку в Москве и Санкт-Петербурге. Проверьте это предположение по данным о трёх днях недели — понедельнике, среде и пятнице. Для этого:\n",
    "\n",
    "* Разделите пользователей Москвы и Санкт-Петербурга\n",
    "* Сравните, сколько треков послушала каждая группа пользователей в понедельник, среду и пятницу.\n"
   ]
  },
  {
   "cell_type": "markdown",
   "metadata": {
    "id": "8Dw_YMmT_Zcu"
   },
   "source": [
    "Для тренировки сначала выполните каждый из расчётов по отдельности. \n",
    "\n",
    "Оцените активность пользователей в каждом городе. Сгруппируйте данные по городу и посчитайте прослушивания в каждой группе.\n",
    "\n"
   ]
  },
  {
   "cell_type": "code",
   "execution_count": 20,
   "metadata": {
    "id": "0_Qs96oh_Zcu"
   },
   "outputs": [
    {
     "data": {
      "text/plain": [
       "city\n",
       "Moscow              42741\n",
       "Saint-Petersburg    18512\n",
       "Name: start_time, dtype: int64"
      ]
     },
     "execution_count": 20,
     "metadata": {},
     "output_type": "execute_result"
    }
   ],
   "source": [
    "# Подсчёт прослушиваний в каждом городе\n",
    "df.groupby('city')['start_time'].count()"
   ]
  },
  {
   "cell_type": "markdown",
   "metadata": {
    "id": "dzli3w8o_Zcu"
   },
   "source": [
    "В Москве прослушиваний больше, чем в Петербурге. Из этого не следует, что московские пользователи чаще слушают музыку. Просто самих пользователей в Москве больше.\n",
    "\n",
    "Теперь сгруппируйте данные по дню недели и подсчитайте прослушивания в понедельник, среду и пятницу. Учтите, что в данных есть информация только о прослушиваниях только за эти дни.\n"
   ]
  },
  {
   "cell_type": "code",
   "execution_count": 21,
   "metadata": {
    "id": "uZMKjiJz_Zcu",
    "scrolled": false
   },
   "outputs": [
    {
     "data": {
      "text/plain": [
       "day\n",
       "Friday       21840\n",
       "Monday       21354\n",
       "Wednesday    18059\n",
       "Name: start_time, dtype: int64"
      ]
     },
     "execution_count": 21,
     "metadata": {},
     "output_type": "execute_result"
    }
   ],
   "source": [
    "# Подсчёт прослушиваний в каждый из трёх дней\n",
    "df.groupby('day')['start_time'].count()"
   ]
  },
  {
   "cell_type": "code",
   "execution_count": 22,
   "metadata": {},
   "outputs": [
    {
     "data": {
      "text/html": [
       "<div>\n",
       "<style scoped>\n",
       "    .dataframe tbody tr th:only-of-type {\n",
       "        vertical-align: middle;\n",
       "    }\n",
       "\n",
       "    .dataframe tbody tr th {\n",
       "        vertical-align: top;\n",
       "    }\n",
       "\n",
       "    .dataframe thead th {\n",
       "        text-align: right;\n",
       "    }\n",
       "</style>\n",
       "<table border=\"1\" class=\"dataframe\">\n",
       "  <thead>\n",
       "    <tr style=\"text-align: right;\">\n",
       "      <th></th>\n",
       "      <th>user_id</th>\n",
       "      <th>track</th>\n",
       "      <th>artist</th>\n",
       "      <th>genre</th>\n",
       "      <th>city</th>\n",
       "      <th>start_time</th>\n",
       "      <th>day</th>\n",
       "    </tr>\n",
       "  </thead>\n",
       "  <tbody>\n",
       "    <tr>\n",
       "      <td>0</td>\n",
       "      <td>FFB692EC</td>\n",
       "      <td>Kamigata To Boots</td>\n",
       "      <td>The Mass Missile</td>\n",
       "      <td>rock</td>\n",
       "      <td>Saint-Petersburg</td>\n",
       "      <td>20:28:33</td>\n",
       "      <td>Wednesday</td>\n",
       "    </tr>\n",
       "    <tr>\n",
       "      <td>1</td>\n",
       "      <td>55204538</td>\n",
       "      <td>Delayed Because of Accident</td>\n",
       "      <td>Andreas Rönnberg</td>\n",
       "      <td>rock</td>\n",
       "      <td>Moscow</td>\n",
       "      <td>14:07:09</td>\n",
       "      <td>Friday</td>\n",
       "    </tr>\n",
       "    <tr>\n",
       "      <td>2</td>\n",
       "      <td>20EC38</td>\n",
       "      <td>Funiculì funiculà</td>\n",
       "      <td>Mario Lanza</td>\n",
       "      <td>pop</td>\n",
       "      <td>Saint-Petersburg</td>\n",
       "      <td>20:58:07</td>\n",
       "      <td>Wednesday</td>\n",
       "    </tr>\n",
       "    <tr>\n",
       "      <td>3</td>\n",
       "      <td>A3DD03C9</td>\n",
       "      <td>Dragons in the Sunset</td>\n",
       "      <td>Fire + Ice</td>\n",
       "      <td>folk</td>\n",
       "      <td>Saint-Petersburg</td>\n",
       "      <td>08:37:09</td>\n",
       "      <td>Monday</td>\n",
       "    </tr>\n",
       "    <tr>\n",
       "      <td>4</td>\n",
       "      <td>E2DC1FAE</td>\n",
       "      <td>Soul People</td>\n",
       "      <td>Space Echo</td>\n",
       "      <td>dance</td>\n",
       "      <td>Moscow</td>\n",
       "      <td>08:34:34</td>\n",
       "      <td>Monday</td>\n",
       "    </tr>\n",
       "    <tr>\n",
       "      <td>...</td>\n",
       "      <td>...</td>\n",
       "      <td>...</td>\n",
       "      <td>...</td>\n",
       "      <td>...</td>\n",
       "      <td>...</td>\n",
       "      <td>...</td>\n",
       "      <td>...</td>\n",
       "    </tr>\n",
       "    <tr>\n",
       "      <td>61248</td>\n",
       "      <td>729CBB09</td>\n",
       "      <td>My Name</td>\n",
       "      <td>McLean</td>\n",
       "      <td>rnb</td>\n",
       "      <td>Moscow</td>\n",
       "      <td>13:32:28</td>\n",
       "      <td>Wednesday</td>\n",
       "    </tr>\n",
       "    <tr>\n",
       "      <td>61249</td>\n",
       "      <td>D08D4A55</td>\n",
       "      <td>Maybe One Day (feat. Black Spade)</td>\n",
       "      <td>Blu &amp; Exile</td>\n",
       "      <td>hiphop</td>\n",
       "      <td>Saint-Petersburg</td>\n",
       "      <td>10:00:00</td>\n",
       "      <td>Monday</td>\n",
       "    </tr>\n",
       "    <tr>\n",
       "      <td>61250</td>\n",
       "      <td>C5E3A0D5</td>\n",
       "      <td>Jalopiina</td>\n",
       "      <td>unknown</td>\n",
       "      <td>industrial</td>\n",
       "      <td>Moscow</td>\n",
       "      <td>20:09:26</td>\n",
       "      <td>Friday</td>\n",
       "    </tr>\n",
       "    <tr>\n",
       "      <td>61251</td>\n",
       "      <td>321D0506</td>\n",
       "      <td>Freight Train</td>\n",
       "      <td>Chas McDevitt</td>\n",
       "      <td>rock</td>\n",
       "      <td>Moscow</td>\n",
       "      <td>21:43:59</td>\n",
       "      <td>Friday</td>\n",
       "    </tr>\n",
       "    <tr>\n",
       "      <td>61252</td>\n",
       "      <td>3A64EF84</td>\n",
       "      <td>Tell Me Sweet Little Lies</td>\n",
       "      <td>Monica Lopez</td>\n",
       "      <td>country</td>\n",
       "      <td>Moscow</td>\n",
       "      <td>21:59:46</td>\n",
       "      <td>Friday</td>\n",
       "    </tr>\n",
       "  </tbody>\n",
       "</table>\n",
       "<p>61253 rows × 7 columns</p>\n",
       "</div>"
      ],
      "text/plain": [
       "        user_id                              track            artist  \\\n",
       "0      FFB692EC                  Kamigata To Boots  The Mass Missile   \n",
       "1      55204538        Delayed Because of Accident  Andreas Rönnberg   \n",
       "2        20EC38                  Funiculì funiculà       Mario Lanza   \n",
       "3      A3DD03C9              Dragons in the Sunset        Fire + Ice   \n",
       "4      E2DC1FAE                        Soul People        Space Echo   \n",
       "...         ...                                ...               ...   \n",
       "61248  729CBB09                            My Name            McLean   \n",
       "61249  D08D4A55  Maybe One Day (feat. Black Spade)       Blu & Exile   \n",
       "61250  C5E3A0D5                          Jalopiina           unknown   \n",
       "61251  321D0506                      Freight Train     Chas McDevitt   \n",
       "61252  3A64EF84          Tell Me Sweet Little Lies      Monica Lopez   \n",
       "\n",
       "            genre              city start_time        day  \n",
       "0            rock  Saint-Petersburg   20:28:33  Wednesday  \n",
       "1            rock            Moscow   14:07:09     Friday  \n",
       "2             pop  Saint-Petersburg   20:58:07  Wednesday  \n",
       "3            folk  Saint-Petersburg   08:37:09     Monday  \n",
       "4           dance            Moscow   08:34:34     Monday  \n",
       "...           ...               ...        ...        ...  \n",
       "61248         rnb            Moscow   13:32:28  Wednesday  \n",
       "61249      hiphop  Saint-Petersburg   10:00:00     Monday  \n",
       "61250  industrial            Moscow   20:09:26     Friday  \n",
       "61251        rock            Moscow   21:43:59     Friday  \n",
       "61252     country            Moscow   21:59:46     Friday  \n",
       "\n",
       "[61253 rows x 7 columns]"
      ]
     },
     "execution_count": 22,
     "metadata": {},
     "output_type": "execute_result"
    }
   ],
   "source": [
    "df"
   ]
  },
  {
   "cell_type": "markdown",
   "metadata": {
    "id": "cC2tNrlL_Zcu"
   },
   "source": [
    "В среднем пользователи из двух городов менее активны по средам. Но картина может измениться, если рассмотреть каждый город в отдельности."
   ]
  },
  {
   "cell_type": "markdown",
   "metadata": {
    "id": "POzs8bGa_Zcu"
   },
   "source": [
    "Вы видели, как работает группировка по городу и по дням недели. Теперь напишите функцию, которая объединит два эти расчёта.\n",
    "\n",
    "Создайте функцию `number_tracks()`, которая посчитает прослушивания для заданного дня и города. Ей понадобятся два параметра:\n",
    "* день недели,\n",
    "* название города.\n",
    "\n",
    "В функции сохраните в переменную строки исходной таблицы, у которых значение:\n",
    "  * в колонке `day` равно параметру `day`,\n",
    "  * в колонке `city` равно параметру `city`.\n",
    "\n",
    "Для этого примените последовательную фильтрацию с логической индексацией.\n",
    "\n",
    "Затем посчитайте значения в столбце `user_id` получившейся таблицы. Результат сохраните в новую переменную. Верните эту переменную из функции."
   ]
  },
  {
   "cell_type": "code",
   "execution_count": 23,
   "metadata": {
    "id": "Nz3GdQB1_Zcu"
   },
   "outputs": [],
   "source": [
    "# <создание функции number_tracks()>  \n",
    "\n",
    "def number_tracks(day, city):\n",
    "    track_list = df[(df['city'] == city) & (df['day'] == day)]\n",
    "    track_list_count = track_list['user_id'].count()\n",
    "    return print(city, track_list_count, day) \n",
    "#вывожу доп данные чтобы удобнее заполнять финальную таблицу\n"
   ]
  },
  {
   "cell_type": "markdown",
   "metadata": {
    "id": "ytf7xFrFJQ2r"
   },
   "source": [
    "Вызовите `number_tracks()` шесть раз, меняя значение параметров — так, чтобы получить данные для каждого города в каждый из трёх дней."
   ]
  },
  {
   "cell_type": "code",
   "execution_count": 24,
   "metadata": {
    "id": "rJcRATNQ_Zcu",
    "scrolled": true
   },
   "outputs": [
    {
     "name": "stdout",
     "output_type": "stream",
     "text": [
      "Moscow 15740 Monday\n"
     ]
    }
   ],
   "source": [
    "# количество прослушиваний в Москве по понедельникам\n",
    "number_tracks('Monday', 'Moscow')\n"
   ]
  },
  {
   "cell_type": "code",
   "execution_count": 25,
   "metadata": {
    "id": "hq_ncZ5T_Zcu"
   },
   "outputs": [
    {
     "name": "stdout",
     "output_type": "stream",
     "text": [
      "Saint-Petersburg 5614 Monday\n"
     ]
    }
   ],
   "source": [
    "# количество прослушиваний в Санкт-Петербурге по понедельникам\n",
    "number_tracks('Monday', 'Saint-Petersburg')"
   ]
  },
  {
   "cell_type": "code",
   "execution_count": 26,
   "metadata": {
    "id": "_NTy2VPU_Zcu"
   },
   "outputs": [
    {
     "name": "stdout",
     "output_type": "stream",
     "text": [
      "Moscow 11056 Wednesday\n"
     ]
    }
   ],
   "source": [
    "# количество прослушиваний в Москве по средам\n",
    "number_tracks('Wednesday', 'Moscow')"
   ]
  },
  {
   "cell_type": "code",
   "execution_count": 27,
   "metadata": {
    "id": "j2y3TAwo_Zcu"
   },
   "outputs": [
    {
     "name": "stdout",
     "output_type": "stream",
     "text": [
      "Saint-Petersburg 7003 Wednesday\n"
     ]
    }
   ],
   "source": [
    "# количество прослушиваний в Санкт-Петербурге по средам\n",
    "number_tracks('Wednesday', 'Saint-Petersburg')"
   ]
  },
  {
   "cell_type": "code",
   "execution_count": 28,
   "metadata": {
    "id": "vYDw5u_K_Zcu"
   },
   "outputs": [
    {
     "name": "stdout",
     "output_type": "stream",
     "text": [
      "Moscow 15945 Friday\n"
     ]
    }
   ],
   "source": [
    "# количество прослушиваний в Москве по пятницам\n",
    "number_tracks('Friday', 'Moscow')"
   ]
  },
  {
   "cell_type": "code",
   "execution_count": 29,
   "metadata": {
    "id": "8_yzFtW3_Zcu"
   },
   "outputs": [
    {
     "name": "stdout",
     "output_type": "stream",
     "text": [
      "Saint-Petersburg 5895 Friday\n"
     ]
    }
   ],
   "source": [
    "# количество прослушиваний в Санкт-Петербурге по пятницам\n",
    "number_tracks('Friday', 'Saint-Petersburg')"
   ]
  },
  {
   "cell_type": "markdown",
   "metadata": {
    "id": "7QXffbO-_Zcu"
   },
   "source": [
    "Создайте c помощью конструктора `pd.DataFrame` таблицу, где\n",
    "* названия колонок — `['city', 'monday', 'wednesday', 'friday']`;\n",
    "* данные — результаты, которые вы получили с помощью `number_tracks`."
   ]
  },
  {
   "cell_type": "code",
   "execution_count": 30,
   "metadata": {
    "id": "APAcLpOr_Zcu"
   },
   "outputs": [
    {
     "data": {
      "text/html": [
       "<div>\n",
       "<style scoped>\n",
       "    .dataframe tbody tr th:only-of-type {\n",
       "        vertical-align: middle;\n",
       "    }\n",
       "\n",
       "    .dataframe tbody tr th {\n",
       "        vertical-align: top;\n",
       "    }\n",
       "\n",
       "    .dataframe thead th {\n",
       "        text-align: right;\n",
       "    }\n",
       "</style>\n",
       "<table border=\"1\" class=\"dataframe\">\n",
       "  <thead>\n",
       "    <tr style=\"text-align: right;\">\n",
       "      <th></th>\n",
       "      <th>city</th>\n",
       "      <th>monday</th>\n",
       "      <th>wednesday</th>\n",
       "      <th>friday</th>\n",
       "    </tr>\n",
       "  </thead>\n",
       "  <tbody>\n",
       "    <tr>\n",
       "      <td>0</td>\n",
       "      <td>Moscow</td>\n",
       "      <td>15740</td>\n",
       "      <td>11056</td>\n",
       "      <td>15945</td>\n",
       "    </tr>\n",
       "    <tr>\n",
       "      <td>1</td>\n",
       "      <td>Saint-Petersburg</td>\n",
       "      <td>5614</td>\n",
       "      <td>7003</td>\n",
       "      <td>5895</td>\n",
       "    </tr>\n",
       "  </tbody>\n",
       "</table>\n",
       "</div>"
      ],
      "text/plain": [
       "               city monday wednesday friday\n",
       "0            Moscow  15740     11056  15945\n",
       "1  Saint-Petersburg   5614      7003   5895"
      ]
     },
     "metadata": {},
     "output_type": "display_data"
    }
   ],
   "source": [
    "# Таблица с результатами\n",
    "first_hypothesis_final = pd.DataFrame(np.array([['Moscow', 15740, 11056, 15945], \n",
    "                                                ['Saint-Petersburg', 5614, 7003, 5895]]), \n",
    "                                               columns=['city', 'monday', 'wednesday', 'friday'])\n",
    "\n",
    "display(first_hypothesis_final)"
   ]
  },
  {
   "cell_type": "markdown",
   "metadata": {
    "id": "-EgPIHYu_Zcu"
   },
   "source": [
    "**Выводы**\n",
    "\n",
    "Данные показывают разницу поведения пользователей:\n",
    "\n",
    "- В Москве пик прослушиваний приходится на понедельник и пятницу, а в среду заметен спад.\n",
    "- В Петербурге, наоборот, больше слушают музыку по средам. Активность в понедельник и пятницу здесь почти в равной мере уступает среде.\n",
    "\n",
    "Значит, данные говорят в пользу первой гипотезы."
   ]
  },
  {
   "cell_type": "markdown",
   "metadata": {
    "id": "atZAxtq4_Zcu"
   },
   "source": [
    "### Музыка в начале и в конце недели"
   ]
  },
  {
   "cell_type": "markdown",
   "metadata": {
    "id": "eXrQqXFH_Zcu"
   },
   "source": [
    "Согласно второй гипотезе, утром в понедельник в Москве преобладают одни жанры, а в Петербурге — другие. Так же и вечером пятницы преобладают разные жанры — в зависимости от города."
   ]
  },
  {
   "cell_type": "markdown",
   "metadata": {
    "id": "S8UcW6Hw_Zcu"
   },
   "source": [
    "Сохраните таблицы с данными в две переменные:\n",
    "* по Москве — в `moscow_general`;\n",
    "* по Санкт-Петербургу — в `spb_general`."
   ]
  },
  {
   "cell_type": "code",
   "execution_count": 31,
   "metadata": {
    "id": "qeaFfM_P_Zcu"
   },
   "outputs": [],
   "source": [
    "# получение таблицы moscow_general из тех строк таблицы df, \n",
    "# для которых значение в столбце 'city' равно 'Moscow'\n",
    "moscow_general = df[df['city'] == 'Moscow']\n",
    "\n"
   ]
  },
  {
   "cell_type": "code",
   "execution_count": 32,
   "metadata": {
    "id": "ORaVRKto_Zcu"
   },
   "outputs": [],
   "source": [
    "# получение таблицы spb_general из тех строк таблицы df,\n",
    "# для которых значение в столбце 'city' равно 'Saint-Petersburg'\n",
    "\n",
    "spb_general = df[df['city'] == 'Saint-Petersburg']\n"
   ]
  },
  {
   "cell_type": "markdown",
   "metadata": {
    "id": "MEJV-CX2_Zcu"
   },
   "source": [
    "Создайте функцию `genre_weekday()` с четырьмя параметрами:\n",
    "* таблица (датафрейм) с данными,\n",
    "* день недели,\n",
    "* начальная временная метка в формате 'hh:mm', \n",
    "* последняя временная метка в формате 'hh:mm'.\n",
    "\n",
    "Функция должна вернуть информацию о топ-10 жанров тех треков, которые прослушивали в указанный день, в промежутке между двумя отметками времени."
   ]
  },
  {
   "cell_type": "code",
   "execution_count": 33,
   "metadata": {
    "id": "laJT9BYl_Zcu"
   },
   "outputs": [],
   "source": [
    "# Объявление функции genre_weekday() с параметрами table, day, time1, time2,\n",
    "# которая возвращает информацию о самых популярных жанрах в указанный день в\n",
    "# заданное время:\n",
    "# 1) в переменную genre_df сохраняются те строки переданного датафрейма table, для\n",
    "#    которых одновременно:\n",
    "#    - значение в столбце day равно значению аргумента day\n",
    "#    - значение в столбце time больше значения аргумента time1\n",
    "#    - значение в столбце time меньше значения аргумента time2\n",
    "#    Используйте последовательную фильтрацию с помощью логической индексации.\n",
    "# 2) сгруппировать датафрейм genre_df по столбцу genre, взять один из его\n",
    "#    столбцов и посчитать методом count() количество записей для каждого из\n",
    "#    присутствующих жанров, получившийся Series записать в переменную\n",
    "#    genre_df_count\n",
    "# 3) отсортировать genre_df_count по убыванию встречаемости и сохранить\n",
    "#    в переменную genre_df_sorted\n",
    "# 4) вернуть Series из 10 первых значений genre_df_sorted, это будут топ-10\n",
    "#    популярных жанров (в указанный день, в заданное время)\n",
    "\n",
    "def genre_weekday(table, day, time1, time2):\n",
    "    genre_df = table[(table['day'] == day) & (table['start_time'] > time1) & (table['start_time'] < time2)]\n",
    "\n",
    "          \n",
    "    genre_df_count = genre_df.groupby('genre')['user_id'].count()\n",
    "    genre_df_sorted = genre_df_count.sort_values(ascending=False)\n",
    "        \n",
    "    return genre_df_sorted.head(10)\n",
    "\n"
   ]
  },
  {
   "cell_type": "markdown",
   "metadata": {
    "id": "la2s2_PF_Zcu"
   },
   "source": [
    "Cравните результаты функции `genre_weekday()` для Москвы и Санкт-Петербурга в понедельник утром (с 7:00 до 11:00) и в пятницу вечером (с 17:00 до 23:00):"
   ]
  },
  {
   "cell_type": "code",
   "execution_count": 34,
   "metadata": {
    "id": "yz7itPUQ_Zcu",
    "scrolled": true
   },
   "outputs": [
    {
     "data": {
      "text/plain": [
       "genre\n",
       "pop            781\n",
       "dance          549\n",
       "electronic     480\n",
       "rock           474\n",
       "hiphop         286\n",
       "ruspop         186\n",
       "world          181\n",
       "rusrap         175\n",
       "alternative    164\n",
       "unknown        161\n",
       "Name: user_id, dtype: int64"
      ]
     },
     "execution_count": 34,
     "metadata": {},
     "output_type": "execute_result"
    }
   ],
   "source": [
    "# вызов функции для утра понедельника в Москве (вместо df — таблица moscow_general)\n",
    "# объекты, хранящие время, являются строками и сравниваются как строки\n",
    "# пример вызова: genre_weekday(moscow_general, 'Monday', '07:00', '11:00')\n",
    "genre_weekday(moscow_general, 'Monday', '07:00', '11:00')"
   ]
  },
  {
   "cell_type": "code",
   "execution_count": 35,
   "metadata": {
    "id": "kwUcHPdy_Zcu"
   },
   "outputs": [
    {
     "data": {
      "text/plain": [
       "genre\n",
       "pop            218\n",
       "dance          182\n",
       "rock           162\n",
       "electronic     147\n",
       "hiphop          80\n",
       "ruspop          64\n",
       "alternative     58\n",
       "rusrap          55\n",
       "jazz            44\n",
       "classical       40\n",
       "Name: user_id, dtype: int64"
      ]
     },
     "execution_count": 35,
     "metadata": {},
     "output_type": "execute_result"
    }
   ],
   "source": [
    "# вызов функции для утра понедельника в Петербурге (вместо df — таблица spb_general)\n",
    "genre_weekday(spb_general, 'Monday', '07:00', '11:00')"
   ]
  },
  {
   "cell_type": "code",
   "execution_count": 36,
   "metadata": {
    "id": "EzXVRE1o_Zcu"
   },
   "outputs": [
    {
     "data": {
      "text/plain": [
       "genre\n",
       "pop            713\n",
       "rock           517\n",
       "dance          495\n",
       "electronic     482\n",
       "hiphop         273\n",
       "world          208\n",
       "ruspop         170\n",
       "alternative    163\n",
       "classical      163\n",
       "rusrap         142\n",
       "Name: user_id, dtype: int64"
      ]
     },
     "execution_count": 36,
     "metadata": {},
     "output_type": "execute_result"
    }
   ],
   "source": [
    "# вызов функции для вечера пятницы в Москве\n",
    "genre_weekday(moscow_general, 'Friday', '17:00', '23:00')"
   ]
  },
  {
   "cell_type": "code",
   "execution_count": 37,
   "metadata": {
    "id": "JZaEKu5v_Zcu"
   },
   "outputs": [
    {
     "data": {
      "text/plain": [
       "genre\n",
       "pop            256\n",
       "rock           216\n",
       "electronic     216\n",
       "dance          210\n",
       "hiphop          97\n",
       "alternative     63\n",
       "jazz            61\n",
       "classical       60\n",
       "rusrap          59\n",
       "world           54\n",
       "Name: user_id, dtype: int64"
      ]
     },
     "execution_count": 37,
     "metadata": {},
     "output_type": "execute_result"
    }
   ],
   "source": [
    "# вызов функции для вечера пятницы в Петербурге\n",
    "genre_weekday(spb_general, 'Friday', '17:00', '23:00')"
   ]
  },
  {
   "cell_type": "markdown",
   "metadata": {
    "id": "wrCe4MNX_Zcu"
   },
   "source": [
    "**Выводы**\n",
    "\n",
    "Если сравнить топ-10 жанров в понедельник утром, можно сделать такие выводы:\n",
    "\n",
    "1. В Москве и Петербурге слушают похожую музыку. Единственное отличие — в московский рейтинг вошёл жанр “world”, а в петербургский — джаз и классика.\n",
    "\n",
    "2. В Москве пропущенных значений оказалось так много, что значение `'unknown'` заняло десятое место среди самых популярных жанров. Значит, пропущенные значения занимают существенную долю в данных и угрожают достоверности исследования.\n",
    "\n",
    "Вечер пятницы не меняет эту картину. Некоторые жанры поднимаются немного выше, другие спускаются, но в целом топ-10 остаётся тем же самым.\n",
    "\n",
    "Таким образом, вторая гипотеза подтвердилась лишь частично:\n",
    "* Пользователи слушают похожую музыку в начале недели и в конце.\n",
    "* Разница между Москвой и Петербургом не слишком выражена. В Москве чаще слушают русскую популярную музыку, в Петербурге — джаз.\n",
    "\n",
    "Однако пропуски в данных ставят под сомнение этот результат. В Москве их так много, что рейтинг топ-10 мог бы выглядеть иначе, если бы не утерянные  данные о жанрах."
   ]
  },
  {
   "cell_type": "markdown",
   "metadata": {
    "id": "JolODAqr_Zcu"
   },
   "source": [
    "### Жанровые предпочтения в Москве и Петербурге\n",
    "\n",
    "Гипотеза: Петербург — столица рэпа, музыку этого жанра там слушают чаще, чем в Москве.  А Москва — город контрастов, в котором, тем не менее, преобладает поп-музыка."
   ]
  },
  {
   "cell_type": "markdown",
   "metadata": {
    "id": "DlegSvaT_Zcu"
   },
   "source": [
    "Сгруппируйте таблицу `moscow_general` по жанру и посчитайте прослушивания треков каждого жанра методом `count()`. Затем отсортируйте результат в порядке убывания и сохраните его в таблице `moscow_genres`."
   ]
  },
  {
   "cell_type": "code",
   "execution_count": 38,
   "metadata": {
    "id": "r19lIPke_Zcu"
   },
   "outputs": [],
   "source": [
    "# одной строкой: группировка таблицы moscow_general по столбцу 'genre', \n",
    "# подсчёт числа значений 'genre' в этой группировке методом count(), \n",
    "# сортировка получившегося Series в порядке убывания и сохранение в moscow_genres\n",
    "moscow_genres = moscow_general.groupby('genre')['start_time'].count()\n",
    "moscow_genres = moscow_genres.sort_values(ascending=False)"
   ]
  },
  {
   "cell_type": "markdown",
   "metadata": {
    "id": "6kMuomxTiIr8"
   },
   "source": [
    "Выведите на экран первые десять строк `moscow_genres`:"
   ]
  },
  {
   "cell_type": "code",
   "execution_count": 39,
   "metadata": {
    "id": "WhCSooF8_Zcv"
   },
   "outputs": [
    {
     "data": {
      "text/plain": [
       "genre\n",
       "pop            5892\n",
       "dance          4435\n",
       "rock           3965\n",
       "electronic     3786\n",
       "hiphop         2096\n",
       "classical      1616\n",
       "world          1432\n",
       "alternative    1379\n",
       "ruspop         1372\n",
       "rusrap         1161\n",
       "Name: start_time, dtype: int64"
      ]
     },
     "execution_count": 39,
     "metadata": {},
     "output_type": "execute_result"
    }
   ],
   "source": [
    "# просмотр первых 10 строк moscow_genres\n",
    "moscow_genres.head(10)"
   ]
  },
  {
   "cell_type": "markdown",
   "metadata": {
    "id": "cnPG2vnN_Zcv"
   },
   "source": [
    "Теперь повторите то же и для Петербурга.\n",
    "\n",
    "Сгруппируйте таблицу `spb_general` по жанру. Посчитайте прослушивания треков каждого жанра. Результат отсортируйте в порядке убывания и сохраните в таблице `spb_genres`:\n"
   ]
  },
  {
   "cell_type": "code",
   "execution_count": 40,
   "metadata": {
    "id": "gluLIpE7_Zcv"
   },
   "outputs": [],
   "source": [
    "# одной строкой: группировка таблицы spb_general по столбцу 'genre', \n",
    "# подсчёт числа значений 'genre' в этой группировке методом count(), \n",
    "# сортировка получившегося Series в порядке убывания и сохранение в spb_genres\n",
    "spb_genres = spb_general.groupby('genre')['start_time'].count()\n",
    "spb_genres = spb_genres.sort_values(ascending=False)"
   ]
  },
  {
   "cell_type": "markdown",
   "metadata": {
    "id": "5Doha_ODgyQ8"
   },
   "source": [
    "Выведите на экран первые десять строк `spb_genres`:"
   ]
  },
  {
   "cell_type": "code",
   "execution_count": 41,
   "metadata": {
    "id": "uaGJHjVU_Zcv"
   },
   "outputs": [
    {
     "data": {
      "text/plain": [
       "genre\n",
       "pop            2431\n",
       "dance          1932\n",
       "rock           1879\n",
       "electronic     1736\n",
       "hiphop          960\n",
       "alternative     649\n",
       "classical       646\n",
       "rusrap          564\n",
       "ruspop          538\n",
       "world           515\n",
       "Name: start_time, dtype: int64"
      ]
     },
     "execution_count": 41,
     "metadata": {},
     "output_type": "execute_result"
    }
   ],
   "source": [
    "# просмотр первых 10 строк spb_genres\n",
    "spb_genres.head(10)"
   ]
  },
  {
   "cell_type": "markdown",
   "metadata": {
    "id": "RY51YJYu_Zcv"
   },
   "source": [
    "**Выводы**"
   ]
  },
  {
   "cell_type": "markdown",
   "metadata": {
    "id": "nVhnJEm__Zcv"
   },
   "source": [
    "Гипотеза частично подтвердилась:\n",
    "* Поп-музыка — самый популярный жанр в Москве, как и предполагала гипотеза. Более того, в топ-10 жанров встречается близкий жанр — русская популярная музыка.\n",
    "* Вопреки ожиданиям, рэп одинаково популярен в Москве и Петербурге. \n"
   ]
  },
  {
   "cell_type": "markdown",
   "metadata": {
    "id": "ykKQ0N65_Zcv"
   },
   "source": [
    "## Итоги исследования"
   ]
  },
  {
   "cell_type": "markdown",
   "metadata": {
    "id": "tjUwbHb3_Zcv"
   },
   "source": [
    "Вы проверили три гипотезы и установили:\n",
    "\n",
    "1. День недели по-разному влияет на активность пользователей в Москве и Петербурге. \n",
    "\n",
    "Первая гипотеза полностью подтвердилась.\n",
    "\n",
    "2. Музыкальные предпочтения не сильно меняются в течение недели — будь то Москва или Петербург. Небольшие различия заметны в начале недели, по понедельникам:\n",
    "* в Москве слушают музыку жанра “world”,\n",
    "* в Петербурге — джаз и классику.\n",
    "\n",
    "Таким образом, вторая гипотеза подтвердилась лишь отчасти. Этот результат мог оказаться иным, если бы не пропуски в данных.\n",
    "\n",
    "3. Во вкусах пользователей Москвы и Петербурга больше общего чем различий. Вопреки ожиданиям, предпочтения жанров в Петербурге напоминают московские.\n",
    "\n",
    "Третья гипотеза не подтвердилась. Если различия в предпочтениях и существуют, на основной массе пользователей они незаметны.\n",
    "\n",
    "**На практике исследования содержат проверки статистических гипотез.**\n",
    "Из данных одного сервиса не всегда можно сделать вывод о всех жителях города.\n",
    "Проверки статистических гипотез покажут, насколько они достоверны, исходя из имеющихся данных. \n",
    "С методами проверок гипотез вы ещё познакомитесь в следующих темах."
   ]
  }
 ],
 "metadata": {
  "ExecuteTimeLog": [
   {
    "duration": 786,
    "start_time": "2021-12-28T20:58:23.739Z"
   },
   {
    "duration": 4,
    "start_time": "2021-12-28T20:58:42.390Z"
   },
   {
    "duration": 193,
    "start_time": "2021-12-28T20:59:13.259Z"
   },
   {
    "duration": 26,
    "start_time": "2021-12-28T20:59:25.409Z"
   },
   {
    "duration": 17,
    "start_time": "2021-12-28T20:59:31.346Z"
   },
   {
    "duration": 33,
    "start_time": "2021-12-28T21:00:11.262Z"
   },
   {
    "duration": 404,
    "start_time": "2021-12-28T21:13:15.029Z"
   },
   {
    "duration": 71,
    "start_time": "2021-12-28T21:13:49.324Z"
   },
   {
    "duration": 71,
    "start_time": "2021-12-28T21:14:17.368Z"
   },
   {
    "duration": 32,
    "start_time": "2021-12-28T21:14:32.547Z"
   },
   {
    "duration": 24,
    "start_time": "2021-12-28T21:14:52.194Z"
   },
   {
    "duration": 32,
    "start_time": "2021-12-28T21:14:53.570Z"
   },
   {
    "duration": 18,
    "start_time": "2021-12-28T21:15:22.222Z"
   },
   {
    "duration": 34,
    "start_time": "2021-12-28T21:15:23.617Z"
   },
   {
    "duration": 18,
    "start_time": "2021-12-28T21:15:31.984Z"
   },
   {
    "duration": 34,
    "start_time": "2021-12-28T21:15:33.565Z"
   },
   {
    "duration": 19,
    "start_time": "2021-12-28T21:15:39.914Z"
   },
   {
    "duration": 33,
    "start_time": "2021-12-28T21:15:40.966Z"
   },
   {
    "duration": 19,
    "start_time": "2021-12-28T21:16:18.277Z"
   },
   {
    "duration": 17,
    "start_time": "2021-12-28T21:16:20.223Z"
   },
   {
    "duration": 32,
    "start_time": "2021-12-28T21:16:20.684Z"
   },
   {
    "duration": 20,
    "start_time": "2021-12-28T21:17:01.858Z"
   },
   {
    "duration": 33,
    "start_time": "2021-12-28T21:17:02.851Z"
   },
   {
    "duration": 18,
    "start_time": "2021-12-28T21:17:10.213Z"
   },
   {
    "duration": 34,
    "start_time": "2021-12-28T21:17:11.121Z"
   },
   {
    "duration": 18,
    "start_time": "2021-12-28T21:17:20.718Z"
   },
   {
    "duration": 34,
    "start_time": "2021-12-28T21:17:21.032Z"
   },
   {
    "duration": 18,
    "start_time": "2021-12-28T21:17:48.352Z"
   },
   {
    "duration": 17,
    "start_time": "2021-12-28T21:17:55.616Z"
   },
   {
    "duration": 35,
    "start_time": "2021-12-28T21:17:56.567Z"
   },
   {
    "duration": 6,
    "start_time": "2021-12-28T21:18:53.850Z"
   },
   {
    "duration": 6,
    "start_time": "2021-12-28T21:19:06.202Z"
   },
   {
    "duration": 807,
    "start_time": "2021-12-28T21:19:28.182Z"
   },
   {
    "duration": 30,
    "start_time": "2021-12-28T21:19:34.941Z"
   },
   {
    "duration": 3,
    "start_time": "2021-12-28T21:20:34.276Z"
   },
   {
    "duration": 80,
    "start_time": "2021-12-28T21:23:54.080Z"
   },
   {
    "duration": 96,
    "start_time": "2021-12-28T21:23:57.092Z"
   },
   {
    "duration": 94,
    "start_time": "2021-12-28T21:24:03.974Z"
   },
   {
    "duration": 90,
    "start_time": "2021-12-28T21:24:20.335Z"
   },
   {
    "duration": 98,
    "start_time": "2021-12-28T21:24:31.192Z"
   },
   {
    "duration": 100,
    "start_time": "2021-12-28T21:25:02.584Z"
   },
   {
    "duration": 95,
    "start_time": "2021-12-28T21:25:09.743Z"
   },
   {
    "duration": 11925,
    "start_time": "2021-12-28T21:26:40.543Z"
   },
   {
    "duration": 118,
    "start_time": "2021-12-28T21:33:34.550Z"
   },
   {
    "duration": 407,
    "start_time": "2021-12-28T21:33:41.545Z"
   },
   {
    "duration": 6,
    "start_time": "2021-12-28T21:36:17.387Z"
   },
   {
    "duration": 98,
    "start_time": "2021-12-28T21:37:10.859Z"
   },
   {
    "duration": 776,
    "start_time": "2021-12-28T22:07:48.365Z"
   },
   {
    "duration": 195,
    "start_time": "2021-12-28T22:07:54.434Z"
   },
   {
    "duration": 26,
    "start_time": "2021-12-28T22:07:56.969Z"
   },
   {
    "duration": 7014,
    "start_time": "2021-12-28T22:09:01.202Z"
   },
   {
    "duration": 30,
    "start_time": "2021-12-28T22:09:29.978Z"
   },
   {
    "duration": 11,
    "start_time": "2021-12-28T22:09:33.003Z"
   },
   {
    "duration": 33,
    "start_time": "2021-12-28T22:09:52.387Z"
   },
   {
    "duration": 778,
    "start_time": "2021-12-28T22:15:17.348Z"
   },
   {
    "duration": 194,
    "start_time": "2021-12-28T22:15:18.847Z"
   },
   {
    "duration": 27,
    "start_time": "2021-12-28T22:15:19.499Z"
   },
   {
    "duration": 7,
    "start_time": "2021-12-28T22:15:22.299Z"
   },
   {
    "duration": 28,
    "start_time": "2021-12-28T22:15:23.394Z"
   },
   {
    "duration": 6,
    "start_time": "2021-12-28T22:15:24.290Z"
   },
   {
    "duration": 31,
    "start_time": "2021-12-28T22:15:25.673Z"
   },
   {
    "duration": 12,
    "start_time": "2021-12-28T22:15:26.414Z"
   },
   {
    "duration": 11,
    "start_time": "2021-12-28T22:17:50.945Z"
   },
   {
    "duration": 394,
    "start_time": "2021-12-28T22:18:14.422Z"
   },
   {
    "duration": 4,
    "start_time": "2021-12-28T22:18:35.395Z"
   },
   {
    "duration": 13,
    "start_time": "2021-12-28T22:18:49.152Z"
   },
   {
    "duration": 271,
    "start_time": "2021-12-28T22:19:56.340Z"
   },
   {
    "duration": 340,
    "start_time": "2021-12-28T22:23:36.986Z"
   },
   {
    "duration": 769,
    "start_time": "2021-12-28T22:23:47.862Z"
   },
   {
    "duration": 196,
    "start_time": "2021-12-28T22:23:49.352Z"
   },
   {
    "duration": 25,
    "start_time": "2021-12-28T22:23:50.508Z"
   },
   {
    "duration": 16,
    "start_time": "2021-12-28T22:25:52.296Z"
   },
   {
    "duration": 5,
    "start_time": "2021-12-28T22:25:55.447Z"
   },
   {
    "duration": 28,
    "start_time": "2021-12-28T22:25:58.509Z"
   },
   {
    "duration": 6,
    "start_time": "2021-12-28T22:25:59.405Z"
   },
   {
    "duration": 30,
    "start_time": "2021-12-28T22:26:02.561Z"
   },
   {
    "duration": 11,
    "start_time": "2021-12-28T22:26:04.789Z"
   },
   {
    "duration": 13,
    "start_time": "2021-12-28T22:26:09.360Z"
   },
   {
    "duration": 6,
    "start_time": "2021-12-28T22:26:15.947Z"
   },
   {
    "duration": 7,
    "start_time": "2021-12-28T22:26:46.232Z"
   },
   {
    "duration": 5,
    "start_time": "2021-12-28T22:33:40.943Z"
   },
   {
    "duration": 10,
    "start_time": "2021-12-28T22:33:56.278Z"
   },
   {
    "duration": 5,
    "start_time": "2021-12-28T22:34:24.665Z"
   },
   {
    "duration": 10,
    "start_time": "2021-12-28T22:34:26.746Z"
   },
   {
    "duration": 6,
    "start_time": "2021-12-28T22:37:38.717Z"
   },
   {
    "duration": 7,
    "start_time": "2021-12-28T22:37:51.087Z"
   },
   {
    "duration": 7,
    "start_time": "2021-12-28T22:49:01.476Z"
   },
   {
    "duration": 8,
    "start_time": "2021-12-28T22:49:07.515Z"
   },
   {
    "duration": 81,
    "start_time": "2021-12-28T22:49:17.489Z"
   },
   {
    "duration": 8,
    "start_time": "2021-12-28T22:49:40.569Z"
   },
   {
    "duration": 6,
    "start_time": "2021-12-28T22:49:45.939Z"
   },
   {
    "duration": 124,
    "start_time": "2021-12-28T22:49:49.629Z"
   },
   {
    "duration": 5,
    "start_time": "2021-12-28T22:49:57.618Z"
   },
   {
    "duration": 7,
    "start_time": "2021-12-28T22:50:02.009Z"
   },
   {
    "duration": 5,
    "start_time": "2021-12-28T22:50:55.092Z"
   },
   {
    "duration": 5,
    "start_time": "2021-12-28T22:50:59.763Z"
   },
   {
    "duration": 11,
    "start_time": "2021-12-28T22:51:12.653Z"
   },
   {
    "duration": 5,
    "start_time": "2021-12-28T22:51:18.810Z"
   },
   {
    "duration": 5,
    "start_time": "2021-12-28T22:51:28.646Z"
   },
   {
    "duration": 11,
    "start_time": "2021-12-28T22:51:32.319Z"
   },
   {
    "duration": 5,
    "start_time": "2021-12-28T22:51:44.713Z"
   },
   {
    "duration": 10,
    "start_time": "2021-12-28T22:51:45.965Z"
   },
   {
    "duration": 324,
    "start_time": "2021-12-28T22:51:58.374Z"
   },
   {
    "duration": 5,
    "start_time": "2021-12-28T22:52:03.262Z"
   },
   {
    "duration": 10,
    "start_time": "2021-12-28T22:52:05.326Z"
   },
   {
    "duration": 12,
    "start_time": "2021-12-28T22:52:08.640Z"
   },
   {
    "duration": 4,
    "start_time": "2021-12-28T22:52:11.544Z"
   },
   {
    "duration": 5,
    "start_time": "2021-12-28T22:52:12.954Z"
   },
   {
    "duration": 10,
    "start_time": "2021-12-28T22:52:14.155Z"
   },
   {
    "duration": 4,
    "start_time": "2021-12-28T22:54:16.252Z"
   },
   {
    "duration": 9,
    "start_time": "2021-12-28T22:54:21.946Z"
   },
   {
    "duration": 6,
    "start_time": "2021-12-28T22:54:49.477Z"
   },
   {
    "duration": 10,
    "start_time": "2021-12-28T22:54:51.367Z"
   },
   {
    "duration": 7,
    "start_time": "2021-12-28T22:55:16.144Z"
   },
   {
    "duration": 5,
    "start_time": "2021-12-28T22:55:26.589Z"
   },
   {
    "duration": 265,
    "start_time": "2021-12-28T22:59:10.409Z"
   },
   {
    "duration": 14,
    "start_time": "2021-12-28T22:59:30.093Z"
   },
   {
    "duration": 10,
    "start_time": "2021-12-28T22:59:32.042Z"
   },
   {
    "duration": 327,
    "start_time": "2021-12-28T23:15:18.946Z"
   },
   {
    "duration": 281,
    "start_time": "2021-12-28T23:15:19.452Z"
   },
   {
    "duration": 749,
    "start_time": "2021-12-28T23:15:25.473Z"
   },
   {
    "duration": 189,
    "start_time": "2021-12-28T23:15:26.363Z"
   },
   {
    "duration": 27,
    "start_time": "2021-12-28T23:15:27.707Z"
   },
   {
    "duration": 6,
    "start_time": "2021-12-28T23:15:31.549Z"
   },
   {
    "duration": 28,
    "start_time": "2021-12-28T23:15:32.794Z"
   },
   {
    "duration": 6,
    "start_time": "2021-12-28T23:15:34.581Z"
   },
   {
    "duration": 33,
    "start_time": "2021-12-28T23:15:35.403Z"
   },
   {
    "duration": 12,
    "start_time": "2021-12-28T23:15:39.814Z"
   },
   {
    "duration": 13,
    "start_time": "2021-12-28T23:15:42.642Z"
   },
   {
    "duration": 4,
    "start_time": "2021-12-28T23:15:50.373Z"
   },
   {
    "duration": 10,
    "start_time": "2021-12-28T23:15:52.922Z"
   },
   {
    "duration": 1547,
    "start_time": "2021-12-28T23:15:59.215Z"
   },
   {
    "duration": 20,
    "start_time": "2021-12-28T23:16:01.748Z"
   },
   {
    "duration": 718,
    "start_time": "2021-12-29T00:10:19.306Z"
   },
   {
    "duration": 203,
    "start_time": "2021-12-29T00:10:20.031Z"
   },
   {
    "duration": 28,
    "start_time": "2021-12-29T00:10:20.538Z"
   },
   {
    "duration": 6,
    "start_time": "2021-12-29T00:10:22.192Z"
   },
   {
    "duration": 29,
    "start_time": "2021-12-29T00:10:22.517Z"
   },
   {
    "duration": 5,
    "start_time": "2021-12-29T00:10:25.389Z"
   },
   {
    "duration": 33,
    "start_time": "2021-12-29T00:10:27.661Z"
   },
   {
    "duration": 21,
    "start_time": "2021-12-29T00:11:04.126Z"
   },
   {
    "duration": 29,
    "start_time": "2021-12-29T00:11:06.717Z"
   },
   {
    "duration": 19,
    "start_time": "2021-12-29T00:12:18.572Z"
   },
   {
    "duration": 33,
    "start_time": "2021-12-29T00:12:22.987Z"
   },
   {
    "duration": 21,
    "start_time": "2021-12-29T00:12:31.045Z"
   },
   {
    "duration": 31,
    "start_time": "2021-12-29T00:12:32.781Z"
   },
   {
    "duration": 19,
    "start_time": "2021-12-29T00:12:46.860Z"
   },
   {
    "duration": 5,
    "start_time": "2021-12-29T00:12:56.716Z"
   },
   {
    "duration": 31,
    "start_time": "2021-12-29T00:12:57.851Z"
   },
   {
    "duration": 121,
    "start_time": "2021-12-29T00:13:29.890Z"
   },
   {
    "duration": 30,
    "start_time": "2021-12-29T00:13:31.666Z"
   },
   {
    "duration": 83,
    "start_time": "2021-12-29T00:14:24.770Z"
   },
   {
    "duration": 25,
    "start_time": "2021-12-29T00:14:36.956Z"
   },
   {
    "duration": 32,
    "start_time": "2021-12-29T00:14:38.435Z"
   },
   {
    "duration": 7,
    "start_time": "2021-12-29T00:15:00.260Z"
   },
   {
    "duration": 7,
    "start_time": "2021-12-29T00:15:08.383Z"
   },
   {
    "duration": 14,
    "start_time": "2021-12-29T00:15:25.191Z"
   },
   {
    "duration": 14,
    "start_time": "2021-12-29T00:15:31.459Z"
   },
   {
    "duration": 20,
    "start_time": "2021-12-29T00:15:53.082Z"
   },
   {
    "duration": 7,
    "start_time": "2021-12-29T00:16:01.536Z"
   },
   {
    "duration": 4,
    "start_time": "2021-12-29T00:16:33.527Z"
   },
   {
    "duration": 21,
    "start_time": "2021-12-29T00:16:34.171Z"
   },
   {
    "duration": 8,
    "start_time": "2021-12-29T00:16:37.021Z"
   },
   {
    "duration": 10,
    "start_time": "2021-12-29T00:16:52.548Z"
   },
   {
    "duration": 13,
    "start_time": "2021-12-29T00:17:04.013Z"
   },
   {
    "duration": 19,
    "start_time": "2021-12-29T00:17:48.058Z"
   },
   {
    "duration": 7,
    "start_time": "2021-12-29T00:17:50.194Z"
   },
   {
    "duration": 22,
    "start_time": "2021-12-29T00:17:59.817Z"
   },
   {
    "duration": 25,
    "start_time": "2021-12-29T00:18:41.156Z"
   },
   {
    "duration": 8,
    "start_time": "2021-12-29T00:18:42.830Z"
   },
   {
    "duration": 580,
    "start_time": "2021-12-29T18:36:54.505Z"
   },
   {
    "duration": 144,
    "start_time": "2021-12-29T18:36:55.263Z"
   },
   {
    "duration": 16,
    "start_time": "2021-12-29T18:36:56.240Z"
   },
   {
    "duration": 5,
    "start_time": "2021-12-29T18:36:59.901Z"
   },
   {
    "duration": 25,
    "start_time": "2021-12-29T18:37:02.096Z"
   },
   {
    "duration": 8,
    "start_time": "2021-12-29T18:37:03.271Z"
   },
   {
    "duration": 28,
    "start_time": "2021-12-29T18:37:05.104Z"
   },
   {
    "duration": 9,
    "start_time": "2021-12-29T18:37:14.850Z"
   },
   {
    "duration": 17,
    "start_time": "2021-12-29T18:38:20.419Z"
   },
   {
    "duration": 23,
    "start_time": "2021-12-29T18:54:16.318Z"
   },
   {
    "duration": 61,
    "start_time": "2021-12-29T18:54:21.078Z"
   },
   {
    "duration": 400,
    "start_time": "2021-12-29T18:54:23.875Z"
   },
   {
    "duration": 78,
    "start_time": "2021-12-29T18:54:28.919Z"
   },
   {
    "duration": 61,
    "start_time": "2021-12-29T18:54:40.847Z"
   },
   {
    "duration": 69,
    "start_time": "2021-12-29T18:54:45.262Z"
   },
   {
    "duration": 59,
    "start_time": "2021-12-29T18:54:47.033Z"
   },
   {
    "duration": 318,
    "start_time": "2021-12-29T18:54:55.113Z"
   },
   {
    "duration": 8,
    "start_time": "2021-12-29T18:55:02.325Z"
   },
   {
    "duration": 538,
    "start_time": "2021-12-29T19:02:08.874Z"
   },
   {
    "duration": 1800,
    "start_time": "2021-12-29T19:02:29.206Z"
   },
   {
    "duration": 15,
    "start_time": "2021-12-29T19:03:02.360Z"
   },
   {
    "duration": 3,
    "start_time": "2021-12-29T19:03:08.835Z"
   },
   {
    "duration": 7,
    "start_time": "2021-12-29T19:03:26.097Z"
   },
   {
    "duration": 8,
    "start_time": "2021-12-29T19:04:12.337Z"
   },
   {
    "duration": 8,
    "start_time": "2021-12-29T19:04:24.277Z"
   },
   {
    "duration": 386,
    "start_time": "2021-12-29T19:05:01.933Z"
   },
   {
    "duration": 282,
    "start_time": "2021-12-29T19:05:24.354Z"
   },
   {
    "duration": 285,
    "start_time": "2021-12-29T19:05:33.598Z"
   },
   {
    "duration": 406,
    "start_time": "2021-12-29T19:06:24.529Z"
   },
   {
    "duration": 304,
    "start_time": "2021-12-29T19:28:47.840Z"
   },
   {
    "duration": 8,
    "start_time": "2021-12-29T19:28:51.895Z"
   },
   {
    "duration": 9,
    "start_time": "2021-12-29T19:29:04.149Z"
   },
   {
    "duration": 7,
    "start_time": "2021-12-29T19:29:21.387Z"
   },
   {
    "duration": 10,
    "start_time": "2021-12-29T19:29:27.477Z"
   },
   {
    "duration": 10,
    "start_time": "2021-12-29T19:30:59.590Z"
   },
   {
    "duration": 4743,
    "start_time": "2021-12-29T20:47:50.517Z"
   },
   {
    "duration": 206,
    "start_time": "2021-12-29T20:48:50.084Z"
   },
   {
    "duration": 298,
    "start_time": "2021-12-29T20:50:05.777Z"
   },
   {
    "duration": 51,
    "start_time": "2021-12-29T20:50:09.384Z"
   },
   {
    "duration": 2236,
    "start_time": "2021-12-29T20:50:31.343Z"
   },
   {
    "duration": 12,
    "start_time": "2021-12-29T20:50:46.525Z"
   },
   {
    "duration": 12,
    "start_time": "2021-12-29T20:50:55.008Z"
   },
   {
    "duration": 292,
    "start_time": "2021-12-29T20:50:58.820Z"
   },
   {
    "duration": 12,
    "start_time": "2021-12-29T20:51:01.079Z"
   },
   {
    "duration": 11,
    "start_time": "2021-12-29T20:51:50.850Z"
   },
   {
    "duration": 301,
    "start_time": "2021-12-29T20:51:55.348Z"
   },
   {
    "duration": 33,
    "start_time": "2021-12-29T20:52:06.382Z"
   },
   {
    "duration": 4,
    "start_time": "2021-12-29T20:52:39.639Z"
   },
   {
    "duration": 6,
    "start_time": "2021-12-29T20:52:49.227Z"
   },
   {
    "duration": 4,
    "start_time": "2021-12-29T20:52:55.397Z"
   },
   {
    "duration": 5,
    "start_time": "2021-12-29T20:53:05.445Z"
   },
   {
    "duration": 17,
    "start_time": "2021-12-29T20:53:41.315Z"
   },
   {
    "duration": 12,
    "start_time": "2021-12-29T20:54:15.485Z"
   },
   {
    "duration": 34,
    "start_time": "2021-12-29T20:54:41.080Z"
   },
   {
    "duration": 15,
    "start_time": "2021-12-29T20:54:55.497Z"
   },
   {
    "duration": 7781,
    "start_time": "2021-12-29T21:05:54.801Z"
   },
   {
    "duration": 7647,
    "start_time": "2021-12-29T21:06:10.543Z"
   },
   {
    "duration": 7,
    "start_time": "2021-12-29T21:06:29.818Z"
   },
   {
    "duration": 274,
    "start_time": "2021-12-29T21:08:37.276Z"
   },
   {
    "duration": 92,
    "start_time": "2021-12-29T21:08:41.472Z"
   },
   {
    "duration": 4,
    "start_time": "2021-12-29T21:08:46.311Z"
   },
   {
    "duration": 526,
    "start_time": "2021-12-29T21:08:51.126Z"
   },
   {
    "duration": 6,
    "start_time": "2021-12-29T21:09:09.480Z"
   },
   {
    "duration": 556,
    "start_time": "2021-12-29T21:09:12.823Z"
   },
   {
    "duration": 4,
    "start_time": "2021-12-29T21:09:32.527Z"
   },
   {
    "duration": 4,
    "start_time": "2021-12-29T21:10:54.642Z"
   },
   {
    "duration": 629,
    "start_time": "2021-12-29T21:10:58.880Z"
   },
   {
    "duration": 6,
    "start_time": "2021-12-29T21:11:25.009Z"
   },
   {
    "duration": 1216,
    "start_time": "2021-12-29T21:11:26.174Z"
   },
   {
    "duration": 5,
    "start_time": "2021-12-29T21:12:32.566Z"
   },
   {
    "duration": 18418,
    "start_time": "2021-12-29T21:12:34.372Z"
   },
   {
    "duration": 21,
    "start_time": "2021-12-29T21:14:04.050Z"
   },
   {
    "duration": 6,
    "start_time": "2021-12-29T21:24:16.887Z"
   },
   {
    "duration": 656,
    "start_time": "2021-12-29T21:24:26.994Z"
   },
   {
    "duration": 4,
    "start_time": "2021-12-29T21:25:04.347Z"
   },
   {
    "duration": 563,
    "start_time": "2021-12-29T21:25:06.280Z"
   },
   {
    "duration": 5,
    "start_time": "2021-12-29T21:25:17.817Z"
   },
   {
    "duration": 581,
    "start_time": "2021-12-29T21:25:19.847Z"
   },
   {
    "duration": 4,
    "start_time": "2021-12-29T21:25:56.697Z"
   },
   {
    "duration": 546,
    "start_time": "2021-12-29T21:25:58.385Z"
   },
   {
    "duration": 4,
    "start_time": "2021-12-29T21:26:23.906Z"
   },
   {
    "duration": 1052,
    "start_time": "2021-12-29T21:26:24.988Z"
   },
   {
    "duration": 4,
    "start_time": "2021-12-29T21:28:56.306Z"
   },
   {
    "duration": 695,
    "start_time": "2021-12-29T21:28:58.128Z"
   },
   {
    "duration": 5,
    "start_time": "2021-12-29T21:29:49.914Z"
   },
   {
    "duration": 816,
    "start_time": "2021-12-29T21:29:51.244Z"
   },
   {
    "duration": 15,
    "start_time": "2021-12-29T21:31:00.177Z"
   },
   {
    "duration": 4,
    "start_time": "2021-12-29T21:31:45.651Z"
   },
   {
    "duration": 27,
    "start_time": "2021-12-29T21:31:47.272Z"
   },
   {
    "duration": 4,
    "start_time": "2021-12-29T21:32:16.645Z"
   },
   {
    "duration": 2973,
    "start_time": "2021-12-29T21:32:17.754Z"
   },
   {
    "duration": 5,
    "start_time": "2021-12-29T21:32:38.703Z"
   },
   {
    "duration": 594,
    "start_time": "2021-12-29T21:32:39.849Z"
   },
   {
    "duration": 4,
    "start_time": "2021-12-29T21:33:12.248Z"
   },
   {
    "duration": 1311,
    "start_time": "2021-12-29T21:33:13.213Z"
   },
   {
    "duration": 4,
    "start_time": "2021-12-29T21:35:31.803Z"
   },
   {
    "duration": 19,
    "start_time": "2021-12-29T21:35:35.506Z"
   },
   {
    "duration": 4,
    "start_time": "2021-12-29T21:36:33.160Z"
   },
   {
    "duration": 33,
    "start_time": "2021-12-29T21:36:40.949Z"
   },
   {
    "duration": 4,
    "start_time": "2021-12-29T21:38:52.511Z"
   },
   {
    "duration": 545,
    "start_time": "2021-12-29T21:39:00.753Z"
   },
   {
    "duration": 4,
    "start_time": "2021-12-29T21:39:07.737Z"
   },
   {
    "duration": 556,
    "start_time": "2021-12-29T21:39:10.925Z"
   },
   {
    "duration": 4,
    "start_time": "2021-12-29T21:39:45.574Z"
   },
   {
    "duration": 4,
    "start_time": "2021-12-29T21:40:24.512Z"
   },
   {
    "duration": 24,
    "start_time": "2021-12-29T21:40:26.680Z"
   },
   {
    "duration": 23,
    "start_time": "2021-12-29T21:41:06.783Z"
   },
   {
    "duration": 24,
    "start_time": "2021-12-29T21:41:49.734Z"
   },
   {
    "duration": 30,
    "start_time": "2021-12-29T21:41:50.257Z"
   },
   {
    "duration": 26,
    "start_time": "2021-12-29T21:41:51.640Z"
   },
   {
    "duration": 22,
    "start_time": "2021-12-29T21:41:52.200Z"
   },
   {
    "duration": 4,
    "start_time": "2021-12-29T21:42:02.712Z"
   },
   {
    "duration": 34,
    "start_time": "2021-12-29T21:42:05.064Z"
   },
   {
    "duration": 21,
    "start_time": "2021-12-29T21:42:05.684Z"
   },
   {
    "duration": 28,
    "start_time": "2021-12-29T21:42:06.083Z"
   },
   {
    "duration": 23,
    "start_time": "2021-12-29T21:42:06.449Z"
   },
   {
    "duration": 28,
    "start_time": "2021-12-29T21:42:06.939Z"
   },
   {
    "duration": 21,
    "start_time": "2021-12-29T21:42:07.698Z"
   },
   {
    "duration": 4,
    "start_time": "2021-12-29T21:42:37.411Z"
   },
   {
    "duration": 23,
    "start_time": "2021-12-29T21:42:40.746Z"
   },
   {
    "duration": 24,
    "start_time": "2021-12-29T21:42:41.260Z"
   },
   {
    "duration": 30,
    "start_time": "2021-12-29T21:42:41.761Z"
   },
   {
    "duration": 21,
    "start_time": "2021-12-29T21:42:42.283Z"
   },
   {
    "duration": 28,
    "start_time": "2021-12-29T21:42:42.779Z"
   },
   {
    "duration": 19,
    "start_time": "2021-12-29T21:42:43.222Z"
   },
   {
    "duration": 4,
    "start_time": "2021-12-29T21:48:25.419Z"
   },
   {
    "duration": 762,
    "start_time": "2021-12-29T21:49:22.815Z"
   },
   {
    "duration": 5,
    "start_time": "2021-12-29T21:49:35.783Z"
   },
   {
    "duration": 646,
    "start_time": "2021-12-29T21:49:38.157Z"
   },
   {
    "duration": 3,
    "start_time": "2021-12-29T21:50:20.235Z"
   },
   {
    "duration": 1124,
    "start_time": "2021-12-29T21:50:21.195Z"
   },
   {
    "duration": 4,
    "start_time": "2021-12-29T21:50:33.245Z"
   },
   {
    "duration": 699,
    "start_time": "2021-12-29T21:50:34.883Z"
   },
   {
    "duration": 3,
    "start_time": "2021-12-29T21:51:55.342Z"
   },
   {
    "duration": 566,
    "start_time": "2021-12-29T21:51:56.378Z"
   },
   {
    "duration": 3,
    "start_time": "2021-12-29T21:52:23.521Z"
   },
   {
    "duration": 23,
    "start_time": "2021-12-29T21:52:24.468Z"
   },
   {
    "duration": 15,
    "start_time": "2021-12-29T21:52:56.701Z"
   },
   {
    "duration": 28,
    "start_time": "2021-12-29T21:53:08.840Z"
   },
   {
    "duration": 25,
    "start_time": "2021-12-29T21:53:19.874Z"
   },
   {
    "duration": 17,
    "start_time": "2021-12-29T21:53:20.673Z"
   },
   {
    "duration": 23,
    "start_time": "2021-12-29T21:53:21.095Z"
   },
   {
    "duration": 15,
    "start_time": "2021-12-29T21:53:21.643Z"
   },
   {
    "duration": 22,
    "start_time": "2021-12-29T21:53:23.855Z"
   },
   {
    "duration": 16,
    "start_time": "2021-12-29T21:53:24.740Z"
   },
   {
    "duration": 4,
    "start_time": "2021-12-29T21:58:17.004Z"
   },
   {
    "duration": 20,
    "start_time": "2021-12-29T21:58:17.357Z"
   },
   {
    "duration": 5,
    "start_time": "2021-12-29T21:58:30.867Z"
   },
   {
    "duration": 21,
    "start_time": "2021-12-29T21:58:31.676Z"
   },
   {
    "duration": 4,
    "start_time": "2021-12-29T21:58:55.092Z"
   },
   {
    "duration": 662,
    "start_time": "2021-12-29T21:58:56.696Z"
   },
   {
    "duration": 5,
    "start_time": "2021-12-29T21:59:02.893Z"
   },
   {
    "duration": 555,
    "start_time": "2021-12-29T21:59:05.720Z"
   },
   {
    "duration": 4,
    "start_time": "2021-12-29T21:59:22.552Z"
   },
   {
    "duration": 15,
    "start_time": "2021-12-29T21:59:25.731Z"
   },
   {
    "duration": 4,
    "start_time": "2021-12-29T21:59:37.875Z"
   },
   {
    "duration": 16,
    "start_time": "2021-12-29T21:59:41.432Z"
   },
   {
    "duration": 15,
    "start_time": "2021-12-29T21:59:43.991Z"
   },
   {
    "duration": 14,
    "start_time": "2021-12-29T21:59:45.339Z"
   },
   {
    "duration": 14,
    "start_time": "2021-12-29T21:59:45.841Z"
   },
   {
    "duration": 17,
    "start_time": "2021-12-29T21:59:46.210Z"
   },
   {
    "duration": 15,
    "start_time": "2021-12-29T21:59:47.077Z"
   },
   {
    "duration": 4,
    "start_time": "2021-12-29T21:59:55.643Z"
   },
   {
    "duration": 17,
    "start_time": "2021-12-29T21:59:58.109Z"
   },
   {
    "duration": 20,
    "start_time": "2021-12-29T21:59:58.889Z"
   },
   {
    "duration": 15,
    "start_time": "2021-12-29T21:59:59.235Z"
   },
   {
    "duration": 14,
    "start_time": "2021-12-29T21:59:59.575Z"
   },
   {
    "duration": 25,
    "start_time": "2021-12-29T22:00:00.173Z"
   },
   {
    "duration": 17,
    "start_time": "2021-12-29T22:00:00.778Z"
   },
   {
    "duration": 12,
    "start_time": "2021-12-29T22:03:55.697Z"
   },
   {
    "duration": 15,
    "start_time": "2021-12-29T22:21:21.763Z"
   },
   {
    "duration": 15,
    "start_time": "2021-12-29T22:21:36.574Z"
   },
   {
    "duration": 110,
    "start_time": "2021-12-29T22:38:28.035Z"
   },
   {
    "duration": 4,
    "start_time": "2021-12-29T22:38:34.717Z"
   },
   {
    "duration": 7435,
    "start_time": "2021-12-29T22:38:41.724Z"
   },
   {
    "duration": 4,
    "start_time": "2021-12-29T22:41:19.032Z"
   },
   {
    "duration": 10162,
    "start_time": "2021-12-29T22:41:25.510Z"
   },
   {
    "duration": 4,
    "start_time": "2021-12-29T22:42:01.219Z"
   },
   {
    "duration": 662,
    "start_time": "2021-12-29T22:42:15.280Z"
   },
   {
    "duration": 4,
    "start_time": "2021-12-29T22:42:32.384Z"
   },
   {
    "duration": 803,
    "start_time": "2021-12-29T22:42:33.852Z"
   },
   {
    "duration": 5,
    "start_time": "2021-12-29T22:43:01.321Z"
   },
   {
    "duration": 752,
    "start_time": "2021-12-29T22:43:02.508Z"
   },
   {
    "duration": 4,
    "start_time": "2021-12-29T22:43:14.446Z"
   },
   {
    "duration": 35,
    "start_time": "2021-12-29T22:43:14.771Z"
   },
   {
    "duration": 6,
    "start_time": "2021-12-29T22:43:32.965Z"
   },
   {
    "duration": 751,
    "start_time": "2021-12-29T22:43:33.843Z"
   },
   {
    "duration": 4,
    "start_time": "2021-12-29T22:43:38.518Z"
   },
   {
    "duration": 711,
    "start_time": "2021-12-29T22:43:39.926Z"
   },
   {
    "duration": 5,
    "start_time": "2021-12-29T22:43:46.253Z"
   },
   {
    "duration": 1925,
    "start_time": "2021-12-29T22:43:47.004Z"
   },
   {
    "duration": 4,
    "start_time": "2021-12-29T22:43:56.423Z"
   },
   {
    "duration": 26,
    "start_time": "2021-12-29T22:43:57.356Z"
   },
   {
    "duration": 5,
    "start_time": "2021-12-29T22:45:46.577Z"
   },
   {
    "duration": 16,
    "start_time": "2021-12-29T22:45:47.505Z"
   },
   {
    "duration": 4,
    "start_time": "2021-12-29T22:45:53.998Z"
   },
   {
    "duration": 16,
    "start_time": "2021-12-29T22:45:54.544Z"
   },
   {
    "duration": 4,
    "start_time": "2021-12-29T22:46:14.483Z"
   },
   {
    "duration": 543,
    "start_time": "2021-12-29T22:46:15.339Z"
   },
   {
    "duration": 4,
    "start_time": "2021-12-29T22:47:09.917Z"
   },
   {
    "duration": 26,
    "start_time": "2021-12-29T22:47:10.563Z"
   },
   {
    "duration": 5,
    "start_time": "2021-12-29T22:47:15.433Z"
   },
   {
    "duration": 18,
    "start_time": "2021-12-29T22:47:16.589Z"
   },
   {
    "duration": 4,
    "start_time": "2021-12-29T22:47:26.233Z"
   },
   {
    "duration": 27,
    "start_time": "2021-12-29T22:47:26.880Z"
   },
   {
    "duration": 4,
    "start_time": "2021-12-29T22:49:06.452Z"
   },
   {
    "duration": 22,
    "start_time": "2021-12-29T22:49:07.620Z"
   },
   {
    "duration": 4,
    "start_time": "2021-12-29T22:49:57.156Z"
   },
   {
    "duration": 25,
    "start_time": "2021-12-29T22:49:57.886Z"
   },
   {
    "duration": 6,
    "start_time": "2021-12-29T22:50:28.960Z"
   },
   {
    "duration": 576,
    "start_time": "2021-12-29T22:50:30.074Z"
   },
   {
    "duration": 5,
    "start_time": "2021-12-29T22:50:42.173Z"
   },
   {
    "duration": 14,
    "start_time": "2021-12-29T22:50:42.944Z"
   },
   {
    "duration": 4,
    "start_time": "2021-12-29T22:50:55.948Z"
   },
   {
    "duration": 16,
    "start_time": "2021-12-29T22:50:56.652Z"
   },
   {
    "duration": 6,
    "start_time": "2021-12-29T22:53:40.972Z"
   },
   {
    "duration": 25,
    "start_time": "2021-12-29T22:53:41.900Z"
   },
   {
    "duration": 4,
    "start_time": "2021-12-29T22:55:24.642Z"
   },
   {
    "duration": 24,
    "start_time": "2021-12-29T22:55:25.232Z"
   },
   {
    "duration": 4,
    "start_time": "2021-12-29T22:55:55.095Z"
   },
   {
    "duration": 530,
    "start_time": "2021-12-29T22:55:55.815Z"
   },
   {
    "duration": 4,
    "start_time": "2021-12-29T22:56:06.651Z"
   },
   {
    "duration": 32,
    "start_time": "2021-12-29T22:56:07.356Z"
   },
   {
    "duration": 5,
    "start_time": "2021-12-29T22:56:14.048Z"
   },
   {
    "duration": 19,
    "start_time": "2021-12-29T22:56:14.343Z"
   },
   {
    "duration": 13,
    "start_time": "2021-12-29T23:04:10.938Z"
   },
   {
    "duration": 19,
    "start_time": "2021-12-29T23:05:17.894Z"
   },
   {
    "duration": 20,
    "start_time": "2021-12-29T23:05:18.256Z"
   },
   {
    "duration": 9,
    "start_time": "2021-12-29T23:19:51.232Z"
   },
   {
    "duration": 6,
    "start_time": "2021-12-29T23:20:08.082Z"
   },
   {
    "duration": 9,
    "start_time": "2021-12-29T23:21:13.354Z"
   },
   {
    "duration": 6,
    "start_time": "2021-12-29T23:21:14.040Z"
   },
   {
    "duration": 492,
    "start_time": "2021-12-29T23:21:17.188Z"
   },
   {
    "duration": 283,
    "start_time": "2021-12-29T23:21:17.849Z"
   },
   {
    "duration": 7,
    "start_time": "2021-12-29T23:21:34.273Z"
   },
   {
    "duration": 5,
    "start_time": "2021-12-29T23:21:35.337Z"
   },
   {
    "duration": 1003,
    "start_time": "2021-12-31T09:59:55.749Z"
   },
   {
    "duration": 263,
    "start_time": "2021-12-31T09:59:56.755Z"
   },
   {
    "duration": 49,
    "start_time": "2021-12-31T09:59:57.021Z"
   },
   {
    "duration": 7,
    "start_time": "2021-12-31T09:59:57.073Z"
   },
   {
    "duration": 24,
    "start_time": "2021-12-31T09:59:57.083Z"
   },
   {
    "duration": 7,
    "start_time": "2021-12-31T09:59:57.109Z"
   },
   {
    "duration": 63,
    "start_time": "2021-12-31T09:59:57.119Z"
   },
   {
    "duration": 12,
    "start_time": "2021-12-31T09:59:57.185Z"
   },
   {
    "duration": 23,
    "start_time": "2021-12-31T09:59:57.201Z"
   },
   {
    "duration": 35,
    "start_time": "2021-12-31T09:59:57.226Z"
   },
   {
    "duration": 33,
    "start_time": "2021-12-31T09:59:57.264Z"
   },
   {
    "duration": 107,
    "start_time": "2021-12-31T09:59:57.299Z"
   },
   {
    "duration": 107,
    "start_time": "2021-12-31T09:59:57.408Z"
   },
   {
    "duration": 84,
    "start_time": "2021-12-31T09:59:57.517Z"
   },
   {
    "duration": 9,
    "start_time": "2021-12-31T09:59:57.603Z"
   },
   {
    "duration": 5,
    "start_time": "2021-12-31T09:59:57.614Z"
   },
   {
    "duration": 13,
    "start_time": "2021-12-31T09:59:57.621Z"
   },
   {
    "duration": 34,
    "start_time": "2021-12-31T09:59:57.637Z"
   },
   {
    "duration": 14,
    "start_time": "2021-12-31T09:59:57.674Z"
   },
   {
    "duration": 14,
    "start_time": "2021-12-31T09:59:57.691Z"
   },
   {
    "duration": 17,
    "start_time": "2021-12-31T09:59:57.707Z"
   },
   {
    "duration": 5,
    "start_time": "2021-12-31T09:59:57.760Z"
   },
   {
    "duration": 26,
    "start_time": "2021-12-31T09:59:57.771Z"
   },
   {
    "duration": 17,
    "start_time": "2021-12-31T09:59:57.799Z"
   },
   {
    "duration": 55,
    "start_time": "2021-12-31T09:59:57.818Z"
   },
   {
    "duration": 16,
    "start_time": "2021-12-31T09:59:57.876Z"
   },
   {
    "duration": 20,
    "start_time": "2021-12-31T09:59:57.894Z"
   },
   {
    "duration": 57,
    "start_time": "2021-12-31T09:59:57.916Z"
   },
   {
    "duration": 11,
    "start_time": "2021-12-31T09:59:57.976Z"
   },
   {
    "duration": 20,
    "start_time": "2021-12-31T09:59:57.990Z"
   },
   {
    "duration": 47,
    "start_time": "2021-12-31T09:59:58.013Z"
   },
   {
    "duration": 6,
    "start_time": "2021-12-31T09:59:58.062Z"
   },
   {
    "duration": 27,
    "start_time": "2021-12-31T09:59:58.070Z"
   },
   {
    "duration": 16,
    "start_time": "2021-12-31T09:59:58.100Z"
   },
   {
    "duration": 56,
    "start_time": "2021-12-31T09:59:58.118Z"
   },
   {
    "duration": 17,
    "start_time": "2021-12-31T09:59:58.176Z"
   },
   {
    "duration": 11,
    "start_time": "2021-12-31T09:59:58.195Z"
   },
   {
    "duration": 6,
    "start_time": "2021-12-31T09:59:58.208Z"
   },
   {
    "duration": 9,
    "start_time": "2021-12-31T09:59:58.258Z"
   },
   {
    "duration": 5,
    "start_time": "2021-12-31T09:59:58.270Z"
   },
   {
    "duration": 582,
    "start_time": "2021-12-31T11:52:27.813Z"
   },
   {
    "duration": 731,
    "start_time": "2021-12-31T11:52:50.299Z"
   },
   {
    "duration": 185,
    "start_time": "2021-12-31T11:52:51.033Z"
   },
   {
    "duration": 37,
    "start_time": "2021-12-31T11:52:51.226Z"
   },
   {
    "duration": 6,
    "start_time": "2021-12-31T11:52:51.265Z"
   },
   {
    "duration": 25,
    "start_time": "2021-12-31T11:52:51.273Z"
   },
   {
    "duration": 7,
    "start_time": "2021-12-31T11:52:51.301Z"
   },
   {
    "duration": 77,
    "start_time": "2021-12-31T11:52:51.312Z"
   },
   {
    "duration": 25,
    "start_time": "2021-12-31T11:52:51.392Z"
   },
   {
    "duration": 25,
    "start_time": "2021-12-31T11:52:51.419Z"
   },
   {
    "duration": 7,
    "start_time": "2021-12-31T11:52:51.459Z"
   },
   {
    "duration": 35,
    "start_time": "2021-12-31T11:52:51.468Z"
   },
   {
    "duration": 102,
    "start_time": "2021-12-31T11:52:51.505Z"
   },
   {
    "duration": 98,
    "start_time": "2021-12-31T11:52:51.610Z"
   },
   {
    "duration": 83,
    "start_time": "2021-12-31T11:52:51.711Z"
   },
   {
    "duration": 9,
    "start_time": "2021-12-31T11:52:51.796Z"
   },
   {
    "duration": 480,
    "start_time": "2021-12-31T11:52:51.807Z"
   },
   {
    "duration": -169757,
    "start_time": "2021-12-31T11:55:42.047Z"
   },
   {
    "duration": -169760,
    "start_time": "2021-12-31T11:55:42.052Z"
   },
   {
    "duration": -169762,
    "start_time": "2021-12-31T11:55:42.055Z"
   },
   {
    "duration": -169768,
    "start_time": "2021-12-31T11:55:42.063Z"
   },
   {
    "duration": -169771,
    "start_time": "2021-12-31T11:55:42.067Z"
   },
   {
    "duration": -169773,
    "start_time": "2021-12-31T11:55:42.070Z"
   },
   {
    "duration": -169774,
    "start_time": "2021-12-31T11:55:42.073Z"
   },
   {
    "duration": -169780,
    "start_time": "2021-12-31T11:55:42.081Z"
   },
   {
    "duration": -169784,
    "start_time": "2021-12-31T11:55:42.086Z"
   },
   {
    "duration": -169784,
    "start_time": "2021-12-31T11:55:42.088Z"
   },
   {
    "duration": -169787,
    "start_time": "2021-12-31T11:55:42.092Z"
   },
   {
    "duration": -169788,
    "start_time": "2021-12-31T11:55:42.094Z"
   },
   {
    "duration": -169789,
    "start_time": "2021-12-31T11:55:42.097Z"
   },
   {
    "duration": -169791,
    "start_time": "2021-12-31T11:55:42.100Z"
   },
   {
    "duration": -169793,
    "start_time": "2021-12-31T11:55:42.103Z"
   },
   {
    "duration": -169794,
    "start_time": "2021-12-31T11:55:42.106Z"
   },
   {
    "duration": -169795,
    "start_time": "2021-12-31T11:55:42.108Z"
   },
   {
    "duration": -169796,
    "start_time": "2021-12-31T11:55:42.111Z"
   },
   {
    "duration": -169798,
    "start_time": "2021-12-31T11:55:42.114Z"
   },
   {
    "duration": -169799,
    "start_time": "2021-12-31T11:55:42.116Z"
   },
   {
    "duration": -169806,
    "start_time": "2021-12-31T11:55:42.124Z"
   },
   {
    "duration": -169807,
    "start_time": "2021-12-31T11:55:42.127Z"
   },
   {
    "duration": -169809,
    "start_time": "2021-12-31T11:55:42.130Z"
   },
   {
    "duration": -169811,
    "start_time": "2021-12-31T11:55:42.133Z"
   },
   {
    "duration": -169814,
    "start_time": "2021-12-31T11:55:42.138Z"
   },
   {
    "duration": 384,
    "start_time": "2021-12-31T11:53:53.515Z"
   },
   {
    "duration": 14,
    "start_time": "2021-12-31T11:55:59.996Z"
   },
   {
    "duration": 13,
    "start_time": "2021-12-31T11:56:10.142Z"
   },
   {
    "duration": 368,
    "start_time": "2021-12-31T11:56:14.674Z"
   },
   {
    "duration": 450,
    "start_time": "2021-12-31T11:56:42.474Z"
   },
   {
    "duration": 431,
    "start_time": "2021-12-31T11:57:26.959Z"
   },
   {
    "duration": 78,
    "start_time": "2021-12-31T11:57:44.196Z"
   },
   {
    "duration": 388,
    "start_time": "2021-12-31T11:58:12.308Z"
   },
   {
    "duration": 52,
    "start_time": "2021-12-31T11:58:20.523Z"
   },
   {
    "duration": 59,
    "start_time": "2021-12-31T11:58:47.338Z"
   },
   {
    "duration": 3,
    "start_time": "2021-12-31T11:59:10.751Z"
   },
   {
    "duration": 3,
    "start_time": "2021-12-31T14:21:27.708Z"
   },
   {
    "duration": 214,
    "start_time": "2021-12-31T14:21:27.714Z"
   },
   {
    "duration": 17,
    "start_time": "2021-12-31T14:21:27.931Z"
   },
   {
    "duration": 12,
    "start_time": "2021-12-31T14:21:27.950Z"
   },
   {
    "duration": 26,
    "start_time": "2021-12-31T14:21:27.964Z"
   },
   {
    "duration": 5,
    "start_time": "2021-12-31T14:21:27.992Z"
   },
   {
    "duration": 66,
    "start_time": "2021-12-31T14:21:28.000Z"
   },
   {
    "duration": 12,
    "start_time": "2021-12-31T14:21:28.069Z"
   },
   {
    "duration": 28,
    "start_time": "2021-12-31T14:21:28.083Z"
   },
   {
    "duration": 6,
    "start_time": "2021-12-31T14:21:28.113Z"
   },
   {
    "duration": 60,
    "start_time": "2021-12-31T14:21:28.122Z"
   },
   {
    "duration": 94,
    "start_time": "2021-12-31T14:21:28.185Z"
   },
   {
    "duration": 96,
    "start_time": "2021-12-31T14:21:28.282Z"
   },
   {
    "duration": 81,
    "start_time": "2021-12-31T14:21:28.381Z"
   },
   {
    "duration": 3,
    "start_time": "2021-12-31T14:21:28.464Z"
   },
   {
    "duration": 58,
    "start_time": "2021-12-31T14:21:28.469Z"
   },
   {
    "duration": 4,
    "start_time": "2021-12-31T14:21:28.530Z"
   },
   {
    "duration": 9,
    "start_time": "2021-12-31T14:21:28.559Z"
   },
   {
    "duration": 15,
    "start_time": "2021-12-31T14:21:28.573Z"
   },
   {
    "duration": 14,
    "start_time": "2021-12-31T14:21:28.591Z"
   },
   {
    "duration": 13,
    "start_time": "2021-12-31T14:21:28.608Z"
   },
   {
    "duration": 51,
    "start_time": "2021-12-31T14:21:28.623Z"
   },
   {
    "duration": 5,
    "start_time": "2021-12-31T14:21:28.676Z"
   },
   {
    "duration": 27,
    "start_time": "2021-12-31T14:21:28.683Z"
   },
   {
    "duration": 49,
    "start_time": "2021-12-31T14:21:28.712Z"
   },
   {
    "duration": 20,
    "start_time": "2021-12-31T14:21:28.763Z"
   },
   {
    "duration": 16,
    "start_time": "2021-12-31T14:21:28.785Z"
   },
   {
    "duration": 18,
    "start_time": "2021-12-31T14:21:28.804Z"
   },
   {
    "duration": 50,
    "start_time": "2021-12-31T14:21:28.824Z"
   },
   {
    "duration": 11,
    "start_time": "2021-12-31T14:21:28.877Z"
   },
   {
    "duration": 15,
    "start_time": "2021-12-31T14:21:28.890Z"
   },
   {
    "duration": 11,
    "start_time": "2021-12-31T14:21:28.908Z"
   },
   {
    "duration": 38,
    "start_time": "2021-12-31T14:21:28.921Z"
   },
   {
    "duration": 28,
    "start_time": "2021-12-31T14:21:28.961Z"
   },
   {
    "duration": 16,
    "start_time": "2021-12-31T14:21:28.991Z"
   },
   {
    "duration": 50,
    "start_time": "2021-12-31T14:21:29.009Z"
   },
   {
    "duration": 16,
    "start_time": "2021-12-31T14:21:29.062Z"
   },
   {
    "duration": 11,
    "start_time": "2021-12-31T14:21:29.081Z"
   },
   {
    "duration": 6,
    "start_time": "2021-12-31T14:21:29.094Z"
   },
   {
    "duration": 8,
    "start_time": "2021-12-31T14:21:29.102Z"
   },
   {
    "duration": 5,
    "start_time": "2021-12-31T14:21:29.112Z"
   },
   {
    "duration": 193,
    "start_time": "2021-12-31T15:52:55.896Z"
   },
   {
    "duration": 743,
    "start_time": "2022-01-02T09:18:55.356Z"
   },
   {
    "duration": 136,
    "start_time": "2022-01-02T09:18:56.101Z"
   },
   {
    "duration": 30,
    "start_time": "2022-01-02T09:18:56.239Z"
   },
   {
    "duration": 13,
    "start_time": "2022-01-02T09:18:56.272Z"
   },
   {
    "duration": 25,
    "start_time": "2022-01-02T09:18:56.287Z"
   },
   {
    "duration": 19,
    "start_time": "2022-01-02T09:18:56.313Z"
   },
   {
    "duration": 55,
    "start_time": "2022-01-02T09:18:56.334Z"
   },
   {
    "duration": 12,
    "start_time": "2022-01-02T09:18:56.392Z"
   },
   {
    "duration": 34,
    "start_time": "2022-01-02T09:18:56.406Z"
   },
   {
    "duration": 8,
    "start_time": "2022-01-02T09:18:56.443Z"
   },
   {
    "duration": 48,
    "start_time": "2022-01-02T09:18:56.453Z"
   },
   {
    "duration": 71,
    "start_time": "2022-01-02T09:18:56.503Z"
   },
   {
    "duration": 89,
    "start_time": "2022-01-02T09:18:56.576Z"
   },
   {
    "duration": 58,
    "start_time": "2022-01-02T09:18:56.668Z"
   },
   {
    "duration": 2,
    "start_time": "2022-01-02T09:18:56.727Z"
   },
   {
    "duration": 74,
    "start_time": "2022-01-02T09:18:56.731Z"
   },
   {
    "duration": 3,
    "start_time": "2022-01-02T09:18:56.807Z"
   },
   {
    "duration": 13,
    "start_time": "2022-01-02T09:18:56.812Z"
   },
   {
    "duration": 12,
    "start_time": "2022-01-02T09:18:56.827Z"
   },
   {
    "duration": 28,
    "start_time": "2022-01-02T09:18:56.840Z"
   },
   {
    "duration": 18,
    "start_time": "2022-01-02T09:18:56.870Z"
   },
   {
    "duration": 13,
    "start_time": "2022-01-02T09:18:56.889Z"
   },
   {
    "duration": 4,
    "start_time": "2022-01-02T09:18:56.906Z"
   },
   {
    "duration": 19,
    "start_time": "2022-01-02T09:18:56.912Z"
   },
   {
    "duration": 21,
    "start_time": "2022-01-02T09:18:56.970Z"
   },
   {
    "duration": 22,
    "start_time": "2022-01-02T09:18:56.993Z"
   },
   {
    "duration": 19,
    "start_time": "2022-01-02T09:18:57.017Z"
   },
   {
    "duration": 40,
    "start_time": "2022-01-02T09:18:57.038Z"
   },
   {
    "duration": 14,
    "start_time": "2022-01-02T09:18:57.080Z"
   },
   {
    "duration": 9,
    "start_time": "2022-01-02T09:18:57.095Z"
   },
   {
    "duration": 15,
    "start_time": "2022-01-02T09:18:57.105Z"
   },
   {
    "duration": 9,
    "start_time": "2022-01-02T09:18:57.121Z"
   },
   {
    "duration": 33,
    "start_time": "2022-01-02T09:18:57.132Z"
   },
   {
    "duration": 27,
    "start_time": "2022-01-02T09:18:57.168Z"
   },
   {
    "duration": 12,
    "start_time": "2022-01-02T09:18:57.196Z"
   },
   {
    "duration": 18,
    "start_time": "2022-01-02T09:18:57.210Z"
   },
   {
    "duration": 15,
    "start_time": "2022-01-02T09:18:57.230Z"
   },
   {
    "duration": 31,
    "start_time": "2022-01-02T09:18:57.246Z"
   },
   {
    "duration": 8,
    "start_time": "2022-01-02T09:18:57.279Z"
   },
   {
    "duration": 13,
    "start_time": "2022-01-02T09:18:57.289Z"
   },
   {
    "duration": 12,
    "start_time": "2022-01-02T09:18:57.304Z"
   }
  ],
  "colab": {
   "collapsed_sections": [
    "E0vqbgi9ay0H",
    "VUC88oWjTJw2"
   ],
   "name": "yandex_music_project_2021.2.ipynb",
   "provenance": []
  },
  "kernelspec": {
   "display_name": "Python 3",
   "language": "python",
   "name": "python3"
  },
  "language_info": {
   "codemirror_mode": {
    "name": "ipython",
    "version": 3
   },
   "file_extension": ".py",
   "mimetype": "text/x-python",
   "name": "python",
   "nbconvert_exporter": "python",
   "pygments_lexer": "ipython3",
   "version": "3.8.8"
  },
  "toc": {
   "base_numbering": 1,
   "nav_menu": {},
   "number_sections": true,
   "sideBar": true,
   "skip_h1_title": true,
   "title_cell": "Table of Contents",
   "title_sidebar": "Contents",
   "toc_cell": false,
   "toc_position": {
    "height": "calc(100% - 180px)",
    "left": "10px",
    "top": "150px",
    "width": "165px"
   },
   "toc_section_display": true,
   "toc_window_display": true
  }
 },
 "nbformat": 4,
 "nbformat_minor": 1
}
