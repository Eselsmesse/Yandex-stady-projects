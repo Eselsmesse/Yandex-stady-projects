{
 "cells": [
  {
   "cell_type": "markdown",
   "metadata": {
    "toc": true
   },
   "source": [
    "<h1>Содержание<span class=\"tocSkip\"></span></h1>\n",
    "<div class=\"toc\"><ul class=\"toc-item\"><li><span><a href=\"#Изучение-данных-из-файла\" data-toc-modified-id=\"Изучение-данных-из-файла-1\"><span class=\"toc-item-num\">1&nbsp;&nbsp;</span>Изучение данных из файла</a></span><ul class=\"toc-item\"><li><span><a href=\"#Вывод\" data-toc-modified-id=\"Вывод-1.1\"><span class=\"toc-item-num\">1.1&nbsp;&nbsp;</span>Вывод</a></span></li></ul></li><li><span><a href=\"#Предобработка-данных\" data-toc-modified-id=\"Предобработка-данных-2\"><span class=\"toc-item-num\">2&nbsp;&nbsp;</span>Предобработка данных</a></span></li><li><span><a href=\"#Расчёты-и-добавление-результатов-в-таблицу\" data-toc-modified-id=\"Расчёты-и-добавление-результатов-в-таблицу-3\"><span class=\"toc-item-num\">3&nbsp;&nbsp;</span>Расчёты и добавление результатов в таблицу</a></span></li><li><span><a href=\"#Исследовательский-анализ-данных\" data-toc-modified-id=\"Исследовательский-анализ-данных-4\"><span class=\"toc-item-num\">4&nbsp;&nbsp;</span>Исследовательский анализ данных</a></span><ul class=\"toc-item\"><li><span><a href=\"#Вывод\" data-toc-modified-id=\"Вывод-4.1\"><span class=\"toc-item-num\">4.1&nbsp;&nbsp;</span>Вывод</a></span></li></ul></li><li><span><a href=\"#Работа-с-выбросами\" data-toc-modified-id=\"Работа-с-выбросами-5\"><span class=\"toc-item-num\">5&nbsp;&nbsp;</span>Работа с выбросами</a></span><ul class=\"toc-item\"><li><span><a href=\"#Вывод\" data-toc-modified-id=\"Вывод-5.1\"><span class=\"toc-item-num\">5.1&nbsp;&nbsp;</span>Вывод</a></span></li></ul></li><li><span><a href=\"#Общий-вывод\" data-toc-modified-id=\"Общий-вывод-6\"><span class=\"toc-item-num\">6&nbsp;&nbsp;</span>Общий вывод</a></span></li></ul></div>"
   ]
  },
  {
   "cell_type": "markdown",
   "metadata": {},
   "source": [
    "# Исследование объявлений о продаже квартир\n",
    "\n",
    "В вашем распоряжении данные сервиса Яндекс.Недвижимость — архив объявлений о продаже квартир в Санкт-Петербурге и соседних населённых пунктах за несколько лет. Нужно научиться определять рыночную стоимость объектов недвижимости. Ваша задача — установить параметры. Это позволит построить автоматизированную систему: она отследит аномалии и мошенническую деятельность. \n",
    "\n",
    "По каждой квартире на продажу доступны два вида данных. Первые вписаны пользователем, вторые получены автоматически на основе картографических данных. Например, расстояние до центра, аэропорта, ближайшего парка и водоёма. "
   ]
  },
  {
   "cell_type": "markdown",
   "metadata": {},
   "source": [
    "## Изучение данных из файла"
   ]
  },
  {
   "cell_type": "code",
   "execution_count": 65,
   "metadata": {},
   "outputs": [],
   "source": [
    "import pandas as pd\n",
    "import numpy as np\n",
    "import matplotlib as plt\n",
    "import matplotlib.pyplot as plt\n",
    "import datetime\n",
    "import seaborn as sns"
   ]
  },
  {
   "cell_type": "code",
   "execution_count": 3,
   "metadata": {},
   "outputs": [],
   "source": [
    "try:    \n",
    "    data = pd.read_csv('/datasets/real_estate_data.csv', sep=\"\\t\")\n",
    "except:    \n",
    "    data = pd.read_csv('real_estate_data.csv', sep=\"\\t\")"
   ]
  },
  {
   "cell_type": "markdown",
   "metadata": {},
   "source": [
    "Описание данных\n",
    "\n",
    "airports_nearest — расстояние до ближайшего аэропорта в метрах (м)\n",
    "\n",
    "balcony — число балконов\n",
    "\n",
    "ceiling_height — высота потолков (м)\n",
    "\n",
    "cityCenters_nearest — расстояние до центра города (м)\n",
    "\n",
    "days_exposition — сколько дней было размещено объявление (от публикации до снятия)\n",
    "\n",
    "first_day_exposition — дата публикации\n",
    "\n",
    "floor — этаж\n",
    "\n",
    "floors_total — всего этажей в доме\n",
    "\n",
    "is_apartment — апартаменты (булев тип)\n",
    "\n",
    "kitchen_area — площадь кухни в квадратных метрах (м²)\n",
    "\n",
    "last_price — цена на момент снятия с публикации\n",
    "\n",
    "living_area — жилая площадь в квадратных метрах (м²)\n",
    "\n",
    "locality_name — название населённого пункта\n",
    "\n",
    "open_plan — свободная планировка (булев тип)\n",
    "\n",
    "parks_around3000 — число парков в радиусе 3 км\n",
    "\n",
    "parks_nearest — расстояние до ближайшего парка (м)\n",
    "\n",
    "ponds_around3000 — число водоёмов в радиусе 3 км\n",
    "\n",
    "ponds_nearest — расстояние до ближайшего водоёма (м)\n",
    "\n",
    "rooms — число комнат\n",
    "\n",
    "studio — квартира-студия (булев тип)\n",
    "\n",
    "total_area — площадь квартиры в квадратных метрах (м²)\n",
    "\n",
    "total_images — число фотографий квартиры в объявлении"
   ]
  },
  {
   "cell_type": "code",
   "execution_count": 19,
   "metadata": {},
   "outputs": [],
   "source": [
    "def data_info(df):\n",
    "    \"\"\"Функция первичного знакомства с данными\"\"\"\n",
    "    display(df.head(10))\n",
    "    print('Общая информация:')\n",
    "    display(df.info())\n",
    "    print('Категориальные признаки:')\n",
    "    display(df.describe(include = ['object']))\n",
    "    print('Общая статистика:')\n",
    "    display(df.describe())\n",
    "    print('Дубликаты:')\n",
    "    display(df.duplicated().sum())\n",
    "    print('Процент пропущенных значений:')    \n",
    "    for col in df.columns:\n",
    "        pct_missing = np.mean(df[col].isna())\n",
    "        if pct_missing > 0:\n",
    "            print('{} - {}%'.format(col, round(pct_missing*100,2)))\n",
    "            \n",
    "    display(df.loc[df.isnull().any(axis=1)].head(5))"
   ]
  },
  {
   "cell_type": "code",
   "execution_count": 20,
   "metadata": {},
   "outputs": [
    {
     "data": {
      "text/html": [
       "<div>\n",
       "<style scoped>\n",
       "    .dataframe tbody tr th:only-of-type {\n",
       "        vertical-align: middle;\n",
       "    }\n",
       "\n",
       "    .dataframe tbody tr th {\n",
       "        vertical-align: top;\n",
       "    }\n",
       "\n",
       "    .dataframe thead th {\n",
       "        text-align: right;\n",
       "    }\n",
       "</style>\n",
       "<table border=\"1\" class=\"dataframe\">\n",
       "  <thead>\n",
       "    <tr style=\"text-align: right;\">\n",
       "      <th></th>\n",
       "      <th>total_images</th>\n",
       "      <th>last_price</th>\n",
       "      <th>total_area</th>\n",
       "      <th>first_day_exposition</th>\n",
       "      <th>rooms</th>\n",
       "      <th>ceiling_height</th>\n",
       "      <th>floors_total</th>\n",
       "      <th>living_area</th>\n",
       "      <th>floor</th>\n",
       "      <th>is_apartment</th>\n",
       "      <th>...</th>\n",
       "      <th>kitchen_area</th>\n",
       "      <th>balcony</th>\n",
       "      <th>locality_name</th>\n",
       "      <th>airports_nearest</th>\n",
       "      <th>cityCenters_nearest</th>\n",
       "      <th>parks_around3000</th>\n",
       "      <th>parks_nearest</th>\n",
       "      <th>ponds_around3000</th>\n",
       "      <th>ponds_nearest</th>\n",
       "      <th>days_exposition</th>\n",
       "    </tr>\n",
       "  </thead>\n",
       "  <tbody>\n",
       "    <tr>\n",
       "      <th>0</th>\n",
       "      <td>20</td>\n",
       "      <td>13000000.0</td>\n",
       "      <td>108.00</td>\n",
       "      <td>2019-03-07T00:00:00</td>\n",
       "      <td>3</td>\n",
       "      <td>2.70</td>\n",
       "      <td>16.0</td>\n",
       "      <td>51.00</td>\n",
       "      <td>8</td>\n",
       "      <td>NaN</td>\n",
       "      <td>...</td>\n",
       "      <td>25.00</td>\n",
       "      <td>NaN</td>\n",
       "      <td>Санкт-Петербург</td>\n",
       "      <td>18863.0</td>\n",
       "      <td>16028.0</td>\n",
       "      <td>1.0</td>\n",
       "      <td>482.0</td>\n",
       "      <td>2.0</td>\n",
       "      <td>755.0</td>\n",
       "      <td>NaN</td>\n",
       "    </tr>\n",
       "    <tr>\n",
       "      <th>1</th>\n",
       "      <td>7</td>\n",
       "      <td>3350000.0</td>\n",
       "      <td>40.40</td>\n",
       "      <td>2018-12-04T00:00:00</td>\n",
       "      <td>1</td>\n",
       "      <td>NaN</td>\n",
       "      <td>11.0</td>\n",
       "      <td>18.60</td>\n",
       "      <td>1</td>\n",
       "      <td>NaN</td>\n",
       "      <td>...</td>\n",
       "      <td>11.00</td>\n",
       "      <td>2.0</td>\n",
       "      <td>посёлок Шушары</td>\n",
       "      <td>12817.0</td>\n",
       "      <td>18603.0</td>\n",
       "      <td>0.0</td>\n",
       "      <td>NaN</td>\n",
       "      <td>0.0</td>\n",
       "      <td>NaN</td>\n",
       "      <td>81.0</td>\n",
       "    </tr>\n",
       "    <tr>\n",
       "      <th>2</th>\n",
       "      <td>10</td>\n",
       "      <td>5196000.0</td>\n",
       "      <td>56.00</td>\n",
       "      <td>2015-08-20T00:00:00</td>\n",
       "      <td>2</td>\n",
       "      <td>NaN</td>\n",
       "      <td>5.0</td>\n",
       "      <td>34.30</td>\n",
       "      <td>4</td>\n",
       "      <td>NaN</td>\n",
       "      <td>...</td>\n",
       "      <td>8.30</td>\n",
       "      <td>0.0</td>\n",
       "      <td>Санкт-Петербург</td>\n",
       "      <td>21741.0</td>\n",
       "      <td>13933.0</td>\n",
       "      <td>1.0</td>\n",
       "      <td>90.0</td>\n",
       "      <td>2.0</td>\n",
       "      <td>574.0</td>\n",
       "      <td>558.0</td>\n",
       "    </tr>\n",
       "    <tr>\n",
       "      <th>3</th>\n",
       "      <td>0</td>\n",
       "      <td>64900000.0</td>\n",
       "      <td>159.00</td>\n",
       "      <td>2015-07-24T00:00:00</td>\n",
       "      <td>3</td>\n",
       "      <td>NaN</td>\n",
       "      <td>14.0</td>\n",
       "      <td>NaN</td>\n",
       "      <td>9</td>\n",
       "      <td>NaN</td>\n",
       "      <td>...</td>\n",
       "      <td>NaN</td>\n",
       "      <td>0.0</td>\n",
       "      <td>Санкт-Петербург</td>\n",
       "      <td>28098.0</td>\n",
       "      <td>6800.0</td>\n",
       "      <td>2.0</td>\n",
       "      <td>84.0</td>\n",
       "      <td>3.0</td>\n",
       "      <td>234.0</td>\n",
       "      <td>424.0</td>\n",
       "    </tr>\n",
       "    <tr>\n",
       "      <th>4</th>\n",
       "      <td>2</td>\n",
       "      <td>10000000.0</td>\n",
       "      <td>100.00</td>\n",
       "      <td>2018-06-19T00:00:00</td>\n",
       "      <td>2</td>\n",
       "      <td>3.03</td>\n",
       "      <td>14.0</td>\n",
       "      <td>32.00</td>\n",
       "      <td>13</td>\n",
       "      <td>NaN</td>\n",
       "      <td>...</td>\n",
       "      <td>41.00</td>\n",
       "      <td>NaN</td>\n",
       "      <td>Санкт-Петербург</td>\n",
       "      <td>31856.0</td>\n",
       "      <td>8098.0</td>\n",
       "      <td>2.0</td>\n",
       "      <td>112.0</td>\n",
       "      <td>1.0</td>\n",
       "      <td>48.0</td>\n",
       "      <td>121.0</td>\n",
       "    </tr>\n",
       "    <tr>\n",
       "      <th>5</th>\n",
       "      <td>10</td>\n",
       "      <td>2890000.0</td>\n",
       "      <td>30.40</td>\n",
       "      <td>2018-09-10T00:00:00</td>\n",
       "      <td>1</td>\n",
       "      <td>NaN</td>\n",
       "      <td>12.0</td>\n",
       "      <td>14.40</td>\n",
       "      <td>5</td>\n",
       "      <td>NaN</td>\n",
       "      <td>...</td>\n",
       "      <td>9.10</td>\n",
       "      <td>NaN</td>\n",
       "      <td>городской посёлок Янино-1</td>\n",
       "      <td>NaN</td>\n",
       "      <td>NaN</td>\n",
       "      <td>NaN</td>\n",
       "      <td>NaN</td>\n",
       "      <td>NaN</td>\n",
       "      <td>NaN</td>\n",
       "      <td>55.0</td>\n",
       "    </tr>\n",
       "    <tr>\n",
       "      <th>6</th>\n",
       "      <td>6</td>\n",
       "      <td>3700000.0</td>\n",
       "      <td>37.30</td>\n",
       "      <td>2017-11-02T00:00:00</td>\n",
       "      <td>1</td>\n",
       "      <td>NaN</td>\n",
       "      <td>26.0</td>\n",
       "      <td>10.60</td>\n",
       "      <td>6</td>\n",
       "      <td>NaN</td>\n",
       "      <td>...</td>\n",
       "      <td>14.40</td>\n",
       "      <td>1.0</td>\n",
       "      <td>посёлок Парголово</td>\n",
       "      <td>52996.0</td>\n",
       "      <td>19143.0</td>\n",
       "      <td>0.0</td>\n",
       "      <td>NaN</td>\n",
       "      <td>0.0</td>\n",
       "      <td>NaN</td>\n",
       "      <td>155.0</td>\n",
       "    </tr>\n",
       "    <tr>\n",
       "      <th>7</th>\n",
       "      <td>5</td>\n",
       "      <td>7915000.0</td>\n",
       "      <td>71.60</td>\n",
       "      <td>2019-04-18T00:00:00</td>\n",
       "      <td>2</td>\n",
       "      <td>NaN</td>\n",
       "      <td>24.0</td>\n",
       "      <td>NaN</td>\n",
       "      <td>22</td>\n",
       "      <td>NaN</td>\n",
       "      <td>...</td>\n",
       "      <td>18.90</td>\n",
       "      <td>2.0</td>\n",
       "      <td>Санкт-Петербург</td>\n",
       "      <td>23982.0</td>\n",
       "      <td>11634.0</td>\n",
       "      <td>0.0</td>\n",
       "      <td>NaN</td>\n",
       "      <td>0.0</td>\n",
       "      <td>NaN</td>\n",
       "      <td>NaN</td>\n",
       "    </tr>\n",
       "    <tr>\n",
       "      <th>8</th>\n",
       "      <td>20</td>\n",
       "      <td>2900000.0</td>\n",
       "      <td>33.16</td>\n",
       "      <td>2018-05-23T00:00:00</td>\n",
       "      <td>1</td>\n",
       "      <td>NaN</td>\n",
       "      <td>27.0</td>\n",
       "      <td>15.43</td>\n",
       "      <td>26</td>\n",
       "      <td>NaN</td>\n",
       "      <td>...</td>\n",
       "      <td>8.81</td>\n",
       "      <td>NaN</td>\n",
       "      <td>посёлок Мурино</td>\n",
       "      <td>NaN</td>\n",
       "      <td>NaN</td>\n",
       "      <td>NaN</td>\n",
       "      <td>NaN</td>\n",
       "      <td>NaN</td>\n",
       "      <td>NaN</td>\n",
       "      <td>189.0</td>\n",
       "    </tr>\n",
       "    <tr>\n",
       "      <th>9</th>\n",
       "      <td>18</td>\n",
       "      <td>5400000.0</td>\n",
       "      <td>61.00</td>\n",
       "      <td>2017-02-26T00:00:00</td>\n",
       "      <td>3</td>\n",
       "      <td>2.50</td>\n",
       "      <td>9.0</td>\n",
       "      <td>43.60</td>\n",
       "      <td>7</td>\n",
       "      <td>NaN</td>\n",
       "      <td>...</td>\n",
       "      <td>6.50</td>\n",
       "      <td>2.0</td>\n",
       "      <td>Санкт-Петербург</td>\n",
       "      <td>50898.0</td>\n",
       "      <td>15008.0</td>\n",
       "      <td>0.0</td>\n",
       "      <td>NaN</td>\n",
       "      <td>0.0</td>\n",
       "      <td>NaN</td>\n",
       "      <td>289.0</td>\n",
       "    </tr>\n",
       "  </tbody>\n",
       "</table>\n",
       "<p>10 rows × 22 columns</p>\n",
       "</div>"
      ],
      "text/plain": [
       "   total_images  last_price  total_area first_day_exposition  rooms  \\\n",
       "0            20  13000000.0      108.00  2019-03-07T00:00:00      3   \n",
       "1             7   3350000.0       40.40  2018-12-04T00:00:00      1   \n",
       "2            10   5196000.0       56.00  2015-08-20T00:00:00      2   \n",
       "3             0  64900000.0      159.00  2015-07-24T00:00:00      3   \n",
       "4             2  10000000.0      100.00  2018-06-19T00:00:00      2   \n",
       "5            10   2890000.0       30.40  2018-09-10T00:00:00      1   \n",
       "6             6   3700000.0       37.30  2017-11-02T00:00:00      1   \n",
       "7             5   7915000.0       71.60  2019-04-18T00:00:00      2   \n",
       "8            20   2900000.0       33.16  2018-05-23T00:00:00      1   \n",
       "9            18   5400000.0       61.00  2017-02-26T00:00:00      3   \n",
       "\n",
       "   ceiling_height  floors_total  living_area  floor is_apartment  ...  \\\n",
       "0            2.70          16.0        51.00      8          NaN  ...   \n",
       "1             NaN          11.0        18.60      1          NaN  ...   \n",
       "2             NaN           5.0        34.30      4          NaN  ...   \n",
       "3             NaN          14.0          NaN      9          NaN  ...   \n",
       "4            3.03          14.0        32.00     13          NaN  ...   \n",
       "5             NaN          12.0        14.40      5          NaN  ...   \n",
       "6             NaN          26.0        10.60      6          NaN  ...   \n",
       "7             NaN          24.0          NaN     22          NaN  ...   \n",
       "8             NaN          27.0        15.43     26          NaN  ...   \n",
       "9            2.50           9.0        43.60      7          NaN  ...   \n",
       "\n",
       "   kitchen_area  balcony              locality_name  airports_nearest  \\\n",
       "0         25.00      NaN            Санкт-Петербург           18863.0   \n",
       "1         11.00      2.0             посёлок Шушары           12817.0   \n",
       "2          8.30      0.0            Санкт-Петербург           21741.0   \n",
       "3           NaN      0.0            Санкт-Петербург           28098.0   \n",
       "4         41.00      NaN            Санкт-Петербург           31856.0   \n",
       "5          9.10      NaN  городской посёлок Янино-1               NaN   \n",
       "6         14.40      1.0          посёлок Парголово           52996.0   \n",
       "7         18.90      2.0            Санкт-Петербург           23982.0   \n",
       "8          8.81      NaN             посёлок Мурино               NaN   \n",
       "9          6.50      2.0            Санкт-Петербург           50898.0   \n",
       "\n",
       "  cityCenters_nearest  parks_around3000  parks_nearest  ponds_around3000  \\\n",
       "0             16028.0               1.0          482.0               2.0   \n",
       "1             18603.0               0.0            NaN               0.0   \n",
       "2             13933.0               1.0           90.0               2.0   \n",
       "3              6800.0               2.0           84.0               3.0   \n",
       "4              8098.0               2.0          112.0               1.0   \n",
       "5                 NaN               NaN            NaN               NaN   \n",
       "6             19143.0               0.0            NaN               0.0   \n",
       "7             11634.0               0.0            NaN               0.0   \n",
       "8                 NaN               NaN            NaN               NaN   \n",
       "9             15008.0               0.0            NaN               0.0   \n",
       "\n",
       "   ponds_nearest  days_exposition  \n",
       "0          755.0              NaN  \n",
       "1            NaN             81.0  \n",
       "2          574.0            558.0  \n",
       "3          234.0            424.0  \n",
       "4           48.0            121.0  \n",
       "5            NaN             55.0  \n",
       "6            NaN            155.0  \n",
       "7            NaN              NaN  \n",
       "8            NaN            189.0  \n",
       "9            NaN            289.0  \n",
       "\n",
       "[10 rows x 22 columns]"
      ]
     },
     "metadata": {},
     "output_type": "display_data"
    },
    {
     "name": "stdout",
     "output_type": "stream",
     "text": [
      "Общая информация:\n",
      "<class 'pandas.core.frame.DataFrame'>\n",
      "RangeIndex: 23699 entries, 0 to 23698\n",
      "Data columns (total 22 columns):\n",
      " #   Column                Non-Null Count  Dtype  \n",
      "---  ------                --------------  -----  \n",
      " 0   total_images          23699 non-null  int64  \n",
      " 1   last_price            23699 non-null  float64\n",
      " 2   total_area            23699 non-null  float64\n",
      " 3   first_day_exposition  23699 non-null  object \n",
      " 4   rooms                 23699 non-null  int64  \n",
      " 5   ceiling_height        14504 non-null  float64\n",
      " 6   floors_total          23613 non-null  float64\n",
      " 7   living_area           21796 non-null  float64\n",
      " 8   floor                 23699 non-null  int64  \n",
      " 9   is_apartment          2775 non-null   object \n",
      " 10  studio                23699 non-null  bool   \n",
      " 11  open_plan             23699 non-null  bool   \n",
      " 12  kitchen_area          21421 non-null  float64\n",
      " 13  balcony               12180 non-null  float64\n",
      " 14  locality_name         23650 non-null  object \n",
      " 15  airports_nearest      18157 non-null  float64\n",
      " 16  cityCenters_nearest   18180 non-null  float64\n",
      " 17  parks_around3000      18181 non-null  float64\n",
      " 18  parks_nearest         8079 non-null   float64\n",
      " 19  ponds_around3000      18181 non-null  float64\n",
      " 20  ponds_nearest         9110 non-null   float64\n",
      " 21  days_exposition       20518 non-null  float64\n",
      "dtypes: bool(2), float64(14), int64(3), object(3)\n",
      "memory usage: 3.7+ MB\n"
     ]
    },
    {
     "data": {
      "text/plain": [
       "None"
      ]
     },
     "metadata": {},
     "output_type": "display_data"
    },
    {
     "name": "stdout",
     "output_type": "stream",
     "text": [
      "Категориальные признаки:\n"
     ]
    },
    {
     "data": {
      "text/html": [
       "<div>\n",
       "<style scoped>\n",
       "    .dataframe tbody tr th:only-of-type {\n",
       "        vertical-align: middle;\n",
       "    }\n",
       "\n",
       "    .dataframe tbody tr th {\n",
       "        vertical-align: top;\n",
       "    }\n",
       "\n",
       "    .dataframe thead th {\n",
       "        text-align: right;\n",
       "    }\n",
       "</style>\n",
       "<table border=\"1\" class=\"dataframe\">\n",
       "  <thead>\n",
       "    <tr style=\"text-align: right;\">\n",
       "      <th></th>\n",
       "      <th>first_day_exposition</th>\n",
       "      <th>is_apartment</th>\n",
       "      <th>locality_name</th>\n",
       "    </tr>\n",
       "  </thead>\n",
       "  <tbody>\n",
       "    <tr>\n",
       "      <th>count</th>\n",
       "      <td>23699</td>\n",
       "      <td>2775</td>\n",
       "      <td>23650</td>\n",
       "    </tr>\n",
       "    <tr>\n",
       "      <th>unique</th>\n",
       "      <td>1491</td>\n",
       "      <td>2</td>\n",
       "      <td>364</td>\n",
       "    </tr>\n",
       "    <tr>\n",
       "      <th>top</th>\n",
       "      <td>2018-02-01T00:00:00</td>\n",
       "      <td>False</td>\n",
       "      <td>Санкт-Петербург</td>\n",
       "    </tr>\n",
       "    <tr>\n",
       "      <th>freq</th>\n",
       "      <td>368</td>\n",
       "      <td>2725</td>\n",
       "      <td>15721</td>\n",
       "    </tr>\n",
       "  </tbody>\n",
       "</table>\n",
       "</div>"
      ],
      "text/plain": [
       "       first_day_exposition is_apartment    locality_name\n",
       "count                 23699         2775            23650\n",
       "unique                 1491            2              364\n",
       "top     2018-02-01T00:00:00        False  Санкт-Петербург\n",
       "freq                    368         2725            15721"
      ]
     },
     "metadata": {},
     "output_type": "display_data"
    },
    {
     "name": "stdout",
     "output_type": "stream",
     "text": [
      "Общая статистика:\n"
     ]
    },
    {
     "data": {
      "text/html": [
       "<div>\n",
       "<style scoped>\n",
       "    .dataframe tbody tr th:only-of-type {\n",
       "        vertical-align: middle;\n",
       "    }\n",
       "\n",
       "    .dataframe tbody tr th {\n",
       "        vertical-align: top;\n",
       "    }\n",
       "\n",
       "    .dataframe thead th {\n",
       "        text-align: right;\n",
       "    }\n",
       "</style>\n",
       "<table border=\"1\" class=\"dataframe\">\n",
       "  <thead>\n",
       "    <tr style=\"text-align: right;\">\n",
       "      <th></th>\n",
       "      <th>total_images</th>\n",
       "      <th>last_price</th>\n",
       "      <th>total_area</th>\n",
       "      <th>rooms</th>\n",
       "      <th>ceiling_height</th>\n",
       "      <th>floors_total</th>\n",
       "      <th>living_area</th>\n",
       "      <th>floor</th>\n",
       "      <th>kitchen_area</th>\n",
       "      <th>balcony</th>\n",
       "      <th>airports_nearest</th>\n",
       "      <th>cityCenters_nearest</th>\n",
       "      <th>parks_around3000</th>\n",
       "      <th>parks_nearest</th>\n",
       "      <th>ponds_around3000</th>\n",
       "      <th>ponds_nearest</th>\n",
       "      <th>days_exposition</th>\n",
       "    </tr>\n",
       "  </thead>\n",
       "  <tbody>\n",
       "    <tr>\n",
       "      <th>count</th>\n",
       "      <td>23699.000000</td>\n",
       "      <td>2.369900e+04</td>\n",
       "      <td>23699.000000</td>\n",
       "      <td>23699.000000</td>\n",
       "      <td>14504.000000</td>\n",
       "      <td>23613.000000</td>\n",
       "      <td>21796.000000</td>\n",
       "      <td>23699.000000</td>\n",
       "      <td>21421.000000</td>\n",
       "      <td>12180.000000</td>\n",
       "      <td>18157.000000</td>\n",
       "      <td>18180.000000</td>\n",
       "      <td>18181.000000</td>\n",
       "      <td>8079.000000</td>\n",
       "      <td>18181.000000</td>\n",
       "      <td>9110.000000</td>\n",
       "      <td>20518.000000</td>\n",
       "    </tr>\n",
       "    <tr>\n",
       "      <th>mean</th>\n",
       "      <td>9.858475</td>\n",
       "      <td>6.541549e+06</td>\n",
       "      <td>60.348651</td>\n",
       "      <td>2.070636</td>\n",
       "      <td>2.771499</td>\n",
       "      <td>10.673824</td>\n",
       "      <td>34.457852</td>\n",
       "      <td>5.892358</td>\n",
       "      <td>10.569807</td>\n",
       "      <td>1.150082</td>\n",
       "      <td>28793.672193</td>\n",
       "      <td>14191.277833</td>\n",
       "      <td>0.611408</td>\n",
       "      <td>490.804555</td>\n",
       "      <td>0.770255</td>\n",
       "      <td>517.980900</td>\n",
       "      <td>180.888634</td>\n",
       "    </tr>\n",
       "    <tr>\n",
       "      <th>std</th>\n",
       "      <td>5.682529</td>\n",
       "      <td>1.088701e+07</td>\n",
       "      <td>35.654083</td>\n",
       "      <td>1.078405</td>\n",
       "      <td>1.261056</td>\n",
       "      <td>6.597173</td>\n",
       "      <td>22.030445</td>\n",
       "      <td>4.885249</td>\n",
       "      <td>5.905438</td>\n",
       "      <td>1.071300</td>\n",
       "      <td>12630.880622</td>\n",
       "      <td>8608.386210</td>\n",
       "      <td>0.802074</td>\n",
       "      <td>342.317995</td>\n",
       "      <td>0.938346</td>\n",
       "      <td>277.720643</td>\n",
       "      <td>219.727988</td>\n",
       "    </tr>\n",
       "    <tr>\n",
       "      <th>min</th>\n",
       "      <td>0.000000</td>\n",
       "      <td>1.219000e+04</td>\n",
       "      <td>12.000000</td>\n",
       "      <td>0.000000</td>\n",
       "      <td>1.000000</td>\n",
       "      <td>1.000000</td>\n",
       "      <td>2.000000</td>\n",
       "      <td>1.000000</td>\n",
       "      <td>1.300000</td>\n",
       "      <td>0.000000</td>\n",
       "      <td>0.000000</td>\n",
       "      <td>181.000000</td>\n",
       "      <td>0.000000</td>\n",
       "      <td>1.000000</td>\n",
       "      <td>0.000000</td>\n",
       "      <td>13.000000</td>\n",
       "      <td>1.000000</td>\n",
       "    </tr>\n",
       "    <tr>\n",
       "      <th>25%</th>\n",
       "      <td>6.000000</td>\n",
       "      <td>3.400000e+06</td>\n",
       "      <td>40.000000</td>\n",
       "      <td>1.000000</td>\n",
       "      <td>2.520000</td>\n",
       "      <td>5.000000</td>\n",
       "      <td>18.600000</td>\n",
       "      <td>2.000000</td>\n",
       "      <td>7.000000</td>\n",
       "      <td>0.000000</td>\n",
       "      <td>18585.000000</td>\n",
       "      <td>9238.000000</td>\n",
       "      <td>0.000000</td>\n",
       "      <td>288.000000</td>\n",
       "      <td>0.000000</td>\n",
       "      <td>294.000000</td>\n",
       "      <td>45.000000</td>\n",
       "    </tr>\n",
       "    <tr>\n",
       "      <th>50%</th>\n",
       "      <td>9.000000</td>\n",
       "      <td>4.650000e+06</td>\n",
       "      <td>52.000000</td>\n",
       "      <td>2.000000</td>\n",
       "      <td>2.650000</td>\n",
       "      <td>9.000000</td>\n",
       "      <td>30.000000</td>\n",
       "      <td>4.000000</td>\n",
       "      <td>9.100000</td>\n",
       "      <td>1.000000</td>\n",
       "      <td>26726.000000</td>\n",
       "      <td>13098.500000</td>\n",
       "      <td>0.000000</td>\n",
       "      <td>455.000000</td>\n",
       "      <td>1.000000</td>\n",
       "      <td>502.000000</td>\n",
       "      <td>95.000000</td>\n",
       "    </tr>\n",
       "    <tr>\n",
       "      <th>75%</th>\n",
       "      <td>14.000000</td>\n",
       "      <td>6.800000e+06</td>\n",
       "      <td>69.900000</td>\n",
       "      <td>3.000000</td>\n",
       "      <td>2.800000</td>\n",
       "      <td>16.000000</td>\n",
       "      <td>42.300000</td>\n",
       "      <td>8.000000</td>\n",
       "      <td>12.000000</td>\n",
       "      <td>2.000000</td>\n",
       "      <td>37273.000000</td>\n",
       "      <td>16293.000000</td>\n",
       "      <td>1.000000</td>\n",
       "      <td>612.000000</td>\n",
       "      <td>1.000000</td>\n",
       "      <td>729.000000</td>\n",
       "      <td>232.000000</td>\n",
       "    </tr>\n",
       "    <tr>\n",
       "      <th>max</th>\n",
       "      <td>50.000000</td>\n",
       "      <td>7.630000e+08</td>\n",
       "      <td>900.000000</td>\n",
       "      <td>19.000000</td>\n",
       "      <td>100.000000</td>\n",
       "      <td>60.000000</td>\n",
       "      <td>409.700000</td>\n",
       "      <td>33.000000</td>\n",
       "      <td>112.000000</td>\n",
       "      <td>5.000000</td>\n",
       "      <td>84869.000000</td>\n",
       "      <td>65968.000000</td>\n",
       "      <td>3.000000</td>\n",
       "      <td>3190.000000</td>\n",
       "      <td>3.000000</td>\n",
       "      <td>1344.000000</td>\n",
       "      <td>1580.000000</td>\n",
       "    </tr>\n",
       "  </tbody>\n",
       "</table>\n",
       "</div>"
      ],
      "text/plain": [
       "       total_images    last_price    total_area         rooms  ceiling_height  \\\n",
       "count  23699.000000  2.369900e+04  23699.000000  23699.000000    14504.000000   \n",
       "mean       9.858475  6.541549e+06     60.348651      2.070636        2.771499   \n",
       "std        5.682529  1.088701e+07     35.654083      1.078405        1.261056   \n",
       "min        0.000000  1.219000e+04     12.000000      0.000000        1.000000   \n",
       "25%        6.000000  3.400000e+06     40.000000      1.000000        2.520000   \n",
       "50%        9.000000  4.650000e+06     52.000000      2.000000        2.650000   \n",
       "75%       14.000000  6.800000e+06     69.900000      3.000000        2.800000   \n",
       "max       50.000000  7.630000e+08    900.000000     19.000000      100.000000   \n",
       "\n",
       "       floors_total   living_area         floor  kitchen_area       balcony  \\\n",
       "count  23613.000000  21796.000000  23699.000000  21421.000000  12180.000000   \n",
       "mean      10.673824     34.457852      5.892358     10.569807      1.150082   \n",
       "std        6.597173     22.030445      4.885249      5.905438      1.071300   \n",
       "min        1.000000      2.000000      1.000000      1.300000      0.000000   \n",
       "25%        5.000000     18.600000      2.000000      7.000000      0.000000   \n",
       "50%        9.000000     30.000000      4.000000      9.100000      1.000000   \n",
       "75%       16.000000     42.300000      8.000000     12.000000      2.000000   \n",
       "max       60.000000    409.700000     33.000000    112.000000      5.000000   \n",
       "\n",
       "       airports_nearest  cityCenters_nearest  parks_around3000  parks_nearest  \\\n",
       "count      18157.000000         18180.000000      18181.000000    8079.000000   \n",
       "mean       28793.672193         14191.277833          0.611408     490.804555   \n",
       "std        12630.880622          8608.386210          0.802074     342.317995   \n",
       "min            0.000000           181.000000          0.000000       1.000000   \n",
       "25%        18585.000000          9238.000000          0.000000     288.000000   \n",
       "50%        26726.000000         13098.500000          0.000000     455.000000   \n",
       "75%        37273.000000         16293.000000          1.000000     612.000000   \n",
       "max        84869.000000         65968.000000          3.000000    3190.000000   \n",
       "\n",
       "       ponds_around3000  ponds_nearest  days_exposition  \n",
       "count      18181.000000    9110.000000     20518.000000  \n",
       "mean           0.770255     517.980900       180.888634  \n",
       "std            0.938346     277.720643       219.727988  \n",
       "min            0.000000      13.000000         1.000000  \n",
       "25%            0.000000     294.000000        45.000000  \n",
       "50%            1.000000     502.000000        95.000000  \n",
       "75%            1.000000     729.000000       232.000000  \n",
       "max            3.000000    1344.000000      1580.000000  "
      ]
     },
     "metadata": {},
     "output_type": "display_data"
    },
    {
     "name": "stdout",
     "output_type": "stream",
     "text": [
      "Дубликаты:\n"
     ]
    },
    {
     "data": {
      "text/plain": [
       "0"
      ]
     },
     "metadata": {},
     "output_type": "display_data"
    },
    {
     "name": "stdout",
     "output_type": "stream",
     "text": [
      "Процент пропущенных значений:\n",
      "ceiling_height - 38.8%\n",
      "floors_total - 0.36%\n",
      "living_area - 8.03%\n",
      "is_apartment - 88.29%\n",
      "kitchen_area - 9.61%\n",
      "balcony - 48.61%\n",
      "locality_name - 0.21%\n",
      "airports_nearest - 23.38%\n",
      "cityCenters_nearest - 23.29%\n",
      "parks_around3000 - 23.28%\n",
      "parks_nearest - 65.91%\n",
      "ponds_around3000 - 23.28%\n",
      "ponds_nearest - 61.56%\n",
      "days_exposition - 13.42%\n"
     ]
    },
    {
     "data": {
      "text/html": [
       "<div>\n",
       "<style scoped>\n",
       "    .dataframe tbody tr th:only-of-type {\n",
       "        vertical-align: middle;\n",
       "    }\n",
       "\n",
       "    .dataframe tbody tr th {\n",
       "        vertical-align: top;\n",
       "    }\n",
       "\n",
       "    .dataframe thead th {\n",
       "        text-align: right;\n",
       "    }\n",
       "</style>\n",
       "<table border=\"1\" class=\"dataframe\">\n",
       "  <thead>\n",
       "    <tr style=\"text-align: right;\">\n",
       "      <th></th>\n",
       "      <th>total_images</th>\n",
       "      <th>last_price</th>\n",
       "      <th>total_area</th>\n",
       "      <th>first_day_exposition</th>\n",
       "      <th>rooms</th>\n",
       "      <th>ceiling_height</th>\n",
       "      <th>floors_total</th>\n",
       "      <th>living_area</th>\n",
       "      <th>floor</th>\n",
       "      <th>is_apartment</th>\n",
       "      <th>...</th>\n",
       "      <th>kitchen_area</th>\n",
       "      <th>balcony</th>\n",
       "      <th>locality_name</th>\n",
       "      <th>airports_nearest</th>\n",
       "      <th>cityCenters_nearest</th>\n",
       "      <th>parks_around3000</th>\n",
       "      <th>parks_nearest</th>\n",
       "      <th>ponds_around3000</th>\n",
       "      <th>ponds_nearest</th>\n",
       "      <th>days_exposition</th>\n",
       "    </tr>\n",
       "  </thead>\n",
       "  <tbody>\n",
       "    <tr>\n",
       "      <th>0</th>\n",
       "      <td>20</td>\n",
       "      <td>13000000.0</td>\n",
       "      <td>108.0</td>\n",
       "      <td>2019-03-07T00:00:00</td>\n",
       "      <td>3</td>\n",
       "      <td>2.70</td>\n",
       "      <td>16.0</td>\n",
       "      <td>51.0</td>\n",
       "      <td>8</td>\n",
       "      <td>NaN</td>\n",
       "      <td>...</td>\n",
       "      <td>25.0</td>\n",
       "      <td>NaN</td>\n",
       "      <td>Санкт-Петербург</td>\n",
       "      <td>18863.0</td>\n",
       "      <td>16028.0</td>\n",
       "      <td>1.0</td>\n",
       "      <td>482.0</td>\n",
       "      <td>2.0</td>\n",
       "      <td>755.0</td>\n",
       "      <td>NaN</td>\n",
       "    </tr>\n",
       "    <tr>\n",
       "      <th>1</th>\n",
       "      <td>7</td>\n",
       "      <td>3350000.0</td>\n",
       "      <td>40.4</td>\n",
       "      <td>2018-12-04T00:00:00</td>\n",
       "      <td>1</td>\n",
       "      <td>NaN</td>\n",
       "      <td>11.0</td>\n",
       "      <td>18.6</td>\n",
       "      <td>1</td>\n",
       "      <td>NaN</td>\n",
       "      <td>...</td>\n",
       "      <td>11.0</td>\n",
       "      <td>2.0</td>\n",
       "      <td>посёлок Шушары</td>\n",
       "      <td>12817.0</td>\n",
       "      <td>18603.0</td>\n",
       "      <td>0.0</td>\n",
       "      <td>NaN</td>\n",
       "      <td>0.0</td>\n",
       "      <td>NaN</td>\n",
       "      <td>81.0</td>\n",
       "    </tr>\n",
       "    <tr>\n",
       "      <th>2</th>\n",
       "      <td>10</td>\n",
       "      <td>5196000.0</td>\n",
       "      <td>56.0</td>\n",
       "      <td>2015-08-20T00:00:00</td>\n",
       "      <td>2</td>\n",
       "      <td>NaN</td>\n",
       "      <td>5.0</td>\n",
       "      <td>34.3</td>\n",
       "      <td>4</td>\n",
       "      <td>NaN</td>\n",
       "      <td>...</td>\n",
       "      <td>8.3</td>\n",
       "      <td>0.0</td>\n",
       "      <td>Санкт-Петербург</td>\n",
       "      <td>21741.0</td>\n",
       "      <td>13933.0</td>\n",
       "      <td>1.0</td>\n",
       "      <td>90.0</td>\n",
       "      <td>2.0</td>\n",
       "      <td>574.0</td>\n",
       "      <td>558.0</td>\n",
       "    </tr>\n",
       "    <tr>\n",
       "      <th>3</th>\n",
       "      <td>0</td>\n",
       "      <td>64900000.0</td>\n",
       "      <td>159.0</td>\n",
       "      <td>2015-07-24T00:00:00</td>\n",
       "      <td>3</td>\n",
       "      <td>NaN</td>\n",
       "      <td>14.0</td>\n",
       "      <td>NaN</td>\n",
       "      <td>9</td>\n",
       "      <td>NaN</td>\n",
       "      <td>...</td>\n",
       "      <td>NaN</td>\n",
       "      <td>0.0</td>\n",
       "      <td>Санкт-Петербург</td>\n",
       "      <td>28098.0</td>\n",
       "      <td>6800.0</td>\n",
       "      <td>2.0</td>\n",
       "      <td>84.0</td>\n",
       "      <td>3.0</td>\n",
       "      <td>234.0</td>\n",
       "      <td>424.0</td>\n",
       "    </tr>\n",
       "    <tr>\n",
       "      <th>4</th>\n",
       "      <td>2</td>\n",
       "      <td>10000000.0</td>\n",
       "      <td>100.0</td>\n",
       "      <td>2018-06-19T00:00:00</td>\n",
       "      <td>2</td>\n",
       "      <td>3.03</td>\n",
       "      <td>14.0</td>\n",
       "      <td>32.0</td>\n",
       "      <td>13</td>\n",
       "      <td>NaN</td>\n",
       "      <td>...</td>\n",
       "      <td>41.0</td>\n",
       "      <td>NaN</td>\n",
       "      <td>Санкт-Петербург</td>\n",
       "      <td>31856.0</td>\n",
       "      <td>8098.0</td>\n",
       "      <td>2.0</td>\n",
       "      <td>112.0</td>\n",
       "      <td>1.0</td>\n",
       "      <td>48.0</td>\n",
       "      <td>121.0</td>\n",
       "    </tr>\n",
       "  </tbody>\n",
       "</table>\n",
       "<p>5 rows × 22 columns</p>\n",
       "</div>"
      ],
      "text/plain": [
       "   total_images  last_price  total_area first_day_exposition  rooms  \\\n",
       "0            20  13000000.0       108.0  2019-03-07T00:00:00      3   \n",
       "1             7   3350000.0        40.4  2018-12-04T00:00:00      1   \n",
       "2            10   5196000.0        56.0  2015-08-20T00:00:00      2   \n",
       "3             0  64900000.0       159.0  2015-07-24T00:00:00      3   \n",
       "4             2  10000000.0       100.0  2018-06-19T00:00:00      2   \n",
       "\n",
       "   ceiling_height  floors_total  living_area  floor is_apartment  ...  \\\n",
       "0            2.70          16.0         51.0      8          NaN  ...   \n",
       "1             NaN          11.0         18.6      1          NaN  ...   \n",
       "2             NaN           5.0         34.3      4          NaN  ...   \n",
       "3             NaN          14.0          NaN      9          NaN  ...   \n",
       "4            3.03          14.0         32.0     13          NaN  ...   \n",
       "\n",
       "   kitchen_area  balcony    locality_name  airports_nearest  \\\n",
       "0          25.0      NaN  Санкт-Петербург           18863.0   \n",
       "1          11.0      2.0   посёлок Шушары           12817.0   \n",
       "2           8.3      0.0  Санкт-Петербург           21741.0   \n",
       "3           NaN      0.0  Санкт-Петербург           28098.0   \n",
       "4          41.0      NaN  Санкт-Петербург           31856.0   \n",
       "\n",
       "  cityCenters_nearest  parks_around3000  parks_nearest  ponds_around3000  \\\n",
       "0             16028.0               1.0          482.0               2.0   \n",
       "1             18603.0               0.0            NaN               0.0   \n",
       "2             13933.0               1.0           90.0               2.0   \n",
       "3              6800.0               2.0           84.0               3.0   \n",
       "4              8098.0               2.0          112.0               1.0   \n",
       "\n",
       "   ponds_nearest  days_exposition  \n",
       "0          755.0              NaN  \n",
       "1            NaN             81.0  \n",
       "2          574.0            558.0  \n",
       "3          234.0            424.0  \n",
       "4           48.0            121.0  \n",
       "\n",
       "[5 rows x 22 columns]"
      ]
     },
     "metadata": {},
     "output_type": "display_data"
    }
   ],
   "source": [
    "data_info(data)"
   ]
  },
  {
   "cell_type": "code",
   "execution_count": 5,
   "metadata": {
    "scrolled": true
   },
   "outputs": [
    {
     "data": {
      "text/html": [
       "<div>\n",
       "<style scoped>\n",
       "    .dataframe tbody tr th:only-of-type {\n",
       "        vertical-align: middle;\n",
       "    }\n",
       "\n",
       "    .dataframe tbody tr th {\n",
       "        vertical-align: top;\n",
       "    }\n",
       "\n",
       "    .dataframe thead th {\n",
       "        text-align: right;\n",
       "    }\n",
       "</style>\n",
       "<table border=\"1\" class=\"dataframe\">\n",
       "  <thead>\n",
       "    <tr style=\"text-align: right;\">\n",
       "      <th></th>\n",
       "      <th>total_images</th>\n",
       "      <th>last_price</th>\n",
       "      <th>total_area</th>\n",
       "      <th>first_day_exposition</th>\n",
       "      <th>rooms</th>\n",
       "      <th>ceiling_height</th>\n",
       "      <th>floors_total</th>\n",
       "      <th>living_area</th>\n",
       "      <th>floor</th>\n",
       "      <th>is_apartment</th>\n",
       "      <th>...</th>\n",
       "      <th>kitchen_area</th>\n",
       "      <th>balcony</th>\n",
       "      <th>locality_name</th>\n",
       "      <th>airports_nearest</th>\n",
       "      <th>cityCenters_nearest</th>\n",
       "      <th>parks_around3000</th>\n",
       "      <th>parks_nearest</th>\n",
       "      <th>ponds_around3000</th>\n",
       "      <th>ponds_nearest</th>\n",
       "      <th>days_exposition</th>\n",
       "    </tr>\n",
       "  </thead>\n",
       "  <tbody>\n",
       "    <tr>\n",
       "      <th>0</th>\n",
       "      <td>20</td>\n",
       "      <td>13000000.0</td>\n",
       "      <td>108.00</td>\n",
       "      <td>2019-03-07T00:00:00</td>\n",
       "      <td>3</td>\n",
       "      <td>2.70</td>\n",
       "      <td>16.0</td>\n",
       "      <td>51.0</td>\n",
       "      <td>8</td>\n",
       "      <td>NaN</td>\n",
       "      <td>...</td>\n",
       "      <td>25.00</td>\n",
       "      <td>NaN</td>\n",
       "      <td>Санкт-Петербург</td>\n",
       "      <td>18863.0</td>\n",
       "      <td>16028.0</td>\n",
       "      <td>1.0</td>\n",
       "      <td>482.0</td>\n",
       "      <td>2.0</td>\n",
       "      <td>755.0</td>\n",
       "      <td>NaN</td>\n",
       "    </tr>\n",
       "    <tr>\n",
       "      <th>1</th>\n",
       "      <td>7</td>\n",
       "      <td>3350000.0</td>\n",
       "      <td>40.40</td>\n",
       "      <td>2018-12-04T00:00:00</td>\n",
       "      <td>1</td>\n",
       "      <td>NaN</td>\n",
       "      <td>11.0</td>\n",
       "      <td>18.6</td>\n",
       "      <td>1</td>\n",
       "      <td>NaN</td>\n",
       "      <td>...</td>\n",
       "      <td>11.00</td>\n",
       "      <td>2.0</td>\n",
       "      <td>посёлок Шушары</td>\n",
       "      <td>12817.0</td>\n",
       "      <td>18603.0</td>\n",
       "      <td>0.0</td>\n",
       "      <td>NaN</td>\n",
       "      <td>0.0</td>\n",
       "      <td>NaN</td>\n",
       "      <td>81.0</td>\n",
       "    </tr>\n",
       "    <tr>\n",
       "      <th>2</th>\n",
       "      <td>10</td>\n",
       "      <td>5196000.0</td>\n",
       "      <td>56.00</td>\n",
       "      <td>2015-08-20T00:00:00</td>\n",
       "      <td>2</td>\n",
       "      <td>NaN</td>\n",
       "      <td>5.0</td>\n",
       "      <td>34.3</td>\n",
       "      <td>4</td>\n",
       "      <td>NaN</td>\n",
       "      <td>...</td>\n",
       "      <td>8.30</td>\n",
       "      <td>0.0</td>\n",
       "      <td>Санкт-Петербург</td>\n",
       "      <td>21741.0</td>\n",
       "      <td>13933.0</td>\n",
       "      <td>1.0</td>\n",
       "      <td>90.0</td>\n",
       "      <td>2.0</td>\n",
       "      <td>574.0</td>\n",
       "      <td>558.0</td>\n",
       "    </tr>\n",
       "    <tr>\n",
       "      <th>3</th>\n",
       "      <td>0</td>\n",
       "      <td>64900000.0</td>\n",
       "      <td>159.00</td>\n",
       "      <td>2015-07-24T00:00:00</td>\n",
       "      <td>3</td>\n",
       "      <td>NaN</td>\n",
       "      <td>14.0</td>\n",
       "      <td>NaN</td>\n",
       "      <td>9</td>\n",
       "      <td>NaN</td>\n",
       "      <td>...</td>\n",
       "      <td>NaN</td>\n",
       "      <td>0.0</td>\n",
       "      <td>Санкт-Петербург</td>\n",
       "      <td>28098.0</td>\n",
       "      <td>6800.0</td>\n",
       "      <td>2.0</td>\n",
       "      <td>84.0</td>\n",
       "      <td>3.0</td>\n",
       "      <td>234.0</td>\n",
       "      <td>424.0</td>\n",
       "    </tr>\n",
       "    <tr>\n",
       "      <th>4</th>\n",
       "      <td>2</td>\n",
       "      <td>10000000.0</td>\n",
       "      <td>100.00</td>\n",
       "      <td>2018-06-19T00:00:00</td>\n",
       "      <td>2</td>\n",
       "      <td>3.03</td>\n",
       "      <td>14.0</td>\n",
       "      <td>32.0</td>\n",
       "      <td>13</td>\n",
       "      <td>NaN</td>\n",
       "      <td>...</td>\n",
       "      <td>41.00</td>\n",
       "      <td>NaN</td>\n",
       "      <td>Санкт-Петербург</td>\n",
       "      <td>31856.0</td>\n",
       "      <td>8098.0</td>\n",
       "      <td>2.0</td>\n",
       "      <td>112.0</td>\n",
       "      <td>1.0</td>\n",
       "      <td>48.0</td>\n",
       "      <td>121.0</td>\n",
       "    </tr>\n",
       "    <tr>\n",
       "      <th>...</th>\n",
       "      <td>...</td>\n",
       "      <td>...</td>\n",
       "      <td>...</td>\n",
       "      <td>...</td>\n",
       "      <td>...</td>\n",
       "      <td>...</td>\n",
       "      <td>...</td>\n",
       "      <td>...</td>\n",
       "      <td>...</td>\n",
       "      <td>...</td>\n",
       "      <td>...</td>\n",
       "      <td>...</td>\n",
       "      <td>...</td>\n",
       "      <td>...</td>\n",
       "      <td>...</td>\n",
       "      <td>...</td>\n",
       "      <td>...</td>\n",
       "      <td>...</td>\n",
       "      <td>...</td>\n",
       "      <td>...</td>\n",
       "      <td>...</td>\n",
       "    </tr>\n",
       "    <tr>\n",
       "      <th>23694</th>\n",
       "      <td>9</td>\n",
       "      <td>9700000.0</td>\n",
       "      <td>133.81</td>\n",
       "      <td>2017-03-21T00:00:00</td>\n",
       "      <td>3</td>\n",
       "      <td>3.70</td>\n",
       "      <td>5.0</td>\n",
       "      <td>73.3</td>\n",
       "      <td>3</td>\n",
       "      <td>NaN</td>\n",
       "      <td>...</td>\n",
       "      <td>13.83</td>\n",
       "      <td>NaN</td>\n",
       "      <td>Санкт-Петербург</td>\n",
       "      <td>24665.0</td>\n",
       "      <td>4232.0</td>\n",
       "      <td>1.0</td>\n",
       "      <td>796.0</td>\n",
       "      <td>3.0</td>\n",
       "      <td>381.0</td>\n",
       "      <td>NaN</td>\n",
       "    </tr>\n",
       "    <tr>\n",
       "      <th>23695</th>\n",
       "      <td>14</td>\n",
       "      <td>3100000.0</td>\n",
       "      <td>59.00</td>\n",
       "      <td>2018-01-15T00:00:00</td>\n",
       "      <td>3</td>\n",
       "      <td>NaN</td>\n",
       "      <td>5.0</td>\n",
       "      <td>38.0</td>\n",
       "      <td>4</td>\n",
       "      <td>NaN</td>\n",
       "      <td>...</td>\n",
       "      <td>8.50</td>\n",
       "      <td>NaN</td>\n",
       "      <td>Тосно</td>\n",
       "      <td>NaN</td>\n",
       "      <td>NaN</td>\n",
       "      <td>NaN</td>\n",
       "      <td>NaN</td>\n",
       "      <td>NaN</td>\n",
       "      <td>NaN</td>\n",
       "      <td>45.0</td>\n",
       "    </tr>\n",
       "    <tr>\n",
       "      <th>23696</th>\n",
       "      <td>18</td>\n",
       "      <td>2500000.0</td>\n",
       "      <td>56.70</td>\n",
       "      <td>2018-02-11T00:00:00</td>\n",
       "      <td>2</td>\n",
       "      <td>NaN</td>\n",
       "      <td>3.0</td>\n",
       "      <td>29.7</td>\n",
       "      <td>1</td>\n",
       "      <td>NaN</td>\n",
       "      <td>...</td>\n",
       "      <td>NaN</td>\n",
       "      <td>NaN</td>\n",
       "      <td>село Рождествено</td>\n",
       "      <td>NaN</td>\n",
       "      <td>NaN</td>\n",
       "      <td>NaN</td>\n",
       "      <td>NaN</td>\n",
       "      <td>NaN</td>\n",
       "      <td>NaN</td>\n",
       "      <td>NaN</td>\n",
       "    </tr>\n",
       "    <tr>\n",
       "      <th>23697</th>\n",
       "      <td>13</td>\n",
       "      <td>11475000.0</td>\n",
       "      <td>76.75</td>\n",
       "      <td>2017-03-28T00:00:00</td>\n",
       "      <td>2</td>\n",
       "      <td>3.00</td>\n",
       "      <td>17.0</td>\n",
       "      <td>NaN</td>\n",
       "      <td>12</td>\n",
       "      <td>NaN</td>\n",
       "      <td>...</td>\n",
       "      <td>23.30</td>\n",
       "      <td>2.0</td>\n",
       "      <td>Санкт-Петербург</td>\n",
       "      <td>39140.0</td>\n",
       "      <td>10364.0</td>\n",
       "      <td>2.0</td>\n",
       "      <td>173.0</td>\n",
       "      <td>3.0</td>\n",
       "      <td>196.0</td>\n",
       "      <td>602.0</td>\n",
       "    </tr>\n",
       "    <tr>\n",
       "      <th>23698</th>\n",
       "      <td>4</td>\n",
       "      <td>1350000.0</td>\n",
       "      <td>32.30</td>\n",
       "      <td>2017-07-21T00:00:00</td>\n",
       "      <td>1</td>\n",
       "      <td>2.50</td>\n",
       "      <td>5.0</td>\n",
       "      <td>12.3</td>\n",
       "      <td>1</td>\n",
       "      <td>NaN</td>\n",
       "      <td>...</td>\n",
       "      <td>9.00</td>\n",
       "      <td>NaN</td>\n",
       "      <td>поселок Новый Учхоз</td>\n",
       "      <td>NaN</td>\n",
       "      <td>NaN</td>\n",
       "      <td>NaN</td>\n",
       "      <td>NaN</td>\n",
       "      <td>NaN</td>\n",
       "      <td>NaN</td>\n",
       "      <td>NaN</td>\n",
       "    </tr>\n",
       "  </tbody>\n",
       "</table>\n",
       "<p>23449 rows × 22 columns</p>\n",
       "</div>"
      ],
      "text/plain": [
       "       total_images  last_price  total_area first_day_exposition  rooms  \\\n",
       "0                20  13000000.0      108.00  2019-03-07T00:00:00      3   \n",
       "1                 7   3350000.0       40.40  2018-12-04T00:00:00      1   \n",
       "2                10   5196000.0       56.00  2015-08-20T00:00:00      2   \n",
       "3                 0  64900000.0      159.00  2015-07-24T00:00:00      3   \n",
       "4                 2  10000000.0      100.00  2018-06-19T00:00:00      2   \n",
       "...             ...         ...         ...                  ...    ...   \n",
       "23694             9   9700000.0      133.81  2017-03-21T00:00:00      3   \n",
       "23695            14   3100000.0       59.00  2018-01-15T00:00:00      3   \n",
       "23696            18   2500000.0       56.70  2018-02-11T00:00:00      2   \n",
       "23697            13  11475000.0       76.75  2017-03-28T00:00:00      2   \n",
       "23698             4   1350000.0       32.30  2017-07-21T00:00:00      1   \n",
       "\n",
       "       ceiling_height  floors_total  living_area  floor is_apartment  ...  \\\n",
       "0                2.70          16.0         51.0      8          NaN  ...   \n",
       "1                 NaN          11.0         18.6      1          NaN  ...   \n",
       "2                 NaN           5.0         34.3      4          NaN  ...   \n",
       "3                 NaN          14.0          NaN      9          NaN  ...   \n",
       "4                3.03          14.0         32.0     13          NaN  ...   \n",
       "...               ...           ...          ...    ...          ...  ...   \n",
       "23694            3.70           5.0         73.3      3          NaN  ...   \n",
       "23695             NaN           5.0         38.0      4          NaN  ...   \n",
       "23696             NaN           3.0         29.7      1          NaN  ...   \n",
       "23697            3.00          17.0          NaN     12          NaN  ...   \n",
       "23698            2.50           5.0         12.3      1          NaN  ...   \n",
       "\n",
       "       kitchen_area  balcony        locality_name  airports_nearest  \\\n",
       "0             25.00      NaN      Санкт-Петербург           18863.0   \n",
       "1             11.00      2.0       посёлок Шушары           12817.0   \n",
       "2              8.30      0.0      Санкт-Петербург           21741.0   \n",
       "3               NaN      0.0      Санкт-Петербург           28098.0   \n",
       "4             41.00      NaN      Санкт-Петербург           31856.0   \n",
       "...             ...      ...                  ...               ...   \n",
       "23694         13.83      NaN      Санкт-Петербург           24665.0   \n",
       "23695          8.50      NaN                Тосно               NaN   \n",
       "23696           NaN      NaN     село Рождествено               NaN   \n",
       "23697         23.30      2.0      Санкт-Петербург           39140.0   \n",
       "23698          9.00      NaN  поселок Новый Учхоз               NaN   \n",
       "\n",
       "      cityCenters_nearest  parks_around3000  parks_nearest  ponds_around3000  \\\n",
       "0                 16028.0               1.0          482.0               2.0   \n",
       "1                 18603.0               0.0            NaN               0.0   \n",
       "2                 13933.0               1.0           90.0               2.0   \n",
       "3                  6800.0               2.0           84.0               3.0   \n",
       "4                  8098.0               2.0          112.0               1.0   \n",
       "...                   ...               ...            ...               ...   \n",
       "23694              4232.0               1.0          796.0               3.0   \n",
       "23695                 NaN               NaN            NaN               NaN   \n",
       "23696                 NaN               NaN            NaN               NaN   \n",
       "23697             10364.0               2.0          173.0               3.0   \n",
       "23698                 NaN               NaN            NaN               NaN   \n",
       "\n",
       "       ponds_nearest  days_exposition  \n",
       "0              755.0              NaN  \n",
       "1                NaN             81.0  \n",
       "2              574.0            558.0  \n",
       "3              234.0            424.0  \n",
       "4               48.0            121.0  \n",
       "...              ...              ...  \n",
       "23694          381.0              NaN  \n",
       "23695            NaN             45.0  \n",
       "23696            NaN              NaN  \n",
       "23697          196.0            602.0  \n",
       "23698            NaN              NaN  \n",
       "\n",
       "[23449 rows x 22 columns]"
      ]
     },
     "execution_count": 5,
     "metadata": {},
     "output_type": "execute_result"
    }
   ],
   "source": [
    "# визуально оцениваем строки с пропусками\n",
    "data.loc[data.isnull().any(axis=1)]"
   ]
  },
  {
   "cell_type": "markdown",
   "metadata": {},
   "source": [
    "### Вывод"
   ]
  },
  {
   "cell_type": "markdown",
   "metadata": {},
   "source": [
    "Было импортировано больше библиотек чем обычно, т.к. предстоит работать с форматом datetime.\n",
    "\n",
    "В данных имеются пропуски, какие-то из них обоснованы отсутствием данных, а в других отсутствующее значение явялется показателем того или иного параметра."
   ]
  },
  {
   "cell_type": "markdown",
   "metadata": {},
   "source": [
    "## Предобработка данных"
   ]
  },
  {
   "cell_type": "code",
   "execution_count": 21,
   "metadata": {
    "scrolled": true
   },
   "outputs": [
    {
     "data": {
      "text/plain": [
       "1     8047\n",
       "2     7940\n",
       "3     5814\n",
       "4     1180\n",
       "5      326\n",
       "0      197\n",
       "6      105\n",
       "7       59\n",
       "8       12\n",
       "9        8\n",
       "10       3\n",
       "11       2\n",
       "14       2\n",
       "19       1\n",
       "16       1\n",
       "12       1\n",
       "15       1\n",
       "Name: rooms, dtype: int64"
      ]
     },
     "execution_count": 21,
     "metadata": {},
     "output_type": "execute_result"
    }
   ],
   "source": [
    "# проверим достаточность данных для возможности применить среднее значение к местах пропусков.\n",
    "\n",
    "data['rooms'].value_counts()"
   ]
  },
  {
   "cell_type": "code",
   "execution_count": 22,
   "metadata": {},
   "outputs": [],
   "source": [
    "#меняем тип данных с object на datetime64[ns] для дальнейшей обработки\n",
    "data['first_day_exposition'] = pd.to_datetime(data['first_day_exposition'], format='%Y-%m-%dT%H:%M:%S', errors='ignore')"
   ]
  },
  {
   "cell_type": "code",
   "execution_count": 23,
   "metadata": {},
   "outputs": [],
   "source": [
    "# убираем строки с значением комнат равным 0, таких значений в данных всего 192 \n",
    "# и это критически не повлияет на дальнейщую визализацию данных\n",
    "data =  data.loc[data['rooms'] != 0]"
   ]
  },
  {
   "cell_type": "code",
   "execution_count": 24,
   "metadata": {},
   "outputs": [],
   "source": [
    "# убираем строки с значением отсутствующим значением общей этажности, таких значений в данных всего 86 \n",
    "# и это критически не повлияет на дальнейщую визализацию данных\n",
    "data = data.loc[data['floors_total'].isna() != True]"
   ]
  },
  {
   "cell_type": "code",
   "execution_count": 25,
   "metadata": {},
   "outputs": [
    {
     "data": {
      "text/plain": [
       "0        0\n",
       "1        2\n",
       "2        0\n",
       "3        0\n",
       "4        0\n",
       "        ..\n",
       "23694    0\n",
       "23695    0\n",
       "23696    0\n",
       "23697    2\n",
       "23698    0\n",
       "Name: balcony, Length: 23419, dtype: int32"
      ]
     },
     "execution_count": 25,
     "metadata": {},
     "output_type": "execute_result"
    }
   ],
   "source": [
    "# все пропуски в колонке balcony со значением NaN имеет смысл считать что равны 0\n",
    "# Так же сразу поменяем значение на int для дальнейших исседований\n",
    "data['balcony'].fillna(0).astype('int')"
   ]
  },
  {
   "cell_type": "code",
   "execution_count": 26,
   "metadata": {},
   "outputs": [],
   "source": [
    "# заполним пропуски высоты потолка на медианное значение, т.к. \n",
    "# они максимально приближены к стандартам строительства и их можно считать корректными для исследования\n",
    "data['ceiling_height'] = data['ceiling_height'].fillna(data['ceiling_height'].median()).round(1)"
   ]
  },
  {
   "cell_type": "code",
   "execution_count": 27,
   "metadata": {
    "scrolled": true
   },
   "outputs": [
    {
     "data": {
      "text/plain": [
       "0         True\n",
       "1        False\n",
       "2        False\n",
       "3        False\n",
       "4        False\n",
       "         ...  \n",
       "23694     True\n",
       "23695    False\n",
       "23696     True\n",
       "23697    False\n",
       "23698     True\n",
       "Length: 23419, dtype: bool"
      ]
     },
     "execution_count": 27,
     "metadata": {},
     "output_type": "execute_result"
    }
   ],
   "source": [
    "# пропущенные значения можем считать \n",
    "data[['first_day_exposition', 'days_exposition']].isnull().any(axis=1)"
   ]
  },
  {
   "cell_type": "code",
   "execution_count": 28,
   "metadata": {},
   "outputs": [],
   "source": [
    "# обработаем колонку locality_name, приведём строки к одному виду и заменим неочевидные дубликаты\n",
    "\n",
    "data['locality_name'] = data['locality_name'].str.lower().replace(['посёлок ',\n",
    "                                                                   'садоводческое некоммерческое товарищество',\n",
    "                                                                   'садовое товарищество ', \n",
    "                                                                   'поселок ',\n",
    "                                                                  'городской поселок ',\n",
    "                                                                  'поселок городского типа ',\n",
    "                                                                  'деревня ',\n",
    "                                                                  'село ',\n",
    "                                                                  'городского типа ',\n",
    "                                                                  'городской '], '', regex=True)"
   ]
  },
  {
   "cell_type": "code",
   "execution_count": 29,
   "metadata": {
    "scrolled": true
   },
   "outputs": [
    {
     "data": {
      "text/plain": [
       "308"
      ]
     },
     "execution_count": 29,
     "metadata": {},
     "output_type": "execute_result"
    }
   ],
   "source": [
    "len(list(data['locality_name'].sort_values().unique()))"
   ]
  },
  {
   "cell_type": "code",
   "execution_count": 30,
   "metadata": {},
   "outputs": [],
   "source": [
    "# заменяем значения высоты пола на медиану\n",
    "data['ceiling_height'] = data['ceiling_height'].fillna(data['ceiling_height'].median()).round(1)"
   ]
  },
  {
   "cell_type": "code",
   "execution_count": 31,
   "metadata": {
    "scrolled": true
   },
   "outputs": [],
   "source": [
    "# комбинация методов groopby и transform позволит применить значения медианы площади кухни и жилой зоны\n",
    "data['kitchen_area'] = data['kitchen_area'].fillna(data.groupby('rooms')['kitchen_area'].transform('median'))\n",
    "data['living_area'] = data['living_area'].fillna(data.groupby('rooms')['living_area'].transform('median'))"
   ]
  },
  {
   "cell_type": "markdown",
   "metadata": {},
   "source": [
    "## Расчёты и добавление результатов в таблицу"
   ]
  },
  {
   "cell_type": "markdown",
   "metadata": {},
   "source": [
    "Вычисляем square_meter_price (цену за квадратный метр комнаты)"
   ]
  },
  {
   "cell_type": "code",
   "execution_count": 32,
   "metadata": {},
   "outputs": [],
   "source": [
    "# высчитываем цену за квадратный метр и меняем значение\n",
    "# меняем тип значения, т.к. обычно цена квадратного метра указывается без десятых долей\n",
    "data['square_meter_price'] = (data['last_price'] / (data['kitchen_area'] + data['living_area'])).astype('int')"
   ]
  },
  {
   "cell_type": "markdown",
   "metadata": {},
   "source": [
    "Создаём колонки day_of_the_week_exposition, month_exposition и year_exposition"
   ]
  },
  {
   "cell_type": "code",
   "execution_count": 33,
   "metadata": {},
   "outputs": [],
   "source": [
    "# создаём колонки дня недели/месяца/года написания объявления\n",
    "data['day_of_the_week_exposition'] = data['first_day_exposition'].dt.weekday\n",
    "data['month_exposition'] = data['first_day_exposition'].dt.month\n",
    "data['year_exposition'] = data['first_day_exposition'].dt.year"
   ]
  },
  {
   "cell_type": "code",
   "execution_count": 34,
   "metadata": {
    "scrolled": true
   },
   "outputs": [
    {
     "data": {
      "text/html": [
       "<div>\n",
       "<style scoped>\n",
       "    .dataframe tbody tr th:only-of-type {\n",
       "        vertical-align: middle;\n",
       "    }\n",
       "\n",
       "    .dataframe tbody tr th {\n",
       "        vertical-align: top;\n",
       "    }\n",
       "\n",
       "    .dataframe thead th {\n",
       "        text-align: right;\n",
       "    }\n",
       "</style>\n",
       "<table border=\"1\" class=\"dataframe\">\n",
       "  <thead>\n",
       "    <tr style=\"text-align: right;\">\n",
       "      <th></th>\n",
       "      <th>first_day_exposition</th>\n",
       "      <th>day_of_the_week_exposition</th>\n",
       "      <th>month_exposition</th>\n",
       "      <th>year_exposition</th>\n",
       "    </tr>\n",
       "  </thead>\n",
       "  <tbody>\n",
       "    <tr>\n",
       "      <th>0</th>\n",
       "      <td>2019-03-07</td>\n",
       "      <td>3</td>\n",
       "      <td>3</td>\n",
       "      <td>2019</td>\n",
       "    </tr>\n",
       "    <tr>\n",
       "      <th>1</th>\n",
       "      <td>2018-12-04</td>\n",
       "      <td>1</td>\n",
       "      <td>12</td>\n",
       "      <td>2018</td>\n",
       "    </tr>\n",
       "    <tr>\n",
       "      <th>2</th>\n",
       "      <td>2015-08-20</td>\n",
       "      <td>3</td>\n",
       "      <td>8</td>\n",
       "      <td>2015</td>\n",
       "    </tr>\n",
       "    <tr>\n",
       "      <th>3</th>\n",
       "      <td>2015-07-24</td>\n",
       "      <td>4</td>\n",
       "      <td>7</td>\n",
       "      <td>2015</td>\n",
       "    </tr>\n",
       "    <tr>\n",
       "      <th>4</th>\n",
       "      <td>2018-06-19</td>\n",
       "      <td>1</td>\n",
       "      <td>6</td>\n",
       "      <td>2018</td>\n",
       "    </tr>\n",
       "  </tbody>\n",
       "</table>\n",
       "</div>"
      ],
      "text/plain": [
       "  first_day_exposition  day_of_the_week_exposition  month_exposition  \\\n",
       "0           2019-03-07                           3                 3   \n",
       "1           2018-12-04                           1                12   \n",
       "2           2015-08-20                           3                 8   \n",
       "3           2015-07-24                           4                 7   \n",
       "4           2018-06-19                           1                 6   \n",
       "\n",
       "   year_exposition  \n",
       "0             2019  \n",
       "1             2018  \n",
       "2             2015  \n",
       "3             2015  \n",
       "4             2018  "
      ]
     },
     "execution_count": 34,
     "metadata": {},
     "output_type": "execute_result"
    }
   ],
   "source": [
    "# проверяем корректность заполнения\n",
    "data[['first_day_exposition', 'day_of_the_week_exposition', 'month_exposition', 'year_exposition']].head(5)"
   ]
  },
  {
   "cell_type": "markdown",
   "metadata": {},
   "source": [
    "Создаём и заполняем колонку floor_categorie"
   ]
  },
  {
   "cell_type": "code",
   "execution_count": 35,
   "metadata": {
    "scrolled": true
   },
   "outputs": [],
   "source": [
    "# создаём колонку для дальнейшего переименования\n",
    "data['floor_categorie'] = data['floor']\n",
    "# переименовываем все 1 в 'первые' этажи\n",
    "data['floor_categorie'] = data['floor_categorie'].where(data['floor_categorie'] != 1, 'первый')\n",
    "# переименовываем все значения этажей которые сходятся с общей этажностью здания и присваиваем ему категорию 'последний'\n",
    "data['floor_categorie'] = data['floor_categorie'].where(data['floor_categorie'] != data['floors_total'], 'последний')\n",
    "# остальные значения переименовываем в 'другие'\n",
    "data['floor_categorie'] = data['floor_categorie'].where((data['floor_categorie'] == 'первый') | (data['floor_categorie'] == 'последний'), 'другой')"
   ]
  },
  {
   "cell_type": "code",
   "execution_count": 36,
   "metadata": {
    "scrolled": true
   },
   "outputs": [
    {
     "data": {
      "text/plain": [
       "другой       17198\n",
       "последний     3325\n",
       "первый        2896\n",
       "Name: floor_categorie, dtype: int64"
      ]
     },
     "execution_count": 36,
     "metadata": {},
     "output_type": "execute_result"
    }
   ],
   "source": [
    "# проверка корректности срабатывания категоризации\n",
    "data['floor_categorie'].value_counts()"
   ]
  },
  {
   "cell_type": "code",
   "execution_count": 37,
   "metadata": {
    "scrolled": false
   },
   "outputs": [
    {
     "data": {
      "text/html": [
       "<div>\n",
       "<style scoped>\n",
       "    .dataframe tbody tr th:only-of-type {\n",
       "        vertical-align: middle;\n",
       "    }\n",
       "\n",
       "    .dataframe tbody tr th {\n",
       "        vertical-align: top;\n",
       "    }\n",
       "\n",
       "    .dataframe thead th {\n",
       "        text-align: right;\n",
       "    }\n",
       "</style>\n",
       "<table border=\"1\" class=\"dataframe\">\n",
       "  <thead>\n",
       "    <tr style=\"text-align: right;\">\n",
       "      <th></th>\n",
       "      <th>kitchen_ratio</th>\n",
       "      <th>living_ratio</th>\n",
       "    </tr>\n",
       "  </thead>\n",
       "  <tbody>\n",
       "    <tr>\n",
       "      <th>0</th>\n",
       "      <td>0.33</td>\n",
       "      <td>0.67</td>\n",
       "    </tr>\n",
       "    <tr>\n",
       "      <th>1</th>\n",
       "      <td>0.37</td>\n",
       "      <td>0.63</td>\n",
       "    </tr>\n",
       "    <tr>\n",
       "      <th>2</th>\n",
       "      <td>0.19</td>\n",
       "      <td>0.81</td>\n",
       "    </tr>\n",
       "    <tr>\n",
       "      <th>3</th>\n",
       "      <td>0.17</td>\n",
       "      <td>0.83</td>\n",
       "    </tr>\n",
       "    <tr>\n",
       "      <th>4</th>\n",
       "      <td>0.56</td>\n",
       "      <td>0.44</td>\n",
       "    </tr>\n",
       "    <tr>\n",
       "      <th>...</th>\n",
       "      <td>...</td>\n",
       "      <td>...</td>\n",
       "    </tr>\n",
       "    <tr>\n",
       "      <th>23694</th>\n",
       "      <td>0.16</td>\n",
       "      <td>0.84</td>\n",
       "    </tr>\n",
       "    <tr>\n",
       "      <th>23695</th>\n",
       "      <td>0.18</td>\n",
       "      <td>0.82</td>\n",
       "    </tr>\n",
       "    <tr>\n",
       "      <th>23696</th>\n",
       "      <td>0.23</td>\n",
       "      <td>0.77</td>\n",
       "    </tr>\n",
       "    <tr>\n",
       "      <th>23697</th>\n",
       "      <td>0.43</td>\n",
       "      <td>0.57</td>\n",
       "    </tr>\n",
       "    <tr>\n",
       "      <th>23698</th>\n",
       "      <td>0.42</td>\n",
       "      <td>0.58</td>\n",
       "    </tr>\n",
       "  </tbody>\n",
       "</table>\n",
       "<p>23419 rows × 2 columns</p>\n",
       "</div>"
      ],
      "text/plain": [
       "       kitchen_ratio  living_ratio\n",
       "0               0.33          0.67\n",
       "1               0.37          0.63\n",
       "2               0.19          0.81\n",
       "3               0.17          0.83\n",
       "4               0.56          0.44\n",
       "...              ...           ...\n",
       "23694           0.16          0.84\n",
       "23695           0.18          0.82\n",
       "23696           0.23          0.77\n",
       "23697           0.43          0.57\n",
       "23698           0.42          0.58\n",
       "\n",
       "[23419 rows x 2 columns]"
      ]
     },
     "execution_count": 37,
     "metadata": {},
     "output_type": "execute_result"
    }
   ],
   "source": [
    "# высчитываем соотношения кухни и жилой зоны к площади квартиры\n",
    "\n",
    "data['total_area'] = data['kitchen_area'] + data['living_area']\n",
    "data['kitchen_ratio'] = data['kitchen_area'] / data['total_area']\n",
    "data['living_ratio'] = data['living_area'] / data['total_area']\n",
    "\n",
    "# округляем значения для простоты понимания\n",
    "data[['kitchen_ratio', 'living_ratio']].round(2)"
   ]
  },
  {
   "cell_type": "code",
   "execution_count": 38,
   "metadata": {
    "scrolled": false
   },
   "outputs": [
    {
     "data": {
      "text/html": [
       "<div>\n",
       "<style scoped>\n",
       "    .dataframe tbody tr th:only-of-type {\n",
       "        vertical-align: middle;\n",
       "    }\n",
       "\n",
       "    .dataframe tbody tr th {\n",
       "        vertical-align: top;\n",
       "    }\n",
       "\n",
       "    .dataframe thead th {\n",
       "        text-align: right;\n",
       "    }\n",
       "</style>\n",
       "<table border=\"1\" class=\"dataframe\">\n",
       "  <thead>\n",
       "    <tr style=\"text-align: right;\">\n",
       "      <th></th>\n",
       "      <th>first_day_exposition</th>\n",
       "      <th>days_exposition</th>\n",
       "    </tr>\n",
       "  </thead>\n",
       "  <tbody>\n",
       "    <tr>\n",
       "      <th>0</th>\n",
       "      <td>2019-03-07</td>\n",
       "      <td>NaN</td>\n",
       "    </tr>\n",
       "    <tr>\n",
       "      <th>7</th>\n",
       "      <td>2019-04-18</td>\n",
       "      <td>NaN</td>\n",
       "    </tr>\n",
       "    <tr>\n",
       "      <th>44</th>\n",
       "      <td>2018-11-18</td>\n",
       "      <td>NaN</td>\n",
       "    </tr>\n",
       "    <tr>\n",
       "      <th>45</th>\n",
       "      <td>2018-12-02</td>\n",
       "      <td>NaN</td>\n",
       "    </tr>\n",
       "    <tr>\n",
       "      <th>46</th>\n",
       "      <td>2019-01-31</td>\n",
       "      <td>NaN</td>\n",
       "    </tr>\n",
       "    <tr>\n",
       "      <th>...</th>\n",
       "      <td>...</td>\n",
       "      <td>...</td>\n",
       "    </tr>\n",
       "    <tr>\n",
       "      <th>23684</th>\n",
       "      <td>2018-11-02</td>\n",
       "      <td>NaN</td>\n",
       "    </tr>\n",
       "    <tr>\n",
       "      <th>23685</th>\n",
       "      <td>2019-01-24</td>\n",
       "      <td>NaN</td>\n",
       "    </tr>\n",
       "    <tr>\n",
       "      <th>23694</th>\n",
       "      <td>2017-03-21</td>\n",
       "      <td>NaN</td>\n",
       "    </tr>\n",
       "    <tr>\n",
       "      <th>23696</th>\n",
       "      <td>2018-02-11</td>\n",
       "      <td>NaN</td>\n",
       "    </tr>\n",
       "    <tr>\n",
       "      <th>23698</th>\n",
       "      <td>2017-07-21</td>\n",
       "      <td>NaN</td>\n",
       "    </tr>\n",
       "  </tbody>\n",
       "</table>\n",
       "<p>3158 rows × 2 columns</p>\n",
       "</div>"
      ],
      "text/plain": [
       "      first_day_exposition  days_exposition\n",
       "0               2019-03-07              NaN\n",
       "7               2019-04-18              NaN\n",
       "44              2018-11-18              NaN\n",
       "45              2018-12-02              NaN\n",
       "46              2019-01-31              NaN\n",
       "...                    ...              ...\n",
       "23684           2018-11-02              NaN\n",
       "23685           2019-01-24              NaN\n",
       "23694           2017-03-21              NaN\n",
       "23696           2018-02-11              NaN\n",
       "23698           2017-07-21              NaN\n",
       "\n",
       "[3158 rows x 2 columns]"
      ]
     },
     "execution_count": 38,
     "metadata": {},
     "output_type": "execute_result"
    }
   ],
   "source": [
    "# пропущенные значения в колонке days_exposition буду считать всё ещё \n",
    "# находящимися там на момент выгрузки данных, а значит нужно будет найти разницу, считая что день выгрузки БД это 2019-05-03\n",
    "\n",
    "data.loc[data['days_exposition'].isnull()][['first_day_exposition', 'days_exposition']]"
   ]
  },
  {
   "cell_type": "markdown",
   "metadata": {},
   "source": [
    "## Исследовательский анализ данных"
   ]
  },
  {
   "cell_type": "markdown",
   "metadata": {},
   "source": [
    "изучены следующие параметры: площадь, цена, число комнат, высота потолков (заменены пропуски)\n",
    "\n",
    "построены гистограммы для каждого параметра"
   ]
  },
  {
   "cell_type": "code",
   "execution_count": 39,
   "metadata": {},
   "outputs": [],
   "source": [
    "# построим отдельный датасет для удобства работы с данными для потсроения гистограмм\n",
    "histogramms_data = data[['total_area', 'square_meter_price', 'rooms', 'ceiling_height']]"
   ]
  },
  {
   "cell_type": "code",
   "execution_count": 40,
   "metadata": {
    "scrolled": true
   },
   "outputs": [
    {
     "data": {
      "text/plain": [
       "<AxesSubplot:title={'center':'гистограмма столбца total_area'}, ylabel='Frequency'>"
      ]
     },
     "execution_count": 40,
     "metadata": {},
     "output_type": "execute_result"
    },
    {
     "data": {
      "image/png": "[encoded data removed]",
      "text/plain": [
       "<Figure size 432x288 with 1 Axes>"
      ]
     },
     "metadata": {
      "needs_background": "light"
     },
     "output_type": "display_data"
    }
   ],
   "source": [
    "# гистограмма для колонки total_area\n",
    "histogramms_data['total_area'].plot(kind='hist', bins=50, title='гистограмма столбца total_area', grid=True)"
   ]
  },
  {
   "cell_type": "code",
   "execution_count": 41,
   "metadata": {},
   "outputs": [
    {
     "data": {
      "text/plain": [
       "<AxesSubplot:title={'center':'цена за квадратный метр'}, ylabel='Frequency'>"
      ]
     },
     "execution_count": 41,
     "metadata": {},
     "output_type": "execute_result"
    },
    {
     "data": {
      "image/png": "[encoded data removed]",
      "text/plain": [
       "<Figure size 432x288 with 1 Axes>"
      ]
     },
     "metadata": {
      "needs_background": "light"
     },
     "output_type": "display_data"
    }
   ],
   "source": [
    "# гистограмма для колонки square_meter_price\n",
    "\n",
    "\n",
    "histogramms_data['square_meter_price'].plot(kind='hist', y='square_meter_price', bins=30, title='цена за квадратный метр', grid=True)"
   ]
  },
  {
   "cell_type": "code",
   "execution_count": 42,
   "metadata": {},
   "outputs": [
    {
     "data": {
      "text/plain": [
       "<AxesSubplot:title={'center':'гистограмма по количеству комнат'}, ylabel='Frequency'>"
      ]
     },
     "execution_count": 42,
     "metadata": {},
     "output_type": "execute_result"
    },
    {
     "data": {
      "image/png": "[encoded data removed]",
      "text/plain": [
       "<Figure size 432x288 with 1 Axes>"
      ]
     },
     "metadata": {
      "needs_background": "light"
     },
     "output_type": "display_data"
    }
   ],
   "source": [
    "# гистограмма для колонки rooms\n",
    "histogramms_data['rooms'].plot(kind='hist', y='rooms', bins=15, title='гистограмма по количеству комнат', grid=True)"
   ]
  },
  {
   "cell_type": "code",
   "execution_count": 43,
   "metadata": {
    "scrolled": false
   },
   "outputs": [
    {
     "data": {
      "text/plain": [
       "<AxesSubplot:title={'center':'гистограмма по высоте потолка'}, ylabel='Frequency'>"
      ]
     },
     "execution_count": 43,
     "metadata": {},
     "output_type": "execute_result"
    },
    {
     "data": {
      "image/png": "[encoded data removed]",
      "text/plain": [
       "<Figure size 432x288 with 1 Axes>"
      ]
     },
     "metadata": {
      "needs_background": "light"
     },
     "output_type": "display_data"
    }
   ],
   "source": [
    "# гистограмма для колонки ceiling_height\n",
    "histogramms_data['ceiling_height'].plot(kind='hist', bins=20, range=(1, 6), title='гистограмма по высоте потолка', grid=True)"
   ]
  },
  {
   "cell_type": "markdown",
   "metadata": {},
   "source": [
    "# Задание\n",
    "\"Изучите время продажи квартиры. Постройте гистограмму. Посчитайте среднее и медиану. Опишите, сколько обычно занимает продажа. Когда можно считать, что продажи прошли очень быстро, а когда необычно долго?\"\n",
    "\"Уберите редкие и выбивающиеся значения. Опишите, какие особенности обнаружили.\""
   ]
  },
  {
   "cell_type": "code",
   "execution_count": 44,
   "metadata": {
    "scrolled": false
   },
   "outputs": [
    {
     "data": {
      "text/plain": [
       "count    20261.000000\n",
       "mean       181.511722\n",
       "std        220.045540\n",
       "min          1.000000\n",
       "25%         45.000000\n",
       "50%         96.000000\n",
       "75%        232.000000\n",
       "max       1580.000000\n",
       "Name: days_exposition, dtype: float64"
      ]
     },
     "execution_count": 44,
     "metadata": {},
     "output_type": "execute_result"
    }
   ],
   "source": [
    "#отбросим пропуски в колонке days_exposition т.к. квартиры на момент выгрузки не были проданы и не отвечают вопросам задачи\n",
    "\n",
    "data['days_exposition'].dropna().describe()"
   ]
  },
  {
   "cell_type": "markdown",
   "metadata": {},
   "source": [
    "среднее значение равно 181.5 дням, а медиана 96 дням. Разлёт почти в 2 раза говорит нам о наличии выбросов и мы видим их в describe минимальное значение равно 1 день, а максимальное аж 1580 дням. Оценив график мы видим что большенство объявлений закрываются спустя 100 дней после открытия, далее идёт Паусоновское распредиление графика, стремящегося к 0"
   ]
  },
  {
   "cell_type": "code",
   "execution_count": 45,
   "metadata": {
    "scrolled": false
   },
   "outputs": [
    {
     "data": {
      "text/plain": [
       "array([[<AxesSubplot:title={'center':'days_exposition'}>]], dtype=object)"
      ]
     },
     "execution_count": 45,
     "metadata": {},
     "output_type": "execute_result"
    },
    {
     "data": {
      "image/png": "[encoded data removed]",
      "text/plain": [
       "<Figure size 432x288 with 1 Axes>"
      ]
     },
     "metadata": {
      "needs_background": "light"
     },
     "output_type": "display_data"
    }
   ],
   "source": [
    "# анализируем выбросы в данных на гистограмме\n",
    "data.dropna().hist('days_exposition')"
   ]
  },
  {
   "cell_type": "code",
   "execution_count": 46,
   "metadata": {},
   "outputs": [
    {
     "data": {
      "text/plain": [
       "<AxesSubplot:>"
      ]
     },
     "execution_count": 46,
     "metadata": {},
     "output_type": "execute_result"
    },
    {
     "data": {
      "image/png": "[encoded data removed]",
      "text/plain": [
       "<Figure size 432x288 with 1 Axes>"
      ]
     },
     "metadata": {
      "needs_background": "light"
     },
     "output_type": "display_data"
    }
   ],
   "source": [
    "# анализируем выбросы в данных на диаграмме размаха\n",
    "data.dropna().boxplot('days_exposition')"
   ]
  },
  {
   "cell_type": "code",
   "execution_count": 47,
   "metadata": {
    "scrolled": true
   },
   "outputs": [],
   "source": [
    "# определяем границы усов для устранения выбросов\n",
    "outliners_days = data['days_exposition'].describe()\n",
    "\n",
    "outliners_days_q1 = (outliners_days['25%'] - 1.5 * (outliners_days['75%'] - outliners_days['25%']))\n",
    "outliners_days_q3 = (outliners_days['75%'] + 1.5 * (outliners_days['75%'] - outliners_days['25%']))"
   ]
  },
  {
   "cell_type": "code",
   "execution_count": 48,
   "metadata": {},
   "outputs": [
    {
     "data": {
      "text/plain": [
       "<AxesSubplot:>"
      ]
     },
     "execution_count": 48,
     "metadata": {},
     "output_type": "execute_result"
    },
    {
     "data": {
      "image/png": "[encoded data removed]",
      "text/plain": [
       "<Figure size 432x288 with 1 Axes>"
      ]
     },
     "metadata": {
      "needs_background": "light"
     },
     "output_type": "display_data"
    }
   ],
   "source": [
    "# данные без выбросов\n",
    "data.query('days_exposition > @outliners_days_q1 and days_exposition < @outliners_days_q3').boxplot('days_exposition')"
   ]
  },
  {
   "cell_type": "code",
   "execution_count": 49,
   "metadata": {
    "scrolled": true
   },
   "outputs": [
    {
     "data": {
      "text/plain": [
       "count    18606.000000\n",
       "mean       129.181931\n",
       "std        121.727377\n",
       "min          1.000000\n",
       "25%         42.000000\n",
       "50%         85.000000\n",
       "75%        183.000000\n",
       "max        512.000000\n",
       "Name: days_exposition, dtype: float64"
      ]
     },
     "execution_count": 49,
     "metadata": {},
     "output_type": "execute_result"
    }
   ],
   "source": [
    "# описание данных без выбросов\n",
    "data.query('days_exposition > @outliners_days_q1 and days_exposition < @outliners_days_q3')['days_exposition'].describe()"
   ]
  },
  {
   "cell_type": "code",
   "execution_count": 50,
   "metadata": {
    "scrolled": true
   },
   "outputs": [
    {
     "data": {
      "text/plain": [
       "<AxesSubplot:ylabel='Frequency'>"
      ]
     },
     "execution_count": 50,
     "metadata": {},
     "output_type": "execute_result"
    },
    {
     "data": {
      "image/png": "[encoded data removed]",
      "text/plain": [
       "<Figure size 432x288 with 1 Axes>"
      ]
     },
     "metadata": {
      "needs_background": "light"
     },
     "output_type": "display_data"
    }
   ],
   "source": [
    "# гитсограмма без выбросов\n",
    "data.query('days_exposition > @outliners_days_q1 and days_exposition < @outliners_days_q3')['days_exposition'].plot(kind='hist', bins=50)"
   ]
  },
  {
   "cell_type": "code",
   "execution_count": 51,
   "metadata": {
    "scrolled": true
   },
   "outputs": [
    {
     "data": {
      "text/html": [
       "<div>\n",
       "<style scoped>\n",
       "    .dataframe tbody tr th:only-of-type {\n",
       "        vertical-align: middle;\n",
       "    }\n",
       "\n",
       "    .dataframe tbody tr th {\n",
       "        vertical-align: top;\n",
       "    }\n",
       "\n",
       "    .dataframe thead th {\n",
       "        text-align: right;\n",
       "    }\n",
       "</style>\n",
       "<table border=\"1\" class=\"dataframe\">\n",
       "  <thead>\n",
       "    <tr style=\"text-align: right;\">\n",
       "      <th></th>\n",
       "      <th>total_images</th>\n",
       "      <th>last_price</th>\n",
       "      <th>total_area</th>\n",
       "      <th>first_day_exposition</th>\n",
       "      <th>rooms</th>\n",
       "      <th>ceiling_height</th>\n",
       "      <th>floors_total</th>\n",
       "      <th>living_area</th>\n",
       "      <th>floor</th>\n",
       "      <th>is_apartment</th>\n",
       "      <th>...</th>\n",
       "      <th>ponds_around3000</th>\n",
       "      <th>ponds_nearest</th>\n",
       "      <th>days_exposition</th>\n",
       "      <th>square_meter_price</th>\n",
       "      <th>day_of_the_week_exposition</th>\n",
       "      <th>month_exposition</th>\n",
       "      <th>year_exposition</th>\n",
       "      <th>floor_categorie</th>\n",
       "      <th>kitchen_ratio</th>\n",
       "      <th>living_ratio</th>\n",
       "    </tr>\n",
       "  </thead>\n",
       "  <tbody>\n",
       "    <tr>\n",
       "      <th>78</th>\n",
       "      <td>9</td>\n",
       "      <td>4350000.0</td>\n",
       "      <td>28.7</td>\n",
       "      <td>2018-02-22</td>\n",
       "      <td>1</td>\n",
       "      <td>2.6</td>\n",
       "      <td>19.0</td>\n",
       "      <td>18.0</td>\n",
       "      <td>6</td>\n",
       "      <td>NaN</td>\n",
       "      <td>...</td>\n",
       "      <td>0.0</td>\n",
       "      <td>NaN</td>\n",
       "      <td>45.0</td>\n",
       "      <td>151567</td>\n",
       "      <td>3</td>\n",
       "      <td>2</td>\n",
       "      <td>2018</td>\n",
       "      <td>другой</td>\n",
       "      <td>0.372822</td>\n",
       "      <td>0.627178</td>\n",
       "    </tr>\n",
       "    <tr>\n",
       "      <th>89</th>\n",
       "      <td>9</td>\n",
       "      <td>2500000.0</td>\n",
       "      <td>52.0</td>\n",
       "      <td>2018-10-25</td>\n",
       "      <td>3</td>\n",
       "      <td>2.5</td>\n",
       "      <td>5.0</td>\n",
       "      <td>43.0</td>\n",
       "      <td>4</td>\n",
       "      <td>NaN</td>\n",
       "      <td>...</td>\n",
       "      <td>NaN</td>\n",
       "      <td>NaN</td>\n",
       "      <td>45.0</td>\n",
       "      <td>48076</td>\n",
       "      <td>3</td>\n",
       "      <td>10</td>\n",
       "      <td>2018</td>\n",
       "      <td>другой</td>\n",
       "      <td>0.173077</td>\n",
       "      <td>0.826923</td>\n",
       "    </tr>\n",
       "    <tr>\n",
       "      <th>110</th>\n",
       "      <td>6</td>\n",
       "      <td>3850000.0</td>\n",
       "      <td>51.0</td>\n",
       "      <td>2017-09-29</td>\n",
       "      <td>2</td>\n",
       "      <td>2.6</td>\n",
       "      <td>3.0</td>\n",
       "      <td>27.4</td>\n",
       "      <td>2</td>\n",
       "      <td>NaN</td>\n",
       "      <td>...</td>\n",
       "      <td>NaN</td>\n",
       "      <td>NaN</td>\n",
       "      <td>45.0</td>\n",
       "      <td>75490</td>\n",
       "      <td>4</td>\n",
       "      <td>9</td>\n",
       "      <td>2017</td>\n",
       "      <td>другой</td>\n",
       "      <td>0.462745</td>\n",
       "      <td>0.537255</td>\n",
       "    </tr>\n",
       "    <tr>\n",
       "      <th>132</th>\n",
       "      <td>13</td>\n",
       "      <td>2699000.0</td>\n",
       "      <td>25.0</td>\n",
       "      <td>2017-10-13</td>\n",
       "      <td>1</td>\n",
       "      <td>2.5</td>\n",
       "      <td>9.0</td>\n",
       "      <td>19.0</td>\n",
       "      <td>7</td>\n",
       "      <td>NaN</td>\n",
       "      <td>...</td>\n",
       "      <td>0.0</td>\n",
       "      <td>NaN</td>\n",
       "      <td>49.0</td>\n",
       "      <td>107960</td>\n",
       "      <td>4</td>\n",
       "      <td>10</td>\n",
       "      <td>2017</td>\n",
       "      <td>другой</td>\n",
       "      <td>0.240000</td>\n",
       "      <td>0.760000</td>\n",
       "    </tr>\n",
       "    <tr>\n",
       "      <th>153</th>\n",
       "      <td>12</td>\n",
       "      <td>4350000.0</td>\n",
       "      <td>39.5</td>\n",
       "      <td>2017-05-21</td>\n",
       "      <td>2</td>\n",
       "      <td>2.6</td>\n",
       "      <td>9.0</td>\n",
       "      <td>31.2</td>\n",
       "      <td>2</td>\n",
       "      <td>NaN</td>\n",
       "      <td>...</td>\n",
       "      <td>0.0</td>\n",
       "      <td>NaN</td>\n",
       "      <td>45.0</td>\n",
       "      <td>110126</td>\n",
       "      <td>6</td>\n",
       "      <td>5</td>\n",
       "      <td>2017</td>\n",
       "      <td>другой</td>\n",
       "      <td>0.210127</td>\n",
       "      <td>0.789873</td>\n",
       "    </tr>\n",
       "    <tr>\n",
       "      <th>...</th>\n",
       "      <td>...</td>\n",
       "      <td>...</td>\n",
       "      <td>...</td>\n",
       "      <td>...</td>\n",
       "      <td>...</td>\n",
       "      <td>...</td>\n",
       "      <td>...</td>\n",
       "      <td>...</td>\n",
       "      <td>...</td>\n",
       "      <td>...</td>\n",
       "      <td>...</td>\n",
       "      <td>...</td>\n",
       "      <td>...</td>\n",
       "      <td>...</td>\n",
       "      <td>...</td>\n",
       "      <td>...</td>\n",
       "      <td>...</td>\n",
       "      <td>...</td>\n",
       "      <td>...</td>\n",
       "      <td>...</td>\n",
       "      <td>...</td>\n",
       "    </tr>\n",
       "    <tr>\n",
       "      <th>23613</th>\n",
       "      <td>4</td>\n",
       "      <td>3950000.0</td>\n",
       "      <td>54.5</td>\n",
       "      <td>2018-03-04</td>\n",
       "      <td>3</td>\n",
       "      <td>2.6</td>\n",
       "      <td>5.0</td>\n",
       "      <td>45.0</td>\n",
       "      <td>2</td>\n",
       "      <td>NaN</td>\n",
       "      <td>...</td>\n",
       "      <td>0.0</td>\n",
       "      <td>NaN</td>\n",
       "      <td>45.0</td>\n",
       "      <td>72477</td>\n",
       "      <td>6</td>\n",
       "      <td>3</td>\n",
       "      <td>2018</td>\n",
       "      <td>другой</td>\n",
       "      <td>0.174312</td>\n",
       "      <td>0.825688</td>\n",
       "    </tr>\n",
       "    <tr>\n",
       "      <th>23636</th>\n",
       "      <td>16</td>\n",
       "      <td>4100000.0</td>\n",
       "      <td>44.9</td>\n",
       "      <td>2017-12-06</td>\n",
       "      <td>2</td>\n",
       "      <td>2.6</td>\n",
       "      <td>17.0</td>\n",
       "      <td>34.0</td>\n",
       "      <td>15</td>\n",
       "      <td>NaN</td>\n",
       "      <td>...</td>\n",
       "      <td>3.0</td>\n",
       "      <td>501.0</td>\n",
       "      <td>48.0</td>\n",
       "      <td>91314</td>\n",
       "      <td>2</td>\n",
       "      <td>12</td>\n",
       "      <td>2017</td>\n",
       "      <td>другой</td>\n",
       "      <td>0.242762</td>\n",
       "      <td>0.757238</td>\n",
       "    </tr>\n",
       "    <tr>\n",
       "      <th>23670</th>\n",
       "      <td>9</td>\n",
       "      <td>2450000.0</td>\n",
       "      <td>26.6</td>\n",
       "      <td>2018-02-08</td>\n",
       "      <td>1</td>\n",
       "      <td>2.8</td>\n",
       "      <td>9.0</td>\n",
       "      <td>17.6</td>\n",
       "      <td>2</td>\n",
       "      <td>NaN</td>\n",
       "      <td>...</td>\n",
       "      <td>NaN</td>\n",
       "      <td>NaN</td>\n",
       "      <td>45.0</td>\n",
       "      <td>92105</td>\n",
       "      <td>3</td>\n",
       "      <td>2</td>\n",
       "      <td>2018</td>\n",
       "      <td>другой</td>\n",
       "      <td>0.338346</td>\n",
       "      <td>0.661654</td>\n",
       "    </tr>\n",
       "    <tr>\n",
       "      <th>23679</th>\n",
       "      <td>0</td>\n",
       "      <td>2500000.0</td>\n",
       "      <td>26.6</td>\n",
       "      <td>2017-12-08</td>\n",
       "      <td>1</td>\n",
       "      <td>2.6</td>\n",
       "      <td>9.0</td>\n",
       "      <td>17.6</td>\n",
       "      <td>4</td>\n",
       "      <td>NaN</td>\n",
       "      <td>...</td>\n",
       "      <td>NaN</td>\n",
       "      <td>NaN</td>\n",
       "      <td>45.0</td>\n",
       "      <td>93984</td>\n",
       "      <td>4</td>\n",
       "      <td>12</td>\n",
       "      <td>2017</td>\n",
       "      <td>другой</td>\n",
       "      <td>0.338346</td>\n",
       "      <td>0.661654</td>\n",
       "    </tr>\n",
       "    <tr>\n",
       "      <th>23695</th>\n",
       "      <td>14</td>\n",
       "      <td>3100000.0</td>\n",
       "      <td>46.5</td>\n",
       "      <td>2018-01-15</td>\n",
       "      <td>3</td>\n",
       "      <td>2.6</td>\n",
       "      <td>5.0</td>\n",
       "      <td>38.0</td>\n",
       "      <td>4</td>\n",
       "      <td>NaN</td>\n",
       "      <td>...</td>\n",
       "      <td>NaN</td>\n",
       "      <td>NaN</td>\n",
       "      <td>45.0</td>\n",
       "      <td>66666</td>\n",
       "      <td>0</td>\n",
       "      <td>1</td>\n",
       "      <td>2018</td>\n",
       "      <td>другой</td>\n",
       "      <td>0.182796</td>\n",
       "      <td>0.817204</td>\n",
       "    </tr>\n",
       "  </tbody>\n",
       "</table>\n",
       "<p>1240 rows × 29 columns</p>\n",
       "</div>"
      ],
      "text/plain": [
       "       total_images  last_price  total_area first_day_exposition  rooms  \\\n",
       "78                9   4350000.0        28.7           2018-02-22      1   \n",
       "89                9   2500000.0        52.0           2018-10-25      3   \n",
       "110               6   3850000.0        51.0           2017-09-29      2   \n",
       "132              13   2699000.0        25.0           2017-10-13      1   \n",
       "153              12   4350000.0        39.5           2017-05-21      2   \n",
       "...             ...         ...         ...                  ...    ...   \n",
       "23613             4   3950000.0        54.5           2018-03-04      3   \n",
       "23636            16   4100000.0        44.9           2017-12-06      2   \n",
       "23670             9   2450000.0        26.6           2018-02-08      1   \n",
       "23679             0   2500000.0        26.6           2017-12-08      1   \n",
       "23695            14   3100000.0        46.5           2018-01-15      3   \n",
       "\n",
       "       ceiling_height  floors_total  living_area  floor is_apartment  ...  \\\n",
       "78                2.6          19.0         18.0      6          NaN  ...   \n",
       "89                2.5           5.0         43.0      4          NaN  ...   \n",
       "110               2.6           3.0         27.4      2          NaN  ...   \n",
       "132               2.5           9.0         19.0      7          NaN  ...   \n",
       "153               2.6           9.0         31.2      2          NaN  ...   \n",
       "...               ...           ...          ...    ...          ...  ...   \n",
       "23613             2.6           5.0         45.0      2          NaN  ...   \n",
       "23636             2.6          17.0         34.0     15          NaN  ...   \n",
       "23670             2.8           9.0         17.6      2          NaN  ...   \n",
       "23679             2.6           9.0         17.6      4          NaN  ...   \n",
       "23695             2.6           5.0         38.0      4          NaN  ...   \n",
       "\n",
       "       ponds_around3000  ponds_nearest  days_exposition  square_meter_price  \\\n",
       "78                  0.0            NaN             45.0              151567   \n",
       "89                  NaN            NaN             45.0               48076   \n",
       "110                 NaN            NaN             45.0               75490   \n",
       "132                 0.0            NaN             49.0              107960   \n",
       "153                 0.0            NaN             45.0              110126   \n",
       "...                 ...            ...              ...                 ...   \n",
       "23613               0.0            NaN             45.0               72477   \n",
       "23636               3.0          501.0             48.0               91314   \n",
       "23670               NaN            NaN             45.0               92105   \n",
       "23679               NaN            NaN             45.0               93984   \n",
       "23695               NaN            NaN             45.0               66666   \n",
       "\n",
       "      day_of_the_week_exposition  month_exposition  year_exposition  \\\n",
       "78                             3                 2             2018   \n",
       "89                             3                10             2018   \n",
       "110                            4                 9             2017   \n",
       "132                            4                10             2017   \n",
       "153                            6                 5             2017   \n",
       "...                          ...               ...              ...   \n",
       "23613                          6                 3             2018   \n",
       "23636                          2                12             2017   \n",
       "23670                          3                 2             2018   \n",
       "23679                          4                12             2017   \n",
       "23695                          0                 1             2018   \n",
       "\n",
       "       floor_categorie  kitchen_ratio  living_ratio  \n",
       "78              другой       0.372822      0.627178  \n",
       "89              другой       0.173077      0.826923  \n",
       "110             другой       0.462745      0.537255  \n",
       "132             другой       0.240000      0.760000  \n",
       "153             другой       0.210127      0.789873  \n",
       "...                ...            ...           ...  \n",
       "23613           другой       0.174312      0.825688  \n",
       "23636           другой       0.242762      0.757238  \n",
       "23670           другой       0.338346      0.661654  \n",
       "23679           другой       0.338346      0.661654  \n",
       "23695           другой       0.182796      0.817204  \n",
       "\n",
       "[1240 rows x 29 columns]"
      ]
     },
     "execution_count": 51,
     "metadata": {},
     "output_type": "execute_result"
    }
   ],
   "source": [
    "# ищем закономерности в пиковых значениях на графике\n",
    "data.query('days_exposition >= 45 and days_exposition <= 50')"
   ]
  },
  {
   "cell_type": "markdown",
   "metadata": {},
   "source": [
    "### Вывод\n",
    "\n",
    "\n",
    "Ровно половина всех сделок заключается менее чем за 85 дней после размещения объявления, в таком случае имеет смысл принять 85, как границу до которой можно считать что сделки были совершены быстро.\n",
    "\n",
    "оценив графики и выбросы можно сказать что половина сделок совершается довольно быстро, но так же на графике распределения мы видим что у нас есть 1655 выбросов, объявлений по которым на совершение сделки ушло очень много времени"
   ]
  },
  {
   "cell_type": "markdown",
   "metadata": {},
   "source": [
    "## Работа с выбросами"
   ]
  },
  {
   "cell_type": "markdown",
   "metadata": {},
   "source": [
    "# Задание: \n",
    "\"Какие факторы больше всего влияют на стоимость квартиры? Изучите, зависит ли цена от квадратного метра, числа комнат, этажа (первого или последнего), удалённости от центра. Также изучите зависимость от даты размещения: дня недели, месяца и года. \"Выберите 10 населённых пунктов с наибольшим числом объявлений. Посчитайте среднюю цену квадратного метра в этих населённых пунктах. Выделите населённые пункты с самой высокой и низкой стоимостью жилья. Эти данные можно найти по имени в столбце '*locality_name'*. \""
   ]
  },
  {
   "cell_type": "code",
   "execution_count": 52,
   "metadata": {},
   "outputs": [],
   "source": [
    "# собираем отдельный датасет из нужных для исследования данных\n",
    "\n",
    "research_data = data[['locality_name',\n",
    "                      'square_meter_price',\n",
    "                      'last_price', \n",
    "                      'total_area', \n",
    "                      'rooms',\n",
    "                      'floor',\n",
    "                      'ceiling_height',\n",
    "                      'floor_categorie', \n",
    "                      'cityCenters_nearest', \n",
    "                      'first_day_exposition', \n",
    "                      'day_of_the_week_exposition', \n",
    "                      'month_exposition',\n",
    "                      'year_exposition']]"
   ]
  },
  {
   "cell_type": "code",
   "execution_count": 53,
   "metadata": {
    "scrolled": true
   },
   "outputs": [
    {
     "data": {
      "text/html": [
       "<div>\n",
       "<style scoped>\n",
       "    .dataframe tbody tr th:only-of-type {\n",
       "        vertical-align: middle;\n",
       "    }\n",
       "\n",
       "    .dataframe tbody tr th {\n",
       "        vertical-align: top;\n",
       "    }\n",
       "\n",
       "    .dataframe thead th {\n",
       "        text-align: right;\n",
       "    }\n",
       "</style>\n",
       "<table border=\"1\" class=\"dataframe\">\n",
       "  <thead>\n",
       "    <tr style=\"text-align: right;\">\n",
       "      <th></th>\n",
       "      <th>square_meter_price</th>\n",
       "      <th>last_price</th>\n",
       "      <th>total_area</th>\n",
       "      <th>rooms</th>\n",
       "      <th>floor</th>\n",
       "      <th>ceiling_height</th>\n",
       "      <th>cityCenters_nearest</th>\n",
       "      <th>day_of_the_week_exposition</th>\n",
       "      <th>month_exposition</th>\n",
       "      <th>year_exposition</th>\n",
       "    </tr>\n",
       "  </thead>\n",
       "  <tbody>\n",
       "    <tr>\n",
       "      <th>square_meter_price</th>\n",
       "      <td>1.000000</td>\n",
       "      <td>0.729788</td>\n",
       "      <td>0.224465</td>\n",
       "      <td>0.048078</td>\n",
       "      <td>0.130489</td>\n",
       "      <td>0.075171</td>\n",
       "      <td>-0.265772</td>\n",
       "      <td>-0.001785</td>\n",
       "      <td>0.006090</td>\n",
       "      <td>-0.007720</td>\n",
       "    </tr>\n",
       "    <tr>\n",
       "      <th>last_price</th>\n",
       "      <td>0.729788</td>\n",
       "      <td>1.000000</td>\n",
       "      <td>0.594184</td>\n",
       "      <td>0.364519</td>\n",
       "      <td>0.028374</td>\n",
       "      <td>0.065881</td>\n",
       "      <td>-0.206399</td>\n",
       "      <td>0.001437</td>\n",
       "      <td>0.003217</td>\n",
       "      <td>-0.043018</td>\n",
       "    </tr>\n",
       "    <tr>\n",
       "      <th>total_area</th>\n",
       "      <td>0.224465</td>\n",
       "      <td>0.594184</td>\n",
       "      <td>1.000000</td>\n",
       "      <td>0.817696</td>\n",
       "      <td>-0.055650</td>\n",
       "      <td>0.088372</td>\n",
       "      <td>-0.241498</td>\n",
       "      <td>-0.008197</td>\n",
       "      <td>0.001286</td>\n",
       "      <td>-0.076746</td>\n",
       "    </tr>\n",
       "    <tr>\n",
       "      <th>rooms</th>\n",
       "      <td>0.048078</td>\n",
       "      <td>0.364519</td>\n",
       "      <td>0.817696</td>\n",
       "      <td>1.000000</td>\n",
       "      <td>-0.146329</td>\n",
       "      <td>0.052923</td>\n",
       "      <td>-0.188320</td>\n",
       "      <td>-0.003741</td>\n",
       "      <td>-0.000938</td>\n",
       "      <td>-0.054388</td>\n",
       "    </tr>\n",
       "    <tr>\n",
       "      <th>floor</th>\n",
       "      <td>0.130489</td>\n",
       "      <td>0.028374</td>\n",
       "      <td>-0.055650</td>\n",
       "      <td>-0.146329</td>\n",
       "      <td>1.000000</td>\n",
       "      <td>-0.016369</td>\n",
       "      <td>0.008107</td>\n",
       "      <td>0.011739</td>\n",
       "      <td>0.020059</td>\n",
       "      <td>0.005027</td>\n",
       "    </tr>\n",
       "    <tr>\n",
       "      <th>ceiling_height</th>\n",
       "      <td>0.075171</td>\n",
       "      <td>0.065881</td>\n",
       "      <td>0.088372</td>\n",
       "      <td>0.052923</td>\n",
       "      <td>-0.016369</td>\n",
       "      <td>1.000000</td>\n",
       "      <td>-0.074671</td>\n",
       "      <td>-0.010820</td>\n",
       "      <td>-0.004366</td>\n",
       "      <td>0.004057</td>\n",
       "    </tr>\n",
       "    <tr>\n",
       "      <th>cityCenters_nearest</th>\n",
       "      <td>-0.265772</td>\n",
       "      <td>-0.206399</td>\n",
       "      <td>-0.241498</td>\n",
       "      <td>-0.188320</td>\n",
       "      <td>0.008107</td>\n",
       "      <td>-0.074671</td>\n",
       "      <td>1.000000</td>\n",
       "      <td>0.009734</td>\n",
       "      <td>-0.009221</td>\n",
       "      <td>0.032342</td>\n",
       "    </tr>\n",
       "    <tr>\n",
       "      <th>day_of_the_week_exposition</th>\n",
       "      <td>-0.001785</td>\n",
       "      <td>0.001437</td>\n",
       "      <td>-0.008197</td>\n",
       "      <td>-0.003741</td>\n",
       "      <td>0.011739</td>\n",
       "      <td>-0.010820</td>\n",
       "      <td>0.009734</td>\n",
       "      <td>1.000000</td>\n",
       "      <td>0.009988</td>\n",
       "      <td>-0.003410</td>\n",
       "    </tr>\n",
       "    <tr>\n",
       "      <th>month_exposition</th>\n",
       "      <td>0.006090</td>\n",
       "      <td>0.003217</td>\n",
       "      <td>0.001286</td>\n",
       "      <td>-0.000938</td>\n",
       "      <td>0.020059</td>\n",
       "      <td>-0.004366</td>\n",
       "      <td>-0.009221</td>\n",
       "      <td>0.009988</td>\n",
       "      <td>1.000000</td>\n",
       "      <td>-0.269046</td>\n",
       "    </tr>\n",
       "    <tr>\n",
       "      <th>year_exposition</th>\n",
       "      <td>-0.007720</td>\n",
       "      <td>-0.043018</td>\n",
       "      <td>-0.076746</td>\n",
       "      <td>-0.054388</td>\n",
       "      <td>0.005027</td>\n",
       "      <td>0.004057</td>\n",
       "      <td>0.032342</td>\n",
       "      <td>-0.003410</td>\n",
       "      <td>-0.269046</td>\n",
       "      <td>1.000000</td>\n",
       "    </tr>\n",
       "  </tbody>\n",
       "</table>\n",
       "</div>"
      ],
      "text/plain": [
       "                            square_meter_price  last_price  total_area  \\\n",
       "square_meter_price                    1.000000    0.729788    0.224465   \n",
       "last_price                            0.729788    1.000000    0.594184   \n",
       "total_area                            0.224465    0.594184    1.000000   \n",
       "rooms                                 0.048078    0.364519    0.817696   \n",
       "floor                                 0.130489    0.028374   -0.055650   \n",
       "ceiling_height                        0.075171    0.065881    0.088372   \n",
       "cityCenters_nearest                  -0.265772   -0.206399   -0.241498   \n",
       "day_of_the_week_exposition           -0.001785    0.001437   -0.008197   \n",
       "month_exposition                      0.006090    0.003217    0.001286   \n",
       "year_exposition                      -0.007720   -0.043018   -0.076746   \n",
       "\n",
       "                               rooms     floor  ceiling_height  \\\n",
       "square_meter_price          0.048078  0.130489        0.075171   \n",
       "last_price                  0.364519  0.028374        0.065881   \n",
       "total_area                  0.817696 -0.055650        0.088372   \n",
       "rooms                       1.000000 -0.146329        0.052923   \n",
       "floor                      -0.146329  1.000000       -0.016369   \n",
       "ceiling_height              0.052923 -0.016369        1.000000   \n",
       "cityCenters_nearest        -0.188320  0.008107       -0.074671   \n",
       "day_of_the_week_exposition -0.003741  0.011739       -0.010820   \n",
       "month_exposition           -0.000938  0.020059       -0.004366   \n",
       "year_exposition            -0.054388  0.005027        0.004057   \n",
       "\n",
       "                            cityCenters_nearest  day_of_the_week_exposition  \\\n",
       "square_meter_price                    -0.265772                   -0.001785   \n",
       "last_price                            -0.206399                    0.001437   \n",
       "total_area                            -0.241498                   -0.008197   \n",
       "rooms                                 -0.188320                   -0.003741   \n",
       "floor                                  0.008107                    0.011739   \n",
       "ceiling_height                        -0.074671                   -0.010820   \n",
       "cityCenters_nearest                    1.000000                    0.009734   \n",
       "day_of_the_week_exposition             0.009734                    1.000000   \n",
       "month_exposition                      -0.009221                    0.009988   \n",
       "year_exposition                        0.032342                   -0.003410   \n",
       "\n",
       "                            month_exposition  year_exposition  \n",
       "square_meter_price                  0.006090        -0.007720  \n",
       "last_price                          0.003217        -0.043018  \n",
       "total_area                          0.001286        -0.076746  \n",
       "rooms                              -0.000938        -0.054388  \n",
       "floor                               0.020059         0.005027  \n",
       "ceiling_height                     -0.004366         0.004057  \n",
       "cityCenters_nearest                -0.009221         0.032342  \n",
       "day_of_the_week_exposition          0.009988        -0.003410  \n",
       "month_exposition                    1.000000        -0.269046  \n",
       "year_exposition                    -0.269046         1.000000  "
      ]
     },
     "execution_count": 53,
     "metadata": {},
     "output_type": "execute_result"
    }
   ],
   "source": [
    "# проводим корреляцию по всем параметрам, т.к. это не доставит неудобства при чтении и может открыть дополнительную информацию\n",
    "\n",
    "research_data.corr()"
   ]
  },
  {
   "cell_type": "code",
   "execution_count": 54,
   "metadata": {
    "scrolled": true
   },
   "outputs": [
    {
     "data": {
      "text/html": [
       "<div>\n",
       "<style scoped>\n",
       "    .dataframe tbody tr th:only-of-type {\n",
       "        vertical-align: middle;\n",
       "    }\n",
       "\n",
       "    .dataframe tbody tr th {\n",
       "        vertical-align: top;\n",
       "    }\n",
       "\n",
       "    .dataframe thead th {\n",
       "        text-align: right;\n",
       "    }\n",
       "</style>\n",
       "<table border=\"1\" class=\"dataframe\">\n",
       "  <thead>\n",
       "    <tr style=\"text-align: right;\">\n",
       "      <th></th>\n",
       "      <th>floor</th>\n",
       "      <th>last_price</th>\n",
       "    </tr>\n",
       "  </thead>\n",
       "  <tbody>\n",
       "    <tr>\n",
       "      <th>floor</th>\n",
       "      <td>1.000000</td>\n",
       "      <td>0.086598</td>\n",
       "    </tr>\n",
       "    <tr>\n",
       "      <th>last_price</th>\n",
       "      <td>0.086598</td>\n",
       "      <td>1.000000</td>\n",
       "    </tr>\n",
       "  </tbody>\n",
       "</table>\n",
       "</div>"
      ],
      "text/plain": [
       "               floor  last_price\n",
       "floor       1.000000    0.086598\n",
       "last_price  0.086598    1.000000"
      ]
     },
     "execution_count": 54,
     "metadata": {},
     "output_type": "execute_result"
    }
   ],
   "source": [
    "# считаем корреляцию по последнему и первому этажу с ценой\n",
    "\n",
    "research_data.query('floor_categorie in [\"первый\", \"последний\"]')[['floor', 'last_price']].corr()"
   ]
  },
  {
   "cell_type": "code",
   "execution_count": 55,
   "metadata": {},
   "outputs": [
    {
     "data": {
      "text/plain": [
       "<AxesSubplot:xlabel='floor_categorie', ylabel='last_price'>"
      ]
     },
     "execution_count": 55,
     "metadata": {},
     "output_type": "execute_result"
    },
    {
     "data": {
      "image/png": "[encoded data removed]",
      "text/plain": [
       "<Figure size 432x288 with 1 Axes>"
      ]
     },
     "metadata": {
      "needs_background": "light"
     },
     "output_type": "display_data"
    }
   ],
   "source": [
    "# визуализиуем\n",
    "research_data.query('floor_categorie in [\"первый\", \"последний\"]')[['floor_categorie', 'last_price']].plot(kind='scatter', x='floor_categorie', y='last_price', grid=True)"
   ]
  },
  {
   "cell_type": "markdown",
   "metadata": {},
   "source": [
    "Закономерно что за последний этаж в большенстве случаев цена выше"
   ]
  },
  {
   "cell_type": "code",
   "execution_count": 56,
   "metadata": {},
   "outputs": [
    {
     "data": {
      "text/html": [
       "<div>\n",
       "<style scoped>\n",
       "    .dataframe tbody tr th:only-of-type {\n",
       "        vertical-align: middle;\n",
       "    }\n",
       "\n",
       "    .dataframe tbody tr th {\n",
       "        vertical-align: top;\n",
       "    }\n",
       "\n",
       "    .dataframe thead th {\n",
       "        text-align: right;\n",
       "    }\n",
       "</style>\n",
       "<table border=\"1\" class=\"dataframe\">\n",
       "  <thead>\n",
       "    <tr style=\"text-align: right;\">\n",
       "      <th></th>\n",
       "      <th>last_price</th>\n",
       "      <th>day_of_the_week_exposition</th>\n",
       "      <th>month_exposition</th>\n",
       "      <th>year_exposition</th>\n",
       "    </tr>\n",
       "  </thead>\n",
       "  <tbody>\n",
       "    <tr>\n",
       "      <th>last_price</th>\n",
       "      <td>1.000000</td>\n",
       "      <td>0.001437</td>\n",
       "      <td>0.003217</td>\n",
       "      <td>-0.043018</td>\n",
       "    </tr>\n",
       "    <tr>\n",
       "      <th>day_of_the_week_exposition</th>\n",
       "      <td>0.001437</td>\n",
       "      <td>1.000000</td>\n",
       "      <td>0.009988</td>\n",
       "      <td>-0.003410</td>\n",
       "    </tr>\n",
       "    <tr>\n",
       "      <th>month_exposition</th>\n",
       "      <td>0.003217</td>\n",
       "      <td>0.009988</td>\n",
       "      <td>1.000000</td>\n",
       "      <td>-0.269046</td>\n",
       "    </tr>\n",
       "    <tr>\n",
       "      <th>year_exposition</th>\n",
       "      <td>-0.043018</td>\n",
       "      <td>-0.003410</td>\n",
       "      <td>-0.269046</td>\n",
       "      <td>1.000000</td>\n",
       "    </tr>\n",
       "  </tbody>\n",
       "</table>\n",
       "</div>"
      ],
      "text/plain": [
       "                            last_price  day_of_the_week_exposition  \\\n",
       "last_price                    1.000000                    0.001437   \n",
       "day_of_the_week_exposition    0.001437                    1.000000   \n",
       "month_exposition              0.003217                    0.009988   \n",
       "year_exposition              -0.043018                   -0.003410   \n",
       "\n",
       "                            month_exposition  year_exposition  \n",
       "last_price                          0.003217        -0.043018  \n",
       "day_of_the_week_exposition          0.009988        -0.003410  \n",
       "month_exposition                    1.000000        -0.269046  \n",
       "year_exposition                    -0.269046         1.000000  "
      ]
     },
     "execution_count": 56,
     "metadata": {},
     "output_type": "execute_result"
    }
   ],
   "source": [
    "# считаем корреляцию по дню недели, месяцу и году размещения объявления\n",
    "\n",
    "scatter_time_price = research_data[['last_price', 'day_of_the_week_exposition', 'month_exposition', 'year_exposition']]\n",
    "research_data[['last_price', 'day_of_the_week_exposition', 'month_exposition', 'year_exposition']].corr()\n",
    "\n"
   ]
  },
  {
   "cell_type": "code",
   "execution_count": 66,
   "metadata": {},
   "outputs": [
    {
     "data": {
      "image/png": "[encoded data removed]",
      "text/plain": [
       "<Figure size 648x648 with 16 Axes>"
      ]
     },
     "metadata": {
      "needs_background": "light"
     },
     "output_type": "display_data"
    }
   ],
   "source": [
    "# матрица рассеивания для того чтобы оценить данные с визуально\n",
    "pd.plotting.scatter_matrix(scatter_time_price, figsize=(9, 9))\n",
    "plt.show()"
   ]
  },
  {
   "cell_type": "markdown",
   "metadata": {},
   "source": [
    "Цена не зависит от дня, месяца и года размещения, что кажется нормальным, особенно относительно года, т.к. сильный скачёк в цене недвижимости в россии произошел в 2020 году, а данные приведены до начала 2019 года"
   ]
  },
  {
   "cell_type": "markdown",
   "metadata": {},
   "source": [
    "# Задание\n",
    "\"Выберите 10 населённых пунктов с наибольшим числом объявлений. Посчитайте среднюю цену квадратного метра в этих населённых пунктах. Выделите населённые пункты с самой высокой и низкой стоимостью жилья. Эти данные можно найти по имени в столбце 'locality_name'. \""
   ]
  },
  {
   "cell_type": "code",
   "execution_count": 67,
   "metadata": {},
   "outputs": [
    {
     "data": {
      "text/html": [
       "<div>\n",
       "<style scoped>\n",
       "    .dataframe tbody tr th:only-of-type {\n",
       "        vertical-align: middle;\n",
       "    }\n",
       "\n",
       "    .dataframe tbody tr th {\n",
       "        vertical-align: top;\n",
       "    }\n",
       "\n",
       "    .dataframe thead tr th {\n",
       "        text-align: left;\n",
       "    }\n",
       "\n",
       "    .dataframe thead tr:last-of-type th {\n",
       "        text-align: right;\n",
       "    }\n",
       "</style>\n",
       "<table border=\"1\" class=\"dataframe\">\n",
       "  <thead>\n",
       "    <tr>\n",
       "      <th></th>\n",
       "      <th colspan=\"2\" halign=\"left\">square_meter_price</th>\n",
       "    </tr>\n",
       "    <tr>\n",
       "      <th></th>\n",
       "      <th>count</th>\n",
       "      <th>mean</th>\n",
       "    </tr>\n",
       "    <tr>\n",
       "      <th>locality_name</th>\n",
       "      <th></th>\n",
       "      <th></th>\n",
       "    </tr>\n",
       "  </thead>\n",
       "  <tbody>\n",
       "    <tr>\n",
       "      <th>санкт-петербург</th>\n",
       "      <td>15542</td>\n",
       "      <td>157756</td>\n",
       "    </tr>\n",
       "    <tr>\n",
       "      <th>мурино</th>\n",
       "      <td>559</td>\n",
       "      <td>113281</td>\n",
       "    </tr>\n",
       "    <tr>\n",
       "      <th>кудрово</th>\n",
       "      <td>449</td>\n",
       "      <td>127409</td>\n",
       "    </tr>\n",
       "    <tr>\n",
       "      <th>шушары</th>\n",
       "      <td>435</td>\n",
       "      <td>106628</td>\n",
       "    </tr>\n",
       "    <tr>\n",
       "      <th>всеволожск</th>\n",
       "      <td>392</td>\n",
       "      <td>94898</td>\n",
       "    </tr>\n",
       "    <tr>\n",
       "      <th>пушкин</th>\n",
       "      <td>369</td>\n",
       "      <td>140413</td>\n",
       "    </tr>\n",
       "    <tr>\n",
       "      <th>колпино</th>\n",
       "      <td>338</td>\n",
       "      <td>99870</td>\n",
       "    </tr>\n",
       "    <tr>\n",
       "      <th>парголово</th>\n",
       "      <td>323</td>\n",
       "      <td>127562</td>\n",
       "    </tr>\n",
       "    <tr>\n",
       "      <th>гатчина</th>\n",
       "      <td>307</td>\n",
       "      <td>92032</td>\n",
       "    </tr>\n",
       "    <tr>\n",
       "      <th>выборг</th>\n",
       "      <td>237</td>\n",
       "      <td>76173</td>\n",
       "    </tr>\n",
       "  </tbody>\n",
       "</table>\n",
       "</div>"
      ],
      "text/plain": [
       "                square_meter_price        \n",
       "                             count    mean\n",
       "locality_name                             \n",
       "санкт-петербург              15542  157756\n",
       "мурино                         559  113281\n",
       "кудрово                        449  127409\n",
       "шушары                         435  106628\n",
       "всеволожск                     392   94898\n",
       "пушкин                         369  140413\n",
       "колпино                        338   99870\n",
       "парголово                      323  127562\n",
       "гатчина                        307   92032\n",
       "выборг                         237   76173"
      ]
     },
     "execution_count": 67,
     "metadata": {},
     "output_type": "execute_result"
    }
   ],
   "source": [
    "# создаём отдельный сгруппированый датасет для работы в последних двух заданиях\n",
    "\n",
    "research_data_locality_price =(\n",
    "research_data[['locality_name', 'square_meter_price']].groupby('locality_name')\n",
    "                                                      .agg(['count', 'mean'])\n",
    "                                                      .sort_values(by=('square_meter_price', 'count'), ascending=False)\n",
    "                                                      .astype('int')\n",
    "                                                      .head(10)\n",
    ")\n",
    "\n",
    "research_data_locality_price"
   ]
  },
  {
   "cell_type": "code",
   "execution_count": 68,
   "metadata": {},
   "outputs": [
    {
     "data": {
      "text/html": [
       "<div>\n",
       "<style scoped>\n",
       "    .dataframe tbody tr th:only-of-type {\n",
       "        vertical-align: middle;\n",
       "    }\n",
       "\n",
       "    .dataframe tbody tr th {\n",
       "        vertical-align: top;\n",
       "    }\n",
       "\n",
       "    .dataframe thead tr th {\n",
       "        text-align: left;\n",
       "    }\n",
       "\n",
       "    .dataframe thead tr:last-of-type th {\n",
       "        text-align: right;\n",
       "    }\n",
       "</style>\n",
       "<table border=\"1\" class=\"dataframe\">\n",
       "  <thead>\n",
       "    <tr>\n",
       "      <th></th>\n",
       "      <th colspan=\"2\" halign=\"left\">square_meter_price</th>\n",
       "    </tr>\n",
       "    <tr>\n",
       "      <th></th>\n",
       "      <th>count</th>\n",
       "      <th>mean</th>\n",
       "    </tr>\n",
       "    <tr>\n",
       "      <th>locality_name</th>\n",
       "      <th></th>\n",
       "      <th></th>\n",
       "    </tr>\n",
       "  </thead>\n",
       "  <tbody>\n",
       "    <tr>\n",
       "      <th>выборг</th>\n",
       "      <td>237</td>\n",
       "      <td>76173</td>\n",
       "    </tr>\n",
       "    <tr>\n",
       "      <th>гатчина</th>\n",
       "      <td>307</td>\n",
       "      <td>92032</td>\n",
       "    </tr>\n",
       "    <tr>\n",
       "      <th>всеволожск</th>\n",
       "      <td>392</td>\n",
       "      <td>94898</td>\n",
       "    </tr>\n",
       "    <tr>\n",
       "      <th>колпино</th>\n",
       "      <td>338</td>\n",
       "      <td>99870</td>\n",
       "    </tr>\n",
       "    <tr>\n",
       "      <th>шушары</th>\n",
       "      <td>435</td>\n",
       "      <td>106628</td>\n",
       "    </tr>\n",
       "    <tr>\n",
       "      <th>мурино</th>\n",
       "      <td>559</td>\n",
       "      <td>113281</td>\n",
       "    </tr>\n",
       "    <tr>\n",
       "      <th>кудрово</th>\n",
       "      <td>449</td>\n",
       "      <td>127409</td>\n",
       "    </tr>\n",
       "    <tr>\n",
       "      <th>парголово</th>\n",
       "      <td>323</td>\n",
       "      <td>127562</td>\n",
       "    </tr>\n",
       "    <tr>\n",
       "      <th>пушкин</th>\n",
       "      <td>369</td>\n",
       "      <td>140413</td>\n",
       "    </tr>\n",
       "    <tr>\n",
       "      <th>санкт-петербург</th>\n",
       "      <td>15542</td>\n",
       "      <td>157756</td>\n",
       "    </tr>\n",
       "  </tbody>\n",
       "</table>\n",
       "</div>"
      ],
      "text/plain": [
       "                square_meter_price        \n",
       "                             count    mean\n",
       "locality_name                             \n",
       "выборг                         237   76173\n",
       "гатчина                        307   92032\n",
       "всеволожск                     392   94898\n",
       "колпино                        338   99870\n",
       "шушары                         435  106628\n",
       "мурино                         559  113281\n",
       "кудрово                        449  127409\n",
       "парголово                      323  127562\n",
       "пушкин                         369  140413\n",
       "санкт-петербург              15542  157756"
      ]
     },
     "execution_count": 68,
     "metadata": {},
     "output_type": "execute_result"
    }
   ],
   "source": [
    "# сортируем значения для того чтобы найти минимальное и максимальное значения стоимости квадратного метра\n",
    "\n",
    "research_data_locality_price.sort_values(by=('square_meter_price',  'mean'))"
   ]
  },
  {
   "cell_type": "markdown",
   "metadata": {},
   "source": [
    "Минимальная средняя стоимость квадратного метра выявлена в Выборге = 76173, а максимальная в Санкт-Петербурге = 157756"
   ]
  },
  {
   "cell_type": "markdown",
   "metadata": {},
   "source": [
    "# Задание: \n",
    "\"Изучите предложения квартир: для каждой квартиры есть информация о расстоянии до центра. Выделите квартиры в Санкт-Петербурге (*'locality_name'*). Ваша задача — выяснить, какая область входит в центр. Создайте столбец с расстоянием до центра в километрах: округлите до целых значений. После этого посчитайте среднюю цену для каждого километра. Постройте график: он должен показывать, как цена зависит от удалённости от центра. Определите границу, где график сильно меняется — это и будет центральная зона. \""
   ]
  },
  {
   "cell_type": "code",
   "execution_count": 69,
   "metadata": {
    "scrolled": true
   },
   "outputs": [
    {
     "data": {
      "text/html": [
       "<div>\n",
       "<style scoped>\n",
       "    .dataframe tbody tr th:only-of-type {\n",
       "        vertical-align: middle;\n",
       "    }\n",
       "\n",
       "    .dataframe tbody tr th {\n",
       "        vertical-align: top;\n",
       "    }\n",
       "\n",
       "    .dataframe thead th {\n",
       "        text-align: right;\n",
       "    }\n",
       "</style>\n",
       "<table border=\"1\" class=\"dataframe\">\n",
       "  <thead>\n",
       "    <tr style=\"text-align: right;\">\n",
       "      <th></th>\n",
       "      <th>locality_name</th>\n",
       "      <th>cityCenters_nearest</th>\n",
       "      <th>last_price</th>\n",
       "      <th>kilometr_price</th>\n",
       "    </tr>\n",
       "  </thead>\n",
       "  <tbody>\n",
       "    <tr>\n",
       "      <th>0</th>\n",
       "      <td>санкт-петербург</td>\n",
       "      <td>16</td>\n",
       "      <td>13000000.0</td>\n",
       "      <td>812500.0</td>\n",
       "    </tr>\n",
       "    <tr>\n",
       "      <th>2</th>\n",
       "      <td>санкт-петербург</td>\n",
       "      <td>13</td>\n",
       "      <td>5196000.0</td>\n",
       "      <td>399692.0</td>\n",
       "    </tr>\n",
       "    <tr>\n",
       "      <th>3</th>\n",
       "      <td>санкт-петербург</td>\n",
       "      <td>6</td>\n",
       "      <td>64900000.0</td>\n",
       "      <td>10816666.0</td>\n",
       "    </tr>\n",
       "    <tr>\n",
       "      <th>4</th>\n",
       "      <td>санкт-петербург</td>\n",
       "      <td>8</td>\n",
       "      <td>10000000.0</td>\n",
       "      <td>1250000.0</td>\n",
       "    </tr>\n",
       "    <tr>\n",
       "      <th>7</th>\n",
       "      <td>санкт-петербург</td>\n",
       "      <td>11</td>\n",
       "      <td>7915000.0</td>\n",
       "      <td>719545.0</td>\n",
       "    </tr>\n",
       "  </tbody>\n",
       "</table>\n",
       "</div>"
      ],
      "text/plain": [
       "     locality_name  cityCenters_nearest  last_price  kilometr_price\n",
       "0  санкт-петербург                   16  13000000.0        812500.0\n",
       "2  санкт-петербург                   13   5196000.0        399692.0\n",
       "3  санкт-петербург                    6  64900000.0      10816666.0\n",
       "4  санкт-петербург                    8  10000000.0       1250000.0\n",
       "7  санкт-петербург                   11   7915000.0        719545.0"
      ]
     },
     "execution_count": 69,
     "metadata": {},
     "output_type": "execute_result"
    }
   ],
   "source": [
    "# Собираем нужные данные для анализа, убирая пропуски. Их всего 60, \n",
    "# это меньше 1% от всех данных и они не повлияют на результаты исследования\n",
    "research_data_locality_centers = research_data.loc[research_data['locality_name'] == 'санкт-петербург', \n",
    "                                                   ['locality_name', 'cityCenters_nearest', 'last_price']].dropna()\n",
    "\n",
    "# переводим метры в километры и \n",
    "# меняем формат данных на int для удобства чтения графика\n",
    "research_data_locality_centers['cityCenters_nearest'] = (research_data_locality_centers['cityCenters_nearest'] / \n",
    "                                                         1000).astype('int')\n",
    "\n",
    "# высчитываем стоимость одного километра для каждой квартиры, при этом меняем тип данных игнорирую \"бесконечные значения\"\n",
    "research_data_locality_centers['kilometr_price'] = ((research_data_locality_centers['last_price'] / \n",
    "                                                    research_data_locality_centers['cityCenters_nearest'])).replace(np.inf, np.nan).dropna().astype('int')\n",
    "\n",
    "\n",
    "research_data_locality_centers = research_data_locality_centers.dropna()\n",
    "\n",
    "research_data_locality_centers.head(5)"
   ]
  },
  {
   "cell_type": "code",
   "execution_count": 70,
   "metadata": {
    "scrolled": true
   },
   "outputs": [
    {
     "data": {
      "text/plain": [
       "count    1.539600e+04\n",
       "mean     1.453486e+06\n",
       "std      5.935194e+06\n",
       "min      1.354000e+03\n",
       "25%      3.230760e+05\n",
       "50%      4.677745e+05\n",
       "75%      1.050000e+06\n",
       "max      3.300000e+08\n",
       "Name: kilometr_price, dtype: float64"
      ]
     },
     "execution_count": 70,
     "metadata": {},
     "output_type": "execute_result"
    }
   ],
   "source": [
    "# описание данных\n",
    "outliers = research_data_locality_centers['kilometr_price'].describe()\n",
    "outliers"
   ]
  },
  {
   "cell_type": "code",
   "execution_count": 71,
   "metadata": {},
   "outputs": [],
   "source": [
    "# размах усов для датасета research_data_locality_centers\n",
    "outliers_q1 = (outliers['25%'] - 1.5 * (outliers['75%'] - outliers['25%']))\n",
    "outliers_q3 = (outliers['75%'] + 1.5 * (outliers['75%'] - outliers['25%']))"
   ]
  },
  {
   "cell_type": "code",
   "execution_count": 72,
   "metadata": {
    "scrolled": true
   },
   "outputs": [
    {
     "data": {
      "text/plain": [
       "8793          1354.0\n",
       "5961         83333.0\n",
       "12160        84482.0\n",
       "17961        93333.0\n",
       "19755        94545.0\n",
       "            ...     \n",
       "13864    130000000.0\n",
       "14706    200650000.0\n",
       "12971    254333333.0\n",
       "22831    289238400.0\n",
       "1436     330000000.0\n",
       "Name: kilometr_price, Length: 15396, dtype: float64"
      ]
     },
     "execution_count": 72,
     "metadata": {},
     "output_type": "execute_result"
    }
   ],
   "source": [
    "research_data_locality_centers['kilometr_price'].sort_values()"
   ]
  },
  {
   "cell_type": "code",
   "execution_count": 78,
   "metadata": {},
   "outputs": [
    {
     "data": {
      "image/png": "[encoded data removed]",
      "text/plain": [
       "<Figure size 432x288 with 1 Axes>"
      ]
     },
     "metadata": {
      "needs_background": "light"
     },
     "output_type": "display_data"
    }
   ],
   "source": [
    "# ящик с выбросами\n",
    "research_data_locality_centers.plot(y='kilometr_price', kind='box')\n",
    "plt.show()"
   ]
  },
  {
   "cell_type": "code",
   "execution_count": 79,
   "metadata": {
    "scrolled": true
   },
   "outputs": [
    {
     "data": {
      "image/png": "[encoded data removed]",
      "text/plain": [
       "<Figure size 432x288 with 1 Axes>"
      ]
     },
     "metadata": {
      "needs_background": "light"
     },
     "output_type": "display_data"
    }
   ],
   "source": [
    "# ящик без выбросов из 15396 значений yбрано 2060 - 13.4% данных\n",
    "(research_data_locality_centers.query('kilometr_price < @outliers_q3 and kilometr_price > @outliers_q1')\n",
    "                                .plot(y='kilometr_price', kind='box'))\n",
    "plt.show()"
   ]
  },
  {
   "cell_type": "code",
   "execution_count": 82,
   "metadata": {
    "scrolled": false
   },
   "outputs": [
    {
     "data": {
      "image/png": "[encoded data removed]",
      "text/plain": [
       "<Figure size 432x288 with 1 Axes>"
      ]
     },
     "metadata": {
      "needs_background": "light"
     },
     "output_type": "display_data"
    }
   ],
   "source": [
    "# график распределения для определения границы \"центра города\"\n",
    "(research_data_locality_centers.query('kilometr_price < @outliers_q3 and kilometr_price > @outliers_q1')\n",
    "                                .plot(y='kilometr_price', x='cityCenters_nearest', kind='scatter'))\n",
    "plt.show()"
   ]
  },
  {
   "cell_type": "code",
   "execution_count": 83,
   "metadata": {},
   "outputs": [
    {
     "data": {
      "image/png": "[encoded data removed]",
      "text/plain": [
       "<Figure size 432x288 with 1 Axes>"
      ]
     },
     "metadata": {
      "needs_background": "light"
     },
     "output_type": "display_data"
    }
   ],
   "source": [
    "(research_data_locality_centers.query('kilometr_price < @outliers_q3 and kilometr_price > @outliers_q1')\n",
    " .groupby(by='cityCenters_nearest').agg('mean')['kilometr_price']\n",
    " .plot(y='kilometr_price', x='cityCenters_nearest', kind='bar'))\n",
    "plt.show()"
   ]
  },
  {
   "cell_type": "markdown",
   "metadata": {},
   "source": [
    "### Вывод\n",
    "\n",
    "Резкое падение цены начинается от 2.5 - 3 км от центра, а значит условно круглую территорию с диаметром в 2.5 - 3 км можно считать центром города"
   ]
  },
  {
   "cell_type": "markdown",
   "metadata": {},
   "source": [
    "# Задание\n",
    "\n",
    "\"Выделите сегмент квартир в центре. Проанализируйте эту территорию и изучите следующие параметры: площадь, цена, число комнат, высота потолков. Также выделите факторы, которые влияют на стоимость квартиры (число комнат, этаж, удалённость от центра, дата размещения объявления). Сделайте выводы. Отличаются ли они от общих выводов по всему городу?\""
   ]
  },
  {
   "cell_type": "code",
   "execution_count": 86,
   "metadata": {
    "scrolled": false
   },
   "outputs": [
    {
     "data": {
      "text/html": [
       "<div>\n",
       "<style scoped>\n",
       "    .dataframe tbody tr th:only-of-type {\n",
       "        vertical-align: middle;\n",
       "    }\n",
       "\n",
       "    .dataframe tbody tr th {\n",
       "        vertical-align: top;\n",
       "    }\n",
       "\n",
       "    .dataframe thead th {\n",
       "        text-align: right;\n",
       "    }\n",
       "</style>\n",
       "<table border=\"1\" class=\"dataframe\">\n",
       "  <thead>\n",
       "    <tr style=\"text-align: right;\">\n",
       "      <th></th>\n",
       "      <th>total_area</th>\n",
       "      <th>locality_name</th>\n",
       "      <th>rooms</th>\n",
       "      <th>last_price</th>\n",
       "      <th>floor</th>\n",
       "      <th>first_day_exposition</th>\n",
       "      <th>cityCenters_nearest</th>\n",
       "      <th>days_exposition</th>\n",
       "      <th>ceiling_height</th>\n",
       "    </tr>\n",
       "  </thead>\n",
       "  <tbody>\n",
       "    <tr>\n",
       "      <th>2</th>\n",
       "      <td>42.6</td>\n",
       "      <td>санкт-петербург</td>\n",
       "      <td>2</td>\n",
       "      <td>5196000.0</td>\n",
       "      <td>4</td>\n",
       "      <td>2015-08-20</td>\n",
       "      <td>13</td>\n",
       "      <td>558.0</td>\n",
       "      <td>2.6</td>\n",
       "    </tr>\n",
       "    <tr>\n",
       "      <th>3</th>\n",
       "      <td>54.5</td>\n",
       "      <td>санкт-петербург</td>\n",
       "      <td>3</td>\n",
       "      <td>64900000.0</td>\n",
       "      <td>9</td>\n",
       "      <td>2015-07-24</td>\n",
       "      <td>6</td>\n",
       "      <td>424.0</td>\n",
       "      <td>2.6</td>\n",
       "    </tr>\n",
       "    <tr>\n",
       "      <th>4</th>\n",
       "      <td>73.0</td>\n",
       "      <td>санкт-петербург</td>\n",
       "      <td>2</td>\n",
       "      <td>10000000.0</td>\n",
       "      <td>13</td>\n",
       "      <td>2018-06-19</td>\n",
       "      <td>8</td>\n",
       "      <td>121.0</td>\n",
       "      <td>3.0</td>\n",
       "    </tr>\n",
       "    <tr>\n",
       "      <th>9</th>\n",
       "      <td>50.1</td>\n",
       "      <td>санкт-петербург</td>\n",
       "      <td>3</td>\n",
       "      <td>5400000.0</td>\n",
       "      <td>7</td>\n",
       "      <td>2017-02-26</td>\n",
       "      <td>15</td>\n",
       "      <td>289.0</td>\n",
       "      <td>2.5</td>\n",
       "    </tr>\n",
       "    <tr>\n",
       "      <th>10</th>\n",
       "      <td>28.8</td>\n",
       "      <td>санкт-петербург</td>\n",
       "      <td>1</td>\n",
       "      <td>5050000.0</td>\n",
       "      <td>3</td>\n",
       "      <td>2017-11-16</td>\n",
       "      <td>13</td>\n",
       "      <td>137.0</td>\n",
       "      <td>2.7</td>\n",
       "    </tr>\n",
       "    <tr>\n",
       "      <th>...</th>\n",
       "      <td>...</td>\n",
       "      <td>...</td>\n",
       "      <td>...</td>\n",
       "      <td>...</td>\n",
       "      <td>...</td>\n",
       "      <td>...</td>\n",
       "      <td>...</td>\n",
       "      <td>...</td>\n",
       "      <td>...</td>\n",
       "    </tr>\n",
       "    <tr>\n",
       "      <th>23688</th>\n",
       "      <td>78.0</td>\n",
       "      <td>санкт-петербург</td>\n",
       "      <td>3</td>\n",
       "      <td>9200000.0</td>\n",
       "      <td>12</td>\n",
       "      <td>2019-04-01</td>\n",
       "      <td>14</td>\n",
       "      <td>23.0</td>\n",
       "      <td>3.0</td>\n",
       "    </tr>\n",
       "    <tr>\n",
       "      <th>23689</th>\n",
       "      <td>25.4</td>\n",
       "      <td>санкт-петербург</td>\n",
       "      <td>1</td>\n",
       "      <td>3550000.0</td>\n",
       "      <td>4</td>\n",
       "      <td>2018-02-28</td>\n",
       "      <td>16</td>\n",
       "      <td>29.0</td>\n",
       "      <td>2.9</td>\n",
       "    </tr>\n",
       "    <tr>\n",
       "      <th>23690</th>\n",
       "      <td>37.0</td>\n",
       "      <td>санкт-петербург</td>\n",
       "      <td>2</td>\n",
       "      <td>5500000.0</td>\n",
       "      <td>2</td>\n",
       "      <td>2018-07-19</td>\n",
       "      <td>6</td>\n",
       "      <td>15.0</td>\n",
       "      <td>2.6</td>\n",
       "    </tr>\n",
       "    <tr>\n",
       "      <th>23691</th>\n",
       "      <td>50.9</td>\n",
       "      <td>санкт-петербург</td>\n",
       "      <td>2</td>\n",
       "      <td>9470000.0</td>\n",
       "      <td>7</td>\n",
       "      <td>2016-10-13</td>\n",
       "      <td>4</td>\n",
       "      <td>519.0</td>\n",
       "      <td>2.8</td>\n",
       "    </tr>\n",
       "    <tr>\n",
       "      <th>23697</th>\n",
       "      <td>53.8</td>\n",
       "      <td>санкт-петербург</td>\n",
       "      <td>2</td>\n",
       "      <td>11475000.0</td>\n",
       "      <td>12</td>\n",
       "      <td>2017-03-28</td>\n",
       "      <td>10</td>\n",
       "      <td>602.0</td>\n",
       "      <td>3.0</td>\n",
       "    </tr>\n",
       "  </tbody>\n",
       "</table>\n",
       "<p>13451 rows × 9 columns</p>\n",
       "</div>"
      ],
      "text/plain": [
       "       total_area    locality_name  rooms  last_price  floor  \\\n",
       "2            42.6  санкт-петербург      2   5196000.0      4   \n",
       "3            54.5  санкт-петербург      3  64900000.0      9   \n",
       "4            73.0  санкт-петербург      2  10000000.0     13   \n",
       "9            50.1  санкт-петербург      3   5400000.0      7   \n",
       "10           28.8  санкт-петербург      1   5050000.0      3   \n",
       "...           ...              ...    ...         ...    ...   \n",
       "23688        78.0  санкт-петербург      3   9200000.0     12   \n",
       "23689        25.4  санкт-петербург      1   3550000.0      4   \n",
       "23690        37.0  санкт-петербург      2   5500000.0      2   \n",
       "23691        50.9  санкт-петербург      2   9470000.0      7   \n",
       "23697        53.8  санкт-петербург      2  11475000.0     12   \n",
       "\n",
       "      first_day_exposition  cityCenters_nearest  days_exposition  \\\n",
       "2               2015-08-20                   13            558.0   \n",
       "3               2015-07-24                    6            424.0   \n",
       "4               2018-06-19                    8            121.0   \n",
       "9               2017-02-26                   15            289.0   \n",
       "10              2017-11-16                   13            137.0   \n",
       "...                    ...                  ...              ...   \n",
       "23688           2019-04-01                   14             23.0   \n",
       "23689           2018-02-28                   16             29.0   \n",
       "23690           2018-07-19                    6             15.0   \n",
       "23691           2016-10-13                    4            519.0   \n",
       "23697           2017-03-28                   10            602.0   \n",
       "\n",
       "       ceiling_height  \n",
       "2                 2.6  \n",
       "3                 2.6  \n",
       "4                 3.0  \n",
       "9                 2.5  \n",
       "10                2.7  \n",
       "...               ...  \n",
       "23688             3.0  \n",
       "23689             2.9  \n",
       "23690             2.6  \n",
       "23691             2.8  \n",
       "23697             3.0  \n",
       "\n",
       "[13451 rows x 9 columns]"
      ]
     },
     "execution_count": 86,
     "metadata": {},
     "output_type": "execute_result"
    }
   ],
   "source": [
    "# датасет для работы из предыдущего задания с нужными нам колонками\n",
    "research_data_1 = data.loc[research_data['locality_name'] == 'санкт-петербург',\n",
    "                        ['total_area',\n",
    "                        'locality_name',\n",
    "                                 'rooms', \n",
    "                                 'last_price',                                 \n",
    "                                 'floor', \n",
    "                                 'first_day_exposition', \n",
    "                                 'cityCenters_nearest',\n",
    "                                 'days_exposition',\n",
    "                                 'ceiling_height']]\n",
    "\n",
    "research_data_1 = research_data_1.dropna()\n",
    "research_data_1['cityCenters_nearest'] = (research_data_1['cityCenters_nearest'] / 1000).astype('int')\n",
    "research_data_1"
   ]
  },
  {
   "cell_type": "markdown",
   "metadata": {},
   "source": [
    "# Как факторы влияют на формирование цены (число комнат, этаж, удалённость от центра, дата размещения объявления)"
   ]
  },
  {
   "cell_type": "code",
   "execution_count": 87,
   "metadata": {},
   "outputs": [],
   "source": [
    "# создаём новую колонку в которой переводив значения first_day_exposition в unix time чтобы проверить как они коррелируются с ценой, \n",
    "# т.к. проверить корреляцию в формате datetime64[ns] невозможно\n",
    "research_data_1['first_day_exposition_timestemp'] = research_data_1['first_day_exposition'].apply(lambda x : (x - datetime.datetime(1970,1,1)).total_seconds())\n"
   ]
  },
  {
   "cell_type": "markdown",
   "metadata": {},
   "source": [
    "# динамика цены по дате размещения"
   ]
  },
  {
   "cell_type": "code",
   "execution_count": 88,
   "metadata": {
    "scrolled": true
   },
   "outputs": [
    {
     "data": {
      "image/png": "[encoded data removed]",
      "text/plain": [
       "<Figure size 432x288 with 1 Axes>"
      ]
     },
     "metadata": {
      "needs_background": "light"
     },
     "output_type": "display_data"
    }
   ],
   "source": [
    "# данные с выбросами\n",
    "(research_data_1.query('cityCenters_nearest < 2.5').sort_values(by='first_day_exposition')\n",
    "                                                   .plot(x='first_day_exposition', y='last_price', kind='scatter', grid=True, rot=45))\n",
    "plt.show()"
   ]
  },
  {
   "cell_type": "code",
   "execution_count": 89,
   "metadata": {},
   "outputs": [],
   "source": [
    "# определяем границы выбросов\n",
    "outliners_last_price = research_data_1.query('cityCenters_nearest < 2.5')['last_price'].describe()\n",
    "\n",
    "outliners_last_price_q1 = (outliners_last_price['25%'] - 1.5 * (outliners_last_price['75%'] - outliners_last_price['25%']))\n",
    "outliners_last_price_q3 = (outliners_last_price['75%'] + 1.5 * (outliners_last_price['75%'] - outliners_last_price['25%']))"
   ]
  },
  {
   "cell_type": "code",
   "execution_count": 90,
   "metadata": {
    "scrolled": true
   },
   "outputs": [
    {
     "data": {
      "image/png": "[encoded data removed]",
      "text/plain": [
       "<Figure size 432x288 with 1 Axes>"
      ]
     },
     "metadata": {
      "needs_background": "light"
     },
     "output_type": "display_data"
    }
   ],
   "source": [
    "# строим график без выбросов\n",
    "(research_data_1.query('last_price < @outliners_last_price_q3 and last_price > @outliners_last_price_q1 and cityCenters_nearest < 2.5')\n",
    " .plot(x='first_day_exposition', y='last_price', grid=True, rot=45, kind='scatter'))\n",
    "plt.show()"
   ]
  },
  {
   "cell_type": "markdown",
   "metadata": {},
   "source": [
    "Количество объявлений со врменем стало больше, но ценовая политика меняется незначительно, что в целом похоже на правду, т.к. резкий скачёк цен на недвижимость произошел после 2020 года"
   ]
  },
  {
   "cell_type": "markdown",
   "metadata": {},
   "source": [
    "# динамика цены по числу комнат"
   ]
  },
  {
   "cell_type": "code",
   "execution_count": 91,
   "metadata": {},
   "outputs": [],
   "source": [
    "#создаём отдельный датасет для задачи\n",
    "research_data_2 = research_data[['rooms', 'last_price', 'cityCenters_nearest']]"
   ]
  },
  {
   "cell_type": "code",
   "execution_count": 93,
   "metadata": {
    "scrolled": false
   },
   "outputs": [
    {
     "data": {
      "image/png": "[encoded data removed]",
      "text/plain": [
       "<Figure size 432x288 with 1 Axes>"
      ]
     },
     "metadata": {
      "needs_background": "light"
     },
     "output_type": "display_data"
    }
   ],
   "source": [
    "# данные без выброса по цене\n",
    "(research_data_2.query('last_price < @outliners_last_price_q3 and last_price > @outliners_last_price_q1 and cityCenters_nearest > 2500')\n",
    " .plot(x='rooms', y='last_price', kind='scatter', grid=True))\n",
    "plt.show()"
   ]
  },
  {
   "cell_type": "markdown",
   "metadata": {},
   "source": [
    "Можно заметить чёткую линейную зависимость относительно цены от количества комнат"
   ]
  },
  {
   "cell_type": "markdown",
   "metadata": {},
   "source": [
    "# динамика цены по этажу"
   ]
  },
  {
   "cell_type": "code",
   "execution_count": 94,
   "metadata": {},
   "outputs": [],
   "source": [
    "#создаём отдельный датасет для задачи\n",
    "research_data_3 = research_data[['floor_categorie', 'last_price', 'cityCenters_nearest']]"
   ]
  },
  {
   "cell_type": "code",
   "execution_count": 95,
   "metadata": {},
   "outputs": [
    {
     "name": "stderr",
     "output_type": "stream",
     "text": [
      "<ipython-input-95-da12712583a9>:10: SettingWithCopyWarning: \n",
      "A value is trying to be set on a copy of a slice from a DataFrame.\n",
      "Try using .loc[row_indexer,col_indexer] = value instead\n",
      "\n",
      "See the caveats in the documentation: https://pandas.pydata.org/pandas-docs/stable/user_guide/indexing.html#returning-a-view-versus-a-copy\n",
      "  research_data_3['floor_class'] = research_data_3.apply(floor_coef, axis = 1)\n"
     ]
    }
   ],
   "source": [
    "# создаём новую колонку чтобы перевести категории в целочисленное значение для возможнсоти обработки\n",
    "def floor_coef(row):\n",
    "    value = row['floor_categorie']\n",
    "    if value == 'первый':\n",
    "        return 1\n",
    "    if value == 'последний':\n",
    "        return 3\n",
    "    return 2\n",
    "\n",
    "research_data_3['floor_class'] = research_data_3.apply(floor_coef, axis = 1)"
   ]
  },
  {
   "cell_type": "code",
   "execution_count": 96,
   "metadata": {
    "scrolled": true
   },
   "outputs": [
    {
     "data": {
      "image/png": "[encoded data removed]",
      "text/plain": [
       "<Figure size 432x288 with 1 Axes>"
      ]
     },
     "metadata": {
      "needs_background": "light"
     },
     "output_type": "display_data"
    }
   ],
   "source": [
    "# 1 - первый\n",
    "# 2 - другой\n",
    "# 3 - последний\n",
    "\n",
    "\n",
    "(research_data_3.query('last_price < @outliners_last_price_q3 and last_price > @outliners_last_price_q1 and cityCenters_nearest > 2500')\n",
    " .groupby('floor_class')\n",
    " .agg('mean')\n",
    " .plot(y='last_price', kind='bar', rot=0))\n",
    "plt.show()"
   ]
  },
  {
   "cell_type": "code",
   "execution_count": 97,
   "metadata": {},
   "outputs": [
    {
     "data": {
      "text/plain": [
       "floor_class\n",
       "1    5.349646e+06\n",
       "2    6.466315e+06\n",
       "3    6.415809e+06\n",
       "Name: last_price, dtype: float64"
      ]
     },
     "execution_count": 97,
     "metadata": {},
     "output_type": "execute_result"
    }
   ],
   "source": [
    "precent = (research_data_3.query('last_price < @outliners_last_price_q3 and last_price > @outliners_last_price_q1 and cityCenters_nearest > 2500')\n",
    " .groupby('floor_class')\n",
    " .agg('mean')['last_price'])\n",
    "\n",
    "precent"
   ]
  },
  {
   "cell_type": "code",
   "execution_count": 98,
   "metadata": {},
   "outputs": [
    {
     "data": {
      "text/plain": [
       "-16.943379667537187"
      ]
     },
     "execution_count": 98,
     "metadata": {},
     "output_type": "execute_result"
    }
   ],
   "source": [
    "((precent[1] * 100/ precent[2] - 100) + (precent[1] * 100/ precent[3] - 100)) / 2"
   ]
  },
  {
   "cell_type": "markdown",
   "metadata": {},
   "source": [
    "Избавившись от ценовых выбросов мы видим увеличение средней цены за квартиры распологающихся выше первого этажа на 16.9%"
   ]
  },
  {
   "cell_type": "markdown",
   "metadata": {},
   "source": [
    "# динамика цены по удалённости от центра"
   ]
  },
  {
   "cell_type": "code",
   "execution_count": 99,
   "metadata": {},
   "outputs": [],
   "source": [
    "research_data_4 = research_data[['last_price', 'cityCenters_nearest']]"
   ]
  },
  {
   "cell_type": "code",
   "execution_count": 101,
   "metadata": {},
   "outputs": [
    {
     "data": {
      "image/png": "[encoded data removed]",
      "text/plain": [
       "<Figure size 432x288 with 1 Axes>"
      ]
     },
     "metadata": {
      "needs_background": "light"
     },
     "output_type": "display_data"
    }
   ],
   "source": [
    "# график без выбросов по цене\n",
    "(research_data_4.query('last_price < @outliners_last_price_q3 and last_price > @outliners_last_price_q1 and cityCenters_nearest < 2500')\n",
    ".plot(x='cityCenters_nearest', y='last_price',  kind='scatter'))\n",
    "plt.show()"
   ]
  },
  {
   "cell_type": "markdown",
   "metadata": {},
   "source": [
    "Можно проследить во-первых, квартир ближе к центру становится меньше, но в целом это не влияет на ценовую политику"
   ]
  },
  {
   "cell_type": "code",
   "execution_count": 102,
   "metadata": {},
   "outputs": [
    {
     "data": {
      "text/html": [
       "<div>\n",
       "<style scoped>\n",
       "    .dataframe tbody tr th:only-of-type {\n",
       "        vertical-align: middle;\n",
       "    }\n",
       "\n",
       "    .dataframe tbody tr th {\n",
       "        vertical-align: top;\n",
       "    }\n",
       "\n",
       "    .dataframe thead th {\n",
       "        text-align: right;\n",
       "    }\n",
       "</style>\n",
       "<table border=\"1\" class=\"dataframe\">\n",
       "  <thead>\n",
       "    <tr style=\"text-align: right;\">\n",
       "      <th></th>\n",
       "      <th>last_price</th>\n",
       "      <th>rooms</th>\n",
       "      <th>first_day_exposition_timestemp</th>\n",
       "      <th>cityCenters_nearest</th>\n",
       "      <th>ceiling_height</th>\n",
       "    </tr>\n",
       "  </thead>\n",
       "  <tbody>\n",
       "    <tr>\n",
       "      <th>last_price</th>\n",
       "      <td>1.000000</td>\n",
       "      <td>0.481113</td>\n",
       "      <td>-0.053358</td>\n",
       "      <td>-0.071102</td>\n",
       "      <td>0.193087</td>\n",
       "    </tr>\n",
       "    <tr>\n",
       "      <th>rooms</th>\n",
       "      <td>0.481113</td>\n",
       "      <td>1.000000</td>\n",
       "      <td>-0.138371</td>\n",
       "      <td>-0.015401</td>\n",
       "      <td>0.033620</td>\n",
       "    </tr>\n",
       "    <tr>\n",
       "      <th>first_day_exposition_timestemp</th>\n",
       "      <td>-0.053358</td>\n",
       "      <td>-0.138371</td>\n",
       "      <td>1.000000</td>\n",
       "      <td>0.003332</td>\n",
       "      <td>0.019195</td>\n",
       "    </tr>\n",
       "    <tr>\n",
       "      <th>cityCenters_nearest</th>\n",
       "      <td>-0.071102</td>\n",
       "      <td>-0.015401</td>\n",
       "      <td>0.003332</td>\n",
       "      <td>1.000000</td>\n",
       "      <td>0.034923</td>\n",
       "    </tr>\n",
       "    <tr>\n",
       "      <th>ceiling_height</th>\n",
       "      <td>0.193087</td>\n",
       "      <td>0.033620</td>\n",
       "      <td>0.019195</td>\n",
       "      <td>0.034923</td>\n",
       "      <td>1.000000</td>\n",
       "    </tr>\n",
       "  </tbody>\n",
       "</table>\n",
       "</div>"
      ],
      "text/plain": [
       "                                last_price     rooms  \\\n",
       "last_price                        1.000000  0.481113   \n",
       "rooms                             0.481113  1.000000   \n",
       "first_day_exposition_timestemp   -0.053358 -0.138371   \n",
       "cityCenters_nearest              -0.071102 -0.015401   \n",
       "ceiling_height                    0.193087  0.033620   \n",
       "\n",
       "                                first_day_exposition_timestemp  \\\n",
       "last_price                                           -0.053358   \n",
       "rooms                                                -0.138371   \n",
       "first_day_exposition_timestemp                        1.000000   \n",
       "cityCenters_nearest                                   0.003332   \n",
       "ceiling_height                                        0.019195   \n",
       "\n",
       "                                cityCenters_nearest  ceiling_height  \n",
       "last_price                                -0.071102        0.193087  \n",
       "rooms                                     -0.015401        0.033620  \n",
       "first_day_exposition_timestemp             0.003332        0.019195  \n",
       "cityCenters_nearest                        1.000000        0.034923  \n",
       "ceiling_height                             0.034923        1.000000  "
      ]
     },
     "execution_count": 102,
     "metadata": {},
     "output_type": "execute_result"
    }
   ],
   "source": [
    "# корреляция всех данных по центру города без выброса по цене\n",
    "df1_corr = (research_data_1.query('last_price < @outliners_last_price_q3 and last_price > @outliners_last_price_q1 and cityCenters_nearest < 2.5')\n",
    " [['last_price', 'rooms', 'first_day_exposition_timestemp', 'cityCenters_nearest', 'ceiling_height']]).corr()\n",
    "df1_corr"
   ]
  },
  {
   "cell_type": "code",
   "execution_count": 103,
   "metadata": {},
   "outputs": [
    {
     "data": {
      "text/html": [
       "<div>\n",
       "<style scoped>\n",
       "    .dataframe tbody tr th:only-of-type {\n",
       "        vertical-align: middle;\n",
       "    }\n",
       "\n",
       "    .dataframe tbody tr th {\n",
       "        vertical-align: top;\n",
       "    }\n",
       "\n",
       "    .dataframe thead th {\n",
       "        text-align: right;\n",
       "    }\n",
       "</style>\n",
       "<table border=\"1\" class=\"dataframe\">\n",
       "  <thead>\n",
       "    <tr style=\"text-align: right;\">\n",
       "      <th></th>\n",
       "      <th>last_price</th>\n",
       "      <th>rooms</th>\n",
       "      <th>first_day_exposition_timestemp</th>\n",
       "      <th>cityCenters_nearest</th>\n",
       "      <th>ceiling_height</th>\n",
       "    </tr>\n",
       "  </thead>\n",
       "  <tbody>\n",
       "    <tr>\n",
       "      <th>last_price</th>\n",
       "      <td>1.000000</td>\n",
       "      <td>0.542112</td>\n",
       "      <td>-0.057581</td>\n",
       "      <td>-0.382069</td>\n",
       "      <td>0.084548</td>\n",
       "    </tr>\n",
       "    <tr>\n",
       "      <th>rooms</th>\n",
       "      <td>0.542112</td>\n",
       "      <td>1.000000</td>\n",
       "      <td>-0.083887</td>\n",
       "      <td>-0.221964</td>\n",
       "      <td>0.026118</td>\n",
       "    </tr>\n",
       "    <tr>\n",
       "      <th>first_day_exposition_timestemp</th>\n",
       "      <td>-0.057581</td>\n",
       "      <td>-0.083887</td>\n",
       "      <td>1.000000</td>\n",
       "      <td>0.077271</td>\n",
       "      <td>0.006439</td>\n",
       "    </tr>\n",
       "    <tr>\n",
       "      <th>cityCenters_nearest</th>\n",
       "      <td>-0.382069</td>\n",
       "      <td>-0.221964</td>\n",
       "      <td>0.077271</td>\n",
       "      <td>1.000000</td>\n",
       "      <td>-0.074921</td>\n",
       "    </tr>\n",
       "    <tr>\n",
       "      <th>ceiling_height</th>\n",
       "      <td>0.084548</td>\n",
       "      <td>0.026118</td>\n",
       "      <td>0.006439</td>\n",
       "      <td>-0.074921</td>\n",
       "      <td>1.000000</td>\n",
       "    </tr>\n",
       "  </tbody>\n",
       "</table>\n",
       "</div>"
      ],
      "text/plain": [
       "                                last_price     rooms  \\\n",
       "last_price                        1.000000  0.542112   \n",
       "rooms                             0.542112  1.000000   \n",
       "first_day_exposition_timestemp   -0.057581 -0.083887   \n",
       "cityCenters_nearest              -0.382069 -0.221964   \n",
       "ceiling_height                    0.084548  0.026118   \n",
       "\n",
       "                                first_day_exposition_timestemp  \\\n",
       "last_price                                           -0.057581   \n",
       "rooms                                                -0.083887   \n",
       "first_day_exposition_timestemp                        1.000000   \n",
       "cityCenters_nearest                                   0.077271   \n",
       "ceiling_height                                        0.006439   \n",
       "\n",
       "                                cityCenters_nearest  ceiling_height  \n",
       "last_price                                -0.382069        0.084548  \n",
       "rooms                                     -0.221964        0.026118  \n",
       "first_day_exposition_timestemp             0.077271        0.006439  \n",
       "cityCenters_nearest                        1.000000       -0.074921  \n",
       "ceiling_height                            -0.074921        1.000000  "
      ]
     },
     "execution_count": 103,
     "metadata": {},
     "output_type": "execute_result"
    }
   ],
   "source": [
    "# данные коррелиций для всего остального города\n",
    "df2_corr = (research_data_1.query('last_price < @outliners_last_price_q3 and last_price > @outliners_last_price_q1 and cityCenters_nearest > 2.5')\n",
    " [['last_price', 'rooms', 'first_day_exposition_timestemp', 'cityCenters_nearest', 'ceiling_height']].corr())\n",
    "df2_corr"
   ]
  },
  {
   "cell_type": "code",
   "execution_count": 105,
   "metadata": {
    "scrolled": true
   },
   "outputs": [
    {
     "data": {
      "image/png": "[encoded data removed]",
      "text/plain": [
       "<Figure size 720x720 with 6 Axes>"
      ]
     },
     "metadata": {
      "needs_background": "light"
     },
     "output_type": "display_data"
    },
    {
     "data": {
      "image/png": "[encoded data removed]",
      "text/plain": [
       "<Figure size 720x720 with 6 Axes>"
      ]
     },
     "metadata": {
      "needs_background": "light"
     },
     "output_type": "display_data"
    }
   ],
   "source": [
    "# корреляция всех данных по центру города без выброса по цене\n",
    "df1 = ((research_data_1.query('last_price < @outliners_last_price_q3 and last_price > @outliners_last_price_q1 and cityCenters_nearest < 2.5')\n",
    " [['last_price', 'rooms', 'first_day_exposition_timestemp', 'cityCenters_nearest', 'ceiling_height']]))\n",
    "\n",
    "# данные коррелиций для всего остального города\n",
    "df2 = (research_data_1.query('last_price < @outliners_last_price_q3 and last_price > @outliners_last_price_q1 and cityCenters_nearest > 2.5')\n",
    " [['last_price', 'rooms', 'first_day_exposition_timestemp', 'cityCenters_nearest', 'ceiling_height']])\n",
    "\n",
    "#графики для центра города\n",
    "df1.hist(figsize=(10, 10), bins=20)\n",
    "#графики для остального города\n",
    "df2.hist(figsize=(10, 10), bins=20)\n",
    "plt.show()"
   ]
  },
  {
   "cell_type": "markdown",
   "metadata": {},
   "source": [
    "# Вывод\n",
    "\n",
    "<font color='red'> Центр города: </font> \n",
    "\n",
    "Из полученных данных корреляции можем сделать вывод что самым влиятельным фактором на формирование цены является только количество комнат с результатом корреляции 0.481113, \n",
    "\n",
    "Вторым по значимости и с небольшой положительной корреляцией стал параметр высота потолков 0.193087\n",
    "\n",
    "<font color='red'> Данные по остальному городу имеют следующие характерные отличия: </font> \n",
    "\n",
    "Расстояние от центра приобретает чёткую отрицательную тенденцию -0.382069\n",
    "\n",
    "Корреляция с количеством комнат стала сильнее 0.542112\n",
    "\n",
    "Мы уже видели что корреляция с высотой околонулевая 0.084548, падение корреляции на больших данных доказывает что это малозначимй фактор для ценообразования\n",
    "\n"
   ]
  },
  {
   "cell_type": "markdown",
   "metadata": {},
   "source": [
    "## Общий вывод"
   ]
  },
  {
   "cell_type": "markdown",
   "metadata": {},
   "source": [
    "<font color='red'> Предобработка: </font> \n",
    "\n",
    "В данных было большое количество пропущенных значений, но для работы нас интересовали только следующие колонки: \n",
    "колонка ceiling_height имеет 38.8% пропусков.\n",
    "колонка floors_total имеет 0.4% пропусков.\n",
    "колонка kitchen_area имеет 9.6% пропусков.\n",
    "колонка living_area имеет 8.0% пропусков.\n",
    "колонка locality_name имеет 0.2% пропусков.\n",
    "колонка cityCenters_nearest имеет 23.3% пропусков.\n",
    "\n",
    "Пропуски в колонке ceiling_height были заполнены медианой, т.к. параметр является малозначимым, а медиана в целом даёт реальное представление о порядке вещей.\n",
    "\n",
    "колонка floors_total имеет 0.4% пропусков и колонка locality_name имеет 0.2% пропусков > 1%. Пренебрегли этими данными в работе.\n",
    "\n",
    "колонка kitchen_area имеет 9.6% пропусков и колонка living_area имеет 8.0% пропусков. В обоих случаях площадь была заполнена медианой из сгруппированным по количеству комнат данных.\n",
    "\n",
    "колонка days_exposition имеет 13.4% пропусков. Изучив данные пришел к выводу, что пропуски в данных не отображаются по причине того что объявление всё ещё находится на сайте и подсчёт для таких данных в этой колонке не ведётся. Заполнить эти данные можно определив дату выгрузки по самым поздним датам в колонке first_day_exposition. Делать этого не потребовалось, т.к. в был применён другой подход. Я перевёл значения в first_day_exposition в unix time и таким образом делал вычисления. Таким подходом данные как раз отображали давность размещения объявлений\n",
    "\n",
    "</b>Общие итоги предобработки:</b>\n",
    "* Произведена обработка пропущенных значений в значимых для исследования данных \n",
    "* Произведена обработка неявных дубликатов\n",
    "* Произведена замена типов данных.\n",
    "* Добавлена цена квадратного метра площади;\n",
    "* Добавлены день недели, месяц и год публикации объявления;\n",
    "* Добавлен столбец категорий этажей: первый, последний, другой;\n",
    "* Добавлены соотношение жилой и общей площади, а также отношение площади кухни к общей.\n",
    "* Изучены следующие параметры: площадь, цена, число комнат, высота потолков, время продажи квартиры.\n",
    "* Удалены редкие и выбивающиеся значения\n",
    "\n",
    "\n",
    "<font color='red'> Исследовательский анализ данных: </font> \n",
    "\n",
    "Итогом исследовательского анализа стала обработка результатов выборки и корреляции параметров для центра города Санкт-Петербург и остальной его частью.\n",
    "\n",
    "Глобально были выявлены следующие закономерности (в скобках указана корреляция):\n",
    "* С удалением от города цена уменьшалась, это видно по отрицательной корреляции для остальной части города (-0.382069) против (-0.071102) для его центральной части;\n",
    "* Высота потолка в целом имеет не очень большую корреляцию с ценой, а на больших данных и вовсе теряет своё значение. Центр (0.193087), остально город (0.084548);\n",
    "* День публикации не играет никакой роли, околонулевая кореляция для обоих случаев. Центр (-0.053358), остальной город(-0.057581);\n",
    "* Самая сильная корреляция в обоих случаях появляется в количестве комнат, что очень логично, ведь комнаты коррелируются с общей площадью, а следовательно и с ценой. На больших данных параметр комнат только усиливается. Центр (0.481113), остальной город(0.542112);\n",
    "\n",
    "\n"
   ]
  }
 ],
 "metadata": {
  "ExecuteTimeLog": [
   {
    "duration": 680,
    "start_time": "2022-02-13T18:57:58.336Z"
   },
   {
    "duration": 14,
    "start_time": "2022-02-13T18:57:59.018Z"
   },
   {
    "duration": 58,
    "start_time": "2022-02-13T18:57:59.035Z"
   },
   {
    "duration": 16,
    "start_time": "2022-02-13T18:57:59.095Z"
   },
   {
    "duration": 5,
    "start_time": "2022-02-13T18:57:59.113Z"
   },
   {
    "duration": 8,
    "start_time": "2022-02-13T18:57:59.120Z"
   },
   {
    "duration": 11,
    "start_time": "2022-02-13T18:57:59.129Z"
   },
   {
    "duration": 32,
    "start_time": "2022-02-13T18:57:59.142Z"
   },
   {
    "duration": 5,
    "start_time": "2022-02-13T18:57:59.176Z"
   },
   {
    "duration": 6,
    "start_time": "2022-02-13T18:57:59.183Z"
   },
   {
    "duration": 7,
    "start_time": "2022-02-13T18:57:59.190Z"
   },
   {
    "duration": 260,
    "start_time": "2022-02-13T18:57:59.198Z"
   },
   {
    "duration": 2,
    "start_time": "2022-02-13T18:57:59.460Z"
   },
   {
    "duration": 45,
    "start_time": "2022-02-13T18:57:59.463Z"
   },
   {
    "duration": 6,
    "start_time": "2022-02-13T18:57:59.509Z"
   },
   {
    "duration": 9,
    "start_time": "2022-02-13T18:57:59.517Z"
   },
   {
    "duration": 8,
    "start_time": "2022-02-13T18:57:59.527Z"
   },
   {
    "duration": 17,
    "start_time": "2022-02-13T18:57:59.537Z"
   },
   {
    "duration": 17,
    "start_time": "2022-02-13T18:57:59.555Z"
   },
   {
    "duration": 17,
    "start_time": "2022-02-13T18:57:59.574Z"
   },
   {
    "duration": 5,
    "start_time": "2022-02-13T18:57:59.592Z"
   },
   {
    "duration": 24,
    "start_time": "2022-02-13T18:57:59.599Z"
   },
   {
    "duration": 11,
    "start_time": "2022-02-13T18:57:59.626Z"
   },
   {
    "duration": 4,
    "start_time": "2022-02-13T18:57:59.640Z"
   },
   {
    "duration": 996,
    "start_time": "2022-02-13T18:57:59.646Z"
   },
   {
    "duration": 217,
    "start_time": "2022-02-13T18:58:00.643Z"
   },
   {
    "duration": 201,
    "start_time": "2022-02-13T18:58:00.862Z"
   },
   {
    "duration": 208,
    "start_time": "2022-02-13T18:58:01.064Z"
   },
   {
    "duration": 7,
    "start_time": "2022-02-13T18:58:01.274Z"
   },
   {
    "duration": 200,
    "start_time": "2022-02-13T18:58:01.283Z"
   },
   {
    "duration": 138,
    "start_time": "2022-02-13T18:58:01.485Z"
   },
   {
    "duration": 7,
    "start_time": "2022-02-13T18:58:01.625Z"
   },
   {
    "duration": 150,
    "start_time": "2022-02-13T18:58:01.634Z"
   },
   {
    "duration": 14,
    "start_time": "2022-02-13T18:58:01.785Z"
   },
   {
    "duration": 6,
    "start_time": "2022-02-13T18:58:01.800Z"
   },
   {
    "duration": 25,
    "start_time": "2022-02-13T18:58:01.808Z"
   },
   {
    "duration": 16,
    "start_time": "2022-02-13T18:58:01.835Z"
   },
   {
    "duration": 31,
    "start_time": "2022-02-13T18:58:01.852Z"
   },
   {
    "duration": 22,
    "start_time": "2022-02-13T18:58:01.884Z"
   },
   {
    "duration": 17,
    "start_time": "2022-02-13T18:58:01.908Z"
   },
   {
    "duration": 30,
    "start_time": "2022-02-13T18:58:01.927Z"
   },
   {
    "duration": 12,
    "start_time": "2022-02-13T18:58:01.958Z"
   },
   {
    "duration": 13,
    "start_time": "2022-02-13T18:58:01.971Z"
   },
   {
    "duration": 16,
    "start_time": "2022-02-13T18:58:01.986Z"
   },
   {
    "duration": 137,
    "start_time": "2022-02-13T18:58:02.003Z"
   },
   {
    "duration": 119,
    "start_time": "2022-02-13T18:58:02.142Z"
   },
   {
    "duration": 391,
    "start_time": "2022-02-13T18:58:02.262Z"
   },
   {
    "duration": 33,
    "start_time": "2022-02-13T18:58:02.655Z"
   },
   {
    "duration": 206,
    "start_time": "2022-02-13T18:58:02.690Z"
   },
   {
    "duration": 338,
    "start_time": "2022-02-13T18:58:02.898Z"
   },
   {
    "duration": 11,
    "start_time": "2022-02-13T18:58:03.238Z"
   },
   {
    "duration": 344,
    "start_time": "2022-02-13T18:58:03.251Z"
   },
   {
    "duration": 4,
    "start_time": "2022-02-13T18:58:03.597Z"
   },
   {
    "duration": 496,
    "start_time": "2022-02-13T18:58:03.603Z"
   },
   {
    "duration": 3,
    "start_time": "2022-02-13T18:58:04.101Z"
   },
   {
    "duration": 182,
    "start_time": "2022-02-13T18:58:04.106Z"
   },
   {
    "duration": 144,
    "start_time": "2022-02-13T18:58:04.290Z"
   },
   {
    "duration": 10,
    "start_time": "2022-02-13T18:58:04.436Z"
   },
   {
    "duration": 26,
    "start_time": "2022-02-13T18:58:04.448Z"
   },
   {
    "duration": 20,
    "start_time": "2022-02-13T18:58:04.476Z"
   },
   {
    "duration": 295,
    "start_time": "2022-02-13T18:58:04.497Z"
   },
   {
    "duration": 14,
    "start_time": "2022-02-13T18:58:04.794Z"
   },
   {
    "duration": 14,
    "start_time": "2022-02-13T18:58:04.809Z"
   },
   {
    "duration": 644,
    "start_time": "2022-02-13T18:58:24.304Z"
   },
   {
    "duration": 15,
    "start_time": "2022-02-13T18:58:24.950Z"
   },
   {
    "duration": 58,
    "start_time": "2022-02-13T18:58:24.967Z"
   },
   {
    "duration": 18,
    "start_time": "2022-02-13T18:58:25.027Z"
   },
   {
    "duration": 5,
    "start_time": "2022-02-13T18:58:25.046Z"
   },
   {
    "duration": 23,
    "start_time": "2022-02-13T18:58:25.053Z"
   },
   {
    "duration": 7,
    "start_time": "2022-02-13T18:58:25.078Z"
   },
   {
    "duration": 6,
    "start_time": "2022-02-13T18:58:25.087Z"
   },
   {
    "duration": 5,
    "start_time": "2022-02-13T18:58:25.096Z"
   },
   {
    "duration": 4,
    "start_time": "2022-02-13T18:58:25.103Z"
   },
   {
    "duration": 12,
    "start_time": "2022-02-13T18:58:25.108Z"
   },
   {
    "duration": 282,
    "start_time": "2022-02-13T18:58:25.122Z"
   },
   {
    "duration": 3,
    "start_time": "2022-02-13T18:58:25.405Z"
   },
   {
    "duration": 32,
    "start_time": "2022-02-13T18:58:25.409Z"
   },
   {
    "duration": 6,
    "start_time": "2022-02-13T18:58:25.443Z"
   },
   {
    "duration": 25,
    "start_time": "2022-02-13T18:58:25.451Z"
   },
   {
    "duration": 4,
    "start_time": "2022-02-13T18:58:25.478Z"
   },
   {
    "duration": 13,
    "start_time": "2022-02-13T18:58:25.483Z"
   },
   {
    "duration": 8,
    "start_time": "2022-02-13T18:58:25.497Z"
   },
   {
    "duration": 14,
    "start_time": "2022-02-13T18:58:25.506Z"
   },
   {
    "duration": 8,
    "start_time": "2022-02-13T18:58:25.521Z"
   },
   {
    "duration": 48,
    "start_time": "2022-02-13T18:58:25.530Z"
   },
   {
    "duration": 14,
    "start_time": "2022-02-13T18:58:25.580Z"
   },
   {
    "duration": 4,
    "start_time": "2022-02-13T18:58:25.596Z"
   },
   {
    "duration": 854,
    "start_time": "2022-02-13T18:58:25.602Z"
   },
   {
    "duration": 209,
    "start_time": "2022-02-13T18:58:26.458Z"
   },
   {
    "duration": 185,
    "start_time": "2022-02-13T18:58:26.674Z"
   },
   {
    "duration": 203,
    "start_time": "2022-02-13T18:58:26.860Z"
   },
   {
    "duration": 8,
    "start_time": "2022-02-13T18:58:27.071Z"
   },
   {
    "duration": 186,
    "start_time": "2022-02-13T18:58:27.081Z"
   },
   {
    "duration": 135,
    "start_time": "2022-02-13T18:58:27.268Z"
   },
   {
    "duration": 6,
    "start_time": "2022-02-13T18:58:27.405Z"
   },
   {
    "duration": 146,
    "start_time": "2022-02-13T18:58:27.412Z"
   },
   {
    "duration": 20,
    "start_time": "2022-02-13T18:58:27.560Z"
   },
   {
    "duration": 5,
    "start_time": "2022-02-13T18:58:27.581Z"
   },
   {
    "duration": 18,
    "start_time": "2022-02-13T18:58:27.588Z"
   },
   {
    "duration": 10,
    "start_time": "2022-02-13T18:58:27.608Z"
   },
   {
    "duration": 9,
    "start_time": "2022-02-13T18:58:27.620Z"
   },
   {
    "duration": 44,
    "start_time": "2022-02-13T18:58:27.631Z"
   },
   {
    "duration": 9,
    "start_time": "2022-02-13T18:58:27.677Z"
   },
   {
    "duration": 29,
    "start_time": "2022-02-13T18:58:27.688Z"
   },
   {
    "duration": 8,
    "start_time": "2022-02-13T18:58:27.719Z"
   },
   {
    "duration": 4,
    "start_time": "2022-02-13T18:58:27.729Z"
   },
   {
    "duration": 41,
    "start_time": "2022-02-13T18:58:27.734Z"
   },
   {
    "duration": 170,
    "start_time": "2022-02-13T18:58:27.776Z"
   },
   {
    "duration": 123,
    "start_time": "2022-02-13T18:58:27.948Z"
   },
   {
    "duration": 383,
    "start_time": "2022-02-13T18:58:28.073Z"
   },
   {
    "duration": 31,
    "start_time": "2022-02-13T18:58:28.458Z"
   },
   {
    "duration": 213,
    "start_time": "2022-02-13T18:58:28.491Z"
   },
   {
    "duration": 332,
    "start_time": "2022-02-13T18:58:28.705Z"
   },
   {
    "duration": 8,
    "start_time": "2022-02-13T18:58:29.038Z"
   },
   {
    "duration": 371,
    "start_time": "2022-02-13T18:58:29.048Z"
   },
   {
    "duration": 4,
    "start_time": "2022-02-13T18:58:29.420Z"
   },
   {
    "duration": 435,
    "start_time": "2022-02-13T18:58:29.425Z"
   },
   {
    "duration": 3,
    "start_time": "2022-02-13T18:58:29.861Z"
   },
   {
    "duration": 182,
    "start_time": "2022-02-13T18:58:29.866Z"
   },
   {
    "duration": 148,
    "start_time": "2022-02-13T18:58:30.050Z"
   },
   {
    "duration": 9,
    "start_time": "2022-02-13T18:58:30.200Z"
   },
   {
    "duration": 13,
    "start_time": "2022-02-13T18:58:30.211Z"
   },
   {
    "duration": 8,
    "start_time": "2022-02-13T18:58:30.225Z"
   },
   {
    "duration": 303,
    "start_time": "2022-02-13T18:58:30.234Z"
   },
   {
    "duration": 12,
    "start_time": "2022-02-13T18:58:30.539Z"
   },
   {
    "duration": 29,
    "start_time": "2022-02-13T18:58:30.553Z"
   },
   {
    "duration": 1520,
    "start_time": "2022-02-17T15:35:25.837Z"
   },
   {
    "duration": 16,
    "start_time": "2022-02-17T15:35:27.360Z"
   },
   {
    "duration": 89,
    "start_time": "2022-02-17T15:35:27.379Z"
   },
   {
    "duration": 46,
    "start_time": "2022-02-17T15:35:27.471Z"
   },
   {
    "duration": 9,
    "start_time": "2022-02-17T15:35:27.519Z"
   },
   {
    "duration": 22,
    "start_time": "2022-02-17T15:35:27.530Z"
   },
   {
    "duration": 19,
    "start_time": "2022-02-17T15:35:27.555Z"
   },
   {
    "duration": 31,
    "start_time": "2022-02-17T15:35:27.579Z"
   },
   {
    "duration": 8,
    "start_time": "2022-02-17T15:35:27.614Z"
   },
   {
    "duration": 10,
    "start_time": "2022-02-17T15:35:27.624Z"
   },
   {
    "duration": 19,
    "start_time": "2022-02-17T15:35:27.636Z"
   },
   {
    "duration": 162,
    "start_time": "2022-02-17T15:35:27.657Z"
   },
   {
    "duration": 44,
    "start_time": "2022-02-17T15:35:27.821Z"
   },
   {
    "duration": 25,
    "start_time": "2022-02-17T15:35:27.868Z"
   },
   {
    "duration": 17,
    "start_time": "2022-02-17T15:35:27.896Z"
   },
   {
    "duration": 11,
    "start_time": "2022-02-17T15:35:27.915Z"
   },
   {
    "duration": 24,
    "start_time": "2022-02-17T15:35:27.929Z"
   },
   {
    "duration": 39,
    "start_time": "2022-02-17T15:35:27.956Z"
   },
   {
    "duration": 23,
    "start_time": "2022-02-17T15:35:27.997Z"
   },
   {
    "duration": 9,
    "start_time": "2022-02-17T15:35:28.022Z"
   },
   {
    "duration": 59,
    "start_time": "2022-02-17T15:35:28.034Z"
   },
   {
    "duration": 19,
    "start_time": "2022-02-17T15:35:28.096Z"
   },
   {
    "duration": 6,
    "start_time": "2022-02-17T15:35:28.121Z"
   },
   {
    "duration": 464,
    "start_time": "2022-02-17T15:35:28.133Z"
   },
   {
    "duration": 421,
    "start_time": "2022-02-17T15:35:28.600Z"
   },
   {
    "duration": 474,
    "start_time": "2022-02-17T15:35:29.024Z"
   },
   {
    "duration": 356,
    "start_time": "2022-02-17T15:35:29.500Z"
   },
   {
    "duration": 11,
    "start_time": "2022-02-17T15:35:29.859Z"
   },
   {
    "duration": 331,
    "start_time": "2022-02-17T15:35:29.873Z"
   },
   {
    "duration": 279,
    "start_time": "2022-02-17T15:35:30.207Z"
   },
   {
    "duration": 10,
    "start_time": "2022-02-17T15:35:30.489Z"
   },
   {
    "duration": 308,
    "start_time": "2022-02-17T15:35:30.502Z"
   },
   {
    "duration": 19,
    "start_time": "2022-02-17T15:35:30.813Z"
   },
   {
    "duration": 444,
    "start_time": "2022-02-17T15:35:30.835Z"
   },
   {
    "duration": 64,
    "start_time": "2022-02-17T15:35:31.281Z"
   },
   {
    "duration": 7,
    "start_time": "2022-02-17T15:35:31.347Z"
   },
   {
    "duration": 50,
    "start_time": "2022-02-17T15:35:31.356Z"
   },
   {
    "duration": 15,
    "start_time": "2022-02-17T15:35:31.409Z"
   },
   {
    "duration": 400,
    "start_time": "2022-02-17T15:35:31.427Z"
   },
   {
    "duration": -200136,
    "start_time": "2022-02-17T15:38:51.966Z"
   },
   {
    "duration": -200139,
    "start_time": "2022-02-17T15:38:51.972Z"
   },
   {
    "duration": -200143,
    "start_time": "2022-02-17T15:38:51.978Z"
   },
   {
    "duration": -200158,
    "start_time": "2022-02-17T15:38:51.995Z"
   },
   {
    "duration": -200162,
    "start_time": "2022-02-17T15:38:52.001Z"
   },
   {
    "duration": -200165,
    "start_time": "2022-02-17T15:38:52.007Z"
   },
   {
    "duration": -200172,
    "start_time": "2022-02-17T15:38:52.016Z"
   },
   {
    "duration": -200175,
    "start_time": "2022-02-17T15:38:52.021Z"
   },
   {
    "duration": -200178,
    "start_time": "2022-02-17T15:38:52.026Z"
   },
   {
    "duration": -200181,
    "start_time": "2022-02-17T15:38:52.032Z"
   },
   {
    "duration": -200183,
    "start_time": "2022-02-17T15:38:52.036Z"
   },
   {
    "duration": -200186,
    "start_time": "2022-02-17T15:38:52.041Z"
   },
   {
    "duration": -200188,
    "start_time": "2022-02-17T15:38:52.046Z"
   },
   {
    "duration": -200190,
    "start_time": "2022-02-17T15:38:52.050Z"
   },
   {
    "duration": -200192,
    "start_time": "2022-02-17T15:38:52.054Z"
   },
   {
    "duration": -200166,
    "start_time": "2022-02-17T15:38:52.059Z"
   },
   {
    "duration": -200168,
    "start_time": "2022-02-17T15:38:52.063Z"
   },
   {
    "duration": -200169,
    "start_time": "2022-02-17T15:38:52.067Z"
   },
   {
    "duration": -200171,
    "start_time": "2022-02-17T15:38:52.071Z"
   },
   {
    "duration": -200176,
    "start_time": "2022-02-17T15:38:52.078Z"
   },
   {
    "duration": -200180,
    "start_time": "2022-02-17T15:38:52.084Z"
   },
   {
    "duration": -200186,
    "start_time": "2022-02-17T15:38:52.092Z"
   },
   {
    "duration": -200206,
    "start_time": "2022-02-17T15:38:52.115Z"
   },
   {
    "duration": -200211,
    "start_time": "2022-02-17T15:38:52.122Z"
   },
   {
    "duration": -200216,
    "start_time": "2022-02-17T15:38:52.129Z"
   },
   {
    "duration": -200221,
    "start_time": "2022-02-17T15:38:52.136Z"
   },
   {
    "duration": -200222,
    "start_time": "2022-02-17T15:38:52.140Z"
   },
   {
    "duration": -200225,
    "start_time": "2022-02-17T15:38:52.145Z"
   },
   {
    "duration": -200227,
    "start_time": "2022-02-17T15:38:52.149Z"
   }
  ],
  "kernelspec": {
   "display_name": "Python 3",
   "language": "python",
   "name": "python3"
  },
  "language_info": {
   "codemirror_mode": {
    "name": "ipython",
    "version": 3
   },
   "file_extension": ".py",
   "mimetype": "text/x-python",
   "name": "python",
   "nbconvert_exporter": "python",
   "pygments_lexer": "ipython3",
   "version": "3.8.8"
  },
  "toc": {
   "base_numbering": 1,
   "nav_menu": {},
   "number_sections": true,
   "sideBar": true,
   "skip_h1_title": true,
   "title_cell": "Содержание",
   "title_sidebar": "Contents",
   "toc_cell": true,
   "toc_position": {
    "height": "calc(100% - 180px)",
    "left": "10px",
    "top": "150px",
    "width": "341.333px"
   },
   "toc_section_display": true,
   "toc_window_display": true
  }
 },
 "nbformat": 4,
 "nbformat_minor": 2
}
